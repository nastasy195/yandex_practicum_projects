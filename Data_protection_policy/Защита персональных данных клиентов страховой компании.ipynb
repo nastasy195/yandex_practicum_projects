{
 "cells": [
  {
   "cell_type": "markdown",
   "metadata": {},
   "source": [
    "# Защита персональных данных клиентов страховой компании"
   ]
  },
  {
   "cell_type": "markdown",
   "metadata": {},
   "source": [
    "## Описание проекта:\n",
    "Для защиты данных клиентов страховой компании разработаны методы преобразования данных, чтобы по ним было сложно восстановить персональную информацию. Реализован простейший алгоритм защиты данных с сохранением их фактической ценности: шифрование данных выполнено с помощью умножения датасета на *случайную обратимую матрицу*.\n",
    "\n",
    "Описание датесетов: 5000 наблюдений, каждое из которых представляет клиента компании и содержит 5 признаков: пол, возраст, зарплата, размер семьи и количество страховых выплат."
   ]
  },
  {
   "cell_type": "markdown",
   "metadata": {
    "toc": true
   },
   "source": [
    "<h1>Содержание<span class=\"tocSkip\"></span></h1>\n",
    "<div class=\"toc\"><ul class=\"toc-item\"><li><span><a href=\"#Загрузка-данных\" data-toc-modified-id=\"Загрузка-данных-1\"><span class=\"toc-item-num\">1&nbsp;&nbsp;</span>Загрузка данных</a></span><ul class=\"toc-item\"><li><span><a href=\"#Вывод:\" data-toc-modified-id=\"Вывод:-1.1\"><span class=\"toc-item-num\">1.1&nbsp;&nbsp;</span>Вывод:</a></span></li></ul></li><li><span><a href=\"#Умножение-матриц\" data-toc-modified-id=\"Умножение-матриц-2\"><span class=\"toc-item-num\">2&nbsp;&nbsp;</span>Умножение матриц</a></span><ul class=\"toc-item\"><li><span><a href=\"#Эксперимент--проверки-оценки-качества-моделей\" data-toc-modified-id=\"Эксперимент--проверки-оценки-качества-моделей-2.1\"><span class=\"toc-item-num\">2.1&nbsp;&nbsp;</span>Эксперимент  проверки оценки качества моделей</a></span></li><li><span><a href=\"#Вывод-по-результатам-эксперимента\" data-toc-modified-id=\"Вывод-по-результатам-эксперимента-2.2\"><span class=\"toc-item-num\">2.2&nbsp;&nbsp;</span>Вывод по результатам эксперимента</a></span></li></ul></li><li><span><a href=\"#Алгоритм-преобразования\" data-toc-modified-id=\"Алгоритм-преобразования-3\"><span class=\"toc-item-num\">3&nbsp;&nbsp;</span>Алгоритм преобразования</a></span></li><li><span><a href=\"#Проверка-алгоритма\" data-toc-modified-id=\"Проверка-алгоритма-4\"><span class=\"toc-item-num\">4&nbsp;&nbsp;</span>Проверка алгоритма</a></span><ul class=\"toc-item\"><li><span><a href=\"#Вывод-по-проекту:\" data-toc-modified-id=\"Вывод-по-проекту:-4.1\"><span class=\"toc-item-num\">4.1&nbsp;&nbsp;</span>Вывод по проекту:</a></span></li></ul></li><li><span><a href=\"#Чек-лист-проверки\" data-toc-modified-id=\"Чек-лист-проверки-5\"><span class=\"toc-item-num\">5&nbsp;&nbsp;</span>Чек-лист проверки</a></span></li></ul></div>"
   ]
  },
  {
   "cell_type": "markdown",
   "metadata": {},
   "source": [
    "## Загрузка данных"
   ]
  },
  {
   "cell_type": "code",
   "execution_count": 24,
   "metadata": {},
   "outputs": [],
   "source": [
    "import pandas as pd\n",
    "import numpy as np\n",
    "import matplotlib.pyplot as plt\n",
    "import seaborn as sns\n",
    "import warnings\n",
    "\n",
    "from numpy.linalg import inv,det\n",
    "from numpy.random import RandomState\n",
    "\n",
    "from sklearn.linear_model import LinearRegression\n",
    "from sklearn.metrics import r2_score\n",
    "from sklearn.model_selection import train_test_split"
   ]
  },
  {
   "cell_type": "code",
   "execution_count": 25,
   "metadata": {},
   "outputs": [],
   "source": [
    "try:\n",
    "    data = pd.read_csv('/datasets/insurance.csv',sep=',')\n",
    "except:\n",
    "    data = pd.read_csv('insurance.csv',sep=',')"
   ]
  },
  {
   "cell_type": "code",
   "execution_count": 26,
   "metadata": {},
   "outputs": [
    {
     "name": "stdout",
     "output_type": "stream",
     "text": [
      "<class 'pandas.core.frame.DataFrame'>\n",
      "RangeIndex: 5000 entries, 0 to 4999\n",
      "Data columns (total 5 columns):\n",
      " #   Column             Non-Null Count  Dtype  \n",
      "---  ------             --------------  -----  \n",
      " 0   Пол                5000 non-null   int64  \n",
      " 1   Возраст            5000 non-null   float64\n",
      " 2   Зарплата           5000 non-null   float64\n",
      " 3   Члены семьи        5000 non-null   int64  \n",
      " 4   Страховые выплаты  5000 non-null   int64  \n",
      "dtypes: float64(2), int64(3)\n",
      "memory usage: 195.4 KB\n",
      "None\n"
     ]
    },
    {
     "data": {
      "text/html": [
       "<div>\n",
       "<style scoped>\n",
       "    .dataframe tbody tr th:only-of-type {\n",
       "        vertical-align: middle;\n",
       "    }\n",
       "\n",
       "    .dataframe tbody tr th {\n",
       "        vertical-align: top;\n",
       "    }\n",
       "\n",
       "    .dataframe thead th {\n",
       "        text-align: right;\n",
       "    }\n",
       "</style>\n",
       "<table border=\"1\" class=\"dataframe\">\n",
       "  <thead>\n",
       "    <tr style=\"text-align: right;\">\n",
       "      <th></th>\n",
       "      <th>Пол</th>\n",
       "      <th>Возраст</th>\n",
       "      <th>Зарплата</th>\n",
       "      <th>Члены семьи</th>\n",
       "      <th>Страховые выплаты</th>\n",
       "    </tr>\n",
       "  </thead>\n",
       "  <tbody>\n",
       "    <tr>\n",
       "      <th>0</th>\n",
       "      <td>1</td>\n",
       "      <td>41.0</td>\n",
       "      <td>49600.0</td>\n",
       "      <td>1</td>\n",
       "      <td>0</td>\n",
       "    </tr>\n",
       "    <tr>\n",
       "      <th>1</th>\n",
       "      <td>0</td>\n",
       "      <td>46.0</td>\n",
       "      <td>38000.0</td>\n",
       "      <td>1</td>\n",
       "      <td>1</td>\n",
       "    </tr>\n",
       "    <tr>\n",
       "      <th>2</th>\n",
       "      <td>0</td>\n",
       "      <td>29.0</td>\n",
       "      <td>21000.0</td>\n",
       "      <td>0</td>\n",
       "      <td>0</td>\n",
       "    </tr>\n",
       "    <tr>\n",
       "      <th>3</th>\n",
       "      <td>0</td>\n",
       "      <td>21.0</td>\n",
       "      <td>41700.0</td>\n",
       "      <td>2</td>\n",
       "      <td>0</td>\n",
       "    </tr>\n",
       "    <tr>\n",
       "      <th>4</th>\n",
       "      <td>1</td>\n",
       "      <td>28.0</td>\n",
       "      <td>26100.0</td>\n",
       "      <td>0</td>\n",
       "      <td>0</td>\n",
       "    </tr>\n",
       "  </tbody>\n",
       "</table>\n",
       "</div>"
      ],
      "text/plain": [
       "   Пол  Возраст  Зарплата  Члены семьи  Страховые выплаты\n",
       "0    1     41.0   49600.0            1                  0\n",
       "1    0     46.0   38000.0            1                  1\n",
       "2    0     29.0   21000.0            0                  0\n",
       "3    0     21.0   41700.0            2                  0\n",
       "4    1     28.0   26100.0            0                  0"
      ]
     },
     "metadata": {},
     "output_type": "display_data"
    },
    {
     "data": {
      "text/html": [
       "<div>\n",
       "<style scoped>\n",
       "    .dataframe tbody tr th:only-of-type {\n",
       "        vertical-align: middle;\n",
       "    }\n",
       "\n",
       "    .dataframe tbody tr th {\n",
       "        vertical-align: top;\n",
       "    }\n",
       "\n",
       "    .dataframe thead th {\n",
       "        text-align: right;\n",
       "    }\n",
       "</style>\n",
       "<table border=\"1\" class=\"dataframe\">\n",
       "  <thead>\n",
       "    <tr style=\"text-align: right;\">\n",
       "      <th></th>\n",
       "      <th>Пол</th>\n",
       "      <th>Возраст</th>\n",
       "      <th>Зарплата</th>\n",
       "      <th>Члены семьи</th>\n",
       "      <th>Страховые выплаты</th>\n",
       "    </tr>\n",
       "  </thead>\n",
       "  <tbody>\n",
       "    <tr>\n",
       "      <th>3536</th>\n",
       "      <td>1</td>\n",
       "      <td>42.0</td>\n",
       "      <td>52900.0</td>\n",
       "      <td>1</td>\n",
       "      <td>1</td>\n",
       "    </tr>\n",
       "    <tr>\n",
       "      <th>4962</th>\n",
       "      <td>0</td>\n",
       "      <td>49.0</td>\n",
       "      <td>32500.0</td>\n",
       "      <td>1</td>\n",
       "      <td>2</td>\n",
       "    </tr>\n",
       "    <tr>\n",
       "      <th>4702</th>\n",
       "      <td>0</td>\n",
       "      <td>33.0</td>\n",
       "      <td>33700.0</td>\n",
       "      <td>2</td>\n",
       "      <td>0</td>\n",
       "    </tr>\n",
       "  </tbody>\n",
       "</table>\n",
       "</div>"
      ],
      "text/plain": [
       "      Пол  Возраст  Зарплата  Члены семьи  Страховые выплаты\n",
       "3536    1     42.0   52900.0            1                  1\n",
       "4962    0     49.0   32500.0            1                  2\n",
       "4702    0     33.0   33700.0            2                  0"
      ]
     },
     "metadata": {},
     "output_type": "display_data"
    },
    {
     "data": {
      "text/html": [
       "<div>\n",
       "<style scoped>\n",
       "    .dataframe tbody tr th:only-of-type {\n",
       "        vertical-align: middle;\n",
       "    }\n",
       "\n",
       "    .dataframe tbody tr th {\n",
       "        vertical-align: top;\n",
       "    }\n",
       "\n",
       "    .dataframe thead th {\n",
       "        text-align: right;\n",
       "    }\n",
       "</style>\n",
       "<table border=\"1\" class=\"dataframe\">\n",
       "  <thead>\n",
       "    <tr style=\"text-align: right;\">\n",
       "      <th></th>\n",
       "      <th>Пол</th>\n",
       "      <th>Возраст</th>\n",
       "      <th>Зарплата</th>\n",
       "      <th>Члены семьи</th>\n",
       "      <th>Страховые выплаты</th>\n",
       "    </tr>\n",
       "  </thead>\n",
       "  <tbody>\n",
       "    <tr>\n",
       "      <th>count</th>\n",
       "      <td>5000.000000</td>\n",
       "      <td>5000.000000</td>\n",
       "      <td>5000.000000</td>\n",
       "      <td>5000.000000</td>\n",
       "      <td>5000.000000</td>\n",
       "    </tr>\n",
       "    <tr>\n",
       "      <th>mean</th>\n",
       "      <td>0.499000</td>\n",
       "      <td>30.952800</td>\n",
       "      <td>39916.360000</td>\n",
       "      <td>1.194200</td>\n",
       "      <td>0.148000</td>\n",
       "    </tr>\n",
       "    <tr>\n",
       "      <th>std</th>\n",
       "      <td>0.500049</td>\n",
       "      <td>8.440807</td>\n",
       "      <td>9900.083569</td>\n",
       "      <td>1.091387</td>\n",
       "      <td>0.463183</td>\n",
       "    </tr>\n",
       "    <tr>\n",
       "      <th>min</th>\n",
       "      <td>0.000000</td>\n",
       "      <td>18.000000</td>\n",
       "      <td>5300.000000</td>\n",
       "      <td>0.000000</td>\n",
       "      <td>0.000000</td>\n",
       "    </tr>\n",
       "    <tr>\n",
       "      <th>25%</th>\n",
       "      <td>0.000000</td>\n",
       "      <td>24.000000</td>\n",
       "      <td>33300.000000</td>\n",
       "      <td>0.000000</td>\n",
       "      <td>0.000000</td>\n",
       "    </tr>\n",
       "    <tr>\n",
       "      <th>50%</th>\n",
       "      <td>0.000000</td>\n",
       "      <td>30.000000</td>\n",
       "      <td>40200.000000</td>\n",
       "      <td>1.000000</td>\n",
       "      <td>0.000000</td>\n",
       "    </tr>\n",
       "    <tr>\n",
       "      <th>75%</th>\n",
       "      <td>1.000000</td>\n",
       "      <td>37.000000</td>\n",
       "      <td>46600.000000</td>\n",
       "      <td>2.000000</td>\n",
       "      <td>0.000000</td>\n",
       "    </tr>\n",
       "    <tr>\n",
       "      <th>max</th>\n",
       "      <td>1.000000</td>\n",
       "      <td>65.000000</td>\n",
       "      <td>79000.000000</td>\n",
       "      <td>6.000000</td>\n",
       "      <td>5.000000</td>\n",
       "    </tr>\n",
       "  </tbody>\n",
       "</table>\n",
       "</div>"
      ],
      "text/plain": [
       "               Пол      Возраст      Зарплата  Члены семьи  Страховые выплаты\n",
       "count  5000.000000  5000.000000   5000.000000  5000.000000        5000.000000\n",
       "mean      0.499000    30.952800  39916.360000     1.194200           0.148000\n",
       "std       0.500049     8.440807   9900.083569     1.091387           0.463183\n",
       "min       0.000000    18.000000   5300.000000     0.000000           0.000000\n",
       "25%       0.000000    24.000000  33300.000000     0.000000           0.000000\n",
       "50%       0.000000    30.000000  40200.000000     1.000000           0.000000\n",
       "75%       1.000000    37.000000  46600.000000     2.000000           0.000000\n",
       "max       1.000000    65.000000  79000.000000     6.000000           5.000000"
      ]
     },
     "metadata": {},
     "output_type": "display_data"
    },
    {
     "name": "stdout",
     "output_type": "stream",
     "text": [
      "Количество дубликатов: 153\n",
      "Матрица диаграмм:\n"
     ]
    },
    {
     "data": {
      "image/png": "[encoded data removed]",
      "text/plain": [
       "<Figure size 720x720 with 25 Axes>"
      ]
     },
     "metadata": {
      "needs_background": "light"
     },
     "output_type": "display_data"
    },
    {
     "name": "stdout",
     "output_type": "stream",
     "text": [
      "Heatmap корреляций:\n"
     ]
    },
    {
     "data": {
      "image/png": "[encoded data removed]",
      "text/plain": [
       "<Figure size 720x720 with 2 Axes>"
      ]
     },
     "metadata": {
      "needs_background": "light"
     },
     "output_type": "display_data"
    }
   ],
   "source": [
    "print(data.info())\n",
    "display(data.head())\n",
    "display(data.sample(3))\n",
    "display(data.describe(include='all'))\n",
    "print('Количество дубликатов:', data.duplicated().sum())\n",
    "print('Матрица диаграмм:')\n",
    "pd.plotting.scatter_matrix(data,figsize=(10,10))\n",
    "plt.suptitle(\"Матрица диаграмм зависимостей\", size=20)\n",
    "plt.show()\n",
    "print('Heatmap корреляций:')\n",
    "plt.figure(figsize=(10, 10))\n",
    "heatmap = sns.heatmap(data.corr(), vmin=-1, vmax=1, annot=True,cmap='BrBG') \n",
    "heatmap.set_title('Correlation Heatmap', fontdict={'fontsize':10}, pad=12);\n",
    "plt.show()"
   ]
  },
  {
   "cell_type": "code",
   "execution_count": 27,
   "metadata": {},
   "outputs": [],
   "source": [
    "def drop_dup(df):\n",
    "    '''\n",
    "        Input: df - таблица pd.DataFrame\n",
    "        Output: None\n",
    "        Description: Функция удаляет дубликаты, оставляя первое вхождение.\n",
    "\n",
    "        '''\n",
    "    df.drop_duplicates(inplace=True, ignore_index=False)\n",
    "    df.reset_index(drop=True)\n",
    "    \n",
    "    \n",
    "drop_dup(data)"
   ]
  },
  {
   "cell_type": "markdown",
   "metadata": {},
   "source": [
    "### Вывод:\n",
    "\n",
    "- Предоставленный датасет имеет 4 столбца признаков (Пол, Возраст и Зарплата , Члены семьи)  \n",
    "- Один *целевой признак* Страховые выплаты  \n",
    "- Размер данных - 5000 строк\n",
    "- В данных имеются *дубликаты* в количестве 153 строки(были удалены)\n",
    "- Так же целочисленные данные в столбцах Возраст и Зарплата имеют тип float (для нашей задачи данный недочет не критичен)\n",
    "- Сильной корреляции меджу признаками и целевым признаком *нет*. Кроме как 0.65 между \"возраст\" и \"страховые выплаты\". Это умеренная корреляция."
   ]
  },
  {
   "cell_type": "markdown",
   "metadata": {},
   "source": [
    "## Умножение матриц"
   ]
  },
  {
   "cell_type": "markdown",
   "metadata": {},
   "source": [
    "В этом задании вы можете записывать формулы в *Jupyter Notebook.*\n",
    "\n",
    "Чтобы записать формулу внутри текста, окружите её символами доллара \\\\$; если снаружи —  двойными символами \\\\$\\\\$. Эти формулы записываются на языке вёрстки *LaTeX.* \n",
    "\n",
    "Для примера мы записали формулы линейной регрессии. Можете их скопировать и отредактировать, чтобы решить задачу.\n",
    "\n",
    "Работать в *LaTeX* необязательно."
   ]
  },
  {
   "cell_type": "markdown",
   "metadata": {},
   "source": [
    "Обозначения:\n",
    "\n",
    "- $X$ — матрица признаков (нулевой столбец состоит из единиц)\n",
    "\n",
    "- $y$ — вектор целевого признака\n",
    "\n",
    "- $P$ — матрица, на которую умножаются признаки\n",
    "\n",
    "- $w$ — вектор весов линейной регрессии (нулевой элемент равен сдвигу)"
   ]
  },
  {
   "cell_type": "markdown",
   "metadata": {},
   "source": [
    "Предсказания:\n",
    "\n",
    "$$\n",
    "a = Xw\n",
    "$$\n",
    "\n",
    "Задача обучения:\n",
    "\n",
    "$$\n",
    "w = \\arg\\min_w MSE(Xw, y)\n",
    "$$\n",
    "\n",
    "Формула обучения:\n",
    "\n",
    "$$\n",
    "w = (X^T X)^{-1} X^T y\n",
    "$$"
   ]
  },
  {
   "cell_type": "markdown",
   "metadata": {},
   "source": [
    "Признаки умножают на обратимую матрицу. Изменится ли качество линейной регрессии? (Её можно обучить заново.)  \n",
    "a. Изменится. Приведите примеры матриц.  \n",
    "b. Не изменится. Укажите, как связаны параметры линейной регрессии в исходной задаче и в преобразованной"
   ]
  },
  {
   "cell_type": "markdown",
   "metadata": {},
   "source": [
    "**Ответ:**  **<span style=\"text-decoration: underline\">Не изменится.</span>**\n",
    "\n",
    "**Постараемся посмотреть процесс на примере.**  \n",
    "- Разобьем наши данные на признаки и целевой признак;  \n",
    "- Создадим обратимую матрицу и просчитаем оба варианта(без умножения на обратимую матрицу и с учетом умножения);  \n",
    "- В заключении, сравнив значения `R2`, полученного для каждого из случаев."
   ]
  },
  {
   "cell_type": "markdown",
   "metadata": {},
   "source": [
    "### Эксперимент  проверки оценки качества моделей"
   ]
  },
  {
   "cell_type": "code",
   "execution_count": 29,
   "metadata": {},
   "outputs": [],
   "source": [
    "# разбили выборку на признаки и целевой признак 'Страховые выплаты':\n",
    "\n",
    "feathers = data.drop('Страховые выплаты', axis=1)\n",
    "target = data['Страховые выплаты']"
   ]
  },
  {
   "cell_type": "code",
   "execution_count": 30,
   "metadata": {},
   "outputs": [],
   "source": [
    "def quality_control(feathers,target):\n",
    "    '''\n",
    "    Input: feathers - таблица признаков (pd.DataFrame), целевой признак (pd.Series).\n",
    "    Output: None\n",
    "    Description: 1) Функция добавляет единичный столбец в матрицу признаков Х для применения \n",
    "                 сокращённой запись формулы линейной регрессии.  \n",
    "                 2) Обучает две модели:\n",
    "                     - по полученным признакам\n",
    "                     - по признакам, домноженным на обратимую матрицу\n",
    "                 3) Выводит качество получившихся предсказаний для наглядного сравнения.\n",
    "\n",
    "    '''\n",
    "    X = np.concatenate((np.ones((feathers.shape[0], 1)), feathers), axis=1)\n",
    "    y = target\n",
    "    r2_list = []\n",
    "    index_list = ['До преобразования', 'После преобразования']\n",
    "    \n",
    "    for i in range(2):\n",
    "        if i == 0:\n",
    "            w = np.linalg.inv(X.T.dot(X)).dot(X.T).dot(y)\n",
    "            a = X.dot(w)\n",
    "            r2 = r2_score(y, a)\n",
    "            r2_list.append(r2)\n",
    "        elif i == 1:\n",
    "            Z = np.random.normal(size=(X.shape[1] ,X.shape[1]))\n",
    "            if np.linalg.det(Z) != 0:\n",
    "                XZ = X.dot(Z)\n",
    "                w_XZ = np.linalg.inv(XZ.T.dot(XZ)).dot(XZ.T).dot(y)\n",
    "                a_XZ = XZ.dot(w_XZ)\n",
    "                r2_XZ = r2_score(y, a_XZ)\n",
    "                r2_list.append(r2_XZ)\n",
    "            else:\n",
    "                print('Созданная матрица - не обратимая.')\n",
    "\n",
    "    r2_df = pd.DataFrame(np.array(r2_list), index=[index_list], columns=['Коэффициент детерминации - r2'])\n",
    "    print(r2_df)   "
   ]
  },
  {
   "cell_type": "code",
   "execution_count": 31,
   "metadata": {},
   "outputs": [
    {
     "name": "stdout",
     "output_type": "stream",
     "text": [
      "                      Коэффициент детерминации - r2\n",
      "До преобразования                          0.430201\n",
      "После преобразования                       0.430201\n"
     ]
    }
   ],
   "source": [
    "quality_control(feathers,target)"
   ]
  },
  {
   "cell_type": "markdown",
   "metadata": {},
   "source": [
    "### Вывод по результатам эксперимента\n",
    "Коэффициенты оценок качества модели и модели, умноженной на обратимую матрицу - **идентичны**.  \n",
    "Докажем это."
   ]
  },
  {
   "cell_type": "markdown",
   "metadata": {},
   "source": [
    "**Обоснование:**   \n",
    "  \n",
    "Умножим признаки Х на обратимую матрицу Z и подставим эти данные в формулу обучения линейной регрессии.\n",
    "\n",
    "Таким образом, измененная формула обучения, будет выглядеть так:\n",
    "\n",
    "$$\n",
    "w_{XZ} = ((XZ)^T (XZ))^{-1} (XZ)^T y\n",
    "$$\n",
    "\n",
    "Где $ZP$ - произведение признаков Х на обратимую матрицу Z.  \n",
    "  \n",
    "  Тогда формула предсказания будет выглядеть так:  \n",
    "$$\n",
    "a_{XZ} = XZw_{XZ}\n",
    "$$\n",
    "\n",
    "  \n",
    "Матричные выражения имеют те же алгебраические приоритеты, что и числовые, плюс некоторые специфические матричные операции, такие, как **транспонирование** и **нахождение обратной матрицы**. В преобразовании получившейся формулы предсказания, нам понадобятся следующие свойства (каждое из них выделим соответствующим цветом, для наглядности):  \n",
    "  \n",
    "Одно из свойств **обратных матриц**:  \n",
    "- Обратное значение произведения обратимых матриц A и B с одинаковым числом строк и столбцов будет равно значению, полученному при умножении матриц, обратных исходным, то есть: \n",
    "$$(\\color{red}{\\text{A}}B)^{-1}=B^{-1}\\color{red}{\\text{A}}^{-1} \\; (\\color{blue}{\\text{свойство 1}}) $$      \n",
    "  \n",
    "Одно из свойств **транспонированных матриц**:  \n",
    "\n",
    "- Транспонированное произведение матриц равно произведению транспонированных матриц, взятых в обратном порядке: \n",
    "$$(\\color{red}{\\text{A}}  B)^{T}= B^{T}  \\color{red}{\\text{A}}^{T} \\; (\\color{red}{\\text{свойство 2}})$$  \n",
    "\n",
    "Свойство **обратимых матриц**:  \n",
    "\n",
    "- Произведение квадратной матрицы $A$ (в нашем случае  $Z$) на ее обратимую матрицу $B$ ($Z^{-1}$), равно единичной матрице $I_n$.  \n",
    "$$\\color{red}{\\text{A}}B = B\\color{red}{\\text{A}} = I_n \\; (\\color{green}{\\text{свойство 3}}) $$\n",
    "\n",
    "Учитывая данные свойства, можно поэтапно переписать формулу предсказания:  \n",
    "- Выводя транспонированные матрицы за скобки, применяем <font color='red'><b>(свойство 2)</b></font>:  \n",
    "$$\n",
    "a_{XZ} = XZ(\\color{red}{\\text{$(XZ)^T$}} (XZ))^{-1} \\color{red}{\\text{$(XZ)^T$}} y\\; \\; \\; \\;\\;     (1)\n",
    "$$  \n",
    "  \n",
    "  \n",
    "- Далее выводим за скобки обратимые матрицы Z согласно свойству (<font color='blue'><b>свойство 1</b></font>):\n",
    "\n",
    "$$\n",
    "a_{XZ} = XZ(\\color{blue}{\\text{$Z^T$}} X^T X\\color{blue}{\\text{$Z$}})^{-1} Z^T X^T y\\; \\; \\; \\;\\;\\;      \\;\\;(2)  \n",
    "$$  \n",
    "  \n",
    "- На выходе получаем произведение обратимых матриц <font color='green'><b>(свойство 3)</b></font> и избавляемся от единичной матрицы:  \n",
    "\n",
    "\n",
    "\n",
    "$$\n",
    "a_{XZ} = X\\color{green}{\\text{$ZZ^{-1}$}}(X^TX)^{-1}\\color{green}{\\text{$(Z^T)^{-1} Z^T$}}X^T y\\; \\; \\; \\;\\;\\;\\;     (3)\n",
    "$$  \n",
    "\n",
    "- В итоге, получаем формулу вывода предсказаний идентичную не перемноженной модели, подставив в конечное выражение $w$:\n",
    "\n",
    "$$\n",
    "a_{XZ} = X \\color{brown}{\\text{$(X^TX)^{-1}X^T y$}}\\; \\Rightarrow \\; a_{XZ} = Xw\\;\\;\\;\\;\\;\\;      (6)\n",
    "$$  \n",
    "**Вывод:**  \n",
    "<table style = \"width:30%\">\n",
    "<tr>\n",
    "<th>Предсказание</th>\n",
    "<th>Формула</th>\n",
    "</tr>\n",
    "<tr>    \n",
    "<td>До умножения</td>\n",
    "<td>$a = Xw$</td>\n",
    "</tr>\n",
    "<tr>    \n",
    "<td>После умножения</td>\n",
    "<td>$a_{XZ} = Xw$</td>\n",
    "</tr>"
   ]
  },
  {
   "cell_type": "markdown",
   "metadata": {},
   "source": [
    "<div class=\"alert alert-block alert-success\">\n",
    "<b>Комментарий:</b> Не раскрыла $(X^T X)^{-1}$, так как для неквадратных матриц $X$ и $X^T$ обратных матриц не существует. \n",
    "</div>\n"
   ]
  },
  {
   "cell_type": "markdown",
   "metadata": {},
   "source": [
    "## Алгоритм преобразования"
   ]
  },
  {
   "cell_type": "markdown",
   "metadata": {},
   "source": [
    "**Алгоритм**\n",
    "\n",
    "- Создайте квадратную, обратимую матрицу, размер которой соответствует количеству признаков обучающей выборки;\n",
    "- Получаем новую обучающую выборку, путем умножения признаков на созданную обратимую матрицу  \n",
    "    \n",
    "    \n",
    "   **Важные условия!**  \n",
    "   - Определитель создаваемой обратимой матрицы не должен быть равен нулю (основное условие обратимости матрицы).\n",
    "   - Размер содаваемой матрицы должен соответствовать количеству признаков обучаемой выборки, иначе умножение не возможно."
   ]
  },
  {
   "cell_type": "markdown",
   "metadata": {},
   "source": [
    "**Обоснование**\n",
    "\n",
    "Обоснование отсутствия потери в качестве линейной регрессии, при использовании данного метода шифрования данных клиентов, представлено выше и подтверждено экспериментом."
   ]
  },
  {
   "cell_type": "markdown",
   "metadata": {},
   "source": [
    "## Проверка алгоритма"
   ]
  },
  {
   "cell_type": "code",
   "execution_count": 22,
   "metadata": {},
   "outputs": [],
   "source": [
    "def check_algorithm(feathers_tr,target_tr):\n",
    "    '''\n",
    "    Input: feathers - таблица признаков (pd.DataFrame), целевой признак (pd.Series).\n",
    "    Output: r2_df - таблица коэффициентов детерминации r2 (pd.DataFrame)\n",
    "    Description: 1) Функция осуществляет проверку изменения качества линейной регрессии до преобразования и после.  \n",
    "                 2) Обучает две модели:\n",
    "                     - по полученным признакам\n",
    "                     - по признакам, домноженным на обратимую матрицу\n",
    "                 3) Выводит качество получившихся предсказаний для наглядного сравнения.\n",
    "\n",
    "    '''\n",
    "    X = feathers_tr\n",
    "    y = target_tr\n",
    "    r2_list = []\n",
    "    index_list = ['До преобразования', 'После преобразования']\n",
    "    \n",
    "    for i in range(2): \n",
    "        # расчет модели и коэфициента r2 на непреобразованных данных\n",
    "        if i == 0:\n",
    "            X_train, X_test, y_train, y_test = train_test_split(X, y, train_size=0.75,random_state=12345)\n",
    "            model = LinearRegression()\n",
    "            model.fit(X_train,y_train)\n",
    "            predict = model.predict(X_test)\n",
    "            \n",
    "            r2 = r2_score(y_test,predict)\n",
    "            r2_list.append(r2)\n",
    "            \n",
    "        elif i == 1:\n",
    "            # расчет модели и коэфициента r2 на преобразованных данных\n",
    "            Z = np.random.normal(size=(X.shape[1] ,X.shape[1]))\n",
    "            if np.linalg.det(Z) != 0:  # проверка матрицы на обратимость сравнением ее определителя с нулем    \n",
    "                XZ = X.dot(Z)\n",
    "                X_train_conv, X_test_conv, y_train_conv, y_test_conv = train_test_split(XZ, y, \n",
    "                                                                                        train_size=0.75,random_state=12345)\n",
    "                model_converted = LinearRegression()\n",
    "                model_converted.fit(X_train_conv,y_train_conv)\n",
    "                predict_converted = model_converted.predict(X_test_conv)\n",
    "                \n",
    "                r2_converted = r2_score(y_test_conv,predict_converted)\n",
    "                r2_list.append(r2_converted)\n",
    "            else:\n",
    "                print('Созданная матрица - не обратимая.')\n",
    "    \n",
    "    r2_df = pd.DataFrame(np.array(r2_list), index=[index_list], columns=['Коэффициент детерминации r2'])\n",
    "    return r2_df\n",
    "\n",
    "    \n",
    "    print(r2_df) "
   ]
  },
  {
   "cell_type": "code",
   "execution_count": 23,
   "metadata": {},
   "outputs": [
    {
     "data": {
      "text/html": [
       "<div>\n",
       "<style scoped>\n",
       "    .dataframe tbody tr th:only-of-type {\n",
       "        vertical-align: middle;\n",
       "    }\n",
       "\n",
       "    .dataframe tbody tr th {\n",
       "        vertical-align: top;\n",
       "    }\n",
       "\n",
       "    .dataframe thead th {\n",
       "        text-align: right;\n",
       "    }\n",
       "</style>\n",
       "<table border=\"1\" class=\"dataframe\">\n",
       "  <thead>\n",
       "    <tr style=\"text-align: right;\">\n",
       "      <th></th>\n",
       "      <th>Коэффициент детерминации r2</th>\n",
       "    </tr>\n",
       "  </thead>\n",
       "  <tbody>\n",
       "    <tr>\n",
       "      <th>До преобразования</th>\n",
       "      <td>0.423077</td>\n",
       "    </tr>\n",
       "    <tr>\n",
       "      <th>После преобразования</th>\n",
       "      <td>0.423077</td>\n",
       "    </tr>\n",
       "  </tbody>\n",
       "</table>\n",
       "</div>"
      ],
      "text/plain": [
       "                      Коэффициент детерминации r2\n",
       "До преобразования                        0.423077\n",
       "После преобразования                     0.423077"
      ]
     },
     "execution_count": 23,
     "metadata": {},
     "output_type": "execute_result"
    }
   ],
   "source": [
    "check_algorithm(feathers,target)"
   ]
  },
  {
   "cell_type": "markdown",
   "metadata": {},
   "source": [
    "### Вывод по проекту:\n",
    "\n",
    "- Разработанный метод преобразования данных, работает корректно, качество линейной регрессии идентично непреобразованным данным. Восстановить персональную информацию данных клиентов, не имея информации о методе преобразования и о ключ-матрице достаточно сложно. Таким образом, в случае домножения матрицы признаков на случайную обратимую матрицу можно обеспечить защиту данных, не потеряв в качестве модели. "
   ]
  }
 ],
 "metadata": {
  "kernelspec": {
   "display_name": "Python 3",
   "language": "python",
   "name": "python3"
  },
  "language_info": {
   "codemirror_mode": {
    "name": "ipython",
    "version": 3
   },
   "file_extension": ".py",
   "mimetype": "text/x-python",
   "name": "python",
   "nbconvert_exporter": "python",
   "pygments_lexer": "ipython3",
   "version": "3.7.4"
  },
  "toc": {
   "base_numbering": 1,
   "nav_menu": {},
   "number_sections": true,
   "sideBar": true,
   "skip_h1_title": true,
   "title_cell": "Содержание",
   "title_sidebar": "Contents",
   "toc_cell": true,
   "toc_position": {},
   "toc_section_display": true,
   "toc_window_display": true
  }
 },
 "nbformat": 4,
 "nbformat_minor": 2
}

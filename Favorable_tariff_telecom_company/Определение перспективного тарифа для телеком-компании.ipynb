{
 "cells": [
  {
   "cell_type": "markdown",
   "metadata": {},
   "source": [
    "# Определение перспективного тарифа для федерального оператора сотовой связи \n",
    "\n",
    "Клиентам доступно два тарифных плана: `Смарт` и `Ультра`. \n",
    "\n",
    "Датасет для исследования - выборка с данными 500 пользователей телеком-компании за 2018 год. В распоряжении данные об используемом тарифе, количестве сообщений, звонков и трафика для каждого пользователя.\n",
    "\n",
    "## Задачи проекта: \n",
    "Определение наиболее выгодного тарифа для планирования стратегии маркетинговых компаний: проанализировать поведение клиентов и сделать вывод — какой тариф выбрать для продвижения."
   ]
  },
  {
   "cell_type": "markdown",
   "metadata": {},
   "source": [
    "# Описание тарифных планов\n",
    "\n",
    "## *1 тариф `смарт`*\n",
    "1. Ежемес. плата: 550 рублей\n",
    "2. Что включено: 500 мин. разговора, 50 сообщений и 15 Гб веб-трафика.\n",
    "3. Цена услуг сверх тарифного плана:\n",
    "  - 1 минута разговора: 3 руб.\n",
    "  - 1 сообщение: 3 руб.\n",
    "  - 1 Гб интернет-трафика: 200 руб.\n",
    "  \n",
    "  \n",
    "## *2 тариф `ультра`*\n",
    "1. Ежемес. плата: 1950 рублей\n",
    "2. Что включено: 3000 мин. разговора, 1000 сообщений и 30 Гб веб-трафика\n",
    "3. Цена услуг сверх тарифного плана:\n",
    "  - 1 минута разговора: 1 руб.\n",
    "  - 1 сообщение: 1 руб.\n",
    "  - 1 Гб интернет-трафика: 150 руб.\n",
    "\n",
    "*Примечание:*\n",
    "`Оператор всегда округляет секунды до минут, а мегабайты — до гигабайт. \n",
    "Отдельный звонок округляется отдельно: даже если он длился всего 1 секунду, то будет засчитан как 1 минута.\n",
    "Для веб-трафика отдельные сессии не считаются. Но общая сумма за месяц округляется в бОльшую сторону. Если абонент использует 1025 мегабайт в конкретном месяце, с него возьмут плату за 2 гБ.`"
   ]
  },
  {
   "cell_type": "markdown",
   "metadata": {},
   "source": [
    "# Шаг 1. Откройте файл с данными и изучите общую информацию"
   ]
  },
  {
   "cell_type": "code",
   "execution_count": 45,
   "metadata": {},
   "outputs": [],
   "source": [
    "# подключаю необходимые библиотеки\n",
    "import pandas as pd\n",
    "import numpy as np\n",
    "import seaborn as sns\n",
    "import matplotlib.pyplot as plt \n",
    "import copy\n",
    "from scipy import stats as st\n",
    "from functools import reduce\n",
    "import warnings\n",
    "warnings.filterwarnings(\"ignore\")"
   ]
  },
  {
   "cell_type": "markdown",
   "metadata": {},
   "source": [
    "Далее открываю файлы, содержащие необходимые для дальнейшей работы таблицы и применяю метод info(), чтобы посмотреть общую информацию по каждой таблице, и метод head(), чтобы взглнуть на первые 5 строк таблиц.\n",
    "А так же пишу функцию v_counts_columns для удобного просмотра количества уникальных значений столбцов"
   ]
  },
  {
   "cell_type": "code",
   "execution_count": 46,
   "metadata": {},
   "outputs": [],
   "source": [
    "def v_counts_columns(df):\n",
    "    for column in df.columns:\n",
    "        print('Количесвто уникальных значения столбца', column)\n",
    "        print(df[column].value_counts())"
   ]
  },
  {
   "cell_type": "code",
   "execution_count": 47,
   "metadata": {},
   "outputs": [
    {
     "name": "stdout",
     "output_type": "stream",
     "text": [
      "<class 'pandas.core.frame.DataFrame'>\n",
      "RangeIndex: 202607 entries, 0 to 202606\n",
      "Data columns (total 4 columns):\n",
      " #   Column     Non-Null Count   Dtype  \n",
      "---  ------     --------------   -----  \n",
      " 0   id         202607 non-null  object \n",
      " 1   call_date  202607 non-null  object \n",
      " 2   duration   202607 non-null  float64\n",
      " 3   user_id    202607 non-null  int64  \n",
      "dtypes: float64(1), int64(1), object(2)\n",
      "memory usage: 6.2+ MB\n"
     ]
    }
   ],
   "source": [
    "calls = pd.read_csv('calls.csv')\n",
    "calls.info()"
   ]
  },
  {
   "cell_type": "code",
   "execution_count": 48,
   "metadata": {},
   "outputs": [
    {
     "data": {
      "text/html": [
       "<div>\n",
       "<style scoped>\n",
       "    .dataframe tbody tr th:only-of-type {\n",
       "        vertical-align: middle;\n",
       "    }\n",
       "\n",
       "    .dataframe tbody tr th {\n",
       "        vertical-align: top;\n",
       "    }\n",
       "\n",
       "    .dataframe thead th {\n",
       "        text-align: right;\n",
       "    }\n",
       "</style>\n",
       "<table border=\"1\" class=\"dataframe\">\n",
       "  <thead>\n",
       "    <tr style=\"text-align: right;\">\n",
       "      <th></th>\n",
       "      <th>id</th>\n",
       "      <th>call_date</th>\n",
       "      <th>duration</th>\n",
       "      <th>user_id</th>\n",
       "    </tr>\n",
       "  </thead>\n",
       "  <tbody>\n",
       "    <tr>\n",
       "      <th>0</th>\n",
       "      <td>1000_0</td>\n",
       "      <td>2018-07-25</td>\n",
       "      <td>0.00</td>\n",
       "      <td>1000</td>\n",
       "    </tr>\n",
       "    <tr>\n",
       "      <th>1</th>\n",
       "      <td>1000_1</td>\n",
       "      <td>2018-08-17</td>\n",
       "      <td>0.00</td>\n",
       "      <td>1000</td>\n",
       "    </tr>\n",
       "    <tr>\n",
       "      <th>2</th>\n",
       "      <td>1000_2</td>\n",
       "      <td>2018-06-11</td>\n",
       "      <td>2.85</td>\n",
       "      <td>1000</td>\n",
       "    </tr>\n",
       "    <tr>\n",
       "      <th>3</th>\n",
       "      <td>1000_3</td>\n",
       "      <td>2018-09-21</td>\n",
       "      <td>13.80</td>\n",
       "      <td>1000</td>\n",
       "    </tr>\n",
       "    <tr>\n",
       "      <th>4</th>\n",
       "      <td>1000_4</td>\n",
       "      <td>2018-12-15</td>\n",
       "      <td>5.18</td>\n",
       "      <td>1000</td>\n",
       "    </tr>\n",
       "  </tbody>\n",
       "</table>\n",
       "</div>"
      ],
      "text/plain": [
       "       id   call_date  duration  user_id\n",
       "0  1000_0  2018-07-25      0.00     1000\n",
       "1  1000_1  2018-08-17      0.00     1000\n",
       "2  1000_2  2018-06-11      2.85     1000\n",
       "3  1000_3  2018-09-21     13.80     1000\n",
       "4  1000_4  2018-12-15      5.18     1000"
      ]
     },
     "execution_count": 48,
     "metadata": {},
     "output_type": "execute_result"
    }
   ],
   "source": [
    "calls.head()"
   ]
  },
  {
   "cell_type": "code",
   "execution_count": 49,
   "metadata": {},
   "outputs": [
    {
     "name": "stdout",
     "output_type": "stream",
     "text": [
      "Количесвто уникальных значения столбца id\n",
      "1000_0      1\n",
      "1344_881    1\n",
      "1344_883    1\n",
      "1344_884    1\n",
      "1344_885    1\n",
      "           ..\n",
      "1171_562    1\n",
      "1171_563    1\n",
      "1171_564    1\n",
      "1171_565    1\n",
      "1499_219    1\n",
      "Name: id, Length: 202607, dtype: int64\n",
      "Количесвто уникальных значения столбца call_date\n",
      "2018-12-31    1435\n",
      "2018-12-29    1202\n",
      "2018-12-30    1192\n",
      "2018-12-22    1158\n",
      "2018-12-26    1149\n",
      "              ... \n",
      "2018-01-05      20\n",
      "2018-01-07      18\n",
      "2018-01-02       9\n",
      "2018-01-03       7\n",
      "2018-01-01       5\n",
      "Name: call_date, Length: 365, dtype: int64\n",
      "Количесвто уникальных значения столбца duration\n",
      "0.00     39613\n",
      "4.49       142\n",
      "5.50       142\n",
      "6.15       141\n",
      "6.38       141\n",
      "         ...  \n",
      "26.94        1\n",
      "32.19        1\n",
      "26.32        1\n",
      "27.41        1\n",
      "26.90        1\n",
      "Name: duration, Length: 2871, dtype: int64\n",
      "Количесвто уникальных значения столбца user_id\n",
      "1377    1760\n",
      "1168    1692\n",
      "1375    1560\n",
      "1453    1440\n",
      "1196    1240\n",
      "        ... \n",
      "1397      33\n",
      "1442      28\n",
      "1373      24\n",
      "1016      20\n",
      "1257      14\n",
      "Name: user_id, Length: 492, dtype: int64\n"
     ]
    }
   ],
   "source": [
    "v_counts_columns(calls)"
   ]
  },
  {
   "cell_type": "markdown",
   "metadata": {},
   "source": [
    "Столбец 'duration' имеет нулевые значения. Это информации о пропущенных звонках."
   ]
  },
  {
   "cell_type": "code",
   "execution_count": 50,
   "metadata": {},
   "outputs": [
    {
     "data": {
      "image/png": "[encoded data removed]",
      "text/plain": [
       "<Figure size 432x288 with 1 Axes>"
      ]
     },
     "metadata": {
      "needs_background": "light"
     },
     "output_type": "display_data"
    }
   ],
   "source": [
    "# Строю гистограмму, чтобы посмотреть на распределение количественной переменной в calls\n",
    "\n",
    "plt.hist(calls['duration'], bins=30, range=(0, 40))            \n",
    "plt.title('Распределение в столбце продолжительность звонков')\n",
    "plt.xlabel('минуты')\n",
    "plt.ylabel('Количество звонков')\n",
    "plt.show()"
   ]
  },
  {
   "cell_type": "code",
   "execution_count": 51,
   "metadata": {},
   "outputs": [
    {
     "data": {
      "text/html": [
       "<div>\n",
       "<style scoped>\n",
       "    .dataframe tbody tr th:only-of-type {\n",
       "        vertical-align: middle;\n",
       "    }\n",
       "\n",
       "    .dataframe tbody tr th {\n",
       "        vertical-align: top;\n",
       "    }\n",
       "\n",
       "    .dataframe thead th {\n",
       "        text-align: right;\n",
       "    }\n",
       "</style>\n",
       "<table border=\"1\" class=\"dataframe\">\n",
       "  <thead>\n",
       "    <tr style=\"text-align: right;\">\n",
       "      <th></th>\n",
       "      <th>duration</th>\n",
       "      <th>user_id</th>\n",
       "    </tr>\n",
       "  </thead>\n",
       "  <tbody>\n",
       "    <tr>\n",
       "      <th>count</th>\n",
       "      <td>202607.000000</td>\n",
       "      <td>202607.000000</td>\n",
       "    </tr>\n",
       "    <tr>\n",
       "      <th>mean</th>\n",
       "      <td>6.755887</td>\n",
       "      <td>1253.940619</td>\n",
       "    </tr>\n",
       "    <tr>\n",
       "      <th>std</th>\n",
       "      <td>5.843365</td>\n",
       "      <td>144.722751</td>\n",
       "    </tr>\n",
       "    <tr>\n",
       "      <th>min</th>\n",
       "      <td>0.000000</td>\n",
       "      <td>1000.000000</td>\n",
       "    </tr>\n",
       "    <tr>\n",
       "      <th>25%</th>\n",
       "      <td>1.300000</td>\n",
       "      <td>1126.000000</td>\n",
       "    </tr>\n",
       "    <tr>\n",
       "      <th>50%</th>\n",
       "      <td>6.000000</td>\n",
       "      <td>1260.000000</td>\n",
       "    </tr>\n",
       "    <tr>\n",
       "      <th>75%</th>\n",
       "      <td>10.700000</td>\n",
       "      <td>1379.000000</td>\n",
       "    </tr>\n",
       "    <tr>\n",
       "      <th>max</th>\n",
       "      <td>38.000000</td>\n",
       "      <td>1499.000000</td>\n",
       "    </tr>\n",
       "  </tbody>\n",
       "</table>\n",
       "</div>"
      ],
      "text/plain": [
       "            duration        user_id\n",
       "count  202607.000000  202607.000000\n",
       "mean        6.755887    1253.940619\n",
       "std         5.843365     144.722751\n",
       "min         0.000000    1000.000000\n",
       "25%         1.300000    1126.000000\n",
       "50%         6.000000    1260.000000\n",
       "75%        10.700000    1379.000000\n",
       "max        38.000000    1499.000000"
      ]
     },
     "execution_count": 51,
     "metadata": {},
     "output_type": "execute_result"
    }
   ],
   "source": [
    "calls.describe()"
   ]
  },
  {
   "cell_type": "markdown",
   "metadata": {},
   "source": [
    "Ничего необычного для датасета calls не обнаружено. Звонки с продолжительностью 0 минут - пропущенные звонки."
   ]
  },
  {
   "cell_type": "code",
   "execution_count": 52,
   "metadata": {},
   "outputs": [
    {
     "name": "stdout",
     "output_type": "stream",
     "text": [
      "<class 'pandas.core.frame.DataFrame'>\n",
      "RangeIndex: 149396 entries, 0 to 149395\n",
      "Data columns (total 5 columns):\n",
      " #   Column        Non-Null Count   Dtype  \n",
      "---  ------        --------------   -----  \n",
      " 0   Unnamed: 0    149396 non-null  int64  \n",
      " 1   id            149396 non-null  object \n",
      " 2   mb_used       149396 non-null  float64\n",
      " 3   session_date  149396 non-null  object \n",
      " 4   user_id       149396 non-null  int64  \n",
      "dtypes: float64(1), int64(2), object(2)\n",
      "memory usage: 5.7+ MB\n"
     ]
    }
   ],
   "source": [
    "internet = pd.read_csv('internet.csv')\n",
    "internet.info()"
   ]
  },
  {
   "cell_type": "code",
   "execution_count": 53,
   "metadata": {},
   "outputs": [
    {
     "data": {
      "text/html": [
       "<div>\n",
       "<style scoped>\n",
       "    .dataframe tbody tr th:only-of-type {\n",
       "        vertical-align: middle;\n",
       "    }\n",
       "\n",
       "    .dataframe tbody tr th {\n",
       "        vertical-align: top;\n",
       "    }\n",
       "\n",
       "    .dataframe thead th {\n",
       "        text-align: right;\n",
       "    }\n",
       "</style>\n",
       "<table border=\"1\" class=\"dataframe\">\n",
       "  <thead>\n",
       "    <tr style=\"text-align: right;\">\n",
       "      <th></th>\n",
       "      <th>Unnamed: 0</th>\n",
       "      <th>id</th>\n",
       "      <th>mb_used</th>\n",
       "      <th>session_date</th>\n",
       "      <th>user_id</th>\n",
       "    </tr>\n",
       "  </thead>\n",
       "  <tbody>\n",
       "    <tr>\n",
       "      <th>0</th>\n",
       "      <td>0</td>\n",
       "      <td>1000_0</td>\n",
       "      <td>112.95</td>\n",
       "      <td>2018-11-25</td>\n",
       "      <td>1000</td>\n",
       "    </tr>\n",
       "    <tr>\n",
       "      <th>1</th>\n",
       "      <td>1</td>\n",
       "      <td>1000_1</td>\n",
       "      <td>1052.81</td>\n",
       "      <td>2018-09-07</td>\n",
       "      <td>1000</td>\n",
       "    </tr>\n",
       "    <tr>\n",
       "      <th>2</th>\n",
       "      <td>2</td>\n",
       "      <td>1000_2</td>\n",
       "      <td>1197.26</td>\n",
       "      <td>2018-06-25</td>\n",
       "      <td>1000</td>\n",
       "    </tr>\n",
       "    <tr>\n",
       "      <th>3</th>\n",
       "      <td>3</td>\n",
       "      <td>1000_3</td>\n",
       "      <td>550.27</td>\n",
       "      <td>2018-08-22</td>\n",
       "      <td>1000</td>\n",
       "    </tr>\n",
       "    <tr>\n",
       "      <th>4</th>\n",
       "      <td>4</td>\n",
       "      <td>1000_4</td>\n",
       "      <td>302.56</td>\n",
       "      <td>2018-09-24</td>\n",
       "      <td>1000</td>\n",
       "    </tr>\n",
       "  </tbody>\n",
       "</table>\n",
       "</div>"
      ],
      "text/plain": [
       "   Unnamed: 0      id  mb_used session_date  user_id\n",
       "0           0  1000_0   112.95   2018-11-25     1000\n",
       "1           1  1000_1  1052.81   2018-09-07     1000\n",
       "2           2  1000_2  1197.26   2018-06-25     1000\n",
       "3           3  1000_3   550.27   2018-08-22     1000\n",
       "4           4  1000_4   302.56   2018-09-24     1000"
      ]
     },
     "execution_count": 53,
     "metadata": {},
     "output_type": "execute_result"
    }
   ],
   "source": [
    "internet.head()"
   ]
  },
  {
   "cell_type": "code",
   "execution_count": 54,
   "metadata": {},
   "outputs": [
    {
     "name": "stdout",
     "output_type": "stream",
     "text": [
      "Количесвто уникальных значения столбца Unnamed: 0\n",
      "0         1\n",
      "99574     1\n",
      "99594     1\n",
      "99595     1\n",
      "99596     1\n",
      "         ..\n",
      "49798     1\n",
      "49799     1\n",
      "49800     1\n",
      "49801     1\n",
      "149395    1\n",
      "Name: Unnamed: 0, Length: 149396, dtype: int64\n",
      "Количесвто уникальных значения столбца id\n",
      "1000_0      1\n",
      "1333_109    1\n",
      "1334_0      1\n",
      "1334_1      1\n",
      "1334_2      1\n",
      "           ..\n",
      "1172_80     1\n",
      "1172_81     1\n",
      "1172_82     1\n",
      "1172_83     1\n",
      "1499_156    1\n",
      "Name: id, Length: 149396, dtype: int64\n",
      "Количесвто уникальных значения столбца mb_used\n",
      "0.00      19598\n",
      "335.91        9\n",
      "447.30        9\n",
      "197.56        9\n",
      "199.11        8\n",
      "          ...  \n",
      "643.43        1\n",
      "973.04        1\n",
      "834.51        1\n",
      "777.30        1\n",
      "23.72         1\n",
      "Name: mb_used, Length: 70003, dtype: int64\n",
      "Количесвто уникальных значения столбца session_date\n",
      "2018-12-31    1057\n",
      "2018-12-30     903\n",
      "2018-12-25     859\n",
      "2018-12-26     844\n",
      "2018-12-22     834\n",
      "              ... \n",
      "2018-01-05      14\n",
      "2018-01-04       9\n",
      "2018-01-03       6\n",
      "2018-01-02       3\n",
      "2018-01-01       3\n",
      "Name: session_date, Length: 365, dtype: int64\n",
      "Количесвто уникальных значения столбца user_id\n",
      "1496    834\n",
      "1227    812\n",
      "1204    789\n",
      "1240    764\n",
      "1251    759\n",
      "       ... \n",
      "1151     35\n",
      "1467     27\n",
      "1343     26\n",
      "1192     22\n",
      "1399      8\n",
      "Name: user_id, Length: 497, dtype: int64\n"
     ]
    }
   ],
   "source": [
    "v_counts_columns(internet)"
   ]
  },
  {
   "cell_type": "code",
   "execution_count": 55,
   "metadata": {},
   "outputs": [
    {
     "data": {
      "image/png": "[encoded data removed]",
      "text/plain": [
       "<Figure size 432x288 with 1 Axes>"
      ]
     },
     "metadata": {
      "needs_background": "light"
     },
     "output_type": "display_data"
    }
   ],
   "source": [
    "# Строю гистограмму, чтобы посмотреть на распределение количественной переменной в internet\n",
    "\n",
    "plt.hist(internet['mb_used'], bins=30, range=(0, 2000))            \n",
    "plt.title('Распределение в столбце трафика интернета пользователями в течение года')\n",
    "plt.xlabel('Мб')\n",
    "plt.ylabel('Количество использования трафика')\n",
    "plt.show()"
   ]
  },
  {
   "cell_type": "markdown",
   "metadata": {},
   "source": [
    "Нули в столбце 'mb_used' может быть, когда у абонента автоматом включен интернет, а он находится где-то, где сеть плохая, и удается подключиться, а передать нет. В целом, без явных аномалий."
   ]
  },
  {
   "cell_type": "code",
   "execution_count": 56,
   "metadata": {},
   "outputs": [
    {
     "name": "stdout",
     "output_type": "stream",
     "text": [
      "<class 'pandas.core.frame.DataFrame'>\n",
      "RangeIndex: 123036 entries, 0 to 123035\n",
      "Data columns (total 3 columns):\n",
      " #   Column        Non-Null Count   Dtype \n",
      "---  ------        --------------   ----- \n",
      " 0   id            123036 non-null  object\n",
      " 1   message_date  123036 non-null  object\n",
      " 2   user_id       123036 non-null  int64 \n",
      "dtypes: int64(1), object(2)\n",
      "memory usage: 2.8+ MB\n"
     ]
    }
   ],
   "source": [
    "#messages = pd.read_csv('messages.csv')\n",
    "messages = pd.read_csv('messages.csv')\n",
    "messages.info()"
   ]
  },
  {
   "cell_type": "code",
   "execution_count": 57,
   "metadata": {},
   "outputs": [
    {
     "data": {
      "text/html": [
       "<div>\n",
       "<style scoped>\n",
       "    .dataframe tbody tr th:only-of-type {\n",
       "        vertical-align: middle;\n",
       "    }\n",
       "\n",
       "    .dataframe tbody tr th {\n",
       "        vertical-align: top;\n",
       "    }\n",
       "\n",
       "    .dataframe thead th {\n",
       "        text-align: right;\n",
       "    }\n",
       "</style>\n",
       "<table border=\"1\" class=\"dataframe\">\n",
       "  <thead>\n",
       "    <tr style=\"text-align: right;\">\n",
       "      <th></th>\n",
       "      <th>id</th>\n",
       "      <th>message_date</th>\n",
       "      <th>user_id</th>\n",
       "    </tr>\n",
       "  </thead>\n",
       "  <tbody>\n",
       "    <tr>\n",
       "      <th>0</th>\n",
       "      <td>1000_0</td>\n",
       "      <td>2018-06-27</td>\n",
       "      <td>1000</td>\n",
       "    </tr>\n",
       "    <tr>\n",
       "      <th>1</th>\n",
       "      <td>1000_1</td>\n",
       "      <td>2018-10-08</td>\n",
       "      <td>1000</td>\n",
       "    </tr>\n",
       "    <tr>\n",
       "      <th>2</th>\n",
       "      <td>1000_2</td>\n",
       "      <td>2018-08-04</td>\n",
       "      <td>1000</td>\n",
       "    </tr>\n",
       "    <tr>\n",
       "      <th>3</th>\n",
       "      <td>1000_3</td>\n",
       "      <td>2018-06-16</td>\n",
       "      <td>1000</td>\n",
       "    </tr>\n",
       "    <tr>\n",
       "      <th>4</th>\n",
       "      <td>1000_4</td>\n",
       "      <td>2018-12-05</td>\n",
       "      <td>1000</td>\n",
       "    </tr>\n",
       "  </tbody>\n",
       "</table>\n",
       "</div>"
      ],
      "text/plain": [
       "       id message_date  user_id\n",
       "0  1000_0   2018-06-27     1000\n",
       "1  1000_1   2018-10-08     1000\n",
       "2  1000_2   2018-08-04     1000\n",
       "3  1000_3   2018-06-16     1000\n",
       "4  1000_4   2018-12-05     1000"
      ]
     },
     "execution_count": 57,
     "metadata": {},
     "output_type": "execute_result"
    }
   ],
   "source": [
    "messages.head()"
   ]
  },
  {
   "cell_type": "code",
   "execution_count": 58,
   "metadata": {},
   "outputs": [
    {
     "name": "stdout",
     "output_type": "stream",
     "text": [
      "Количесвто уникальных значения столбца id\n",
      "1000_0      1\n",
      "1344_248    1\n",
      "1344_96     1\n",
      "1344_95     1\n",
      "1344_94     1\n",
      "           ..\n",
      "1174_352    1\n",
      "1174_351    1\n",
      "1174_350    1\n",
      "1174_349    1\n",
      "1499_183    1\n",
      "Name: id, Length: 123036, dtype: int64\n",
      "Количесвто уникальных значения столбца message_date\n",
      "2018-12-31    859\n",
      "2018-12-30    765\n",
      "2018-12-21    712\n",
      "2018-12-29    702\n",
      "2018-12-28    699\n",
      "             ... \n",
      "2018-01-11     12\n",
      "2018-01-05     10\n",
      "2018-01-04     10\n",
      "2018-01-02     10\n",
      "2018-01-03      4\n",
      "Name: message_date, Length: 364, dtype: int64\n",
      "Количесвто уникальных значения столбца user_id\n",
      "1277    1463\n",
      "1089    1408\n",
      "1231    1384\n",
      "1385    1380\n",
      "1356    1224\n",
      "        ... \n",
      "1389       6\n",
      "1279       5\n",
      "1074       3\n",
      "1159       2\n",
      "1141       1\n",
      "Name: user_id, Length: 426, dtype: int64\n"
     ]
    }
   ],
   "source": [
    "v_counts_columns(messages)"
   ]
  },
  {
   "cell_type": "markdown",
   "metadata": {},
   "source": [
    "Не выявлено аномалий в таблице message"
   ]
  },
  {
   "cell_type": "code",
   "execution_count": 59,
   "metadata": {},
   "outputs": [
    {
     "name": "stdout",
     "output_type": "stream",
     "text": [
      "<class 'pandas.core.frame.DataFrame'>\n",
      "RangeIndex: 2 entries, 0 to 1\n",
      "Data columns (total 8 columns):\n",
      " #   Column                 Non-Null Count  Dtype \n",
      "---  ------                 --------------  ----- \n",
      " 0   messages_included      2 non-null      int64 \n",
      " 1   mb_per_month_included  2 non-null      int64 \n",
      " 2   minutes_included       2 non-null      int64 \n",
      " 3   rub_monthly_fee        2 non-null      int64 \n",
      " 4   rub_per_gb             2 non-null      int64 \n",
      " 5   rub_per_message        2 non-null      int64 \n",
      " 6   rub_per_minute         2 non-null      int64 \n",
      " 7   tariff_name            2 non-null      object\n",
      "dtypes: int64(7), object(1)\n",
      "memory usage: 256.0+ bytes\n"
     ]
    }
   ],
   "source": [
    "tariffs = pd.read_csv('tariffs.csv')\n",
    "tariffs.info()"
   ]
  },
  {
   "cell_type": "code",
   "execution_count": 60,
   "metadata": {},
   "outputs": [
    {
     "data": {
      "text/html": [
       "<div>\n",
       "<style scoped>\n",
       "    .dataframe tbody tr th:only-of-type {\n",
       "        vertical-align: middle;\n",
       "    }\n",
       "\n",
       "    .dataframe tbody tr th {\n",
       "        vertical-align: top;\n",
       "    }\n",
       "\n",
       "    .dataframe thead th {\n",
       "        text-align: right;\n",
       "    }\n",
       "</style>\n",
       "<table border=\"1\" class=\"dataframe\">\n",
       "  <thead>\n",
       "    <tr style=\"text-align: right;\">\n",
       "      <th></th>\n",
       "      <th>messages_included</th>\n",
       "      <th>mb_per_month_included</th>\n",
       "      <th>minutes_included</th>\n",
       "      <th>rub_monthly_fee</th>\n",
       "      <th>rub_per_gb</th>\n",
       "      <th>rub_per_message</th>\n",
       "      <th>rub_per_minute</th>\n",
       "      <th>tariff_name</th>\n",
       "    </tr>\n",
       "  </thead>\n",
       "  <tbody>\n",
       "    <tr>\n",
       "      <th>0</th>\n",
       "      <td>50</td>\n",
       "      <td>15360</td>\n",
       "      <td>500</td>\n",
       "      <td>550</td>\n",
       "      <td>200</td>\n",
       "      <td>3</td>\n",
       "      <td>3</td>\n",
       "      <td>smart</td>\n",
       "    </tr>\n",
       "    <tr>\n",
       "      <th>1</th>\n",
       "      <td>1000</td>\n",
       "      <td>30720</td>\n",
       "      <td>3000</td>\n",
       "      <td>1950</td>\n",
       "      <td>150</td>\n",
       "      <td>1</td>\n",
       "      <td>1</td>\n",
       "      <td>ultra</td>\n",
       "    </tr>\n",
       "  </tbody>\n",
       "</table>\n",
       "</div>"
      ],
      "text/plain": [
       "   messages_included  mb_per_month_included  minutes_included  \\\n",
       "0                 50                  15360               500   \n",
       "1               1000                  30720              3000   \n",
       "\n",
       "   rub_monthly_fee  rub_per_gb  rub_per_message  rub_per_minute tariff_name  \n",
       "0              550         200                3               3       smart  \n",
       "1             1950         150                1               1       ultra  "
      ]
     },
     "execution_count": 60,
     "metadata": {},
     "output_type": "execute_result"
    }
   ],
   "source": [
    "tariffs.head()"
   ]
  },
  {
   "cell_type": "code",
   "execution_count": 61,
   "metadata": {},
   "outputs": [
    {
     "name": "stdout",
     "output_type": "stream",
     "text": [
      "Количесвто уникальных значения столбца messages_included\n",
      "50      1\n",
      "1000    1\n",
      "Name: messages_included, dtype: int64\n",
      "Количесвто уникальных значения столбца mb_per_month_included\n",
      "15360    1\n",
      "30720    1\n",
      "Name: mb_per_month_included, dtype: int64\n",
      "Количесвто уникальных значения столбца minutes_included\n",
      "500     1\n",
      "3000    1\n",
      "Name: minutes_included, dtype: int64\n",
      "Количесвто уникальных значения столбца rub_monthly_fee\n",
      "550     1\n",
      "1950    1\n",
      "Name: rub_monthly_fee, dtype: int64\n",
      "Количесвто уникальных значения столбца rub_per_gb\n",
      "200    1\n",
      "150    1\n",
      "Name: rub_per_gb, dtype: int64\n",
      "Количесвто уникальных значения столбца rub_per_message\n",
      "3    1\n",
      "1    1\n",
      "Name: rub_per_message, dtype: int64\n",
      "Количесвто уникальных значения столбца rub_per_minute\n",
      "3    1\n",
      "1    1\n",
      "Name: rub_per_minute, dtype: int64\n",
      "Количесвто уникальных значения столбца tariff_name\n",
      "smart    1\n",
      "ultra    1\n",
      "Name: tariff_name, dtype: int64\n"
     ]
    }
   ],
   "source": [
    "v_counts_columns(tariffs)"
   ]
  },
  {
   "cell_type": "markdown",
   "metadata": {},
   "source": [
    "Не выявлено аномалий в таблице tariffs"
   ]
  },
  {
   "cell_type": "code",
   "execution_count": 62,
   "metadata": {},
   "outputs": [
    {
     "name": "stdout",
     "output_type": "stream",
     "text": [
      "<class 'pandas.core.frame.DataFrame'>\n",
      "RangeIndex: 500 entries, 0 to 499\n",
      "Data columns (total 8 columns):\n",
      " #   Column      Non-Null Count  Dtype \n",
      "---  ------      --------------  ----- \n",
      " 0   user_id     500 non-null    int64 \n",
      " 1   age         500 non-null    int64 \n",
      " 2   churn_date  38 non-null     object\n",
      " 3   city        500 non-null    object\n",
      " 4   first_name  500 non-null    object\n",
      " 5   last_name   500 non-null    object\n",
      " 6   reg_date    500 non-null    object\n",
      " 7   tariff      500 non-null    object\n",
      "dtypes: int64(2), object(6)\n",
      "memory usage: 31.4+ KB\n"
     ]
    }
   ],
   "source": [
    "users = pd.read_csv('users.csv')\n",
    "users.info()"
   ]
  },
  {
   "cell_type": "code",
   "execution_count": 63,
   "metadata": {},
   "outputs": [
    {
     "data": {
      "text/html": [
       "<div>\n",
       "<style scoped>\n",
       "    .dataframe tbody tr th:only-of-type {\n",
       "        vertical-align: middle;\n",
       "    }\n",
       "\n",
       "    .dataframe tbody tr th {\n",
       "        vertical-align: top;\n",
       "    }\n",
       "\n",
       "    .dataframe thead th {\n",
       "        text-align: right;\n",
       "    }\n",
       "</style>\n",
       "<table border=\"1\" class=\"dataframe\">\n",
       "  <thead>\n",
       "    <tr style=\"text-align: right;\">\n",
       "      <th></th>\n",
       "      <th>user_id</th>\n",
       "      <th>age</th>\n",
       "      <th>churn_date</th>\n",
       "      <th>city</th>\n",
       "      <th>first_name</th>\n",
       "      <th>last_name</th>\n",
       "      <th>reg_date</th>\n",
       "      <th>tariff</th>\n",
       "    </tr>\n",
       "  </thead>\n",
       "  <tbody>\n",
       "    <tr>\n",
       "      <th>0</th>\n",
       "      <td>1000</td>\n",
       "      <td>52</td>\n",
       "      <td>NaN</td>\n",
       "      <td>Краснодар</td>\n",
       "      <td>Рафаил</td>\n",
       "      <td>Верещагин</td>\n",
       "      <td>2018-05-25</td>\n",
       "      <td>ultra</td>\n",
       "    </tr>\n",
       "    <tr>\n",
       "      <th>1</th>\n",
       "      <td>1001</td>\n",
       "      <td>41</td>\n",
       "      <td>NaN</td>\n",
       "      <td>Москва</td>\n",
       "      <td>Иван</td>\n",
       "      <td>Ежов</td>\n",
       "      <td>2018-11-01</td>\n",
       "      <td>smart</td>\n",
       "    </tr>\n",
       "    <tr>\n",
       "      <th>2</th>\n",
       "      <td>1002</td>\n",
       "      <td>59</td>\n",
       "      <td>NaN</td>\n",
       "      <td>Стерлитамак</td>\n",
       "      <td>Евгений</td>\n",
       "      <td>Абрамович</td>\n",
       "      <td>2018-06-17</td>\n",
       "      <td>smart</td>\n",
       "    </tr>\n",
       "    <tr>\n",
       "      <th>3</th>\n",
       "      <td>1003</td>\n",
       "      <td>23</td>\n",
       "      <td>NaN</td>\n",
       "      <td>Москва</td>\n",
       "      <td>Белла</td>\n",
       "      <td>Белякова</td>\n",
       "      <td>2018-08-17</td>\n",
       "      <td>ultra</td>\n",
       "    </tr>\n",
       "    <tr>\n",
       "      <th>4</th>\n",
       "      <td>1004</td>\n",
       "      <td>68</td>\n",
       "      <td>NaN</td>\n",
       "      <td>Новокузнецк</td>\n",
       "      <td>Татьяна</td>\n",
       "      <td>Авдеенко</td>\n",
       "      <td>2018-05-14</td>\n",
       "      <td>ultra</td>\n",
       "    </tr>\n",
       "  </tbody>\n",
       "</table>\n",
       "</div>"
      ],
      "text/plain": [
       "   user_id  age churn_date         city first_name  last_name    reg_date  \\\n",
       "0     1000   52        NaN    Краснодар     Рафаил  Верещагин  2018-05-25   \n",
       "1     1001   41        NaN       Москва       Иван       Ежов  2018-11-01   \n",
       "2     1002   59        NaN  Стерлитамак    Евгений  Абрамович  2018-06-17   \n",
       "3     1003   23        NaN       Москва      Белла   Белякова  2018-08-17   \n",
       "4     1004   68        NaN  Новокузнецк    Татьяна   Авдеенко  2018-05-14   \n",
       "\n",
       "  tariff  \n",
       "0  ultra  \n",
       "1  smart  \n",
       "2  smart  \n",
       "3  ultra  \n",
       "4  ultra  "
      ]
     },
     "execution_count": 63,
     "metadata": {},
     "output_type": "execute_result"
    }
   ],
   "source": [
    "users.head()"
   ]
  },
  {
   "cell_type": "code",
   "execution_count": 64,
   "metadata": {},
   "outputs": [
    {
     "data": {
      "text/plain": [
       "array([nan, '2018-10-05', '2018-12-18', '2018-11-21', '2018-10-03',\n",
       "       '2018-10-14', '2018-12-09', '2018-12-11', '2018-12-26',\n",
       "       '2018-08-31', '2018-12-03', '2018-12-23', '2018-11-07',\n",
       "       '2018-12-16', '2018-12-20', '2018-11-30', '2018-12-21',\n",
       "       '2018-08-17', '2018-09-02', '2018-10-04', '2018-11-13',\n",
       "       '2018-11-22', '2018-10-28', '2018-11-26', '2018-11-27',\n",
       "       '2018-11-16', '2018-10-27', '2018-12-30', '2018-09-27',\n",
       "       '2018-12-25', '2018-12-14', '2018-12-24', '2018-09-26',\n",
       "       '2018-10-25'], dtype=object)"
      ]
     },
     "execution_count": 64,
     "metadata": {},
     "output_type": "execute_result"
    }
   ],
   "source": [
    "users['churn_date'].unique()"
   ]
  },
  {
   "cell_type": "code",
   "execution_count": 65,
   "metadata": {},
   "outputs": [
    {
     "data": {
      "text/plain": [
       "user_id         0\n",
       "age             0\n",
       "churn_date    462\n",
       "city            0\n",
       "first_name      0\n",
       "last_name       0\n",
       "reg_date        0\n",
       "tariff          0\n",
       "dtype: int64"
      ]
     },
     "execution_count": 65,
     "metadata": {},
     "output_type": "execute_result"
    }
   ],
   "source": [
    "# количество пропусков\n",
    "users.isna().sum()"
   ]
  },
  {
   "cell_type": "code",
   "execution_count": 66,
   "metadata": {},
   "outputs": [
    {
     "name": "stdout",
     "output_type": "stream",
     "text": [
      "Количесвто уникальных значения столбца user_id\n",
      "1000    1\n",
      "1329    1\n",
      "1342    1\n",
      "1341    1\n",
      "1340    1\n",
      "       ..\n",
      "1161    1\n",
      "1160    1\n",
      "1159    1\n",
      "1158    1\n",
      "1499    1\n",
      "Name: user_id, Length: 500, dtype: int64\n",
      "Количесвто уникальных значения столбца age\n",
      "53    14\n",
      "42    14\n",
      "63    13\n",
      "64    13\n",
      "71    13\n",
      "73    12\n",
      "21    12\n",
      "40    12\n",
      "37    11\n",
      "29    11\n",
      "39    11\n",
      "26    11\n",
      "47    11\n",
      "70    10\n",
      "45    10\n",
      "41    10\n",
      "52    10\n",
      "58    10\n",
      "36    10\n",
      "66     9\n",
      "23     9\n",
      "50     9\n",
      "65     9\n",
      "19     9\n",
      "48     9\n",
      "24     9\n",
      "68     9\n",
      "27     9\n",
      "28     9\n",
      "51     9\n",
      "20     9\n",
      "56     9\n",
      "30     9\n",
      "60     8\n",
      "44     8\n",
      "69     8\n",
      "62     8\n",
      "55     8\n",
      "74     7\n",
      "25     7\n",
      "46     7\n",
      "35     7\n",
      "32     7\n",
      "67     7\n",
      "43     7\n",
      "31     7\n",
      "18     6\n",
      "75     6\n",
      "54     6\n",
      "59     6\n",
      "72     5\n",
      "22     5\n",
      "34     5\n",
      "33     5\n",
      "38     5\n",
      "49     4\n",
      "57     4\n",
      "61     3\n",
      "Name: age, dtype: int64\n",
      "Количесвто уникальных значения столбца churn_date\n",
      "2018-12-03    2\n",
      "2018-10-03    2\n",
      "2018-10-14    2\n",
      "2018-12-09    2\n",
      "2018-12-21    2\n",
      "2018-12-30    1\n",
      "2018-10-28    1\n",
      "2018-11-26    1\n",
      "2018-11-27    1\n",
      "2018-11-16    1\n",
      "2018-10-27    1\n",
      "2018-10-05    1\n",
      "2018-09-27    1\n",
      "2018-11-13    1\n",
      "2018-12-25    1\n",
      "2018-12-14    1\n",
      "2018-12-24    1\n",
      "2018-09-26    1\n",
      "2018-11-22    1\n",
      "2018-08-17    1\n",
      "2018-10-04    1\n",
      "2018-09-02    1\n",
      "2018-12-18    1\n",
      "2018-11-30    1\n",
      "2018-12-20    1\n",
      "2018-12-16    1\n",
      "2018-11-07    1\n",
      "2018-12-23    1\n",
      "2018-08-31    1\n",
      "2018-12-26    1\n",
      "2018-12-11    1\n",
      "2018-11-21    1\n",
      "2018-10-25    1\n",
      "Name: churn_date, dtype: int64\n",
      "Количесвто уникальных значения столбца city\n",
      "Москва             99\n",
      "Санкт-Петербург    39\n",
      "Новосибирск        16\n",
      "Омск               14\n",
      "Казань             14\n",
      "                   ..\n",
      "Архангельск         1\n",
      "Иваново             1\n",
      "Нижневартовск       1\n",
      "Химки               1\n",
      "Подольск            1\n",
      "Name: city, Length: 76, dtype: int64\n",
      "Количесвто уникальных значения столбца first_name\n",
      "Радим      6\n",
      "Леонид     5\n",
      "Пётр       5\n",
      "Андрей     4\n",
      "Адам       4\n",
      "          ..\n",
      "Зинаида    1\n",
      "Глеб       1\n",
      "Роза       1\n",
      "Юзефа      1\n",
      "Трифон     1\n",
      "Name: first_name, Length: 246, dtype: int64\n",
      "Количесвто уникальных значения столбца last_name\n",
      "Андреенко     5\n",
      "Березина      3\n",
      "Аркадьев      3\n",
      "Булгаков      3\n",
      "Соловьев      3\n",
      "             ..\n",
      "Медведев      1\n",
      "Минаева       1\n",
      "Авдонюшкин    1\n",
      "Андрейчук     1\n",
      "Акимчин       1\n",
      "Name: last_name, Length: 419, dtype: int64\n",
      "Количесвто уникальных значения столбца reg_date\n",
      "2018-05-28    8\n",
      "2018-11-16    5\n",
      "2018-10-05    5\n",
      "2018-04-03    5\n",
      "2018-01-04    5\n",
      "             ..\n",
      "2018-09-20    1\n",
      "2018-04-28    1\n",
      "2018-08-07    1\n",
      "2018-06-18    1\n",
      "2018-04-25    1\n",
      "Name: reg_date, Length: 270, dtype: int64\n",
      "Количесвто уникальных значения столбца tariff\n",
      "smart    351\n",
      "ultra    149\n",
      "Name: tariff, dtype: int64\n"
     ]
    }
   ],
   "source": [
    "v_counts_columns(users)"
   ]
  },
  {
   "cell_type": "markdown",
   "metadata": {},
   "source": [
    "Таким образом, в столбце 'duration' таблицы calls есть нулевые значения. Это информации о пропущенных звонках. \n",
    "Так же есть нули в столбце 'mb_used'(объём потраченного за сессию интернет-трафика (в мегабайтах)) таблицы internet думаю, это может быть, когда у абонента автоматом включен интернет, а он находится где-то, где сеть плохая, и удается подключиться, а передать нет.\n",
    "В таблице users есть 462 пропуска в столбце 'churn_date' (дата прекращения пользования тарифом), но в описаннии к данным написано, что если значение пропущено, то тариф ещё действовал на момент выгрузки данных. Данные нельзя чем-то заполнить. Решаю оставить все как есть. \n",
    "Еще есть в таблице internet есть столбец 'Unnamed: 0', дублирующий индексы, видимо при заполнении или при каких-то некорректных операциях появился данный столбец. Его лучше удалить.\n",
    "\n",
    "Потребуется заменить тип данных у столбцов с датой и временем, а также округлить значения минут разговора и мегабайт использованного трафика в большую сторону, так как тарифы считаются по минутам и мегабайтам.\n",
    "В целом c данными можно работать и проверять гипотезы."
   ]
  },
  {
   "cell_type": "markdown",
   "metadata": {},
   "source": [
    "# Шаг 2. Подготовка данных"
   ]
  },
  {
   "cell_type": "markdown",
   "metadata": {},
   "source": [
    "Замена типа временных данных с типа object на datetime помощью to_datetime:"
   ]
  },
  {
   "cell_type": "code",
   "execution_count": 67,
   "metadata": {},
   "outputs": [],
   "source": [
    "calls['call_date'] = pd.to_datetime(calls['call_date'], format='%Y-%m-%d')\n",
    "internet['session_date'] = pd.to_datetime(internet['session_date'], format='%Y-%m-%d')\n",
    "messages['message_date'] = pd.to_datetime(messages['message_date'], format='%Y-%m-%d')\n",
    "users['churn_date'] = pd.to_datetime(users['churn_date'], format='%Y-%m-%d')\n",
    "users['reg_date'] = pd.to_datetime(users['reg_date'], format='%Y-%m-%d')"
   ]
  },
  {
   "cell_type": "markdown",
   "metadata": {},
   "source": [
    "В таблице internet есть столбец 'Unnamed: 0', дублирующий индексы. Удаляю его."
   ]
  },
  {
   "cell_type": "code",
   "execution_count": 68,
   "metadata": {},
   "outputs": [],
   "source": [
    "internet = internet.drop(labels=['Unnamed: 0'], axis=1)"
   ]
  },
  {
   "cell_type": "markdown",
   "metadata": {},
   "source": [
    "В таблице calls изменение требует столбец длительности 'duration'. Для подсчета тарифа важны минуты, округленные вверх. Также поменяю тип данных на integer (целочисленный). "
   ]
  },
  {
   "cell_type": "code",
   "execution_count": 69,
   "metadata": {},
   "outputs": [
    {
     "name": "stdout",
     "output_type": "stream",
     "text": [
      "<class 'pandas.core.frame.DataFrame'>\n",
      "RangeIndex: 202607 entries, 0 to 202606\n",
      "Data columns (total 4 columns):\n",
      " #   Column     Non-Null Count   Dtype         \n",
      "---  ------     --------------   -----         \n",
      " 0   id         202607 non-null  object        \n",
      " 1   call_date  202607 non-null  datetime64[ns]\n",
      " 2   duration   202607 non-null  int8          \n",
      " 3   user_id    202607 non-null  int64         \n",
      "dtypes: datetime64[ns](1), int64(1), int8(1), object(1)\n",
      "memory usage: 4.8+ MB\n"
     ]
    }
   ],
   "source": [
    "calls['duration'] = np.ceil(calls['duration'])\n",
    "calls['duration'] = pd.to_numeric(calls['duration'], downcast='integer')\n",
    "calls.info()"
   ]
  },
  {
   "cell_type": "markdown",
   "metadata": {},
   "source": [
    "Посмотрим по датам, сколько месяцев охватывают данные."
   ]
  },
  {
   "cell_type": "code",
   "execution_count": 70,
   "metadata": {},
   "outputs": [
    {
     "name": "stdout",
     "output_type": "stream",
     "text": [
      "2018-01-01 00:00:00 2018-12-31 00:00:00\n",
      "2018-01-01 00:00:00 2018-12-31 00:00:00\n",
      "2018-01-02 00:00:00 2018-12-31 00:00:00\n",
      "2018-01-01 00:00:00 2018-12-31 00:00:00\n"
     ]
    }
   ],
   "source": [
    "print(users['reg_date'].min(), users['reg_date'].max())\n",
    "print(calls['call_date'].min(), calls['call_date'].max())\n",
    "print(messages['message_date'].min(), messages['message_date'].max())\n",
    "print(internet['session_date'].min(), internet['session_date'].max())"
   ]
  },
  {
   "cell_type": "markdown",
   "metadata": {},
   "source": [
    "Действительно охватывается весь 2018 год. Значит рассматриваемый период - 12 месяцев."
   ]
  },
  {
   "cell_type": "markdown",
   "metadata": {},
   "source": [
    "**Расчетные значения для каждого пользователя**\n",
    "\n",
    "Найдем для каждого пользователя:\n",
    "\n",
    "- количество сделанных звонков и израсходованных минут разговора по месяцам;\n",
    "- количество отправленных сообщений по месяцам;\n",
    "- объем израсходованного интернет-трафика по месяцам."
   ]
  },
  {
   "cell_type": "markdown",
   "metadata": {},
   "source": [
    "Для начала я сделаю новые столбцы 'month' для таблиц, по которым идут расчеты"
   ]
  },
  {
   "cell_type": "code",
   "execution_count": 71,
   "metadata": {},
   "outputs": [
    {
     "data": {
      "text/html": [
       "<div>\n",
       "<style scoped>\n",
       "    .dataframe tbody tr th:only-of-type {\n",
       "        vertical-align: middle;\n",
       "    }\n",
       "\n",
       "    .dataframe tbody tr th {\n",
       "        vertical-align: top;\n",
       "    }\n",
       "\n",
       "    .dataframe thead th {\n",
       "        text-align: right;\n",
       "    }\n",
       "</style>\n",
       "<table border=\"1\" class=\"dataframe\">\n",
       "  <thead>\n",
       "    <tr style=\"text-align: right;\">\n",
       "      <th></th>\n",
       "      <th>id</th>\n",
       "      <th>mb_used</th>\n",
       "      <th>session_date</th>\n",
       "      <th>user_id</th>\n",
       "      <th>month</th>\n",
       "    </tr>\n",
       "  </thead>\n",
       "  <tbody>\n",
       "    <tr>\n",
       "      <th>0</th>\n",
       "      <td>1000_0</td>\n",
       "      <td>112.95</td>\n",
       "      <td>2018-11-25</td>\n",
       "      <td>1000</td>\n",
       "      <td>11</td>\n",
       "    </tr>\n",
       "    <tr>\n",
       "      <th>1</th>\n",
       "      <td>1000_1</td>\n",
       "      <td>1052.81</td>\n",
       "      <td>2018-09-07</td>\n",
       "      <td>1000</td>\n",
       "      <td>9</td>\n",
       "    </tr>\n",
       "    <tr>\n",
       "      <th>2</th>\n",
       "      <td>1000_2</td>\n",
       "      <td>1197.26</td>\n",
       "      <td>2018-06-25</td>\n",
       "      <td>1000</td>\n",
       "      <td>6</td>\n",
       "    </tr>\n",
       "    <tr>\n",
       "      <th>3</th>\n",
       "      <td>1000_3</td>\n",
       "      <td>550.27</td>\n",
       "      <td>2018-08-22</td>\n",
       "      <td>1000</td>\n",
       "      <td>8</td>\n",
       "    </tr>\n",
       "    <tr>\n",
       "      <th>4</th>\n",
       "      <td>1000_4</td>\n",
       "      <td>302.56</td>\n",
       "      <td>2018-09-24</td>\n",
       "      <td>1000</td>\n",
       "      <td>9</td>\n",
       "    </tr>\n",
       "  </tbody>\n",
       "</table>\n",
       "</div>"
      ],
      "text/plain": [
       "       id  mb_used session_date  user_id  month\n",
       "0  1000_0   112.95   2018-11-25     1000     11\n",
       "1  1000_1  1052.81   2018-09-07     1000      9\n",
       "2  1000_2  1197.26   2018-06-25     1000      6\n",
       "3  1000_3   550.27   2018-08-22     1000      8\n",
       "4  1000_4   302.56   2018-09-24     1000      9"
      ]
     },
     "execution_count": 71,
     "metadata": {},
     "output_type": "execute_result"
    }
   ],
   "source": [
    "#Функция, для расчета месяцев\n",
    "def found_month(row):\n",
    "    return row.month\n",
    "\n",
    "calls['month'] = calls['call_date'].apply(found_month)\n",
    "\n",
    "messages['month'] = messages['message_date'].apply(found_month)\n",
    "\n",
    "internet['month'] = internet['session_date'].apply(found_month)\n",
    "\n",
    "internet.head()"
   ]
  },
  {
   "cell_type": "markdown",
   "metadata": {},
   "source": [
    "Далее делаю сводные таблицы *по месяцам*:"
   ]
  },
  {
   "cell_type": "code",
   "execution_count": 72,
   "metadata": {},
   "outputs": [
    {
     "data": {
      "text/html": [
       "<div>\n",
       "<style scoped>\n",
       "    .dataframe tbody tr th:only-of-type {\n",
       "        vertical-align: middle;\n",
       "    }\n",
       "\n",
       "    .dataframe tbody tr th {\n",
       "        vertical-align: top;\n",
       "    }\n",
       "\n",
       "    .dataframe thead th {\n",
       "        text-align: right;\n",
       "    }\n",
       "</style>\n",
       "<table border=\"1\" class=\"dataframe\">\n",
       "  <thead>\n",
       "    <tr style=\"text-align: right;\">\n",
       "      <th></th>\n",
       "      <th></th>\n",
       "      <th>calls_count</th>\n",
       "      <th>all_calls_duration</th>\n",
       "    </tr>\n",
       "    <tr>\n",
       "      <th>user_id</th>\n",
       "      <th>month</th>\n",
       "      <th></th>\n",
       "      <th></th>\n",
       "    </tr>\n",
       "  </thead>\n",
       "  <tbody>\n",
       "    <tr>\n",
       "      <th rowspan=\"5\" valign=\"top\">1000</th>\n",
       "      <th>5</th>\n",
       "      <td>22</td>\n",
       "      <td>159</td>\n",
       "    </tr>\n",
       "    <tr>\n",
       "      <th>6</th>\n",
       "      <td>43</td>\n",
       "      <td>172</td>\n",
       "    </tr>\n",
       "    <tr>\n",
       "      <th>7</th>\n",
       "      <td>47</td>\n",
       "      <td>340</td>\n",
       "    </tr>\n",
       "    <tr>\n",
       "      <th>8</th>\n",
       "      <td>52</td>\n",
       "      <td>408</td>\n",
       "    </tr>\n",
       "    <tr>\n",
       "      <th>9</th>\n",
       "      <td>58</td>\n",
       "      <td>466</td>\n",
       "    </tr>\n",
       "    <tr>\n",
       "      <th>...</th>\n",
       "      <th>...</th>\n",
       "      <td>...</td>\n",
       "      <td>...</td>\n",
       "    </tr>\n",
       "    <tr>\n",
       "      <th>1498</th>\n",
       "      <th>10</th>\n",
       "      <td>41</td>\n",
       "      <td>247</td>\n",
       "    </tr>\n",
       "    <tr>\n",
       "      <th rowspan=\"4\" valign=\"top\">1499</th>\n",
       "      <th>9</th>\n",
       "      <td>9</td>\n",
       "      <td>70</td>\n",
       "    </tr>\n",
       "    <tr>\n",
       "      <th>10</th>\n",
       "      <td>68</td>\n",
       "      <td>449</td>\n",
       "    </tr>\n",
       "    <tr>\n",
       "      <th>11</th>\n",
       "      <td>74</td>\n",
       "      <td>612</td>\n",
       "    </tr>\n",
       "    <tr>\n",
       "      <th>12</th>\n",
       "      <td>69</td>\n",
       "      <td>492</td>\n",
       "    </tr>\n",
       "  </tbody>\n",
       "</table>\n",
       "<p>3174 rows × 2 columns</p>\n",
       "</div>"
      ],
      "text/plain": [
       "               calls_count  all_calls_duration\n",
       "user_id month                                 \n",
       "1000    5               22                 159\n",
       "        6               43                 172\n",
       "        7               47                 340\n",
       "        8               52                 408\n",
       "        9               58                 466\n",
       "...                    ...                 ...\n",
       "1498    10              41                 247\n",
       "1499    9                9                  70\n",
       "        10              68                 449\n",
       "        11              74                 612\n",
       "        12              69                 492\n",
       "\n",
       "[3174 rows x 2 columns]"
      ]
     },
     "execution_count": 72,
     "metadata": {},
     "output_type": "execute_result"
    }
   ],
   "source": [
    "#Количество сделанных звонков и израсходованных минут разговора по месяцам для каждого пользователя\n",
    "calls_pivot = pd.pivot_table(calls, index=['user_id', 'month'], values='duration', aggfunc=['count','sum'])\n",
    "calls_pivot.columns = ['calls_count', 'all_calls_duration']\n",
    "calls_pivot['all_calls_duration'] = pd.to_numeric(calls_pivot['all_calls_duration'], downcast='integer')\n",
    "calls_pivot"
   ]
  },
  {
   "cell_type": "code",
   "execution_count": 73,
   "metadata": {},
   "outputs": [
    {
     "data": {
      "text/html": [
       "<div>\n",
       "<style scoped>\n",
       "    .dataframe tbody tr th:only-of-type {\n",
       "        vertical-align: middle;\n",
       "    }\n",
       "\n",
       "    .dataframe tbody tr th {\n",
       "        vertical-align: top;\n",
       "    }\n",
       "\n",
       "    .dataframe thead th {\n",
       "        text-align: right;\n",
       "    }\n",
       "</style>\n",
       "<table border=\"1\" class=\"dataframe\">\n",
       "  <thead>\n",
       "    <tr style=\"text-align: right;\">\n",
       "      <th></th>\n",
       "      <th></th>\n",
       "      <th>messages_count</th>\n",
       "    </tr>\n",
       "    <tr>\n",
       "      <th>user_id</th>\n",
       "      <th>month</th>\n",
       "      <th></th>\n",
       "    </tr>\n",
       "  </thead>\n",
       "  <tbody>\n",
       "    <tr>\n",
       "      <th rowspan=\"5\" valign=\"top\">1000</th>\n",
       "      <th>5</th>\n",
       "      <td>22</td>\n",
       "    </tr>\n",
       "    <tr>\n",
       "      <th>6</th>\n",
       "      <td>60</td>\n",
       "    </tr>\n",
       "    <tr>\n",
       "      <th>7</th>\n",
       "      <td>75</td>\n",
       "    </tr>\n",
       "    <tr>\n",
       "      <th>8</th>\n",
       "      <td>81</td>\n",
       "    </tr>\n",
       "    <tr>\n",
       "      <th>9</th>\n",
       "      <td>57</td>\n",
       "    </tr>\n",
       "    <tr>\n",
       "      <th>...</th>\n",
       "      <th>...</th>\n",
       "      <td>...</td>\n",
       "    </tr>\n",
       "    <tr>\n",
       "      <th>1498</th>\n",
       "      <th>10</th>\n",
       "      <td>42</td>\n",
       "    </tr>\n",
       "    <tr>\n",
       "      <th rowspan=\"4\" valign=\"top\">1499</th>\n",
       "      <th>9</th>\n",
       "      <td>11</td>\n",
       "    </tr>\n",
       "    <tr>\n",
       "      <th>10</th>\n",
       "      <td>48</td>\n",
       "    </tr>\n",
       "    <tr>\n",
       "      <th>11</th>\n",
       "      <td>59</td>\n",
       "    </tr>\n",
       "    <tr>\n",
       "      <th>12</th>\n",
       "      <td>66</td>\n",
       "    </tr>\n",
       "  </tbody>\n",
       "</table>\n",
       "<p>2717 rows × 1 columns</p>\n",
       "</div>"
      ],
      "text/plain": [
       "               messages_count\n",
       "user_id month                \n",
       "1000    5                  22\n",
       "        6                  60\n",
       "        7                  75\n",
       "        8                  81\n",
       "        9                  57\n",
       "...                       ...\n",
       "1498    10                 42\n",
       "1499    9                  11\n",
       "        10                 48\n",
       "        11                 59\n",
       "        12                 66\n",
       "\n",
       "[2717 rows x 1 columns]"
      ]
     },
     "execution_count": 73,
     "metadata": {},
     "output_type": "execute_result"
    }
   ],
   "source": [
    "#Количество отправленных сообщений по месяцам для каждого пользователя\n",
    "messages_pivot = pd.pivot_table(messages, index=['user_id', 'month'], values='id', aggfunc='count')\n",
    "messages_pivot.columns = ['messages_count']\n",
    "messages_pivot"
   ]
  },
  {
   "cell_type": "code",
   "execution_count": 74,
   "metadata": {},
   "outputs": [
    {
     "data": {
      "text/html": [
       "<div>\n",
       "<style scoped>\n",
       "    .dataframe tbody tr th:only-of-type {\n",
       "        vertical-align: middle;\n",
       "    }\n",
       "\n",
       "    .dataframe tbody tr th {\n",
       "        vertical-align: top;\n",
       "    }\n",
       "\n",
       "    .dataframe thead th {\n",
       "        text-align: right;\n",
       "    }\n",
       "</style>\n",
       "<table border=\"1\" class=\"dataframe\">\n",
       "  <thead>\n",
       "    <tr style=\"text-align: right;\">\n",
       "      <th></th>\n",
       "      <th></th>\n",
       "      <th>traffic_mb</th>\n",
       "    </tr>\n",
       "    <tr>\n",
       "      <th>user_id</th>\n",
       "      <th>month</th>\n",
       "      <th></th>\n",
       "    </tr>\n",
       "  </thead>\n",
       "  <tbody>\n",
       "    <tr>\n",
       "      <th rowspan=\"5\" valign=\"top\">1000</th>\n",
       "      <th>5</th>\n",
       "      <td>2253.49</td>\n",
       "    </tr>\n",
       "    <tr>\n",
       "      <th>6</th>\n",
       "      <td>23233.77</td>\n",
       "    </tr>\n",
       "    <tr>\n",
       "      <th>7</th>\n",
       "      <td>14003.64</td>\n",
       "    </tr>\n",
       "    <tr>\n",
       "      <th>8</th>\n",
       "      <td>14055.93</td>\n",
       "    </tr>\n",
       "    <tr>\n",
       "      <th>9</th>\n",
       "      <td>14568.91</td>\n",
       "    </tr>\n",
       "    <tr>\n",
       "      <th>...</th>\n",
       "      <th>...</th>\n",
       "      <td>...</td>\n",
       "    </tr>\n",
       "    <tr>\n",
       "      <th>1498</th>\n",
       "      <th>10</th>\n",
       "      <td>20579.36</td>\n",
       "    </tr>\n",
       "    <tr>\n",
       "      <th rowspan=\"4\" valign=\"top\">1499</th>\n",
       "      <th>9</th>\n",
       "      <td>1845.75</td>\n",
       "    </tr>\n",
       "    <tr>\n",
       "      <th>10</th>\n",
       "      <td>17788.51</td>\n",
       "    </tr>\n",
       "    <tr>\n",
       "      <th>11</th>\n",
       "      <td>17963.31</td>\n",
       "    </tr>\n",
       "    <tr>\n",
       "      <th>12</th>\n",
       "      <td>13055.58</td>\n",
       "    </tr>\n",
       "  </tbody>\n",
       "</table>\n",
       "<p>3203 rows × 1 columns</p>\n",
       "</div>"
      ],
      "text/plain": [
       "               traffic_mb\n",
       "user_id month            \n",
       "1000    5         2253.49\n",
       "        6        23233.77\n",
       "        7        14003.64\n",
       "        8        14055.93\n",
       "        9        14568.91\n",
       "...                   ...\n",
       "1498    10       20579.36\n",
       "1499    9         1845.75\n",
       "        10       17788.51\n",
       "        11       17963.31\n",
       "        12       13055.58\n",
       "\n",
       "[3203 rows x 1 columns]"
      ]
     },
     "execution_count": 74,
     "metadata": {},
     "output_type": "execute_result"
    }
   ],
   "source": [
    "#Объем израсходованного интернет-трафика по месяцам для каждого пользователя\n",
    "internet_pivot = pd.pivot_table(internet, index=['user_id', 'month'], values='mb_used', aggfunc='sum')\n",
    "internet_pivot.columns = ['traffic_mb']\n",
    "internet_pivot['traffic_mb'] = pd.to_numeric(internet_pivot['traffic_mb'], downcast='integer')\n",
    "internet_pivot"
   ]
  },
  {
   "cell_type": "code",
   "execution_count": 75,
   "metadata": {},
   "outputs": [
    {
     "data": {
      "text/html": [
       "<div>\n",
       "<style scoped>\n",
       "    .dataframe tbody tr th:only-of-type {\n",
       "        vertical-align: middle;\n",
       "    }\n",
       "\n",
       "    .dataframe tbody tr th {\n",
       "        vertical-align: top;\n",
       "    }\n",
       "\n",
       "    .dataframe thead th {\n",
       "        text-align: right;\n",
       "    }\n",
       "</style>\n",
       "<table border=\"1\" class=\"dataframe\">\n",
       "  <thead>\n",
       "    <tr style=\"text-align: right;\">\n",
       "      <th></th>\n",
       "      <th></th>\n",
       "      <th>calls_count</th>\n",
       "      <th>all_calls_duration</th>\n",
       "      <th>messages_count</th>\n",
       "      <th>traffic_mb</th>\n",
       "    </tr>\n",
       "    <tr>\n",
       "      <th>user_id</th>\n",
       "      <th>month</th>\n",
       "      <th></th>\n",
       "      <th></th>\n",
       "      <th></th>\n",
       "      <th></th>\n",
       "    </tr>\n",
       "  </thead>\n",
       "  <tbody>\n",
       "    <tr>\n",
       "      <th rowspan=\"8\" valign=\"top\">1000</th>\n",
       "      <th>5</th>\n",
       "      <td>22.0</td>\n",
       "      <td>159.0</td>\n",
       "      <td>22.0</td>\n",
       "      <td>2253.49</td>\n",
       "    </tr>\n",
       "    <tr>\n",
       "      <th>6</th>\n",
       "      <td>43.0</td>\n",
       "      <td>172.0</td>\n",
       "      <td>60.0</td>\n",
       "      <td>23233.77</td>\n",
       "    </tr>\n",
       "    <tr>\n",
       "      <th>7</th>\n",
       "      <td>47.0</td>\n",
       "      <td>340.0</td>\n",
       "      <td>75.0</td>\n",
       "      <td>14003.64</td>\n",
       "    </tr>\n",
       "    <tr>\n",
       "      <th>8</th>\n",
       "      <td>52.0</td>\n",
       "      <td>408.0</td>\n",
       "      <td>81.0</td>\n",
       "      <td>14055.93</td>\n",
       "    </tr>\n",
       "    <tr>\n",
       "      <th>9</th>\n",
       "      <td>58.0</td>\n",
       "      <td>466.0</td>\n",
       "      <td>57.0</td>\n",
       "      <td>14568.91</td>\n",
       "    </tr>\n",
       "    <tr>\n",
       "      <th>10</th>\n",
       "      <td>57.0</td>\n",
       "      <td>350.0</td>\n",
       "      <td>73.0</td>\n",
       "      <td>14702.49</td>\n",
       "    </tr>\n",
       "    <tr>\n",
       "      <th>11</th>\n",
       "      <td>43.0</td>\n",
       "      <td>338.0</td>\n",
       "      <td>58.0</td>\n",
       "      <td>14756.47</td>\n",
       "    </tr>\n",
       "    <tr>\n",
       "      <th>12</th>\n",
       "      <td>46.0</td>\n",
       "      <td>333.0</td>\n",
       "      <td>70.0</td>\n",
       "      <td>9817.61</td>\n",
       "    </tr>\n",
       "    <tr>\n",
       "      <th rowspan=\"2\" valign=\"top\">1001</th>\n",
       "      <th>11</th>\n",
       "      <td>59.0</td>\n",
       "      <td>430.0</td>\n",
       "      <td>NaN</td>\n",
       "      <td>18429.34</td>\n",
       "    </tr>\n",
       "    <tr>\n",
       "      <th>12</th>\n",
       "      <td>63.0</td>\n",
       "      <td>414.0</td>\n",
       "      <td>NaN</td>\n",
       "      <td>14036.66</td>\n",
       "    </tr>\n",
       "    <tr>\n",
       "      <th rowspan=\"5\" valign=\"top\">1002</th>\n",
       "      <th>6</th>\n",
       "      <td>15.0</td>\n",
       "      <td>117.0</td>\n",
       "      <td>4.0</td>\n",
       "      <td>10856.82</td>\n",
       "    </tr>\n",
       "    <tr>\n",
       "      <th>7</th>\n",
       "      <td>26.0</td>\n",
       "      <td>214.0</td>\n",
       "      <td>11.0</td>\n",
       "      <td>17580.10</td>\n",
       "    </tr>\n",
       "    <tr>\n",
       "      <th>8</th>\n",
       "      <td>42.0</td>\n",
       "      <td>289.0</td>\n",
       "      <td>13.0</td>\n",
       "      <td>20319.26</td>\n",
       "    </tr>\n",
       "    <tr>\n",
       "      <th>9</th>\n",
       "      <td>36.0</td>\n",
       "      <td>206.0</td>\n",
       "      <td>4.0</td>\n",
       "      <td>16691.08</td>\n",
       "    </tr>\n",
       "    <tr>\n",
       "      <th>10</th>\n",
       "      <td>33.0</td>\n",
       "      <td>212.0</td>\n",
       "      <td>10.0</td>\n",
       "      <td>13888.25</td>\n",
       "    </tr>\n",
       "  </tbody>\n",
       "</table>\n",
       "</div>"
      ],
      "text/plain": [
       "               calls_count  all_calls_duration  messages_count  traffic_mb\n",
       "user_id month                                                             \n",
       "1000    5             22.0               159.0            22.0     2253.49\n",
       "        6             43.0               172.0            60.0    23233.77\n",
       "        7             47.0               340.0            75.0    14003.64\n",
       "        8             52.0               408.0            81.0    14055.93\n",
       "        9             58.0               466.0            57.0    14568.91\n",
       "        10            57.0               350.0            73.0    14702.49\n",
       "        11            43.0               338.0            58.0    14756.47\n",
       "        12            46.0               333.0            70.0     9817.61\n",
       "1001    11            59.0               430.0             NaN    18429.34\n",
       "        12            63.0               414.0             NaN    14036.66\n",
       "1002    6             15.0               117.0             4.0    10856.82\n",
       "        7             26.0               214.0            11.0    17580.10\n",
       "        8             42.0               289.0            13.0    20319.26\n",
       "        9             36.0               206.0             4.0    16691.08\n",
       "        10            33.0               212.0            10.0    13888.25"
      ]
     },
     "execution_count": 75,
     "metadata": {},
     "output_type": "execute_result"
    }
   ],
   "source": [
    "# объединяем все три сводные таблицы в одну\n",
    "dfs = [calls_pivot, messages_pivot, internet_pivot]\n",
    "grouped_data = reduce((lambda left,right: pd.merge(left,right,on=['user_id', 'month'], how='outer')), dfs)\n",
    "grouped_data.head(15)"
   ]
  },
  {
   "cell_type": "markdown",
   "metadata": {},
   "source": [
    "**Теперь посчитаем *помесячную выручку* для каждого пользователя**\n",
    "\n",
    "Вычтем бесплатный лимит из суммарного количества звонков, сообщений и интернет-трафика; остаток умножим на значение из тарифного плана; прибавим абонентскую плату, соответствующую тарифному плану."
   ]
  },
  {
   "cell_type": "code",
   "execution_count": 76,
   "metadata": {},
   "outputs": [],
   "source": [
    "# пропущенные значения в столбцах заменяем на нули\n",
    "grouped_data.loc[grouped_data['all_calls_duration'].isna(), 'all_calls_duration'] = 0\n",
    "grouped_data.loc[grouped_data['messages_count'].isna(), 'messages_count'] = 0\n",
    "grouped_data.loc[grouped_data['traffic_mb'].isna(), 'traffic_mb'] = 0"
   ]
  },
  {
   "cell_type": "code",
   "execution_count": 77,
   "metadata": {},
   "outputs": [
    {
     "data": {
      "text/html": [
       "<div>\n",
       "<style scoped>\n",
       "    .dataframe tbody tr th:only-of-type {\n",
       "        vertical-align: middle;\n",
       "    }\n",
       "\n",
       "    .dataframe tbody tr th {\n",
       "        vertical-align: top;\n",
       "    }\n",
       "\n",
       "    .dataframe thead th {\n",
       "        text-align: right;\n",
       "    }\n",
       "</style>\n",
       "<table border=\"1\" class=\"dataframe\">\n",
       "  <thead>\n",
       "    <tr style=\"text-align: right;\">\n",
       "      <th></th>\n",
       "      <th></th>\n",
       "      <th>calls_count</th>\n",
       "      <th>all_calls_duration</th>\n",
       "      <th>messages_count</th>\n",
       "      <th>traffic_mb</th>\n",
       "    </tr>\n",
       "    <tr>\n",
       "      <th>user_id</th>\n",
       "      <th>month</th>\n",
       "      <th></th>\n",
       "      <th></th>\n",
       "      <th></th>\n",
       "      <th></th>\n",
       "    </tr>\n",
       "  </thead>\n",
       "  <tbody>\n",
       "    <tr>\n",
       "      <th rowspan=\"5\" valign=\"top\">1000</th>\n",
       "      <th>5</th>\n",
       "      <td>22.0</td>\n",
       "      <td>159.0</td>\n",
       "      <td>22.0</td>\n",
       "      <td>2253.49</td>\n",
       "    </tr>\n",
       "    <tr>\n",
       "      <th>6</th>\n",
       "      <td>43.0</td>\n",
       "      <td>172.0</td>\n",
       "      <td>60.0</td>\n",
       "      <td>23233.77</td>\n",
       "    </tr>\n",
       "    <tr>\n",
       "      <th>7</th>\n",
       "      <td>47.0</td>\n",
       "      <td>340.0</td>\n",
       "      <td>75.0</td>\n",
       "      <td>14003.64</td>\n",
       "    </tr>\n",
       "    <tr>\n",
       "      <th>8</th>\n",
       "      <td>52.0</td>\n",
       "      <td>408.0</td>\n",
       "      <td>81.0</td>\n",
       "      <td>14055.93</td>\n",
       "    </tr>\n",
       "    <tr>\n",
       "      <th>9</th>\n",
       "      <td>58.0</td>\n",
       "      <td>466.0</td>\n",
       "      <td>57.0</td>\n",
       "      <td>14568.91</td>\n",
       "    </tr>\n",
       "  </tbody>\n",
       "</table>\n",
       "</div>"
      ],
      "text/plain": [
       "               calls_count  all_calls_duration  messages_count  traffic_mb\n",
       "user_id month                                                             \n",
       "1000    5             22.0               159.0            22.0     2253.49\n",
       "        6             43.0               172.0            60.0    23233.77\n",
       "        7             47.0               340.0            75.0    14003.64\n",
       "        8             52.0               408.0            81.0    14055.93\n",
       "        9             58.0               466.0            57.0    14568.91"
      ]
     },
     "execution_count": 77,
     "metadata": {},
     "output_type": "execute_result"
    }
   ],
   "source": [
    "grouped_data.head()"
   ]
  },
  {
   "cell_type": "code",
   "execution_count": 78,
   "metadata": {},
   "outputs": [
    {
     "data": {
      "text/html": [
       "<div>\n",
       "<style scoped>\n",
       "    .dataframe tbody tr th:only-of-type {\n",
       "        vertical-align: middle;\n",
       "    }\n",
       "\n",
       "    .dataframe tbody tr th {\n",
       "        vertical-align: top;\n",
       "    }\n",
       "\n",
       "    .dataframe thead th {\n",
       "        text-align: right;\n",
       "    }\n",
       "</style>\n",
       "<table border=\"1\" class=\"dataframe\">\n",
       "  <thead>\n",
       "    <tr style=\"text-align: right;\">\n",
       "      <th></th>\n",
       "      <th></th>\n",
       "      <th>calls_count</th>\n",
       "      <th>all_calls_duration</th>\n",
       "      <th>messages_count</th>\n",
       "      <th>traffic_mb</th>\n",
       "      <th>tariff</th>\n",
       "    </tr>\n",
       "    <tr>\n",
       "      <th>user_id</th>\n",
       "      <th>month</th>\n",
       "      <th></th>\n",
       "      <th></th>\n",
       "      <th></th>\n",
       "      <th></th>\n",
       "      <th></th>\n",
       "    </tr>\n",
       "  </thead>\n",
       "  <tbody>\n",
       "    <tr>\n",
       "      <th rowspan=\"5\" valign=\"top\">1000</th>\n",
       "      <th>5</th>\n",
       "      <td>22.0</td>\n",
       "      <td>159.0</td>\n",
       "      <td>22.0</td>\n",
       "      <td>2253.49</td>\n",
       "      <td>ultra</td>\n",
       "    </tr>\n",
       "    <tr>\n",
       "      <th>6</th>\n",
       "      <td>43.0</td>\n",
       "      <td>172.0</td>\n",
       "      <td>60.0</td>\n",
       "      <td>23233.77</td>\n",
       "      <td>ultra</td>\n",
       "    </tr>\n",
       "    <tr>\n",
       "      <th>7</th>\n",
       "      <td>47.0</td>\n",
       "      <td>340.0</td>\n",
       "      <td>75.0</td>\n",
       "      <td>14003.64</td>\n",
       "      <td>ultra</td>\n",
       "    </tr>\n",
       "    <tr>\n",
       "      <th>8</th>\n",
       "      <td>52.0</td>\n",
       "      <td>408.0</td>\n",
       "      <td>81.0</td>\n",
       "      <td>14055.93</td>\n",
       "      <td>ultra</td>\n",
       "    </tr>\n",
       "    <tr>\n",
       "      <th>9</th>\n",
       "      <td>58.0</td>\n",
       "      <td>466.0</td>\n",
       "      <td>57.0</td>\n",
       "      <td>14568.91</td>\n",
       "      <td>ultra</td>\n",
       "    </tr>\n",
       "  </tbody>\n",
       "</table>\n",
       "</div>"
      ],
      "text/plain": [
       "               calls_count  all_calls_duration  messages_count  traffic_mb  \\\n",
       "user_id month                                                                \n",
       "1000    5             22.0               159.0            22.0     2253.49   \n",
       "        6             43.0               172.0            60.0    23233.77   \n",
       "        7             47.0               340.0            75.0    14003.64   \n",
       "        8             52.0               408.0            81.0    14055.93   \n",
       "        9             58.0               466.0            57.0    14568.91   \n",
       "\n",
       "              tariff  \n",
       "user_id month         \n",
       "1000    5      ultra  \n",
       "        6      ultra  \n",
       "        7      ultra  \n",
       "        8      ultra  \n",
       "        9      ultra  "
      ]
     },
     "execution_count": 78,
     "metadata": {},
     "output_type": "execute_result"
    }
   ],
   "source": [
    "# добавим наименование используемого тарифа для каждого пользователя\n",
    "grouped_data = grouped_data.reset_index().merge(users[['user_id','tariff']], on=\"user_id\").set_index(['user_id', 'month'])\n",
    "grouped_data.head()"
   ]
  },
  {
   "cell_type": "code",
   "execution_count": 79,
   "metadata": {},
   "outputs": [
    {
     "data": {
      "text/html": [
       "<div>\n",
       "<style scoped>\n",
       "    .dataframe tbody tr th:only-of-type {\n",
       "        vertical-align: middle;\n",
       "    }\n",
       "\n",
       "    .dataframe tbody tr th {\n",
       "        vertical-align: top;\n",
       "    }\n",
       "\n",
       "    .dataframe thead th {\n",
       "        text-align: right;\n",
       "    }\n",
       "</style>\n",
       "<table border=\"1\" class=\"dataframe\">\n",
       "  <thead>\n",
       "    <tr style=\"text-align: right;\">\n",
       "      <th></th>\n",
       "      <th></th>\n",
       "      <th>calls_count</th>\n",
       "      <th>all_calls_duration</th>\n",
       "      <th>messages_count</th>\n",
       "      <th>traffic_mb</th>\n",
       "      <th>tariff</th>\n",
       "      <th>revenue_call</th>\n",
       "    </tr>\n",
       "    <tr>\n",
       "      <th>user_id</th>\n",
       "      <th>month</th>\n",
       "      <th></th>\n",
       "      <th></th>\n",
       "      <th></th>\n",
       "      <th></th>\n",
       "      <th></th>\n",
       "      <th></th>\n",
       "    </tr>\n",
       "  </thead>\n",
       "  <tbody>\n",
       "    <tr>\n",
       "      <th rowspan=\"8\" valign=\"top\">1000</th>\n",
       "      <th>5</th>\n",
       "      <td>22.0</td>\n",
       "      <td>159.0</td>\n",
       "      <td>22.0</td>\n",
       "      <td>2253.49</td>\n",
       "      <td>ultra</td>\n",
       "      <td>0.0</td>\n",
       "    </tr>\n",
       "    <tr>\n",
       "      <th>6</th>\n",
       "      <td>43.0</td>\n",
       "      <td>172.0</td>\n",
       "      <td>60.0</td>\n",
       "      <td>23233.77</td>\n",
       "      <td>ultra</td>\n",
       "      <td>0.0</td>\n",
       "    </tr>\n",
       "    <tr>\n",
       "      <th>7</th>\n",
       "      <td>47.0</td>\n",
       "      <td>340.0</td>\n",
       "      <td>75.0</td>\n",
       "      <td>14003.64</td>\n",
       "      <td>ultra</td>\n",
       "      <td>0.0</td>\n",
       "    </tr>\n",
       "    <tr>\n",
       "      <th>8</th>\n",
       "      <td>52.0</td>\n",
       "      <td>408.0</td>\n",
       "      <td>81.0</td>\n",
       "      <td>14055.93</td>\n",
       "      <td>ultra</td>\n",
       "      <td>0.0</td>\n",
       "    </tr>\n",
       "    <tr>\n",
       "      <th>9</th>\n",
       "      <td>58.0</td>\n",
       "      <td>466.0</td>\n",
       "      <td>57.0</td>\n",
       "      <td>14568.91</td>\n",
       "      <td>ultra</td>\n",
       "      <td>0.0</td>\n",
       "    </tr>\n",
       "    <tr>\n",
       "      <th>10</th>\n",
       "      <td>57.0</td>\n",
       "      <td>350.0</td>\n",
       "      <td>73.0</td>\n",
       "      <td>14702.49</td>\n",
       "      <td>ultra</td>\n",
       "      <td>0.0</td>\n",
       "    </tr>\n",
       "    <tr>\n",
       "      <th>11</th>\n",
       "      <td>43.0</td>\n",
       "      <td>338.0</td>\n",
       "      <td>58.0</td>\n",
       "      <td>14756.47</td>\n",
       "      <td>ultra</td>\n",
       "      <td>0.0</td>\n",
       "    </tr>\n",
       "    <tr>\n",
       "      <th>12</th>\n",
       "      <td>46.0</td>\n",
       "      <td>333.0</td>\n",
       "      <td>70.0</td>\n",
       "      <td>9817.61</td>\n",
       "      <td>ultra</td>\n",
       "      <td>0.0</td>\n",
       "    </tr>\n",
       "    <tr>\n",
       "      <th rowspan=\"2\" valign=\"top\">1001</th>\n",
       "      <th>11</th>\n",
       "      <td>59.0</td>\n",
       "      <td>430.0</td>\n",
       "      <td>0.0</td>\n",
       "      <td>18429.34</td>\n",
       "      <td>smart</td>\n",
       "      <td>0.0</td>\n",
       "    </tr>\n",
       "    <tr>\n",
       "      <th>12</th>\n",
       "      <td>63.0</td>\n",
       "      <td>414.0</td>\n",
       "      <td>0.0</td>\n",
       "      <td>14036.66</td>\n",
       "      <td>smart</td>\n",
       "      <td>0.0</td>\n",
       "    </tr>\n",
       "  </tbody>\n",
       "</table>\n",
       "</div>"
      ],
      "text/plain": [
       "               calls_count  all_calls_duration  messages_count  traffic_mb  \\\n",
       "user_id month                                                                \n",
       "1000    5             22.0               159.0            22.0     2253.49   \n",
       "        6             43.0               172.0            60.0    23233.77   \n",
       "        7             47.0               340.0            75.0    14003.64   \n",
       "        8             52.0               408.0            81.0    14055.93   \n",
       "        9             58.0               466.0            57.0    14568.91   \n",
       "        10            57.0               350.0            73.0    14702.49   \n",
       "        11            43.0               338.0            58.0    14756.47   \n",
       "        12            46.0               333.0            70.0     9817.61   \n",
       "1001    11            59.0               430.0             0.0    18429.34   \n",
       "        12            63.0               414.0             0.0    14036.66   \n",
       "\n",
       "              tariff  revenue_call  \n",
       "user_id month                       \n",
       "1000    5      ultra           0.0  \n",
       "        6      ultra           0.0  \n",
       "        7      ultra           0.0  \n",
       "        8      ultra           0.0  \n",
       "        9      ultra           0.0  \n",
       "        10     ultra           0.0  \n",
       "        11     ultra           0.0  \n",
       "        12     ultra           0.0  \n",
       "1001    11     smart           0.0  \n",
       "        12     smart           0.0  "
      ]
     },
     "execution_count": 79,
     "metadata": {},
     "output_type": "execute_result"
    }
   ],
   "source": [
    "# Пишу функцию для подсчета чистой выручки по звонкам для каждого пользователя, сохраняю в отдельный столбец 'revenue_call'.\n",
    "# Пока что не прибавляю абонентскую плату, т.к. позднее буду прибалять ее к общей прибыли по звонкам, сообщениям и интернет-трафику\n",
    "def profit_calls(row):\n",
    "    duration = row['all_calls_duration']\n",
    "    tariff = row['tariff']\n",
    "    \n",
    "    if tariff == 'smart':\n",
    "        extra_duration = duration - 500\n",
    "        if extra_duration < 0:\n",
    "            extra_duration = 0\n",
    "        else:\n",
    "            extra_duration *= 3\n",
    "        return extra_duration\n",
    "    else: \n",
    "        extra_duration = duration - 3000\n",
    "        if extra_duration < 0: \n",
    "            extra_duration = 0\n",
    "        else:\n",
    "            extra_duration *= 1\n",
    "        return extra_duration\n",
    "grouped_data['revenue_call'] = grouped_data.apply(profit_calls, axis=1)\n",
    "grouped_data.head(10)    "
   ]
  },
  {
   "cell_type": "code",
   "execution_count": 80,
   "metadata": {},
   "outputs": [
    {
     "data": {
      "text/html": [
       "<div>\n",
       "<style scoped>\n",
       "    .dataframe tbody tr th:only-of-type {\n",
       "        vertical-align: middle;\n",
       "    }\n",
       "\n",
       "    .dataframe tbody tr th {\n",
       "        vertical-align: top;\n",
       "    }\n",
       "\n",
       "    .dataframe thead th {\n",
       "        text-align: right;\n",
       "    }\n",
       "</style>\n",
       "<table border=\"1\" class=\"dataframe\">\n",
       "  <thead>\n",
       "    <tr style=\"text-align: right;\">\n",
       "      <th></th>\n",
       "      <th></th>\n",
       "      <th>calls_count</th>\n",
       "      <th>all_calls_duration</th>\n",
       "      <th>messages_count</th>\n",
       "      <th>traffic_mb</th>\n",
       "      <th>tariff</th>\n",
       "      <th>revenue_call</th>\n",
       "      <th>revenue_massage</th>\n",
       "    </tr>\n",
       "    <tr>\n",
       "      <th>user_id</th>\n",
       "      <th>month</th>\n",
       "      <th></th>\n",
       "      <th></th>\n",
       "      <th></th>\n",
       "      <th></th>\n",
       "      <th></th>\n",
       "      <th></th>\n",
       "      <th></th>\n",
       "    </tr>\n",
       "  </thead>\n",
       "  <tbody>\n",
       "    <tr>\n",
       "      <th rowspan=\"8\" valign=\"top\">1000</th>\n",
       "      <th>5</th>\n",
       "      <td>22.0</td>\n",
       "      <td>159.0</td>\n",
       "      <td>22.0</td>\n",
       "      <td>2253.49</td>\n",
       "      <td>ultra</td>\n",
       "      <td>0.0</td>\n",
       "      <td>0.0</td>\n",
       "    </tr>\n",
       "    <tr>\n",
       "      <th>6</th>\n",
       "      <td>43.0</td>\n",
       "      <td>172.0</td>\n",
       "      <td>60.0</td>\n",
       "      <td>23233.77</td>\n",
       "      <td>ultra</td>\n",
       "      <td>0.0</td>\n",
       "      <td>0.0</td>\n",
       "    </tr>\n",
       "    <tr>\n",
       "      <th>7</th>\n",
       "      <td>47.0</td>\n",
       "      <td>340.0</td>\n",
       "      <td>75.0</td>\n",
       "      <td>14003.64</td>\n",
       "      <td>ultra</td>\n",
       "      <td>0.0</td>\n",
       "      <td>0.0</td>\n",
       "    </tr>\n",
       "    <tr>\n",
       "      <th>8</th>\n",
       "      <td>52.0</td>\n",
       "      <td>408.0</td>\n",
       "      <td>81.0</td>\n",
       "      <td>14055.93</td>\n",
       "      <td>ultra</td>\n",
       "      <td>0.0</td>\n",
       "      <td>0.0</td>\n",
       "    </tr>\n",
       "    <tr>\n",
       "      <th>9</th>\n",
       "      <td>58.0</td>\n",
       "      <td>466.0</td>\n",
       "      <td>57.0</td>\n",
       "      <td>14568.91</td>\n",
       "      <td>ultra</td>\n",
       "      <td>0.0</td>\n",
       "      <td>0.0</td>\n",
       "    </tr>\n",
       "    <tr>\n",
       "      <th>10</th>\n",
       "      <td>57.0</td>\n",
       "      <td>350.0</td>\n",
       "      <td>73.0</td>\n",
       "      <td>14702.49</td>\n",
       "      <td>ultra</td>\n",
       "      <td>0.0</td>\n",
       "      <td>0.0</td>\n",
       "    </tr>\n",
       "    <tr>\n",
       "      <th>11</th>\n",
       "      <td>43.0</td>\n",
       "      <td>338.0</td>\n",
       "      <td>58.0</td>\n",
       "      <td>14756.47</td>\n",
       "      <td>ultra</td>\n",
       "      <td>0.0</td>\n",
       "      <td>0.0</td>\n",
       "    </tr>\n",
       "    <tr>\n",
       "      <th>12</th>\n",
       "      <td>46.0</td>\n",
       "      <td>333.0</td>\n",
       "      <td>70.0</td>\n",
       "      <td>9817.61</td>\n",
       "      <td>ultra</td>\n",
       "      <td>0.0</td>\n",
       "      <td>0.0</td>\n",
       "    </tr>\n",
       "    <tr>\n",
       "      <th rowspan=\"2\" valign=\"top\">1001</th>\n",
       "      <th>11</th>\n",
       "      <td>59.0</td>\n",
       "      <td>430.0</td>\n",
       "      <td>0.0</td>\n",
       "      <td>18429.34</td>\n",
       "      <td>smart</td>\n",
       "      <td>0.0</td>\n",
       "      <td>0.0</td>\n",
       "    </tr>\n",
       "    <tr>\n",
       "      <th>12</th>\n",
       "      <td>63.0</td>\n",
       "      <td>414.0</td>\n",
       "      <td>0.0</td>\n",
       "      <td>14036.66</td>\n",
       "      <td>smart</td>\n",
       "      <td>0.0</td>\n",
       "      <td>0.0</td>\n",
       "    </tr>\n",
       "  </tbody>\n",
       "</table>\n",
       "</div>"
      ],
      "text/plain": [
       "               calls_count  all_calls_duration  messages_count  traffic_mb  \\\n",
       "user_id month                                                                \n",
       "1000    5             22.0               159.0            22.0     2253.49   \n",
       "        6             43.0               172.0            60.0    23233.77   \n",
       "        7             47.0               340.0            75.0    14003.64   \n",
       "        8             52.0               408.0            81.0    14055.93   \n",
       "        9             58.0               466.0            57.0    14568.91   \n",
       "        10            57.0               350.0            73.0    14702.49   \n",
       "        11            43.0               338.0            58.0    14756.47   \n",
       "        12            46.0               333.0            70.0     9817.61   \n",
       "1001    11            59.0               430.0             0.0    18429.34   \n",
       "        12            63.0               414.0             0.0    14036.66   \n",
       "\n",
       "              tariff  revenue_call  revenue_massage  \n",
       "user_id month                                        \n",
       "1000    5      ultra           0.0              0.0  \n",
       "        6      ultra           0.0              0.0  \n",
       "        7      ultra           0.0              0.0  \n",
       "        8      ultra           0.0              0.0  \n",
       "        9      ultra           0.0              0.0  \n",
       "        10     ultra           0.0              0.0  \n",
       "        11     ultra           0.0              0.0  \n",
       "        12     ultra           0.0              0.0  \n",
       "1001    11     smart           0.0              0.0  \n",
       "        12     smart           0.0              0.0  "
      ]
     },
     "execution_count": 80,
     "metadata": {},
     "output_type": "execute_result"
    }
   ],
   "source": [
    "# Пишу функцию для подсчета чистой выручки по сообщениям для каждого пользователя, сохраняю в отдельный столбец 'revenue_massage'.\n",
    "def profit_message(row):\n",
    "    duration = row['messages_count']\n",
    "    tariff = row['tariff']\n",
    "    \n",
    "    if tariff == 'smart':\n",
    "        extra_duration = duration - 50\n",
    "        if extra_duration < 0:\n",
    "            extra_duration = 0\n",
    "        else:\n",
    "            extra_duration *= 3\n",
    "        return (extra_duration)\n",
    "    else: \n",
    "        extra_duration = duration - 1000\n",
    "        if extra_duration < 0: \n",
    "            extra_duration = 0\n",
    "        else:\n",
    "            extra_duration *= 1\n",
    "        return (extra_duration)\n",
    "grouped_data['revenue_massage'] = grouped_data.apply(profit_message, axis=1)\n",
    "grouped_data.head(10)    "
   ]
  },
  {
   "cell_type": "code",
   "execution_count": 81,
   "metadata": {},
   "outputs": [],
   "source": [
    "# Перевожу Мб в Гб и округляю в большую сторону:\n",
    "grouped_data['traffic_gb'] = np.ceil(grouped_data['traffic_mb'] / 1024)"
   ]
  },
  {
   "cell_type": "code",
   "execution_count": 82,
   "metadata": {},
   "outputs": [
    {
     "data": {
      "text/html": [
       "<div>\n",
       "<style scoped>\n",
       "    .dataframe tbody tr th:only-of-type {\n",
       "        vertical-align: middle;\n",
       "    }\n",
       "\n",
       "    .dataframe tbody tr th {\n",
       "        vertical-align: top;\n",
       "    }\n",
       "\n",
       "    .dataframe thead th {\n",
       "        text-align: right;\n",
       "    }\n",
       "</style>\n",
       "<table border=\"1\" class=\"dataframe\">\n",
       "  <thead>\n",
       "    <tr style=\"text-align: right;\">\n",
       "      <th></th>\n",
       "      <th></th>\n",
       "      <th>calls_count</th>\n",
       "      <th>all_calls_duration</th>\n",
       "      <th>messages_count</th>\n",
       "      <th>traffic_mb</th>\n",
       "      <th>tariff</th>\n",
       "      <th>revenue_call</th>\n",
       "      <th>revenue_massage</th>\n",
       "      <th>traffic_gb</th>\n",
       "      <th>revenue_traffic_gb</th>\n",
       "    </tr>\n",
       "    <tr>\n",
       "      <th>user_id</th>\n",
       "      <th>month</th>\n",
       "      <th></th>\n",
       "      <th></th>\n",
       "      <th></th>\n",
       "      <th></th>\n",
       "      <th></th>\n",
       "      <th></th>\n",
       "      <th></th>\n",
       "      <th></th>\n",
       "      <th></th>\n",
       "    </tr>\n",
       "  </thead>\n",
       "  <tbody>\n",
       "    <tr>\n",
       "      <th rowspan=\"8\" valign=\"top\">1000</th>\n",
       "      <th>5</th>\n",
       "      <td>22.0</td>\n",
       "      <td>159.0</td>\n",
       "      <td>22.0</td>\n",
       "      <td>2253.49</td>\n",
       "      <td>ultra</td>\n",
       "      <td>0.0</td>\n",
       "      <td>0.0</td>\n",
       "      <td>3.0</td>\n",
       "      <td>0.0</td>\n",
       "    </tr>\n",
       "    <tr>\n",
       "      <th>6</th>\n",
       "      <td>43.0</td>\n",
       "      <td>172.0</td>\n",
       "      <td>60.0</td>\n",
       "      <td>23233.77</td>\n",
       "      <td>ultra</td>\n",
       "      <td>0.0</td>\n",
       "      <td>0.0</td>\n",
       "      <td>23.0</td>\n",
       "      <td>0.0</td>\n",
       "    </tr>\n",
       "    <tr>\n",
       "      <th>7</th>\n",
       "      <td>47.0</td>\n",
       "      <td>340.0</td>\n",
       "      <td>75.0</td>\n",
       "      <td>14003.64</td>\n",
       "      <td>ultra</td>\n",
       "      <td>0.0</td>\n",
       "      <td>0.0</td>\n",
       "      <td>14.0</td>\n",
       "      <td>0.0</td>\n",
       "    </tr>\n",
       "    <tr>\n",
       "      <th>8</th>\n",
       "      <td>52.0</td>\n",
       "      <td>408.0</td>\n",
       "      <td>81.0</td>\n",
       "      <td>14055.93</td>\n",
       "      <td>ultra</td>\n",
       "      <td>0.0</td>\n",
       "      <td>0.0</td>\n",
       "      <td>14.0</td>\n",
       "      <td>0.0</td>\n",
       "    </tr>\n",
       "    <tr>\n",
       "      <th>9</th>\n",
       "      <td>58.0</td>\n",
       "      <td>466.0</td>\n",
       "      <td>57.0</td>\n",
       "      <td>14568.91</td>\n",
       "      <td>ultra</td>\n",
       "      <td>0.0</td>\n",
       "      <td>0.0</td>\n",
       "      <td>15.0</td>\n",
       "      <td>0.0</td>\n",
       "    </tr>\n",
       "    <tr>\n",
       "      <th>10</th>\n",
       "      <td>57.0</td>\n",
       "      <td>350.0</td>\n",
       "      <td>73.0</td>\n",
       "      <td>14702.49</td>\n",
       "      <td>ultra</td>\n",
       "      <td>0.0</td>\n",
       "      <td>0.0</td>\n",
       "      <td>15.0</td>\n",
       "      <td>0.0</td>\n",
       "    </tr>\n",
       "    <tr>\n",
       "      <th>11</th>\n",
       "      <td>43.0</td>\n",
       "      <td>338.0</td>\n",
       "      <td>58.0</td>\n",
       "      <td>14756.47</td>\n",
       "      <td>ultra</td>\n",
       "      <td>0.0</td>\n",
       "      <td>0.0</td>\n",
       "      <td>15.0</td>\n",
       "      <td>0.0</td>\n",
       "    </tr>\n",
       "    <tr>\n",
       "      <th>12</th>\n",
       "      <td>46.0</td>\n",
       "      <td>333.0</td>\n",
       "      <td>70.0</td>\n",
       "      <td>9817.61</td>\n",
       "      <td>ultra</td>\n",
       "      <td>0.0</td>\n",
       "      <td>0.0</td>\n",
       "      <td>10.0</td>\n",
       "      <td>0.0</td>\n",
       "    </tr>\n",
       "    <tr>\n",
       "      <th rowspan=\"2\" valign=\"top\">1001</th>\n",
       "      <th>11</th>\n",
       "      <td>59.0</td>\n",
       "      <td>430.0</td>\n",
       "      <td>0.0</td>\n",
       "      <td>18429.34</td>\n",
       "      <td>smart</td>\n",
       "      <td>0.0</td>\n",
       "      <td>0.0</td>\n",
       "      <td>18.0</td>\n",
       "      <td>600.0</td>\n",
       "    </tr>\n",
       "    <tr>\n",
       "      <th>12</th>\n",
       "      <td>63.0</td>\n",
       "      <td>414.0</td>\n",
       "      <td>0.0</td>\n",
       "      <td>14036.66</td>\n",
       "      <td>smart</td>\n",
       "      <td>0.0</td>\n",
       "      <td>0.0</td>\n",
       "      <td>14.0</td>\n",
       "      <td>0.0</td>\n",
       "    </tr>\n",
       "  </tbody>\n",
       "</table>\n",
       "</div>"
      ],
      "text/plain": [
       "               calls_count  all_calls_duration  messages_count  traffic_mb  \\\n",
       "user_id month                                                                \n",
       "1000    5             22.0               159.0            22.0     2253.49   \n",
       "        6             43.0               172.0            60.0    23233.77   \n",
       "        7             47.0               340.0            75.0    14003.64   \n",
       "        8             52.0               408.0            81.0    14055.93   \n",
       "        9             58.0               466.0            57.0    14568.91   \n",
       "        10            57.0               350.0            73.0    14702.49   \n",
       "        11            43.0               338.0            58.0    14756.47   \n",
       "        12            46.0               333.0            70.0     9817.61   \n",
       "1001    11            59.0               430.0             0.0    18429.34   \n",
       "        12            63.0               414.0             0.0    14036.66   \n",
       "\n",
       "              tariff  revenue_call  revenue_massage  traffic_gb  \\\n",
       "user_id month                                                     \n",
       "1000    5      ultra           0.0              0.0         3.0   \n",
       "        6      ultra           0.0              0.0        23.0   \n",
       "        7      ultra           0.0              0.0        14.0   \n",
       "        8      ultra           0.0              0.0        14.0   \n",
       "        9      ultra           0.0              0.0        15.0   \n",
       "        10     ultra           0.0              0.0        15.0   \n",
       "        11     ultra           0.0              0.0        15.0   \n",
       "        12     ultra           0.0              0.0        10.0   \n",
       "1001    11     smart           0.0              0.0        18.0   \n",
       "        12     smart           0.0              0.0        14.0   \n",
       "\n",
       "               revenue_traffic_gb  \n",
       "user_id month                      \n",
       "1000    5                     0.0  \n",
       "        6                     0.0  \n",
       "        7                     0.0  \n",
       "        8                     0.0  \n",
       "        9                     0.0  \n",
       "        10                    0.0  \n",
       "        11                    0.0  \n",
       "        12                    0.0  \n",
       "1001    11                  600.0  \n",
       "        12                    0.0  "
      ]
     },
     "execution_count": 82,
     "metadata": {},
     "output_type": "execute_result"
    }
   ],
   "source": [
    "# Пишу функцию для подсчета чистой выручки по интернет-трафику (в Гб) для каждого пользователя, сохраняю в отдельный столбец 'revenue_traffic_gb'.\n",
    "def profit_traffic_gb(row):\n",
    "    duration = row['traffic_gb']\n",
    "    tariff = row['tariff']\n",
    "    \n",
    "    if tariff == 'smart':\n",
    "        extra_duration = duration - 15\n",
    "        if extra_duration <= 0:\n",
    "            extra_duration = 0\n",
    "        else:\n",
    "            extra_duration *= 200\n",
    "        return (extra_duration)\n",
    "    else: \n",
    "        extra_duration = duration - 30\n",
    "        if extra_duration <= 0: \n",
    "            extra_duration = 0\n",
    "        else:\n",
    "            extra_duration *= 150\n",
    "        return (extra_duration)\n",
    "grouped_data['revenue_traffic_gb'] = grouped_data.apply(profit_traffic_gb, axis=1)\n",
    "grouped_data.head(10)"
   ]
  },
  {
   "cell_type": "markdown",
   "metadata": {},
   "source": [
    "Далее создаю столбец 'final_revenue', где сложу значения чистой выручке по звонкам, сообщениям и трафику. А уже после прибавлю к этому значению абонентскую плату в соответсвии с тарифом. "
   ]
  },
  {
   "cell_type": "code",
   "execution_count": 83,
   "metadata": {},
   "outputs": [
    {
     "data": {
      "text/html": [
       "<div>\n",
       "<style scoped>\n",
       "    .dataframe tbody tr th:only-of-type {\n",
       "        vertical-align: middle;\n",
       "    }\n",
       "\n",
       "    .dataframe tbody tr th {\n",
       "        vertical-align: top;\n",
       "    }\n",
       "\n",
       "    .dataframe thead th {\n",
       "        text-align: right;\n",
       "    }\n",
       "</style>\n",
       "<table border=\"1\" class=\"dataframe\">\n",
       "  <thead>\n",
       "    <tr style=\"text-align: right;\">\n",
       "      <th></th>\n",
       "      <th></th>\n",
       "      <th>calls_count</th>\n",
       "      <th>all_calls_duration</th>\n",
       "      <th>messages_count</th>\n",
       "      <th>traffic_mb</th>\n",
       "      <th>tariff</th>\n",
       "      <th>revenue_call</th>\n",
       "      <th>revenue_massage</th>\n",
       "      <th>traffic_gb</th>\n",
       "      <th>revenue_traffic_gb</th>\n",
       "      <th>final_revenue</th>\n",
       "    </tr>\n",
       "    <tr>\n",
       "      <th>user_id</th>\n",
       "      <th>month</th>\n",
       "      <th></th>\n",
       "      <th></th>\n",
       "      <th></th>\n",
       "      <th></th>\n",
       "      <th></th>\n",
       "      <th></th>\n",
       "      <th></th>\n",
       "      <th></th>\n",
       "      <th></th>\n",
       "      <th></th>\n",
       "    </tr>\n",
       "  </thead>\n",
       "  <tbody>\n",
       "    <tr>\n",
       "      <th rowspan=\"5\" valign=\"top\">1000</th>\n",
       "      <th>5</th>\n",
       "      <td>22.0</td>\n",
       "      <td>159.0</td>\n",
       "      <td>22.0</td>\n",
       "      <td>2253.49</td>\n",
       "      <td>ultra</td>\n",
       "      <td>0.0</td>\n",
       "      <td>0.0</td>\n",
       "      <td>3.0</td>\n",
       "      <td>0.0</td>\n",
       "      <td>0.0</td>\n",
       "    </tr>\n",
       "    <tr>\n",
       "      <th>6</th>\n",
       "      <td>43.0</td>\n",
       "      <td>172.0</td>\n",
       "      <td>60.0</td>\n",
       "      <td>23233.77</td>\n",
       "      <td>ultra</td>\n",
       "      <td>0.0</td>\n",
       "      <td>0.0</td>\n",
       "      <td>23.0</td>\n",
       "      <td>0.0</td>\n",
       "      <td>0.0</td>\n",
       "    </tr>\n",
       "    <tr>\n",
       "      <th>7</th>\n",
       "      <td>47.0</td>\n",
       "      <td>340.0</td>\n",
       "      <td>75.0</td>\n",
       "      <td>14003.64</td>\n",
       "      <td>ultra</td>\n",
       "      <td>0.0</td>\n",
       "      <td>0.0</td>\n",
       "      <td>14.0</td>\n",
       "      <td>0.0</td>\n",
       "      <td>0.0</td>\n",
       "    </tr>\n",
       "    <tr>\n",
       "      <th>8</th>\n",
       "      <td>52.0</td>\n",
       "      <td>408.0</td>\n",
       "      <td>81.0</td>\n",
       "      <td>14055.93</td>\n",
       "      <td>ultra</td>\n",
       "      <td>0.0</td>\n",
       "      <td>0.0</td>\n",
       "      <td>14.0</td>\n",
       "      <td>0.0</td>\n",
       "      <td>0.0</td>\n",
       "    </tr>\n",
       "    <tr>\n",
       "      <th>9</th>\n",
       "      <td>58.0</td>\n",
       "      <td>466.0</td>\n",
       "      <td>57.0</td>\n",
       "      <td>14568.91</td>\n",
       "      <td>ultra</td>\n",
       "      <td>0.0</td>\n",
       "      <td>0.0</td>\n",
       "      <td>15.0</td>\n",
       "      <td>0.0</td>\n",
       "      <td>0.0</td>\n",
       "    </tr>\n",
       "  </tbody>\n",
       "</table>\n",
       "</div>"
      ],
      "text/plain": [
       "               calls_count  all_calls_duration  messages_count  traffic_mb  \\\n",
       "user_id month                                                                \n",
       "1000    5             22.0               159.0            22.0     2253.49   \n",
       "        6             43.0               172.0            60.0    23233.77   \n",
       "        7             47.0               340.0            75.0    14003.64   \n",
       "        8             52.0               408.0            81.0    14055.93   \n",
       "        9             58.0               466.0            57.0    14568.91   \n",
       "\n",
       "              tariff  revenue_call  revenue_massage  traffic_gb  \\\n",
       "user_id month                                                     \n",
       "1000    5      ultra           0.0              0.0         3.0   \n",
       "        6      ultra           0.0              0.0        23.0   \n",
       "        7      ultra           0.0              0.0        14.0   \n",
       "        8      ultra           0.0              0.0        14.0   \n",
       "        9      ultra           0.0              0.0        15.0   \n",
       "\n",
       "               revenue_traffic_gb  final_revenue  \n",
       "user_id month                                     \n",
       "1000    5                     0.0            0.0  \n",
       "        6                     0.0            0.0  \n",
       "        7                     0.0            0.0  \n",
       "        8                     0.0            0.0  \n",
       "        9                     0.0            0.0  "
      ]
     },
     "execution_count": 83,
     "metadata": {},
     "output_type": "execute_result"
    }
   ],
   "source": [
    "grouped_data['final_revenue'] = grouped_data['revenue_call'] + grouped_data['revenue_massage'] + grouped_data['revenue_traffic_gb']\n",
    "grouped_data.head()"
   ]
  },
  {
   "cell_type": "code",
   "execution_count": 84,
   "metadata": {},
   "outputs": [
    {
     "data": {
      "text/html": [
       "<div>\n",
       "<style scoped>\n",
       "    .dataframe tbody tr th:only-of-type {\n",
       "        vertical-align: middle;\n",
       "    }\n",
       "\n",
       "    .dataframe tbody tr th {\n",
       "        vertical-align: top;\n",
       "    }\n",
       "\n",
       "    .dataframe thead th {\n",
       "        text-align: right;\n",
       "    }\n",
       "</style>\n",
       "<table border=\"1\" class=\"dataframe\">\n",
       "  <thead>\n",
       "    <tr style=\"text-align: right;\">\n",
       "      <th></th>\n",
       "      <th></th>\n",
       "      <th>calls_count</th>\n",
       "      <th>all_calls_duration</th>\n",
       "      <th>messages_count</th>\n",
       "      <th>traffic_mb</th>\n",
       "      <th>tariff</th>\n",
       "      <th>revenue_call</th>\n",
       "      <th>revenue_massage</th>\n",
       "      <th>traffic_gb</th>\n",
       "      <th>revenue_traffic_gb</th>\n",
       "      <th>final_revenue</th>\n",
       "    </tr>\n",
       "    <tr>\n",
       "      <th>user_id</th>\n",
       "      <th>month</th>\n",
       "      <th></th>\n",
       "      <th></th>\n",
       "      <th></th>\n",
       "      <th></th>\n",
       "      <th></th>\n",
       "      <th></th>\n",
       "      <th></th>\n",
       "      <th></th>\n",
       "      <th></th>\n",
       "      <th></th>\n",
       "    </tr>\n",
       "  </thead>\n",
       "  <tbody>\n",
       "    <tr>\n",
       "      <th rowspan=\"8\" valign=\"top\">1000</th>\n",
       "      <th>5</th>\n",
       "      <td>22.0</td>\n",
       "      <td>159.0</td>\n",
       "      <td>22.0</td>\n",
       "      <td>2253.49</td>\n",
       "      <td>ultra</td>\n",
       "      <td>0.0</td>\n",
       "      <td>0.0</td>\n",
       "      <td>3.0</td>\n",
       "      <td>0.0</td>\n",
       "      <td>1950.0</td>\n",
       "    </tr>\n",
       "    <tr>\n",
       "      <th>6</th>\n",
       "      <td>43.0</td>\n",
       "      <td>172.0</td>\n",
       "      <td>60.0</td>\n",
       "      <td>23233.77</td>\n",
       "      <td>ultra</td>\n",
       "      <td>0.0</td>\n",
       "      <td>0.0</td>\n",
       "      <td>23.0</td>\n",
       "      <td>0.0</td>\n",
       "      <td>1950.0</td>\n",
       "    </tr>\n",
       "    <tr>\n",
       "      <th>7</th>\n",
       "      <td>47.0</td>\n",
       "      <td>340.0</td>\n",
       "      <td>75.0</td>\n",
       "      <td>14003.64</td>\n",
       "      <td>ultra</td>\n",
       "      <td>0.0</td>\n",
       "      <td>0.0</td>\n",
       "      <td>14.0</td>\n",
       "      <td>0.0</td>\n",
       "      <td>1950.0</td>\n",
       "    </tr>\n",
       "    <tr>\n",
       "      <th>8</th>\n",
       "      <td>52.0</td>\n",
       "      <td>408.0</td>\n",
       "      <td>81.0</td>\n",
       "      <td>14055.93</td>\n",
       "      <td>ultra</td>\n",
       "      <td>0.0</td>\n",
       "      <td>0.0</td>\n",
       "      <td>14.0</td>\n",
       "      <td>0.0</td>\n",
       "      <td>1950.0</td>\n",
       "    </tr>\n",
       "    <tr>\n",
       "      <th>9</th>\n",
       "      <td>58.0</td>\n",
       "      <td>466.0</td>\n",
       "      <td>57.0</td>\n",
       "      <td>14568.91</td>\n",
       "      <td>ultra</td>\n",
       "      <td>0.0</td>\n",
       "      <td>0.0</td>\n",
       "      <td>15.0</td>\n",
       "      <td>0.0</td>\n",
       "      <td>1950.0</td>\n",
       "    </tr>\n",
       "    <tr>\n",
       "      <th>10</th>\n",
       "      <td>57.0</td>\n",
       "      <td>350.0</td>\n",
       "      <td>73.0</td>\n",
       "      <td>14702.49</td>\n",
       "      <td>ultra</td>\n",
       "      <td>0.0</td>\n",
       "      <td>0.0</td>\n",
       "      <td>15.0</td>\n",
       "      <td>0.0</td>\n",
       "      <td>1950.0</td>\n",
       "    </tr>\n",
       "    <tr>\n",
       "      <th>11</th>\n",
       "      <td>43.0</td>\n",
       "      <td>338.0</td>\n",
       "      <td>58.0</td>\n",
       "      <td>14756.47</td>\n",
       "      <td>ultra</td>\n",
       "      <td>0.0</td>\n",
       "      <td>0.0</td>\n",
       "      <td>15.0</td>\n",
       "      <td>0.0</td>\n",
       "      <td>1950.0</td>\n",
       "    </tr>\n",
       "    <tr>\n",
       "      <th>12</th>\n",
       "      <td>46.0</td>\n",
       "      <td>333.0</td>\n",
       "      <td>70.0</td>\n",
       "      <td>9817.61</td>\n",
       "      <td>ultra</td>\n",
       "      <td>0.0</td>\n",
       "      <td>0.0</td>\n",
       "      <td>10.0</td>\n",
       "      <td>0.0</td>\n",
       "      <td>1950.0</td>\n",
       "    </tr>\n",
       "    <tr>\n",
       "      <th rowspan=\"2\" valign=\"top\">1001</th>\n",
       "      <th>11</th>\n",
       "      <td>59.0</td>\n",
       "      <td>430.0</td>\n",
       "      <td>0.0</td>\n",
       "      <td>18429.34</td>\n",
       "      <td>smart</td>\n",
       "      <td>0.0</td>\n",
       "      <td>0.0</td>\n",
       "      <td>18.0</td>\n",
       "      <td>600.0</td>\n",
       "      <td>1150.0</td>\n",
       "    </tr>\n",
       "    <tr>\n",
       "      <th>12</th>\n",
       "      <td>63.0</td>\n",
       "      <td>414.0</td>\n",
       "      <td>0.0</td>\n",
       "      <td>14036.66</td>\n",
       "      <td>smart</td>\n",
       "      <td>0.0</td>\n",
       "      <td>0.0</td>\n",
       "      <td>14.0</td>\n",
       "      <td>0.0</td>\n",
       "      <td>550.0</td>\n",
       "    </tr>\n",
       "  </tbody>\n",
       "</table>\n",
       "</div>"
      ],
      "text/plain": [
       "               calls_count  all_calls_duration  messages_count  traffic_mb  \\\n",
       "user_id month                                                                \n",
       "1000    5             22.0               159.0            22.0     2253.49   \n",
       "        6             43.0               172.0            60.0    23233.77   \n",
       "        7             47.0               340.0            75.0    14003.64   \n",
       "        8             52.0               408.0            81.0    14055.93   \n",
       "        9             58.0               466.0            57.0    14568.91   \n",
       "        10            57.0               350.0            73.0    14702.49   \n",
       "        11            43.0               338.0            58.0    14756.47   \n",
       "        12            46.0               333.0            70.0     9817.61   \n",
       "1001    11            59.0               430.0             0.0    18429.34   \n",
       "        12            63.0               414.0             0.0    14036.66   \n",
       "\n",
       "              tariff  revenue_call  revenue_massage  traffic_gb  \\\n",
       "user_id month                                                     \n",
       "1000    5      ultra           0.0              0.0         3.0   \n",
       "        6      ultra           0.0              0.0        23.0   \n",
       "        7      ultra           0.0              0.0        14.0   \n",
       "        8      ultra           0.0              0.0        14.0   \n",
       "        9      ultra           0.0              0.0        15.0   \n",
       "        10     ultra           0.0              0.0        15.0   \n",
       "        11     ultra           0.0              0.0        15.0   \n",
       "        12     ultra           0.0              0.0        10.0   \n",
       "1001    11     smart           0.0              0.0        18.0   \n",
       "        12     smart           0.0              0.0        14.0   \n",
       "\n",
       "               revenue_traffic_gb  final_revenue  \n",
       "user_id month                                     \n",
       "1000    5                     0.0         1950.0  \n",
       "        6                     0.0         1950.0  \n",
       "        7                     0.0         1950.0  \n",
       "        8                     0.0         1950.0  \n",
       "        9                     0.0         1950.0  \n",
       "        10                    0.0         1950.0  \n",
       "        11                    0.0         1950.0  \n",
       "        12                    0.0         1950.0  \n",
       "1001    11                  600.0         1150.0  \n",
       "        12                    0.0          550.0  "
      ]
     },
     "execution_count": 84,
     "metadata": {},
     "output_type": "execute_result"
    }
   ],
   "source": [
    "# Пишу функцию для прибавлении к финальной выручке цены за абонентскую плату в соответсвии с тарифом\n",
    "def final_revenue(row):\n",
    "    value = row['final_revenue'] \n",
    "    tariff = row['tariff']    \n",
    "    extra_value = 0\n",
    "    \n",
    "    if tariff == 'smart':\n",
    "        extra_value = value + 550\n",
    "    else:\n",
    "        extra_value = value + 1950\n",
    "    return extra_value\n",
    "        \n",
    "grouped_data['final_revenue'] = grouped_data.apply(final_revenue, axis=1)\n",
    "grouped_data.head(10) "
   ]
  },
  {
   "cell_type": "code",
   "execution_count": 85,
   "metadata": {},
   "outputs": [
    {
     "data": {
      "text/html": [
       "<div>\n",
       "<style scoped>\n",
       "    .dataframe tbody tr th:only-of-type {\n",
       "        vertical-align: middle;\n",
       "    }\n",
       "\n",
       "    .dataframe tbody tr th {\n",
       "        vertical-align: top;\n",
       "    }\n",
       "\n",
       "    .dataframe thead th {\n",
       "        text-align: right;\n",
       "    }\n",
       "</style>\n",
       "<table border=\"1\" class=\"dataframe\">\n",
       "  <thead>\n",
       "    <tr style=\"text-align: right;\">\n",
       "      <th></th>\n",
       "      <th></th>\n",
       "      <th>calls_count</th>\n",
       "      <th>all_calls_duration</th>\n",
       "      <th>messages_count</th>\n",
       "      <th>traffic_mb</th>\n",
       "      <th>tariff</th>\n",
       "      <th>revenue_call</th>\n",
       "      <th>revenue_massage</th>\n",
       "      <th>traffic_gb</th>\n",
       "      <th>revenue_traffic_gb</th>\n",
       "      <th>final_revenue</th>\n",
       "    </tr>\n",
       "    <tr>\n",
       "      <th>user_id</th>\n",
       "      <th>month</th>\n",
       "      <th></th>\n",
       "      <th></th>\n",
       "      <th></th>\n",
       "      <th></th>\n",
       "      <th></th>\n",
       "      <th></th>\n",
       "      <th></th>\n",
       "      <th></th>\n",
       "      <th></th>\n",
       "      <th></th>\n",
       "    </tr>\n",
       "  </thead>\n",
       "  <tbody>\n",
       "    <tr>\n",
       "      <th rowspan=\"2\" valign=\"top\">1024</th>\n",
       "      <th>11</th>\n",
       "      <td>157.0</td>\n",
       "      <td>1146.0</td>\n",
       "      <td>0.0</td>\n",
       "      <td>43107.47</td>\n",
       "      <td>ultra</td>\n",
       "      <td>0.0</td>\n",
       "      <td>0.0</td>\n",
       "      <td>43.0</td>\n",
       "      <td>1950.0</td>\n",
       "      <td>3900.0</td>\n",
       "    </tr>\n",
       "    <tr>\n",
       "      <th>12</th>\n",
       "      <td>136.0</td>\n",
       "      <td>949.0</td>\n",
       "      <td>0.0</td>\n",
       "      <td>35948.13</td>\n",
       "      <td>ultra</td>\n",
       "      <td>0.0</td>\n",
       "      <td>0.0</td>\n",
       "      <td>36.0</td>\n",
       "      <td>900.0</td>\n",
       "      <td>2850.0</td>\n",
       "    </tr>\n",
       "    <tr>\n",
       "      <th>1050</th>\n",
       "      <th>7</th>\n",
       "      <td>35.0</td>\n",
       "      <td>209.0</td>\n",
       "      <td>52.0</td>\n",
       "      <td>35177.91</td>\n",
       "      <td>ultra</td>\n",
       "      <td>0.0</td>\n",
       "      <td>0.0</td>\n",
       "      <td>35.0</td>\n",
       "      <td>750.0</td>\n",
       "      <td>2700.0</td>\n",
       "    </tr>\n",
       "    <tr>\n",
       "      <th>1060</th>\n",
       "      <th>12</th>\n",
       "      <td>184.0</td>\n",
       "      <td>1233.0</td>\n",
       "      <td>52.0</td>\n",
       "      <td>43931.36</td>\n",
       "      <td>ultra</td>\n",
       "      <td>0.0</td>\n",
       "      <td>0.0</td>\n",
       "      <td>43.0</td>\n",
       "      <td>1950.0</td>\n",
       "      <td>3900.0</td>\n",
       "    </tr>\n",
       "    <tr>\n",
       "      <th>1124</th>\n",
       "      <th>10</th>\n",
       "      <td>152.0</td>\n",
       "      <td>1225.0</td>\n",
       "      <td>121.0</td>\n",
       "      <td>49745.69</td>\n",
       "      <td>ultra</td>\n",
       "      <td>0.0</td>\n",
       "      <td>0.0</td>\n",
       "      <td>49.0</td>\n",
       "      <td>2850.0</td>\n",
       "      <td>4800.0</td>\n",
       "    </tr>\n",
       "  </tbody>\n",
       "</table>\n",
       "</div>"
      ],
      "text/plain": [
       "               calls_count  all_calls_duration  messages_count  traffic_mb  \\\n",
       "user_id month                                                                \n",
       "1024    11           157.0              1146.0             0.0    43107.47   \n",
       "        12           136.0               949.0             0.0    35948.13   \n",
       "1050    7             35.0               209.0            52.0    35177.91   \n",
       "1060    12           184.0              1233.0            52.0    43931.36   \n",
       "1124    10           152.0              1225.0           121.0    49745.69   \n",
       "\n",
       "              tariff  revenue_call  revenue_massage  traffic_gb  \\\n",
       "user_id month                                                     \n",
       "1024    11     ultra           0.0              0.0        43.0   \n",
       "        12     ultra           0.0              0.0        36.0   \n",
       "1050    7      ultra           0.0              0.0        35.0   \n",
       "1060    12     ultra           0.0              0.0        43.0   \n",
       "1124    10     ultra           0.0              0.0        49.0   \n",
       "\n",
       "               revenue_traffic_gb  final_revenue  \n",
       "user_id month                                     \n",
       "1024    11                 1950.0         3900.0  \n",
       "        12                  900.0         2850.0  \n",
       "1050    7                   750.0         2700.0  \n",
       "1060    12                 1950.0         3900.0  \n",
       "1124    10                 2850.0         4800.0  "
      ]
     },
     "execution_count": 85,
     "metadata": {},
     "output_type": "execute_result"
    }
   ],
   "source": [
    "# Проверяю, превысил ли кто-то из пользователей тарифа 'ultra' лимит\n",
    "grouped_data.loc[(grouped_data['final_revenue'] > 1950) & (grouped_data['tariff'] == 'ultra')].head()"
   ]
  },
  {
   "cell_type": "code",
   "execution_count": 86,
   "metadata": {},
   "outputs": [
    {
     "data": {
      "text/plain": [
       "4800.0"
      ]
     },
     "execution_count": 86,
     "metadata": {},
     "output_type": "execute_result"
    }
   ],
   "source": [
    "# максимальная выручка среди пользователей тарифа 'ultra' лимит\n",
    "grouped_data.loc[grouped_data['tariff'] == 'ultra']['final_revenue'].max()"
   ]
  },
  {
   "cell_type": "code",
   "execution_count": 87,
   "metadata": {},
   "outputs": [
    {
     "data": {
      "text/plain": [
       "6770.0"
      ]
     },
     "execution_count": 87,
     "metadata": {},
     "output_type": "execute_result"
    }
   ],
   "source": [
    "# максимальная выручка среди пользователей тарифа 'smart' лимит\n",
    "grouped_data.loc[grouped_data['tariff'] == 'smart']['final_revenue'].max()"
   ]
  },
  {
   "cell_type": "code",
   "execution_count": 88,
   "metadata": {},
   "outputs": [
    {
     "data": {
      "text/html": [
       "<div>\n",
       "<style scoped>\n",
       "    .dataframe tbody tr th:only-of-type {\n",
       "        vertical-align: middle;\n",
       "    }\n",
       "\n",
       "    .dataframe tbody tr th {\n",
       "        vertical-align: top;\n",
       "    }\n",
       "\n",
       "    .dataframe thead th {\n",
       "        text-align: right;\n",
       "    }\n",
       "</style>\n",
       "<table border=\"1\" class=\"dataframe\">\n",
       "  <thead>\n",
       "    <tr style=\"text-align: right;\">\n",
       "      <th></th>\n",
       "      <th></th>\n",
       "      <th>calls_count</th>\n",
       "      <th>all_calls_duration</th>\n",
       "      <th>messages_count</th>\n",
       "      <th>traffic_mb</th>\n",
       "      <th>tariff</th>\n",
       "      <th>traffic_gb</th>\n",
       "      <th>final_revenue</th>\n",
       "    </tr>\n",
       "    <tr>\n",
       "      <th>user_id</th>\n",
       "      <th>month</th>\n",
       "      <th></th>\n",
       "      <th></th>\n",
       "      <th></th>\n",
       "      <th></th>\n",
       "      <th></th>\n",
       "      <th></th>\n",
       "      <th></th>\n",
       "    </tr>\n",
       "  </thead>\n",
       "  <tbody>\n",
       "    <tr>\n",
       "      <th rowspan=\"8\" valign=\"top\">1000</th>\n",
       "      <th>5</th>\n",
       "      <td>22.0</td>\n",
       "      <td>159.0</td>\n",
       "      <td>22.0</td>\n",
       "      <td>2253.49</td>\n",
       "      <td>ultra</td>\n",
       "      <td>3.0</td>\n",
       "      <td>1950.0</td>\n",
       "    </tr>\n",
       "    <tr>\n",
       "      <th>6</th>\n",
       "      <td>43.0</td>\n",
       "      <td>172.0</td>\n",
       "      <td>60.0</td>\n",
       "      <td>23233.77</td>\n",
       "      <td>ultra</td>\n",
       "      <td>23.0</td>\n",
       "      <td>1950.0</td>\n",
       "    </tr>\n",
       "    <tr>\n",
       "      <th>7</th>\n",
       "      <td>47.0</td>\n",
       "      <td>340.0</td>\n",
       "      <td>75.0</td>\n",
       "      <td>14003.64</td>\n",
       "      <td>ultra</td>\n",
       "      <td>14.0</td>\n",
       "      <td>1950.0</td>\n",
       "    </tr>\n",
       "    <tr>\n",
       "      <th>8</th>\n",
       "      <td>52.0</td>\n",
       "      <td>408.0</td>\n",
       "      <td>81.0</td>\n",
       "      <td>14055.93</td>\n",
       "      <td>ultra</td>\n",
       "      <td>14.0</td>\n",
       "      <td>1950.0</td>\n",
       "    </tr>\n",
       "    <tr>\n",
       "      <th>9</th>\n",
       "      <td>58.0</td>\n",
       "      <td>466.0</td>\n",
       "      <td>57.0</td>\n",
       "      <td>14568.91</td>\n",
       "      <td>ultra</td>\n",
       "      <td>15.0</td>\n",
       "      <td>1950.0</td>\n",
       "    </tr>\n",
       "    <tr>\n",
       "      <th>10</th>\n",
       "      <td>57.0</td>\n",
       "      <td>350.0</td>\n",
       "      <td>73.0</td>\n",
       "      <td>14702.49</td>\n",
       "      <td>ultra</td>\n",
       "      <td>15.0</td>\n",
       "      <td>1950.0</td>\n",
       "    </tr>\n",
       "    <tr>\n",
       "      <th>11</th>\n",
       "      <td>43.0</td>\n",
       "      <td>338.0</td>\n",
       "      <td>58.0</td>\n",
       "      <td>14756.47</td>\n",
       "      <td>ultra</td>\n",
       "      <td>15.0</td>\n",
       "      <td>1950.0</td>\n",
       "    </tr>\n",
       "    <tr>\n",
       "      <th>12</th>\n",
       "      <td>46.0</td>\n",
       "      <td>333.0</td>\n",
       "      <td>70.0</td>\n",
       "      <td>9817.61</td>\n",
       "      <td>ultra</td>\n",
       "      <td>10.0</td>\n",
       "      <td>1950.0</td>\n",
       "    </tr>\n",
       "    <tr>\n",
       "      <th rowspan=\"2\" valign=\"top\">1001</th>\n",
       "      <th>11</th>\n",
       "      <td>59.0</td>\n",
       "      <td>430.0</td>\n",
       "      <td>0.0</td>\n",
       "      <td>18429.34</td>\n",
       "      <td>smart</td>\n",
       "      <td>18.0</td>\n",
       "      <td>1150.0</td>\n",
       "    </tr>\n",
       "    <tr>\n",
       "      <th>12</th>\n",
       "      <td>63.0</td>\n",
       "      <td>414.0</td>\n",
       "      <td>0.0</td>\n",
       "      <td>14036.66</td>\n",
       "      <td>smart</td>\n",
       "      <td>14.0</td>\n",
       "      <td>550.0</td>\n",
       "    </tr>\n",
       "    <tr>\n",
       "      <th rowspan=\"5\" valign=\"top\">1002</th>\n",
       "      <th>6</th>\n",
       "      <td>15.0</td>\n",
       "      <td>117.0</td>\n",
       "      <td>4.0</td>\n",
       "      <td>10856.82</td>\n",
       "      <td>smart</td>\n",
       "      <td>11.0</td>\n",
       "      <td>550.0</td>\n",
       "    </tr>\n",
       "    <tr>\n",
       "      <th>7</th>\n",
       "      <td>26.0</td>\n",
       "      <td>214.0</td>\n",
       "      <td>11.0</td>\n",
       "      <td>17580.10</td>\n",
       "      <td>smart</td>\n",
       "      <td>18.0</td>\n",
       "      <td>1150.0</td>\n",
       "    </tr>\n",
       "    <tr>\n",
       "      <th>8</th>\n",
       "      <td>42.0</td>\n",
       "      <td>289.0</td>\n",
       "      <td>13.0</td>\n",
       "      <td>20319.26</td>\n",
       "      <td>smart</td>\n",
       "      <td>20.0</td>\n",
       "      <td>1550.0</td>\n",
       "    </tr>\n",
       "    <tr>\n",
       "      <th>9</th>\n",
       "      <td>36.0</td>\n",
       "      <td>206.0</td>\n",
       "      <td>4.0</td>\n",
       "      <td>16691.08</td>\n",
       "      <td>smart</td>\n",
       "      <td>17.0</td>\n",
       "      <td>950.0</td>\n",
       "    </tr>\n",
       "    <tr>\n",
       "      <th>10</th>\n",
       "      <td>33.0</td>\n",
       "      <td>212.0</td>\n",
       "      <td>10.0</td>\n",
       "      <td>13888.25</td>\n",
       "      <td>smart</td>\n",
       "      <td>14.0</td>\n",
       "      <td>550.0</td>\n",
       "    </tr>\n",
       "  </tbody>\n",
       "</table>\n",
       "</div>"
      ],
      "text/plain": [
       "               calls_count  all_calls_duration  messages_count  traffic_mb  \\\n",
       "user_id month                                                                \n",
       "1000    5             22.0               159.0            22.0     2253.49   \n",
       "        6             43.0               172.0            60.0    23233.77   \n",
       "        7             47.0               340.0            75.0    14003.64   \n",
       "        8             52.0               408.0            81.0    14055.93   \n",
       "        9             58.0               466.0            57.0    14568.91   \n",
       "        10            57.0               350.0            73.0    14702.49   \n",
       "        11            43.0               338.0            58.0    14756.47   \n",
       "        12            46.0               333.0            70.0     9817.61   \n",
       "1001    11            59.0               430.0             0.0    18429.34   \n",
       "        12            63.0               414.0             0.0    14036.66   \n",
       "1002    6             15.0               117.0             4.0    10856.82   \n",
       "        7             26.0               214.0            11.0    17580.10   \n",
       "        8             42.0               289.0            13.0    20319.26   \n",
       "        9             36.0               206.0             4.0    16691.08   \n",
       "        10            33.0               212.0            10.0    13888.25   \n",
       "\n",
       "              tariff  traffic_gb  final_revenue  \n",
       "user_id month                                    \n",
       "1000    5      ultra         3.0         1950.0  \n",
       "        6      ultra        23.0         1950.0  \n",
       "        7      ultra        14.0         1950.0  \n",
       "        8      ultra        14.0         1950.0  \n",
       "        9      ultra        15.0         1950.0  \n",
       "        10     ultra        15.0         1950.0  \n",
       "        11     ultra        15.0         1950.0  \n",
       "        12     ultra        10.0         1950.0  \n",
       "1001    11     smart        18.0         1150.0  \n",
       "        12     smart        14.0          550.0  \n",
       "1002    6      smart        11.0          550.0  \n",
       "        7      smart        18.0         1150.0  \n",
       "        8      smart        20.0         1550.0  \n",
       "        9      smart        17.0          950.0  \n",
       "        10     smart        14.0          550.0  "
      ]
     },
     "execution_count": 88,
     "metadata": {},
     "output_type": "execute_result"
    }
   ],
   "source": [
    "#столбцы revenue_call, revenue_massage, revenue_traffic_gb больше не нужны. Удаляю их\n",
    "grouped_data = grouped_data.drop(labels=['revenue_call', 'revenue_massage', 'revenue_traffic_gb'], axis=1)\n",
    "grouped_data.head(15)"
   ]
  },
  {
   "cell_type": "markdown",
   "metadata": {},
   "source": [
    "### Вывод по шагу 2:\n",
    "\n",
    "В ходе работы над данными было сделано:\n",
    "\n",
    "Заполнены нулевые значения в 'all_calls_duration', 'messages_count', 'traffic_mb'.\n",
    "Приведены типы данных.\n",
    "Сформированна таблица со всеми данными по пользователям."
   ]
  },
  {
   "cell_type": "markdown",
   "metadata": {},
   "source": [
    "# Шаг 3. Проанализирую данные\n",
    "\n",
    "Опишу поведение клиентов оператора, исходя из выборки. \n",
    "\n",
    "- Сколько минут разговора, сколько сообщений и какой объём интернет-трафика требуется пользователям каждого тарифа в месяц? \n",
    "- Посчитаю среднее количество, дисперсию и стандартное отклонение. Построю гистограммы. Опишу распределения."
   ]
  },
  {
   "cell_type": "markdown",
   "metadata": {},
   "source": [
    "*1. Посчитаю средннее - сколько минут разговора, сколько сообщений и какой объём интернет-трафика требуется пользователям каждого тарифа в месяц?*"
   ]
  },
  {
   "cell_type": "code",
   "execution_count": 89,
   "metadata": {},
   "outputs": [
    {
     "data": {
      "text/html": [
       "<div>\n",
       "<style scoped>\n",
       "    .dataframe tbody tr th:only-of-type {\n",
       "        vertical-align: middle;\n",
       "    }\n",
       "\n",
       "    .dataframe tbody tr th {\n",
       "        vertical-align: top;\n",
       "    }\n",
       "\n",
       "    .dataframe thead th {\n",
       "        text-align: right;\n",
       "    }\n",
       "</style>\n",
       "<table border=\"1\" class=\"dataframe\">\n",
       "  <thead>\n",
       "    <tr style=\"text-align: right;\">\n",
       "      <th></th>\n",
       "      <th>all_calls_duration</th>\n",
       "      <th>final_revenue</th>\n",
       "      <th>messages_count</th>\n",
       "      <th>traffic_mb</th>\n",
       "    </tr>\n",
       "    <tr>\n",
       "      <th>tariff</th>\n",
       "      <th></th>\n",
       "      <th></th>\n",
       "      <th></th>\n",
       "      <th></th>\n",
       "    </tr>\n",
       "  </thead>\n",
       "  <tbody>\n",
       "    <tr>\n",
       "      <th>smart</th>\n",
       "      <td>422.0</td>\n",
       "      <td>1023.0</td>\n",
       "      <td>28.0</td>\n",
       "      <td>16506.84</td>\n",
       "    </tr>\n",
       "    <tr>\n",
       "      <th>ultra</th>\n",
       "      <td>518.0</td>\n",
       "      <td>1950.0</td>\n",
       "      <td>38.0</td>\n",
       "      <td>19308.01</td>\n",
       "    </tr>\n",
       "  </tbody>\n",
       "</table>\n",
       "</div>"
      ],
      "text/plain": [
       "        all_calls_duration  final_revenue  messages_count  traffic_mb\n",
       "tariff                                                               \n",
       "smart                422.0         1023.0            28.0    16506.84\n",
       "ultra                518.0         1950.0            38.0    19308.01"
      ]
     },
     "execution_count": 89,
     "metadata": {},
     "output_type": "execute_result"
    }
   ],
   "source": [
    "medians = grouped_data.pivot_table(index=['tariff'], values=['all_calls_duration', 'messages_count', 'traffic_mb', 'final_revenue'], aggfunc='median')\n",
    "medians.head()"
   ]
  },
  {
   "cell_type": "markdown",
   "metadata": {},
   "source": [
    "Вывод: \n",
    "- В среднем, пользователи тарифа \"Смарт\" не исчерпывают лимит по количеству потраченных минут звонков и по сообщениями, но превышают лимит по веб-трафику (тратят в среднем 16 Гб при включенных в пакет услуг 15 Гб). Видимо поэтому выручка в среднем с пользователей данного тарифа превышает 550 р/мес, и составляет в среднем 960 р.\n",
    "\n",
    "- Пользователи тарифа \"Ультра\" в среднем не выходят за рамки включенного в пакет услуг лимита. Наоборот, почти не тратят и половины доступных минут, сообшений. В среднем тратят 19 Гб в месяц. В среднем, если мы взглянем на выручку с пользователей данного тарифа, то и тут видно, что они не выхлдят за пределы лимита, включенного в пакет услуг."
   ]
  },
  {
   "cell_type": "markdown",
   "metadata": {},
   "source": [
    "*2. Найдем среднее количество, дисперсию и стандартное отклонение:*"
   ]
  },
  {
   "cell_type": "code",
   "execution_count": 90,
   "metadata": {},
   "outputs": [
    {
     "data": {
      "text/html": [
       "<div>\n",
       "<style scoped>\n",
       "    .dataframe tbody tr th:only-of-type {\n",
       "        vertical-align: middle;\n",
       "    }\n",
       "\n",
       "    .dataframe tbody tr th {\n",
       "        vertical-align: top;\n",
       "    }\n",
       "\n",
       "    .dataframe thead tr th {\n",
       "        text-align: left;\n",
       "    }\n",
       "\n",
       "    .dataframe thead tr:last-of-type th {\n",
       "        text-align: right;\n",
       "    }\n",
       "</style>\n",
       "<table border=\"1\" class=\"dataframe\">\n",
       "  <thead>\n",
       "    <tr>\n",
       "      <th></th>\n",
       "      <th colspan=\"3\" halign=\"left\">all_calls_duration</th>\n",
       "      <th colspan=\"3\" halign=\"left\">messages_count</th>\n",
       "      <th colspan=\"3\" halign=\"left\">traffic_mb</th>\n",
       "    </tr>\n",
       "    <tr>\n",
       "      <th></th>\n",
       "      <th>median</th>\n",
       "      <th>std</th>\n",
       "      <th>var</th>\n",
       "      <th>median</th>\n",
       "      <th>std</th>\n",
       "      <th>var</th>\n",
       "      <th>median</th>\n",
       "      <th>std</th>\n",
       "      <th>var</th>\n",
       "    </tr>\n",
       "    <tr>\n",
       "      <th>tariff</th>\n",
       "      <th></th>\n",
       "      <th></th>\n",
       "      <th></th>\n",
       "      <th></th>\n",
       "      <th></th>\n",
       "      <th></th>\n",
       "      <th></th>\n",
       "      <th></th>\n",
       "      <th></th>\n",
       "    </tr>\n",
       "  </thead>\n",
       "  <tbody>\n",
       "    <tr>\n",
       "      <th>smart</th>\n",
       "      <td>422.0</td>\n",
       "      <td>190.313730</td>\n",
       "      <td>36219.315784</td>\n",
       "      <td>28.0</td>\n",
       "      <td>28.227876</td>\n",
       "      <td>796.812958</td>\n",
       "      <td>16506.84</td>\n",
       "      <td>5870.476681</td>\n",
       "      <td>3.446250e+07</td>\n",
       "    </tr>\n",
       "    <tr>\n",
       "      <th>ultra</th>\n",
       "      <td>518.0</td>\n",
       "      <td>317.606098</td>\n",
       "      <td>100873.633397</td>\n",
       "      <td>38.0</td>\n",
       "      <td>47.804457</td>\n",
       "      <td>2285.266143</td>\n",
       "      <td>19308.01</td>\n",
       "      <td>10087.170752</td>\n",
       "      <td>1.017510e+08</td>\n",
       "    </tr>\n",
       "  </tbody>\n",
       "</table>\n",
       "</div>"
      ],
      "text/plain": [
       "       all_calls_duration                            messages_count  \\\n",
       "                   median         std            var         median   \n",
       "tariff                                                                \n",
       "smart               422.0  190.313730   36219.315784           28.0   \n",
       "ultra               518.0  317.606098  100873.633397           38.0   \n",
       "\n",
       "                               traffic_mb                              \n",
       "              std          var     median           std           var  \n",
       "tariff                                                                 \n",
       "smart   28.227876   796.812958   16506.84   5870.476681  3.446250e+07  \n",
       "ultra   47.804457  2285.266143   19308.01  10087.170752  1.017510e+08  "
      ]
     },
     "execution_count": 90,
     "metadata": {},
     "output_type": "execute_result"
    }
   ],
   "source": [
    "# описательная статистика:\n",
    "\n",
    "desc_stat = grouped_data.pivot_table(index=['tariff'], values=['all_calls_duration', 'traffic_mb', 'messages_count'], \n",
    "                    aggfunc={'all_calls_duration': [np.median, np.var, np.std], \n",
    "                             'traffic_mb': [np.median, np.var, np.std], \n",
    "                             'messages_count': [np.median, np.var, np.std]})\n",
    "desc_stat"
   ]
  },
  {
   "cell_type": "markdown",
   "metadata": {},
   "source": [
    "*3. Строю гистограммы, описываю распределение.*"
   ]
  },
  {
   "cell_type": "code",
   "execution_count": 91,
   "metadata": {},
   "outputs": [
    {
     "data": {
      "image/png": "[encoded data removed]",
      "text/plain": [
       "<Figure size 360x360 with 1 Axes>"
      ]
     },
     "metadata": {
      "needs_background": "light"
     },
     "output_type": "display_data"
    },
    {
     "data": {
      "image/png": "[encoded data removed]",
      "text/plain": [
       "<Figure size 360x360 with 1 Axes>"
      ]
     },
     "metadata": {
      "needs_background": "light"
     },
     "output_type": "display_data"
    },
    {
     "data": {
      "image/png": "[encoded data removed]",
      "text/plain": [
       "<Figure size 360x360 with 1 Axes>"
      ]
     },
     "metadata": {
      "needs_background": "light"
     },
     "output_type": "display_data"
    }
   ],
   "source": [
    "# смотрю выбросы по каждому тарифу, строю диаграмму размаха \"ящик с усами\":\n",
    "for column in ['all_calls_duration', 'traffic_mb', 'messages_count']:    \n",
    "    sns.catplot(x=\"tariff\", y=column, kind=\"box\", data=grouped_data, orient='v')"
   ]
  },
  {
   "cell_type": "markdown",
   "metadata": {},
   "source": [
    "Количество потраченных минут разговора, сообщений и объема потраченного интернет-трафика по тарифу «Ультра» имеет большую дисперсию по сравнению с тарифом «Смарт», и медианы по вышеперечисленным признакам также смещены в большую сторону. Кроме того, выбросов в рамках более дешевого тарифа \"Смарт\" существенно больше."
   ]
  },
  {
   "cell_type": "code",
   "execution_count": 92,
   "metadata": {},
   "outputs": [
    {
     "data": {
      "text/plain": [
       "<matplotlib.legend.Legend at 0x20a009e0348>"
      ]
     },
     "execution_count": 92,
     "metadata": {},
     "output_type": "execute_result"
    },
    {
     "data": {
      "image/png": "[encoded data removed]",
      "text/plain": [
       "<Figure size 1152x432 with 2 Axes>"
      ]
     },
     "metadata": {
      "needs_background": "light"
     },
     "output_type": "display_data"
    }
   ],
   "source": [
    "fig = plt.figure(figsize=(16,6))\n",
    "ax_1 = fig.add_subplot(1, 2, 1)\n",
    "ax_1  = sns.distplot(grouped_data.query('tariff == \"smart\"')['all_calls_duration'], kde=True, label='smart', color='green')\n",
    "\n",
    "ax_2 = fig.add_subplot(1, 2, 2)\n",
    "ax_2  = sns.distplot(grouped_data.query('tariff == \"ultra\"')['all_calls_duration'], kde=True, label='ultra', color='blue') \n",
    "\n",
    "ax_1.legend(['smart'])\n",
    "ax_2.legend(['ultra'])"
   ]
  },
  {
   "cell_type": "markdown",
   "metadata": {},
   "source": [
    "Пользователи тарифа \"Смарт\" на звонки за месяц тратят от 250 до 650 минут. Примерно от 8 минут до 22 минут в день. \n",
    "\n",
    "Пользователи тарифа \"Ультра\" в осноном говорят от 230 до 900 минут. Это в разы меньше, чем предоставлено по тарифу. Нормальное распределение имеет положительную скошенность."
   ]
  },
  {
   "cell_type": "code",
   "execution_count": 93,
   "metadata": {},
   "outputs": [
    {
     "data": {
      "text/plain": [
       "<matplotlib.legend.Legend at 0x20a00a65c88>"
      ]
     },
     "execution_count": 93,
     "metadata": {},
     "output_type": "execute_result"
    },
    {
     "data": {
      "image/png": "[encoded data removed]",
      "text/plain": [
       "<Figure size 1152x432 with 2 Axes>"
      ]
     },
     "metadata": {
      "needs_background": "light"
     },
     "output_type": "display_data"
    }
   ],
   "source": [
    "fig = plt.figure(figsize=(16,6))\n",
    "ax_1 = fig.add_subplot(1, 2, 1)\n",
    "ax_1  = sns.distplot(grouped_data.query('tariff == \"smart\"')['traffic_mb'], kde=True, label='smart', color='green')\n",
    "\n",
    "ax_2 = fig.add_subplot(1, 2, 2)\n",
    "ax_2  = sns.distplot(grouped_data.query('tariff == \"ultra\"')['traffic_mb'], kde=True, label='ultra', color='blue') \n",
    "\n",
    "ax_1.legend(['smart'])\n",
    "ax_2.legend(['ultra'])"
   ]
  },
  {
   "cell_type": "markdown",
   "metadata": {},
   "source": [
    "Данные по пользователям тарифа \"Смарт\" имеют красивое нормальное распределение, симметричного типа. Пользовтели в основном тратили от 12000 до 22000 МБ. \n",
    "\n",
    "Пользователи тарифа \"Ультра\" в основном тратят от 9000 до 30000 МБ. Скошенность почти отсутсвует, нормальное распределение похоже на симметричное."
   ]
  },
  {
   "cell_type": "code",
   "execution_count": 94,
   "metadata": {},
   "outputs": [
    {
     "data": {
      "text/plain": [
       "<matplotlib.legend.Legend at 0x20a08079508>"
      ]
     },
     "execution_count": 94,
     "metadata": {},
     "output_type": "execute_result"
    },
    {
     "data": {
      "image/png": "[encoded data removed]",
      "text/plain": [
       "<Figure size 1152x432 with 2 Axes>"
      ]
     },
     "metadata": {
      "needs_background": "light"
     },
     "output_type": "display_data"
    }
   ],
   "source": [
    "fig = plt.figure(figsize=(16,6))\n",
    "ax_1 = fig.add_subplot(1, 2, 1)\n",
    "ax_1  = sns.distplot(grouped_data.query('tariff == \"smart\"')['messages_count'], kde=True, label='smart', color='green')\n",
    "\n",
    "ax_2 = fig.add_subplot(1, 2, 2)\n",
    "ax_2  = sns.distplot(grouped_data.query('tariff == \"ultra\"')['messages_count'], kde=True, label='ultra', color='blue') \n",
    "\n",
    "ax_1.legend(['smart'])\n",
    "ax_2.legend(['ultra'])"
   ]
  },
  {
   "cell_type": "markdown",
   "metadata": {},
   "source": [
    "Очень много пользователей тарифа \"Смарт\" не используют смс, используют смс до 50 штук в месяц, что является по 1-2 в день. Здесь заментна положительная скошенность нормального распределения.\n",
    "\n",
    "Пользователи тарифа \"Ульра\" отправляют до 75 сообщений в месяц, что в разы меньше предложенного в тарифе. Распределение похоже на Пуассона."
   ]
  },
  {
   "cell_type": "markdown",
   "metadata": {},
   "source": [
    "### Вывод по 3 шагу:\n",
    "По построенным гистограммам видно, что дисперсия по тарифу \"Смарт\" меньше, чем у пользователей с тарифом \"Ультра\" по всем параметрам: по длительности разговора, числу сообщений и использованному интернет-трафику. Также на гистограммах видно, что мода (наиболее часто встечаемое значение) у \"Смарта\" явно выражена. По длительности разговора видно, что у тарифа \"Смарт\" гистограмма скошена влево. По количеству потраченных сообщений тоже видно, что для обоих тарифов нормальное распределение имеет положительную скошенность.\n",
    "\n",
    "Можно сказать, поведение пользователей тарифа \"Ультра\" более разнообразное. Пользователи более дорогого тарифа более свободны в выборе того, как именно и когда использовать объемы тарифного пакета: возможно, использование дорогого тарифа помогает им не беспокоиться о том, что в какой-то момент у них отключится интернет или закончится пакет по минутам разговора, кроме того мы уже выяснили, что в среднем они не тратят и половины от лимита пакета услуг."
   ]
  },
  {
   "cell_type": "markdown",
   "metadata": {},
   "source": [
    "# Шаг 4. Проверка гипотез:\n",
    "\n",
    "1. средняя выручка пользователей тарифов «Ультра» и «Смарт» различаются.\n",
    "\n",
    "2. средняя выручка пользователи из Москвы отличается от выручки пользователей из других регионов.\n",
    "\n",
    "Для оценки гипотезы будем применять тест Стюдента. "
   ]
  },
  {
   "cell_type": "markdown",
   "metadata": {},
   "source": [
    "**Проверка первой гипотезы:**"
   ]
  },
  {
   "cell_type": "markdown",
   "metadata": {},
   "source": [
    "- Нулевая гипотеза H0  — средняя выручка пользователей тарифа «Ультра» равна средней выручке пользователей тарифа «Смарт».\n",
    "\n",
    "\n",
    "- Двусторонняя альтернативная гипотеза H1  — средняя выручка пользователей тарифов «Ультра» и «Смарт» различаются.\n",
    "\n",
    "Пороговое значение α = 5% ( .05)"
   ]
  },
  {
   "cell_type": "code",
   "execution_count": 95,
   "metadata": {},
   "outputs": [
    {
     "name": "stdout",
     "output_type": "stream",
     "text": [
      "p-значение: 4.2606313931076085e-250\n",
      "Отвергаем нулевую гипотезу\n"
     ]
    }
   ],
   "source": [
    "ultra = grouped_data.query('tariff == \"ultra\"')['final_revenue']\n",
    "smart = grouped_data.query('tariff == \"smart\"')['final_revenue']\n",
    "\n",
    "alpha = .05\n",
    "\n",
    "results = st.ttest_ind(\n",
    "    ultra, \n",
    "    smart, \n",
    "    equal_var=False) #не равными дисперсии выборок\n",
    "\n",
    "print('p-значение:', results.pvalue)\n",
    "\n",
    "if (results.pvalue < alpha):\n",
    "    print(\"Отвергаем нулевую гипотезу\")\n",
    "else:\n",
    "    print(\"Не получилось отвергнуть нулевую гипотезу\")"
   ]
  },
  {
   "cell_type": "code",
   "execution_count": 96,
   "metadata": {},
   "outputs": [
    {
     "data": {
      "text/html": [
       "<div>\n",
       "<style scoped>\n",
       "    .dataframe tbody tr th:only-of-type {\n",
       "        vertical-align: middle;\n",
       "    }\n",
       "\n",
       "    .dataframe tbody tr th {\n",
       "        vertical-align: top;\n",
       "    }\n",
       "\n",
       "    .dataframe thead th {\n",
       "        text-align: right;\n",
       "    }\n",
       "</style>\n",
       "<table border=\"1\" class=\"dataframe\">\n",
       "  <thead>\n",
       "    <tr style=\"text-align: right;\">\n",
       "      <th></th>\n",
       "      <th>final_revenue</th>\n",
       "    </tr>\n",
       "    <tr>\n",
       "      <th>tariff</th>\n",
       "      <th></th>\n",
       "    </tr>\n",
       "  </thead>\n",
       "  <tbody>\n",
       "    <tr>\n",
       "      <th>smart</th>\n",
       "      <td>1023.0</td>\n",
       "    </tr>\n",
       "    <tr>\n",
       "      <th>ultra</th>\n",
       "      <td>1950.0</td>\n",
       "    </tr>\n",
       "  </tbody>\n",
       "</table>\n",
       "</div>"
      ],
      "text/plain": [
       "        final_revenue\n",
       "tariff               \n",
       "smart          1023.0\n",
       "ultra          1950.0"
      ]
     },
     "execution_count": 96,
     "metadata": {},
     "output_type": "execute_result"
    }
   ],
   "source": [
    "grouped_data.pivot_table(index=['tariff'], values=['final_revenue'], aggfunc='median')\n"
   ]
  },
  {
   "cell_type": "markdown",
   "metadata": {},
   "source": [
    "Cтатистический тест дал возможность опровергнуть нулевую гипотезу, и предполагать, что выручка Мегалайна с пользователя по тарифу \"Ультра\" действительно отличаются по сравнению с доходами от тарифа \"Смарт\".\n",
    "И по статистике видно, что средние значения выручки по тарифам различаются почти в 2 раза (1950/960 = 2.03). Если у пользователя подключен тариф \"Смарт\" с абонентской платой в 550 рублей, то он скорее всего по итогу месяца заплатит гораздо больше из-за нехватки лимита в рамках тарифного пакета услуг."
   ]
  },
  {
   "cell_type": "markdown",
   "metadata": {},
   "source": [
    "**Проверка второй гипотезы:**\n",
    "\n",
    "\n",
    "- H0  — средняя выручка пользователей из Москвы равна средней выручке пользователей из других регионов.\n",
    "\n",
    "- H1  — средняя выручка пользователей из Москвы отличается от средней выручке пользователей из других регионов.\n",
    "\n",
    "α = 5%"
   ]
  },
  {
   "cell_type": "code",
   "execution_count": 97,
   "metadata": {},
   "outputs": [
    {
     "data": {
      "text/html": [
       "<div>\n",
       "<style scoped>\n",
       "    .dataframe tbody tr th:only-of-type {\n",
       "        vertical-align: middle;\n",
       "    }\n",
       "\n",
       "    .dataframe tbody tr th {\n",
       "        vertical-align: top;\n",
       "    }\n",
       "\n",
       "    .dataframe thead th {\n",
       "        text-align: right;\n",
       "    }\n",
       "</style>\n",
       "<table border=\"1\" class=\"dataframe\">\n",
       "  <thead>\n",
       "    <tr style=\"text-align: right;\">\n",
       "      <th></th>\n",
       "      <th></th>\n",
       "      <th>calls_count</th>\n",
       "      <th>all_calls_duration</th>\n",
       "      <th>messages_count</th>\n",
       "      <th>traffic_mb</th>\n",
       "      <th>tariff</th>\n",
       "      <th>traffic_gb</th>\n",
       "      <th>final_revenue</th>\n",
       "      <th>city</th>\n",
       "    </tr>\n",
       "    <tr>\n",
       "      <th>user_id</th>\n",
       "      <th>month</th>\n",
       "      <th></th>\n",
       "      <th></th>\n",
       "      <th></th>\n",
       "      <th></th>\n",
       "      <th></th>\n",
       "      <th></th>\n",
       "      <th></th>\n",
       "      <th></th>\n",
       "    </tr>\n",
       "  </thead>\n",
       "  <tbody>\n",
       "    <tr>\n",
       "      <th rowspan=\"5\" valign=\"top\">1000</th>\n",
       "      <th>5</th>\n",
       "      <td>22.0</td>\n",
       "      <td>159.0</td>\n",
       "      <td>22.0</td>\n",
       "      <td>2253.49</td>\n",
       "      <td>ultra</td>\n",
       "      <td>3.0</td>\n",
       "      <td>1950.0</td>\n",
       "      <td>Краснодар</td>\n",
       "    </tr>\n",
       "    <tr>\n",
       "      <th>6</th>\n",
       "      <td>43.0</td>\n",
       "      <td>172.0</td>\n",
       "      <td>60.0</td>\n",
       "      <td>23233.77</td>\n",
       "      <td>ultra</td>\n",
       "      <td>23.0</td>\n",
       "      <td>1950.0</td>\n",
       "      <td>Краснодар</td>\n",
       "    </tr>\n",
       "    <tr>\n",
       "      <th>7</th>\n",
       "      <td>47.0</td>\n",
       "      <td>340.0</td>\n",
       "      <td>75.0</td>\n",
       "      <td>14003.64</td>\n",
       "      <td>ultra</td>\n",
       "      <td>14.0</td>\n",
       "      <td>1950.0</td>\n",
       "      <td>Краснодар</td>\n",
       "    </tr>\n",
       "    <tr>\n",
       "      <th>8</th>\n",
       "      <td>52.0</td>\n",
       "      <td>408.0</td>\n",
       "      <td>81.0</td>\n",
       "      <td>14055.93</td>\n",
       "      <td>ultra</td>\n",
       "      <td>14.0</td>\n",
       "      <td>1950.0</td>\n",
       "      <td>Краснодар</td>\n",
       "    </tr>\n",
       "    <tr>\n",
       "      <th>9</th>\n",
       "      <td>58.0</td>\n",
       "      <td>466.0</td>\n",
       "      <td>57.0</td>\n",
       "      <td>14568.91</td>\n",
       "      <td>ultra</td>\n",
       "      <td>15.0</td>\n",
       "      <td>1950.0</td>\n",
       "      <td>Краснодар</td>\n",
       "    </tr>\n",
       "    <tr>\n",
       "      <th>...</th>\n",
       "      <th>...</th>\n",
       "      <td>...</td>\n",
       "      <td>...</td>\n",
       "      <td>...</td>\n",
       "      <td>...</td>\n",
       "      <td>...</td>\n",
       "      <td>...</td>\n",
       "      <td>...</td>\n",
       "      <td>...</td>\n",
       "    </tr>\n",
       "    <tr>\n",
       "      <th rowspan=\"5\" valign=\"top\">1489</th>\n",
       "      <th>8</th>\n",
       "      <td>NaN</td>\n",
       "      <td>0.0</td>\n",
       "      <td>17.0</td>\n",
       "      <td>11050.56</td>\n",
       "      <td>smart</td>\n",
       "      <td>11.0</td>\n",
       "      <td>550.0</td>\n",
       "      <td>Санкт-Петербург</td>\n",
       "    </tr>\n",
       "    <tr>\n",
       "      <th>9</th>\n",
       "      <td>NaN</td>\n",
       "      <td>0.0</td>\n",
       "      <td>32.0</td>\n",
       "      <td>17206.30</td>\n",
       "      <td>smart</td>\n",
       "      <td>17.0</td>\n",
       "      <td>950.0</td>\n",
       "      <td>Санкт-Петербург</td>\n",
       "    </tr>\n",
       "    <tr>\n",
       "      <th>10</th>\n",
       "      <td>NaN</td>\n",
       "      <td>0.0</td>\n",
       "      <td>21.0</td>\n",
       "      <td>19559.44</td>\n",
       "      <td>smart</td>\n",
       "      <td>20.0</td>\n",
       "      <td>1550.0</td>\n",
       "      <td>Санкт-Петербург</td>\n",
       "    </tr>\n",
       "    <tr>\n",
       "      <th>11</th>\n",
       "      <td>NaN</td>\n",
       "      <td>0.0</td>\n",
       "      <td>20.0</td>\n",
       "      <td>17491.56</td>\n",
       "      <td>smart</td>\n",
       "      <td>18.0</td>\n",
       "      <td>1150.0</td>\n",
       "      <td>Санкт-Петербург</td>\n",
       "    </tr>\n",
       "    <tr>\n",
       "      <th>12</th>\n",
       "      <td>NaN</td>\n",
       "      <td>0.0</td>\n",
       "      <td>35.0</td>\n",
       "      <td>17322.51</td>\n",
       "      <td>smart</td>\n",
       "      <td>17.0</td>\n",
       "      <td>950.0</td>\n",
       "      <td>Санкт-Петербург</td>\n",
       "    </tr>\n",
       "  </tbody>\n",
       "</table>\n",
       "<p>3214 rows × 8 columns</p>\n",
       "</div>"
      ],
      "text/plain": [
       "               calls_count  all_calls_duration  messages_count  traffic_mb  \\\n",
       "user_id month                                                                \n",
       "1000    5             22.0               159.0            22.0     2253.49   \n",
       "        6             43.0               172.0            60.0    23233.77   \n",
       "        7             47.0               340.0            75.0    14003.64   \n",
       "        8             52.0               408.0            81.0    14055.93   \n",
       "        9             58.0               466.0            57.0    14568.91   \n",
       "...                    ...                 ...             ...         ...   \n",
       "1489    8              NaN                 0.0            17.0    11050.56   \n",
       "        9              NaN                 0.0            32.0    17206.30   \n",
       "        10             NaN                 0.0            21.0    19559.44   \n",
       "        11             NaN                 0.0            20.0    17491.56   \n",
       "        12             NaN                 0.0            35.0    17322.51   \n",
       "\n",
       "              tariff  traffic_gb  final_revenue             city  \n",
       "user_id month                                                     \n",
       "1000    5      ultra         3.0         1950.0        Краснодар  \n",
       "        6      ultra        23.0         1950.0        Краснодар  \n",
       "        7      ultra        14.0         1950.0        Краснодар  \n",
       "        8      ultra        14.0         1950.0        Краснодар  \n",
       "        9      ultra        15.0         1950.0        Краснодар  \n",
       "...              ...         ...            ...              ...  \n",
       "1489    8      smart        11.0          550.0  Санкт-Петербург  \n",
       "        9      smart        17.0          950.0  Санкт-Петербург  \n",
       "        10     smart        20.0         1550.0  Санкт-Петербург  \n",
       "        11     smart        18.0         1150.0  Санкт-Петербург  \n",
       "        12     smart        17.0          950.0  Санкт-Петербург  \n",
       "\n",
       "[3214 rows x 8 columns]"
      ]
     },
     "execution_count": 97,
     "metadata": {},
     "output_type": "execute_result"
    }
   ],
   "source": [
    "# добавим наименование населенного пункта для каждого пользователя\n",
    "grouped_data = grouped_data.reset_index().merge(users[['user_id','city']], on=\"user_id\").set_index(['user_id', 'month'])\n",
    "grouped_data"
   ]
  },
  {
   "cell_type": "code",
   "execution_count": 98,
   "metadata": {},
   "outputs": [
    {
     "name": "stdout",
     "output_type": "stream",
     "text": [
      "p-значение: 0.5257376663729298\n",
      "Не получилось отвергнуть нулевую гипотезу\n"
     ]
    }
   ],
   "source": [
    "# разделим данные пользователей из Москв и из регионов, проверим гипотезу\n",
    "\n",
    "moscow = grouped_data.query('city == \"Москва\"')['final_revenue']\n",
    "regions = grouped_data.query('city != \"Москва\"')['final_revenue']\n",
    "\n",
    "alpha = .05\n",
    "\n",
    "results = st.ttest_ind(\n",
    "    moscow, \n",
    "    regions, \n",
    "    equal_var=False)\n",
    "\n",
    "print('p-значение:', results.pvalue)\n",
    "\n",
    "if (results.pvalue < alpha):\n",
    "    print(\"Отвергаем нулевую гипотезу\")\n",
    "else:\n",
    "    print(\"Не получилось отвергнуть нулевую гипотезу\")"
   ]
  },
  {
   "cell_type": "markdown",
   "metadata": {},
   "source": [
    "Cтатистический тест не дал возможности опровергнуть исходную гипотезу о том, что доходы от пользователей из Москвы и из других регионов равны. "
   ]
  },
  {
   "cell_type": "code",
   "execution_count": 99,
   "metadata": {},
   "outputs": [
    {
     "data": {
      "text/plain": [
       "1546.7135842880523"
      ]
     },
     "execution_count": 99,
     "metadata": {},
     "output_type": "execute_result"
    }
   ],
   "source": [
    "# Найдем среднюю выручку в Мосвке:\n",
    "moscow.mean()"
   ]
  },
  {
   "cell_type": "code",
   "execution_count": 100,
   "metadata": {},
   "outputs": [
    {
     "data": {
      "text/plain": [
       "1524.9362274298885"
      ]
     },
     "execution_count": 100,
     "metadata": {},
     "output_type": "execute_result"
    }
   ],
   "source": [
    "# Найдем среднюю выручку по регионам:\n",
    "regions.mean()"
   ]
  },
  {
   "cell_type": "markdown",
   "metadata": {},
   "source": [
    "Действительно, средние доходы от пользователей из Москвы и из других регионов мало отличаются. "
   ]
  },
  {
   "cell_type": "markdown",
   "metadata": {},
   "source": [
    "посчитала средние"
   ]
  },
  {
   "cell_type": "markdown",
   "metadata": {},
   "source": [
    "### Вывод по шагу 4\n",
    "Были выдвинуты две гипотезы:\n",
    "\n",
    "Средняя выручка пользователей тарифов «Ультра» и «Смарт» различается.\n",
    "Средняя выручка пользователей из Москвы отличается от выручки пользователей из других регионов.\n",
    "\n",
    "\n",
    "- Гипотеза 1 подтвердилась и говорит нам о том, что выручка по тарифамм отличается, но не известно в большую или меньшу сторону. По средней выручке можно предположить, что выручка по тарифу Ultra до 2 раз больше, чем от Smart.\n",
    "\n",
    "\n",
    "- Гипотеза 2 была опровергнута. Вероятность подтверждения гипотезы около 52%, гипотезу отвергнуть не удалось. Действительно - \"средняя выручка пользователей из Москвы не отличается от выручки пользователей из других регионов\"."
   ]
  },
  {
   "cell_type": "markdown",
   "metadata": {},
   "source": [
    "# Шаг 5. Общий вывод."
   ]
  },
  {
   "cell_type": "markdown",
   "metadata": {},
   "source": [
    "В ходе моей работы было выполнено:\n",
    "\n",
    "Просмотрена каждая таблица и выявлены аномалии.\n",
    "Составлена общая таблица данных о пользователях.\n",
    "Заполнены пропуски и сменены типы данных для столцов.\n",
    "Добавлены необходимые столбцы для гипотез.\n",
    "Проведен сравнительный анализ пользователей двух тарифов.\n",
    "Проверены гипотезы на возможное соотвествие.\n",
    "\n",
    "\n",
    "По результатам статистического анализа данных доходы от пользователей тарифа «Ультра» больше, чем от пользователей тарифа «Смарт». В среднем, компания получает 1950 рублей и 960 рублей от одного пользователя в месяц соответственно.\n",
    "\n",
    "*Общая тенденция использования тарифов пользователями следующяя:*\n",
    "\n",
    "- Пользователи тарифа «Смарт» чаще всего превышают лимит включенных услуг в рамках тарифного пакета: кроме абонентской платы 550 рублей, пользователи в среднем доплачивают еще 410 рублей ежемесячно.\n",
    "\n",
    "\n",
    "- Пользователи тарифа «Ультра» в среднем, напротив, и на половину не используют тарифный пакет.\n",
    "\n",
    "\n",
    "Средние доходы от пользователей в Москве не отличаются от доходов в других населенных пунктах: разница статистически незначима (p-значение: 0,525): 1546 рублей в Москве против 1524 рублей в регионах."
   ]
  },
  {
   "cell_type": "markdown",
   "metadata": {},
   "source": [
    "Фактически абоненты обоих тарифов тратят похожее количествово минут, соизмеримы и траты по трафику и смс, хотя абоненты \"Ультра\" тратят в среднем немного больше, но при этом, абоненты тарифа \"Смарт\" платят гораздо больше средств, ввиду того, что они чаще превышают лимит и платят, в соответствии с условиями тарифа, в разы больше (звонки и смс обходятся в три раза дороже). Для сотового оператора абоненты \"Смарта\" становятся более выгодными клиентами, в их пользу необходимо корректировать рекламный бюджет."
   ]
  }
 ],
 "metadata": {
  "ExecuteTimeLog": [
   {
    "duration": 1189,
    "start_time": "2022-02-25T19:33:39.197Z"
   },
   {
    "duration": 3,
    "start_time": "2022-02-25T19:33:40.387Z"
   },
   {
    "duration": 478,
    "start_time": "2022-02-25T19:33:40.394Z"
   },
   {
    "duration": 1794,
    "start_time": "2022-02-25T19:33:39.082Z"
   },
   {
    "duration": 1789,
    "start_time": "2022-02-25T19:33:39.088Z"
   },
   {
    "duration": 1779,
    "start_time": "2022-02-25T19:33:39.099Z"
   },
   {
    "duration": 1775,
    "start_time": "2022-02-25T19:33:39.104Z"
   },
   {
    "duration": 1767,
    "start_time": "2022-02-25T19:33:39.113Z"
   },
   {
    "duration": 1764,
    "start_time": "2022-02-25T19:33:39.117Z"
   },
   {
    "duration": 1762,
    "start_time": "2022-02-25T19:33:39.120Z"
   },
   {
    "duration": 1755,
    "start_time": "2022-02-25T19:33:39.128Z"
   },
   {
    "duration": 1754,
    "start_time": "2022-02-25T19:33:39.130Z"
   },
   {
    "duration": 1752,
    "start_time": "2022-02-25T19:33:39.133Z"
   },
   {
    "duration": 1750,
    "start_time": "2022-02-25T19:33:39.136Z"
   },
   {
    "duration": 1744,
    "start_time": "2022-02-25T19:33:39.143Z"
   },
   {
    "duration": 1743,
    "start_time": "2022-02-25T19:33:39.145Z"
   },
   {
    "duration": 1741,
    "start_time": "2022-02-25T19:33:39.148Z"
   },
   {
    "duration": 1740,
    "start_time": "2022-02-25T19:33:39.150Z"
   },
   {
    "duration": 1738,
    "start_time": "2022-02-25T19:33:39.153Z"
   },
   {
    "duration": 1732,
    "start_time": "2022-02-25T19:33:39.160Z"
   },
   {
    "duration": 1730,
    "start_time": "2022-02-25T19:33:39.163Z"
   },
   {
    "duration": 1730,
    "start_time": "2022-02-25T19:33:39.165Z"
   },
   {
    "duration": 1729,
    "start_time": "2022-02-25T19:33:39.167Z"
   },
   {
    "duration": 1727,
    "start_time": "2022-02-25T19:33:39.170Z"
   },
   {
    "duration": 1721,
    "start_time": "2022-02-25T19:33:39.177Z"
   },
   {
    "duration": 1718,
    "start_time": "2022-02-25T19:33:39.180Z"
   },
   {
    "duration": 1717,
    "start_time": "2022-02-25T19:33:39.182Z"
   },
   {
    "duration": 1715,
    "start_time": "2022-02-25T19:33:39.185Z"
   },
   {
    "duration": 1713,
    "start_time": "2022-02-25T19:33:39.188Z"
   },
   {
    "duration": 1712,
    "start_time": "2022-02-25T19:33:39.190Z"
   },
   {
    "duration": 1710,
    "start_time": "2022-02-25T19:33:39.193Z"
   },
   {
    "duration": 1709,
    "start_time": "2022-02-25T19:33:39.195Z"
   },
   {
    "duration": 1707,
    "start_time": "2022-02-25T19:33:39.198Z"
   },
   {
    "duration": 1706,
    "start_time": "2022-02-25T19:33:39.200Z"
   },
   {
    "duration": 1704,
    "start_time": "2022-02-25T19:33:39.203Z"
   },
   {
    "duration": 1702,
    "start_time": "2022-02-25T19:33:39.206Z"
   },
   {
    "duration": 1701,
    "start_time": "2022-02-25T19:33:39.208Z"
   },
   {
    "duration": 1721,
    "start_time": "2022-02-25T19:33:39.210Z"
   },
   {
    "duration": 1719,
    "start_time": "2022-02-25T19:33:39.213Z"
   },
   {
    "duration": 1718,
    "start_time": "2022-02-25T19:33:39.215Z"
   },
   {
    "duration": 1717,
    "start_time": "2022-02-25T19:33:39.217Z"
   },
   {
    "duration": 1715,
    "start_time": "2022-02-25T19:33:39.220Z"
   },
   {
    "duration": 1713,
    "start_time": "2022-02-25T19:33:39.223Z"
   },
   {
    "duration": 1712,
    "start_time": "2022-02-25T19:33:39.225Z"
   },
   {
    "duration": 1710,
    "start_time": "2022-02-25T19:33:39.227Z"
   },
   {
    "duration": 1709,
    "start_time": "2022-02-25T19:33:39.229Z"
   },
   {
    "duration": 1708,
    "start_time": "2022-02-25T19:33:39.231Z"
   },
   {
    "duration": 1706,
    "start_time": "2022-02-25T19:33:39.234Z"
   },
   {
    "duration": 1705,
    "start_time": "2022-02-25T19:33:39.236Z"
   },
   {
    "duration": 1704,
    "start_time": "2022-02-25T19:33:39.238Z"
   },
   {
    "duration": 1702,
    "start_time": "2022-02-25T19:33:39.241Z"
   },
   {
    "duration": 1701,
    "start_time": "2022-02-25T19:33:39.243Z"
   },
   {
    "duration": 1700,
    "start_time": "2022-02-25T19:33:39.245Z"
   },
   {
    "duration": 1188,
    "start_time": "2022-02-25T21:14:17.198Z"
   },
   {
    "duration": 3,
    "start_time": "2022-02-25T21:14:18.388Z"
   },
   {
    "duration": 171,
    "start_time": "2022-02-25T21:14:18.393Z"
   },
   {
    "duration": 11,
    "start_time": "2022-02-25T21:14:18.566Z"
   },
   {
    "duration": 166,
    "start_time": "2022-02-25T21:14:18.578Z"
   },
   {
    "duration": 136,
    "start_time": "2022-02-25T21:14:18.746Z"
   },
   {
    "duration": 9,
    "start_time": "2022-02-25T21:14:18.884Z"
   },
   {
    "duration": 104,
    "start_time": "2022-02-25T21:14:18.895Z"
   },
   {
    "duration": 90,
    "start_time": "2022-02-25T21:14:19.002Z"
   },
   {
    "duration": 8,
    "start_time": "2022-02-25T21:14:19.094Z"
   },
   {
    "duration": 78,
    "start_time": "2022-02-25T21:14:19.104Z"
   },
   {
    "duration": 411,
    "start_time": "2022-02-25T21:14:19.184Z"
   },
   {
    "duration": 699,
    "start_time": "2022-02-25T21:14:18.899Z"
   },
   {
    "duration": 694,
    "start_time": "2022-02-25T21:14:18.905Z"
   },
   {
    "duration": 688,
    "start_time": "2022-02-25T21:14:18.912Z"
   },
   {
    "duration": 683,
    "start_time": "2022-02-25T21:14:18.918Z"
   },
   {
    "duration": 679,
    "start_time": "2022-02-25T21:14:18.924Z"
   },
   {
    "duration": 676,
    "start_time": "2022-02-25T21:14:18.928Z"
   },
   {
    "duration": 674,
    "start_time": "2022-02-25T21:14:18.931Z"
   },
   {
    "duration": 673,
    "start_time": "2022-02-25T21:14:18.933Z"
   },
   {
    "duration": 671,
    "start_time": "2022-02-25T21:14:18.937Z"
   },
   {
    "duration": 669,
    "start_time": "2022-02-25T21:14:18.940Z"
   },
   {
    "duration": 667,
    "start_time": "2022-02-25T21:14:18.943Z"
   },
   {
    "duration": 665,
    "start_time": "2022-02-25T21:14:18.946Z"
   },
   {
    "duration": 663,
    "start_time": "2022-02-25T21:14:18.949Z"
   },
   {
    "duration": 660,
    "start_time": "2022-02-25T21:14:18.953Z"
   },
   {
    "duration": 651,
    "start_time": "2022-02-25T21:14:18.963Z"
   },
   {
    "duration": 647,
    "start_time": "2022-02-25T21:14:18.968Z"
   },
   {
    "duration": 642,
    "start_time": "2022-02-25T21:14:18.974Z"
   },
   {
    "duration": 638,
    "start_time": "2022-02-25T21:14:18.979Z"
   },
   {
    "duration": 634,
    "start_time": "2022-02-25T21:14:18.984Z"
   },
   {
    "duration": 633,
    "start_time": "2022-02-25T21:14:18.987Z"
   },
   {
    "duration": 631,
    "start_time": "2022-02-25T21:14:18.990Z"
   },
   {
    "duration": 630,
    "start_time": "2022-02-25T21:14:18.992Z"
   },
   {
    "duration": 628,
    "start_time": "2022-02-25T21:14:18.995Z"
   },
   {
    "duration": 627,
    "start_time": "2022-02-25T21:14:18.997Z"
   },
   {
    "duration": 625,
    "start_time": "2022-02-25T21:14:19.000Z"
   },
   {
    "duration": 623,
    "start_time": "2022-02-25T21:14:19.002Z"
   },
   {
    "duration": 621,
    "start_time": "2022-02-25T21:14:19.005Z"
   },
   {
    "duration": 619,
    "start_time": "2022-02-25T21:14:19.008Z"
   },
   {
    "duration": 618,
    "start_time": "2022-02-25T21:14:19.010Z"
   },
   {
    "duration": 613,
    "start_time": "2022-02-25T21:14:19.016Z"
   },
   {
    "duration": 610,
    "start_time": "2022-02-25T21:14:19.020Z"
   },
   {
    "duration": 609,
    "start_time": "2022-02-25T21:14:19.022Z"
   },
   {
    "duration": 607,
    "start_time": "2022-02-25T21:14:19.025Z"
   },
   {
    "duration": 606,
    "start_time": "2022-02-25T21:14:19.027Z"
   },
   {
    "duration": 606,
    "start_time": "2022-02-25T21:14:19.029Z"
   },
   {
    "duration": 604,
    "start_time": "2022-02-25T21:14:19.031Z"
   },
   {
    "duration": 604,
    "start_time": "2022-02-25T21:14:19.033Z"
   },
   {
    "duration": 603,
    "start_time": "2022-02-25T21:14:19.035Z"
   },
   {
    "duration": 602,
    "start_time": "2022-02-25T21:14:19.037Z"
   },
   {
    "duration": 601,
    "start_time": "2022-02-25T21:14:19.040Z"
   },
   {
    "duration": 600,
    "start_time": "2022-02-25T21:14:19.042Z"
   },
   {
    "duration": 63,
    "start_time": "2022-02-25T21:37:25.349Z"
   },
   {
    "duration": 31,
    "start_time": "2022-02-25T21:37:25.413Z"
   },
   {
    "duration": 7,
    "start_time": "2022-02-25T21:37:25.446Z"
   },
   {
    "duration": 10,
    "start_time": "2022-02-25T21:37:25.456Z"
   },
   {
    "duration": 43,
    "start_time": "2022-02-25T21:37:25.468Z"
   },
   {
    "duration": 10,
    "start_time": "2022-02-25T21:37:25.513Z"
   },
   {
    "duration": 4,
    "start_time": "2022-02-25T21:37:25.525Z"
   },
   {
    "duration": 6,
    "start_time": "2022-02-25T21:37:25.530Z"
   },
   {
    "duration": 13,
    "start_time": "2022-02-25T21:37:25.538Z"
   },
   {
    "duration": 51,
    "start_time": "2022-02-25T21:37:25.553Z"
   },
   {
    "duration": 26,
    "start_time": "2022-02-25T21:37:25.606Z"
   },
   {
    "duration": 20,
    "start_time": "2022-02-25T21:37:25.633Z"
   },
   {
    "duration": 18,
    "start_time": "2022-02-25T21:37:25.654Z"
   },
   {
    "duration": 8,
    "start_time": "2022-02-25T21:37:25.673Z"
   },
   {
    "duration": 1709,
    "start_time": "2022-02-25T21:37:25.682Z"
   },
   {
    "duration": 75,
    "start_time": "2022-02-25T21:37:27.394Z"
   },
   {
    "duration": 37,
    "start_time": "2022-02-25T21:37:27.471Z"
   },
   {
    "duration": 53,
    "start_time": "2022-02-25T21:37:27.509Z"
   },
   {
    "duration": 27,
    "start_time": "2022-02-25T21:37:27.564Z"
   },
   {
    "duration": 6,
    "start_time": "2022-02-25T21:37:27.593Z"
   },
   {
    "duration": 318,
    "start_time": "2022-02-25T21:37:27.601Z"
   },
   {
    "duration": 50,
    "start_time": "2022-02-25T21:37:27.921Z"
   },
   {
    "duration": 68,
    "start_time": "2022-02-25T21:37:27.972Z"
   },
   {
    "duration": 48,
    "start_time": "2022-02-25T21:37:28.041Z"
   },
   {
    "duration": 54,
    "start_time": "2022-02-25T21:37:28.091Z"
   },
   {
    "duration": 14,
    "start_time": "2022-02-25T21:37:28.146Z"
   },
   {
    "duration": 52,
    "start_time": "2022-02-25T21:37:28.163Z"
   },
   {
    "duration": 9,
    "start_time": "2022-02-25T21:37:28.233Z"
   },
   {
    "duration": 5,
    "start_time": "2022-02-25T21:37:28.244Z"
   },
   {
    "duration": 13,
    "start_time": "2022-02-25T21:37:28.250Z"
   },
   {
    "duration": 14,
    "start_time": "2022-02-25T21:37:28.265Z"
   },
   {
    "duration": 19,
    "start_time": "2022-02-25T21:37:28.281Z"
   },
   {
    "duration": 47,
    "start_time": "2022-02-25T21:37:28.302Z"
   },
   {
    "duration": 884,
    "start_time": "2022-02-25T21:37:28.350Z"
   },
   {
    "duration": 337,
    "start_time": "2022-02-25T21:37:29.235Z"
   },
   {
    "duration": 265,
    "start_time": "2022-02-25T21:37:29.573Z"
   },
   {
    "duration": 240,
    "start_time": "2022-02-25T21:37:29.840Z"
   },
   {
    "duration": 9,
    "start_time": "2022-02-25T21:37:30.082Z"
   },
   {
    "duration": 33,
    "start_time": "2022-02-25T21:37:30.093Z"
   },
   {
    "duration": 23,
    "start_time": "2022-02-25T21:37:30.128Z"
   },
   {
    "duration": 9,
    "start_time": "2022-02-25T21:37:30.152Z"
   },
   {
    "duration": 5,
    "start_time": "2022-02-25T21:37:30.163Z"
   },
   {
    "duration": 9,
    "start_time": "2022-02-25T21:37:30.169Z"
   },
   {
    "duration": 1765,
    "start_time": "2022-02-25T22:37:49.256Z"
   },
   {
    "duration": 3,
    "start_time": "2022-02-25T22:37:51.023Z"
   },
   {
    "duration": 731,
    "start_time": "2022-02-25T22:37:51.029Z"
   },
   {
    "duration": 11,
    "start_time": "2022-02-25T22:37:51.761Z"
   },
   {
    "duration": 149,
    "start_time": "2022-02-25T22:37:51.773Z"
   },
   {
    "duration": 584,
    "start_time": "2022-02-25T22:37:51.932Z"
   },
   {
    "duration": 8,
    "start_time": "2022-02-25T22:37:52.517Z"
   },
   {
    "duration": 91,
    "start_time": "2022-02-25T22:37:52.527Z"
   },
   {
    "duration": 427,
    "start_time": "2022-02-25T22:37:52.621Z"
   },
   {
    "duration": 7,
    "start_time": "2022-02-25T22:37:53.050Z"
   },
   {
    "duration": 58,
    "start_time": "2022-02-25T22:37:53.059Z"
   },
   {
    "duration": 938,
    "start_time": "2022-02-25T22:37:53.131Z"
   },
   {
    "duration": 7,
    "start_time": "2022-02-25T22:37:54.072Z"
   },
   {
    "duration": 11,
    "start_time": "2022-02-25T22:37:54.081Z"
   },
   {
    "duration": 77,
    "start_time": "2022-02-25T22:37:54.094Z"
   },
   {
    "duration": 8,
    "start_time": "2022-02-25T22:37:54.172Z"
   },
   {
    "duration": 5,
    "start_time": "2022-02-25T22:37:54.182Z"
   },
   {
    "duration": 5,
    "start_time": "2022-02-25T22:37:54.189Z"
   },
   {
    "duration": 15,
    "start_time": "2022-02-25T22:37:54.195Z"
   },
   {
    "duration": 57,
    "start_time": "2022-02-25T22:37:54.212Z"
   },
   {
    "duration": 8,
    "start_time": "2022-02-25T22:37:54.271Z"
   },
   {
    "duration": 24,
    "start_time": "2022-02-25T22:37:54.280Z"
   },
   {
    "duration": 35,
    "start_time": "2022-02-25T22:37:54.306Z"
   },
   {
    "duration": 8,
    "start_time": "2022-02-25T22:37:54.342Z"
   },
   {
    "duration": 1709,
    "start_time": "2022-02-25T22:37:54.352Z"
   },
   {
    "duration": 69,
    "start_time": "2022-02-25T22:37:56.063Z"
   },
   {
    "duration": 30,
    "start_time": "2022-02-25T22:37:56.136Z"
   },
   {
    "duration": 24,
    "start_time": "2022-02-25T22:37:56.168Z"
   },
   {
    "duration": 40,
    "start_time": "2022-02-25T22:37:56.193Z"
   },
   {
    "duration": 5,
    "start_time": "2022-02-25T22:37:56.235Z"
   },
   {
    "duration": 11,
    "start_time": "2022-02-25T22:37:56.241Z"
   },
   {
    "duration": 16,
    "start_time": "2022-02-25T22:37:56.254Z"
   },
   {
    "duration": 71,
    "start_time": "2022-02-25T22:37:56.271Z"
   },
   {
    "duration": 49,
    "start_time": "2022-02-25T22:37:56.344Z"
   },
   {
    "duration": 66,
    "start_time": "2022-02-25T22:37:56.395Z"
   },
   {
    "duration": 14,
    "start_time": "2022-02-25T22:37:56.463Z"
   },
   {
    "duration": 64,
    "start_time": "2022-02-25T22:37:56.479Z"
   },
   {
    "duration": 8,
    "start_time": "2022-02-25T22:37:56.545Z"
   },
   {
    "duration": 7,
    "start_time": "2022-02-25T22:37:56.555Z"
   },
   {
    "duration": 5,
    "start_time": "2022-02-25T22:37:56.564Z"
   },
   {
    "duration": 14,
    "start_time": "2022-02-25T22:37:56.571Z"
   },
   {
    "duration": 46,
    "start_time": "2022-02-25T22:37:56.586Z"
   },
   {
    "duration": 22,
    "start_time": "2022-02-25T22:37:56.633Z"
   },
   {
    "duration": 955,
    "start_time": "2022-02-25T22:37:56.656Z"
   },
   {
    "duration": 333,
    "start_time": "2022-02-25T22:37:57.613Z"
   },
   {
    "duration": 265,
    "start_time": "2022-02-25T22:37:57.947Z"
   },
   {
    "duration": 222,
    "start_time": "2022-02-25T22:37:58.213Z"
   },
   {
    "duration": 9,
    "start_time": "2022-02-25T22:37:58.437Z"
   },
   {
    "duration": 11,
    "start_time": "2022-02-25T22:37:58.447Z"
   },
   {
    "duration": 22,
    "start_time": "2022-02-25T22:37:58.460Z"
   },
   {
    "duration": 8,
    "start_time": "2022-02-25T22:37:58.484Z"
   },
   {
    "duration": 3,
    "start_time": "2022-02-25T22:37:58.494Z"
   },
   {
    "duration": 34,
    "start_time": "2022-02-25T22:37:58.499Z"
   },
   {
    "duration": 17,
    "start_time": "2022-02-25T22:39:45.220Z"
   },
   {
    "duration": 1181,
    "start_time": "2022-02-25T22:43:26.526Z"
   },
   {
    "duration": 1228,
    "start_time": "2022-02-25T22:43:40.457Z"
   },
   {
    "duration": 5,
    "start_time": "2022-02-25T22:47:51.806Z"
   },
   {
    "duration": 5,
    "start_time": "2022-02-25T22:47:55.086Z"
   },
   {
    "duration": 823,
    "start_time": "2022-02-25T23:00:36.436Z"
   },
   {
    "duration": 1047,
    "start_time": "2022-02-27T08:20:48.845Z"
   },
   {
    "duration": 2,
    "start_time": "2022-02-27T08:20:49.894Z"
   },
   {
    "duration": 2419,
    "start_time": "2022-02-27T08:20:49.898Z"
   },
   {
    "duration": -556,
    "start_time": "2022-02-27T08:20:52.876Z"
   },
   {
    "duration": -561,
    "start_time": "2022-02-27T08:20:52.882Z"
   },
   {
    "duration": -564,
    "start_time": "2022-02-27T08:20:52.886Z"
   },
   {
    "duration": -568,
    "start_time": "2022-02-27T08:20:52.890Z"
   },
   {
    "duration": -571,
    "start_time": "2022-02-27T08:20:52.894Z"
   },
   {
    "duration": -575,
    "start_time": "2022-02-27T08:20:52.899Z"
   },
   {
    "duration": -578,
    "start_time": "2022-02-27T08:20:52.903Z"
   },
   {
    "duration": -581,
    "start_time": "2022-02-27T08:20:52.906Z"
   },
   {
    "duration": -584,
    "start_time": "2022-02-27T08:20:52.910Z"
   },
   {
    "duration": -588,
    "start_time": "2022-02-27T08:20:52.915Z"
   },
   {
    "duration": -591,
    "start_time": "2022-02-27T08:20:52.919Z"
   },
   {
    "duration": -595,
    "start_time": "2022-02-27T08:20:52.924Z"
   },
   {
    "duration": -599,
    "start_time": "2022-02-27T08:20:52.928Z"
   },
   {
    "duration": -602,
    "start_time": "2022-02-27T08:20:52.932Z"
   },
   {
    "duration": -604,
    "start_time": "2022-02-27T08:20:52.935Z"
   },
   {
    "duration": -607,
    "start_time": "2022-02-27T08:20:52.939Z"
   },
   {
    "duration": -610,
    "start_time": "2022-02-27T08:20:52.942Z"
   },
   {
    "duration": -612,
    "start_time": "2022-02-27T08:20:52.945Z"
   },
   {
    "duration": -626,
    "start_time": "2022-02-27T08:20:52.961Z"
   },
   {
    "duration": -629,
    "start_time": "2022-02-27T08:20:52.964Z"
   },
   {
    "duration": -632,
    "start_time": "2022-02-27T08:20:52.968Z"
   },
   {
    "duration": -634,
    "start_time": "2022-02-27T08:20:52.971Z"
   },
   {
    "duration": -636,
    "start_time": "2022-02-27T08:20:52.974Z"
   },
   {
    "duration": -637,
    "start_time": "2022-02-27T08:20:52.976Z"
   },
   {
    "duration": -640,
    "start_time": "2022-02-27T08:20:52.980Z"
   },
   {
    "duration": -642,
    "start_time": "2022-02-27T08:20:52.983Z"
   },
   {
    "duration": -644,
    "start_time": "2022-02-27T08:20:52.986Z"
   },
   {
    "duration": -647,
    "start_time": "2022-02-27T08:20:52.989Z"
   },
   {
    "duration": -650,
    "start_time": "2022-02-27T08:20:52.993Z"
   },
   {
    "duration": -652,
    "start_time": "2022-02-27T08:20:52.996Z"
   },
   {
    "duration": -663,
    "start_time": "2022-02-27T08:20:53.008Z"
   },
   {
    "duration": -665,
    "start_time": "2022-02-27T08:20:53.011Z"
   },
   {
    "duration": -668,
    "start_time": "2022-02-27T08:20:53.015Z"
   },
   {
    "duration": -675,
    "start_time": "2022-02-27T08:20:53.023Z"
   },
   {
    "duration": -677,
    "start_time": "2022-02-27T08:20:53.026Z"
   },
   {
    "duration": -679,
    "start_time": "2022-02-27T08:20:53.029Z"
   },
   {
    "duration": -681,
    "start_time": "2022-02-27T08:20:53.032Z"
   },
   {
    "duration": -687,
    "start_time": "2022-02-27T08:20:53.039Z"
   },
   {
    "duration": -690,
    "start_time": "2022-02-27T08:20:53.043Z"
   },
   {
    "duration": -692,
    "start_time": "2022-02-27T08:20:53.046Z"
   },
   {
    "duration": -699,
    "start_time": "2022-02-27T08:20:53.054Z"
   },
   {
    "duration": -701,
    "start_time": "2022-02-27T08:20:53.057Z"
   },
   {
    "duration": -659,
    "start_time": "2022-02-27T08:20:53.060Z"
   },
   {
    "duration": -661,
    "start_time": "2022-02-27T08:20:53.063Z"
   },
   {
    "duration": -668,
    "start_time": "2022-02-27T08:20:53.071Z"
   },
   {
    "duration": -671,
    "start_time": "2022-02-27T08:20:53.074Z"
   },
   {
    "duration": -673,
    "start_time": "2022-02-27T08:20:53.077Z"
   },
   {
    "duration": -676,
    "start_time": "2022-02-27T08:20:53.081Z"
   },
   {
    "duration": -684,
    "start_time": "2022-02-27T08:20:53.090Z"
   },
   {
    "duration": -686,
    "start_time": "2022-02-27T08:20:53.093Z"
   },
   {
    "duration": -688,
    "start_time": "2022-02-27T08:20:53.096Z"
   },
   {
    "duration": -695,
    "start_time": "2022-02-27T08:20:53.104Z"
   },
   {
    "duration": -698,
    "start_time": "2022-02-27T08:20:53.107Z"
   },
   {
    "duration": -702,
    "start_time": "2022-02-27T08:20:53.112Z"
   },
   {
    "duration": 1032,
    "start_time": "2022-02-27T08:23:25.260Z"
   },
   {
    "duration": 2,
    "start_time": "2022-02-27T08:23:26.294Z"
   },
   {
    "duration": 141,
    "start_time": "2022-02-27T08:23:26.301Z"
   },
   {
    "duration": 9,
    "start_time": "2022-02-27T08:23:26.444Z"
   },
   {
    "duration": 176,
    "start_time": "2022-02-27T08:23:26.454Z"
   },
   {
    "duration": 206,
    "start_time": "2022-02-27T08:23:26.632Z"
   },
   {
    "duration": 23,
    "start_time": "2022-02-27T08:23:26.840Z"
   },
   {
    "duration": 123,
    "start_time": "2022-02-27T08:23:26.866Z"
   },
   {
    "duration": 11,
    "start_time": "2022-02-27T08:23:26.991Z"
   },
   {
    "duration": 115,
    "start_time": "2022-02-27T08:23:27.004Z"
   },
   {
    "duration": 207,
    "start_time": "2022-02-27T08:23:27.121Z"
   },
   {
    "duration": 85,
    "start_time": "2022-02-27T08:23:27.330Z"
   },
   {
    "duration": 7,
    "start_time": "2022-02-27T08:23:27.416Z"
   },
   {
    "duration": 85,
    "start_time": "2022-02-27T08:23:27.424Z"
   },
   {
    "duration": 17,
    "start_time": "2022-02-27T08:23:27.511Z"
   },
   {
    "duration": 16,
    "start_time": "2022-02-27T08:23:27.530Z"
   },
   {
    "duration": 29,
    "start_time": "2022-02-27T08:23:27.548Z"
   },
   {
    "duration": 36,
    "start_time": "2022-02-27T08:23:27.578Z"
   },
   {
    "duration": 14,
    "start_time": "2022-02-27T08:23:27.615Z"
   },
   {
    "duration": 20,
    "start_time": "2022-02-27T08:23:27.630Z"
   },
   {
    "duration": 19,
    "start_time": "2022-02-27T08:23:27.651Z"
   },
   {
    "duration": 35,
    "start_time": "2022-02-27T08:23:27.671Z"
   },
   {
    "duration": 55,
    "start_time": "2022-02-27T08:23:27.709Z"
   },
   {
    "duration": 8,
    "start_time": "2022-02-27T08:23:27.766Z"
   },
   {
    "duration": 29,
    "start_time": "2022-02-27T08:23:27.775Z"
   },
   {
    "duration": 10,
    "start_time": "2022-02-27T08:23:27.806Z"
   },
   {
    "duration": 1573,
    "start_time": "2022-02-27T08:23:27.818Z"
   },
   {
    "duration": 70,
    "start_time": "2022-02-27T08:23:29.393Z"
   },
   {
    "duration": 47,
    "start_time": "2022-02-27T08:23:29.465Z"
   },
   {
    "duration": 39,
    "start_time": "2022-02-27T08:23:29.514Z"
   },
   {
    "duration": 23,
    "start_time": "2022-02-27T08:23:29.555Z"
   },
   {
    "duration": 38,
    "start_time": "2022-02-27T08:23:29.580Z"
   },
   {
    "duration": 10,
    "start_time": "2022-02-27T08:23:29.619Z"
   },
   {
    "duration": 17,
    "start_time": "2022-02-27T08:23:29.631Z"
   },
   {
    "duration": 259,
    "start_time": "2022-02-27T08:23:29.649Z"
   },
   {
    "duration": 245,
    "start_time": "2022-02-27T08:23:29.909Z"
   },
   {
    "duration": 5,
    "start_time": "2022-02-27T08:23:30.155Z"
   },
   {
    "duration": 256,
    "start_time": "2022-02-27T08:23:30.162Z"
   },
   {
    "duration": 14,
    "start_time": "2022-02-27T08:23:30.419Z"
   },
   {
    "duration": 255,
    "start_time": "2022-02-27T08:23:30.434Z"
   },
   {
    "duration": 18,
    "start_time": "2022-02-27T08:23:30.691Z"
   },
   {
    "duration": 13,
    "start_time": "2022-02-27T08:23:30.710Z"
   },
   {
    "duration": 11,
    "start_time": "2022-02-27T08:23:30.724Z"
   },
   {
    "duration": 16,
    "start_time": "2022-02-27T08:23:30.737Z"
   },
   {
    "duration": 14,
    "start_time": "2022-02-27T08:23:30.754Z"
   },
   {
    "duration": 46,
    "start_time": "2022-02-27T08:23:30.770Z"
   },
   {
    "duration": 947,
    "start_time": "2022-02-27T08:23:30.818Z"
   },
   {
    "duration": 437,
    "start_time": "2022-02-27T08:23:31.767Z"
   },
   {
    "duration": 459,
    "start_time": "2022-02-27T08:23:32.205Z"
   },
   {
    "duration": 436,
    "start_time": "2022-02-27T08:23:32.665Z"
   },
   {
    "duration": 10,
    "start_time": "2022-02-27T08:23:33.102Z"
   },
   {
    "duration": 11,
    "start_time": "2022-02-27T08:23:33.113Z"
   },
   {
    "duration": 23,
    "start_time": "2022-02-27T08:23:33.125Z"
   },
   {
    "duration": 361,
    "start_time": "2022-02-27T08:23:33.149Z"
   },
   {
    "duration": -520,
    "start_time": "2022-02-27T08:23:34.031Z"
   },
   {
    "duration": -532,
    "start_time": "2022-02-27T08:23:34.044Z"
   },
   {
    "duration": -535,
    "start_time": "2022-02-27T08:23:34.049Z"
   },
   {
    "duration": 13,
    "start_time": "2022-02-27T08:24:23.850Z"
   },
   {
    "duration": 269,
    "start_time": "2022-02-27T09:05:09.814Z"
   }
  ],
  "kernelspec": {
   "display_name": "Python 3",
   "language": "python",
   "name": "python3"
  },
  "language_info": {
   "codemirror_mode": {
    "name": "ipython",
    "version": 3
   },
   "file_extension": ".py",
   "mimetype": "text/x-python",
   "name": "python",
   "nbconvert_exporter": "python",
   "pygments_lexer": "ipython3",
   "version": "3.7.4"
  },
  "toc": {
   "base_numbering": 1,
   "nav_menu": {},
   "number_sections": false,
   "sideBar": true,
   "skip_h1_title": false,
   "title_cell": "Table of Contents",
   "title_sidebar": "Contents",
   "toc_cell": false,
   "toc_position": {
    "height": "calc(100% - 180px)",
    "left": "10px",
    "top": "150px",
    "width": "289.6px"
   },
   "toc_section_display": true,
   "toc_window_display": true
  }
 },
 "nbformat": 4,
 "nbformat_minor": 2
}

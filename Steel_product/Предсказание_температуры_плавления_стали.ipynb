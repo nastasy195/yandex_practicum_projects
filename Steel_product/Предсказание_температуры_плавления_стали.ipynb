{
 "cells": [
  {
   "cell_type": "markdown",
   "metadata": {},
   "source": [
    "# Проект \"Промышленность\"\n",
    "\n",
    "Чтобы оптимизировать производственные расходы, металлургическая компания решила уменьшить потребление электроэнергии на этапе обработки стали. Мне предстоит построить модель, которая предскажет температуру стали."
   ]
  },
  {
   "cell_type": "markdown",
   "metadata": {},
   "source": [
    "## Описание этапа обработки стали\n",
    "\n",
    "Сталь обрабатывают в металлическом ковше вместимостью около 100 тонн. Чтобы ковш выдерживал высокие температуры, изнутри его облицовывают огнеупорным кирпичом. Расплавленную сталь заливают в ковш и подогревают до нужной температуры графитовыми электродами. Они установлены в крышке ковша. \n",
    "\n",
    "Из сплава выводится сера (десульфурация), добавлением примесей корректируется химический состав и отбираются пробы. Сталь легируют — изменяют её состав — подавая куски сплава из бункера для сыпучих материалов или проволоку через специальный трайб-аппарат (англ. tribe, «масса»).\n",
    "\n",
    "Перед тем как первый раз ввести легирующие добавки, измеряют температуру стали и производят её химический анализ. Потом температуру на несколько минут повышают, добавляют легирующие материалы и продувают сплав инертным газом. Затем его перемешивают и снова проводят измерения. Такой цикл повторяется до достижения целевого химического состава и оптимальной температуры плавки.\n",
    "\n",
    "Тогда расплавленная сталь отправляется на доводку металла или поступает в машину непрерывной разливки. Оттуда готовый продукт выходит в виде заготовок-слябов (англ. *slab*, «плита»)."
   ]
  },
  {
   "cell_type": "markdown",
   "metadata": {},
   "source": [
    "##  Описание данных\n",
    "\n",
    "Данные состоят из файлов, полученных из разных источников:\n",
    "\n",
    "- `data_arc.csv` — данные об электродах;\n",
    "- `data_bulk.csv` — данные о подаче сыпучих материалов (объём);\n",
    "- `data_bulk_time.csv` *—* данные о подаче сыпучих материалов (время);\n",
    "- `data_gas.csv` — данные о продувке сплава газом;\n",
    "- `data_temp.csv` — результаты измерения температуры - `Целевой признак`;\n",
    "- `data_wire.csv` — данные о проволочных материалах (объём);\n",
    "- `data_wire_time.csv` — данные о проволочных материалах (время).\n",
    "\n",
    "Во всех файлах столбец `key` содержит номер партии. В файлах может быть несколько строк с одинаковым значением `key`: они соответствуют разным итерациям обработки."
   ]
  },
  {
   "cell_type": "code",
   "execution_count": 260,
   "metadata": {},
   "outputs": [],
   "source": [
    "# Импортирую библиотеки:\n",
    "import pandas as pd\n",
    "import numpy as np\n",
    "import matplotlib.pyplot as plt\n",
    "%matplotlib inline\n",
    "import seaborn as sns\n",
    "pd.set_option('display.max_colwidth', 1000)\n",
    "\n",
    "from numpy.random import RandomState\n",
    "from sklearn.preprocessing import StandardScaler, OrdinalEncoder, OneHotEncoder\n",
    "from sklearn.model_selection import train_test_split, RandomizedSearchCV, GridSearchCV, cross_val_score, cross_validate\n",
    "\n",
    "# Импортирую модели-регрессоры:\n",
    "from lightgbm import LGBMRegressor\n",
    "from catboost import CatBoostRegressor\n",
    "from sklearn.linear_model import LinearRegression\n",
    "from sklearn.ensemble import RandomForestRegressor\n",
    "from sklearn.dummy import DummyRegressor\n",
    "\n",
    "# Импортирую метрики:\n",
    "from sklearn.metrics import mean_absolute_error\n",
    "\n",
    "# Константа воспроизводимых случайных значений:\n",
    "RANDOM_STATE = 80822\n",
    "\n",
    "# Отключу предупреждения:\n",
    "import warnings\n",
    "warnings.filterwarnings('ignore')"
   ]
  },
  {
   "cell_type": "code",
   "execution_count": 261,
   "metadata": {},
   "outputs": [],
   "source": [
    "# Загружаю данные:\n",
    "\n",
    "try:\n",
    "    data_arc = pd.read_csv('/datasets/final_steel/data_arc.csv', sep=',')\n",
    "    data_bulk = pd.read_csv('/datasets/final_steel/data_bulk.csv', sep=',')\n",
    "    data_bulk_time = pd.read_csv('/datasets/final_steel/data_bulk_time.csv', sep=',')\n",
    "    data_gas = pd.read_csv('/datasets/final_steel/data_gas.csv', sep=',')\n",
    "    data_temp = pd.read_csv('/datasets/final_steel/data_temp.csv', sep=',')\n",
    "    data_wire = pd.read_csv('/datasets/final_steel/data_wire.csv', sep=',')\n",
    "    data_wire_time = pd.read_csv('/datasets/final_steel/data_wire_time.csv', sep=',')\n",
    "    pd.set_option('display.max_columns', None)\n",
    "except:\n",
    "    data_arc = pd.read_csv('final_steel/data_arc.csv', sep=',') \n",
    "    data_bulk = pd.read_csv('final_steel/data_bulk.csv', sep=',')\n",
    "    data_bulk_time = pd.read_csv('final_steel/data_bulk_time.csv', sep=',')\n",
    "    data_gas = pd.read_csv('final_steel/data_gas.csv', sep=',')\n",
    "    data_temp = pd.read_csv('final_steel/data_temp.csv', sep=',')\n",
    "    data_wire = pd.read_csv('final_steel/data_wire.csv', sep=',')\n",
    "    data_wire_time = pd.read_csv('final_steel/data_wire_time.csv', sep=',')\n",
    "    pd.set_option('display.max_columns', None)"
   ]
  },
  {
   "cell_type": "markdown",
   "metadata": {},
   "source": [
    "## 1. Исследовательский анализ данных"
   ]
  },
  {
   "cell_type": "markdown",
   "metadata": {},
   "source": [
    "### 1.1. Исследовани данных об электродах"
   ]
  },
  {
   "cell_type": "code",
   "execution_count": 262,
   "metadata": {},
   "outputs": [
    {
     "data": {
      "text/html": [
       "<div>\n",
       "<style scoped>\n",
       "    .dataframe tbody tr th:only-of-type {\n",
       "        vertical-align: middle;\n",
       "    }\n",
       "\n",
       "    .dataframe tbody tr th {\n",
       "        vertical-align: top;\n",
       "    }\n",
       "\n",
       "    .dataframe thead th {\n",
       "        text-align: right;\n",
       "    }\n",
       "</style>\n",
       "<table border=\"1\" class=\"dataframe\">\n",
       "  <thead>\n",
       "    <tr style=\"text-align: right;\">\n",
       "      <th></th>\n",
       "      <th>key</th>\n",
       "      <th>Начало нагрева дугой</th>\n",
       "      <th>Конец нагрева дугой</th>\n",
       "      <th>Активная мощность</th>\n",
       "      <th>Реактивная мощность</th>\n",
       "    </tr>\n",
       "  </thead>\n",
       "  <tbody>\n",
       "    <tr>\n",
       "      <th>0</th>\n",
       "      <td>1</td>\n",
       "      <td>2019-05-03 11:02:14</td>\n",
       "      <td>2019-05-03 11:06:02</td>\n",
       "      <td>0.976059</td>\n",
       "      <td>0.687084</td>\n",
       "    </tr>\n",
       "    <tr>\n",
       "      <th>1</th>\n",
       "      <td>1</td>\n",
       "      <td>2019-05-03 11:07:28</td>\n",
       "      <td>2019-05-03 11:10:33</td>\n",
       "      <td>0.805607</td>\n",
       "      <td>0.520285</td>\n",
       "    </tr>\n",
       "    <tr>\n",
       "      <th>2</th>\n",
       "      <td>1</td>\n",
       "      <td>2019-05-03 11:11:44</td>\n",
       "      <td>2019-05-03 11:14:36</td>\n",
       "      <td>0.744363</td>\n",
       "      <td>0.498805</td>\n",
       "    </tr>\n",
       "    <tr>\n",
       "      <th>3</th>\n",
       "      <td>1</td>\n",
       "      <td>2019-05-03 11:18:14</td>\n",
       "      <td>2019-05-03 11:24:19</td>\n",
       "      <td>1.659363</td>\n",
       "      <td>1.062669</td>\n",
       "    </tr>\n",
       "    <tr>\n",
       "      <th>4</th>\n",
       "      <td>1</td>\n",
       "      <td>2019-05-03 11:26:09</td>\n",
       "      <td>2019-05-03 11:28:37</td>\n",
       "      <td>0.692755</td>\n",
       "      <td>0.414397</td>\n",
       "    </tr>\n",
       "    <tr>\n",
       "      <th>5</th>\n",
       "      <td>2</td>\n",
       "      <td>2019-05-03 11:34:14</td>\n",
       "      <td>2019-05-03 11:36:31</td>\n",
       "      <td>0.438063</td>\n",
       "      <td>0.283043</td>\n",
       "    </tr>\n",
       "    <tr>\n",
       "      <th>6</th>\n",
       "      <td>2</td>\n",
       "      <td>2019-05-03 11:38:50</td>\n",
       "      <td>2019-05-03 11:44:28</td>\n",
       "      <td>1.296415</td>\n",
       "      <td>0.892914</td>\n",
       "    </tr>\n",
       "    <tr>\n",
       "      <th>7</th>\n",
       "      <td>2</td>\n",
       "      <td>2019-05-03 11:46:19</td>\n",
       "      <td>2019-05-03 11:48:25</td>\n",
       "      <td>0.490377</td>\n",
       "      <td>0.305281</td>\n",
       "    </tr>\n",
       "    <tr>\n",
       "      <th>8</th>\n",
       "      <td>2</td>\n",
       "      <td>2019-05-03 11:49:48</td>\n",
       "      <td>2019-05-03 11:53:18</td>\n",
       "      <td>0.827743</td>\n",
       "      <td>0.516874</td>\n",
       "    </tr>\n",
       "    <tr>\n",
       "      <th>9</th>\n",
       "      <td>3</td>\n",
       "      <td>2019-05-03 12:06:54</td>\n",
       "      <td>2019-05-03 12:11:34</td>\n",
       "      <td>1.062053</td>\n",
       "      <td>0.671494</td>\n",
       "    </tr>\n",
       "  </tbody>\n",
       "</table>\n",
       "</div>"
      ],
      "text/plain": [
       "   key Начало нагрева дугой  Конец нагрева дугой  Активная мощность  \\\n",
       "0    1  2019-05-03 11:02:14  2019-05-03 11:06:02           0.976059   \n",
       "1    1  2019-05-03 11:07:28  2019-05-03 11:10:33           0.805607   \n",
       "2    1  2019-05-03 11:11:44  2019-05-03 11:14:36           0.744363   \n",
       "3    1  2019-05-03 11:18:14  2019-05-03 11:24:19           1.659363   \n",
       "4    1  2019-05-03 11:26:09  2019-05-03 11:28:37           0.692755   \n",
       "5    2  2019-05-03 11:34:14  2019-05-03 11:36:31           0.438063   \n",
       "6    2  2019-05-03 11:38:50  2019-05-03 11:44:28           1.296415   \n",
       "7    2  2019-05-03 11:46:19  2019-05-03 11:48:25           0.490377   \n",
       "8    2  2019-05-03 11:49:48  2019-05-03 11:53:18           0.827743   \n",
       "9    3  2019-05-03 12:06:54  2019-05-03 12:11:34           1.062053   \n",
       "\n",
       "   Реактивная мощность  \n",
       "0             0.687084  \n",
       "1             0.520285  \n",
       "2             0.498805  \n",
       "3             1.062669  \n",
       "4             0.414397  \n",
       "5             0.283043  \n",
       "6             0.892914  \n",
       "7             0.305281  \n",
       "8             0.516874  \n",
       "9             0.671494  "
      ]
     },
     "execution_count": 262,
     "metadata": {},
     "output_type": "execute_result"
    }
   ],
   "source": [
    "data_arc.head(10)"
   ]
  },
  {
   "cell_type": "code",
   "execution_count": 263,
   "metadata": {},
   "outputs": [
    {
     "data": {
      "text/html": [
       "<div>\n",
       "<style scoped>\n",
       "    .dataframe tbody tr th:only-of-type {\n",
       "        vertical-align: middle;\n",
       "    }\n",
       "\n",
       "    .dataframe tbody tr th {\n",
       "        vertical-align: top;\n",
       "    }\n",
       "\n",
       "    .dataframe thead th {\n",
       "        text-align: right;\n",
       "    }\n",
       "</style>\n",
       "<table border=\"1\" class=\"dataframe\">\n",
       "  <thead>\n",
       "    <tr style=\"text-align: right;\">\n",
       "      <th></th>\n",
       "      <th>key</th>\n",
       "      <th>Начало нагрева дугой</th>\n",
       "      <th>Конец нагрева дугой</th>\n",
       "      <th>Активная мощность</th>\n",
       "      <th>Реактивная мощность</th>\n",
       "    </tr>\n",
       "  </thead>\n",
       "  <tbody>\n",
       "    <tr>\n",
       "      <th>2850</th>\n",
       "      <td>620</td>\n",
       "      <td>2019-05-26 04:14:57</td>\n",
       "      <td>2019-05-26 04:16:56</td>\n",
       "      <td>0.461558</td>\n",
       "      <td>0.347112</td>\n",
       "    </tr>\n",
       "    <tr>\n",
       "      <th>8544</th>\n",
       "      <td>1860</td>\n",
       "      <td>2019-07-08 09:28:39</td>\n",
       "      <td>2019-07-08 09:31:48</td>\n",
       "      <td>0.708460</td>\n",
       "      <td>0.553040</td>\n",
       "    </tr>\n",
       "    <tr>\n",
       "      <th>12111</th>\n",
       "      <td>2634</td>\n",
       "      <td>2019-08-10 21:12:33</td>\n",
       "      <td>2019-08-10 21:14:15</td>\n",
       "      <td>0.342987</td>\n",
       "      <td>0.230352</td>\n",
       "    </tr>\n",
       "    <tr>\n",
       "      <th>4477</th>\n",
       "      <td>964</td>\n",
       "      <td>2019-06-07 22:06:50</td>\n",
       "      <td>2019-06-07 22:08:21</td>\n",
       "      <td>0.320384</td>\n",
       "      <td>0.229461</td>\n",
       "    </tr>\n",
       "    <tr>\n",
       "      <th>1645</th>\n",
       "      <td>353</td>\n",
       "      <td>2019-05-16 16:40:33</td>\n",
       "      <td>2019-05-16 16:42:34</td>\n",
       "      <td>0.506942</td>\n",
       "      <td>0.422235</td>\n",
       "    </tr>\n",
       "  </tbody>\n",
       "</table>\n",
       "</div>"
      ],
      "text/plain": [
       "        key Начало нагрева дугой  Конец нагрева дугой  Активная мощность  \\\n",
       "2850    620  2019-05-26 04:14:57  2019-05-26 04:16:56           0.461558   \n",
       "8544   1860  2019-07-08 09:28:39  2019-07-08 09:31:48           0.708460   \n",
       "12111  2634  2019-08-10 21:12:33  2019-08-10 21:14:15           0.342987   \n",
       "4477    964  2019-06-07 22:06:50  2019-06-07 22:08:21           0.320384   \n",
       "1645    353  2019-05-16 16:40:33  2019-05-16 16:42:34           0.506942   \n",
       "\n",
       "       Реактивная мощность  \n",
       "2850              0.347112  \n",
       "8544              0.553040  \n",
       "12111             0.230352  \n",
       "4477              0.229461  \n",
       "1645              0.422235  "
      ]
     },
     "execution_count": 263,
     "metadata": {},
     "output_type": "execute_result"
    }
   ],
   "source": [
    "data_arc.sample(5)"
   ]
  },
  {
   "cell_type": "markdown",
   "metadata": {},
   "source": [
    "Названия столбцов стоит изменить на \"питовоский\" формат, так же есть столбцы, содержаие дату и время."
   ]
  },
  {
   "cell_type": "code",
   "execution_count": 264,
   "metadata": {},
   "outputs": [
    {
     "name": "stdout",
     "output_type": "stream",
     "text": [
      "<class 'pandas.core.frame.DataFrame'>\n",
      "RangeIndex: 14876 entries, 0 to 14875\n",
      "Data columns (total 5 columns):\n",
      " #   Column                Non-Null Count  Dtype  \n",
      "---  ------                --------------  -----  \n",
      " 0   key                   14876 non-null  int64  \n",
      " 1   Начало нагрева дугой  14876 non-null  object \n",
      " 2   Конец нагрева дугой   14876 non-null  object \n",
      " 3   Активная мощность     14876 non-null  float64\n",
      " 4   Реактивная мощность   14876 non-null  float64\n",
      "dtypes: float64(2), int64(1), object(2)\n",
      "memory usage: 581.2+ KB\n"
     ]
    }
   ],
   "source": [
    "data_arc.info()"
   ]
  },
  {
   "cell_type": "markdown",
   "metadata": {},
   "source": [
    "Пропусков нет, но даты хранятся не в формате datetime, это нужно исправить."
   ]
  },
  {
   "cell_type": "code",
   "execution_count": 265,
   "metadata": {},
   "outputs": [
    {
     "data": {
      "text/html": [
       "<div>\n",
       "<style scoped>\n",
       "    .dataframe tbody tr th:only-of-type {\n",
       "        vertical-align: middle;\n",
       "    }\n",
       "\n",
       "    .dataframe tbody tr th {\n",
       "        vertical-align: top;\n",
       "    }\n",
       "\n",
       "    .dataframe thead th {\n",
       "        text-align: right;\n",
       "    }\n",
       "</style>\n",
       "<table border=\"1\" class=\"dataframe\">\n",
       "  <thead>\n",
       "    <tr style=\"text-align: right;\">\n",
       "      <th></th>\n",
       "      <th>key</th>\n",
       "      <th>Активная мощность</th>\n",
       "      <th>Реактивная мощность</th>\n",
       "    </tr>\n",
       "  </thead>\n",
       "  <tbody>\n",
       "    <tr>\n",
       "      <th>count</th>\n",
       "      <td>14876.000000</td>\n",
       "      <td>14876.000000</td>\n",
       "      <td>14876.000000</td>\n",
       "    </tr>\n",
       "    <tr>\n",
       "      <th>mean</th>\n",
       "      <td>1615.220422</td>\n",
       "      <td>0.670441</td>\n",
       "      <td>0.452592</td>\n",
       "    </tr>\n",
       "    <tr>\n",
       "      <th>std</th>\n",
       "      <td>934.571502</td>\n",
       "      <td>0.408159</td>\n",
       "      <td>5.878702</td>\n",
       "    </tr>\n",
       "    <tr>\n",
       "      <th>min</th>\n",
       "      <td>1.000000</td>\n",
       "      <td>0.030002</td>\n",
       "      <td>-715.504924</td>\n",
       "    </tr>\n",
       "    <tr>\n",
       "      <th>25%</th>\n",
       "      <td>806.000000</td>\n",
       "      <td>0.395297</td>\n",
       "      <td>0.290991</td>\n",
       "    </tr>\n",
       "    <tr>\n",
       "      <th>50%</th>\n",
       "      <td>1617.000000</td>\n",
       "      <td>0.555517</td>\n",
       "      <td>0.415962</td>\n",
       "    </tr>\n",
       "    <tr>\n",
       "      <th>75%</th>\n",
       "      <td>2429.000000</td>\n",
       "      <td>0.857034</td>\n",
       "      <td>0.637371</td>\n",
       "    </tr>\n",
       "    <tr>\n",
       "      <th>max</th>\n",
       "      <td>3241.000000</td>\n",
       "      <td>3.731596</td>\n",
       "      <td>2.676388</td>\n",
       "    </tr>\n",
       "  </tbody>\n",
       "</table>\n",
       "</div>"
      ],
      "text/plain": [
       "                key  Активная мощность  Реактивная мощность\n",
       "count  14876.000000       14876.000000         14876.000000\n",
       "mean    1615.220422           0.670441             0.452592\n",
       "std      934.571502           0.408159             5.878702\n",
       "min        1.000000           0.030002          -715.504924\n",
       "25%      806.000000           0.395297             0.290991\n",
       "50%     1617.000000           0.555517             0.415962\n",
       "75%     2429.000000           0.857034             0.637371\n",
       "max     3241.000000           3.731596             2.676388"
      ]
     },
     "execution_count": 265,
     "metadata": {},
     "output_type": "execute_result"
    }
   ],
   "source": [
    "# Cмотрю общую статистику:\n",
    "\n",
    "data_arc.describe()"
   ]
  },
  {
   "cell_type": "markdown",
   "metadata": {},
   "source": [
    "Видим значительный *разрыв* между 75% квантилем и максимальными значениями. Возможно, в каких-то случаях приходится использовать нестандартно большую можность для нагрева?\n",
    "\n",
    "Также интересно, что минимальное значение `реактивной мощности` - *отрицательное* (-715.5). Можно ли это считать выбросом? Есть ли еще отрицательные значения? Стоит поисследовать это. \n",
    "\n",
    "Нашла, что такое возможно: реактивная мощность может быть как *положительной величиной* (если нагрузка имеет активно-индуктивный характер), так и *отрицательной* (если нагрузка имеет активно-ёмкостный характер). Данное обстоятельство подчёркивает тот факт, что реактивная мощность не участвует в работе электрического тока. Когда устройство имеет *положительную реактивную мощность*, то принято говорить, что оно её *потребляет*, а когда *отрицательную* — то *производит*. \n",
    "\n",
    "Звучит странно, наш печь-ковш должен потреблять энергию, а не производить её..."
   ]
  },
  {
   "cell_type": "markdown",
   "metadata": {},
   "source": [
    "Исследую, сколько циклов (итераций) нагрева обычно бывает за одну партию:"
   ]
  },
  {
   "cell_type": "code",
   "execution_count": 266,
   "metadata": {},
   "outputs": [
    {
     "data": {
      "image/png": "[encoded data removed]",
      "text/plain": [
       "<Figure size 1008x576 with 1 Axes>"
      ]
     },
     "metadata": {
      "needs_background": "light"
     },
     "output_type": "display_data"
    }
   ],
   "source": [
    "# Строю график распределения количества итераций нагрева разных партий:\n",
    "\n",
    "fig = plt.figure(figsize=(14, 8))\n",
    "ax = sns.histplot(data_arc.groupby('key')['Активная мощность'].count(), kde=True, linewidth=0.5, color = 'green')\n",
    "ax.set(xlabel = 'Количество итераций нагрева для одной партии', ylabel = 'Количество циклов',\n",
    "       title ='График распределения количества итераций нагрева разных партий')\n",
    "plt.show()"
   ]
  },
  {
   "cell_type": "markdown",
   "metadata": {},
   "source": [
    "Видим, что чаще всего бывает 4-5 итераций нагрева для одной партии."
   ]
  },
  {
   "cell_type": "markdown",
   "metadata": {},
   "source": [
    "Посмотрю графики распределения мощностей нагрева:"
   ]
  },
  {
   "cell_type": "code",
   "execution_count": 267,
   "metadata": {},
   "outputs": [
    {
     "data": {
      "image/png": "[encoded data removed]",
      "text/plain": [
       "<Figure size 1152x432 with 2 Axes>"
      ]
     },
     "metadata": {
      "needs_background": "light"
     },
     "output_type": "display_data"
    }
   ],
   "source": [
    "fig = plt.figure(figsize=(16, 6))\n",
    "\n",
    "ax_1 = fig.add_subplot(1, 2, 1)\n",
    "ax_1  = sns.histplot(data_arc['Активная мощность'], kde=True, label='Распределение активных мощностей нагрева', color='green')\n",
    "\n",
    "ax_2 = fig.add_subplot(1, 2, 2)\n",
    "ax_2  = sns.histplot(data_arc['Реактивная мощность'], kde=True, label='Распределение реактивных мощностей нагрева', color='blue') \n",
    "\n",
    "ax_1.legend(['Активная мощность'])\n",
    "ax_2.legend(['Реактивная мощность'])\n",
    "plt.show()"
   ]
  },
  {
   "cell_type": "markdown",
   "metadata": {},
   "source": [
    "На графике реактивной мощности замечен выброс."
   ]
  },
  {
   "cell_type": "markdown",
   "metadata": {},
   "source": [
    "Исследую отрицательные значения реактивной мощности:"
   ]
  },
  {
   "cell_type": "code",
   "execution_count": 268,
   "metadata": {},
   "outputs": [
    {
     "data": {
      "text/html": [
       "<div>\n",
       "<style scoped>\n",
       "    .dataframe tbody tr th:only-of-type {\n",
       "        vertical-align: middle;\n",
       "    }\n",
       "\n",
       "    .dataframe tbody tr th {\n",
       "        vertical-align: top;\n",
       "    }\n",
       "\n",
       "    .dataframe thead th {\n",
       "        text-align: right;\n",
       "    }\n",
       "</style>\n",
       "<table border=\"1\" class=\"dataframe\">\n",
       "  <thead>\n",
       "    <tr style=\"text-align: right;\">\n",
       "      <th></th>\n",
       "      <th>key</th>\n",
       "      <th>Начало нагрева дугой</th>\n",
       "      <th>Конец нагрева дугой</th>\n",
       "      <th>Активная мощность</th>\n",
       "      <th>Реактивная мощность</th>\n",
       "    </tr>\n",
       "  </thead>\n",
       "  <tbody>\n",
       "    <tr>\n",
       "      <th>9780</th>\n",
       "      <td>2116</td>\n",
       "      <td>2019-07-24 00:44:48</td>\n",
       "      <td>2019-07-24 00:46:37</td>\n",
       "      <td>0.495782</td>\n",
       "      <td>-715.504924</td>\n",
       "    </tr>\n",
       "    <tr>\n",
       "      <th>5596</th>\n",
       "      <td>1216</td>\n",
       "      <td>2019-06-16 08:22:19</td>\n",
       "      <td>2019-06-16 08:22:30</td>\n",
       "      <td>0.030188</td>\n",
       "      <td>0.020806</td>\n",
       "    </tr>\n",
       "    <tr>\n",
       "      <th>2419</th>\n",
       "      <td>521</td>\n",
       "      <td>2019-05-22 17:42:57</td>\n",
       "      <td>2019-05-22 17:43:11</td>\n",
       "      <td>0.030563</td>\n",
       "      <td>0.021154</td>\n",
       "    </tr>\n",
       "    <tr>\n",
       "      <th>4914</th>\n",
       "      <td>1060</td>\n",
       "      <td>2019-06-11 04:31:57</td>\n",
       "      <td>2019-06-11 04:32:08</td>\n",
       "      <td>0.031630</td>\n",
       "      <td>0.022485</td>\n",
       "    </tr>\n",
       "    <tr>\n",
       "      <th>4633</th>\n",
       "      <td>1000</td>\n",
       "      <td>2019-06-09 01:17:44</td>\n",
       "      <td>2019-06-09 01:17:57</td>\n",
       "      <td>0.038186</td>\n",
       "      <td>0.022983</td>\n",
       "    </tr>\n",
       "    <tr>\n",
       "      <th>676</th>\n",
       "      <td>146</td>\n",
       "      <td>2019-05-08 19:18:55</td>\n",
       "      <td>2019-05-08 19:19:07</td>\n",
       "      <td>0.035400</td>\n",
       "      <td>0.023228</td>\n",
       "    </tr>\n",
       "    <tr>\n",
       "      <th>4063</th>\n",
       "      <td>873</td>\n",
       "      <td>2019-06-04 18:34:19</td>\n",
       "      <td>2019-06-04 18:34:30</td>\n",
       "      <td>0.040905</td>\n",
       "      <td>0.023569</td>\n",
       "    </tr>\n",
       "    <tr>\n",
       "      <th>6580</th>\n",
       "      <td>1432</td>\n",
       "      <td>2019-06-23 21:13:19</td>\n",
       "      <td>2019-06-23 21:13:34</td>\n",
       "      <td>0.034053</td>\n",
       "      <td>0.025329</td>\n",
       "    </tr>\n",
       "    <tr>\n",
       "      <th>8704</th>\n",
       "      <td>1892</td>\n",
       "      <td>2019-07-09 18:51:37</td>\n",
       "      <td>2019-07-09 18:51:50</td>\n",
       "      <td>0.038364</td>\n",
       "      <td>0.026079</td>\n",
       "    </tr>\n",
       "    <tr>\n",
       "      <th>4615</th>\n",
       "      <td>996</td>\n",
       "      <td>2019-06-08 22:06:27</td>\n",
       "      <td>2019-06-08 22:09:03</td>\n",
       "      <td>0.035165</td>\n",
       "      <td>0.026222</td>\n",
       "    </tr>\n",
       "  </tbody>\n",
       "</table>\n",
       "</div>"
      ],
      "text/plain": [
       "       key Начало нагрева дугой  Конец нагрева дугой  Активная мощность  \\\n",
       "9780  2116  2019-07-24 00:44:48  2019-07-24 00:46:37           0.495782   \n",
       "5596  1216  2019-06-16 08:22:19  2019-06-16 08:22:30           0.030188   \n",
       "2419   521  2019-05-22 17:42:57  2019-05-22 17:43:11           0.030563   \n",
       "4914  1060  2019-06-11 04:31:57  2019-06-11 04:32:08           0.031630   \n",
       "4633  1000  2019-06-09 01:17:44  2019-06-09 01:17:57           0.038186   \n",
       "676    146  2019-05-08 19:18:55  2019-05-08 19:19:07           0.035400   \n",
       "4063   873  2019-06-04 18:34:19  2019-06-04 18:34:30           0.040905   \n",
       "6580  1432  2019-06-23 21:13:19  2019-06-23 21:13:34           0.034053   \n",
       "8704  1892  2019-07-09 18:51:37  2019-07-09 18:51:50           0.038364   \n",
       "4615   996  2019-06-08 22:06:27  2019-06-08 22:09:03           0.035165   \n",
       "\n",
       "      Реактивная мощность  \n",
       "9780          -715.504924  \n",
       "5596             0.020806  \n",
       "2419             0.021154  \n",
       "4914             0.022485  \n",
       "4633             0.022983  \n",
       "676              0.023228  \n",
       "4063             0.023569  \n",
       "6580             0.025329  \n",
       "8704             0.026079  \n",
       "4615             0.026222  "
      ]
     },
     "execution_count": 268,
     "metadata": {},
     "output_type": "execute_result"
    }
   ],
   "source": [
    "data_arc.sort_values(by='Реактивная мощность').head(10)"
   ]
  },
  {
   "cell_type": "markdown",
   "metadata": {},
   "source": [
    "Подтвердили теорию, что отрицательное знаечние - это выброс. "
   ]
  },
  {
   "cell_type": "markdown",
   "metadata": {},
   "source": [
    "Чтобы заменить это отрицательное значение на что-нибудь другое и адекватное, посмотрим, какие итерации нагрева были в этой партии:"
   ]
  },
  {
   "cell_type": "markdown",
   "metadata": {},
   "source": [
    "Для замены выброса можно расситать коэффициент зависимоти - отношение active_power к reactive_power в каждом наблюдении в ключе, взять среднюю полученных значений коэффициентов. Среднее значение коэффициента умножить на значение active_power, получим нужное значение reactive_power."
   ]
  },
  {
   "cell_type": "markdown",
   "metadata": {},
   "source": [
    "**Вывод по исследованию данных об электродах:**\n",
    "\n",
    "- Нужно переименовать столбцы под нужный формат(названия столбцов на английском языке, прописными буквами, без пробелов, \"верблюжим\" типом), данные привести к нужному типу (дата в datetime).\n",
    "- Заменить отрицательную аномалию в реактивной мощности на адекватное значение.\n",
    "- Выяснили, что чаще всего бывает 4-5 итераций нагрева для одной партии."
   ]
  },
  {
   "cell_type": "markdown",
   "metadata": {},
   "source": [
    "### 1.2. Исследование данных о сыпучих материалах"
   ]
  },
  {
   "cell_type": "code",
   "execution_count": 269,
   "metadata": {},
   "outputs": [
    {
     "data": {
      "text/html": [
       "<div>\n",
       "<style scoped>\n",
       "    .dataframe tbody tr th:only-of-type {\n",
       "        vertical-align: middle;\n",
       "    }\n",
       "\n",
       "    .dataframe tbody tr th {\n",
       "        vertical-align: top;\n",
       "    }\n",
       "\n",
       "    .dataframe thead th {\n",
       "        text-align: right;\n",
       "    }\n",
       "</style>\n",
       "<table border=\"1\" class=\"dataframe\">\n",
       "  <thead>\n",
       "    <tr style=\"text-align: right;\">\n",
       "      <th></th>\n",
       "      <th>key</th>\n",
       "      <th>Bulk 1</th>\n",
       "      <th>Bulk 2</th>\n",
       "      <th>Bulk 3</th>\n",
       "      <th>Bulk 4</th>\n",
       "      <th>Bulk 5</th>\n",
       "      <th>Bulk 6</th>\n",
       "      <th>Bulk 7</th>\n",
       "      <th>Bulk 8</th>\n",
       "      <th>Bulk 9</th>\n",
       "      <th>Bulk 10</th>\n",
       "      <th>Bulk 11</th>\n",
       "      <th>Bulk 12</th>\n",
       "      <th>Bulk 13</th>\n",
       "      <th>Bulk 14</th>\n",
       "      <th>Bulk 15</th>\n",
       "    </tr>\n",
       "  </thead>\n",
       "  <tbody>\n",
       "    <tr>\n",
       "      <th>0</th>\n",
       "      <td>1</td>\n",
       "      <td>NaN</td>\n",
       "      <td>NaN</td>\n",
       "      <td>NaN</td>\n",
       "      <td>43.0</td>\n",
       "      <td>NaN</td>\n",
       "      <td>NaN</td>\n",
       "      <td>NaN</td>\n",
       "      <td>NaN</td>\n",
       "      <td>NaN</td>\n",
       "      <td>NaN</td>\n",
       "      <td>NaN</td>\n",
       "      <td>206.0</td>\n",
       "      <td>NaN</td>\n",
       "      <td>150.0</td>\n",
       "      <td>154.0</td>\n",
       "    </tr>\n",
       "    <tr>\n",
       "      <th>1</th>\n",
       "      <td>2</td>\n",
       "      <td>NaN</td>\n",
       "      <td>NaN</td>\n",
       "      <td>NaN</td>\n",
       "      <td>73.0</td>\n",
       "      <td>NaN</td>\n",
       "      <td>NaN</td>\n",
       "      <td>NaN</td>\n",
       "      <td>NaN</td>\n",
       "      <td>NaN</td>\n",
       "      <td>NaN</td>\n",
       "      <td>NaN</td>\n",
       "      <td>206.0</td>\n",
       "      <td>NaN</td>\n",
       "      <td>149.0</td>\n",
       "      <td>154.0</td>\n",
       "    </tr>\n",
       "    <tr>\n",
       "      <th>2</th>\n",
       "      <td>3</td>\n",
       "      <td>NaN</td>\n",
       "      <td>NaN</td>\n",
       "      <td>NaN</td>\n",
       "      <td>34.0</td>\n",
       "      <td>NaN</td>\n",
       "      <td>NaN</td>\n",
       "      <td>NaN</td>\n",
       "      <td>NaN</td>\n",
       "      <td>NaN</td>\n",
       "      <td>NaN</td>\n",
       "      <td>NaN</td>\n",
       "      <td>205.0</td>\n",
       "      <td>NaN</td>\n",
       "      <td>152.0</td>\n",
       "      <td>153.0</td>\n",
       "    </tr>\n",
       "    <tr>\n",
       "      <th>3</th>\n",
       "      <td>4</td>\n",
       "      <td>NaN</td>\n",
       "      <td>NaN</td>\n",
       "      <td>NaN</td>\n",
       "      <td>81.0</td>\n",
       "      <td>NaN</td>\n",
       "      <td>NaN</td>\n",
       "      <td>NaN</td>\n",
       "      <td>NaN</td>\n",
       "      <td>NaN</td>\n",
       "      <td>NaN</td>\n",
       "      <td>NaN</td>\n",
       "      <td>207.0</td>\n",
       "      <td>NaN</td>\n",
       "      <td>153.0</td>\n",
       "      <td>154.0</td>\n",
       "    </tr>\n",
       "    <tr>\n",
       "      <th>4</th>\n",
       "      <td>5</td>\n",
       "      <td>NaN</td>\n",
       "      <td>NaN</td>\n",
       "      <td>NaN</td>\n",
       "      <td>78.0</td>\n",
       "      <td>NaN</td>\n",
       "      <td>NaN</td>\n",
       "      <td>NaN</td>\n",
       "      <td>NaN</td>\n",
       "      <td>NaN</td>\n",
       "      <td>NaN</td>\n",
       "      <td>NaN</td>\n",
       "      <td>203.0</td>\n",
       "      <td>NaN</td>\n",
       "      <td>151.0</td>\n",
       "      <td>152.0</td>\n",
       "    </tr>\n",
       "  </tbody>\n",
       "</table>\n",
       "</div>"
      ],
      "text/plain": [
       "   key  Bulk 1  Bulk 2  Bulk 3  Bulk 4  Bulk 5  Bulk 6  Bulk 7  Bulk 8  \\\n",
       "0    1     NaN     NaN     NaN    43.0     NaN     NaN     NaN     NaN   \n",
       "1    2     NaN     NaN     NaN    73.0     NaN     NaN     NaN     NaN   \n",
       "2    3     NaN     NaN     NaN    34.0     NaN     NaN     NaN     NaN   \n",
       "3    4     NaN     NaN     NaN    81.0     NaN     NaN     NaN     NaN   \n",
       "4    5     NaN     NaN     NaN    78.0     NaN     NaN     NaN     NaN   \n",
       "\n",
       "   Bulk 9  Bulk 10  Bulk 11  Bulk 12  Bulk 13  Bulk 14  Bulk 15  \n",
       "0     NaN      NaN      NaN    206.0      NaN    150.0    154.0  \n",
       "1     NaN      NaN      NaN    206.0      NaN    149.0    154.0  \n",
       "2     NaN      NaN      NaN    205.0      NaN    152.0    153.0  \n",
       "3     NaN      NaN      NaN    207.0      NaN    153.0    154.0  \n",
       "4     NaN      NaN      NaN    203.0      NaN    151.0    152.0  "
      ]
     },
     "execution_count": 269,
     "metadata": {},
     "output_type": "execute_result"
    }
   ],
   "source": [
    "data_bulk.head()"
   ]
  },
  {
   "cell_type": "code",
   "execution_count": 270,
   "metadata": {},
   "outputs": [
    {
     "data": {
      "text/html": [
       "<div>\n",
       "<style scoped>\n",
       "    .dataframe tbody tr th:only-of-type {\n",
       "        vertical-align: middle;\n",
       "    }\n",
       "\n",
       "    .dataframe tbody tr th {\n",
       "        vertical-align: top;\n",
       "    }\n",
       "\n",
       "    .dataframe thead th {\n",
       "        text-align: right;\n",
       "    }\n",
       "</style>\n",
       "<table border=\"1\" class=\"dataframe\">\n",
       "  <thead>\n",
       "    <tr style=\"text-align: right;\">\n",
       "      <th></th>\n",
       "      <th>key</th>\n",
       "      <th>Bulk 1</th>\n",
       "      <th>Bulk 2</th>\n",
       "      <th>Bulk 3</th>\n",
       "      <th>Bulk 4</th>\n",
       "      <th>Bulk 5</th>\n",
       "      <th>Bulk 6</th>\n",
       "      <th>Bulk 7</th>\n",
       "      <th>Bulk 8</th>\n",
       "      <th>Bulk 9</th>\n",
       "      <th>Bulk 10</th>\n",
       "      <th>Bulk 11</th>\n",
       "      <th>Bulk 12</th>\n",
       "      <th>Bulk 13</th>\n",
       "      <th>Bulk 14</th>\n",
       "      <th>Bulk 15</th>\n",
       "    </tr>\n",
       "  </thead>\n",
       "  <tbody>\n",
       "    <tr>\n",
       "      <th>528</th>\n",
       "      <td>557</td>\n",
       "      <td>NaN</td>\n",
       "      <td>NaN</td>\n",
       "      <td>NaN</td>\n",
       "      <td>NaN</td>\n",
       "      <td>NaN</td>\n",
       "      <td>NaN</td>\n",
       "      <td>NaN</td>\n",
       "      <td>NaN</td>\n",
       "      <td>NaN</td>\n",
       "      <td>84.0</td>\n",
       "      <td>NaN</td>\n",
       "      <td>NaN</td>\n",
       "      <td>NaN</td>\n",
       "      <td>NaN</td>\n",
       "      <td>NaN</td>\n",
       "    </tr>\n",
       "    <tr>\n",
       "      <th>2713</th>\n",
       "      <td>2814</td>\n",
       "      <td>NaN</td>\n",
       "      <td>NaN</td>\n",
       "      <td>NaN</td>\n",
       "      <td>NaN</td>\n",
       "      <td>NaN</td>\n",
       "      <td>NaN</td>\n",
       "      <td>NaN</td>\n",
       "      <td>NaN</td>\n",
       "      <td>NaN</td>\n",
       "      <td>NaN</td>\n",
       "      <td>NaN</td>\n",
       "      <td>416.0</td>\n",
       "      <td>NaN</td>\n",
       "      <td>206.0</td>\n",
       "      <td>NaN</td>\n",
       "    </tr>\n",
       "    <tr>\n",
       "      <th>807</th>\n",
       "      <td>842</td>\n",
       "      <td>NaN</td>\n",
       "      <td>NaN</td>\n",
       "      <td>102.0</td>\n",
       "      <td>NaN</td>\n",
       "      <td>NaN</td>\n",
       "      <td>NaN</td>\n",
       "      <td>NaN</td>\n",
       "      <td>NaN</td>\n",
       "      <td>NaN</td>\n",
       "      <td>NaN</td>\n",
       "      <td>NaN</td>\n",
       "      <td>204.0</td>\n",
       "      <td>NaN</td>\n",
       "      <td>132.0</td>\n",
       "      <td>101.0</td>\n",
       "    </tr>\n",
       "    <tr>\n",
       "      <th>139</th>\n",
       "      <td>153</td>\n",
       "      <td>NaN</td>\n",
       "      <td>NaN</td>\n",
       "      <td>NaN</td>\n",
       "      <td>NaN</td>\n",
       "      <td>NaN</td>\n",
       "      <td>75.0</td>\n",
       "      <td>NaN</td>\n",
       "      <td>NaN</td>\n",
       "      <td>NaN</td>\n",
       "      <td>NaN</td>\n",
       "      <td>NaN</td>\n",
       "      <td>NaN</td>\n",
       "      <td>NaN</td>\n",
       "      <td>152.0</td>\n",
       "      <td>NaN</td>\n",
       "    </tr>\n",
       "    <tr>\n",
       "      <th>2116</th>\n",
       "      <td>2188</td>\n",
       "      <td>NaN</td>\n",
       "      <td>NaN</td>\n",
       "      <td>NaN</td>\n",
       "      <td>95.0</td>\n",
       "      <td>NaN</td>\n",
       "      <td>NaN</td>\n",
       "      <td>NaN</td>\n",
       "      <td>NaN</td>\n",
       "      <td>NaN</td>\n",
       "      <td>52.0</td>\n",
       "      <td>NaN</td>\n",
       "      <td>313.0</td>\n",
       "      <td>NaN</td>\n",
       "      <td>197.0</td>\n",
       "      <td>171.0</td>\n",
       "    </tr>\n",
       "  </tbody>\n",
       "</table>\n",
       "</div>"
      ],
      "text/plain": [
       "       key  Bulk 1  Bulk 2  Bulk 3  Bulk 4  Bulk 5  Bulk 6  Bulk 7  Bulk 8  \\\n",
       "528    557     NaN     NaN     NaN     NaN     NaN     NaN     NaN     NaN   \n",
       "2713  2814     NaN     NaN     NaN     NaN     NaN     NaN     NaN     NaN   \n",
       "807    842     NaN     NaN   102.0     NaN     NaN     NaN     NaN     NaN   \n",
       "139    153     NaN     NaN     NaN     NaN     NaN    75.0     NaN     NaN   \n",
       "2116  2188     NaN     NaN     NaN    95.0     NaN     NaN     NaN     NaN   \n",
       "\n",
       "      Bulk 9  Bulk 10  Bulk 11  Bulk 12  Bulk 13  Bulk 14  Bulk 15  \n",
       "528      NaN     84.0      NaN      NaN      NaN      NaN      NaN  \n",
       "2713     NaN      NaN      NaN    416.0      NaN    206.0      NaN  \n",
       "807      NaN      NaN      NaN    204.0      NaN    132.0    101.0  \n",
       "139      NaN      NaN      NaN      NaN      NaN    152.0      NaN  \n",
       "2116     NaN     52.0      NaN    313.0      NaN    197.0    171.0  "
      ]
     },
     "execution_count": 270,
     "metadata": {},
     "output_type": "execute_result"
    }
   ],
   "source": [
    "data_bulk.sample(5)"
   ]
  },
  {
   "cell_type": "code",
   "execution_count": 271,
   "metadata": {},
   "outputs": [
    {
     "data": {
      "text/html": [
       "<div>\n",
       "<style scoped>\n",
       "    .dataframe tbody tr th:only-of-type {\n",
       "        vertical-align: middle;\n",
       "    }\n",
       "\n",
       "    .dataframe tbody tr th {\n",
       "        vertical-align: top;\n",
       "    }\n",
       "\n",
       "    .dataframe thead th {\n",
       "        text-align: right;\n",
       "    }\n",
       "</style>\n",
       "<table border=\"1\" class=\"dataframe\">\n",
       "  <thead>\n",
       "    <tr style=\"text-align: right;\">\n",
       "      <th></th>\n",
       "      <th>key</th>\n",
       "      <th>Bulk 1</th>\n",
       "      <th>Bulk 2</th>\n",
       "      <th>Bulk 3</th>\n",
       "      <th>Bulk 4</th>\n",
       "      <th>Bulk 5</th>\n",
       "      <th>Bulk 6</th>\n",
       "      <th>Bulk 7</th>\n",
       "      <th>Bulk 8</th>\n",
       "      <th>Bulk 9</th>\n",
       "      <th>Bulk 10</th>\n",
       "      <th>Bulk 11</th>\n",
       "      <th>Bulk 12</th>\n",
       "      <th>Bulk 13</th>\n",
       "      <th>Bulk 14</th>\n",
       "      <th>Bulk 15</th>\n",
       "    </tr>\n",
       "  </thead>\n",
       "  <tbody>\n",
       "    <tr>\n",
       "      <th>0</th>\n",
       "      <td>1</td>\n",
       "      <td>NaN</td>\n",
       "      <td>NaN</td>\n",
       "      <td>NaN</td>\n",
       "      <td>2019-05-03 11:21:30</td>\n",
       "      <td>NaN</td>\n",
       "      <td>NaN</td>\n",
       "      <td>NaN</td>\n",
       "      <td>NaN</td>\n",
       "      <td>NaN</td>\n",
       "      <td>NaN</td>\n",
       "      <td>NaN</td>\n",
       "      <td>2019-05-03 11:03:52</td>\n",
       "      <td>NaN</td>\n",
       "      <td>2019-05-03 11:03:52</td>\n",
       "      <td>2019-05-03 11:03:52</td>\n",
       "    </tr>\n",
       "    <tr>\n",
       "      <th>1</th>\n",
       "      <td>2</td>\n",
       "      <td>NaN</td>\n",
       "      <td>NaN</td>\n",
       "      <td>NaN</td>\n",
       "      <td>2019-05-03 11:46:38</td>\n",
       "      <td>NaN</td>\n",
       "      <td>NaN</td>\n",
       "      <td>NaN</td>\n",
       "      <td>NaN</td>\n",
       "      <td>NaN</td>\n",
       "      <td>NaN</td>\n",
       "      <td>NaN</td>\n",
       "      <td>2019-05-03 11:40:20</td>\n",
       "      <td>NaN</td>\n",
       "      <td>2019-05-03 11:40:20</td>\n",
       "      <td>2019-05-03 11:40:20</td>\n",
       "    </tr>\n",
       "    <tr>\n",
       "      <th>2</th>\n",
       "      <td>3</td>\n",
       "      <td>NaN</td>\n",
       "      <td>NaN</td>\n",
       "      <td>NaN</td>\n",
       "      <td>2019-05-03 12:31:06</td>\n",
       "      <td>NaN</td>\n",
       "      <td>NaN</td>\n",
       "      <td>NaN</td>\n",
       "      <td>NaN</td>\n",
       "      <td>NaN</td>\n",
       "      <td>NaN</td>\n",
       "      <td>NaN</td>\n",
       "      <td>2019-05-03 12:09:40</td>\n",
       "      <td>NaN</td>\n",
       "      <td>2019-05-03 12:09:40</td>\n",
       "      <td>2019-05-03 12:09:40</td>\n",
       "    </tr>\n",
       "    <tr>\n",
       "      <th>3</th>\n",
       "      <td>4</td>\n",
       "      <td>NaN</td>\n",
       "      <td>NaN</td>\n",
       "      <td>NaN</td>\n",
       "      <td>2019-05-03 12:48:43</td>\n",
       "      <td>NaN</td>\n",
       "      <td>NaN</td>\n",
       "      <td>NaN</td>\n",
       "      <td>NaN</td>\n",
       "      <td>NaN</td>\n",
       "      <td>NaN</td>\n",
       "      <td>NaN</td>\n",
       "      <td>2019-05-03 12:41:24</td>\n",
       "      <td>NaN</td>\n",
       "      <td>2019-05-03 12:41:24</td>\n",
       "      <td>2019-05-03 12:41:24</td>\n",
       "    </tr>\n",
       "    <tr>\n",
       "      <th>4</th>\n",
       "      <td>5</td>\n",
       "      <td>NaN</td>\n",
       "      <td>NaN</td>\n",
       "      <td>NaN</td>\n",
       "      <td>2019-05-03 13:18:50</td>\n",
       "      <td>NaN</td>\n",
       "      <td>NaN</td>\n",
       "      <td>NaN</td>\n",
       "      <td>NaN</td>\n",
       "      <td>NaN</td>\n",
       "      <td>NaN</td>\n",
       "      <td>NaN</td>\n",
       "      <td>2019-05-03 13:12:56</td>\n",
       "      <td>NaN</td>\n",
       "      <td>2019-05-03 13:12:56</td>\n",
       "      <td>2019-05-03 13:12:56</td>\n",
       "    </tr>\n",
       "  </tbody>\n",
       "</table>\n",
       "</div>"
      ],
      "text/plain": [
       "   key Bulk 1 Bulk 2 Bulk 3               Bulk 4 Bulk 5 Bulk 6 Bulk 7 Bulk 8  \\\n",
       "0    1    NaN    NaN    NaN  2019-05-03 11:21:30    NaN    NaN    NaN    NaN   \n",
       "1    2    NaN    NaN    NaN  2019-05-03 11:46:38    NaN    NaN    NaN    NaN   \n",
       "2    3    NaN    NaN    NaN  2019-05-03 12:31:06    NaN    NaN    NaN    NaN   \n",
       "3    4    NaN    NaN    NaN  2019-05-03 12:48:43    NaN    NaN    NaN    NaN   \n",
       "4    5    NaN    NaN    NaN  2019-05-03 13:18:50    NaN    NaN    NaN    NaN   \n",
       "\n",
       "  Bulk 9 Bulk 10 Bulk 11              Bulk 12 Bulk 13              Bulk 14  \\\n",
       "0    NaN     NaN     NaN  2019-05-03 11:03:52     NaN  2019-05-03 11:03:52   \n",
       "1    NaN     NaN     NaN  2019-05-03 11:40:20     NaN  2019-05-03 11:40:20   \n",
       "2    NaN     NaN     NaN  2019-05-03 12:09:40     NaN  2019-05-03 12:09:40   \n",
       "3    NaN     NaN     NaN  2019-05-03 12:41:24     NaN  2019-05-03 12:41:24   \n",
       "4    NaN     NaN     NaN  2019-05-03 13:12:56     NaN  2019-05-03 13:12:56   \n",
       "\n",
       "               Bulk 15  \n",
       "0  2019-05-03 11:03:52  \n",
       "1  2019-05-03 11:40:20  \n",
       "2  2019-05-03 12:09:40  \n",
       "3  2019-05-03 12:41:24  \n",
       "4  2019-05-03 13:12:56  "
      ]
     },
     "execution_count": 271,
     "metadata": {},
     "output_type": "execute_result"
    }
   ],
   "source": [
    "data_bulk_time.head()"
   ]
  },
  {
   "cell_type": "code",
   "execution_count": 272,
   "metadata": {},
   "outputs": [
    {
     "data": {
      "text/html": [
       "<div>\n",
       "<style scoped>\n",
       "    .dataframe tbody tr th:only-of-type {\n",
       "        vertical-align: middle;\n",
       "    }\n",
       "\n",
       "    .dataframe tbody tr th {\n",
       "        vertical-align: top;\n",
       "    }\n",
       "\n",
       "    .dataframe thead th {\n",
       "        text-align: right;\n",
       "    }\n",
       "</style>\n",
       "<table border=\"1\" class=\"dataframe\">\n",
       "  <thead>\n",
       "    <tr style=\"text-align: right;\">\n",
       "      <th></th>\n",
       "      <th>key</th>\n",
       "      <th>Bulk 1</th>\n",
       "      <th>Bulk 2</th>\n",
       "      <th>Bulk 3</th>\n",
       "      <th>Bulk 4</th>\n",
       "      <th>Bulk 5</th>\n",
       "      <th>Bulk 6</th>\n",
       "      <th>Bulk 7</th>\n",
       "      <th>Bulk 8</th>\n",
       "      <th>Bulk 9</th>\n",
       "      <th>Bulk 10</th>\n",
       "      <th>Bulk 11</th>\n",
       "      <th>Bulk 12</th>\n",
       "      <th>Bulk 13</th>\n",
       "      <th>Bulk 14</th>\n",
       "      <th>Bulk 15</th>\n",
       "    </tr>\n",
       "  </thead>\n",
       "  <tbody>\n",
       "    <tr>\n",
       "      <th>1047</th>\n",
       "      <td>1093</td>\n",
       "      <td>NaN</td>\n",
       "      <td>NaN</td>\n",
       "      <td>2019-06-12 08:10:43</td>\n",
       "      <td>NaN</td>\n",
       "      <td>NaN</td>\n",
       "      <td>NaN</td>\n",
       "      <td>NaN</td>\n",
       "      <td>NaN</td>\n",
       "      <td>NaN</td>\n",
       "      <td>NaN</td>\n",
       "      <td>NaN</td>\n",
       "      <td>NaN</td>\n",
       "      <td>NaN</td>\n",
       "      <td>2019-06-12 08:04:39</td>\n",
       "      <td>NaN</td>\n",
       "    </tr>\n",
       "    <tr>\n",
       "      <th>150</th>\n",
       "      <td>164</td>\n",
       "      <td>NaN</td>\n",
       "      <td>NaN</td>\n",
       "      <td>2019-05-09 12:02:56</td>\n",
       "      <td>NaN</td>\n",
       "      <td>NaN</td>\n",
       "      <td>2019-05-09 12:02:55</td>\n",
       "      <td>NaN</td>\n",
       "      <td>NaN</td>\n",
       "      <td>NaN</td>\n",
       "      <td>NaN</td>\n",
       "      <td>NaN</td>\n",
       "      <td>2019-05-09 11:38:03</td>\n",
       "      <td>NaN</td>\n",
       "      <td>2019-05-09 11:38:03</td>\n",
       "      <td>2019-05-09 11:38:03</td>\n",
       "    </tr>\n",
       "    <tr>\n",
       "      <th>708</th>\n",
       "      <td>741</td>\n",
       "      <td>NaN</td>\n",
       "      <td>NaN</td>\n",
       "      <td>NaN</td>\n",
       "      <td>2019-05-30 20:49:52</td>\n",
       "      <td>NaN</td>\n",
       "      <td>NaN</td>\n",
       "      <td>NaN</td>\n",
       "      <td>NaN</td>\n",
       "      <td>NaN</td>\n",
       "      <td>2019-05-30 20:49:52</td>\n",
       "      <td>NaN</td>\n",
       "      <td>2019-05-30 20:41:23</td>\n",
       "      <td>NaN</td>\n",
       "      <td>2019-05-30 20:41:23</td>\n",
       "      <td>2019-05-30 20:41:23</td>\n",
       "    </tr>\n",
       "    <tr>\n",
       "      <th>1966</th>\n",
       "      <td>2035</td>\n",
       "      <td>NaN</td>\n",
       "      <td>NaN</td>\n",
       "      <td>NaN</td>\n",
       "      <td>NaN</td>\n",
       "      <td>NaN</td>\n",
       "      <td>2019-07-21 01:50:04</td>\n",
       "      <td>NaN</td>\n",
       "      <td>NaN</td>\n",
       "      <td>NaN</td>\n",
       "      <td>NaN</td>\n",
       "      <td>NaN</td>\n",
       "      <td>2019-07-21 01:41:07</td>\n",
       "      <td>NaN</td>\n",
       "      <td>2019-07-21 01:41:07</td>\n",
       "      <td>2019-07-21 01:41:07</td>\n",
       "    </tr>\n",
       "    <tr>\n",
       "      <th>27</th>\n",
       "      <td>28</td>\n",
       "      <td>NaN</td>\n",
       "      <td>NaN</td>\n",
       "      <td>NaN</td>\n",
       "      <td>NaN</td>\n",
       "      <td>NaN</td>\n",
       "      <td>NaN</td>\n",
       "      <td>NaN</td>\n",
       "      <td>NaN</td>\n",
       "      <td>NaN</td>\n",
       "      <td>NaN</td>\n",
       "      <td>NaN</td>\n",
       "      <td>2019-05-04 08:30:00</td>\n",
       "      <td>NaN</td>\n",
       "      <td>2019-05-04 08:30:00</td>\n",
       "      <td>NaN</td>\n",
       "    </tr>\n",
       "  </tbody>\n",
       "</table>\n",
       "</div>"
      ],
      "text/plain": [
       "       key Bulk 1 Bulk 2               Bulk 3               Bulk 4 Bulk 5  \\\n",
       "1047  1093    NaN    NaN  2019-06-12 08:10:43                  NaN    NaN   \n",
       "150    164    NaN    NaN  2019-05-09 12:02:56                  NaN    NaN   \n",
       "708    741    NaN    NaN                  NaN  2019-05-30 20:49:52    NaN   \n",
       "1966  2035    NaN    NaN                  NaN                  NaN    NaN   \n",
       "27      28    NaN    NaN                  NaN                  NaN    NaN   \n",
       "\n",
       "                   Bulk 6 Bulk 7 Bulk 8 Bulk 9              Bulk 10 Bulk 11  \\\n",
       "1047                  NaN    NaN    NaN    NaN                  NaN     NaN   \n",
       "150   2019-05-09 12:02:55    NaN    NaN    NaN                  NaN     NaN   \n",
       "708                   NaN    NaN    NaN    NaN  2019-05-30 20:49:52     NaN   \n",
       "1966  2019-07-21 01:50:04    NaN    NaN    NaN                  NaN     NaN   \n",
       "27                    NaN    NaN    NaN    NaN                  NaN     NaN   \n",
       "\n",
       "                  Bulk 12 Bulk 13              Bulk 14              Bulk 15  \n",
       "1047                  NaN     NaN  2019-06-12 08:04:39                  NaN  \n",
       "150   2019-05-09 11:38:03     NaN  2019-05-09 11:38:03  2019-05-09 11:38:03  \n",
       "708   2019-05-30 20:41:23     NaN  2019-05-30 20:41:23  2019-05-30 20:41:23  \n",
       "1966  2019-07-21 01:41:07     NaN  2019-07-21 01:41:07  2019-07-21 01:41:07  \n",
       "27    2019-05-04 08:30:00     NaN  2019-05-04 08:30:00                  NaN  "
      ]
     },
     "execution_count": 272,
     "metadata": {},
     "output_type": "execute_result"
    }
   ],
   "source": [
    "data_bulk_time.sample(5)"
   ]
  },
  {
   "cell_type": "markdown",
   "metadata": {},
   "source": [
    "На первый взгляд, много пропусков. Посмотрим подробней:"
   ]
  },
  {
   "cell_type": "code",
   "execution_count": 273,
   "metadata": {},
   "outputs": [
    {
     "name": "stdout",
     "output_type": "stream",
     "text": [
      "<class 'pandas.core.frame.DataFrame'>\n",
      "RangeIndex: 3129 entries, 0 to 3128\n",
      "Data columns (total 16 columns):\n",
      " #   Column   Non-Null Count  Dtype  \n",
      "---  ------   --------------  -----  \n",
      " 0   key      3129 non-null   int64  \n",
      " 1   Bulk 1   252 non-null    float64\n",
      " 2   Bulk 2   22 non-null     float64\n",
      " 3   Bulk 3   1298 non-null   float64\n",
      " 4   Bulk 4   1014 non-null   float64\n",
      " 5   Bulk 5   77 non-null     float64\n",
      " 6   Bulk 6   576 non-null    float64\n",
      " 7   Bulk 7   25 non-null     float64\n",
      " 8   Bulk 8   1 non-null      float64\n",
      " 9   Bulk 9   19 non-null     float64\n",
      " 10  Bulk 10  176 non-null    float64\n",
      " 11  Bulk 11  177 non-null    float64\n",
      " 12  Bulk 12  2450 non-null   float64\n",
      " 13  Bulk 13  18 non-null     float64\n",
      " 14  Bulk 14  2806 non-null   float64\n",
      " 15  Bulk 15  2248 non-null   float64\n",
      "dtypes: float64(15), int64(1)\n",
      "memory usage: 391.2 KB\n"
     ]
    }
   ],
   "source": [
    "data_bulk.info()"
   ]
  },
  {
   "cell_type": "code",
   "execution_count": 274,
   "metadata": {},
   "outputs": [
    {
     "name": "stdout",
     "output_type": "stream",
     "text": [
      "<class 'pandas.core.frame.DataFrame'>\n",
      "RangeIndex: 3129 entries, 0 to 3128\n",
      "Data columns (total 16 columns):\n",
      " #   Column   Non-Null Count  Dtype \n",
      "---  ------   --------------  ----- \n",
      " 0   key      3129 non-null   int64 \n",
      " 1   Bulk 1   252 non-null    object\n",
      " 2   Bulk 2   22 non-null     object\n",
      " 3   Bulk 3   1298 non-null   object\n",
      " 4   Bulk 4   1014 non-null   object\n",
      " 5   Bulk 5   77 non-null     object\n",
      " 6   Bulk 6   576 non-null    object\n",
      " 7   Bulk 7   25 non-null     object\n",
      " 8   Bulk 8   1 non-null      object\n",
      " 9   Bulk 9   19 non-null     object\n",
      " 10  Bulk 10  176 non-null    object\n",
      " 11  Bulk 11  177 non-null    object\n",
      " 12  Bulk 12  2450 non-null   object\n",
      " 13  Bulk 13  18 non-null     object\n",
      " 14  Bulk 14  2806 non-null   object\n",
      " 15  Bulk 15  2248 non-null   object\n",
      "dtypes: int64(1), object(15)\n",
      "memory usage: 391.2+ KB\n"
     ]
    }
   ],
   "source": [
    "data_bulk_time.info()"
   ]
  },
  {
   "cell_type": "markdown",
   "metadata": {},
   "source": [
    "Обе таблицы содержат аналогичную структуру данных, описывают одни и те же объекты - сыпучие материалы (Bulk 1 - Bulk15), \"пропуски\" в данных могут  означать, что какой-то сыпучий материал не использовался в процессе производства той или иной партии."
   ]
  },
  {
   "cell_type": "markdown",
   "metadata": {},
   "source": [
    "Исследую, есть ли редкоиспользуемые сыпучие материалы по средним не нулевым значениям:"
   ]
  },
  {
   "cell_type": "code",
   "execution_count": 275,
   "metadata": {},
   "outputs": [],
   "source": [
    "# Запишу средние не нулевые значения, сортированные по убыванию в отдельную переменную: \n",
    "\n",
    "data_bulk_time_ratio = data_bulk_time.drop('key', axis=1).notnull().mean().sort_values(ascending=False)"
   ]
  },
  {
   "cell_type": "code",
   "execution_count": 276,
   "metadata": {},
   "outputs": [
    {
     "data": {
      "image/png": "[encoded data removed]",
      "text/plain": [
       "<Figure size 864x432 with 1 Axes>"
      ]
     },
     "metadata": {
      "needs_background": "light"
     },
     "output_type": "display_data"
    }
   ],
   "source": [
    "plt.figure(figsize = (12,6))\n",
    "ax = sns.barplot(x = data_bulk_time_ratio.index, y = data_bulk_time_ratio.values)\n",
    "ax.axhline(y=0.1, color='r', linestyle='-')\n",
    "ax.set_title('Частота использования сыпучих материалов')\n",
    "ax.set_ylabel('Доля использования в партиях')\n",
    "ax.set_xlabel('Название сыпучего материала')\n",
    "plt.show()"
   ]
  },
  {
   "cell_type": "markdown",
   "metadata": {},
   "source": [
    "Теперь видим, что лишь в **менее 10%** партий используются материалы Bulk 1, 11, 10, 5, 7, 2, 9, 13, 8. \n",
    "Такие малоиспользуемые сыпучие материалы могут ухудшить качество модели. \n",
    "Должен быть рассмотрен вараинт не использовать их для построения модели (не включать в признаки)."
   ]
  },
  {
   "cell_type": "markdown",
   "metadata": {},
   "source": [
    "**Вывод по исследованию данных о сыпучих материалах:**\n",
    "\n",
    "- Найдены редкоиспользуемые сыпучие материалы (те, что используются в менее 10% случаях).\n",
    "- На этапе предобработки предлогаю убрать их, в пользу улучшения качества модели.\n",
    "- Предлогаю объеденить таблицы data_bulk и data_bulk_time в одну, и привести данные к нужному формату (datetime). Или еще, можно избавиться от части, соедржащей данные о времени в таблице data_bulk_time.\n"
   ]
  },
  {
   "cell_type": "markdown",
   "metadata": {},
   "source": [
    "### 1.3. Исследование данных о продувке сплава газом"
   ]
  },
  {
   "cell_type": "code",
   "execution_count": 277,
   "metadata": {},
   "outputs": [
    {
     "data": {
      "text/html": [
       "<div>\n",
       "<style scoped>\n",
       "    .dataframe tbody tr th:only-of-type {\n",
       "        vertical-align: middle;\n",
       "    }\n",
       "\n",
       "    .dataframe tbody tr th {\n",
       "        vertical-align: top;\n",
       "    }\n",
       "\n",
       "    .dataframe thead th {\n",
       "        text-align: right;\n",
       "    }\n",
       "</style>\n",
       "<table border=\"1\" class=\"dataframe\">\n",
       "  <thead>\n",
       "    <tr style=\"text-align: right;\">\n",
       "      <th></th>\n",
       "      <th>key</th>\n",
       "      <th>Газ 1</th>\n",
       "    </tr>\n",
       "  </thead>\n",
       "  <tbody>\n",
       "    <tr>\n",
       "      <th>0</th>\n",
       "      <td>1</td>\n",
       "      <td>29.749986</td>\n",
       "    </tr>\n",
       "    <tr>\n",
       "      <th>1</th>\n",
       "      <td>2</td>\n",
       "      <td>12.555561</td>\n",
       "    </tr>\n",
       "    <tr>\n",
       "      <th>2</th>\n",
       "      <td>3</td>\n",
       "      <td>28.554793</td>\n",
       "    </tr>\n",
       "    <tr>\n",
       "      <th>3</th>\n",
       "      <td>4</td>\n",
       "      <td>18.841219</td>\n",
       "    </tr>\n",
       "    <tr>\n",
       "      <th>4</th>\n",
       "      <td>5</td>\n",
       "      <td>5.413692</td>\n",
       "    </tr>\n",
       "  </tbody>\n",
       "</table>\n",
       "</div>"
      ],
      "text/plain": [
       "   key      Газ 1\n",
       "0    1  29.749986\n",
       "1    2  12.555561\n",
       "2    3  28.554793\n",
       "3    4  18.841219\n",
       "4    5   5.413692"
      ]
     },
     "execution_count": 277,
     "metadata": {},
     "output_type": "execute_result"
    }
   ],
   "source": [
    "data_gas.head()"
   ]
  },
  {
   "cell_type": "code",
   "execution_count": 278,
   "metadata": {},
   "outputs": [
    {
     "data": {
      "text/html": [
       "<div>\n",
       "<style scoped>\n",
       "    .dataframe tbody tr th:only-of-type {\n",
       "        vertical-align: middle;\n",
       "    }\n",
       "\n",
       "    .dataframe tbody tr th {\n",
       "        vertical-align: top;\n",
       "    }\n",
       "\n",
       "    .dataframe thead th {\n",
       "        text-align: right;\n",
       "    }\n",
       "</style>\n",
       "<table border=\"1\" class=\"dataframe\">\n",
       "  <thead>\n",
       "    <tr style=\"text-align: right;\">\n",
       "      <th></th>\n",
       "      <th>key</th>\n",
       "      <th>Газ 1</th>\n",
       "    </tr>\n",
       "  </thead>\n",
       "  <tbody>\n",
       "    <tr>\n",
       "      <th>1747</th>\n",
       "      <td>1750</td>\n",
       "      <td>18.122748</td>\n",
       "    </tr>\n",
       "    <tr>\n",
       "      <th>3020</th>\n",
       "      <td>3023</td>\n",
       "      <td>9.171305</td>\n",
       "    </tr>\n",
       "    <tr>\n",
       "      <th>1618</th>\n",
       "      <td>1621</td>\n",
       "      <td>1.944427</td>\n",
       "    </tr>\n",
       "    <tr>\n",
       "      <th>2454</th>\n",
       "      <td>2457</td>\n",
       "      <td>2.902352</td>\n",
       "    </tr>\n",
       "    <tr>\n",
       "      <th>2460</th>\n",
       "      <td>2463</td>\n",
       "      <td>18.655137</td>\n",
       "    </tr>\n",
       "  </tbody>\n",
       "</table>\n",
       "</div>"
      ],
      "text/plain": [
       "       key      Газ 1\n",
       "1747  1750  18.122748\n",
       "3020  3023   9.171305\n",
       "1618  1621   1.944427\n",
       "2454  2457   2.902352\n",
       "2460  2463  18.655137"
      ]
     },
     "execution_count": 278,
     "metadata": {},
     "output_type": "execute_result"
    }
   ],
   "source": [
    "data_gas.sample(5)"
   ]
  },
  {
   "cell_type": "code",
   "execution_count": 279,
   "metadata": {},
   "outputs": [
    {
     "name": "stdout",
     "output_type": "stream",
     "text": [
      "<class 'pandas.core.frame.DataFrame'>\n",
      "RangeIndex: 3239 entries, 0 to 3238\n",
      "Data columns (total 2 columns):\n",
      " #   Column  Non-Null Count  Dtype  \n",
      "---  ------  --------------  -----  \n",
      " 0   key     3239 non-null   int64  \n",
      " 1   Газ 1   3239 non-null   float64\n",
      "dtypes: float64(1), int64(1)\n",
      "memory usage: 50.7 KB\n"
     ]
    }
   ],
   "source": [
    "data_gas.info()"
   ]
  },
  {
   "cell_type": "markdown",
   "metadata": {},
   "source": [
    "Пропусков нет, посмотрим на статистику."
   ]
  },
  {
   "cell_type": "code",
   "execution_count": 280,
   "metadata": {},
   "outputs": [
    {
     "data": {
      "text/html": [
       "<div>\n",
       "<style scoped>\n",
       "    .dataframe tbody tr th:only-of-type {\n",
       "        vertical-align: middle;\n",
       "    }\n",
       "\n",
       "    .dataframe tbody tr th {\n",
       "        vertical-align: top;\n",
       "    }\n",
       "\n",
       "    .dataframe thead th {\n",
       "        text-align: right;\n",
       "    }\n",
       "</style>\n",
       "<table border=\"1\" class=\"dataframe\">\n",
       "  <thead>\n",
       "    <tr style=\"text-align: right;\">\n",
       "      <th></th>\n",
       "      <th>key</th>\n",
       "      <th>Газ 1</th>\n",
       "    </tr>\n",
       "  </thead>\n",
       "  <tbody>\n",
       "    <tr>\n",
       "      <th>count</th>\n",
       "      <td>3239.000000</td>\n",
       "      <td>3239.000000</td>\n",
       "    </tr>\n",
       "    <tr>\n",
       "      <th>mean</th>\n",
       "      <td>1621.861377</td>\n",
       "      <td>11.002062</td>\n",
       "    </tr>\n",
       "    <tr>\n",
       "      <th>std</th>\n",
       "      <td>935.386334</td>\n",
       "      <td>6.220327</td>\n",
       "    </tr>\n",
       "    <tr>\n",
       "      <th>min</th>\n",
       "      <td>1.000000</td>\n",
       "      <td>0.008399</td>\n",
       "    </tr>\n",
       "    <tr>\n",
       "      <th>25%</th>\n",
       "      <td>812.500000</td>\n",
       "      <td>7.043089</td>\n",
       "    </tr>\n",
       "    <tr>\n",
       "      <th>50%</th>\n",
       "      <td>1622.000000</td>\n",
       "      <td>9.836267</td>\n",
       "    </tr>\n",
       "    <tr>\n",
       "      <th>75%</th>\n",
       "      <td>2431.500000</td>\n",
       "      <td>13.769915</td>\n",
       "    </tr>\n",
       "    <tr>\n",
       "      <th>max</th>\n",
       "      <td>3241.000000</td>\n",
       "      <td>77.995040</td>\n",
       "    </tr>\n",
       "  </tbody>\n",
       "</table>\n",
       "</div>"
      ],
      "text/plain": [
       "               key        Газ 1\n",
       "count  3239.000000  3239.000000\n",
       "mean   1621.861377    11.002062\n",
       "std     935.386334     6.220327\n",
       "min       1.000000     0.008399\n",
       "25%     812.500000     7.043089\n",
       "50%    1622.000000     9.836267\n",
       "75%    2431.500000    13.769915\n",
       "max    3241.000000    77.995040"
      ]
     },
     "execution_count": 280,
     "metadata": {},
     "output_type": "execute_result"
    }
   ],
   "source": [
    "data_gas.describe()"
   ]
  },
  {
   "cell_type": "markdown",
   "metadata": {},
   "source": [
    "Посмотрим на распределение данных о продувке:"
   ]
  },
  {
   "cell_type": "code",
   "execution_count": 281,
   "metadata": {},
   "outputs": [
    {
     "data": {
      "image/png": "[encoded data removed]",
      "text/plain": [
       "<Figure size 1152x432 with 1 Axes>"
      ]
     },
     "metadata": {
      "needs_background": "light"
     },
     "output_type": "display_data"
    }
   ],
   "source": [
    "fig = plt.figure(figsize=(16, 6))\n",
    "ax = sns.histplot(data_gas['Газ 1'], kde=True, linewidth=0.5, color = 'red')\n",
    "ax.set(xlabel = 'Значение', ylabel = 'Количество',\n",
    "       title ='Распределение данных о продувке газом')\n",
    "plt.show()"
   ]
  },
  {
   "cell_type": "markdown",
   "metadata": {},
   "source": [
    "График похож на нормальное распределение. Ярких выбросов не  видно, есть небольшой \"хвост\" справа."
   ]
  },
  {
   "cell_type": "markdown",
   "metadata": {},
   "source": [
    "**Вывод по исследованию данных о продувке сплава газом**\n",
    "\n",
    "- Переименовать название столбцов (названия столбцов на английском языке, прописными буквами, без пробелов, \"верблюжим\" типом).\n",
    "- Аномалий не выявлено."
   ]
  },
  {
   "cell_type": "markdown",
   "metadata": {},
   "source": [
    "### 1.4. Исследование данных измерения температуры (*целевой признак* - последняя температура в каждом ключе)"
   ]
  },
  {
   "cell_type": "code",
   "execution_count": 282,
   "metadata": {},
   "outputs": [
    {
     "data": {
      "text/html": [
       "<div>\n",
       "<style scoped>\n",
       "    .dataframe tbody tr th:only-of-type {\n",
       "        vertical-align: middle;\n",
       "    }\n",
       "\n",
       "    .dataframe tbody tr th {\n",
       "        vertical-align: top;\n",
       "    }\n",
       "\n",
       "    .dataframe thead th {\n",
       "        text-align: right;\n",
       "    }\n",
       "</style>\n",
       "<table border=\"1\" class=\"dataframe\">\n",
       "  <thead>\n",
       "    <tr style=\"text-align: right;\">\n",
       "      <th></th>\n",
       "      <th>key</th>\n",
       "      <th>Время замера</th>\n",
       "      <th>Температура</th>\n",
       "    </tr>\n",
       "  </thead>\n",
       "  <tbody>\n",
       "    <tr>\n",
       "      <th>0</th>\n",
       "      <td>1</td>\n",
       "      <td>2019-05-03 11:16:18</td>\n",
       "      <td>1571.0</td>\n",
       "    </tr>\n",
       "    <tr>\n",
       "      <th>1</th>\n",
       "      <td>1</td>\n",
       "      <td>2019-05-03 11:25:53</td>\n",
       "      <td>1604.0</td>\n",
       "    </tr>\n",
       "    <tr>\n",
       "      <th>2</th>\n",
       "      <td>1</td>\n",
       "      <td>2019-05-03 11:29:11</td>\n",
       "      <td>1618.0</td>\n",
       "    </tr>\n",
       "    <tr>\n",
       "      <th>3</th>\n",
       "      <td>1</td>\n",
       "      <td>2019-05-03 11:30:01</td>\n",
       "      <td>1601.0</td>\n",
       "    </tr>\n",
       "    <tr>\n",
       "      <th>4</th>\n",
       "      <td>1</td>\n",
       "      <td>2019-05-03 11:30:39</td>\n",
       "      <td>1613.0</td>\n",
       "    </tr>\n",
       "  </tbody>\n",
       "</table>\n",
       "</div>"
      ],
      "text/plain": [
       "   key         Время замера  Температура\n",
       "0    1  2019-05-03 11:16:18       1571.0\n",
       "1    1  2019-05-03 11:25:53       1604.0\n",
       "2    1  2019-05-03 11:29:11       1618.0\n",
       "3    1  2019-05-03 11:30:01       1601.0\n",
       "4    1  2019-05-03 11:30:39       1613.0"
      ]
     },
     "execution_count": 282,
     "metadata": {},
     "output_type": "execute_result"
    }
   ],
   "source": [
    "data_temp.head()"
   ]
  },
  {
   "cell_type": "code",
   "execution_count": 283,
   "metadata": {},
   "outputs": [
    {
     "data": {
      "text/html": [
       "<div>\n",
       "<style scoped>\n",
       "    .dataframe tbody tr th:only-of-type {\n",
       "        vertical-align: middle;\n",
       "    }\n",
       "\n",
       "    .dataframe tbody tr th {\n",
       "        vertical-align: top;\n",
       "    }\n",
       "\n",
       "    .dataframe thead th {\n",
       "        text-align: right;\n",
       "    }\n",
       "</style>\n",
       "<table border=\"1\" class=\"dataframe\">\n",
       "  <thead>\n",
       "    <tr style=\"text-align: right;\">\n",
       "      <th></th>\n",
       "      <th>key</th>\n",
       "      <th>Время замера</th>\n",
       "      <th>Температура</th>\n",
       "    </tr>\n",
       "  </thead>\n",
       "  <tbody>\n",
       "    <tr>\n",
       "      <th>1077</th>\n",
       "      <td>191</td>\n",
       "      <td>2019-05-10 10:34:05</td>\n",
       "      <td>1578.0</td>\n",
       "    </tr>\n",
       "    <tr>\n",
       "      <th>5437</th>\n",
       "      <td>1093</td>\n",
       "      <td>2019-06-12 08:43:36</td>\n",
       "      <td>1579.0</td>\n",
       "    </tr>\n",
       "    <tr>\n",
       "      <th>1923</th>\n",
       "      <td>356</td>\n",
       "      <td>2019-05-16 19:32:05</td>\n",
       "      <td>1583.0</td>\n",
       "    </tr>\n",
       "    <tr>\n",
       "      <th>3150</th>\n",
       "      <td>621</td>\n",
       "      <td>2019-05-26 04:54:45</td>\n",
       "      <td>1608.0</td>\n",
       "    </tr>\n",
       "    <tr>\n",
       "      <th>7627</th>\n",
       "      <td>1545</td>\n",
       "      <td>2019-06-28 03:21:57</td>\n",
       "      <td>1595.0</td>\n",
       "    </tr>\n",
       "  </tbody>\n",
       "</table>\n",
       "</div>"
      ],
      "text/plain": [
       "       key         Время замера  Температура\n",
       "1077   191  2019-05-10 10:34:05       1578.0\n",
       "5437  1093  2019-06-12 08:43:36       1579.0\n",
       "1923   356  2019-05-16 19:32:05       1583.0\n",
       "3150   621  2019-05-26 04:54:45       1608.0\n",
       "7627  1545  2019-06-28 03:21:57       1595.0"
      ]
     },
     "execution_count": 283,
     "metadata": {},
     "output_type": "execute_result"
    }
   ],
   "source": [
    "data_temp.sample(5)"
   ]
  },
  {
   "cell_type": "markdown",
   "metadata": {},
   "source": [
    "Нужно переименовать столбцы и привести дату к формату datetime."
   ]
  },
  {
   "cell_type": "code",
   "execution_count": 284,
   "metadata": {},
   "outputs": [
    {
     "name": "stdout",
     "output_type": "stream",
     "text": [
      "<class 'pandas.core.frame.DataFrame'>\n",
      "RangeIndex: 15907 entries, 0 to 15906\n",
      "Data columns (total 3 columns):\n",
      " #   Column        Non-Null Count  Dtype  \n",
      "---  ------        --------------  -----  \n",
      " 0   key           15907 non-null  int64  \n",
      " 1   Время замера  15907 non-null  object \n",
      " 2   Температура   13006 non-null  float64\n",
      "dtypes: float64(1), int64(1), object(1)\n",
      "memory usage: 372.9+ KB\n"
     ]
    }
   ],
   "source": [
    "data_temp.info()"
   ]
  },
  {
   "cell_type": "code",
   "execution_count": 285,
   "metadata": {},
   "outputs": [
    {
     "name": "stdout",
     "output_type": "stream",
     "text": [
      "<class 'pandas.core.frame.DataFrame'>\n",
      "RangeIndex: 15907 entries, 0 to 15906\n",
      "Data columns (total 3 columns):\n",
      " #   Column        Non-Null Count  Dtype  \n",
      "---  ------        --------------  -----  \n",
      " 0   key           15907 non-null  int64  \n",
      " 1   Время замера  15907 non-null  object \n",
      " 2   Температура   13006 non-null  float64\n",
      "dtypes: float64(1), int64(1), object(1)\n",
      "memory usage: 372.9+ KB\n"
     ]
    }
   ],
   "source": [
    "data_temp.info()"
   ]
  },
  {
   "cell_type": "markdown",
   "metadata": {},
   "source": [
    "В данных значения температуры (столбец temp) много пропусков (2901). Данные о последнем замере температуры в ключе - целевой признак для построения модели. Нужно внимательно изучить эту проблему и решить, как поступить."
   ]
  },
  {
   "cell_type": "code",
   "execution_count": 286,
   "metadata": {},
   "outputs": [
    {
     "data": {
      "text/html": [
       "<div>\n",
       "<style scoped>\n",
       "    .dataframe tbody tr th:only-of-type {\n",
       "        vertical-align: middle;\n",
       "    }\n",
       "\n",
       "    .dataframe tbody tr th {\n",
       "        vertical-align: top;\n",
       "    }\n",
       "\n",
       "    .dataframe thead th {\n",
       "        text-align: right;\n",
       "    }\n",
       "</style>\n",
       "<table border=\"1\" class=\"dataframe\">\n",
       "  <thead>\n",
       "    <tr style=\"text-align: right;\">\n",
       "      <th></th>\n",
       "      <th>key</th>\n",
       "      <th>Температура</th>\n",
       "    </tr>\n",
       "  </thead>\n",
       "  <tbody>\n",
       "    <tr>\n",
       "      <th>count</th>\n",
       "      <td>15907.000000</td>\n",
       "      <td>13006.000000</td>\n",
       "    </tr>\n",
       "    <tr>\n",
       "      <th>mean</th>\n",
       "      <td>1607.880870</td>\n",
       "      <td>1591.840920</td>\n",
       "    </tr>\n",
       "    <tr>\n",
       "      <th>std</th>\n",
       "      <td>942.212073</td>\n",
       "      <td>21.375851</td>\n",
       "    </tr>\n",
       "    <tr>\n",
       "      <th>min</th>\n",
       "      <td>1.000000</td>\n",
       "      <td>1191.000000</td>\n",
       "    </tr>\n",
       "    <tr>\n",
       "      <th>25%</th>\n",
       "      <td>790.000000</td>\n",
       "      <td>1581.000000</td>\n",
       "    </tr>\n",
       "    <tr>\n",
       "      <th>50%</th>\n",
       "      <td>1618.000000</td>\n",
       "      <td>1591.000000</td>\n",
       "    </tr>\n",
       "    <tr>\n",
       "      <th>75%</th>\n",
       "      <td>2427.000000</td>\n",
       "      <td>1601.000000</td>\n",
       "    </tr>\n",
       "    <tr>\n",
       "      <th>max</th>\n",
       "      <td>3241.000000</td>\n",
       "      <td>1705.000000</td>\n",
       "    </tr>\n",
       "  </tbody>\n",
       "</table>\n",
       "</div>"
      ],
      "text/plain": [
       "                key   Температура\n",
       "count  15907.000000  13006.000000\n",
       "mean    1607.880870   1591.840920\n",
       "std      942.212073     21.375851\n",
       "min        1.000000   1191.000000\n",
       "25%      790.000000   1581.000000\n",
       "50%     1618.000000   1591.000000\n",
       "75%     2427.000000   1601.000000\n",
       "max     3241.000000   1705.000000"
      ]
     },
     "execution_count": 286,
     "metadata": {},
     "output_type": "execute_result"
    }
   ],
   "source": [
    "data_temp.describe()"
   ]
  },
  {
   "cell_type": "markdown",
   "metadata": {},
   "source": [
    "Посмотрим на распределение данных о температуре:"
   ]
  },
  {
   "cell_type": "code",
   "execution_count": 287,
   "metadata": {},
   "outputs": [
    {
     "data": {
      "image/png": "[encoded data removed]",
      "text/plain": [
       "<Figure size 1152x576 with 1 Axes>"
      ]
     },
     "metadata": {
      "needs_background": "light"
     },
     "output_type": "display_data"
    }
   ],
   "source": [
    "fig = plt.figure(figsize=(16, 8))\n",
    "ax = sns.histplot(data_temp['Температура'], kde=True, linewidth=0.5, color = 'navy')\n",
    "ax.set(xlabel = 'Значение', ylabel = 'Количество',\n",
    "       title ='Распределение данных о температуре')\n",
    "plt.show()"
   ]
  },
  {
   "cell_type": "markdown",
   "metadata": {},
   "source": [
    "Заметны низкие значения (менее 1500 градусов), от них тоже можно избавиться на этапе предобработки, но только после формировани я итоговой таблицы по ключам (содержащай в том числе замер начальной температуры и последней). "
   ]
  },
  {
   "cell_type": "markdown",
   "metadata": {},
   "source": [
    "**Вывод о исследовании данных измерения температуры**\n",
    "\n",
    "- Преобразовать столбцы к нужному названию и типу.\n",
    "- Имеются пропуски в замерах температуры. На этапе предобработки - удалить пропуски, оставить лишь партии, где есть все измерения температуры. В финальную таблицу долны войти данные, где в ключе есть замер начальной температуры и последней.\n",
    "- После формирования итоговой таблицы по ключам, можно будет отчистить данные и от низких значений температур (менее 1500)."
   ]
  },
  {
   "cell_type": "markdown",
   "metadata": {},
   "source": [
    "### 1.5. Исследование данных о проволочных материалах"
   ]
  },
  {
   "cell_type": "code",
   "execution_count": 288,
   "metadata": {},
   "outputs": [
    {
     "data": {
      "text/html": [
       "<div>\n",
       "<style scoped>\n",
       "    .dataframe tbody tr th:only-of-type {\n",
       "        vertical-align: middle;\n",
       "    }\n",
       "\n",
       "    .dataframe tbody tr th {\n",
       "        vertical-align: top;\n",
       "    }\n",
       "\n",
       "    .dataframe thead th {\n",
       "        text-align: right;\n",
       "    }\n",
       "</style>\n",
       "<table border=\"1\" class=\"dataframe\">\n",
       "  <thead>\n",
       "    <tr style=\"text-align: right;\">\n",
       "      <th></th>\n",
       "      <th>key</th>\n",
       "      <th>Wire 1</th>\n",
       "      <th>Wire 2</th>\n",
       "      <th>Wire 3</th>\n",
       "      <th>Wire 4</th>\n",
       "      <th>Wire 5</th>\n",
       "      <th>Wire 6</th>\n",
       "      <th>Wire 7</th>\n",
       "      <th>Wire 8</th>\n",
       "      <th>Wire 9</th>\n",
       "    </tr>\n",
       "  </thead>\n",
       "  <tbody>\n",
       "    <tr>\n",
       "      <th>0</th>\n",
       "      <td>1</td>\n",
       "      <td>60.059998</td>\n",
       "      <td>NaN</td>\n",
       "      <td>NaN</td>\n",
       "      <td>NaN</td>\n",
       "      <td>NaN</td>\n",
       "      <td>NaN</td>\n",
       "      <td>NaN</td>\n",
       "      <td>NaN</td>\n",
       "      <td>NaN</td>\n",
       "    </tr>\n",
       "    <tr>\n",
       "      <th>1</th>\n",
       "      <td>2</td>\n",
       "      <td>96.052315</td>\n",
       "      <td>NaN</td>\n",
       "      <td>NaN</td>\n",
       "      <td>NaN</td>\n",
       "      <td>NaN</td>\n",
       "      <td>NaN</td>\n",
       "      <td>NaN</td>\n",
       "      <td>NaN</td>\n",
       "      <td>NaN</td>\n",
       "    </tr>\n",
       "    <tr>\n",
       "      <th>2</th>\n",
       "      <td>3</td>\n",
       "      <td>91.160157</td>\n",
       "      <td>NaN</td>\n",
       "      <td>NaN</td>\n",
       "      <td>NaN</td>\n",
       "      <td>NaN</td>\n",
       "      <td>NaN</td>\n",
       "      <td>NaN</td>\n",
       "      <td>NaN</td>\n",
       "      <td>NaN</td>\n",
       "    </tr>\n",
       "    <tr>\n",
       "      <th>3</th>\n",
       "      <td>4</td>\n",
       "      <td>89.063515</td>\n",
       "      <td>NaN</td>\n",
       "      <td>NaN</td>\n",
       "      <td>NaN</td>\n",
       "      <td>NaN</td>\n",
       "      <td>NaN</td>\n",
       "      <td>NaN</td>\n",
       "      <td>NaN</td>\n",
       "      <td>NaN</td>\n",
       "    </tr>\n",
       "    <tr>\n",
       "      <th>4</th>\n",
       "      <td>5</td>\n",
       "      <td>89.238236</td>\n",
       "      <td>9.11456</td>\n",
       "      <td>NaN</td>\n",
       "      <td>NaN</td>\n",
       "      <td>NaN</td>\n",
       "      <td>NaN</td>\n",
       "      <td>NaN</td>\n",
       "      <td>NaN</td>\n",
       "      <td>NaN</td>\n",
       "    </tr>\n",
       "  </tbody>\n",
       "</table>\n",
       "</div>"
      ],
      "text/plain": [
       "   key     Wire 1   Wire 2  Wire 3  Wire 4  Wire 5  Wire 6  Wire 7  Wire 8  \\\n",
       "0    1  60.059998      NaN     NaN     NaN     NaN     NaN     NaN     NaN   \n",
       "1    2  96.052315      NaN     NaN     NaN     NaN     NaN     NaN     NaN   \n",
       "2    3  91.160157      NaN     NaN     NaN     NaN     NaN     NaN     NaN   \n",
       "3    4  89.063515      NaN     NaN     NaN     NaN     NaN     NaN     NaN   \n",
       "4    5  89.238236  9.11456     NaN     NaN     NaN     NaN     NaN     NaN   \n",
       "\n",
       "   Wire 9  \n",
       "0     NaN  \n",
       "1     NaN  \n",
       "2     NaN  \n",
       "3     NaN  \n",
       "4     NaN  "
      ]
     },
     "execution_count": 288,
     "metadata": {},
     "output_type": "execute_result"
    }
   ],
   "source": [
    "data_wire.head()"
   ]
  },
  {
   "cell_type": "code",
   "execution_count": 289,
   "metadata": {},
   "outputs": [
    {
     "data": {
      "text/html": [
       "<div>\n",
       "<style scoped>\n",
       "    .dataframe tbody tr th:only-of-type {\n",
       "        vertical-align: middle;\n",
       "    }\n",
       "\n",
       "    .dataframe tbody tr th {\n",
       "        vertical-align: top;\n",
       "    }\n",
       "\n",
       "    .dataframe thead th {\n",
       "        text-align: right;\n",
       "    }\n",
       "</style>\n",
       "<table border=\"1\" class=\"dataframe\">\n",
       "  <thead>\n",
       "    <tr style=\"text-align: right;\">\n",
       "      <th></th>\n",
       "      <th>key</th>\n",
       "      <th>Wire 1</th>\n",
       "      <th>Wire 2</th>\n",
       "      <th>Wire 3</th>\n",
       "      <th>Wire 4</th>\n",
       "      <th>Wire 5</th>\n",
       "      <th>Wire 6</th>\n",
       "      <th>Wire 7</th>\n",
       "      <th>Wire 8</th>\n",
       "      <th>Wire 9</th>\n",
       "    </tr>\n",
       "  </thead>\n",
       "  <tbody>\n",
       "    <tr>\n",
       "      <th>1131</th>\n",
       "      <td>1199</td>\n",
       "      <td>143.114395</td>\n",
       "      <td>NaN</td>\n",
       "      <td>NaN</td>\n",
       "      <td>NaN</td>\n",
       "      <td>NaN</td>\n",
       "      <td>NaN</td>\n",
       "      <td>NaN</td>\n",
       "      <td>NaN</td>\n",
       "      <td>NaN</td>\n",
       "    </tr>\n",
       "    <tr>\n",
       "      <th>3005</th>\n",
       "      <td>3164</td>\n",
       "      <td>109.243675</td>\n",
       "      <td>NaN</td>\n",
       "      <td>NaN</td>\n",
       "      <td>NaN</td>\n",
       "      <td>NaN</td>\n",
       "      <td>NaN</td>\n",
       "      <td>NaN</td>\n",
       "      <td>NaN</td>\n",
       "      <td>NaN</td>\n",
       "    </tr>\n",
       "    <tr>\n",
       "      <th>2585</th>\n",
       "      <td>2719</td>\n",
       "      <td>95.091362</td>\n",
       "      <td>NaN</td>\n",
       "      <td>NaN</td>\n",
       "      <td>NaN</td>\n",
       "      <td>NaN</td>\n",
       "      <td>72.312248</td>\n",
       "      <td>NaN</td>\n",
       "      <td>NaN</td>\n",
       "      <td>NaN</td>\n",
       "    </tr>\n",
       "    <tr>\n",
       "      <th>1524</th>\n",
       "      <td>1603</td>\n",
       "      <td>79.138798</td>\n",
       "      <td>NaN</td>\n",
       "      <td>NaN</td>\n",
       "      <td>NaN</td>\n",
       "      <td>NaN</td>\n",
       "      <td>NaN</td>\n",
       "      <td>NaN</td>\n",
       "      <td>NaN</td>\n",
       "      <td>NaN</td>\n",
       "    </tr>\n",
       "    <tr>\n",
       "      <th>1495</th>\n",
       "      <td>1574</td>\n",
       "      <td>120.182396</td>\n",
       "      <td>20.11672</td>\n",
       "      <td>NaN</td>\n",
       "      <td>NaN</td>\n",
       "      <td>NaN</td>\n",
       "      <td>NaN</td>\n",
       "      <td>NaN</td>\n",
       "      <td>NaN</td>\n",
       "      <td>NaN</td>\n",
       "    </tr>\n",
       "  </tbody>\n",
       "</table>\n",
       "</div>"
      ],
      "text/plain": [
       "       key      Wire 1    Wire 2  Wire 3  Wire 4  Wire 5     Wire 6  Wire 7  \\\n",
       "1131  1199  143.114395       NaN     NaN     NaN     NaN        NaN     NaN   \n",
       "3005  3164  109.243675       NaN     NaN     NaN     NaN        NaN     NaN   \n",
       "2585  2719   95.091362       NaN     NaN     NaN     NaN  72.312248     NaN   \n",
       "1524  1603   79.138798       NaN     NaN     NaN     NaN        NaN     NaN   \n",
       "1495  1574  120.182396  20.11672     NaN     NaN     NaN        NaN     NaN   \n",
       "\n",
       "      Wire 8  Wire 9  \n",
       "1131     NaN     NaN  \n",
       "3005     NaN     NaN  \n",
       "2585     NaN     NaN  \n",
       "1524     NaN     NaN  \n",
       "1495     NaN     NaN  "
      ]
     },
     "execution_count": 289,
     "metadata": {},
     "output_type": "execute_result"
    }
   ],
   "source": [
    "data_wire.sample(5)"
   ]
  },
  {
   "cell_type": "code",
   "execution_count": 290,
   "metadata": {},
   "outputs": [
    {
     "data": {
      "text/html": [
       "<div>\n",
       "<style scoped>\n",
       "    .dataframe tbody tr th:only-of-type {\n",
       "        vertical-align: middle;\n",
       "    }\n",
       "\n",
       "    .dataframe tbody tr th {\n",
       "        vertical-align: top;\n",
       "    }\n",
       "\n",
       "    .dataframe thead th {\n",
       "        text-align: right;\n",
       "    }\n",
       "</style>\n",
       "<table border=\"1\" class=\"dataframe\">\n",
       "  <thead>\n",
       "    <tr style=\"text-align: right;\">\n",
       "      <th></th>\n",
       "      <th>key</th>\n",
       "      <th>Wire 1</th>\n",
       "      <th>Wire 2</th>\n",
       "      <th>Wire 3</th>\n",
       "      <th>Wire 4</th>\n",
       "      <th>Wire 5</th>\n",
       "      <th>Wire 6</th>\n",
       "      <th>Wire 7</th>\n",
       "      <th>Wire 8</th>\n",
       "      <th>Wire 9</th>\n",
       "    </tr>\n",
       "  </thead>\n",
       "  <tbody>\n",
       "    <tr>\n",
       "      <th>0</th>\n",
       "      <td>1</td>\n",
       "      <td>2019-05-03 11:11:41</td>\n",
       "      <td>NaN</td>\n",
       "      <td>NaN</td>\n",
       "      <td>NaN</td>\n",
       "      <td>NaN</td>\n",
       "      <td>NaN</td>\n",
       "      <td>NaN</td>\n",
       "      <td>NaN</td>\n",
       "      <td>NaN</td>\n",
       "    </tr>\n",
       "    <tr>\n",
       "      <th>1</th>\n",
       "      <td>2</td>\n",
       "      <td>2019-05-03 11:46:10</td>\n",
       "      <td>NaN</td>\n",
       "      <td>NaN</td>\n",
       "      <td>NaN</td>\n",
       "      <td>NaN</td>\n",
       "      <td>NaN</td>\n",
       "      <td>NaN</td>\n",
       "      <td>NaN</td>\n",
       "      <td>NaN</td>\n",
       "    </tr>\n",
       "    <tr>\n",
       "      <th>2</th>\n",
       "      <td>3</td>\n",
       "      <td>2019-05-03 12:13:47</td>\n",
       "      <td>NaN</td>\n",
       "      <td>NaN</td>\n",
       "      <td>NaN</td>\n",
       "      <td>NaN</td>\n",
       "      <td>NaN</td>\n",
       "      <td>NaN</td>\n",
       "      <td>NaN</td>\n",
       "      <td>NaN</td>\n",
       "    </tr>\n",
       "    <tr>\n",
       "      <th>3</th>\n",
       "      <td>4</td>\n",
       "      <td>2019-05-03 12:48:05</td>\n",
       "      <td>NaN</td>\n",
       "      <td>NaN</td>\n",
       "      <td>NaN</td>\n",
       "      <td>NaN</td>\n",
       "      <td>NaN</td>\n",
       "      <td>NaN</td>\n",
       "      <td>NaN</td>\n",
       "      <td>NaN</td>\n",
       "    </tr>\n",
       "    <tr>\n",
       "      <th>4</th>\n",
       "      <td>5</td>\n",
       "      <td>2019-05-03 13:18:15</td>\n",
       "      <td>2019-05-03 13:32:06</td>\n",
       "      <td>NaN</td>\n",
       "      <td>NaN</td>\n",
       "      <td>NaN</td>\n",
       "      <td>NaN</td>\n",
       "      <td>NaN</td>\n",
       "      <td>NaN</td>\n",
       "      <td>NaN</td>\n",
       "    </tr>\n",
       "  </tbody>\n",
       "</table>\n",
       "</div>"
      ],
      "text/plain": [
       "   key               Wire 1               Wire 2 Wire 3 Wire 4 Wire 5 Wire 6  \\\n",
       "0    1  2019-05-03 11:11:41                  NaN    NaN    NaN    NaN    NaN   \n",
       "1    2  2019-05-03 11:46:10                  NaN    NaN    NaN    NaN    NaN   \n",
       "2    3  2019-05-03 12:13:47                  NaN    NaN    NaN    NaN    NaN   \n",
       "3    4  2019-05-03 12:48:05                  NaN    NaN    NaN    NaN    NaN   \n",
       "4    5  2019-05-03 13:18:15  2019-05-03 13:32:06    NaN    NaN    NaN    NaN   \n",
       "\n",
       "  Wire 7 Wire 8 Wire 9  \n",
       "0    NaN    NaN    NaN  \n",
       "1    NaN    NaN    NaN  \n",
       "2    NaN    NaN    NaN  \n",
       "3    NaN    NaN    NaN  \n",
       "4    NaN    NaN    NaN  "
      ]
     },
     "execution_count": 290,
     "metadata": {},
     "output_type": "execute_result"
    }
   ],
   "source": [
    "data_wire_time.head()"
   ]
  },
  {
   "cell_type": "code",
   "execution_count": 291,
   "metadata": {},
   "outputs": [
    {
     "data": {
      "text/html": [
       "<div>\n",
       "<style scoped>\n",
       "    .dataframe tbody tr th:only-of-type {\n",
       "        vertical-align: middle;\n",
       "    }\n",
       "\n",
       "    .dataframe tbody tr th {\n",
       "        vertical-align: top;\n",
       "    }\n",
       "\n",
       "    .dataframe thead th {\n",
       "        text-align: right;\n",
       "    }\n",
       "</style>\n",
       "<table border=\"1\" class=\"dataframe\">\n",
       "  <thead>\n",
       "    <tr style=\"text-align: right;\">\n",
       "      <th></th>\n",
       "      <th>key</th>\n",
       "      <th>Wire 1</th>\n",
       "      <th>Wire 2</th>\n",
       "      <th>Wire 3</th>\n",
       "      <th>Wire 4</th>\n",
       "      <th>Wire 5</th>\n",
       "      <th>Wire 6</th>\n",
       "      <th>Wire 7</th>\n",
       "      <th>Wire 8</th>\n",
       "      <th>Wire 9</th>\n",
       "    </tr>\n",
       "  </thead>\n",
       "  <tbody>\n",
       "    <tr>\n",
       "      <th>1520</th>\n",
       "      <td>1599</td>\n",
       "      <td>2019-06-29 20:27:19</td>\n",
       "      <td>NaN</td>\n",
       "      <td>NaN</td>\n",
       "      <td>NaN</td>\n",
       "      <td>NaN</td>\n",
       "      <td>NaN</td>\n",
       "      <td>NaN</td>\n",
       "      <td>NaN</td>\n",
       "      <td>NaN</td>\n",
       "    </tr>\n",
       "    <tr>\n",
       "      <th>1781</th>\n",
       "      <td>1871</td>\n",
       "      <td>2019-07-08 19:53:39</td>\n",
       "      <td>2019-07-08 20:19:46</td>\n",
       "      <td>NaN</td>\n",
       "      <td>NaN</td>\n",
       "      <td>NaN</td>\n",
       "      <td>NaN</td>\n",
       "      <td>NaN</td>\n",
       "      <td>NaN</td>\n",
       "      <td>NaN</td>\n",
       "    </tr>\n",
       "    <tr>\n",
       "      <th>435</th>\n",
       "      <td>467</td>\n",
       "      <td>2019-05-20 16:29:39</td>\n",
       "      <td>NaN</td>\n",
       "      <td>NaN</td>\n",
       "      <td>NaN</td>\n",
       "      <td>NaN</td>\n",
       "      <td>NaN</td>\n",
       "      <td>NaN</td>\n",
       "      <td>NaN</td>\n",
       "      <td>NaN</td>\n",
       "    </tr>\n",
       "    <tr>\n",
       "      <th>2480</th>\n",
       "      <td>2607</td>\n",
       "      <td>2019-08-09 22:33:35</td>\n",
       "      <td>NaN</td>\n",
       "      <td>NaN</td>\n",
       "      <td>NaN</td>\n",
       "      <td>NaN</td>\n",
       "      <td>NaN</td>\n",
       "      <td>NaN</td>\n",
       "      <td>NaN</td>\n",
       "      <td>NaN</td>\n",
       "    </tr>\n",
       "    <tr>\n",
       "      <th>1958</th>\n",
       "      <td>2055</td>\n",
       "      <td>2019-07-21 17:04:59</td>\n",
       "      <td>NaN</td>\n",
       "      <td>NaN</td>\n",
       "      <td>NaN</td>\n",
       "      <td>NaN</td>\n",
       "      <td>NaN</td>\n",
       "      <td>NaN</td>\n",
       "      <td>NaN</td>\n",
       "      <td>NaN</td>\n",
       "    </tr>\n",
       "  </tbody>\n",
       "</table>\n",
       "</div>"
      ],
      "text/plain": [
       "       key               Wire 1               Wire 2 Wire 3 Wire 4 Wire 5  \\\n",
       "1520  1599  2019-06-29 20:27:19                  NaN    NaN    NaN    NaN   \n",
       "1781  1871  2019-07-08 19:53:39  2019-07-08 20:19:46    NaN    NaN    NaN   \n",
       "435    467  2019-05-20 16:29:39                  NaN    NaN    NaN    NaN   \n",
       "2480  2607  2019-08-09 22:33:35                  NaN    NaN    NaN    NaN   \n",
       "1958  2055  2019-07-21 17:04:59                  NaN    NaN    NaN    NaN   \n",
       "\n",
       "     Wire 6 Wire 7 Wire 8 Wire 9  \n",
       "1520    NaN    NaN    NaN    NaN  \n",
       "1781    NaN    NaN    NaN    NaN  \n",
       "435     NaN    NaN    NaN    NaN  \n",
       "2480    NaN    NaN    NaN    NaN  \n",
       "1958    NaN    NaN    NaN    NaN  "
      ]
     },
     "execution_count": 291,
     "metadata": {},
     "output_type": "execute_result"
    }
   ],
   "source": [
    "data_wire_time.sample(5)"
   ]
  },
  {
   "cell_type": "code",
   "execution_count": 292,
   "metadata": {},
   "outputs": [
    {
     "name": "stdout",
     "output_type": "stream",
     "text": [
      "<class 'pandas.core.frame.DataFrame'>\n",
      "RangeIndex: 3081 entries, 0 to 3080\n",
      "Data columns (total 10 columns):\n",
      " #   Column  Non-Null Count  Dtype  \n",
      "---  ------  --------------  -----  \n",
      " 0   key     3081 non-null   int64  \n",
      " 1   Wire 1  3055 non-null   float64\n",
      " 2   Wire 2  1079 non-null   float64\n",
      " 3   Wire 3  63 non-null     float64\n",
      " 4   Wire 4  14 non-null     float64\n",
      " 5   Wire 5  1 non-null      float64\n",
      " 6   Wire 6  73 non-null     float64\n",
      " 7   Wire 7  11 non-null     float64\n",
      " 8   Wire 8  19 non-null     float64\n",
      " 9   Wire 9  29 non-null     float64\n",
      "dtypes: float64(9), int64(1)\n",
      "memory usage: 240.8 KB\n"
     ]
    }
   ],
   "source": [
    "data_wire.info()"
   ]
  },
  {
   "cell_type": "code",
   "execution_count": 293,
   "metadata": {},
   "outputs": [
    {
     "name": "stdout",
     "output_type": "stream",
     "text": [
      "<class 'pandas.core.frame.DataFrame'>\n",
      "RangeIndex: 3081 entries, 0 to 3080\n",
      "Data columns (total 10 columns):\n",
      " #   Column  Non-Null Count  Dtype \n",
      "---  ------  --------------  ----- \n",
      " 0   key     3081 non-null   int64 \n",
      " 1   Wire 1  3055 non-null   object\n",
      " 2   Wire 2  1079 non-null   object\n",
      " 3   Wire 3  63 non-null     object\n",
      " 4   Wire 4  14 non-null     object\n",
      " 5   Wire 5  1 non-null      object\n",
      " 6   Wire 6  73 non-null     object\n",
      " 7   Wire 7  11 non-null     object\n",
      " 8   Wire 8  19 non-null     object\n",
      " 9   Wire 9  29 non-null     object\n",
      "dtypes: int64(1), object(9)\n",
      "memory usage: 240.8+ KB\n"
     ]
    }
   ],
   "source": [
    "data_wire_time.info()"
   ]
  },
  {
   "cell_type": "code",
   "execution_count": 294,
   "metadata": {},
   "outputs": [
    {
     "data": {
      "text/html": [
       "<div>\n",
       "<style scoped>\n",
       "    .dataframe tbody tr th:only-of-type {\n",
       "        vertical-align: middle;\n",
       "    }\n",
       "\n",
       "    .dataframe tbody tr th {\n",
       "        vertical-align: top;\n",
       "    }\n",
       "\n",
       "    .dataframe thead th {\n",
       "        text-align: right;\n",
       "    }\n",
       "</style>\n",
       "<table border=\"1\" class=\"dataframe\">\n",
       "  <thead>\n",
       "    <tr style=\"text-align: right;\">\n",
       "      <th></th>\n",
       "      <th>key</th>\n",
       "      <th>Wire 1</th>\n",
       "      <th>Wire 2</th>\n",
       "      <th>Wire 3</th>\n",
       "      <th>Wire 4</th>\n",
       "      <th>Wire 5</th>\n",
       "      <th>Wire 6</th>\n",
       "      <th>Wire 7</th>\n",
       "      <th>Wire 8</th>\n",
       "      <th>Wire 9</th>\n",
       "    </tr>\n",
       "  </thead>\n",
       "  <tbody>\n",
       "    <tr>\n",
       "      <th>count</th>\n",
       "      <td>3081.000000</td>\n",
       "      <td>3055.000000</td>\n",
       "      <td>1079.000000</td>\n",
       "      <td>63.000000</td>\n",
       "      <td>14.000000</td>\n",
       "      <td>1.000</td>\n",
       "      <td>73.000000</td>\n",
       "      <td>11.000000</td>\n",
       "      <td>19.000000</td>\n",
       "      <td>29.000000</td>\n",
       "    </tr>\n",
       "    <tr>\n",
       "      <th>mean</th>\n",
       "      <td>1623.426485</td>\n",
       "      <td>100.895853</td>\n",
       "      <td>50.577323</td>\n",
       "      <td>189.482681</td>\n",
       "      <td>57.442842</td>\n",
       "      <td>15.132</td>\n",
       "      <td>48.016974</td>\n",
       "      <td>10.039007</td>\n",
       "      <td>53.625193</td>\n",
       "      <td>34.155752</td>\n",
       "    </tr>\n",
       "    <tr>\n",
       "      <th>std</th>\n",
       "      <td>932.996726</td>\n",
       "      <td>42.012518</td>\n",
       "      <td>39.320216</td>\n",
       "      <td>99.513444</td>\n",
       "      <td>28.824667</td>\n",
       "      <td>NaN</td>\n",
       "      <td>33.919845</td>\n",
       "      <td>8.610584</td>\n",
       "      <td>16.881728</td>\n",
       "      <td>19.931616</td>\n",
       "    </tr>\n",
       "    <tr>\n",
       "      <th>min</th>\n",
       "      <td>1.000000</td>\n",
       "      <td>1.918800</td>\n",
       "      <td>0.030160</td>\n",
       "      <td>0.144144</td>\n",
       "      <td>24.148801</td>\n",
       "      <td>15.132</td>\n",
       "      <td>0.034320</td>\n",
       "      <td>0.234208</td>\n",
       "      <td>45.076721</td>\n",
       "      <td>4.622800</td>\n",
       "    </tr>\n",
       "    <tr>\n",
       "      <th>25%</th>\n",
       "      <td>823.000000</td>\n",
       "      <td>72.115684</td>\n",
       "      <td>20.193680</td>\n",
       "      <td>95.135044</td>\n",
       "      <td>40.807002</td>\n",
       "      <td>15.132</td>\n",
       "      <td>25.053600</td>\n",
       "      <td>6.762756</td>\n",
       "      <td>46.094879</td>\n",
       "      <td>22.058401</td>\n",
       "    </tr>\n",
       "    <tr>\n",
       "      <th>50%</th>\n",
       "      <td>1619.000000</td>\n",
       "      <td>100.158234</td>\n",
       "      <td>40.142956</td>\n",
       "      <td>235.194977</td>\n",
       "      <td>45.234282</td>\n",
       "      <td>15.132</td>\n",
       "      <td>42.076324</td>\n",
       "      <td>9.017009</td>\n",
       "      <td>46.279999</td>\n",
       "      <td>30.066399</td>\n",
       "    </tr>\n",
       "    <tr>\n",
       "      <th>75%</th>\n",
       "      <td>2434.000000</td>\n",
       "      <td>126.060483</td>\n",
       "      <td>70.227558</td>\n",
       "      <td>276.252014</td>\n",
       "      <td>76.124619</td>\n",
       "      <td>15.132</td>\n",
       "      <td>64.212723</td>\n",
       "      <td>11.886057</td>\n",
       "      <td>48.089603</td>\n",
       "      <td>43.862003</td>\n",
       "    </tr>\n",
       "    <tr>\n",
       "      <th>max</th>\n",
       "      <td>3241.000000</td>\n",
       "      <td>330.314424</td>\n",
       "      <td>282.780152</td>\n",
       "      <td>385.008668</td>\n",
       "      <td>113.231044</td>\n",
       "      <td>15.132</td>\n",
       "      <td>180.454575</td>\n",
       "      <td>32.847674</td>\n",
       "      <td>102.762401</td>\n",
       "      <td>90.053604</td>\n",
       "    </tr>\n",
       "  </tbody>\n",
       "</table>\n",
       "</div>"
      ],
      "text/plain": [
       "               key       Wire 1       Wire 2      Wire 3      Wire 4  Wire 5  \\\n",
       "count  3081.000000  3055.000000  1079.000000   63.000000   14.000000   1.000   \n",
       "mean   1623.426485   100.895853    50.577323  189.482681   57.442842  15.132   \n",
       "std     932.996726    42.012518    39.320216   99.513444   28.824667     NaN   \n",
       "min       1.000000     1.918800     0.030160    0.144144   24.148801  15.132   \n",
       "25%     823.000000    72.115684    20.193680   95.135044   40.807002  15.132   \n",
       "50%    1619.000000   100.158234    40.142956  235.194977   45.234282  15.132   \n",
       "75%    2434.000000   126.060483    70.227558  276.252014   76.124619  15.132   \n",
       "max    3241.000000   330.314424   282.780152  385.008668  113.231044  15.132   \n",
       "\n",
       "           Wire 6     Wire 7      Wire 8     Wire 9  \n",
       "count   73.000000  11.000000   19.000000  29.000000  \n",
       "mean    48.016974  10.039007   53.625193  34.155752  \n",
       "std     33.919845   8.610584   16.881728  19.931616  \n",
       "min      0.034320   0.234208   45.076721   4.622800  \n",
       "25%     25.053600   6.762756   46.094879  22.058401  \n",
       "50%     42.076324   9.017009   46.279999  30.066399  \n",
       "75%     64.212723  11.886057   48.089603  43.862003  \n",
       "max    180.454575  32.847674  102.762401  90.053604  "
      ]
     },
     "execution_count": 294,
     "metadata": {},
     "output_type": "execute_result"
    }
   ],
   "source": [
    "data_wire.describe()"
   ]
  },
  {
   "cell_type": "code",
   "execution_count": 295,
   "metadata": {},
   "outputs": [
    {
     "data": {
      "text/html": [
       "<div>\n",
       "<style scoped>\n",
       "    .dataframe tbody tr th:only-of-type {\n",
       "        vertical-align: middle;\n",
       "    }\n",
       "\n",
       "    .dataframe tbody tr th {\n",
       "        vertical-align: top;\n",
       "    }\n",
       "\n",
       "    .dataframe thead th {\n",
       "        text-align: right;\n",
       "    }\n",
       "</style>\n",
       "<table border=\"1\" class=\"dataframe\">\n",
       "  <thead>\n",
       "    <tr style=\"text-align: right;\">\n",
       "      <th></th>\n",
       "      <th>key</th>\n",
       "    </tr>\n",
       "  </thead>\n",
       "  <tbody>\n",
       "    <tr>\n",
       "      <th>count</th>\n",
       "      <td>3081.000000</td>\n",
       "    </tr>\n",
       "    <tr>\n",
       "      <th>mean</th>\n",
       "      <td>1623.426485</td>\n",
       "    </tr>\n",
       "    <tr>\n",
       "      <th>std</th>\n",
       "      <td>932.996726</td>\n",
       "    </tr>\n",
       "    <tr>\n",
       "      <th>min</th>\n",
       "      <td>1.000000</td>\n",
       "    </tr>\n",
       "    <tr>\n",
       "      <th>25%</th>\n",
       "      <td>823.000000</td>\n",
       "    </tr>\n",
       "    <tr>\n",
       "      <th>50%</th>\n",
       "      <td>1619.000000</td>\n",
       "    </tr>\n",
       "    <tr>\n",
       "      <th>75%</th>\n",
       "      <td>2434.000000</td>\n",
       "    </tr>\n",
       "    <tr>\n",
       "      <th>max</th>\n",
       "      <td>3241.000000</td>\n",
       "    </tr>\n",
       "  </tbody>\n",
       "</table>\n",
       "</div>"
      ],
      "text/plain": [
       "               key\n",
       "count  3081.000000\n",
       "mean   1623.426485\n",
       "std     932.996726\n",
       "min       1.000000\n",
       "25%     823.000000\n",
       "50%    1619.000000\n",
       "75%    2434.000000\n",
       "max    3241.000000"
      ]
     },
     "execution_count": 295,
     "metadata": {},
     "output_type": "execute_result"
    }
   ],
   "source": [
    "data_wire_time.describe()"
   ]
  },
  {
   "cell_type": "markdown",
   "metadata": {},
   "source": [
    "Структура данных таблиц data_wire и data_wire_time полностью аналогичны таблицам data_bulk и data_bulk_time."
   ]
  },
  {
   "cell_type": "markdown",
   "metadata": {},
   "source": [
    "Исследую, есть ли редкоиспользуемые проволочные материалы по средним не нулевым значениям:"
   ]
  },
  {
   "cell_type": "code",
   "execution_count": 296,
   "metadata": {},
   "outputs": [],
   "source": [
    "# Запишу средние не нулевые значения проволочных материалов, сортированные по убыванию в отдельную переменную: \n",
    "\n",
    "data_wire_time_ratio =  data_wire_time.drop('key', axis=1).notnull().mean().sort_values(ascending=False)"
   ]
  },
  {
   "cell_type": "code",
   "execution_count": 297,
   "metadata": {},
   "outputs": [
    {
     "data": {
      "image/png": "[encoded data removed]",
      "text/plain": [
       "<Figure size 864x576 with 1 Axes>"
      ]
     },
     "metadata": {
      "needs_background": "light"
     },
     "output_type": "display_data"
    }
   ],
   "source": [
    "plt.figure(figsize = (12,8))\n",
    "ax = sns.barplot(x = data_wire_time_ratio.index, y = data_wire_time_ratio.values)\n",
    "ax.axhline(y=0.1, color='r', linestyle='-')\n",
    "ax.set_title('Частота использования проволочных материалов')\n",
    "ax.set_ylabel('Доля использования в партиях')\n",
    "ax.set_xlabel('Название проволочного материала')\n",
    "plt.show()"
   ]
  },
  {
   "cell_type": "markdown",
   "metadata": {},
   "source": [
    "Очень много редкоиспользуемых проволочных материалов. Самые частоиспользуемые - Wire 1 Wire 2."
   ]
  },
  {
   "cell_type": "markdown",
   "metadata": {},
   "source": [
    "**Вывод по исследованию данных о проволочных материалах**\n",
    "\n",
    "- на этапе предобработки потребуется перевести столбцы к нужному виду и типу (дату в datetime). Или еще, можно избавиться от части, соедржащей данные о времени в таблице data_wire_time.\n",
    "- Избавиться от редкоиспользуемых проволочных материалов, оставив  Wire 1 Wire 2."
   ]
  },
  {
   "cell_type": "markdown",
   "metadata": {},
   "source": [
    "## Общий вывод по исследовательскому анализу данных:\n",
    "\n",
    "- Из таблицы `data_arc` заменить на адекватное значение аномалию в реактивной мощности. Столбцы переименовать (назвать английским языком, прописными буквами, без пробелов, верблюжим типом), данные приведены к нужному типу (дата в datetime). \n",
    "\n",
    "- Найдены редкоиспользуемые сыпучие и проволочные материалы (те, что используются в менее 10% случаях).\n",
    "На этапе предобработки предлогаю убрать их, в пользу улучшения качества будующей модели.\n",
    "Также предлогаю объеденить таблицы `data_bulk` и `data_bulk_time` в одну, и привести данные к нужному формату (datetime), как и в случае таблиц `data_wire` и `data_wire_time`. Так как они имеют общую структуру хранения данных. Время тут не влияет весомой роли, можно удалить эту часть данных.\n",
    "\n",
    "- Касаемо таблицы `data_gas`, там не выявлено явных аномалий, столбцы нужно привести к нужному формату и типу.\n",
    "\n",
    "- Самая важная таблица - `data_temp`, содержащая наш будущий целевой признак - последнее измерение температуры в ключе, таблиц имеет пропуски в данных 2901, на этапе предобработки стоит избавится от них, а также удостовериться в том, что во всех итоговых ключах есть замер начальной температуры и последней, если где-то такие условия не учтены, то удалить такие данные.\n",
    "\n",
    "  В целом, таблицы требуют предобработки и группировки в единую талицу по одинаковому ключу (`key`)."
   ]
  },
  {
   "cell_type": "markdown",
   "metadata": {},
   "source": [
    "## 2. Предобработка данных"
   ]
  },
  {
   "cell_type": "markdown",
   "metadata": {},
   "source": [
    "### 2.1. Предобработка таблицы `data_arc` (данные об электродах)"
   ]
  },
  {
   "cell_type": "markdown",
   "metadata": {},
   "source": [
    "- Из таблицы `data_arc` нужно заменть на адекватное значение отрицательную аномалию в реактивной мощности (для замены выброса можно расситать коэффициент зависимоти - отношение active_power к reactive_power в каждом наблюдении в ключе, взять среднюю полученных значений коэффициентов и множить на значение active_power, получим нужное значение reactive_power).\n",
    "\n",
    "- Столбцы переименовать (назвать английским языком, прописными буквами, без пробелов, верблюжим типом), данные привести к нужному типу (дата в datetime):"
   ]
  },
  {
   "cell_type": "code",
   "execution_count": 298,
   "metadata": {},
   "outputs": [],
   "source": [
    "# Исправляю названия столбцов:\n",
    "data_arc.columns = ['key', 'start_arc_heating', 'end_arc_heating', 'active_power', 'reactive_power']"
   ]
  },
  {
   "cell_type": "code",
   "execution_count": 299,
   "metadata": {},
   "outputs": [],
   "source": [
    "# Меняю тип данных столбцов, содержащих дату в datetime:\n",
    "\n",
    "data_arc['start_arc_heating'] = pd.to_datetime(data_arc['start_arc_heating'])\n",
    "data_arc['end_arc_heating'] = pd.to_datetime(data_arc['end_arc_heating'])"
   ]
  },
  {
   "cell_type": "code",
   "execution_count": 300,
   "metadata": {},
   "outputs": [
    {
     "name": "stdout",
     "output_type": "stream",
     "text": [
      "<class 'pandas.core.frame.DataFrame'>\n",
      "RangeIndex: 14876 entries, 0 to 14875\n",
      "Data columns (total 5 columns):\n",
      " #   Column             Non-Null Count  Dtype         \n",
      "---  ------             --------------  -----         \n",
      " 0   key                14876 non-null  int64         \n",
      " 1   start_arc_heating  14876 non-null  datetime64[ns]\n",
      " 2   end_arc_heating    14876 non-null  datetime64[ns]\n",
      " 3   active_power       14876 non-null  float64       \n",
      " 4   reactive_power     14876 non-null  float64       \n",
      "dtypes: datetime64[ns](2), float64(2), int64(1)\n",
      "memory usage: 581.2 KB\n"
     ]
    }
   ],
   "source": [
    "data_arc.info()"
   ]
  },
  {
   "cell_type": "markdown",
   "metadata": {},
   "source": [
    "Смотрю ключ, в котором содержится отрицательный выброс:"
   ]
  },
  {
   "cell_type": "code",
   "execution_count": 301,
   "metadata": {},
   "outputs": [
    {
     "data": {
      "text/html": [
       "<div>\n",
       "<style scoped>\n",
       "    .dataframe tbody tr th:only-of-type {\n",
       "        vertical-align: middle;\n",
       "    }\n",
       "\n",
       "    .dataframe tbody tr th {\n",
       "        vertical-align: top;\n",
       "    }\n",
       "\n",
       "    .dataframe thead th {\n",
       "        text-align: right;\n",
       "    }\n",
       "</style>\n",
       "<table border=\"1\" class=\"dataframe\">\n",
       "  <thead>\n",
       "    <tr style=\"text-align: right;\">\n",
       "      <th></th>\n",
       "      <th>key</th>\n",
       "      <th>start_arc_heating</th>\n",
       "      <th>end_arc_heating</th>\n",
       "      <th>active_power</th>\n",
       "      <th>reactive_power</th>\n",
       "    </tr>\n",
       "  </thead>\n",
       "  <tbody>\n",
       "    <tr>\n",
       "      <th>9778</th>\n",
       "      <td>2116</td>\n",
       "      <td>2019-07-24 00:29:52</td>\n",
       "      <td>2019-07-24 00:31:54</td>\n",
       "      <td>0.433266</td>\n",
       "      <td>0.306141</td>\n",
       "    </tr>\n",
       "    <tr>\n",
       "      <th>9779</th>\n",
       "      <td>2116</td>\n",
       "      <td>2019-07-24 00:35:50</td>\n",
       "      <td>2019-07-24 00:38:05</td>\n",
       "      <td>0.620265</td>\n",
       "      <td>0.408352</td>\n",
       "    </tr>\n",
       "    <tr>\n",
       "      <th>9780</th>\n",
       "      <td>2116</td>\n",
       "      <td>2019-07-24 00:44:48</td>\n",
       "      <td>2019-07-24 00:46:37</td>\n",
       "      <td>0.495782</td>\n",
       "      <td>-715.504924</td>\n",
       "    </tr>\n",
       "    <tr>\n",
       "      <th>9781</th>\n",
       "      <td>2116</td>\n",
       "      <td>2019-07-24 00:51:51</td>\n",
       "      <td>2019-07-24 00:52:58</td>\n",
       "      <td>0.299368</td>\n",
       "      <td>0.198796</td>\n",
       "    </tr>\n",
       "  </tbody>\n",
       "</table>\n",
       "</div>"
      ],
      "text/plain": [
       "       key   start_arc_heating     end_arc_heating  active_power  \\\n",
       "9778  2116 2019-07-24 00:29:52 2019-07-24 00:31:54      0.433266   \n",
       "9779  2116 2019-07-24 00:35:50 2019-07-24 00:38:05      0.620265   \n",
       "9780  2116 2019-07-24 00:44:48 2019-07-24 00:46:37      0.495782   \n",
       "9781  2116 2019-07-24 00:51:51 2019-07-24 00:52:58      0.299368   \n",
       "\n",
       "      reactive_power  \n",
       "9778        0.306141  \n",
       "9779        0.408352  \n",
       "9780     -715.504924  \n",
       "9781        0.198796  "
      ]
     },
     "execution_count": 301,
     "metadata": {},
     "output_type": "execute_result"
    }
   ],
   "source": [
    "anomaly_key = data_arc[data_arc['key'] == 2116]\n",
    "anomaly_key"
   ]
  },
  {
   "cell_type": "markdown",
   "metadata": {},
   "source": [
    "Рассчитываю средний коэффициент зависимости мощностей в ключе с аномалией:"
   ]
  },
  {
   "cell_type": "code",
   "execution_count": 302,
   "metadata": {},
   "outputs": [
    {
     "data": {
      "text/plain": [
       "1.1098528948494308"
      ]
     },
     "execution_count": 302,
     "metadata": {},
     "output_type": "execute_result"
    }
   ],
   "source": [
    "coef = (anomaly_key['active_power'] / anomaly_key['reactive_power']).mean()\n",
    "coef"
   ]
  },
  {
   "cell_type": "code",
   "execution_count": 303,
   "metadata": {},
   "outputs": [],
   "source": [
    "# Произвожу замену отрицательного знаечния:\n",
    "\n",
    "data_arc.loc[data_arc['reactive_power'] < -715, 'reactive_power'] = coef * data_arc['active_power']"
   ]
  },
  {
   "cell_type": "markdown",
   "metadata": {},
   "source": [
    "Убеждаюсь, что выброса больше"
   ]
  },
  {
   "cell_type": "code",
   "execution_count": 304,
   "metadata": {
    "scrolled": true
   },
   "outputs": [
    {
     "data": {
      "text/html": [
       "<div>\n",
       "<style scoped>\n",
       "    .dataframe tbody tr th:only-of-type {\n",
       "        vertical-align: middle;\n",
       "    }\n",
       "\n",
       "    .dataframe tbody tr th {\n",
       "        vertical-align: top;\n",
       "    }\n",
       "\n",
       "    .dataframe thead th {\n",
       "        text-align: right;\n",
       "    }\n",
       "</style>\n",
       "<table border=\"1\" class=\"dataframe\">\n",
       "  <thead>\n",
       "    <tr style=\"text-align: right;\">\n",
       "      <th></th>\n",
       "      <th>key</th>\n",
       "      <th>start_arc_heating</th>\n",
       "      <th>end_arc_heating</th>\n",
       "      <th>active_power</th>\n",
       "      <th>reactive_power</th>\n",
       "    </tr>\n",
       "  </thead>\n",
       "  <tbody>\n",
       "    <tr>\n",
       "      <th>9778</th>\n",
       "      <td>2116</td>\n",
       "      <td>2019-07-24 00:29:52</td>\n",
       "      <td>2019-07-24 00:31:54</td>\n",
       "      <td>0.433266</td>\n",
       "      <td>0.306141</td>\n",
       "    </tr>\n",
       "    <tr>\n",
       "      <th>9779</th>\n",
       "      <td>2116</td>\n",
       "      <td>2019-07-24 00:35:50</td>\n",
       "      <td>2019-07-24 00:38:05</td>\n",
       "      <td>0.620265</td>\n",
       "      <td>0.408352</td>\n",
       "    </tr>\n",
       "    <tr>\n",
       "      <th>9780</th>\n",
       "      <td>2116</td>\n",
       "      <td>2019-07-24 00:44:48</td>\n",
       "      <td>2019-07-24 00:46:37</td>\n",
       "      <td>0.495782</td>\n",
       "      <td>0.550246</td>\n",
       "    </tr>\n",
       "    <tr>\n",
       "      <th>9781</th>\n",
       "      <td>2116</td>\n",
       "      <td>2019-07-24 00:51:51</td>\n",
       "      <td>2019-07-24 00:52:58</td>\n",
       "      <td>0.299368</td>\n",
       "      <td>0.198796</td>\n",
       "    </tr>\n",
       "  </tbody>\n",
       "</table>\n",
       "</div>"
      ],
      "text/plain": [
       "       key   start_arc_heating     end_arc_heating  active_power  \\\n",
       "9778  2116 2019-07-24 00:29:52 2019-07-24 00:31:54      0.433266   \n",
       "9779  2116 2019-07-24 00:35:50 2019-07-24 00:38:05      0.620265   \n",
       "9780  2116 2019-07-24 00:44:48 2019-07-24 00:46:37      0.495782   \n",
       "9781  2116 2019-07-24 00:51:51 2019-07-24 00:52:58      0.299368   \n",
       "\n",
       "      reactive_power  \n",
       "9778        0.306141  \n",
       "9779        0.408352  \n",
       "9780        0.550246  \n",
       "9781        0.198796  "
      ]
     },
     "execution_count": 304,
     "metadata": {},
     "output_type": "execute_result"
    }
   ],
   "source": [
    "data_arc[data_arc['key'] == 2116]"
   ]
  },
  {
   "cell_type": "markdown",
   "metadata": {},
   "source": [
    "**Вывод:**\n",
    "\n",
    "В результате предобработки таблицы `data_arc` типы данных и названия столбцов преведены в порядок, заменена аномалия в реактивной мощности."
   ]
  },
  {
   "cell_type": "markdown",
   "metadata": {},
   "source": [
    "### 2.2. Предобработка данных о подаче сыпучих материалов (`data_bulk` и `data_bulk_time`)"
   ]
  },
  {
   "cell_type": "markdown",
   "metadata": {},
   "source": [
    "- Объединить таблицы  `data_bulk` и `data_bulk_time`\n",
    "\n",
    "- Привести даты к типу datetime \n",
    "\n",
    "- Удалить редкоиспольщуемые сыпучие материалы: Bulk 1, 11, 10, 5, 7, 2, 9, 13, 8 "
   ]
  },
  {
   "cell_type": "markdown",
   "metadata": {},
   "source": [
    "Создам функцию loose_funk по предобработке и объединению таблиц с сыпучими, и, в последующем, с проволочными материалами:"
   ]
  },
  {
   "cell_type": "code",
   "execution_count": 305,
   "metadata": {},
   "outputs": [],
   "source": [
    "def loose_funk(df, data):\n",
    "    \"\"\"\n",
    "        Input: df, data - таблицы pd.DataFrame.\n",
    "        Output: Предобработанная объединенная таблица частоиспользуемых материалов.\n",
    "        Description: Функция предобрабоки дынных о материалах.\n",
    "\n",
    "    \"\"\"\n",
    "    #Соединим датасеты значений и времени материалов:\n",
    "    dfs_join = df.join(data, how='inner', lsuffix='', rsuffix='_time')\n",
    "\n",
    "    #Соберем статистику использования материалов:\n",
    "    data_statistics = data.notnull().mean().sort_values(ascending=False)\n",
    "\n",
    "    #Возьмем только те материалы, которые используются в более чем 10% партий:\n",
    "    data_include = data_statistics[data_statistics >= 0.1].index[1:] # убираю поле с ключом (key)\n",
    "\n",
    "    #Создадим пустой датафрейм для объединения:\n",
    "    data_combined = pd.DataFrame()\n",
    "\n",
    "    #Для каждого материала выполним \"развертку\" и добавим результаты в общую таблицу data_combined:\n",
    "    for material in data_include:\n",
    "        data_current = dfs_join[['key', str(material), str(material) + '_time']] \\\n",
    "            .melt(id_vars=['key', str(material) + '_time'], value_vars=[str(material)]).dropna()\n",
    "        data_current.columns = ['key', 'datetime', 'material', 'value']\n",
    "\n",
    "        data_combined = pd.concat([data_combined, data_current])\n",
    "\n",
    "    #приведем дату к формату datetime:\n",
    "    data_combined['datetime'] = pd.to_datetime(data_combined['datetime'])\n",
    "    \n",
    "    #Вернем итоговый датафрейм\n",
    "    return data_combined"
   ]
  },
  {
   "cell_type": "code",
   "execution_count": 306,
   "metadata": {},
   "outputs": [
    {
     "data": {
      "text/html": [
       "<div>\n",
       "<style scoped>\n",
       "    .dataframe tbody tr th:only-of-type {\n",
       "        vertical-align: middle;\n",
       "    }\n",
       "\n",
       "    .dataframe tbody tr th {\n",
       "        vertical-align: top;\n",
       "    }\n",
       "\n",
       "    .dataframe thead th {\n",
       "        text-align: right;\n",
       "    }\n",
       "</style>\n",
       "<table border=\"1\" class=\"dataframe\">\n",
       "  <thead>\n",
       "    <tr style=\"text-align: right;\">\n",
       "      <th></th>\n",
       "      <th>key</th>\n",
       "      <th>datetime</th>\n",
       "      <th>material</th>\n",
       "      <th>value</th>\n",
       "    </tr>\n",
       "  </thead>\n",
       "  <tbody>\n",
       "    <tr>\n",
       "      <th>0</th>\n",
       "      <td>1</td>\n",
       "      <td>2019-05-03 11:03:52</td>\n",
       "      <td>Bulk 14</td>\n",
       "      <td>150.0</td>\n",
       "    </tr>\n",
       "    <tr>\n",
       "      <th>1</th>\n",
       "      <td>2</td>\n",
       "      <td>2019-05-03 11:40:20</td>\n",
       "      <td>Bulk 14</td>\n",
       "      <td>149.0</td>\n",
       "    </tr>\n",
       "    <tr>\n",
       "      <th>2</th>\n",
       "      <td>3</td>\n",
       "      <td>2019-05-03 12:09:40</td>\n",
       "      <td>Bulk 14</td>\n",
       "      <td>152.0</td>\n",
       "    </tr>\n",
       "    <tr>\n",
       "      <th>3</th>\n",
       "      <td>4</td>\n",
       "      <td>2019-05-03 12:41:24</td>\n",
       "      <td>Bulk 14</td>\n",
       "      <td>153.0</td>\n",
       "    </tr>\n",
       "    <tr>\n",
       "      <th>4</th>\n",
       "      <td>5</td>\n",
       "      <td>2019-05-03 13:12:56</td>\n",
       "      <td>Bulk 14</td>\n",
       "      <td>151.0</td>\n",
       "    </tr>\n",
       "    <tr>\n",
       "      <th>...</th>\n",
       "      <td>...</td>\n",
       "      <td>...</td>\n",
       "      <td>...</td>\n",
       "      <td>...</td>\n",
       "    </tr>\n",
       "    <tr>\n",
       "      <th>3111</th>\n",
       "      <td>3224</td>\n",
       "      <td>2019-08-31 13:50:34</td>\n",
       "      <td>Bulk 6</td>\n",
       "      <td>36.0</td>\n",
       "    </tr>\n",
       "    <tr>\n",
       "      <th>3112</th>\n",
       "      <td>3225</td>\n",
       "      <td>2019-08-31 15:01:05</td>\n",
       "      <td>Bulk 6</td>\n",
       "      <td>162.0</td>\n",
       "    </tr>\n",
       "    <tr>\n",
       "      <th>3113</th>\n",
       "      <td>3226</td>\n",
       "      <td>2019-08-31 16:00:49</td>\n",
       "      <td>Bulk 6</td>\n",
       "      <td>96.0</td>\n",
       "    </tr>\n",
       "    <tr>\n",
       "      <th>3126</th>\n",
       "      <td>3239</td>\n",
       "      <td>2019-09-01 01:51:58</td>\n",
       "      <td>Bulk 6</td>\n",
       "      <td>114.0</td>\n",
       "    </tr>\n",
       "    <tr>\n",
       "      <th>3127</th>\n",
       "      <td>3240</td>\n",
       "      <td>2019-09-01 03:12:40</td>\n",
       "      <td>Bulk 6</td>\n",
       "      <td>26.0</td>\n",
       "    </tr>\n",
       "  </tbody>\n",
       "</table>\n",
       "<p>10392 rows × 4 columns</p>\n",
       "</div>"
      ],
      "text/plain": [
       "       key            datetime material  value\n",
       "0        1 2019-05-03 11:03:52  Bulk 14  150.0\n",
       "1        2 2019-05-03 11:40:20  Bulk 14  149.0\n",
       "2        3 2019-05-03 12:09:40  Bulk 14  152.0\n",
       "3        4 2019-05-03 12:41:24  Bulk 14  153.0\n",
       "4        5 2019-05-03 13:12:56  Bulk 14  151.0\n",
       "...    ...                 ...      ...    ...\n",
       "3111  3224 2019-08-31 13:50:34   Bulk 6   36.0\n",
       "3112  3225 2019-08-31 15:01:05   Bulk 6  162.0\n",
       "3113  3226 2019-08-31 16:00:49   Bulk 6   96.0\n",
       "3126  3239 2019-09-01 01:51:58   Bulk 6  114.0\n",
       "3127  3240 2019-09-01 03:12:40   Bulk 6   26.0\n",
       "\n",
       "[10392 rows x 4 columns]"
      ]
     },
     "execution_count": 306,
     "metadata": {},
     "output_type": "execute_result"
    }
   ],
   "source": [
    "data_bulk_combined = loose_funk(data_bulk, data_bulk_time)\n",
    "data_bulk_combined "
   ]
  },
  {
   "cell_type": "code",
   "execution_count": 307,
   "metadata": {},
   "outputs": [
    {
     "name": "stdout",
     "output_type": "stream",
     "text": [
      "<class 'pandas.core.frame.DataFrame'>\n",
      "Int64Index: 10392 entries, 0 to 3127\n",
      "Data columns (total 4 columns):\n",
      " #   Column    Non-Null Count  Dtype         \n",
      "---  ------    --------------  -----         \n",
      " 0   key       10392 non-null  int64         \n",
      " 1   datetime  10392 non-null  datetime64[ns]\n",
      " 2   material  10392 non-null  object        \n",
      " 3   value     10392 non-null  float64       \n",
      "dtypes: datetime64[ns](1), float64(1), int64(1), object(1)\n",
      "memory usage: 405.9+ KB\n"
     ]
    }
   ],
   "source": [
    "data_bulk_combined.info()"
   ]
  },
  {
   "cell_type": "code",
   "execution_count": 308,
   "metadata": {},
   "outputs": [
    {
     "data": {
      "image/png": "[encoded data removed]",
      "text/plain": [
       "<Figure size 864x432 with 1 Axes>"
      ]
     },
     "metadata": {
      "needs_background": "light"
     },
     "output_type": "display_data"
    }
   ],
   "source": [
    "plt.figure(figsize = (12,6))\n",
    "ax = sns.barplot(x = data_bulk_combined.material, y = data_bulk_combined.value)\n",
    "ax.axhline(y=0.1, color='r', linestyle='-')\n",
    "ax.set_title('Частота использования сыпучих материалов')\n",
    "ax.set_ylabel('Доля использования в партиях')\n",
    "ax.set_xlabel('Название сыпучего материала')\n",
    "plt.show()"
   ]
  },
  {
   "cell_type": "markdown",
   "metadata": {},
   "source": [
    "**Вывод:**\n",
    "\n",
    "Отлично, типы данных и названия преведены в порядок, таблицы объединены и в общей таблице (data_bulk_combined) остались только самые частоиспользуемые сыпучие материалы."
   ]
  },
  {
   "cell_type": "markdown",
   "metadata": {},
   "source": [
    "### 2.3. Предобработка данных о продувке сплава газом (`data_gas`)"
   ]
  },
  {
   "cell_type": "markdown",
   "metadata": {},
   "source": [
    "\n",
    "- Переименовать столбцы в соответсвии со стандартом"
   ]
  },
  {
   "cell_type": "code",
   "execution_count": 309,
   "metadata": {},
   "outputs": [
    {
     "data": {
      "text/html": [
       "<div>\n",
       "<style scoped>\n",
       "    .dataframe tbody tr th:only-of-type {\n",
       "        vertical-align: middle;\n",
       "    }\n",
       "\n",
       "    .dataframe tbody tr th {\n",
       "        vertical-align: top;\n",
       "    }\n",
       "\n",
       "    .dataframe thead th {\n",
       "        text-align: right;\n",
       "    }\n",
       "</style>\n",
       "<table border=\"1\" class=\"dataframe\">\n",
       "  <thead>\n",
       "    <tr style=\"text-align: right;\">\n",
       "      <th></th>\n",
       "      <th>key</th>\n",
       "      <th>gas</th>\n",
       "    </tr>\n",
       "  </thead>\n",
       "  <tbody>\n",
       "    <tr>\n",
       "      <th>0</th>\n",
       "      <td>1</td>\n",
       "      <td>29.749986</td>\n",
       "    </tr>\n",
       "    <tr>\n",
       "      <th>1</th>\n",
       "      <td>2</td>\n",
       "      <td>12.555561</td>\n",
       "    </tr>\n",
       "    <tr>\n",
       "      <th>2</th>\n",
       "      <td>3</td>\n",
       "      <td>28.554793</td>\n",
       "    </tr>\n",
       "    <tr>\n",
       "      <th>3</th>\n",
       "      <td>4</td>\n",
       "      <td>18.841219</td>\n",
       "    </tr>\n",
       "    <tr>\n",
       "      <th>4</th>\n",
       "      <td>5</td>\n",
       "      <td>5.413692</td>\n",
       "    </tr>\n",
       "    <tr>\n",
       "      <th>...</th>\n",
       "      <td>...</td>\n",
       "      <td>...</td>\n",
       "    </tr>\n",
       "    <tr>\n",
       "      <th>3234</th>\n",
       "      <td>3237</td>\n",
       "      <td>5.543905</td>\n",
       "    </tr>\n",
       "    <tr>\n",
       "      <th>3235</th>\n",
       "      <td>3238</td>\n",
       "      <td>6.745669</td>\n",
       "    </tr>\n",
       "    <tr>\n",
       "      <th>3236</th>\n",
       "      <td>3239</td>\n",
       "      <td>16.023518</td>\n",
       "    </tr>\n",
       "    <tr>\n",
       "      <th>3237</th>\n",
       "      <td>3240</td>\n",
       "      <td>11.863103</td>\n",
       "    </tr>\n",
       "    <tr>\n",
       "      <th>3238</th>\n",
       "      <td>3241</td>\n",
       "      <td>12.680959</td>\n",
       "    </tr>\n",
       "  </tbody>\n",
       "</table>\n",
       "<p>3239 rows × 2 columns</p>\n",
       "</div>"
      ],
      "text/plain": [
       "       key        gas\n",
       "0        1  29.749986\n",
       "1        2  12.555561\n",
       "2        3  28.554793\n",
       "3        4  18.841219\n",
       "4        5   5.413692\n",
       "...    ...        ...\n",
       "3234  3237   5.543905\n",
       "3235  3238   6.745669\n",
       "3236  3239  16.023518\n",
       "3237  3240  11.863103\n",
       "3238  3241  12.680959\n",
       "\n",
       "[3239 rows x 2 columns]"
      ]
     },
     "execution_count": 309,
     "metadata": {},
     "output_type": "execute_result"
    }
   ],
   "source": [
    "data_gas.columns = ['key', 'gas']\n",
    "data_gas"
   ]
  },
  {
   "cell_type": "code",
   "execution_count": 310,
   "metadata": {},
   "outputs": [
    {
     "name": "stdout",
     "output_type": "stream",
     "text": [
      "<class 'pandas.core.frame.DataFrame'>\n",
      "RangeIndex: 3239 entries, 0 to 3238\n",
      "Data columns (total 2 columns):\n",
      " #   Column  Non-Null Count  Dtype  \n",
      "---  ------  --------------  -----  \n",
      " 0   key     3239 non-null   int64  \n",
      " 1   gas     3239 non-null   float64\n",
      "dtypes: float64(1), int64(1)\n",
      "memory usage: 50.7 KB\n"
     ]
    }
   ],
   "source": [
    "data_gas.info()"
   ]
  },
  {
   "cell_type": "markdown",
   "metadata": {},
   "source": [
    "**Вывод:**\n",
    "\n",
    "Отлично названия таблицы преведены в порядок."
   ]
  },
  {
   "cell_type": "markdown",
   "metadata": {},
   "source": [
    "**4. Предобработка данных о проволочных материалах (`data_wire` и `data_wire_time`):**\n",
    "\n",
    "- Объединить таблицы  `data_wire` и `data_wire_time`\n",
    "\n",
    "- Привести даты к типу datetime \n",
    "\n",
    "- Удалить редкоиспольщуемые проволочные материалы, оставив Wire 1 Wire 2."
   ]
  },
  {
   "cell_type": "markdown",
   "metadata": {},
   "source": [
    "Воспользуюсь функцией loose_funk:"
   ]
  },
  {
   "cell_type": "code",
   "execution_count": 311,
   "metadata": {},
   "outputs": [
    {
     "data": {
      "text/html": [
       "<div>\n",
       "<style scoped>\n",
       "    .dataframe tbody tr th:only-of-type {\n",
       "        vertical-align: middle;\n",
       "    }\n",
       "\n",
       "    .dataframe tbody tr th {\n",
       "        vertical-align: top;\n",
       "    }\n",
       "\n",
       "    .dataframe thead th {\n",
       "        text-align: right;\n",
       "    }\n",
       "</style>\n",
       "<table border=\"1\" class=\"dataframe\">\n",
       "  <thead>\n",
       "    <tr style=\"text-align: right;\">\n",
       "      <th></th>\n",
       "      <th>key</th>\n",
       "      <th>datetime</th>\n",
       "      <th>material</th>\n",
       "      <th>value</th>\n",
       "    </tr>\n",
       "  </thead>\n",
       "  <tbody>\n",
       "    <tr>\n",
       "      <th>0</th>\n",
       "      <td>1</td>\n",
       "      <td>2019-05-03 11:11:41</td>\n",
       "      <td>Wire 1</td>\n",
       "      <td>60.059998</td>\n",
       "    </tr>\n",
       "    <tr>\n",
       "      <th>1</th>\n",
       "      <td>2</td>\n",
       "      <td>2019-05-03 11:46:10</td>\n",
       "      <td>Wire 1</td>\n",
       "      <td>96.052315</td>\n",
       "    </tr>\n",
       "    <tr>\n",
       "      <th>2</th>\n",
       "      <td>3</td>\n",
       "      <td>2019-05-03 12:13:47</td>\n",
       "      <td>Wire 1</td>\n",
       "      <td>91.160157</td>\n",
       "    </tr>\n",
       "    <tr>\n",
       "      <th>3</th>\n",
       "      <td>4</td>\n",
       "      <td>2019-05-03 12:48:05</td>\n",
       "      <td>Wire 1</td>\n",
       "      <td>89.063515</td>\n",
       "    </tr>\n",
       "    <tr>\n",
       "      <th>4</th>\n",
       "      <td>5</td>\n",
       "      <td>2019-05-03 13:18:15</td>\n",
       "      <td>Wire 1</td>\n",
       "      <td>89.238236</td>\n",
       "    </tr>\n",
       "    <tr>\n",
       "      <th>...</th>\n",
       "      <td>...</td>\n",
       "      <td>...</td>\n",
       "      <td>...</td>\n",
       "      <td>...</td>\n",
       "    </tr>\n",
       "    <tr>\n",
       "      <th>3048</th>\n",
       "      <td>3209</td>\n",
       "      <td>2019-08-31 02:34:58</td>\n",
       "      <td>Wire 2</td>\n",
       "      <td>14.145040</td>\n",
       "    </tr>\n",
       "    <tr>\n",
       "      <th>3052</th>\n",
       "      <td>3213</td>\n",
       "      <td>2019-08-31 05:24:42</td>\n",
       "      <td>Wire 2</td>\n",
       "      <td>10.073440</td>\n",
       "    </tr>\n",
       "    <tr>\n",
       "      <th>3057</th>\n",
       "      <td>3218</td>\n",
       "      <td>2019-08-31 08:16:39</td>\n",
       "      <td>Wire 2</td>\n",
       "      <td>10.073440</td>\n",
       "    </tr>\n",
       "    <tr>\n",
       "      <th>3062</th>\n",
       "      <td>3223</td>\n",
       "      <td>2019-08-31 13:14:22</td>\n",
       "      <td>Wire 2</td>\n",
       "      <td>21.202478</td>\n",
       "    </tr>\n",
       "    <tr>\n",
       "      <th>3069</th>\n",
       "      <td>3230</td>\n",
       "      <td>2019-08-31 18:50:15</td>\n",
       "      <td>Wire 2</td>\n",
       "      <td>30.190161</td>\n",
       "    </tr>\n",
       "  </tbody>\n",
       "</table>\n",
       "<p>4134 rows × 4 columns</p>\n",
       "</div>"
      ],
      "text/plain": [
       "       key            datetime material      value\n",
       "0        1 2019-05-03 11:11:41   Wire 1  60.059998\n",
       "1        2 2019-05-03 11:46:10   Wire 1  96.052315\n",
       "2        3 2019-05-03 12:13:47   Wire 1  91.160157\n",
       "3        4 2019-05-03 12:48:05   Wire 1  89.063515\n",
       "4        5 2019-05-03 13:18:15   Wire 1  89.238236\n",
       "...    ...                 ...      ...        ...\n",
       "3048  3209 2019-08-31 02:34:58   Wire 2  14.145040\n",
       "3052  3213 2019-08-31 05:24:42   Wire 2  10.073440\n",
       "3057  3218 2019-08-31 08:16:39   Wire 2  10.073440\n",
       "3062  3223 2019-08-31 13:14:22   Wire 2  21.202478\n",
       "3069  3230 2019-08-31 18:50:15   Wire 2  30.190161\n",
       "\n",
       "[4134 rows x 4 columns]"
      ]
     },
     "execution_count": 311,
     "metadata": {},
     "output_type": "execute_result"
    }
   ],
   "source": [
    "data_wire_combined = loose_funk(data_wire, data_wire_time)\n",
    "data_wire_combined"
   ]
  },
  {
   "cell_type": "code",
   "execution_count": 312,
   "metadata": {},
   "outputs": [
    {
     "name": "stdout",
     "output_type": "stream",
     "text": [
      "<class 'pandas.core.frame.DataFrame'>\n",
      "RangeIndex: 3081 entries, 0 to 3080\n",
      "Data columns (total 10 columns):\n",
      " #   Column  Non-Null Count  Dtype  \n",
      "---  ------  --------------  -----  \n",
      " 0   key     3081 non-null   int64  \n",
      " 1   Wire 1  3055 non-null   float64\n",
      " 2   Wire 2  1079 non-null   float64\n",
      " 3   Wire 3  63 non-null     float64\n",
      " 4   Wire 4  14 non-null     float64\n",
      " 5   Wire 5  1 non-null      float64\n",
      " 6   Wire 6  73 non-null     float64\n",
      " 7   Wire 7  11 non-null     float64\n",
      " 8   Wire 8  19 non-null     float64\n",
      " 9   Wire 9  29 non-null     float64\n",
      "dtypes: float64(9), int64(1)\n",
      "memory usage: 240.8 KB\n"
     ]
    }
   ],
   "source": [
    "data_wire.info()"
   ]
  },
  {
   "cell_type": "code",
   "execution_count": 313,
   "metadata": {
    "scrolled": false
   },
   "outputs": [
    {
     "name": "stdout",
     "output_type": "stream",
     "text": [
      "<class 'pandas.core.frame.DataFrame'>\n",
      "Int64Index: 4134 entries, 0 to 3069\n",
      "Data columns (total 4 columns):\n",
      " #   Column    Non-Null Count  Dtype         \n",
      "---  ------    --------------  -----         \n",
      " 0   key       4134 non-null   int64         \n",
      " 1   datetime  4134 non-null   datetime64[ns]\n",
      " 2   material  4134 non-null   object        \n",
      " 3   value     4134 non-null   float64       \n",
      "dtypes: datetime64[ns](1), float64(1), int64(1), object(1)\n",
      "memory usage: 161.5+ KB\n"
     ]
    }
   ],
   "source": [
    "data_wire_combined.info()"
   ]
  },
  {
   "cell_type": "code",
   "execution_count": 314,
   "metadata": {},
   "outputs": [
    {
     "data": {
      "image/png": "[encoded data removed]",
      "text/plain": [
       "<Figure size 864x576 with 1 Axes>"
      ]
     },
     "metadata": {
      "needs_background": "light"
     },
     "output_type": "display_data"
    }
   ],
   "source": [
    "plt.figure(figsize = (12,8))\n",
    "ax = sns.barplot(x = data_wire_combined.material, y = data_wire_combined.value)\n",
    "ax.axhline(y=0.1, color='r', linestyle='-')\n",
    "ax.set_title('Частота использования проволочных материалов')\n",
    "ax.set_ylabel('Доля использования в партиях')\n",
    "ax.set_xlabel('Название проволочного материала')\n",
    "plt.show()"
   ]
  },
  {
   "cell_type": "markdown",
   "metadata": {},
   "source": [
    "**Вывод:**\n",
    "\n",
    "Отлично, типы данных и названия преведены в порядок, таблицы объединены и в общей таблице (data_wire_combined) остались только самые частоиспользуемые проволочные материалы."
   ]
  },
  {
   "cell_type": "markdown",
   "metadata": {},
   "source": [
    "### 2.4. Предобработка данных измерения температуры (`data_temp`):"
   ]
  },
  {
   "cell_type": "markdown",
   "metadata": {},
   "source": [
    "- Нужно привести дату к правильному формату и названия столбцов\n",
    "\n",
    "Удалим из таблицы ключи (key), у которых:\n",
    "\n",
    "- Нет последнего замера температур, когда температуру замеряли до окончания последней итерации нагрева дугой \n",
    "- Есть только один замер температуры \n",
    "\n",
    "Т.о. в таблице долны остаться данные, где в ключах есть первый и последний замер (когда температуру замеряли до окончания последней итерации нагрева дугой) температуры.\n",
    "\n",
    "- Удалить низкие температуры (менее 1500 градусов)"
   ]
  },
  {
   "cell_type": "code",
   "execution_count": 315,
   "metadata": {},
   "outputs": [],
   "source": [
    "data_temp.columns = ['key', 'datetime', 'temp']"
   ]
  },
  {
   "cell_type": "code",
   "execution_count": 316,
   "metadata": {},
   "outputs": [],
   "source": [
    "data_temp['datetime'] = pd.to_datetime(data_temp['datetime'])"
   ]
  },
  {
   "cell_type": "code",
   "execution_count": 317,
   "metadata": {},
   "outputs": [
    {
     "name": "stdout",
     "output_type": "stream",
     "text": [
      "<class 'pandas.core.frame.DataFrame'>\n",
      "RangeIndex: 15907 entries, 0 to 15906\n",
      "Data columns (total 3 columns):\n",
      " #   Column    Non-Null Count  Dtype         \n",
      "---  ------    --------------  -----         \n",
      " 0   key       15907 non-null  int64         \n",
      " 1   datetime  15907 non-null  datetime64[ns]\n",
      " 2   temp      13006 non-null  float64       \n",
      "dtypes: datetime64[ns](1), float64(1), int64(1)\n",
      "memory usage: 372.9 KB\n"
     ]
    }
   ],
   "source": [
    "data_temp.info()"
   ]
  },
  {
   "cell_type": "code",
   "execution_count": 318,
   "metadata": {},
   "outputs": [],
   "source": [
    "data_temp = data_temp.dropna()"
   ]
  },
  {
   "cell_type": "code",
   "execution_count": 319,
   "metadata": {},
   "outputs": [
    {
     "data": {
      "text/plain": [
       "3216"
      ]
     },
     "execution_count": 319,
     "metadata": {},
     "output_type": "execute_result"
    }
   ],
   "source": [
    "data_temp['key'].nunique()"
   ]
  },
  {
   "cell_type": "markdown",
   "metadata": {},
   "source": [
    "Найду ключи (key), у которых:  нет последнего замера температуры или есть только один замер температуры:"
   ]
  },
  {
   "cell_type": "code",
   "execution_count": 320,
   "metadata": {},
   "outputs": [
    {
     "name": "stdout",
     "output_type": "stream",
     "text": [
      "872\n"
     ]
    }
   ],
   "source": [
    "incomplete_keys = [] # пустой список, куда буду добавлять ключи с пропусками\n",
    "\n",
    "for key in list(data_temp['key'].unique()):  \n",
    "    if ((data_temp[data_temp['key'] == key]['datetime'].max() < \n",
    "        data_arc[data_arc['key'] == key]['end_arc_heating'].max()) or\n",
    "       (data_temp[data_temp['key'] == key]['datetime'].max() == \n",
    "        data_temp[data_temp['key'] == key]['datetime'].min())):\n",
    "            incomplete_keys.append(key)\n",
    "        \n",
    "print(len(incomplete_keys))"
   ]
  },
  {
   "cell_type": "markdown",
   "metadata": {},
   "source": [
    "Неполных ключей 872, посмотрю на них, нет ли ошибки алгоритма:"
   ]
  },
  {
   "cell_type": "markdown",
   "metadata": {},
   "source": [
    "Оставляю данные, которые удовлетворяют нашему условию по замерам температуры:"
   ]
  },
  {
   "cell_type": "code",
   "execution_count": 321,
   "metadata": {},
   "outputs": [
    {
     "data": {
      "text/plain": [
       "(11680, 3)"
      ]
     },
     "execution_count": 321,
     "metadata": {},
     "output_type": "execute_result"
    }
   ],
   "source": [
    "full_keys_data = data_temp.loc[~(data_temp['key'].isin(incomplete_keys))]\n",
    "full_keys_data.shape"
   ]
  },
  {
   "cell_type": "code",
   "execution_count": 322,
   "metadata": {},
   "outputs": [
    {
     "data": {
      "text/plain": [
       "2344"
      ]
     },
     "execution_count": 322,
     "metadata": {},
     "output_type": "execute_result"
    }
   ],
   "source": [
    "full_keys_data['key'].nunique()"
   ]
  },
  {
   "cell_type": "code",
   "execution_count": 323,
   "metadata": {},
   "outputs": [
    {
     "data": {
      "text/plain": [
       "key         0\n",
       "datetime    0\n",
       "temp        0\n",
       "dtype: int64"
      ]
     },
     "execution_count": 323,
     "metadata": {},
     "output_type": "execute_result"
    }
   ],
   "source": [
    "full_keys_data.isna().sum()"
   ]
  },
  {
   "cell_type": "code",
   "execution_count": 324,
   "metadata": {},
   "outputs": [
    {
     "name": "stdout",
     "output_type": "stream",
     "text": [
      "<class 'pandas.core.frame.DataFrame'>\n",
      "Int64Index: 11680 entries, 0 to 12266\n",
      "Data columns (total 3 columns):\n",
      " #   Column    Non-Null Count  Dtype         \n",
      "---  ------    --------------  -----         \n",
      " 0   key       11680 non-null  int64         \n",
      " 1   datetime  11680 non-null  datetime64[ns]\n",
      " 2   temp      11680 non-null  float64       \n",
      "dtypes: datetime64[ns](1), float64(1), int64(1)\n",
      "memory usage: 365.0 KB\n"
     ]
    }
   ],
   "source": [
    "full_keys_data.info()"
   ]
  },
  {
   "cell_type": "markdown",
   "metadata": {},
   "source": [
    "Теперь можно удалить низкие температуры (что менее 1500 градусов):"
   ]
  },
  {
   "cell_type": "code",
   "execution_count": 325,
   "metadata": {},
   "outputs": [],
   "source": [
    "full_keys_data = full_keys_data.loc[full_keys_data['temp'] > 1500]"
   ]
  },
  {
   "cell_type": "code",
   "execution_count": 326,
   "metadata": {},
   "outputs": [
    {
     "data": {
      "text/plain": [
       "(11674, 3)"
      ]
     },
     "execution_count": 326,
     "metadata": {},
     "output_type": "execute_result"
    }
   ],
   "source": [
    "full_keys_data.shape"
   ]
  },
  {
   "cell_type": "markdown",
   "metadata": {},
   "source": [
    "Убеждаюсь, что фильтрация сработала:"
   ]
  },
  {
   "cell_type": "code",
   "execution_count": 327,
   "metadata": {},
   "outputs": [
    {
     "data": {
      "text/plain": [
       "0"
      ]
     },
     "execution_count": 327,
     "metadata": {},
     "output_type": "execute_result"
    }
   ],
   "source": [
    "full_keys_data.loc[full_keys_data['temp'] < 1500, 'temp'].count()"
   ]
  },
  {
   "cell_type": "code",
   "execution_count": 328,
   "metadata": {},
   "outputs": [
    {
     "data": {
      "image/png": "[encoded data removed]",
      "text/plain": [
       "<Figure size 1152x576 with 1 Axes>"
      ]
     },
     "metadata": {
      "needs_background": "light"
     },
     "output_type": "display_data"
    }
   ],
   "source": [
    "fig = plt.figure(figsize=(16, 8))\n",
    "ax = sns.histplot(full_keys_data['temp'], kde=True, linewidth=0.5, color = 'navy')\n",
    "ax.set(xlabel = 'Значение', ylabel = 'Количество',\n",
    "       title ='Распределение данных о температуре')\n",
    "plt.show()"
   ]
  },
  {
   "cell_type": "markdown",
   "metadata": {},
   "source": [
    "Удаляю из таблицы ключи (key), у которых:\n",
    "\n",
    "- Нет последнего замера температур, когда температуру замеряли до окончания последней итерации нагрева дугой\n",
    "- Есть только один замер температуры\n",
    "\n",
    "\n",
    " Формирую датасет с первым и последним замером температуры"
   ]
  },
  {
   "cell_type": "code",
   "execution_count": 329,
   "metadata": {},
   "outputs": [],
   "source": [
    "final_t = pd.DataFrame() # Создаю пустой датасет\n",
    "\n",
    "for key in list(full_keys_data['key'].unique()):\n",
    "    selection = full_keys_data[full_keys_data['key'] == key]\n",
    "    min_date = selection['datetime'].min()\n",
    "    max_date = selection['datetime'].max()\n",
    "    start_date = selection.loc[selection['datetime'] == max_date]\n",
    "    end_date = selection.loc[selection['datetime'] == min_date]\n",
    "    final_row = pd.merge(start_date, end_date, on='key')\n",
    "    final_t = pd.concat([final_t, final_row], ignore_index=True)\n",
    "    final_t = final_t[final_t['temp_x'] != final_t['temp_y']]"
   ]
  },
  {
   "cell_type": "code",
   "execution_count": 330,
   "metadata": {},
   "outputs": [
    {
     "data": {
      "text/plain": [
       "(2302, 5)"
      ]
     },
     "execution_count": 330,
     "metadata": {},
     "output_type": "execute_result"
    }
   ],
   "source": [
    "final_t.shape"
   ]
  },
  {
   "cell_type": "code",
   "execution_count": 331,
   "metadata": {},
   "outputs": [
    {
     "data": {
      "text/html": [
       "<div>\n",
       "<style scoped>\n",
       "    .dataframe tbody tr th:only-of-type {\n",
       "        vertical-align: middle;\n",
       "    }\n",
       "\n",
       "    .dataframe tbody tr th {\n",
       "        vertical-align: top;\n",
       "    }\n",
       "\n",
       "    .dataframe thead th {\n",
       "        text-align: right;\n",
       "    }\n",
       "</style>\n",
       "<table border=\"1\" class=\"dataframe\">\n",
       "  <thead>\n",
       "    <tr style=\"text-align: right;\">\n",
       "      <th></th>\n",
       "      <th>key</th>\n",
       "      <th>datetime_x</th>\n",
       "      <th>temp_x</th>\n",
       "      <th>datetime_y</th>\n",
       "      <th>temp_y</th>\n",
       "    </tr>\n",
       "  </thead>\n",
       "  <tbody>\n",
       "    <tr>\n",
       "      <th>0</th>\n",
       "      <td>1</td>\n",
       "      <td>2019-05-03 11:30:39</td>\n",
       "      <td>1613.0</td>\n",
       "      <td>2019-05-03 11:16:18</td>\n",
       "      <td>1571.0</td>\n",
       "    </tr>\n",
       "    <tr>\n",
       "      <th>1</th>\n",
       "      <td>2</td>\n",
       "      <td>2019-05-03 11:59:12</td>\n",
       "      <td>1602.0</td>\n",
       "      <td>2019-05-03 11:37:27</td>\n",
       "      <td>1581.0</td>\n",
       "    </tr>\n",
       "    <tr>\n",
       "      <th>2</th>\n",
       "      <td>3</td>\n",
       "      <td>2019-05-03 12:34:57</td>\n",
       "      <td>1599.0</td>\n",
       "      <td>2019-05-03 12:13:17</td>\n",
       "      <td>1596.0</td>\n",
       "    </tr>\n",
       "    <tr>\n",
       "      <th>3</th>\n",
       "      <td>4</td>\n",
       "      <td>2019-05-03 12:59:25</td>\n",
       "      <td>1625.0</td>\n",
       "      <td>2019-05-03 12:52:57</td>\n",
       "      <td>1601.0</td>\n",
       "    </tr>\n",
       "    <tr>\n",
       "      <th>4</th>\n",
       "      <td>5</td>\n",
       "      <td>2019-05-03 13:36:01</td>\n",
       "      <td>1602.0</td>\n",
       "      <td>2019-05-03 13:23:19</td>\n",
       "      <td>1576.0</td>\n",
       "    </tr>\n",
       "    <tr>\n",
       "      <th>5</th>\n",
       "      <td>6</td>\n",
       "      <td>2019-05-03 14:12:29</td>\n",
       "      <td>1596.0</td>\n",
       "      <td>2019-05-03 13:49:24</td>\n",
       "      <td>1543.0</td>\n",
       "    </tr>\n",
       "    <tr>\n",
       "      <th>6</th>\n",
       "      <td>7</td>\n",
       "      <td>2019-05-03 14:42:37</td>\n",
       "      <td>1599.0</td>\n",
       "      <td>2019-05-03 14:19:43</td>\n",
       "      <td>1586.0</td>\n",
       "    </tr>\n",
       "    <tr>\n",
       "      <th>7</th>\n",
       "      <td>8</td>\n",
       "      <td>2019-05-03 15:22:52</td>\n",
       "      <td>1598.0</td>\n",
       "      <td>2019-05-03 15:07:18</td>\n",
       "      <td>1577.0</td>\n",
       "    </tr>\n",
       "    <tr>\n",
       "      <th>8</th>\n",
       "      <td>9</td>\n",
       "      <td>2019-05-03 16:01:16</td>\n",
       "      <td>1592.0</td>\n",
       "      <td>2019-05-03 15:37:03</td>\n",
       "      <td>1587.0</td>\n",
       "    </tr>\n",
       "    <tr>\n",
       "      <th>9</th>\n",
       "      <td>10</td>\n",
       "      <td>2019-05-03 16:36:08</td>\n",
       "      <td>1593.0</td>\n",
       "      <td>2019-05-03 16:14:29</td>\n",
       "      <td>1574.0</td>\n",
       "    </tr>\n",
       "  </tbody>\n",
       "</table>\n",
       "</div>"
      ],
      "text/plain": [
       "   key          datetime_x  temp_x          datetime_y  temp_y\n",
       "0    1 2019-05-03 11:30:39  1613.0 2019-05-03 11:16:18  1571.0\n",
       "1    2 2019-05-03 11:59:12  1602.0 2019-05-03 11:37:27  1581.0\n",
       "2    3 2019-05-03 12:34:57  1599.0 2019-05-03 12:13:17  1596.0\n",
       "3    4 2019-05-03 12:59:25  1625.0 2019-05-03 12:52:57  1601.0\n",
       "4    5 2019-05-03 13:36:01  1602.0 2019-05-03 13:23:19  1576.0\n",
       "5    6 2019-05-03 14:12:29  1596.0 2019-05-03 13:49:24  1543.0\n",
       "6    7 2019-05-03 14:42:37  1599.0 2019-05-03 14:19:43  1586.0\n",
       "7    8 2019-05-03 15:22:52  1598.0 2019-05-03 15:07:18  1577.0\n",
       "8    9 2019-05-03 16:01:16  1592.0 2019-05-03 15:37:03  1587.0\n",
       "9   10 2019-05-03 16:36:08  1593.0 2019-05-03 16:14:29  1574.0"
      ]
     },
     "execution_count": 331,
     "metadata": {},
     "output_type": "execute_result"
    }
   ],
   "source": [
    "final_t.head(10)"
   ]
  },
  {
   "cell_type": "code",
   "execution_count": 332,
   "metadata": {},
   "outputs": [
    {
     "data": {
      "text/html": [
       "<div>\n",
       "<style scoped>\n",
       "    .dataframe tbody tr th:only-of-type {\n",
       "        vertical-align: middle;\n",
       "    }\n",
       "\n",
       "    .dataframe tbody tr th {\n",
       "        vertical-align: top;\n",
       "    }\n",
       "\n",
       "    .dataframe thead th {\n",
       "        text-align: right;\n",
       "    }\n",
       "</style>\n",
       "<table border=\"1\" class=\"dataframe\">\n",
       "  <thead>\n",
       "    <tr style=\"text-align: right;\">\n",
       "      <th></th>\n",
       "      <th>key</th>\n",
       "      <th>datetime_x</th>\n",
       "      <th>temp_x</th>\n",
       "      <th>datetime_y</th>\n",
       "      <th>temp_y</th>\n",
       "    </tr>\n",
       "  </thead>\n",
       "  <tbody>\n",
       "    <tr>\n",
       "      <th>2292</th>\n",
       "      <td>2489</td>\n",
       "      <td>2019-08-05 21:02:41</td>\n",
       "      <td>1579.0</td>\n",
       "      <td>2019-08-05 20:30:10</td>\n",
       "      <td>1613.0</td>\n",
       "    </tr>\n",
       "    <tr>\n",
       "      <th>2293</th>\n",
       "      <td>2490</td>\n",
       "      <td>2019-08-05 22:27:20</td>\n",
       "      <td>1619.0</td>\n",
       "      <td>2019-08-05 21:55:23</td>\n",
       "      <td>1602.0</td>\n",
       "    </tr>\n",
       "    <tr>\n",
       "      <th>2294</th>\n",
       "      <td>2492</td>\n",
       "      <td>2019-08-05 23:19:44</td>\n",
       "      <td>1595.0</td>\n",
       "      <td>2019-08-05 22:41:41</td>\n",
       "      <td>1618.0</td>\n",
       "    </tr>\n",
       "    <tr>\n",
       "      <th>2295</th>\n",
       "      <td>2493</td>\n",
       "      <td>2019-08-05 23:59:00</td>\n",
       "      <td>1594.0</td>\n",
       "      <td>2019-08-05 23:37:28</td>\n",
       "      <td>1599.0</td>\n",
       "    </tr>\n",
       "    <tr>\n",
       "      <th>2296</th>\n",
       "      <td>2494</td>\n",
       "      <td>2019-08-06 00:23:21</td>\n",
       "      <td>1591.0</td>\n",
       "      <td>2019-08-06 00:12:55</td>\n",
       "      <td>1585.0</td>\n",
       "    </tr>\n",
       "    <tr>\n",
       "      <th>2297</th>\n",
       "      <td>2495</td>\n",
       "      <td>2019-08-06 00:54:42</td>\n",
       "      <td>1591.0</td>\n",
       "      <td>2019-08-06 00:35:45</td>\n",
       "      <td>1570.0</td>\n",
       "    </tr>\n",
       "    <tr>\n",
       "      <th>2298</th>\n",
       "      <td>2496</td>\n",
       "      <td>2019-08-06 01:29:52</td>\n",
       "      <td>1591.0</td>\n",
       "      <td>2019-08-06 01:02:54</td>\n",
       "      <td>1554.0</td>\n",
       "    </tr>\n",
       "    <tr>\n",
       "      <th>2299</th>\n",
       "      <td>2497</td>\n",
       "      <td>2019-08-06 01:53:50</td>\n",
       "      <td>1589.0</td>\n",
       "      <td>2019-08-06 01:41:53</td>\n",
       "      <td>1571.0</td>\n",
       "    </tr>\n",
       "    <tr>\n",
       "      <th>2300</th>\n",
       "      <td>2498</td>\n",
       "      <td>2019-08-06 02:25:31</td>\n",
       "      <td>1594.0</td>\n",
       "      <td>2019-08-06 02:03:49</td>\n",
       "      <td>1591.0</td>\n",
       "    </tr>\n",
       "    <tr>\n",
       "      <th>2301</th>\n",
       "      <td>2499</td>\n",
       "      <td>2019-08-06 03:00:28</td>\n",
       "      <td>1603.0</td>\n",
       "      <td>2019-08-06 02:40:25</td>\n",
       "      <td>1569.0</td>\n",
       "    </tr>\n",
       "  </tbody>\n",
       "</table>\n",
       "</div>"
      ],
      "text/plain": [
       "       key          datetime_x  temp_x          datetime_y  temp_y\n",
       "2292  2489 2019-08-05 21:02:41  1579.0 2019-08-05 20:30:10  1613.0\n",
       "2293  2490 2019-08-05 22:27:20  1619.0 2019-08-05 21:55:23  1602.0\n",
       "2294  2492 2019-08-05 23:19:44  1595.0 2019-08-05 22:41:41  1618.0\n",
       "2295  2493 2019-08-05 23:59:00  1594.0 2019-08-05 23:37:28  1599.0\n",
       "2296  2494 2019-08-06 00:23:21  1591.0 2019-08-06 00:12:55  1585.0\n",
       "2297  2495 2019-08-06 00:54:42  1591.0 2019-08-06 00:35:45  1570.0\n",
       "2298  2496 2019-08-06 01:29:52  1591.0 2019-08-06 01:02:54  1554.0\n",
       "2299  2497 2019-08-06 01:53:50  1589.0 2019-08-06 01:41:53  1571.0\n",
       "2300  2498 2019-08-06 02:25:31  1594.0 2019-08-06 02:03:49  1591.0\n",
       "2301  2499 2019-08-06 03:00:28  1603.0 2019-08-06 02:40:25  1569.0"
      ]
     },
     "execution_count": 332,
     "metadata": {},
     "output_type": "execute_result"
    }
   ],
   "source": [
    "final_t.tail(10)"
   ]
  },
  {
   "cell_type": "markdown",
   "metadata": {},
   "source": [
    "Удаляю из датасета столбцы со временем, они не нужны для моделей:"
   ]
  },
  {
   "cell_type": "code",
   "execution_count": 333,
   "metadata": {},
   "outputs": [],
   "source": [
    "final_t = final_t.drop(['datetime_x', 'datetime_y'], axis=1)\n",
    "final_t = final_t.rename(columns = {'temp_x': 'end_temp', 'temp_y': 'start_temp'})"
   ]
  },
  {
   "cell_type": "code",
   "execution_count": 334,
   "metadata": {
    "scrolled": true
   },
   "outputs": [
    {
     "data": {
      "text/html": [
       "<div>\n",
       "<style scoped>\n",
       "    .dataframe tbody tr th:only-of-type {\n",
       "        vertical-align: middle;\n",
       "    }\n",
       "\n",
       "    .dataframe tbody tr th {\n",
       "        vertical-align: top;\n",
       "    }\n",
       "\n",
       "    .dataframe thead th {\n",
       "        text-align: right;\n",
       "    }\n",
       "</style>\n",
       "<table border=\"1\" class=\"dataframe\">\n",
       "  <thead>\n",
       "    <tr style=\"text-align: right;\">\n",
       "      <th></th>\n",
       "      <th>key</th>\n",
       "      <th>end_temp</th>\n",
       "      <th>start_temp</th>\n",
       "    </tr>\n",
       "  </thead>\n",
       "  <tbody>\n",
       "    <tr>\n",
       "      <th>0</th>\n",
       "      <td>1</td>\n",
       "      <td>1613.0</td>\n",
       "      <td>1571.0</td>\n",
       "    </tr>\n",
       "    <tr>\n",
       "      <th>1</th>\n",
       "      <td>2</td>\n",
       "      <td>1602.0</td>\n",
       "      <td>1581.0</td>\n",
       "    </tr>\n",
       "    <tr>\n",
       "      <th>2</th>\n",
       "      <td>3</td>\n",
       "      <td>1599.0</td>\n",
       "      <td>1596.0</td>\n",
       "    </tr>\n",
       "    <tr>\n",
       "      <th>3</th>\n",
       "      <td>4</td>\n",
       "      <td>1625.0</td>\n",
       "      <td>1601.0</td>\n",
       "    </tr>\n",
       "    <tr>\n",
       "      <th>4</th>\n",
       "      <td>5</td>\n",
       "      <td>1602.0</td>\n",
       "      <td>1576.0</td>\n",
       "    </tr>\n",
       "  </tbody>\n",
       "</table>\n",
       "</div>"
      ],
      "text/plain": [
       "   key  end_temp  start_temp\n",
       "0    1    1613.0      1571.0\n",
       "1    2    1602.0      1581.0\n",
       "2    3    1599.0      1596.0\n",
       "3    4    1625.0      1601.0\n",
       "4    5    1602.0      1576.0"
      ]
     },
     "execution_count": 334,
     "metadata": {},
     "output_type": "execute_result"
    }
   ],
   "source": [
    "final_t.head()"
   ]
  },
  {
   "cell_type": "markdown",
   "metadata": {},
   "source": [
    "**Вывод:**\n",
    "\n",
    "Типы данных и названия столбцов преведены в порядок. В таблице оставили данные, где в ключах есть первый и последний замер температуры (когда температуру замеряли до окончания последней итерации нагрева дугой)."
   ]
  },
  {
   "cell_type": "markdown",
   "metadata": {},
   "source": [
    "### 2.5. Создание новых признаков и объединение данных в финальную таблицу"
   ]
  },
  {
   "cell_type": "markdown",
   "metadata": {},
   "source": [
    "Найду `средние значений активной и реактивной мощности` для каждого ключа:"
   ]
  },
  {
   "cell_type": "code",
   "execution_count": 335,
   "metadata": {},
   "outputs": [
    {
     "data": {
      "text/html": [
       "<div>\n",
       "<style scoped>\n",
       "    .dataframe tbody tr th:only-of-type {\n",
       "        vertical-align: middle;\n",
       "    }\n",
       "\n",
       "    .dataframe tbody tr th {\n",
       "        vertical-align: top;\n",
       "    }\n",
       "\n",
       "    .dataframe thead th {\n",
       "        text-align: right;\n",
       "    }\n",
       "</style>\n",
       "<table border=\"1\" class=\"dataframe\">\n",
       "  <thead>\n",
       "    <tr style=\"text-align: right;\">\n",
       "      <th></th>\n",
       "      <th>mean_active_power</th>\n",
       "      <th>mean_reactive_power</th>\n",
       "    </tr>\n",
       "    <tr>\n",
       "      <th>key</th>\n",
       "      <th></th>\n",
       "      <th></th>\n",
       "    </tr>\n",
       "  </thead>\n",
       "  <tbody>\n",
       "    <tr>\n",
       "      <th>1</th>\n",
       "      <td>0.975629</td>\n",
       "      <td>0.636648</td>\n",
       "    </tr>\n",
       "    <tr>\n",
       "      <th>2</th>\n",
       "      <td>0.763150</td>\n",
       "      <td>0.499528</td>\n",
       "    </tr>\n",
       "    <tr>\n",
       "      <th>3</th>\n",
       "      <td>0.505176</td>\n",
       "      <td>0.319815</td>\n",
       "    </tr>\n",
       "    <tr>\n",
       "      <th>4</th>\n",
       "      <td>0.802313</td>\n",
       "      <td>0.515074</td>\n",
       "    </tr>\n",
       "    <tr>\n",
       "      <th>5</th>\n",
       "      <td>0.836793</td>\n",
       "      <td>0.563161</td>\n",
       "    </tr>\n",
       "    <tr>\n",
       "      <th>6</th>\n",
       "      <td>0.988777</td>\n",
       "      <td>0.672294</td>\n",
       "    </tr>\n",
       "    <tr>\n",
       "      <th>7</th>\n",
       "      <td>0.636844</td>\n",
       "      <td>0.390324</td>\n",
       "    </tr>\n",
       "    <tr>\n",
       "      <th>8</th>\n",
       "      <td>0.940689</td>\n",
       "      <td>0.670174</td>\n",
       "    </tr>\n",
       "    <tr>\n",
       "      <th>9</th>\n",
       "      <td>0.416390</td>\n",
       "      <td>0.295734</td>\n",
       "    </tr>\n",
       "    <tr>\n",
       "      <th>10</th>\n",
       "      <td>0.487270</td>\n",
       "      <td>0.416019</td>\n",
       "    </tr>\n",
       "  </tbody>\n",
       "</table>\n",
       "</div>"
      ],
      "text/plain": [
       "     mean_active_power  mean_reactive_power\n",
       "key                                        \n",
       "1             0.975629             0.636648\n",
       "2             0.763150             0.499528\n",
       "3             0.505176             0.319815\n",
       "4             0.802313             0.515074\n",
       "5             0.836793             0.563161\n",
       "6             0.988777             0.672294\n",
       "7             0.636844             0.390324\n",
       "8             0.940689             0.670174\n",
       "9             0.416390             0.295734\n",
       "10            0.487270             0.416019"
      ]
     },
     "execution_count": 335,
     "metadata": {},
     "output_type": "execute_result"
    }
   ],
   "source": [
    "data_arc_mean_reactive = pd.pivot_table(data_arc,\n",
    "                             values=['active_power','reactive_power'],\n",
    "                             index='key',\n",
    "                             aggfunc={'active_power': np.mean,\n",
    "                                      'reactive_power': np.mean})\n",
    "\n",
    "\n",
    "data_arc_mean_reactive.columns = ['mean_active_power','mean_reactive_power']\n",
    "\n",
    "data_arc_mean_reactive.head(10)"
   ]
  },
  {
   "cell_type": "markdown",
   "metadata": {},
   "source": [
    "Рассчитаю `длительность нагрева дугой`:"
   ]
  },
  {
   "cell_type": "code",
   "execution_count": 336,
   "metadata": {},
   "outputs": [
    {
     "data": {
      "text/html": [
       "<div>\n",
       "<style scoped>\n",
       "    .dataframe tbody tr th:only-of-type {\n",
       "        vertical-align: middle;\n",
       "    }\n",
       "\n",
       "    .dataframe tbody tr th {\n",
       "        vertical-align: top;\n",
       "    }\n",
       "\n",
       "    .dataframe thead th {\n",
       "        text-align: right;\n",
       "    }\n",
       "</style>\n",
       "<table border=\"1\" class=\"dataframe\">\n",
       "  <thead>\n",
       "    <tr style=\"text-align: right;\">\n",
       "      <th></th>\n",
       "      <th>key</th>\n",
       "      <th>start_arc_heating</th>\n",
       "      <th>end_arc_heating</th>\n",
       "      <th>active_power</th>\n",
       "      <th>reactive_power</th>\n",
       "      <th>arc_heating_time</th>\n",
       "      <th>minutes_arc_heating_time</th>\n",
       "    </tr>\n",
       "  </thead>\n",
       "  <tbody>\n",
       "    <tr>\n",
       "      <th>0</th>\n",
       "      <td>1</td>\n",
       "      <td>2019-05-03 11:02:14</td>\n",
       "      <td>2019-05-03 11:06:02</td>\n",
       "      <td>0.976059</td>\n",
       "      <td>0.687084</td>\n",
       "      <td>0 days 00:03:48</td>\n",
       "      <td>3.800000</td>\n",
       "    </tr>\n",
       "    <tr>\n",
       "      <th>1</th>\n",
       "      <td>1</td>\n",
       "      <td>2019-05-03 11:07:28</td>\n",
       "      <td>2019-05-03 11:10:33</td>\n",
       "      <td>0.805607</td>\n",
       "      <td>0.520285</td>\n",
       "      <td>0 days 00:03:05</td>\n",
       "      <td>3.083333</td>\n",
       "    </tr>\n",
       "    <tr>\n",
       "      <th>2</th>\n",
       "      <td>1</td>\n",
       "      <td>2019-05-03 11:11:44</td>\n",
       "      <td>2019-05-03 11:14:36</td>\n",
       "      <td>0.744363</td>\n",
       "      <td>0.498805</td>\n",
       "      <td>0 days 00:02:52</td>\n",
       "      <td>2.866667</td>\n",
       "    </tr>\n",
       "    <tr>\n",
       "      <th>3</th>\n",
       "      <td>1</td>\n",
       "      <td>2019-05-03 11:18:14</td>\n",
       "      <td>2019-05-03 11:24:19</td>\n",
       "      <td>1.659363</td>\n",
       "      <td>1.062669</td>\n",
       "      <td>0 days 00:06:05</td>\n",
       "      <td>6.083333</td>\n",
       "    </tr>\n",
       "    <tr>\n",
       "      <th>4</th>\n",
       "      <td>1</td>\n",
       "      <td>2019-05-03 11:26:09</td>\n",
       "      <td>2019-05-03 11:28:37</td>\n",
       "      <td>0.692755</td>\n",
       "      <td>0.414397</td>\n",
       "      <td>0 days 00:02:28</td>\n",
       "      <td>2.466667</td>\n",
       "    </tr>\n",
       "    <tr>\n",
       "      <th>5</th>\n",
       "      <td>2</td>\n",
       "      <td>2019-05-03 11:34:14</td>\n",
       "      <td>2019-05-03 11:36:31</td>\n",
       "      <td>0.438063</td>\n",
       "      <td>0.283043</td>\n",
       "      <td>0 days 00:02:17</td>\n",
       "      <td>2.283333</td>\n",
       "    </tr>\n",
       "    <tr>\n",
       "      <th>6</th>\n",
       "      <td>2</td>\n",
       "      <td>2019-05-03 11:38:50</td>\n",
       "      <td>2019-05-03 11:44:28</td>\n",
       "      <td>1.296415</td>\n",
       "      <td>0.892914</td>\n",
       "      <td>0 days 00:05:38</td>\n",
       "      <td>5.633333</td>\n",
       "    </tr>\n",
       "    <tr>\n",
       "      <th>7</th>\n",
       "      <td>2</td>\n",
       "      <td>2019-05-03 11:46:19</td>\n",
       "      <td>2019-05-03 11:48:25</td>\n",
       "      <td>0.490377</td>\n",
       "      <td>0.305281</td>\n",
       "      <td>0 days 00:02:06</td>\n",
       "      <td>2.100000</td>\n",
       "    </tr>\n",
       "    <tr>\n",
       "      <th>8</th>\n",
       "      <td>2</td>\n",
       "      <td>2019-05-03 11:49:48</td>\n",
       "      <td>2019-05-03 11:53:18</td>\n",
       "      <td>0.827743</td>\n",
       "      <td>0.516874</td>\n",
       "      <td>0 days 00:03:30</td>\n",
       "      <td>3.500000</td>\n",
       "    </tr>\n",
       "    <tr>\n",
       "      <th>9</th>\n",
       "      <td>3</td>\n",
       "      <td>2019-05-03 12:06:54</td>\n",
       "      <td>2019-05-03 12:11:34</td>\n",
       "      <td>1.062053</td>\n",
       "      <td>0.671494</td>\n",
       "      <td>0 days 00:04:40</td>\n",
       "      <td>4.666667</td>\n",
       "    </tr>\n",
       "  </tbody>\n",
       "</table>\n",
       "</div>"
      ],
      "text/plain": [
       "   key   start_arc_heating     end_arc_heating  active_power  reactive_power  \\\n",
       "0    1 2019-05-03 11:02:14 2019-05-03 11:06:02      0.976059        0.687084   \n",
       "1    1 2019-05-03 11:07:28 2019-05-03 11:10:33      0.805607        0.520285   \n",
       "2    1 2019-05-03 11:11:44 2019-05-03 11:14:36      0.744363        0.498805   \n",
       "3    1 2019-05-03 11:18:14 2019-05-03 11:24:19      1.659363        1.062669   \n",
       "4    1 2019-05-03 11:26:09 2019-05-03 11:28:37      0.692755        0.414397   \n",
       "5    2 2019-05-03 11:34:14 2019-05-03 11:36:31      0.438063        0.283043   \n",
       "6    2 2019-05-03 11:38:50 2019-05-03 11:44:28      1.296415        0.892914   \n",
       "7    2 2019-05-03 11:46:19 2019-05-03 11:48:25      0.490377        0.305281   \n",
       "8    2 2019-05-03 11:49:48 2019-05-03 11:53:18      0.827743        0.516874   \n",
       "9    3 2019-05-03 12:06:54 2019-05-03 12:11:34      1.062053        0.671494   \n",
       "\n",
       "  arc_heating_time  minutes_arc_heating_time  \n",
       "0  0 days 00:03:48                  3.800000  \n",
       "1  0 days 00:03:05                  3.083333  \n",
       "2  0 days 00:02:52                  2.866667  \n",
       "3  0 days 00:06:05                  6.083333  \n",
       "4  0 days 00:02:28                  2.466667  \n",
       "5  0 days 00:02:17                  2.283333  \n",
       "6  0 days 00:05:38                  5.633333  \n",
       "7  0 days 00:02:06                  2.100000  \n",
       "8  0 days 00:03:30                  3.500000  \n",
       "9  0 days 00:04:40                  4.666667  "
      ]
     },
     "execution_count": 336,
     "metadata": {},
     "output_type": "execute_result"
    }
   ],
   "source": [
    "data_arc['arc_heating_time'] = data_arc['end_arc_heating'] - data_arc['start_arc_heating']\n",
    "data_arc['minutes_arc_heating_time'] = data_arc['arc_heating_time'].dt.total_seconds()/60\n",
    "data_arc.head(10)"
   ]
  },
  {
   "cell_type": "markdown",
   "metadata": {},
   "source": [
    "Рассчитываю `общую длительность нагрева дуги`:"
   ]
  },
  {
   "cell_type": "code",
   "execution_count": 337,
   "metadata": {},
   "outputs": [],
   "source": [
    "duration_heating = data_arc.groupby('key')['minutes_arc_heating_time'].sum()"
   ]
  },
  {
   "cell_type": "code",
   "execution_count": 338,
   "metadata": {},
   "outputs": [
    {
     "data": {
      "text/plain": [
       "key\n",
       "1       18.300000\n",
       "2       13.516667\n",
       "3       10.916667\n",
       "4       12.350000\n",
       "5       14.483333\n",
       "          ...    \n",
       "3237    15.150000\n",
       "3238     9.100000\n",
       "3239    20.266667\n",
       "3240    13.983333\n",
       "3241    10.983333\n",
       "Name: minutes_arc_heating_time, Length: 3214, dtype: float64"
      ]
     },
     "execution_count": 338,
     "metadata": {},
     "output_type": "execute_result"
    }
   ],
   "source": [
    "duration_heating"
   ]
  },
  {
   "cell_type": "markdown",
   "metadata": {},
   "source": [
    "Рассчитаваю `количество нагревов` для каждого ключа:"
   ]
  },
  {
   "cell_type": "code",
   "execution_count": 339,
   "metadata": {},
   "outputs": [],
   "source": [
    "count_heating = data_arc.groupby('key')['key'].count().to_frame().rename(columns = {'key': 'count_heating'})"
   ]
  },
  {
   "cell_type": "code",
   "execution_count": 340,
   "metadata": {},
   "outputs": [
    {
     "data": {
      "text/html": [
       "<div>\n",
       "<style scoped>\n",
       "    .dataframe tbody tr th:only-of-type {\n",
       "        vertical-align: middle;\n",
       "    }\n",
       "\n",
       "    .dataframe tbody tr th {\n",
       "        vertical-align: top;\n",
       "    }\n",
       "\n",
       "    .dataframe thead th {\n",
       "        text-align: right;\n",
       "    }\n",
       "</style>\n",
       "<table border=\"1\" class=\"dataframe\">\n",
       "  <thead>\n",
       "    <tr style=\"text-align: right;\">\n",
       "      <th></th>\n",
       "      <th>count_heating</th>\n",
       "    </tr>\n",
       "    <tr>\n",
       "      <th>key</th>\n",
       "      <th></th>\n",
       "    </tr>\n",
       "  </thead>\n",
       "  <tbody>\n",
       "    <tr>\n",
       "      <th>1</th>\n",
       "      <td>5</td>\n",
       "    </tr>\n",
       "    <tr>\n",
       "      <th>2</th>\n",
       "      <td>4</td>\n",
       "    </tr>\n",
       "    <tr>\n",
       "      <th>3</th>\n",
       "      <td>5</td>\n",
       "    </tr>\n",
       "    <tr>\n",
       "      <th>4</th>\n",
       "      <td>4</td>\n",
       "    </tr>\n",
       "    <tr>\n",
       "      <th>5</th>\n",
       "      <td>4</td>\n",
       "    </tr>\n",
       "    <tr>\n",
       "      <th>...</th>\n",
       "      <td>...</td>\n",
       "    </tr>\n",
       "    <tr>\n",
       "      <th>3237</th>\n",
       "      <td>5</td>\n",
       "    </tr>\n",
       "    <tr>\n",
       "      <th>3238</th>\n",
       "      <td>3</td>\n",
       "    </tr>\n",
       "    <tr>\n",
       "      <th>3239</th>\n",
       "      <td>8</td>\n",
       "    </tr>\n",
       "    <tr>\n",
       "      <th>3240</th>\n",
       "      <td>5</td>\n",
       "    </tr>\n",
       "    <tr>\n",
       "      <th>3241</th>\n",
       "      <td>5</td>\n",
       "    </tr>\n",
       "  </tbody>\n",
       "</table>\n",
       "<p>3214 rows × 1 columns</p>\n",
       "</div>"
      ],
      "text/plain": [
       "      count_heating\n",
       "key                \n",
       "1                 5\n",
       "2                 4\n",
       "3                 5\n",
       "4                 4\n",
       "5                 4\n",
       "...             ...\n",
       "3237              5\n",
       "3238              3\n",
       "3239              8\n",
       "3240              5\n",
       "3241              5\n",
       "\n",
       "[3214 rows x 1 columns]"
      ]
     },
     "execution_count": 340,
     "metadata": {},
     "output_type": "execute_result"
    }
   ],
   "source": [
    "count_heating"
   ]
  },
  {
   "cell_type": "markdown",
   "metadata": {},
   "source": [
    "Начинаю объединять все таблицы в одну итоговую по единым ключам:"
   ]
  },
  {
   "cell_type": "code",
   "execution_count": 341,
   "metadata": {},
   "outputs": [],
   "source": [
    "final_t = final_t.merge(duration_heating, how='inner', on='key')\n",
    "final_t = final_t.merge(count_heating, how='inner', on='key')"
   ]
  },
  {
   "cell_type": "code",
   "execution_count": 342,
   "metadata": {},
   "outputs": [
    {
     "data": {
      "text/plain": [
       "(2302, 5)"
      ]
     },
     "execution_count": 342,
     "metadata": {},
     "output_type": "execute_result"
    }
   ],
   "source": [
    "final_t.shape"
   ]
  },
  {
   "cell_type": "code",
   "execution_count": 343,
   "metadata": {},
   "outputs": [],
   "source": [
    "final_t = final_t.merge(data_arc_mean_reactive, how='inner', on='key')"
   ]
  },
  {
   "cell_type": "code",
   "execution_count": 344,
   "metadata": {},
   "outputs": [
    {
     "data": {
      "text/plain": [
       "(2302, 7)"
      ]
     },
     "execution_count": 344,
     "metadata": {},
     "output_type": "execute_result"
    }
   ],
   "source": [
    "final_t.shape"
   ]
  },
  {
   "cell_type": "code",
   "execution_count": 345,
   "metadata": {},
   "outputs": [
    {
     "data": {
      "text/html": [
       "<div>\n",
       "<style scoped>\n",
       "    .dataframe tbody tr th:only-of-type {\n",
       "        vertical-align: middle;\n",
       "    }\n",
       "\n",
       "    .dataframe tbody tr th {\n",
       "        vertical-align: top;\n",
       "    }\n",
       "\n",
       "    .dataframe thead th {\n",
       "        text-align: right;\n",
       "    }\n",
       "</style>\n",
       "<table border=\"1\" class=\"dataframe\">\n",
       "  <thead>\n",
       "    <tr style=\"text-align: right;\">\n",
       "      <th></th>\n",
       "      <th>key</th>\n",
       "      <th>end_temp</th>\n",
       "      <th>start_temp</th>\n",
       "      <th>minutes_arc_heating_time</th>\n",
       "      <th>count_heating</th>\n",
       "      <th>mean_active_power</th>\n",
       "      <th>mean_reactive_power</th>\n",
       "    </tr>\n",
       "  </thead>\n",
       "  <tbody>\n",
       "    <tr>\n",
       "      <th>0</th>\n",
       "      <td>1</td>\n",
       "      <td>1613.0</td>\n",
       "      <td>1571.0</td>\n",
       "      <td>18.300000</td>\n",
       "      <td>5</td>\n",
       "      <td>0.975629</td>\n",
       "      <td>0.636648</td>\n",
       "    </tr>\n",
       "    <tr>\n",
       "      <th>1</th>\n",
       "      <td>2</td>\n",
       "      <td>1602.0</td>\n",
       "      <td>1581.0</td>\n",
       "      <td>13.516667</td>\n",
       "      <td>4</td>\n",
       "      <td>0.763150</td>\n",
       "      <td>0.499528</td>\n",
       "    </tr>\n",
       "    <tr>\n",
       "      <th>2</th>\n",
       "      <td>3</td>\n",
       "      <td>1599.0</td>\n",
       "      <td>1596.0</td>\n",
       "      <td>10.916667</td>\n",
       "      <td>5</td>\n",
       "      <td>0.505176</td>\n",
       "      <td>0.319815</td>\n",
       "    </tr>\n",
       "    <tr>\n",
       "      <th>3</th>\n",
       "      <td>4</td>\n",
       "      <td>1625.0</td>\n",
       "      <td>1601.0</td>\n",
       "      <td>12.350000</td>\n",
       "      <td>4</td>\n",
       "      <td>0.802313</td>\n",
       "      <td>0.515074</td>\n",
       "    </tr>\n",
       "    <tr>\n",
       "      <th>4</th>\n",
       "      <td>5</td>\n",
       "      <td>1602.0</td>\n",
       "      <td>1576.0</td>\n",
       "      <td>14.483333</td>\n",
       "      <td>4</td>\n",
       "      <td>0.836793</td>\n",
       "      <td>0.563161</td>\n",
       "    </tr>\n",
       "  </tbody>\n",
       "</table>\n",
       "</div>"
      ],
      "text/plain": [
       "   key  end_temp  start_temp  minutes_arc_heating_time  count_heating  \\\n",
       "0    1    1613.0      1571.0                 18.300000              5   \n",
       "1    2    1602.0      1581.0                 13.516667              4   \n",
       "2    3    1599.0      1596.0                 10.916667              5   \n",
       "3    4    1625.0      1601.0                 12.350000              4   \n",
       "4    5    1602.0      1576.0                 14.483333              4   \n",
       "\n",
       "   mean_active_power  mean_reactive_power  \n",
       "0           0.975629             0.636648  \n",
       "1           0.763150             0.499528  \n",
       "2           0.505176             0.319815  \n",
       "3           0.802313             0.515074  \n",
       "4           0.836793             0.563161  "
      ]
     },
     "execution_count": 345,
     "metadata": {},
     "output_type": "execute_result"
    }
   ],
   "source": [
    "final_t.head()"
   ]
  },
  {
   "cell_type": "markdown",
   "metadata": {},
   "source": [
    "Формирую таблицы со столбцами, где будет информация о количестве каждого испольуемого материала в ключе, для этого ниже использую функцию `get_materials`:"
   ]
  },
  {
   "cell_type": "code",
   "execution_count": 346,
   "metadata": {},
   "outputs": [],
   "source": [
    "def get_materials(data):\n",
    "    \"\"\"\n",
    "        Input: data - таблицы pd.DataFrame.\n",
    "        Output: Таблица с количеством используемых материалов в каждом ключе.\n",
    "        Description: Функция преобразования материалов в отдельные столбцы. Я использую метод pd.get_dummies. \n",
    "        Он выносит отдельный материал в отдельный столбец\n",
    "        и присваивает 1 если матрериал присутствует в наблюдении (ключе) и 0, если нет.\n",
    "    \"\"\"\n",
    "    materials = data['material'].unique()\n",
    "    material_encode_group = data.groupby(['key', 'material']).sum().reset_index()\n",
    "    \n",
    "    dummies = pd.get_dummies(material_encode_group['material'])\n",
    "    data_material_encode = pd.concat((material_encode_group, dummies), axis=1)\n",
    "    data_material_encode = data_material_encode.drop('material', axis=1)\n",
    "    \n",
    "    for material in materials:\n",
    "        data_material_encode.loc[data_material_encode[material] == 1, material] = data_material_encode['value']\n",
    "    \n",
    "    data_material_final = data_material_encode.groupby('key').sum()\n",
    "    data_material_final = data_material_final.drop('value', axis=1)    \n",
    "    \n",
    "    return data_material_final"
   ]
  },
  {
   "cell_type": "code",
   "execution_count": 347,
   "metadata": {},
   "outputs": [],
   "source": [
    "# Формирую таблицу с сыпучими материалами:\n",
    "\n",
    "data_bulk_final = get_materials(data_bulk_combined)"
   ]
  },
  {
   "cell_type": "code",
   "execution_count": 348,
   "metadata": {},
   "outputs": [
    {
     "data": {
      "text/html": [
       "<div>\n",
       "<style scoped>\n",
       "    .dataframe tbody tr th:only-of-type {\n",
       "        vertical-align: middle;\n",
       "    }\n",
       "\n",
       "    .dataframe tbody tr th {\n",
       "        vertical-align: top;\n",
       "    }\n",
       "\n",
       "    .dataframe thead th {\n",
       "        text-align: right;\n",
       "    }\n",
       "</style>\n",
       "<table border=\"1\" class=\"dataframe\">\n",
       "  <thead>\n",
       "    <tr style=\"text-align: right;\">\n",
       "      <th></th>\n",
       "      <th>Bulk 12</th>\n",
       "      <th>Bulk 14</th>\n",
       "      <th>Bulk 15</th>\n",
       "      <th>Bulk 3</th>\n",
       "      <th>Bulk 4</th>\n",
       "      <th>Bulk 6</th>\n",
       "    </tr>\n",
       "    <tr>\n",
       "      <th>key</th>\n",
       "      <th></th>\n",
       "      <th></th>\n",
       "      <th></th>\n",
       "      <th></th>\n",
       "      <th></th>\n",
       "      <th></th>\n",
       "    </tr>\n",
       "  </thead>\n",
       "  <tbody>\n",
       "    <tr>\n",
       "      <th>1</th>\n",
       "      <td>206.0</td>\n",
       "      <td>150.0</td>\n",
       "      <td>154.0</td>\n",
       "      <td>0.0</td>\n",
       "      <td>43.0</td>\n",
       "      <td>0.0</td>\n",
       "    </tr>\n",
       "    <tr>\n",
       "      <th>2</th>\n",
       "      <td>206.0</td>\n",
       "      <td>149.0</td>\n",
       "      <td>154.0</td>\n",
       "      <td>0.0</td>\n",
       "      <td>73.0</td>\n",
       "      <td>0.0</td>\n",
       "    </tr>\n",
       "    <tr>\n",
       "      <th>3</th>\n",
       "      <td>205.0</td>\n",
       "      <td>152.0</td>\n",
       "      <td>153.0</td>\n",
       "      <td>0.0</td>\n",
       "      <td>34.0</td>\n",
       "      <td>0.0</td>\n",
       "    </tr>\n",
       "    <tr>\n",
       "      <th>4</th>\n",
       "      <td>207.0</td>\n",
       "      <td>153.0</td>\n",
       "      <td>154.0</td>\n",
       "      <td>0.0</td>\n",
       "      <td>81.0</td>\n",
       "      <td>0.0</td>\n",
       "    </tr>\n",
       "    <tr>\n",
       "      <th>5</th>\n",
       "      <td>203.0</td>\n",
       "      <td>151.0</td>\n",
       "      <td>152.0</td>\n",
       "      <td>0.0</td>\n",
       "      <td>78.0</td>\n",
       "      <td>0.0</td>\n",
       "    </tr>\n",
       "  </tbody>\n",
       "</table>\n",
       "</div>"
      ],
      "text/plain": [
       "     Bulk 12  Bulk 14  Bulk 15  Bulk 3  Bulk 4  Bulk 6\n",
       "key                                                   \n",
       "1      206.0    150.0    154.0     0.0    43.0     0.0\n",
       "2      206.0    149.0    154.0     0.0    73.0     0.0\n",
       "3      205.0    152.0    153.0     0.0    34.0     0.0\n",
       "4      207.0    153.0    154.0     0.0    81.0     0.0\n",
       "5      203.0    151.0    152.0     0.0    78.0     0.0"
      ]
     },
     "execution_count": 348,
     "metadata": {},
     "output_type": "execute_result"
    }
   ],
   "source": [
    "data_bulk_final.head()"
   ]
  },
  {
   "cell_type": "code",
   "execution_count": 349,
   "metadata": {},
   "outputs": [],
   "source": [
    "# Формирую таблицу с проволочными материалами:\n",
    "\n",
    "data_wire_final = get_materials(data_wire_combined)"
   ]
  },
  {
   "cell_type": "code",
   "execution_count": 350,
   "metadata": {},
   "outputs": [
    {
     "data": {
      "text/html": [
       "<div>\n",
       "<style scoped>\n",
       "    .dataframe tbody tr th:only-of-type {\n",
       "        vertical-align: middle;\n",
       "    }\n",
       "\n",
       "    .dataframe tbody tr th {\n",
       "        vertical-align: top;\n",
       "    }\n",
       "\n",
       "    .dataframe thead th {\n",
       "        text-align: right;\n",
       "    }\n",
       "</style>\n",
       "<table border=\"1\" class=\"dataframe\">\n",
       "  <thead>\n",
       "    <tr style=\"text-align: right;\">\n",
       "      <th></th>\n",
       "      <th>Wire 1</th>\n",
       "      <th>Wire 2</th>\n",
       "    </tr>\n",
       "    <tr>\n",
       "      <th>key</th>\n",
       "      <th></th>\n",
       "      <th></th>\n",
       "    </tr>\n",
       "  </thead>\n",
       "  <tbody>\n",
       "    <tr>\n",
       "      <th>1</th>\n",
       "      <td>60.059998</td>\n",
       "      <td>0.000000</td>\n",
       "    </tr>\n",
       "    <tr>\n",
       "      <th>2</th>\n",
       "      <td>96.052315</td>\n",
       "      <td>0.000000</td>\n",
       "    </tr>\n",
       "    <tr>\n",
       "      <th>3</th>\n",
       "      <td>91.160157</td>\n",
       "      <td>0.000000</td>\n",
       "    </tr>\n",
       "    <tr>\n",
       "      <th>4</th>\n",
       "      <td>89.063515</td>\n",
       "      <td>0.000000</td>\n",
       "    </tr>\n",
       "    <tr>\n",
       "      <th>5</th>\n",
       "      <td>89.238236</td>\n",
       "      <td>9.114560</td>\n",
       "    </tr>\n",
       "    <tr>\n",
       "      <th>6</th>\n",
       "      <td>99.109917</td>\n",
       "      <td>9.114560</td>\n",
       "    </tr>\n",
       "    <tr>\n",
       "      <th>7</th>\n",
       "      <td>98.061600</td>\n",
       "      <td>0.000000</td>\n",
       "    </tr>\n",
       "    <tr>\n",
       "      <th>8</th>\n",
       "      <td>155.282394</td>\n",
       "      <td>0.000000</td>\n",
       "    </tr>\n",
       "    <tr>\n",
       "      <th>9</th>\n",
       "      <td>113.393279</td>\n",
       "      <td>9.143681</td>\n",
       "    </tr>\n",
       "    <tr>\n",
       "      <th>10</th>\n",
       "      <td>81.244796</td>\n",
       "      <td>12.376000</td>\n",
       "    </tr>\n",
       "  </tbody>\n",
       "</table>\n",
       "</div>"
      ],
      "text/plain": [
       "         Wire 1     Wire 2\n",
       "key                       \n",
       "1     60.059998   0.000000\n",
       "2     96.052315   0.000000\n",
       "3     91.160157   0.000000\n",
       "4     89.063515   0.000000\n",
       "5     89.238236   9.114560\n",
       "6     99.109917   9.114560\n",
       "7     98.061600   0.000000\n",
       "8    155.282394   0.000000\n",
       "9    113.393279   9.143681\n",
       "10    81.244796  12.376000"
      ]
     },
     "execution_count": 350,
     "metadata": {},
     "output_type": "execute_result"
    }
   ],
   "source": [
    "data_wire_final.head(10)"
   ]
  },
  {
   "cell_type": "markdown",
   "metadata": {},
   "source": [
    "Формирую `итоговую таблицу`, присоединяя таблицы методом `merge` по ключу:"
   ]
  },
  {
   "cell_type": "code",
   "execution_count": 351,
   "metadata": {},
   "outputs": [
    {
     "data": {
      "text/plain": [
       "(2227, 13)"
      ]
     },
     "execution_count": 351,
     "metadata": {},
     "output_type": "execute_result"
    }
   ],
   "source": [
    "final_t = final_t.merge(data_bulk_final, how='inner', on='key')\n",
    "final_t.shape"
   ]
  },
  {
   "cell_type": "code",
   "execution_count": 352,
   "metadata": {},
   "outputs": [
    {
     "data": {
      "text/plain": [
       "(2154, 15)"
      ]
     },
     "execution_count": 352,
     "metadata": {},
     "output_type": "execute_result"
    }
   ],
   "source": [
    "final_t = final_t.merge(data_wire_final, how='inner', on='key')\n",
    "final_t.shape"
   ]
  },
  {
   "cell_type": "markdown",
   "metadata": {},
   "source": [
    "Добавляю данные о продувке газами:"
   ]
  },
  {
   "cell_type": "code",
   "execution_count": 353,
   "metadata": {},
   "outputs": [
    {
     "data": {
      "text/html": [
       "<div>\n",
       "<style scoped>\n",
       "    .dataframe tbody tr th:only-of-type {\n",
       "        vertical-align: middle;\n",
       "    }\n",
       "\n",
       "    .dataframe tbody tr th {\n",
       "        vertical-align: top;\n",
       "    }\n",
       "\n",
       "    .dataframe thead th {\n",
       "        text-align: right;\n",
       "    }\n",
       "</style>\n",
       "<table border=\"1\" class=\"dataframe\">\n",
       "  <thead>\n",
       "    <tr style=\"text-align: right;\">\n",
       "      <th></th>\n",
       "      <th>key</th>\n",
       "      <th>gas</th>\n",
       "    </tr>\n",
       "  </thead>\n",
       "  <tbody>\n",
       "    <tr>\n",
       "      <th>0</th>\n",
       "      <td>1</td>\n",
       "      <td>29.749986</td>\n",
       "    </tr>\n",
       "    <tr>\n",
       "      <th>1</th>\n",
       "      <td>2</td>\n",
       "      <td>12.555561</td>\n",
       "    </tr>\n",
       "    <tr>\n",
       "      <th>2</th>\n",
       "      <td>3</td>\n",
       "      <td>28.554793</td>\n",
       "    </tr>\n",
       "    <tr>\n",
       "      <th>3</th>\n",
       "      <td>4</td>\n",
       "      <td>18.841219</td>\n",
       "    </tr>\n",
       "    <tr>\n",
       "      <th>4</th>\n",
       "      <td>5</td>\n",
       "      <td>5.413692</td>\n",
       "    </tr>\n",
       "    <tr>\n",
       "      <th>...</th>\n",
       "      <td>...</td>\n",
       "      <td>...</td>\n",
       "    </tr>\n",
       "    <tr>\n",
       "      <th>3234</th>\n",
       "      <td>3237</td>\n",
       "      <td>5.543905</td>\n",
       "    </tr>\n",
       "    <tr>\n",
       "      <th>3235</th>\n",
       "      <td>3238</td>\n",
       "      <td>6.745669</td>\n",
       "    </tr>\n",
       "    <tr>\n",
       "      <th>3236</th>\n",
       "      <td>3239</td>\n",
       "      <td>16.023518</td>\n",
       "    </tr>\n",
       "    <tr>\n",
       "      <th>3237</th>\n",
       "      <td>3240</td>\n",
       "      <td>11.863103</td>\n",
       "    </tr>\n",
       "    <tr>\n",
       "      <th>3238</th>\n",
       "      <td>3241</td>\n",
       "      <td>12.680959</td>\n",
       "    </tr>\n",
       "  </tbody>\n",
       "</table>\n",
       "<p>3239 rows × 2 columns</p>\n",
       "</div>"
      ],
      "text/plain": [
       "       key        gas\n",
       "0        1  29.749986\n",
       "1        2  12.555561\n",
       "2        3  28.554793\n",
       "3        4  18.841219\n",
       "4        5   5.413692\n",
       "...    ...        ...\n",
       "3234  3237   5.543905\n",
       "3235  3238   6.745669\n",
       "3236  3239  16.023518\n",
       "3237  3240  11.863103\n",
       "3238  3241  12.680959\n",
       "\n",
       "[3239 rows x 2 columns]"
      ]
     },
     "execution_count": 353,
     "metadata": {},
     "output_type": "execute_result"
    }
   ],
   "source": [
    "data_gas"
   ]
  },
  {
   "cell_type": "code",
   "execution_count": 354,
   "metadata": {},
   "outputs": [],
   "source": [
    "final_t = final_t.merge(data_gas, how='inner', on='key')"
   ]
  },
  {
   "cell_type": "code",
   "execution_count": 355,
   "metadata": {},
   "outputs": [
    {
     "data": {
      "text/plain": [
       "(2152, 16)"
      ]
     },
     "execution_count": 355,
     "metadata": {},
     "output_type": "execute_result"
    }
   ],
   "source": [
    "final_t.shape"
   ]
  },
  {
   "cell_type": "code",
   "execution_count": 356,
   "metadata": {
    "scrolled": true
   },
   "outputs": [
    {
     "data": {
      "text/plain": [
       "key                         0\n",
       "end_temp                    0\n",
       "start_temp                  0\n",
       "minutes_arc_heating_time    0\n",
       "count_heating               0\n",
       "mean_active_power           0\n",
       "mean_reactive_power         0\n",
       "Bulk 12                     0\n",
       "Bulk 14                     0\n",
       "Bulk 15                     0\n",
       "Bulk 3                      0\n",
       "Bulk 4                      0\n",
       "Bulk 6                      0\n",
       "Wire 1                      0\n",
       "Wire 2                      0\n",
       "gas                         0\n",
       "dtype: int64"
      ]
     },
     "execution_count": 356,
     "metadata": {},
     "output_type": "execute_result"
    }
   ],
   "source": [
    "final_t.isna().sum()"
   ]
  },
  {
   "cell_type": "code",
   "execution_count": 357,
   "metadata": {},
   "outputs": [
    {
     "data": {
      "text/html": [
       "<div>\n",
       "<style scoped>\n",
       "    .dataframe tbody tr th:only-of-type {\n",
       "        vertical-align: middle;\n",
       "    }\n",
       "\n",
       "    .dataframe tbody tr th {\n",
       "        vertical-align: top;\n",
       "    }\n",
       "\n",
       "    .dataframe thead th {\n",
       "        text-align: right;\n",
       "    }\n",
       "</style>\n",
       "<table border=\"1\" class=\"dataframe\">\n",
       "  <thead>\n",
       "    <tr style=\"text-align: right;\">\n",
       "      <th></th>\n",
       "      <th>key</th>\n",
       "      <th>end_temp</th>\n",
       "      <th>start_temp</th>\n",
       "      <th>minutes_arc_heating_time</th>\n",
       "      <th>count_heating</th>\n",
       "      <th>mean_active_power</th>\n",
       "      <th>mean_reactive_power</th>\n",
       "      <th>Bulk 12</th>\n",
       "      <th>Bulk 14</th>\n",
       "      <th>Bulk 15</th>\n",
       "      <th>Bulk 3</th>\n",
       "      <th>Bulk 4</th>\n",
       "      <th>Bulk 6</th>\n",
       "      <th>Wire 1</th>\n",
       "      <th>Wire 2</th>\n",
       "      <th>gas</th>\n",
       "    </tr>\n",
       "  </thead>\n",
       "  <tbody>\n",
       "    <tr>\n",
       "      <th>0</th>\n",
       "      <td>1</td>\n",
       "      <td>1613.0</td>\n",
       "      <td>1571.0</td>\n",
       "      <td>18.300000</td>\n",
       "      <td>5</td>\n",
       "      <td>0.975629</td>\n",
       "      <td>0.636648</td>\n",
       "      <td>206.0</td>\n",
       "      <td>150.0</td>\n",
       "      <td>154.0</td>\n",
       "      <td>0.0</td>\n",
       "      <td>43.0</td>\n",
       "      <td>0.0</td>\n",
       "      <td>60.059998</td>\n",
       "      <td>0.00000</td>\n",
       "      <td>29.749986</td>\n",
       "    </tr>\n",
       "    <tr>\n",
       "      <th>1</th>\n",
       "      <td>2</td>\n",
       "      <td>1602.0</td>\n",
       "      <td>1581.0</td>\n",
       "      <td>13.516667</td>\n",
       "      <td>4</td>\n",
       "      <td>0.763150</td>\n",
       "      <td>0.499528</td>\n",
       "      <td>206.0</td>\n",
       "      <td>149.0</td>\n",
       "      <td>154.0</td>\n",
       "      <td>0.0</td>\n",
       "      <td>73.0</td>\n",
       "      <td>0.0</td>\n",
       "      <td>96.052315</td>\n",
       "      <td>0.00000</td>\n",
       "      <td>12.555561</td>\n",
       "    </tr>\n",
       "    <tr>\n",
       "      <th>2</th>\n",
       "      <td>3</td>\n",
       "      <td>1599.0</td>\n",
       "      <td>1596.0</td>\n",
       "      <td>10.916667</td>\n",
       "      <td>5</td>\n",
       "      <td>0.505176</td>\n",
       "      <td>0.319815</td>\n",
       "      <td>205.0</td>\n",
       "      <td>152.0</td>\n",
       "      <td>153.0</td>\n",
       "      <td>0.0</td>\n",
       "      <td>34.0</td>\n",
       "      <td>0.0</td>\n",
       "      <td>91.160157</td>\n",
       "      <td>0.00000</td>\n",
       "      <td>28.554793</td>\n",
       "    </tr>\n",
       "    <tr>\n",
       "      <th>3</th>\n",
       "      <td>4</td>\n",
       "      <td>1625.0</td>\n",
       "      <td>1601.0</td>\n",
       "      <td>12.350000</td>\n",
       "      <td>4</td>\n",
       "      <td>0.802313</td>\n",
       "      <td>0.515074</td>\n",
       "      <td>207.0</td>\n",
       "      <td>153.0</td>\n",
       "      <td>154.0</td>\n",
       "      <td>0.0</td>\n",
       "      <td>81.0</td>\n",
       "      <td>0.0</td>\n",
       "      <td>89.063515</td>\n",
       "      <td>0.00000</td>\n",
       "      <td>18.841219</td>\n",
       "    </tr>\n",
       "    <tr>\n",
       "      <th>4</th>\n",
       "      <td>5</td>\n",
       "      <td>1602.0</td>\n",
       "      <td>1576.0</td>\n",
       "      <td>14.483333</td>\n",
       "      <td>4</td>\n",
       "      <td>0.836793</td>\n",
       "      <td>0.563161</td>\n",
       "      <td>203.0</td>\n",
       "      <td>151.0</td>\n",
       "      <td>152.0</td>\n",
       "      <td>0.0</td>\n",
       "      <td>78.0</td>\n",
       "      <td>0.0</td>\n",
       "      <td>89.238236</td>\n",
       "      <td>9.11456</td>\n",
       "      <td>5.413692</td>\n",
       "    </tr>\n",
       "    <tr>\n",
       "      <th>...</th>\n",
       "      <td>...</td>\n",
       "      <td>...</td>\n",
       "      <td>...</td>\n",
       "      <td>...</td>\n",
       "      <td>...</td>\n",
       "      <td>...</td>\n",
       "      <td>...</td>\n",
       "      <td>...</td>\n",
       "      <td>...</td>\n",
       "      <td>...</td>\n",
       "      <td>...</td>\n",
       "      <td>...</td>\n",
       "      <td>...</td>\n",
       "      <td>...</td>\n",
       "      <td>...</td>\n",
       "      <td>...</td>\n",
       "    </tr>\n",
       "    <tr>\n",
       "      <th>2147</th>\n",
       "      <td>2495</td>\n",
       "      <td>1591.0</td>\n",
       "      <td>1570.0</td>\n",
       "      <td>12.050000</td>\n",
       "      <td>4</td>\n",
       "      <td>0.802673</td>\n",
       "      <td>0.590194</td>\n",
       "      <td>256.0</td>\n",
       "      <td>129.0</td>\n",
       "      <td>223.0</td>\n",
       "      <td>21.0</td>\n",
       "      <td>0.0</td>\n",
       "      <td>0.0</td>\n",
       "      <td>89.150879</td>\n",
       "      <td>0.00000</td>\n",
       "      <td>7.125735</td>\n",
       "    </tr>\n",
       "    <tr>\n",
       "      <th>2148</th>\n",
       "      <td>2496</td>\n",
       "      <td>1591.0</td>\n",
       "      <td>1554.0</td>\n",
       "      <td>15.666667</td>\n",
       "      <td>6</td>\n",
       "      <td>0.700511</td>\n",
       "      <td>0.468364</td>\n",
       "      <td>256.0</td>\n",
       "      <td>129.0</td>\n",
       "      <td>226.0</td>\n",
       "      <td>0.0</td>\n",
       "      <td>63.0</td>\n",
       "      <td>0.0</td>\n",
       "      <td>114.179527</td>\n",
       "      <td>0.00000</td>\n",
       "      <td>9.412616</td>\n",
       "    </tr>\n",
       "    <tr>\n",
       "      <th>2149</th>\n",
       "      <td>2497</td>\n",
       "      <td>1589.0</td>\n",
       "      <td>1571.0</td>\n",
       "      <td>9.483333</td>\n",
       "      <td>3</td>\n",
       "      <td>0.737460</td>\n",
       "      <td>0.617090</td>\n",
       "      <td>230.0</td>\n",
       "      <td>124.0</td>\n",
       "      <td>226.0</td>\n",
       "      <td>0.0</td>\n",
       "      <td>85.0</td>\n",
       "      <td>0.0</td>\n",
       "      <td>94.086723</td>\n",
       "      <td>9.04800</td>\n",
       "      <td>6.271699</td>\n",
       "    </tr>\n",
       "    <tr>\n",
       "      <th>2150</th>\n",
       "      <td>2498</td>\n",
       "      <td>1594.0</td>\n",
       "      <td>1591.0</td>\n",
       "      <td>12.500000</td>\n",
       "      <td>5</td>\n",
       "      <td>0.681745</td>\n",
       "      <td>0.471086</td>\n",
       "      <td>206.0</td>\n",
       "      <td>129.0</td>\n",
       "      <td>207.0</td>\n",
       "      <td>90.0</td>\n",
       "      <td>0.0</td>\n",
       "      <td>0.0</td>\n",
       "      <td>118.110717</td>\n",
       "      <td>0.00000</td>\n",
       "      <td>14.953657</td>\n",
       "    </tr>\n",
       "    <tr>\n",
       "      <th>2151</th>\n",
       "      <td>2499</td>\n",
       "      <td>1603.0</td>\n",
       "      <td>1569.0</td>\n",
       "      <td>14.716667</td>\n",
       "      <td>4</td>\n",
       "      <td>1.024608</td>\n",
       "      <td>0.694466</td>\n",
       "      <td>233.0</td>\n",
       "      <td>126.0</td>\n",
       "      <td>227.0</td>\n",
       "      <td>47.0</td>\n",
       "      <td>0.0</td>\n",
       "      <td>0.0</td>\n",
       "      <td>110.160958</td>\n",
       "      <td>50.00528</td>\n",
       "      <td>11.336151</td>\n",
       "    </tr>\n",
       "  </tbody>\n",
       "</table>\n",
       "<p>2152 rows × 16 columns</p>\n",
       "</div>"
      ],
      "text/plain": [
       "       key  end_temp  start_temp  minutes_arc_heating_time  count_heating  \\\n",
       "0        1    1613.0      1571.0                 18.300000              5   \n",
       "1        2    1602.0      1581.0                 13.516667              4   \n",
       "2        3    1599.0      1596.0                 10.916667              5   \n",
       "3        4    1625.0      1601.0                 12.350000              4   \n",
       "4        5    1602.0      1576.0                 14.483333              4   \n",
       "...    ...       ...         ...                       ...            ...   \n",
       "2147  2495    1591.0      1570.0                 12.050000              4   \n",
       "2148  2496    1591.0      1554.0                 15.666667              6   \n",
       "2149  2497    1589.0      1571.0                  9.483333              3   \n",
       "2150  2498    1594.0      1591.0                 12.500000              5   \n",
       "2151  2499    1603.0      1569.0                 14.716667              4   \n",
       "\n",
       "      mean_active_power  mean_reactive_power  Bulk 12  Bulk 14  Bulk 15  \\\n",
       "0              0.975629             0.636648    206.0    150.0    154.0   \n",
       "1              0.763150             0.499528    206.0    149.0    154.0   \n",
       "2              0.505176             0.319815    205.0    152.0    153.0   \n",
       "3              0.802313             0.515074    207.0    153.0    154.0   \n",
       "4              0.836793             0.563161    203.0    151.0    152.0   \n",
       "...                 ...                  ...      ...      ...      ...   \n",
       "2147           0.802673             0.590194    256.0    129.0    223.0   \n",
       "2148           0.700511             0.468364    256.0    129.0    226.0   \n",
       "2149           0.737460             0.617090    230.0    124.0    226.0   \n",
       "2150           0.681745             0.471086    206.0    129.0    207.0   \n",
       "2151           1.024608             0.694466    233.0    126.0    227.0   \n",
       "\n",
       "      Bulk 3  Bulk 4  Bulk 6      Wire 1    Wire 2        gas  \n",
       "0        0.0    43.0     0.0   60.059998   0.00000  29.749986  \n",
       "1        0.0    73.0     0.0   96.052315   0.00000  12.555561  \n",
       "2        0.0    34.0     0.0   91.160157   0.00000  28.554793  \n",
       "3        0.0    81.0     0.0   89.063515   0.00000  18.841219  \n",
       "4        0.0    78.0     0.0   89.238236   9.11456   5.413692  \n",
       "...      ...     ...     ...         ...       ...        ...  \n",
       "2147    21.0     0.0     0.0   89.150879   0.00000   7.125735  \n",
       "2148     0.0    63.0     0.0  114.179527   0.00000   9.412616  \n",
       "2149     0.0    85.0     0.0   94.086723   9.04800   6.271699  \n",
       "2150    90.0     0.0     0.0  118.110717   0.00000  14.953657  \n",
       "2151    47.0     0.0     0.0  110.160958  50.00528  11.336151  \n",
       "\n",
       "[2152 rows x 16 columns]"
      ]
     },
     "execution_count": 357,
     "metadata": {},
     "output_type": "execute_result"
    }
   ],
   "source": [
    "final_t"
   ]
  },
  {
   "cell_type": "markdown",
   "metadata": {},
   "source": [
    "### 2.6. Проверка признаков на мультиколлинеарность"
   ]
  },
  {
   "cell_type": "code",
   "execution_count": 358,
   "metadata": {},
   "outputs": [],
   "source": [
    "# оценим на мультиколлинеарность факторов\n",
    "# две переменные коллинеарны, когда они находятся между собой в линейной зависимости, если коэффициент корреляции более 0,7\n",
    "# Корреляция Пирсона измеряет лишь линейные связи, это важно лишь для линейных моделей:"
   ]
  },
  {
   "cell_type": "code",
   "execution_count": 359,
   "metadata": {},
   "outputs": [
    {
     "data": {
      "image/png": "[encoded data removed]",
      "text/plain": [
       "<Figure size 1152x1152 with 2 Axes>"
      ]
     },
     "metadata": {
      "needs_background": "light"
     },
     "output_type": "display_data"
    }
   ],
   "source": [
    "# Посмортрим коэффициенты корреляции итогового фрейма:\n",
    "corr = final_t.corr()\n",
    "plt.figure(figsize=(16, 16))\n",
    "sns.heatmap(corr, annot=True, fmt='.2g', vmin=-1, vmax=1, center= 0, cmap= 'coolwarm')\n",
    "plt.title('Heatmap of Dataset', fontsize=20)\n",
    "plt.xlabel('Features', fontsize = 16)\n",
    "plt.ylabel('Features', fontsize = 16);"
   ]
  },
  {
   "cell_type": "markdown",
   "metadata": {},
   "source": [
    "Выявлены высококоллинеарные признаки `minutes_arc_heating_time` и `count_heating` (коэффициент коллинеарности 0.8), оно и логично.  Предлогаю создать отедльный датасет для линейной регресии и удалить столбец `count_heating`, т.к. корреляция Пирсона измеряет лишь линейные связи, это важно лишь для линейных моделей."
   ]
  },
  {
   "cell_type": "code",
   "execution_count": 360,
   "metadata": {
    "scrolled": true
   },
   "outputs": [
    {
     "data": {
      "text/plain": [
       "(2152, 14)"
      ]
     },
     "execution_count": 360,
     "metadata": {},
     "output_type": "execute_result"
    }
   ],
   "source": [
    "# Удаляю столбец count_heating и создаю отдельный датасет для линейной регрессии:\n",
    "\n",
    "final_linreg = final_t.drop(['key', 'count_heating'], axis=1)\n",
    "final_linreg.shape"
   ]
  },
  {
   "cell_type": "code",
   "execution_count": 361,
   "metadata": {},
   "outputs": [],
   "source": [
    "# Для остальных моделей оставляю полный датасет, исключаю лишь столбец key:\n",
    "\n",
    "final = final_t.drop(['key'], axis=1)"
   ]
  },
  {
   "cell_type": "code",
   "execution_count": 362,
   "metadata": {},
   "outputs": [
    {
     "data": {
      "text/plain": [
       "end_temp                    1.000000\n",
       "start_temp                  0.286935\n",
       "minutes_arc_heating_time    0.287041\n",
       "count_heating               0.190571\n",
       "mean_active_power           0.205944\n",
       "mean_reactive_power         0.146704\n",
       "Bulk 12                     0.277201\n",
       "Bulk 14                     0.111808\n",
       "Bulk 15                     0.275526\n",
       "Bulk 3                     -0.046611\n",
       "Bulk 4                      0.192523\n",
       "Bulk 6                     -0.203898\n",
       "Wire 1                      0.324016\n",
       "Wire 2                     -0.230180\n",
       "gas                         0.053025\n",
       "Name: end_temp, dtype: float64"
      ]
     },
     "execution_count": 362,
     "metadata": {},
     "output_type": "execute_result"
    }
   ],
   "source": [
    "final.corr()['end_temp'] "
   ]
  },
  {
   "cell_type": "code",
   "execution_count": 363,
   "metadata": {},
   "outputs": [
    {
     "data": {
      "text/plain": [
       "(2152, 15)"
      ]
     },
     "execution_count": 363,
     "metadata": {},
     "output_type": "execute_result"
    }
   ],
   "source": [
    "final.shape"
   ]
  },
  {
   "cell_type": "code",
   "execution_count": 364,
   "metadata": {},
   "outputs": [
    {
     "data": {
      "text/plain": [
       "Index(['end_temp', 'start_temp', 'minutes_arc_heating_time', 'count_heating',\n",
       "       'mean_active_power', 'mean_reactive_power', 'Bulk 12', 'Bulk 14',\n",
       "       'Bulk 15', 'Bulk 3', 'Bulk 4', 'Bulk 6', 'Wire 1', 'Wire 2', 'gas'],\n",
       "      dtype='object')"
      ]
     },
     "execution_count": 364,
     "metadata": {},
     "output_type": "execute_result"
    }
   ],
   "source": [
    "final.columns"
   ]
  },
  {
   "cell_type": "markdown",
   "metadata": {},
   "source": [
    "**Вывод по Предобработке данных**\n",
    "\n",
    "- Данные предобработаны, созданы новые признаки, сформирован финальный датасет.\n",
    "\n",
    "- Выявлены высококоллинеарные признаки `minutes_arc_heating_time` и `count_heating` (коэффициент коллинеарности 0.8), оно и логично. \n",
    "\n",
    "- Удален столбец `count_heating`.\n",
    "\n",
    "- Таким образом, данные подготовлены для обучения к модели. Целевым признаком является столбец end_temp. Остальные столбцы будут использованы для предсказания."
   ]
  },
  {
   "cell_type": "code",
   "execution_count": 365,
   "metadata": {},
   "outputs": [
    {
     "data": {
      "text/html": [
       "<div>\n",
       "<style scoped>\n",
       "    .dataframe tbody tr th:only-of-type {\n",
       "        vertical-align: middle;\n",
       "    }\n",
       "\n",
       "    .dataframe tbody tr th {\n",
       "        vertical-align: top;\n",
       "    }\n",
       "\n",
       "    .dataframe thead th {\n",
       "        text-align: right;\n",
       "    }\n",
       "</style>\n",
       "<table border=\"1\" class=\"dataframe\">\n",
       "  <thead>\n",
       "    <tr style=\"text-align: right;\">\n",
       "      <th></th>\n",
       "      <th>end_temp</th>\n",
       "      <th>start_temp</th>\n",
       "      <th>minutes_arc_heating_time</th>\n",
       "      <th>count_heating</th>\n",
       "      <th>mean_active_power</th>\n",
       "      <th>mean_reactive_power</th>\n",
       "      <th>Bulk 12</th>\n",
       "      <th>Bulk 14</th>\n",
       "      <th>Bulk 15</th>\n",
       "      <th>Bulk 3</th>\n",
       "      <th>Bulk 4</th>\n",
       "      <th>Bulk 6</th>\n",
       "      <th>Wire 1</th>\n",
       "      <th>Wire 2</th>\n",
       "      <th>gas</th>\n",
       "    </tr>\n",
       "  </thead>\n",
       "  <tbody>\n",
       "    <tr>\n",
       "      <th>0</th>\n",
       "      <td>1613.0</td>\n",
       "      <td>1571.0</td>\n",
       "      <td>18.300000</td>\n",
       "      <td>5</td>\n",
       "      <td>0.975629</td>\n",
       "      <td>0.636648</td>\n",
       "      <td>206.0</td>\n",
       "      <td>150.0</td>\n",
       "      <td>154.0</td>\n",
       "      <td>0.0</td>\n",
       "      <td>43.0</td>\n",
       "      <td>0.0</td>\n",
       "      <td>60.059998</td>\n",
       "      <td>0.0</td>\n",
       "      <td>29.749986</td>\n",
       "    </tr>\n",
       "    <tr>\n",
       "      <th>1</th>\n",
       "      <td>1602.0</td>\n",
       "      <td>1581.0</td>\n",
       "      <td>13.516667</td>\n",
       "      <td>4</td>\n",
       "      <td>0.763150</td>\n",
       "      <td>0.499528</td>\n",
       "      <td>206.0</td>\n",
       "      <td>149.0</td>\n",
       "      <td>154.0</td>\n",
       "      <td>0.0</td>\n",
       "      <td>73.0</td>\n",
       "      <td>0.0</td>\n",
       "      <td>96.052315</td>\n",
       "      <td>0.0</td>\n",
       "      <td>12.555561</td>\n",
       "    </tr>\n",
       "    <tr>\n",
       "      <th>2</th>\n",
       "      <td>1599.0</td>\n",
       "      <td>1596.0</td>\n",
       "      <td>10.916667</td>\n",
       "      <td>5</td>\n",
       "      <td>0.505176</td>\n",
       "      <td>0.319815</td>\n",
       "      <td>205.0</td>\n",
       "      <td>152.0</td>\n",
       "      <td>153.0</td>\n",
       "      <td>0.0</td>\n",
       "      <td>34.0</td>\n",
       "      <td>0.0</td>\n",
       "      <td>91.160157</td>\n",
       "      <td>0.0</td>\n",
       "      <td>28.554793</td>\n",
       "    </tr>\n",
       "  </tbody>\n",
       "</table>\n",
       "</div>"
      ],
      "text/plain": [
       "   end_temp  start_temp  minutes_arc_heating_time  count_heating  \\\n",
       "0    1613.0      1571.0                 18.300000              5   \n",
       "1    1602.0      1581.0                 13.516667              4   \n",
       "2    1599.0      1596.0                 10.916667              5   \n",
       "\n",
       "   mean_active_power  mean_reactive_power  Bulk 12  Bulk 14  Bulk 15  Bulk 3  \\\n",
       "0           0.975629             0.636648    206.0    150.0    154.0     0.0   \n",
       "1           0.763150             0.499528    206.0    149.0    154.0     0.0   \n",
       "2           0.505176             0.319815    205.0    152.0    153.0     0.0   \n",
       "\n",
       "   Bulk 4  Bulk 6     Wire 1  Wire 2        gas  \n",
       "0    43.0     0.0  60.059998     0.0  29.749986  \n",
       "1    73.0     0.0  96.052315     0.0  12.555561  \n",
       "2    34.0     0.0  91.160157     0.0  28.554793  "
      ]
     },
     "execution_count": 365,
     "metadata": {},
     "output_type": "execute_result"
    }
   ],
   "source": [
    "final.head(3)"
   ]
  },
  {
   "cell_type": "markdown",
   "metadata": {},
   "source": [
    "## 3. Обучение разных моделей и оценка их качества с помощью кросс-валидации. Выбор лучшей модели и проверка её на тестовой выборке. Проверка модели на адекватность. "
   ]
  },
  {
   "cell_type": "markdown",
   "metadata": {},
   "source": [
    "### 3.1. Подготовка данных к обучению:"
   ]
  },
  {
   "cell_type": "markdown",
   "metadata": {},
   "source": [
    "#### Разобью данные на `train` и `test` к соотношению 75:25. Выберем количество кросс-валидаций равным 5:"
   ]
  },
  {
   "cell_type": "code",
   "execution_count": 366,
   "metadata": {},
   "outputs": [],
   "source": [
    "features = final.drop('end_temp', axis=1)\n",
    "features_linreg = final_linreg.drop('end_temp', axis=1)\n",
    "target = final['end_temp']\n",
    " \n",
    "\n",
    "\n",
    "features_train, features_test, features_train_linreg, features_test_linreg, target_train, target_test = train_test_split(\n",
    "                                                            features,\n",
    "                                                            features_linreg,\n",
    "                                                            target, \n",
    "                                                            test_size=0.25, \n",
    "                                                            random_state=RANDOM_STATE)\n",
    "cv_counts = 5"
   ]
  },
  {
   "cell_type": "markdown",
   "metadata": {},
   "source": [
    "Проверю размеры выборок:"
   ]
  },
  {
   "cell_type": "code",
   "execution_count": 367,
   "metadata": {},
   "outputs": [
    {
     "name": "stdout",
     "output_type": "stream",
     "text": [
      "Размер тренериующей выборки: (1614, 14) (1614,)\n",
      "Размер тестовой выборки: (538, 14) (538,)\n",
      "Размер тренериующей выборки датасета для линейной регрессии: (1614, 13) (1614,)\n",
      "Размер тестовой выборки датасета для линейной регрессии: (538, 13) (538,)\n"
     ]
    }
   ],
   "source": [
    "print('Размер тренериующей выборки:', features_train.shape, target_train.shape)\n",
    "print('Размер тестовой выборки:', features_test.shape, target_test.shape)\n",
    "print('Размер тренериующей выборки датасета для линейной регрессии:', features_train_linreg.shape, target_train.shape)\n",
    "print('Размер тестовой выборки датасета для линейной регрессии:',  features_test_linreg.shape, target_test.shape)"
   ]
  },
  {
   "cell_type": "markdown",
   "metadata": {},
   "source": [
    "### 3.2. Обучение и кросс-валидация моделей на тренировочной выборке, выбор лучшей модели"
   ]
  },
  {
   "cell_type": "markdown",
   "metadata": {},
   "source": [
    "#### LinearRegression"
   ]
  },
  {
   "cell_type": "code",
   "execution_count": 368,
   "metadata": {},
   "outputs": [],
   "source": [
    "lr_model = LinearRegression(fit_intercept=True, normalize=True)"
   ]
  },
  {
   "cell_type": "code",
   "execution_count": 369,
   "metadata": {},
   "outputs": [
    {
     "name": "stdout",
     "output_type": "stream",
     "text": [
      "# Train for mean_absolute_error\n",
      "\n",
      "Mean MAE from CV of LinearRegression: 6.138953963982029\n"
     ]
    }
   ],
   "source": [
    "print('# Train for mean_absolute_error')\n",
    "print()\n",
    "cv_MAE_LR = (cross_val_score(lr_model, \n",
    "                             features_train_linreg, \n",
    "                             target_train, \n",
    "                             cv=cv_counts, \n",
    "                             scoring='neg_mean_absolute_error').mean() * -1)\n",
    "print(f\"Mean MAE from CV of LinearRegression: {cv_MAE_LR}\")"
   ]
  },
  {
   "cell_type": "markdown",
   "metadata": {},
   "source": [
    "#### RandomForestRegressor"
   ]
  },
  {
   "cell_type": "code",
   "execution_count": 370,
   "metadata": {},
   "outputs": [],
   "source": [
    "random_forest_model = RandomForestRegressor(random_state=RANDOM_STATE)"
   ]
  },
  {
   "cell_type": "code",
   "execution_count": 371,
   "metadata": {},
   "outputs": [
    {
     "data": {
      "text/plain": [
       "RandomizedSearchCV(cv=5, error_score='raise-deprecating',\n",
       "                   estimator=RandomForestRegressor(bootstrap=True,\n",
       "                                                   criterion='mse',\n",
       "                                                   max_depth=None,\n",
       "                                                   max_features='auto',\n",
       "                                                   max_leaf_nodes=None,\n",
       "                                                   min_impurity_decrease=0.0,\n",
       "                                                   min_impurity_split=None,\n",
       "                                                   min_samples_leaf=1,\n",
       "                                                   min_samples_split=2,\n",
       "                                                   min_weight_fraction_leaf=0.0,\n",
       "                                                   n_estimators='warn',\n",
       "                                                   n_jobs=None, oob_score=False,\n",
       "                                                   random_state=80822,\n",
       "                                                   verbose=0,\n",
       "                                                   warm_start=False),\n",
       "                   iid='warn', n_iter=10, n_jobs=None,\n",
       "                   param_distributions={'max_depth': range(2, 10),\n",
       "                                        'n_estimators': range(20, 60)},\n",
       "                   pre_dispatch='2*n_jobs', random_state=80822, refit=True,\n",
       "                   return_train_score=False, scoring='neg_mean_absolute_error',\n",
       "                   verbose=0)"
      ]
     },
     "execution_count": 371,
     "metadata": {},
     "output_type": "execute_result"
    }
   ],
   "source": [
    "params = {'max_depth':range(2,10),\n",
    "          'n_estimators': range(20,60),\n",
    "         }\n",
    "\n",
    "best_forest = RandomizedSearchCV(random_forest_model,\n",
    "                                 param_distributions = params,\n",
    "                                 scoring = 'neg_mean_absolute_error',\n",
    "                                 random_state=RANDOM_STATE,\n",
    "                                 cv=cv_counts\n",
    "                                )\n",
    "\n",
    "best_forest.fit(features_train, target_train)"
   ]
  },
  {
   "cell_type": "code",
   "execution_count": 372,
   "metadata": {},
   "outputs": [
    {
     "name": "stdout",
     "output_type": "stream",
     "text": [
      "Лучшие гиперпараметры для RandomForestRegressor: {'n_estimators': 51, 'max_depth': 9}\n",
      "Mean MAE from CV of RandomForestRegressor: 6.180365948724428\n"
     ]
    }
   ],
   "source": [
    "cv_MAE_RF = np.negative(best_forest.best_score_)\n",
    "\n",
    "print(f\"Лучшие гиперпараметры для RandomForestRegressor:\", best_forest.best_params_)\n",
    "print(f\"Mean MAE from CV of RandomForestRegressor:\", cv_MAE_RF)"
   ]
  },
  {
   "cell_type": "code",
   "execution_count": 373,
   "metadata": {},
   "outputs": [],
   "source": [
    "# print('# Train for mean_absolute_error')\n",
    "# print()\n",
    "# cv_MAE_RF = (cross_val_score(random_forest_model, \n",
    "#                              features_train, \n",
    "#                              target_train, \n",
    "#                              cv=cv_counts, \n",
    "#                              scoring='neg_mean_absolute_error').mean() * -1)\n",
    "# print(f\"Mean MAE from CV of RandomForestRegressor: {cv_MAE_RF}\")"
   ]
  },
  {
   "cell_type": "markdown",
   "metadata": {},
   "source": [
    "#### Градиентный бустинг CatBoostRegressor"
   ]
  },
  {
   "cell_type": "code",
   "execution_count": 374,
   "metadata": {},
   "outputs": [],
   "source": [
    "cat_boost_model = CatBoostRegressor(loss_function='MAE', \n",
    "                                    eval_metric='MAE',\n",
    "                                    verbose=False, \n",
    "                                    random_seed=RANDOM_STATE)"
   ]
  },
  {
   "cell_type": "code",
   "execution_count": 375,
   "metadata": {},
   "outputs": [
    {
     "data": {
      "text/plain": [
       "RandomizedSearchCV(cv=5, error_score='raise-deprecating',\n",
       "                   estimator=<catboost.core.CatBoostRegressor object at 0x00000187C232DA48>,\n",
       "                   iid='warn', n_iter=10, n_jobs=None,\n",
       "                   param_distributions={'iterations': range(10, 150, 10),\n",
       "                                        'learning_rate': [0.05, 0.08, 0.09,\n",
       "                                                          0.1]},\n",
       "                   pre_dispatch='2*n_jobs', random_state=80822, refit=True,\n",
       "                   return_train_score=False, scoring='neg_mean_absolute_error',\n",
       "                   verbose=0)"
      ]
     },
     "execution_count": 375,
     "metadata": {},
     "output_type": "execute_result"
    }
   ],
   "source": [
    "params={'learning_rate': [0.05, 0.08, 0.09, 0.1],\n",
    "        'iterations': range(10, 150, 10)\n",
    "       }\n",
    "\n",
    "best_cat = RandomizedSearchCV(cat_boost_model,\n",
    "                                 param_distributions = params,\n",
    "                                 scoring = 'neg_mean_absolute_error',\n",
    "                                 random_state=RANDOM_STATE,\n",
    "                                 cv=cv_counts\n",
    "                                )\n",
    "\n",
    "best_cat.fit(features_train, target_train)"
   ]
  },
  {
   "cell_type": "code",
   "execution_count": 376,
   "metadata": {},
   "outputs": [
    {
     "name": "stdout",
     "output_type": "stream",
     "text": [
      "Лучшие гиперпараметры для CatBoostRegressor: {'learning_rate': 0.08, 'iterations': 120}\n",
      "Mean MAE from CV of CatBoostRegressor: 6.013932616842607\n"
     ]
    }
   ],
   "source": [
    "cv_MAE_Cat = np.negative(best_cat.best_score_)\n",
    "\n",
    "print(f\"Лучшие гиперпараметры для CatBoostRegressor:\", best_cat.best_params_)\n",
    "print(f\"Mean MAE from CV of CatBoostRegressor:\", cv_MAE_Cat)"
   ]
  },
  {
   "cell_type": "code",
   "execution_count": 377,
   "metadata": {},
   "outputs": [],
   "source": [
    "# print('# Train for mean_absolute_error')\n",
    "# print()\n",
    "# cv_MAE_Cat = (cross_val_score(cat_boost_model, \n",
    "#                              features_train, \n",
    "#                              target_train, \n",
    "#                              cv=cv_counts, \n",
    "#                              scoring='neg_mean_absolute_error').mean() * -1)\n",
    "# print(f\"Mean MAE from CV of CatBoostRegressor: {cv_MAE_Cat}\")"
   ]
  },
  {
   "cell_type": "markdown",
   "metadata": {},
   "source": [
    "#### LGBMRegressor"
   ]
  },
  {
   "cell_type": "code",
   "execution_count": 378,
   "metadata": {},
   "outputs": [],
   "source": [
    "lbgm_model = LGBMRegressor(random_state=RANDOM_STATE) "
   ]
  },
  {
   "cell_type": "code",
   "execution_count": 379,
   "metadata": {},
   "outputs": [
    {
     "name": "stdout",
     "output_type": "stream",
     "text": [
      "[LightGBM] [Warning] Unknown parameter: iterations\n",
      "[LightGBM] [Warning] Unknown parameter: iterations\n",
      "[LightGBM] [Warning] Unknown parameter: iterations\n",
      "[LightGBM] [Warning] Unknown parameter: iterations\n",
      "[LightGBM] [Warning] Unknown parameter: iterations\n",
      "[LightGBM] [Warning] Unknown parameter: iterations\n",
      "[LightGBM] [Warning] Unknown parameter: iterations\n",
      "[LightGBM] [Warning] Unknown parameter: iterations\n",
      "[LightGBM] [Warning] Unknown parameter: iterations\n",
      "[LightGBM] [Warning] Unknown parameter: iterations\n",
      "[LightGBM] [Warning] Unknown parameter: iterations\n",
      "[LightGBM] [Warning] Unknown parameter: iterations\n",
      "[LightGBM] [Warning] Unknown parameter: iterations\n",
      "[LightGBM] [Warning] Unknown parameter: iterations\n",
      "[LightGBM] [Warning] Unknown parameter: iterations\n",
      "[LightGBM] [Warning] Unknown parameter: iterations\n",
      "[LightGBM] [Warning] Unknown parameter: iterations\n",
      "[LightGBM] [Warning] Unknown parameter: iterations\n",
      "[LightGBM] [Warning] Unknown parameter: iterations\n",
      "[LightGBM] [Warning] Unknown parameter: iterations\n",
      "[LightGBM] [Warning] Unknown parameter: iterations\n",
      "[LightGBM] [Warning] Unknown parameter: iterations\n",
      "[LightGBM] [Warning] Unknown parameter: iterations\n",
      "[LightGBM] [Warning] Unknown parameter: iterations\n",
      "[LightGBM] [Warning] Unknown parameter: iterations\n",
      "[LightGBM] [Warning] Unknown parameter: iterations\n",
      "[LightGBM] [Warning] Unknown parameter: iterations\n",
      "[LightGBM] [Warning] Unknown parameter: iterations\n",
      "[LightGBM] [Warning] Unknown parameter: iterations\n",
      "[LightGBM] [Warning] Unknown parameter: iterations\n",
      "[LightGBM] [Warning] Unknown parameter: iterations\n",
      "[LightGBM] [Warning] Unknown parameter: iterations\n",
      "[LightGBM] [Warning] Unknown parameter: iterations\n",
      "[LightGBM] [Warning] Unknown parameter: iterations\n",
      "[LightGBM] [Warning] Unknown parameter: iterations\n",
      "[LightGBM] [Warning] Unknown parameter: iterations\n",
      "[LightGBM] [Warning] Unknown parameter: iterations\n",
      "[LightGBM] [Warning] Unknown parameter: iterations\n",
      "[LightGBM] [Warning] Unknown parameter: iterations\n",
      "[LightGBM] [Warning] Unknown parameter: iterations\n",
      "[LightGBM] [Warning] Unknown parameter: iterations\n",
      "[LightGBM] [Warning] Unknown parameter: iterations\n",
      "[LightGBM] [Warning] Unknown parameter: iterations\n",
      "[LightGBM] [Warning] Unknown parameter: iterations\n",
      "[LightGBM] [Warning] Unknown parameter: iterations\n",
      "[LightGBM] [Warning] Unknown parameter: iterations\n",
      "[LightGBM] [Warning] Unknown parameter: iterations\n",
      "[LightGBM] [Warning] Unknown parameter: iterations\n",
      "[LightGBM] [Warning] Unknown parameter: iterations\n",
      "[LightGBM] [Warning] Unknown parameter: iterations\n"
     ]
    },
    {
     "data": {
      "text/plain": [
       "RandomizedSearchCV(cv=5, error_score='raise-deprecating',\n",
       "                   estimator=LGBMRegressor(boosting_type='gbdt',\n",
       "                                           class_weight=None,\n",
       "                                           colsample_bytree=1.0,\n",
       "                                           importance_type='split',\n",
       "                                           learning_rate=0.1, max_depth=-1,\n",
       "                                           min_child_samples=20,\n",
       "                                           min_child_weight=0.001,\n",
       "                                           min_split_gain=0.0, n_estimators=100,\n",
       "                                           n_jobs=-1, num_leaves=31,\n",
       "                                           objective=None, random_state=80822,\n",
       "                                           reg_alpha=0.0, reg_lambda=0.0,\n",
       "                                           silent='warn', subsample=1.0,\n",
       "                                           subsample_for_bin=200000,\n",
       "                                           subsample_freq=0),\n",
       "                   iid='warn', n_iter=10, n_jobs=None,\n",
       "                   param_distributions={'iterations': range(10, 150, 10),\n",
       "                                        'learning_rate': [0.04, 0.07, 0.09,\n",
       "                                                          0.1]},\n",
       "                   pre_dispatch='2*n_jobs', random_state=80822, refit=True,\n",
       "                   return_train_score=False, scoring='neg_mean_absolute_error',\n",
       "                   verbose=0)"
      ]
     },
     "execution_count": 379,
     "metadata": {},
     "output_type": "execute_result"
    }
   ],
   "source": [
    "params={'learning_rate': [0.04, 0.07, 0.09, 0.1],\n",
    "        'iterations': range(10, 150, 10)\n",
    "       }\n",
    "\n",
    "best_lbgm = RandomizedSearchCV(lbgm_model,\n",
    "                                 param_distributions = params,\n",
    "                                 scoring = 'neg_mean_absolute_error',\n",
    "                                 random_state=RANDOM_STATE,\n",
    "                                 cv=cv_counts\n",
    "                                )\n",
    "\n",
    "best_lbgm.fit(features_train, target_train)"
   ]
  },
  {
   "cell_type": "code",
   "execution_count": 380,
   "metadata": {},
   "outputs": [
    {
     "name": "stdout",
     "output_type": "stream",
     "text": [
      "Лучшие гиперпараметры для LGBMRegressor: {'learning_rate': 0.04, 'iterations': 120}\n",
      "Mean MAE from CV of LGBMRegressor: 6.0342980892710765\n"
     ]
    }
   ],
   "source": [
    "cv_MAE_LGBM = np.negative(best_lbgm.best_score_)\n",
    "\n",
    "print(f\"Лучшие гиперпараметры для LGBMRegressor:\", best_lbgm.best_params_)\n",
    "print(f\"Mean MAE from CV of LGBMRegressor:\", cv_MAE_LGBM)"
   ]
  },
  {
   "cell_type": "code",
   "execution_count": 381,
   "metadata": {},
   "outputs": [],
   "source": [
    "# print('# Train for mean_absolute_error')\n",
    "# print()\n",
    "# cv_MAE_LGBM = (cross_val_score(lbgm_model, \n",
    "#                              features_train, \n",
    "#                              target_train, \n",
    "#                              cv=cv_counts, \n",
    "#                              scoring='neg_mean_absolute_error').mean() * -1)\n",
    "# print(f\"Mean MAE from CV of LGBMRegressor: {cv_MAE_LGBM}\")"
   ]
  },
  {
   "cell_type": "markdown",
   "metadata": {},
   "source": [
    "<div class=\"alert alert-info\"> <b>Комментарий студента:</b> Добавила таблицу с метриками на кросс-валидации: </div>"
   ]
  },
  {
   "cell_type": "code",
   "execution_count": 383,
   "metadata": {},
   "outputs": [
    {
     "data": {
      "text/html": [
       "<div>\n",
       "<style scoped>\n",
       "    .dataframe tbody tr th:only-of-type {\n",
       "        vertical-align: middle;\n",
       "    }\n",
       "\n",
       "    .dataframe tbody tr th {\n",
       "        vertical-align: top;\n",
       "    }\n",
       "\n",
       "    .dataframe thead th {\n",
       "        text-align: right;\n",
       "    }\n",
       "</style>\n",
       "<table border=\"1\" class=\"dataframe\">\n",
       "  <thead>\n",
       "    <tr style=\"text-align: right;\">\n",
       "      <th></th>\n",
       "      <th>MAE при кросс-валидации на train</th>\n",
       "    </tr>\n",
       "  </thead>\n",
       "  <tbody>\n",
       "    <tr>\n",
       "      <th>CatBoostRegressor</th>\n",
       "      <td>6.013933</td>\n",
       "    </tr>\n",
       "    <tr>\n",
       "      <th>LGBMRegressor</th>\n",
       "      <td>6.034298</td>\n",
       "    </tr>\n",
       "    <tr>\n",
       "      <th>LinearRegression</th>\n",
       "      <td>6.138954</td>\n",
       "    </tr>\n",
       "    <tr>\n",
       "      <th>RandomForestRegressor</th>\n",
       "      <td>6.180366</td>\n",
       "    </tr>\n",
       "  </tbody>\n",
       "</table>\n",
       "</div>"
      ],
      "text/plain": [
       "                       MAE при кросс-валидации на train\n",
       "CatBoostRegressor                              6.013933\n",
       "LGBMRegressor                                  6.034298\n",
       "LinearRegression                               6.138954\n",
       "RandomForestRegressor                          6.180366"
      ]
     },
     "execution_count": 383,
     "metadata": {},
     "output_type": "execute_result"
    }
   ],
   "source": [
    "index = ['LinearRegression',\n",
    "         'RandomForestRegressor',\n",
    "         'CatBoostRegressor',\n",
    "         'LGBMRegressor']\n",
    "\n",
    "data = {'MAE при кросс-валидации на train' : [cv_MAE_LR,\n",
    "                     cv_MAE_RF,\n",
    "                     cv_MAE_Cat,\n",
    "                     cv_MAE_LGBM]}\n",
    "\n",
    "scores_data = pd.DataFrame(data=data, index=index)\n",
    "scores_data.sort_values(by='MAE при кросс-валидации на train', ascending=True)"
   ]
  },
  {
   "cell_type": "markdown",
   "metadata": {},
   "source": [
    "**Вывод**\n",
    "\n",
    "Лучшая baseline model - CatBoostRegressor, MAE на тренирововчной выборке = 6.013933. Проверим ее на тестовой выборке."
   ]
  },
  {
   "cell_type": "markdown",
   "metadata": {},
   "source": [
    "Перед проверкой лучшей модели на тесте, посмотрю важность признаков:"
   ]
  },
  {
   "cell_type": "code",
   "execution_count": 384,
   "metadata": {},
   "outputs": [
    {
     "data": {
      "image/png": "[encoded data removed]",
      "text/plain": [
       "<Figure size 720x720 with 1 Axes>"
      ]
     },
     "metadata": {
      "needs_background": "light"
     },
     "output_type": "display_data"
    }
   ],
   "source": [
    "from sklearn.feature_selection import mutual_info_classif\n",
    "\n",
    "importances = mutual_info_classif(features, target, random_state=RANDOM_STATE)\n",
    "\n",
    "feature_importances = pd.Series(importances, features.columns[0:len(features.columns)])\n",
    "feature_importances = feature_importances.sort_values()\n",
    "\n",
    "plt.figure(figsize=(10,10))\n",
    "feature_importances.plot(kind='barh')\n",
    "plt.show()"
   ]
  },
  {
   "cell_type": "markdown",
   "metadata": {},
   "source": [
    "### 3.3. Проверка CatBoostRegressor на тестовой выборке:"
   ]
  },
  {
   "cell_type": "code",
   "execution_count": 385,
   "metadata": {},
   "outputs": [
    {
     "name": "stdout",
     "output_type": "stream",
     "text": [
      "MAE CatBoostRegressor на тестовой выборке: 5.609467131978483\n"
     ]
    }
   ],
   "source": [
    "cat_boost_model.fit(features_train, target_train)\n",
    "cb_test_pred = cat_boost_model.predict(features_test)\n",
    "\n",
    "print(f\"MAE CatBoostRegressor на тестовой выборке: {mean_absolute_error(target_test, cb_test_pred)}\")"
   ]
  },
  {
   "cell_type": "markdown",
   "metadata": {},
   "source": [
    "### Проверка на адекватность: обучу константную модель и сделаю предсказание."
   ]
  },
  {
   "cell_type": "code",
   "execution_count": 386,
   "metadata": {},
   "outputs": [],
   "source": [
    "constant_model = DummyRegressor(strategy=\"mean\")\n",
    "\n",
    "# `mean`, всегда предсказывает среднее значение тренировочного набора"
   ]
  },
  {
   "cell_type": "code",
   "execution_count": 387,
   "metadata": {},
   "outputs": [
    {
     "data": {
      "text/plain": [
       "DummyRegressor(constant=None, quantile=None, strategy='mean')"
      ]
     },
     "execution_count": 387,
     "metadata": {},
     "output_type": "execute_result"
    }
   ],
   "source": [
    "constant_model.fit(features_train, target_train)"
   ]
  },
  {
   "cell_type": "markdown",
   "metadata": {},
   "source": [
    "Получу предсказание константной модели:"
   ]
  },
  {
   "cell_type": "code",
   "execution_count": 388,
   "metadata": {},
   "outputs": [],
   "source": [
    "constant_pred = constant_model.predict(features_test)"
   ]
  },
  {
   "cell_type": "code",
   "execution_count": 389,
   "metadata": {},
   "outputs": [
    {
     "name": "stdout",
     "output_type": "stream",
     "text": [
      "MAE константной модели на тестовой выборке: 7.5616814766702065\n"
     ]
    }
   ],
   "source": [
    "print(f\"MAE константной модели на тестовой выборке: {mean_absolute_error(target_test, constant_pred)}\")"
   ]
  },
  {
   "cell_type": "markdown",
   "metadata": {},
   "source": [
    "#### Вывод по поиску модели:\n",
    "\n",
    "- Итоговое MAE `случайной модели` : 7.5616814766702065.\n",
    "\n",
    "- Итоговое MAE, выбранной модели `CatBoostRegressor`: 5.609467131978483, что существенно ниже.\n",
    "\n",
    " Следует считать, что выбранная модель `справляется лучше` случайной."
   ]
  },
  {
   "cell_type": "markdown",
   "metadata": {},
   "source": [
    "## Вывод по проекту:"
   ]
  },
  {
   "cell_type": "markdown",
   "metadata": {},
   "source": [
    "**1.** Была проведен **исследовательский анализ и предобработка данных** , в ходе которого было выявлено:\n",
    "\n",
    "- Найдены отрицательная аномалия в реактивной мощности и пропуки в данных.\n",
    "\n",
    "- Обнаружено, что требуется заменить название столбцов в соответсвии со стандартами PEP8 и тип хронения данных столбцов (дата в datetime).\n",
    "\n",
    "- Найдены редкоиспользуемые сыпучие и проволочные материалы (те, что используются в менее 10% случаях). \n",
    "\n",
    "\n",
    "**2.** Проведена **предобработка данных**:\n",
    "\n",
    "- Данные предобработаны, приведены к нужному формату и типу хранения.\n",
    "\n",
    "- Созданы новые признаки, сформирован финальный датасет.\n",
    "\n",
    "- В ходе проверки на мультиколлинеарность - выявлены высококоллинеарные признаки `minutes_arc_heating_time` и `count_heating` (коэффициент коллинеарности 0.8), один столбец был удален - `count_heating`.\n",
    "\n",
    "\n",
    "**3.** В ходе **построения модели**:\n",
    "\n",
    "- Данные были подготовлены к обучению.\n",
    "- Выведена метрика качества MAE.\n",
    "- Осуществлен выбор наиболее подходящей модели для оценки эффективной работы.\n",
    "- Наилучшая модель (CatBoostRegressor) проверена на тестовой выборке.\n",
    "- Модель прошла проверку на адекватность, сравнением со случайно предсказывающей моделью.\n",
    "- Подготовлен прототип модели машинного обучения для металлургического предприятия, предсказывающий температуру стали."
   ]
  },
  {
   "cell_type": "markdown",
   "metadata": {},
   "source": [
    "# Отчёт по проекту"
   ]
  },
  {
   "cell_type": "markdown",
   "metadata": {},
   "source": [
    "   Передо мной встала задача оптимизировать производственные расходы металлургического комбината ООО «Так закаляем сталь». Комбинат решил уменьшить потребление электроэнергии на этапе обработки стали. Мне предстояло построить модель, которая *предскажет температуру стали*.\n",
    "   \n",
    "   \n",
    "   \n",
    "   **1 этап.** Я внимательно изучила этапы обработки стали, выяснила, что сталь обрабатывают в металлическом ковше вместимостью около 100 тонн. Расплавленную сталь заливают в ковш и подогревают до нужной температуры графитовыми электродами. Из сплава выводится сера (десульфурация), добавлением примесей корректируется химический состав и отбираются пробы. Сталь легируют — изменяют её состав — подавая куски сплава из бункера для сыпучих материалов или проволоку через специальный трайб-аппарат. Перед тем как первый раз ввести легирующие добавки, измеряют температуру стали и производят её химический анализ. Потом температуру на несколько минут повышают, добавляют легирующие материалы и продувают сплав инертным газом. Затем его перемешивают и снова проводят измерения. Такой цикл повторяется до достижения целевого химического состава и оптимальной температуры плавки. Тогда расплавленная сталь отправляется на доводку металла или поступает в машину непрерывной разливки. Оттуда готовый продукт выходит в виде заготовок-слябов.\n",
    "   \n",
    "   \n",
    "   \n",
    "   \n",
    "   **2 этап.** Затем я получила данные, состоящие из отдельных файлов, которые включали в себя:\n",
    "\n",
    "- `data_arc.csv` — данные об электродах;\n",
    "- `data_bulk.csv` — данные о подаче сыпучих материалов (объём);\n",
    "- `data_bulk_time.csv` *—* данные о подаче сыпучих материалов (время);\n",
    "- `data_gas.csv` — данные о продувке сплава газом;\n",
    "- `data_temp.csv` — результаты измерения температуры, содержащий в себе `целевой признак`;\n",
    "- `data_wire.csv` — данные о проволочных материалах (объём);\n",
    "- `data_wire_time.csv` — данные о проволочных материалах (время).\n",
    "\n",
    "   Во всех файлах столбец `key` содержал номер партии. В файлах было несколько строк с одинаковым значением key: они соответствовали разным итерациям обработки.\n",
    "\n",
    "\n",
    "\n",
    " \n",
    "   **3 этап.** Далее я принялась за **исследовательский анализ данных**: импортировав необходимые библиотеки и открыв сами файлы с данными, я выяснила, что во всех таблицах, на этапе предоработки,  мне потребуется переименовать названия столбцов в соответвии с общепринятыми стандартами PEP8, столбцы, содержащие дату привести к нужному типу (datetime). \n",
    "   \n",
    "   - Исследовав таблицу `date_arc`, я обнаружила выброс - отрицательное значение реактивной мощности (в одной из итераций первого ключа), а также смогла визуализировать аномалию с помощью графика. Также, я выяснила, что чаще всего бывает 4-5 итераций нагрева для одной партии (ключа).\n",
    "   \n",
    "   - Исследуя данные о сыпучих материалах `data_bulk` и `data_bulk_time`, я выяснила, что обе таблицы содержат аналогичную структуру данных, описывают одни и те же объекты - сыпучие материалы (Bulk 1 - Bulk15), \"пропуски\" в данных означают, что какой-то сыпучий материал не использовался в процессе производства той или иной партии. Я решила узнать, есть ли редкоиспользуемые сыпучие материалы по средним не нулевым значениям, и обнаружила, что в *менее 10%* партий используются сыпучие материалы Bulk 1, 11, 10, 5, 7, 2, 9, 13, 8. Я решила не использовать такие редкоиспользуемые материалы для построения модели.\n",
    "   \n",
    "   - Изучив данные о продувке сплава газом `data_gas`, аномалий я не обнаружила.\n",
    "   \n",
    "   - Самой ответсвенной частью анализа стало исследование таблицы измерения температуры `data_temp`, ведь там находился целевой признак - последний замер температуры в ключе. В данных было много пропусков (2901), на этапе предобработки было решено избавиться от них, а также удостовериться в том, что во всех итоговых ключах есть замер начальной температуры и последней, если где-то такие условия не учтены, то удалить такие данные. Посмотрев график распределения температуры, я заметила низкие значения температур (менее 1500 градусов), от них я тоже решила избавиться на этапе предобработки.\n",
    "   \n",
    "   - Проводя исследование данных о проволочных материалах `data_wire` и `data_wire_time`, обнаружила, что их структура хранения данных полностью аналогичны таблицам data_bulk и data_bulk_time. Поэтому, как и ранее, я обнаружила много редкоиспользуемых проволочных материалов. Из 9 проволочных материалов самые частоиспользуемые были Wire 1 Wire 2. От остальных было решено избавиться.\n",
    "   \n",
    "   \n",
    "   \n",
    "   \n",
    " **4 этап.** Затем, составив примерный план решения задачи, я приступила к этапу **предобработки данных**:\n",
    "   \n",
    "   - Столбцы всех таблиц переименовала (назвала английским языком, прописными буквами, без пробелов, \"верблюжим\" типом), данные привела к нужному типу (дата в datetime).\n",
    "\n",
    "   - Из таблицы `data_arc` заменила отрицательную аномалию в реактивной мощности на адекватное значение (для замены выброса расситала коэффициент зависимоти - отношение active_power к reactive_power в каждом наблюдении в ключе, взяла среднюю полученных значений коэффициентов и множила на значение active_power, получила нужное значение reactive_power). \n",
    "   \n",
    "   - Объединила таблицы  `data_bulk` и `data_bulk_time`. Удалила редкоиспольщуемые сыпучие материалы: Bulk 1, 11, 10, 5, 7, 2, 9, 13, 8. А также, написав функциию по предобработке дынных о материалах, я получила объединенную таблицу частоиспользуемых сыпучих материалов. Затем, такие же действия и функцию применила в отношении данных о проволочных материалах `data_wire` и `data_wire_time`, получив объединенную таблицу частоиспользуемых проволочных материалов, включив самые популярные - Wire 1 Wire 2. Из таблиц я удалила столбцы со временем, они мне не потребуются.\n",
    "   \n",
    "   - Из таблицы `data_temp` удалила ключи (key), у которых:\n",
    "\n",
    "- Не было последнего замера температур, когда температуру замеряли до окончания последней итерации нагрева дугой. \n",
    "- Был только один замер температуры.\n",
    "- Ключи, где температуры начала и конца нагрева были равны.\n",
    "\n",
    " Затем удалила низкие температуры (менее 1500 градусов).\n",
    "   \n",
    "   - Далее я объединила все таблицы в *одну итоговую по единым ключам*. \n",
    "   \n",
    "   - Приступила к созданию *новых признаков и объединение данных в финальную таблицу*. Мною были созданны признаки: `средние значения активной и реактивной мощности` для каждого ключа, `длительность нагрева дугой`, `общую длительность нагрева дуги`, `количество нагревов` для каждого ключа, а также вынесла в итоговую таблицу столбцы о количестве каждого испольуемого материала в ключе, написав функцию, где использовала метод pd.get_dummies. Он выносит отдельный материал в отдельный столбец и присваивает 1 если матрериал присутствует в наблюдении (ключе) и 0, если нет. А далее я заменяла 1 на 'value', а после суммирую по ключу. Получаю красивую таблицу по всем материалам, которую тоже присоеденила к итоговой таблице.\n",
    "   \n",
    "   - Посмортрела коэффициенты корреляции итогового фрейма: обнаружила высококоллинеарные признаки `minutes_arc_heating_time` и `count_heating` (коэффициент коллинеарности 0.8). Так как это критично для линейных моделей, я удалила столбец `count_heating`.\n",
    "   \n",
    "   - Таким образом, данные были подготовлены для обучения. Целевым признаком стал столбец `end_temp`. \n",
    "   \n",
    "   \n",
    "   **5 этап.** Наконец, я приступила к этапу **обучения разных моделей и оценки их качества с помощью кросс-валидации, выбора лучшей модели и проверки её на тестовой выборке, а также проверки модели на адекватность**:\n",
    "   \n",
    "  - Разделила данные на `train` и `test` к соотношению 75:25. Выбрала количество кросс-валидаций равным 5.\n",
    "  \n",
    "  - В качестве метрики было выбрано MAE.\n",
    "  \n",
    "  - Инициализировала следующие модели: `LinearRegression`, `RandomForestRegressor`, `CatBoostRegressor`, `LGBMRegressor`. Закрепила random_state=80822. Для линейной регрессии лучше масштабировать признаки, чтоб не делать отдельную выборку я прописала параметры в самой модели fit_intercept = True, normalize = True. Для CatBoostRegressor тоже определила loss_function='MAE', verbose=False.\n",
    "  \n",
    "  - Обучила модели на тренировочной выборке, проверила их качество с помощью кросс-валидации, лучшей моделью себя показал `CatBoostRegressor` с дефолтными параметрами, его MAE на train было 6.013933.\n",
    "  \n",
    "  - При проверке CatBoostRegressor на тестовой выборке, MAE было 5.609467131978483.\n",
    "  \n",
    "  - Было интересно посмотреть график важности фичей, выяснились маловажные - mean_active_power, Bulk 3, но я все равно решила оставить их и испольовать.\n",
    "  \n",
    "  - Также, я не забыла провести проверку на адекватность: обучила константную модель (`DummyRegressor`(strategy=\"mean\")) и сделала предсказание, получила MAE на тесте = 7.5616814766702065. Следует следует считать, что выбранная модель `справляется лучше` случайной.\n",
    "  \n",
    "  Таким образом, я подготовила прототип модели машинного обучения для заказчика, предсказывающий температуру стали.\n",
    "  \n",
    "  \n",
    "  Сравнивая исходный план с фактическим, могу сказать, что удалось реализовать всё задуманное. Все пункты плана были выполнены. Радует, что лучшая модель отлично справилась даже с дефолными гиперпараметрами. Особых сложностей в выполнении проекта не было, даже когда создавала новые признаки для модели, они отлично помогли улучшить ее качество.\n",
    "  \n",
    "  Ключевые этапы проекта были: изучение задачи, знакомство с данными, исследовательский анализ данных, предобработка данных, обучение разных моделей и оценка их качества с помощью кросс-валидации, выбор лучшей модели и проверка её на тестовой выборке, а также проверка модели на адекватность."
   ]
  },
  {
   "cell_type": "code",
   "execution_count": null,
   "metadata": {},
   "outputs": [],
   "source": []
  }
 ],
 "metadata": {
  "ExecuteTimeLog": [
   {
    "duration": 118,
    "start_time": "2022-08-15T10:08:50.560Z"
   },
   {
    "duration": 131,
    "start_time": "2022-08-15T10:14:10.872Z"
   },
   {
    "duration": 2143,
    "start_time": "2022-08-15T10:19:46.095Z"
   },
   {
    "duration": 234,
    "start_time": "2022-08-15T10:19:48.240Z"
   },
   {
    "duration": 0,
    "start_time": "2022-08-15T10:19:48.476Z"
   },
   {
    "duration": 0,
    "start_time": "2022-08-15T10:19:48.477Z"
   },
   {
    "duration": 0,
    "start_time": "2022-08-15T10:19:48.478Z"
   },
   {
    "duration": 0,
    "start_time": "2022-08-15T10:19:48.479Z"
   },
   {
    "duration": 13,
    "start_time": "2022-08-15T10:19:48.906Z"
   },
   {
    "duration": 108,
    "start_time": "2022-08-15T10:19:49.490Z"
   },
   {
    "duration": 156,
    "start_time": "2022-08-15T10:20:17.668Z"
   },
   {
    "duration": 89,
    "start_time": "2022-08-15T10:21:58.356Z"
   },
   {
    "duration": 193,
    "start_time": "2022-08-15T10:22:22.290Z"
   },
   {
    "duration": 11,
    "start_time": "2022-08-15T10:22:28.951Z"
   },
   {
    "duration": 9,
    "start_time": "2022-08-15T10:22:29.509Z"
   },
   {
    "duration": 12,
    "start_time": "2022-08-15T10:22:30.099Z"
   },
   {
    "duration": 17,
    "start_time": "2022-08-15T10:22:30.705Z"
   },
   {
    "duration": 319,
    "start_time": "2022-08-15T10:22:31.541Z"
   },
   {
    "duration": 43454,
    "start_time": "2022-08-15T10:22:32.489Z"
   },
   {
    "duration": 12,
    "start_time": "2022-08-15T10:23:15.954Z"
   },
   {
    "duration": 14,
    "start_time": "2022-08-15T10:23:15.968Z"
   },
   {
    "duration": 19,
    "start_time": "2022-08-15T10:23:15.984Z"
   },
   {
    "duration": 19,
    "start_time": "2022-08-15T10:23:16.005Z"
   },
   {
    "duration": 31,
    "start_time": "2022-08-15T10:23:16.025Z"
   },
   {
    "duration": 12,
    "start_time": "2022-08-15T10:23:16.058Z"
   },
   {
    "duration": 12,
    "start_time": "2022-08-15T10:23:16.072Z"
   },
   {
    "duration": 7,
    "start_time": "2022-08-15T10:23:16.085Z"
   },
   {
    "duration": 340,
    "start_time": "2022-08-15T10:23:16.095Z"
   },
   {
    "duration": 7,
    "start_time": "2022-08-15T10:23:16.436Z"
   },
   {
    "duration": 7,
    "start_time": "2022-08-15T10:23:16.455Z"
   },
   {
    "duration": 13,
    "start_time": "2022-08-15T10:23:16.463Z"
   },
   {
    "duration": 18,
    "start_time": "2022-08-15T10:23:16.477Z"
   },
   {
    "duration": 319,
    "start_time": "2022-08-15T10:23:16.496Z"
   },
   {
    "duration": 8,
    "start_time": "2022-08-15T10:23:16.816Z"
   },
   {
    "duration": 10,
    "start_time": "2022-08-15T10:23:16.825Z"
   },
   {
    "duration": 26,
    "start_time": "2022-08-15T10:23:16.837Z"
   },
   {
    "duration": 15,
    "start_time": "2022-08-15T10:23:16.865Z"
   },
   {
    "duration": 14,
    "start_time": "2022-08-15T10:23:16.882Z"
   },
   {
    "duration": 1031,
    "start_time": "2022-08-15T10:23:16.898Z"
   },
   {
    "duration": 12,
    "start_time": "2022-08-15T10:23:17.931Z"
   },
   {
    "duration": 23,
    "start_time": "2022-08-15T10:23:17.945Z"
   },
   {
    "duration": 12,
    "start_time": "2022-08-15T10:23:17.970Z"
   },
   {
    "duration": 14,
    "start_time": "2022-08-15T10:23:17.984Z"
   },
   {
    "duration": 11,
    "start_time": "2022-08-15T10:23:18.000Z"
   },
   {
    "duration": 14,
    "start_time": "2022-08-15T10:23:18.013Z"
   },
   {
    "duration": 48,
    "start_time": "2022-08-15T10:23:18.056Z"
   },
   {
    "duration": 9,
    "start_time": "2022-08-15T10:23:18.106Z"
   },
   {
    "duration": 6,
    "start_time": "2022-08-15T10:23:18.117Z"
   },
   {
    "duration": 306,
    "start_time": "2022-08-15T10:23:18.125Z"
   },
   {
    "duration": 3,
    "start_time": "2022-08-15T10:23:18.433Z"
   },
   {
    "duration": 22,
    "start_time": "2022-08-15T10:23:18.437Z"
   },
   {
    "duration": 13,
    "start_time": "2022-08-15T10:23:18.460Z"
   },
   {
    "duration": 27,
    "start_time": "2022-08-15T10:23:18.474Z"
   },
   {
    "duration": 20,
    "start_time": "2022-08-15T10:23:18.503Z"
   },
   {
    "duration": 47,
    "start_time": "2022-08-15T10:23:18.525Z"
   },
   {
    "duration": 21,
    "start_time": "2022-08-15T10:23:18.574Z"
   },
   {
    "duration": 109,
    "start_time": "2022-08-15T10:23:18.596Z"
   },
   {
    "duration": 10,
    "start_time": "2022-08-15T10:23:18.706Z"
   },
   {
    "duration": 409,
    "start_time": "2022-08-15T10:23:18.717Z"
   },
   {
    "duration": 9,
    "start_time": "2022-08-15T10:23:19.128Z"
   },
   {
    "duration": 10,
    "start_time": "2022-08-15T10:23:19.154Z"
   },
   {
    "duration": 32,
    "start_time": "2022-08-15T10:23:19.165Z"
   },
   {
    "duration": 9,
    "start_time": "2022-08-15T10:23:19.198Z"
   },
   {
    "duration": 9,
    "start_time": "2022-08-15T10:23:19.208Z"
   },
   {
    "duration": 301,
    "start_time": "2022-08-15T10:23:19.219Z"
   },
   {
    "duration": 3,
    "start_time": "2022-08-15T10:23:19.522Z"
   },
   {
    "duration": 12,
    "start_time": "2022-08-15T10:23:19.527Z"
   },
   {
    "duration": 21,
    "start_time": "2022-08-15T10:23:19.541Z"
   },
   {
    "duration": 5,
    "start_time": "2022-08-15T10:23:19.564Z"
   },
   {
    "duration": 8,
    "start_time": "2022-08-15T10:23:19.570Z"
   },
   {
    "duration": 6444,
    "start_time": "2022-08-15T10:23:19.579Z"
   },
   {
    "duration": 5,
    "start_time": "2022-08-15T10:23:26.024Z"
   },
   {
    "duration": 5,
    "start_time": "2022-08-15T10:23:26.031Z"
   },
   {
    "duration": 22,
    "start_time": "2022-08-15T10:23:26.037Z"
   },
   {
    "duration": 10,
    "start_time": "2022-08-15T10:23:26.060Z"
   },
   {
    "duration": 4,
    "start_time": "2022-08-15T10:23:26.073Z"
   },
   {
    "duration": 6,
    "start_time": "2022-08-15T10:23:26.079Z"
   },
   {
    "duration": 9,
    "start_time": "2022-08-15T10:23:26.086Z"
   },
   {
    "duration": 543,
    "start_time": "2022-08-15T10:23:26.096Z"
   },
   {
    "duration": 11744,
    "start_time": "2022-08-15T10:23:26.641Z"
   },
   {
    "duration": 3,
    "start_time": "2022-08-15T10:23:38.388Z"
   },
   {
    "duration": 14,
    "start_time": "2022-08-15T10:23:38.393Z"
   },
   {
    "duration": 11,
    "start_time": "2022-08-15T10:23:38.408Z"
   },
   {
    "duration": 6,
    "start_time": "2022-08-15T10:23:38.420Z"
   },
   {
    "duration": 7,
    "start_time": "2022-08-15T10:23:38.428Z"
   },
   {
    "duration": 26,
    "start_time": "2022-08-15T10:23:38.436Z"
   },
   {
    "duration": 15,
    "start_time": "2022-08-15T10:36:31.604Z"
   },
   {
    "duration": 18,
    "start_time": "2022-08-15T10:36:32.977Z"
   },
   {
    "duration": 5,
    "start_time": "2022-08-15T10:36:33.903Z"
   },
   {
    "duration": 5,
    "start_time": "2022-08-15T10:36:34.330Z"
   },
   {
    "duration": 5,
    "start_time": "2022-08-15T10:36:35.140Z"
   },
   {
    "duration": 7,
    "start_time": "2022-08-15T10:36:35.619Z"
   },
   {
    "duration": 8,
    "start_time": "2022-08-15T10:36:36.530Z"
   },
   {
    "duration": 4,
    "start_time": "2022-08-15T10:36:36.936Z"
   },
   {
    "duration": 9,
    "start_time": "2022-08-15T10:36:37.289Z"
   },
   {
    "duration": 4,
    "start_time": "2022-08-15T10:36:37.610Z"
   },
   {
    "duration": 10,
    "start_time": "2022-08-15T10:36:37.895Z"
   },
   {
    "duration": 7,
    "start_time": "2022-08-15T10:36:38.596Z"
   },
   {
    "duration": 23,
    "start_time": "2022-08-15T10:36:39.848Z"
   },
   {
    "duration": 12,
    "start_time": "2022-08-15T10:36:40.369Z"
   },
   {
    "duration": 15,
    "start_time": "2022-08-15T10:36:40.767Z"
   },
   {
    "duration": 8,
    "start_time": "2022-08-15T10:36:41.208Z"
   },
   {
    "duration": 9,
    "start_time": "2022-08-15T10:36:42.126Z"
   },
   {
    "duration": 10,
    "start_time": "2022-08-15T10:36:42.626Z"
   },
   {
    "duration": 9,
    "start_time": "2022-08-15T10:36:44.135Z"
   },
   {
    "duration": 8,
    "start_time": "2022-08-15T10:36:44.573Z"
   },
   {
    "duration": 5,
    "start_time": "2022-08-15T10:36:45.785Z"
   },
   {
    "duration": 8,
    "start_time": "2022-08-15T10:36:46.066Z"
   },
   {
    "duration": 2,
    "start_time": "2022-08-15T10:36:48.349Z"
   },
   {
    "duration": 1594,
    "start_time": "2022-08-15T10:36:48.584Z"
   },
   {
    "duration": 5,
    "start_time": "2022-08-15T10:36:53.233Z"
   },
   {
    "duration": 9,
    "start_time": "2022-08-15T10:36:53.619Z"
   },
   {
    "duration": 5,
    "start_time": "2022-08-15T10:36:54.109Z"
   },
   {
    "duration": 4,
    "start_time": "2022-08-15T10:36:55.396Z"
   },
   {
    "duration": 20,
    "start_time": "2022-08-15T10:36:56.792Z"
   }
  ],
  "kernelspec": {
   "display_name": "Python 3",
   "language": "python",
   "name": "python3"
  },
  "language_info": {
   "codemirror_mode": {
    "name": "ipython",
    "version": 3
   },
   "file_extension": ".py",
   "mimetype": "text/x-python",
   "name": "python",
   "nbconvert_exporter": "python",
   "pygments_lexer": "ipython3",
   "version": "3.7.4"
  },
  "toc": {
   "base_numbering": 1,
   "nav_menu": {},
   "number_sections": true,
   "sideBar": true,
   "skip_h1_title": true,
   "title_cell": "Table of Contents",
   "title_sidebar": "Contents",
   "toc_cell": false,
   "toc_position": {},
   "toc_section_display": true,
   "toc_window_display": false
  }
 },
 "nbformat": 4,
 "nbformat_minor": 2
}

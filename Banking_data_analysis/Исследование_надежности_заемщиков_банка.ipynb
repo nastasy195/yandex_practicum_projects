{
 "cells": [
  {
   "cell_type": "markdown",
   "metadata": {},
   "source": [
    "# Исследование надёжности заёмщиков банка\n",
    "\n",
    "Проект для кредитного отдела банка. \n",
    "\n",
    " **Задачи проекта:**\n",
    "Определить, влияет ли *семейное положение* и *количество детей* клиента на *факт погашения кредита* в уложенный срок. Исходные данные от заказчика — статистика платёжеспособности клиентов.\n",
    "\n",
    "Результаты исследования особенно нужны при построении **модели кредитного скоринга** — системы, оценивающей способность потенциального заёмщика вернуть взятый кредит."
   ]
  },
  {
   "cell_type": "markdown",
   "metadata": {},
   "source": [
    "## Датасет содержит следующие данные:\n",
    "\n",
    "- `children` — количество детей в семье\n",
    "    \n",
    "- `days_employed` — общий трудовой стаж в днях\n",
    "    \n",
    "- `dob_years` — возраст клиента в годах\n",
    "    \n",
    "- `education` — уровень образования клиента\n",
    "    \n",
    "- `education_id` — идентификатор уровня образования\n",
    "    \n",
    "- `family_status` — семейное положение\n",
    "    \n",
    "- `family_status_id` — идентификатор семейного положения\n",
    "    \n",
    "- `gender` — пол клиента\n",
    "    \n",
    "- `income_type` — тип занятости\n",
    "    \n",
    "- `debt` — имел ли задолженность по возврату кредитов\n",
    "    \n",
    "- `total_income` — ежемесячный доход\n",
    "    \n",
    "- `purpose` — цель получения кредита"
   ]
  },
  {
   "cell_type": "markdown",
   "metadata": {},
   "source": [
    "## Шаг 1. Знакомство данными и изение общей информации"
   ]
  },
  {
   "cell_type": "code",
   "execution_count": 3,
   "metadata": {},
   "outputs": [
    {
     "name": "stdout",
     "output_type": "stream",
     "text": [
      "<class 'pandas.core.frame.DataFrame'>\n",
      "RangeIndex: 21525 entries, 0 to 21524\n",
      "Data columns (total 12 columns):\n",
      "children            21525 non-null int64\n",
      "days_employed       19351 non-null float64\n",
      "dob_years           21525 non-null int64\n",
      "education           21525 non-null object\n",
      "education_id        21525 non-null int64\n",
      "family_status       21525 non-null object\n",
      "family_status_id    21525 non-null int64\n",
      "gender              21525 non-null object\n",
      "income_type         21525 non-null object\n",
      "debt                21525 non-null int64\n",
      "total_income        19351 non-null float64\n",
      "purpose             21525 non-null object\n",
      "dtypes: float64(2), int64(5), object(5)\n",
      "memory usage: 2.0+ MB\n"
     ]
    }
   ],
   "source": [
    "import pandas as pd\n",
    "data = pd.read_csv('data.csv')\n",
    "data.info()"
   ]
  },
  {
   "cell_type": "code",
   "execution_count": 4,
   "metadata": {},
   "outputs": [
    {
     "data": {
      "text/html": [
       "<div>\n",
       "<style scoped>\n",
       "    .dataframe tbody tr th:only-of-type {\n",
       "        vertical-align: middle;\n",
       "    }\n",
       "\n",
       "    .dataframe tbody tr th {\n",
       "        vertical-align: top;\n",
       "    }\n",
       "\n",
       "    .dataframe thead th {\n",
       "        text-align: right;\n",
       "    }\n",
       "</style>\n",
       "<table border=\"1\" class=\"dataframe\">\n",
       "  <thead>\n",
       "    <tr style=\"text-align: right;\">\n",
       "      <th></th>\n",
       "      <th>children</th>\n",
       "      <th>days_employed</th>\n",
       "      <th>dob_years</th>\n",
       "      <th>education</th>\n",
       "      <th>education_id</th>\n",
       "      <th>family_status</th>\n",
       "      <th>family_status_id</th>\n",
       "      <th>gender</th>\n",
       "      <th>income_type</th>\n",
       "      <th>debt</th>\n",
       "      <th>total_income</th>\n",
       "      <th>purpose</th>\n",
       "    </tr>\n",
       "  </thead>\n",
       "  <tbody>\n",
       "    <tr>\n",
       "      <td>0</td>\n",
       "      <td>1</td>\n",
       "      <td>-8437.673028</td>\n",
       "      <td>42</td>\n",
       "      <td>высшее</td>\n",
       "      <td>0</td>\n",
       "      <td>женат / замужем</td>\n",
       "      <td>0</td>\n",
       "      <td>F</td>\n",
       "      <td>сотрудник</td>\n",
       "      <td>0</td>\n",
       "      <td>253875.639453</td>\n",
       "      <td>покупка жилья</td>\n",
       "    </tr>\n",
       "    <tr>\n",
       "      <td>1</td>\n",
       "      <td>1</td>\n",
       "      <td>-4024.803754</td>\n",
       "      <td>36</td>\n",
       "      <td>среднее</td>\n",
       "      <td>1</td>\n",
       "      <td>женат / замужем</td>\n",
       "      <td>0</td>\n",
       "      <td>F</td>\n",
       "      <td>сотрудник</td>\n",
       "      <td>0</td>\n",
       "      <td>112080.014102</td>\n",
       "      <td>приобретение автомобиля</td>\n",
       "    </tr>\n",
       "    <tr>\n",
       "      <td>2</td>\n",
       "      <td>0</td>\n",
       "      <td>-5623.422610</td>\n",
       "      <td>33</td>\n",
       "      <td>Среднее</td>\n",
       "      <td>1</td>\n",
       "      <td>женат / замужем</td>\n",
       "      <td>0</td>\n",
       "      <td>M</td>\n",
       "      <td>сотрудник</td>\n",
       "      <td>0</td>\n",
       "      <td>145885.952297</td>\n",
       "      <td>покупка жилья</td>\n",
       "    </tr>\n",
       "    <tr>\n",
       "      <td>3</td>\n",
       "      <td>3</td>\n",
       "      <td>-4124.747207</td>\n",
       "      <td>32</td>\n",
       "      <td>среднее</td>\n",
       "      <td>1</td>\n",
       "      <td>женат / замужем</td>\n",
       "      <td>0</td>\n",
       "      <td>M</td>\n",
       "      <td>сотрудник</td>\n",
       "      <td>0</td>\n",
       "      <td>267628.550329</td>\n",
       "      <td>дополнительное образование</td>\n",
       "    </tr>\n",
       "    <tr>\n",
       "      <td>4</td>\n",
       "      <td>0</td>\n",
       "      <td>340266.072047</td>\n",
       "      <td>53</td>\n",
       "      <td>среднее</td>\n",
       "      <td>1</td>\n",
       "      <td>гражданский брак</td>\n",
       "      <td>1</td>\n",
       "      <td>F</td>\n",
       "      <td>пенсионер</td>\n",
       "      <td>0</td>\n",
       "      <td>158616.077870</td>\n",
       "      <td>сыграть свадьбу</td>\n",
       "    </tr>\n",
       "  </tbody>\n",
       "</table>\n",
       "</div>"
      ],
      "text/plain": [
       "   children  days_employed  dob_years education  education_id  \\\n",
       "0         1   -8437.673028         42    высшее             0   \n",
       "1         1   -4024.803754         36   среднее             1   \n",
       "2         0   -5623.422610         33   Среднее             1   \n",
       "3         3   -4124.747207         32   среднее             1   \n",
       "4         0  340266.072047         53   среднее             1   \n",
       "\n",
       "      family_status  family_status_id gender income_type  debt   total_income  \\\n",
       "0   женат / замужем                 0      F   сотрудник     0  253875.639453   \n",
       "1   женат / замужем                 0      F   сотрудник     0  112080.014102   \n",
       "2   женат / замужем                 0      M   сотрудник     0  145885.952297   \n",
       "3   женат / замужем                 0      M   сотрудник     0  267628.550329   \n",
       "4  гражданский брак                 1      F   пенсионер     0  158616.077870   \n",
       "\n",
       "                      purpose  \n",
       "0               покупка жилья  \n",
       "1     приобретение автомобиля  \n",
       "2               покупка жилья  \n",
       "3  дополнительное образование  \n",
       "4             сыграть свадьбу  "
      ]
     },
     "execution_count": 4,
     "metadata": {},
     "output_type": "execute_result"
    }
   ],
   "source": [
    "data.head()"
   ]
  },
  {
   "cell_type": "markdown",
   "metadata": {},
   "source": [
    "**Вывод**"
   ]
  },
  {
   "cell_type": "markdown",
   "metadata": {},
   "source": [
    "<div class=\"alert alert-info\">\n",
    "<b>Из общей информации видно, что есть пропуски в столбцах 'days_employed' и 'total_income'. Кроме того, взглянув на перые 5 строк дафрейма видно, что в столбце 'days_employed' встечаются отрицательные значения.</b>\n",
    "<br>\n",
    "</div>\n"
   ]
  },
  {
   "cell_type": "markdown",
   "metadata": {},
   "source": [
    "## Шаг 2. Предобработка данных"
   ]
  },
  {
   "cell_type": "markdown",
   "metadata": {},
   "source": [
    "### Обработка пропусков"
   ]
  },
  {
   "cell_type": "code",
   "execution_count": 5,
   "metadata": {},
   "outputs": [
    {
     "data": {
      "text/plain": [
       "children               0\n",
       "days_employed       2174\n",
       "dob_years              0\n",
       "education              0\n",
       "education_id           0\n",
       "family_status          0\n",
       "family_status_id       0\n",
       "gender                 0\n",
       "income_type            0\n",
       "debt                   0\n",
       "total_income        2174\n",
       "purpose                0\n",
       "dtype: int64"
      ]
     },
     "execution_count": 5,
     "metadata": {},
     "output_type": "execute_result"
    }
   ],
   "source": [
    "data.isna().sum()"
   ]
  },
  {
   "cell_type": "code",
   "execution_count": 6,
   "metadata": {},
   "outputs": [],
   "source": [
    "data_isna = data.loc[(data['days_employed'].isna() == True) | (data['total_income'].isna() == True)]"
   ]
  },
  {
   "cell_type": "code",
   "execution_count": 7,
   "metadata": {},
   "outputs": [
    {
     "data": {
      "text/html": [
       "<div>\n",
       "<style scoped>\n",
       "    .dataframe tbody tr th:only-of-type {\n",
       "        vertical-align: middle;\n",
       "    }\n",
       "\n",
       "    .dataframe tbody tr th {\n",
       "        vertical-align: top;\n",
       "    }\n",
       "\n",
       "    .dataframe thead th {\n",
       "        text-align: right;\n",
       "    }\n",
       "</style>\n",
       "<table border=\"1\" class=\"dataframe\">\n",
       "  <thead>\n",
       "    <tr style=\"text-align: right;\">\n",
       "      <th></th>\n",
       "      <th>children</th>\n",
       "      <th>days_employed</th>\n",
       "      <th>dob_years</th>\n",
       "      <th>education</th>\n",
       "      <th>education_id</th>\n",
       "      <th>family_status</th>\n",
       "      <th>family_status_id</th>\n",
       "      <th>gender</th>\n",
       "      <th>income_type</th>\n",
       "      <th>debt</th>\n",
       "      <th>total_income</th>\n",
       "      <th>purpose</th>\n",
       "    </tr>\n",
       "  </thead>\n",
       "  <tbody>\n",
       "    <tr>\n",
       "      <td>12</td>\n",
       "      <td>0</td>\n",
       "      <td>NaN</td>\n",
       "      <td>65</td>\n",
       "      <td>среднее</td>\n",
       "      <td>1</td>\n",
       "      <td>гражданский брак</td>\n",
       "      <td>1</td>\n",
       "      <td>M</td>\n",
       "      <td>пенсионер</td>\n",
       "      <td>0</td>\n",
       "      <td>NaN</td>\n",
       "      <td>сыграть свадьбу</td>\n",
       "    </tr>\n",
       "    <tr>\n",
       "      <td>26</td>\n",
       "      <td>0</td>\n",
       "      <td>NaN</td>\n",
       "      <td>41</td>\n",
       "      <td>среднее</td>\n",
       "      <td>1</td>\n",
       "      <td>женат / замужем</td>\n",
       "      <td>0</td>\n",
       "      <td>M</td>\n",
       "      <td>госслужащий</td>\n",
       "      <td>0</td>\n",
       "      <td>NaN</td>\n",
       "      <td>образование</td>\n",
       "    </tr>\n",
       "    <tr>\n",
       "      <td>29</td>\n",
       "      <td>0</td>\n",
       "      <td>NaN</td>\n",
       "      <td>63</td>\n",
       "      <td>среднее</td>\n",
       "      <td>1</td>\n",
       "      <td>Не женат / не замужем</td>\n",
       "      <td>4</td>\n",
       "      <td>F</td>\n",
       "      <td>пенсионер</td>\n",
       "      <td>0</td>\n",
       "      <td>NaN</td>\n",
       "      <td>строительство жилой недвижимости</td>\n",
       "    </tr>\n",
       "    <tr>\n",
       "      <td>41</td>\n",
       "      <td>0</td>\n",
       "      <td>NaN</td>\n",
       "      <td>50</td>\n",
       "      <td>среднее</td>\n",
       "      <td>1</td>\n",
       "      <td>женат / замужем</td>\n",
       "      <td>0</td>\n",
       "      <td>F</td>\n",
       "      <td>госслужащий</td>\n",
       "      <td>0</td>\n",
       "      <td>NaN</td>\n",
       "      <td>сделка с подержанным автомобилем</td>\n",
       "    </tr>\n",
       "    <tr>\n",
       "      <td>55</td>\n",
       "      <td>0</td>\n",
       "      <td>NaN</td>\n",
       "      <td>54</td>\n",
       "      <td>среднее</td>\n",
       "      <td>1</td>\n",
       "      <td>гражданский брак</td>\n",
       "      <td>1</td>\n",
       "      <td>F</td>\n",
       "      <td>пенсионер</td>\n",
       "      <td>1</td>\n",
       "      <td>NaN</td>\n",
       "      <td>сыграть свадьбу</td>\n",
       "    </tr>\n",
       "  </tbody>\n",
       "</table>\n",
       "</div>"
      ],
      "text/plain": [
       "    children  days_employed  dob_years education  education_id  \\\n",
       "12         0            NaN         65   среднее             1   \n",
       "26         0            NaN         41   среднее             1   \n",
       "29         0            NaN         63   среднее             1   \n",
       "41         0            NaN         50   среднее             1   \n",
       "55         0            NaN         54   среднее             1   \n",
       "\n",
       "            family_status  family_status_id gender  income_type  debt  \\\n",
       "12       гражданский брак                 1      M    пенсионер     0   \n",
       "26        женат / замужем                 0      M  госслужащий     0   \n",
       "29  Не женат / не замужем                 4      F    пенсионер     0   \n",
       "41        женат / замужем                 0      F  госслужащий     0   \n",
       "55       гражданский брак                 1      F    пенсионер     1   \n",
       "\n",
       "    total_income                           purpose  \n",
       "12           NaN                   сыграть свадьбу  \n",
       "26           NaN                       образование  \n",
       "29           NaN  строительство жилой недвижимости  \n",
       "41           NaN  сделка с подержанным автомобилем  \n",
       "55           NaN                   сыграть свадьбу  "
      ]
     },
     "execution_count": 7,
     "metadata": {},
     "output_type": "execute_result"
    }
   ],
   "source": [
    "data_isna.head()"
   ]
  },
  {
   "cell_type": "code",
   "execution_count": 8,
   "metadata": {},
   "outputs": [
    {
     "data": {
      "text/html": [
       "<div>\n",
       "<style scoped>\n",
       "    .dataframe tbody tr th:only-of-type {\n",
       "        vertical-align: middle;\n",
       "    }\n",
       "\n",
       "    .dataframe tbody tr th {\n",
       "        vertical-align: top;\n",
       "    }\n",
       "\n",
       "    .dataframe thead th {\n",
       "        text-align: right;\n",
       "    }\n",
       "</style>\n",
       "<table border=\"1\" class=\"dataframe\">\n",
       "  <thead>\n",
       "    <tr style=\"text-align: right;\">\n",
       "      <th></th>\n",
       "      <th>children</th>\n",
       "      <th>days_employed</th>\n",
       "      <th>dob_years</th>\n",
       "      <th>education</th>\n",
       "      <th>education_id</th>\n",
       "      <th>family_status</th>\n",
       "      <th>family_status_id</th>\n",
       "      <th>gender</th>\n",
       "      <th>income_type</th>\n",
       "      <th>debt</th>\n",
       "      <th>total_income</th>\n",
       "      <th>purpose</th>\n",
       "    </tr>\n",
       "  </thead>\n",
       "  <tbody>\n",
       "    <tr>\n",
       "      <td>0</td>\n",
       "      <td>1</td>\n",
       "      <td>-8437.673028</td>\n",
       "      <td>42</td>\n",
       "      <td>высшее</td>\n",
       "      <td>0</td>\n",
       "      <td>женат / замужем</td>\n",
       "      <td>0</td>\n",
       "      <td>F</td>\n",
       "      <td>сотрудник</td>\n",
       "      <td>0</td>\n",
       "      <td>253875.639453</td>\n",
       "      <td>покупка жилья</td>\n",
       "    </tr>\n",
       "    <tr>\n",
       "      <td>1</td>\n",
       "      <td>1</td>\n",
       "      <td>-4024.803754</td>\n",
       "      <td>36</td>\n",
       "      <td>среднее</td>\n",
       "      <td>1</td>\n",
       "      <td>женат / замужем</td>\n",
       "      <td>0</td>\n",
       "      <td>F</td>\n",
       "      <td>сотрудник</td>\n",
       "      <td>0</td>\n",
       "      <td>112080.014102</td>\n",
       "      <td>приобретение автомобиля</td>\n",
       "    </tr>\n",
       "    <tr>\n",
       "      <td>2</td>\n",
       "      <td>0</td>\n",
       "      <td>-5623.422610</td>\n",
       "      <td>33</td>\n",
       "      <td>Среднее</td>\n",
       "      <td>1</td>\n",
       "      <td>женат / замужем</td>\n",
       "      <td>0</td>\n",
       "      <td>M</td>\n",
       "      <td>сотрудник</td>\n",
       "      <td>0</td>\n",
       "      <td>145885.952297</td>\n",
       "      <td>покупка жилья</td>\n",
       "    </tr>\n",
       "    <tr>\n",
       "      <td>3</td>\n",
       "      <td>3</td>\n",
       "      <td>-4124.747207</td>\n",
       "      <td>32</td>\n",
       "      <td>среднее</td>\n",
       "      <td>1</td>\n",
       "      <td>женат / замужем</td>\n",
       "      <td>0</td>\n",
       "      <td>M</td>\n",
       "      <td>сотрудник</td>\n",
       "      <td>0</td>\n",
       "      <td>267628.550329</td>\n",
       "      <td>дополнительное образование</td>\n",
       "    </tr>\n",
       "    <tr>\n",
       "      <td>4</td>\n",
       "      <td>0</td>\n",
       "      <td>340266.072047</td>\n",
       "      <td>53</td>\n",
       "      <td>среднее</td>\n",
       "      <td>1</td>\n",
       "      <td>гражданский брак</td>\n",
       "      <td>1</td>\n",
       "      <td>F</td>\n",
       "      <td>пенсионер</td>\n",
       "      <td>0</td>\n",
       "      <td>158616.077870</td>\n",
       "      <td>сыграть свадьбу</td>\n",
       "    </tr>\n",
       "    <tr>\n",
       "      <td>...</td>\n",
       "      <td>...</td>\n",
       "      <td>...</td>\n",
       "      <td>...</td>\n",
       "      <td>...</td>\n",
       "      <td>...</td>\n",
       "      <td>...</td>\n",
       "      <td>...</td>\n",
       "      <td>...</td>\n",
       "      <td>...</td>\n",
       "      <td>...</td>\n",
       "      <td>...</td>\n",
       "      <td>...</td>\n",
       "    </tr>\n",
       "    <tr>\n",
       "      <td>21520</td>\n",
       "      <td>1</td>\n",
       "      <td>-4529.316663</td>\n",
       "      <td>43</td>\n",
       "      <td>среднее</td>\n",
       "      <td>1</td>\n",
       "      <td>гражданский брак</td>\n",
       "      <td>1</td>\n",
       "      <td>F</td>\n",
       "      <td>компаньон</td>\n",
       "      <td>0</td>\n",
       "      <td>224791.862382</td>\n",
       "      <td>операции с жильем</td>\n",
       "    </tr>\n",
       "    <tr>\n",
       "      <td>21521</td>\n",
       "      <td>0</td>\n",
       "      <td>343937.404131</td>\n",
       "      <td>67</td>\n",
       "      <td>среднее</td>\n",
       "      <td>1</td>\n",
       "      <td>женат / замужем</td>\n",
       "      <td>0</td>\n",
       "      <td>F</td>\n",
       "      <td>пенсионер</td>\n",
       "      <td>0</td>\n",
       "      <td>155999.806512</td>\n",
       "      <td>сделка с автомобилем</td>\n",
       "    </tr>\n",
       "    <tr>\n",
       "      <td>21522</td>\n",
       "      <td>1</td>\n",
       "      <td>-2113.346888</td>\n",
       "      <td>38</td>\n",
       "      <td>среднее</td>\n",
       "      <td>1</td>\n",
       "      <td>гражданский брак</td>\n",
       "      <td>1</td>\n",
       "      <td>M</td>\n",
       "      <td>сотрудник</td>\n",
       "      <td>1</td>\n",
       "      <td>89672.561153</td>\n",
       "      <td>недвижимость</td>\n",
       "    </tr>\n",
       "    <tr>\n",
       "      <td>21523</td>\n",
       "      <td>3</td>\n",
       "      <td>-3112.481705</td>\n",
       "      <td>38</td>\n",
       "      <td>среднее</td>\n",
       "      <td>1</td>\n",
       "      <td>женат / замужем</td>\n",
       "      <td>0</td>\n",
       "      <td>M</td>\n",
       "      <td>сотрудник</td>\n",
       "      <td>1</td>\n",
       "      <td>244093.050500</td>\n",
       "      <td>на покупку своего автомобиля</td>\n",
       "    </tr>\n",
       "    <tr>\n",
       "      <td>21524</td>\n",
       "      <td>2</td>\n",
       "      <td>-1984.507589</td>\n",
       "      <td>40</td>\n",
       "      <td>среднее</td>\n",
       "      <td>1</td>\n",
       "      <td>женат / замужем</td>\n",
       "      <td>0</td>\n",
       "      <td>F</td>\n",
       "      <td>сотрудник</td>\n",
       "      <td>0</td>\n",
       "      <td>82047.418899</td>\n",
       "      <td>на покупку автомобиля</td>\n",
       "    </tr>\n",
       "  </tbody>\n",
       "</table>\n",
       "<p>21525 rows × 12 columns</p>\n",
       "</div>"
      ],
      "text/plain": [
       "       children  days_employed  dob_years education  education_id  \\\n",
       "0             1   -8437.673028         42    высшее             0   \n",
       "1             1   -4024.803754         36   среднее             1   \n",
       "2             0   -5623.422610         33   Среднее             1   \n",
       "3             3   -4124.747207         32   среднее             1   \n",
       "4             0  340266.072047         53   среднее             1   \n",
       "...         ...            ...        ...       ...           ...   \n",
       "21520         1   -4529.316663         43   среднее             1   \n",
       "21521         0  343937.404131         67   среднее             1   \n",
       "21522         1   -2113.346888         38   среднее             1   \n",
       "21523         3   -3112.481705         38   среднее             1   \n",
       "21524         2   -1984.507589         40   среднее             1   \n",
       "\n",
       "          family_status  family_status_id gender income_type  debt  \\\n",
       "0       женат / замужем                 0      F   сотрудник     0   \n",
       "1       женат / замужем                 0      F   сотрудник     0   \n",
       "2       женат / замужем                 0      M   сотрудник     0   \n",
       "3       женат / замужем                 0      M   сотрудник     0   \n",
       "4      гражданский брак                 1      F   пенсионер     0   \n",
       "...                 ...               ...    ...         ...   ...   \n",
       "21520  гражданский брак                 1      F   компаньон     0   \n",
       "21521   женат / замужем                 0      F   пенсионер     0   \n",
       "21522  гражданский брак                 1      M   сотрудник     1   \n",
       "21523   женат / замужем                 0      M   сотрудник     1   \n",
       "21524   женат / замужем                 0      F   сотрудник     0   \n",
       "\n",
       "        total_income                       purpose  \n",
       "0      253875.639453                 покупка жилья  \n",
       "1      112080.014102       приобретение автомобиля  \n",
       "2      145885.952297                 покупка жилья  \n",
       "3      267628.550329    дополнительное образование  \n",
       "4      158616.077870               сыграть свадьбу  \n",
       "...              ...                           ...  \n",
       "21520  224791.862382             операции с жильем  \n",
       "21521  155999.806512          сделка с автомобилем  \n",
       "21522   89672.561153                  недвижимость  \n",
       "21523  244093.050500  на покупку своего автомобиля  \n",
       "21524   82047.418899         на покупку автомобиля  \n",
       "\n",
       "[21525 rows x 12 columns]"
      ]
     },
     "execution_count": 8,
     "metadata": {},
     "output_type": "execute_result"
    }
   ],
   "source": [
    "data['days_employed'] = data['days_employed'].fillna(0)\n",
    "data"
   ]
  },
  {
   "cell_type": "code",
   "execution_count": 9,
   "metadata": {},
   "outputs": [],
   "source": [
    "type_income_median =  data.groupby('income_type', as_index=False)['total_income'].median().rename(columns={'total_income': 'median_income'})"
   ]
  },
  {
   "cell_type": "code",
   "execution_count": 10,
   "metadata": {},
   "outputs": [
    {
     "data": {
      "text/html": [
       "<div>\n",
       "<style scoped>\n",
       "    .dataframe tbody tr th:only-of-type {\n",
       "        vertical-align: middle;\n",
       "    }\n",
       "\n",
       "    .dataframe tbody tr th {\n",
       "        vertical-align: top;\n",
       "    }\n",
       "\n",
       "    .dataframe thead th {\n",
       "        text-align: right;\n",
       "    }\n",
       "</style>\n",
       "<table border=\"1\" class=\"dataframe\">\n",
       "  <thead>\n",
       "    <tr style=\"text-align: right;\">\n",
       "      <th></th>\n",
       "      <th>income_type</th>\n",
       "      <th>median_income</th>\n",
       "    </tr>\n",
       "  </thead>\n",
       "  <tbody>\n",
       "    <tr>\n",
       "      <td>0</td>\n",
       "      <td>безработный</td>\n",
       "      <td>131339.751676</td>\n",
       "    </tr>\n",
       "    <tr>\n",
       "      <td>1</td>\n",
       "      <td>в декрете</td>\n",
       "      <td>53829.130729</td>\n",
       "    </tr>\n",
       "    <tr>\n",
       "      <td>2</td>\n",
       "      <td>госслужащий</td>\n",
       "      <td>150447.935283</td>\n",
       "    </tr>\n",
       "    <tr>\n",
       "      <td>3</td>\n",
       "      <td>компаньон</td>\n",
       "      <td>172357.950966</td>\n",
       "    </tr>\n",
       "    <tr>\n",
       "      <td>4</td>\n",
       "      <td>пенсионер</td>\n",
       "      <td>118514.486412</td>\n",
       "    </tr>\n",
       "    <tr>\n",
       "      <td>5</td>\n",
       "      <td>предприниматель</td>\n",
       "      <td>499163.144947</td>\n",
       "    </tr>\n",
       "    <tr>\n",
       "      <td>6</td>\n",
       "      <td>сотрудник</td>\n",
       "      <td>142594.396847</td>\n",
       "    </tr>\n",
       "    <tr>\n",
       "      <td>7</td>\n",
       "      <td>студент</td>\n",
       "      <td>98201.625314</td>\n",
       "    </tr>\n",
       "  </tbody>\n",
       "</table>\n",
       "</div>"
      ],
      "text/plain": [
       "       income_type  median_income\n",
       "0      безработный  131339.751676\n",
       "1        в декрете   53829.130729\n",
       "2      госслужащий  150447.935283\n",
       "3        компаньон  172357.950966\n",
       "4        пенсионер  118514.486412\n",
       "5  предприниматель  499163.144947\n",
       "6        сотрудник  142594.396847\n",
       "7          студент   98201.625314"
      ]
     },
     "execution_count": 10,
     "metadata": {},
     "output_type": "execute_result"
    }
   ],
   "source": [
    "type_income_median"
   ]
  },
  {
   "cell_type": "code",
   "execution_count": 11,
   "metadata": {},
   "outputs": [
    {
     "data": {
      "text/html": [
       "<div>\n",
       "<style scoped>\n",
       "    .dataframe tbody tr th:only-of-type {\n",
       "        vertical-align: middle;\n",
       "    }\n",
       "\n",
       "    .dataframe tbody tr th {\n",
       "        vertical-align: top;\n",
       "    }\n",
       "\n",
       "    .dataframe thead th {\n",
       "        text-align: right;\n",
       "    }\n",
       "</style>\n",
       "<table border=\"1\" class=\"dataframe\">\n",
       "  <thead>\n",
       "    <tr style=\"text-align: right;\">\n",
       "      <th></th>\n",
       "      <th>children</th>\n",
       "      <th>days_employed</th>\n",
       "      <th>dob_years</th>\n",
       "      <th>education</th>\n",
       "      <th>education_id</th>\n",
       "      <th>family_status</th>\n",
       "      <th>family_status_id</th>\n",
       "      <th>gender</th>\n",
       "      <th>income_type</th>\n",
       "      <th>debt</th>\n",
       "      <th>total_income</th>\n",
       "      <th>purpose</th>\n",
       "      <th>median_income</th>\n",
       "    </tr>\n",
       "  </thead>\n",
       "  <tbody>\n",
       "    <tr>\n",
       "      <td>0</td>\n",
       "      <td>1</td>\n",
       "      <td>-8437.673028</td>\n",
       "      <td>42</td>\n",
       "      <td>высшее</td>\n",
       "      <td>0</td>\n",
       "      <td>женат / замужем</td>\n",
       "      <td>0</td>\n",
       "      <td>F</td>\n",
       "      <td>сотрудник</td>\n",
       "      <td>0</td>\n",
       "      <td>253875.639453</td>\n",
       "      <td>покупка жилья</td>\n",
       "      <td>142594.396847</td>\n",
       "    </tr>\n",
       "    <tr>\n",
       "      <td>1</td>\n",
       "      <td>1</td>\n",
       "      <td>-4024.803754</td>\n",
       "      <td>36</td>\n",
       "      <td>среднее</td>\n",
       "      <td>1</td>\n",
       "      <td>женат / замужем</td>\n",
       "      <td>0</td>\n",
       "      <td>F</td>\n",
       "      <td>сотрудник</td>\n",
       "      <td>0</td>\n",
       "      <td>112080.014102</td>\n",
       "      <td>приобретение автомобиля</td>\n",
       "      <td>142594.396847</td>\n",
       "    </tr>\n",
       "    <tr>\n",
       "      <td>2</td>\n",
       "      <td>0</td>\n",
       "      <td>-5623.422610</td>\n",
       "      <td>33</td>\n",
       "      <td>Среднее</td>\n",
       "      <td>1</td>\n",
       "      <td>женат / замужем</td>\n",
       "      <td>0</td>\n",
       "      <td>M</td>\n",
       "      <td>сотрудник</td>\n",
       "      <td>0</td>\n",
       "      <td>145885.952297</td>\n",
       "      <td>покупка жилья</td>\n",
       "      <td>142594.396847</td>\n",
       "    </tr>\n",
       "    <tr>\n",
       "      <td>3</td>\n",
       "      <td>3</td>\n",
       "      <td>-4124.747207</td>\n",
       "      <td>32</td>\n",
       "      <td>среднее</td>\n",
       "      <td>1</td>\n",
       "      <td>женат / замужем</td>\n",
       "      <td>0</td>\n",
       "      <td>M</td>\n",
       "      <td>сотрудник</td>\n",
       "      <td>0</td>\n",
       "      <td>267628.550329</td>\n",
       "      <td>дополнительное образование</td>\n",
       "      <td>142594.396847</td>\n",
       "    </tr>\n",
       "    <tr>\n",
       "      <td>4</td>\n",
       "      <td>0</td>\n",
       "      <td>340266.072047</td>\n",
       "      <td>53</td>\n",
       "      <td>среднее</td>\n",
       "      <td>1</td>\n",
       "      <td>гражданский брак</td>\n",
       "      <td>1</td>\n",
       "      <td>F</td>\n",
       "      <td>пенсионер</td>\n",
       "      <td>0</td>\n",
       "      <td>158616.077870</td>\n",
       "      <td>сыграть свадьбу</td>\n",
       "      <td>118514.486412</td>\n",
       "    </tr>\n",
       "    <tr>\n",
       "      <td>...</td>\n",
       "      <td>...</td>\n",
       "      <td>...</td>\n",
       "      <td>...</td>\n",
       "      <td>...</td>\n",
       "      <td>...</td>\n",
       "      <td>...</td>\n",
       "      <td>...</td>\n",
       "      <td>...</td>\n",
       "      <td>...</td>\n",
       "      <td>...</td>\n",
       "      <td>...</td>\n",
       "      <td>...</td>\n",
       "      <td>...</td>\n",
       "    </tr>\n",
       "    <tr>\n",
       "      <td>21520</td>\n",
       "      <td>1</td>\n",
       "      <td>-4529.316663</td>\n",
       "      <td>43</td>\n",
       "      <td>среднее</td>\n",
       "      <td>1</td>\n",
       "      <td>гражданский брак</td>\n",
       "      <td>1</td>\n",
       "      <td>F</td>\n",
       "      <td>компаньон</td>\n",
       "      <td>0</td>\n",
       "      <td>224791.862382</td>\n",
       "      <td>операции с жильем</td>\n",
       "      <td>172357.950966</td>\n",
       "    </tr>\n",
       "    <tr>\n",
       "      <td>21521</td>\n",
       "      <td>0</td>\n",
       "      <td>343937.404131</td>\n",
       "      <td>67</td>\n",
       "      <td>среднее</td>\n",
       "      <td>1</td>\n",
       "      <td>женат / замужем</td>\n",
       "      <td>0</td>\n",
       "      <td>F</td>\n",
       "      <td>пенсионер</td>\n",
       "      <td>0</td>\n",
       "      <td>155999.806512</td>\n",
       "      <td>сделка с автомобилем</td>\n",
       "      <td>118514.486412</td>\n",
       "    </tr>\n",
       "    <tr>\n",
       "      <td>21522</td>\n",
       "      <td>1</td>\n",
       "      <td>-2113.346888</td>\n",
       "      <td>38</td>\n",
       "      <td>среднее</td>\n",
       "      <td>1</td>\n",
       "      <td>гражданский брак</td>\n",
       "      <td>1</td>\n",
       "      <td>M</td>\n",
       "      <td>сотрудник</td>\n",
       "      <td>1</td>\n",
       "      <td>89672.561153</td>\n",
       "      <td>недвижимость</td>\n",
       "      <td>142594.396847</td>\n",
       "    </tr>\n",
       "    <tr>\n",
       "      <td>21523</td>\n",
       "      <td>3</td>\n",
       "      <td>-3112.481705</td>\n",
       "      <td>38</td>\n",
       "      <td>среднее</td>\n",
       "      <td>1</td>\n",
       "      <td>женат / замужем</td>\n",
       "      <td>0</td>\n",
       "      <td>M</td>\n",
       "      <td>сотрудник</td>\n",
       "      <td>1</td>\n",
       "      <td>244093.050500</td>\n",
       "      <td>на покупку своего автомобиля</td>\n",
       "      <td>142594.396847</td>\n",
       "    </tr>\n",
       "    <tr>\n",
       "      <td>21524</td>\n",
       "      <td>2</td>\n",
       "      <td>-1984.507589</td>\n",
       "      <td>40</td>\n",
       "      <td>среднее</td>\n",
       "      <td>1</td>\n",
       "      <td>женат / замужем</td>\n",
       "      <td>0</td>\n",
       "      <td>F</td>\n",
       "      <td>сотрудник</td>\n",
       "      <td>0</td>\n",
       "      <td>82047.418899</td>\n",
       "      <td>на покупку автомобиля</td>\n",
       "      <td>142594.396847</td>\n",
       "    </tr>\n",
       "  </tbody>\n",
       "</table>\n",
       "<p>21525 rows × 13 columns</p>\n",
       "</div>"
      ],
      "text/plain": [
       "       children  days_employed  dob_years education  education_id  \\\n",
       "0             1   -8437.673028         42    высшее             0   \n",
       "1             1   -4024.803754         36   среднее             1   \n",
       "2             0   -5623.422610         33   Среднее             1   \n",
       "3             3   -4124.747207         32   среднее             1   \n",
       "4             0  340266.072047         53   среднее             1   \n",
       "...         ...            ...        ...       ...           ...   \n",
       "21520         1   -4529.316663         43   среднее             1   \n",
       "21521         0  343937.404131         67   среднее             1   \n",
       "21522         1   -2113.346888         38   среднее             1   \n",
       "21523         3   -3112.481705         38   среднее             1   \n",
       "21524         2   -1984.507589         40   среднее             1   \n",
       "\n",
       "          family_status  family_status_id gender income_type  debt  \\\n",
       "0       женат / замужем                 0      F   сотрудник     0   \n",
       "1       женат / замужем                 0      F   сотрудник     0   \n",
       "2       женат / замужем                 0      M   сотрудник     0   \n",
       "3       женат / замужем                 0      M   сотрудник     0   \n",
       "4      гражданский брак                 1      F   пенсионер     0   \n",
       "...                 ...               ...    ...         ...   ...   \n",
       "21520  гражданский брак                 1      F   компаньон     0   \n",
       "21521   женат / замужем                 0      F   пенсионер     0   \n",
       "21522  гражданский брак                 1      M   сотрудник     1   \n",
       "21523   женат / замужем                 0      M   сотрудник     1   \n",
       "21524   женат / замужем                 0      F   сотрудник     0   \n",
       "\n",
       "        total_income                       purpose  median_income  \n",
       "0      253875.639453                 покупка жилья  142594.396847  \n",
       "1      112080.014102       приобретение автомобиля  142594.396847  \n",
       "2      145885.952297                 покупка жилья  142594.396847  \n",
       "3      267628.550329    дополнительное образование  142594.396847  \n",
       "4      158616.077870               сыграть свадьбу  118514.486412  \n",
       "...              ...                           ...            ...  \n",
       "21520  224791.862382             операции с жильем  172357.950966  \n",
       "21521  155999.806512          сделка с автомобилем  118514.486412  \n",
       "21522   89672.561153                  недвижимость  142594.396847  \n",
       "21523  244093.050500  на покупку своего автомобиля  142594.396847  \n",
       "21524   82047.418899         на покупку автомобиля  142594.396847  \n",
       "\n",
       "[21525 rows x 13 columns]"
      ]
     },
     "execution_count": 11,
     "metadata": {},
     "output_type": "execute_result"
    }
   ],
   "source": [
    "data = data.merge(type_income_median, on='income_type', how='left')     \n",
    "data"
   ]
  },
  {
   "cell_type": "code",
   "execution_count": 12,
   "metadata": {},
   "outputs": [],
   "source": [
    "data.loc[data['total_income'].isna() == True, 'total_income'] = data['median_income']"
   ]
  },
  {
   "cell_type": "code",
   "execution_count": 13,
   "metadata": {},
   "outputs": [
    {
     "data": {
      "text/plain": [
       " 0     14149\n",
       " 1      4818\n",
       " 2      2055\n",
       " 3       330\n",
       " 20       76\n",
       "-1        47\n",
       " 4        41\n",
       " 5         9\n",
       "Name: children, dtype: int64"
      ]
     },
     "execution_count": 13,
     "metadata": {},
     "output_type": "execute_result"
    }
   ],
   "source": [
    "data['children'].value_counts() #Есть категория граждан, у которых -1 ребенок (47 человек) и у которых 20 детей (76 человек). Что-то тут не так!"
   ]
  },
  {
   "cell_type": "markdown",
   "metadata": {},
   "source": [
    "<div class=\"alert alert-info\">\n",
    "\n",
    "<b> </b> Я счиатаю, что когда указывались данные о детях, где поставили -1, имелось в виду значение 0, так как очень часто программа при отсутсвии значения возвращает -1, я думаю, это именно тот случай. Кроме того очень трудно опечататься, где клавиша \"минус\", а где 1, так что это точно не \"тире\", а именно минус. А там, где указано 20 детей, то имелось в виду два ребенка (так как в NumLock клавиша 2 и 0 расположены очень близко, можно легко промахнуться). Чтобы проверить эту гипотезу (для граждан, имеющих 20 детей), посмотрю возраст таких граждан и их ежемесячный доход, сравню его со средним доходом. Логично предположить: чтобы человек, имеющий 20 детей должен иметь доход явно выше среднего, чтобы обеспечитвать тех самых 20 детей. Проверю эту гипотезу.\n",
    "</div>\n"
   ]
  },
  {
   "cell_type": "code",
   "execution_count": 14,
   "metadata": {},
   "outputs": [
    {
     "data": {
      "text/plain": [
       "children\n",
       "-1     42.574468\n",
       " 0     46.261432\n",
       " 1     38.366127\n",
       " 2     35.770316\n",
       " 3     36.287879\n",
       " 4     36.048780\n",
       " 5     38.777778\n",
       " 20    41.815789\n",
       "Name: dob_years, dtype: float64"
      ]
     },
     "execution_count": 14,
     "metadata": {},
     "output_type": "execute_result"
    }
   ],
   "source": [
    "data.groupby(data['children'])['dob_years'].mean() # средний возраст граждан в соответствии с количеством детей"
   ]
  },
  {
   "cell_type": "markdown",
   "metadata": {},
   "source": [
    "Видно, что средний возраст граждан с 20 детьми не сильно выбивается из средних значений по меньшему количеству детей"
   ]
  },
  {
   "cell_type": "code",
   "execution_count": 15,
   "metadata": {},
   "outputs": [
    {
     "data": {
      "text/html": [
       "<div>\n",
       "<style scoped>\n",
       "    .dataframe tbody tr th:only-of-type {\n",
       "        vertical-align: middle;\n",
       "    }\n",
       "\n",
       "    .dataframe tbody tr th {\n",
       "        vertical-align: top;\n",
       "    }\n",
       "\n",
       "    .dataframe thead th {\n",
       "        text-align: right;\n",
       "    }\n",
       "</style>\n",
       "<table border=\"1\" class=\"dataframe\">\n",
       "  <thead>\n",
       "    <tr style=\"text-align: right;\">\n",
       "      <th></th>\n",
       "      <th>children</th>\n",
       "      <th>days_employed</th>\n",
       "      <th>dob_years</th>\n",
       "      <th>education</th>\n",
       "      <th>education_id</th>\n",
       "      <th>family_status</th>\n",
       "      <th>family_status_id</th>\n",
       "      <th>gender</th>\n",
       "      <th>income_type</th>\n",
       "      <th>debt</th>\n",
       "      <th>total_income</th>\n",
       "      <th>purpose</th>\n",
       "      <th>median_income</th>\n",
       "    </tr>\n",
       "  </thead>\n",
       "  <tbody>\n",
       "    <tr>\n",
       "      <td>606</td>\n",
       "      <td>20</td>\n",
       "      <td>-880.221113</td>\n",
       "      <td>21</td>\n",
       "      <td>среднее</td>\n",
       "      <td>1</td>\n",
       "      <td>женат / замужем</td>\n",
       "      <td>0</td>\n",
       "      <td>M</td>\n",
       "      <td>компаньон</td>\n",
       "      <td>0</td>\n",
       "      <td>145334.865002</td>\n",
       "      <td>покупка жилья</td>\n",
       "      <td>172357.950966</td>\n",
       "    </tr>\n",
       "    <tr>\n",
       "      <td>720</td>\n",
       "      <td>20</td>\n",
       "      <td>-855.595512</td>\n",
       "      <td>44</td>\n",
       "      <td>среднее</td>\n",
       "      <td>1</td>\n",
       "      <td>женат / замужем</td>\n",
       "      <td>0</td>\n",
       "      <td>F</td>\n",
       "      <td>компаньон</td>\n",
       "      <td>0</td>\n",
       "      <td>112998.738649</td>\n",
       "      <td>покупка недвижимости</td>\n",
       "      <td>172357.950966</td>\n",
       "    </tr>\n",
       "    <tr>\n",
       "      <td>1074</td>\n",
       "      <td>20</td>\n",
       "      <td>-3310.411598</td>\n",
       "      <td>56</td>\n",
       "      <td>среднее</td>\n",
       "      <td>1</td>\n",
       "      <td>женат / замужем</td>\n",
       "      <td>0</td>\n",
       "      <td>F</td>\n",
       "      <td>сотрудник</td>\n",
       "      <td>1</td>\n",
       "      <td>229518.537004</td>\n",
       "      <td>получение образования</td>\n",
       "      <td>142594.396847</td>\n",
       "    </tr>\n",
       "    <tr>\n",
       "      <td>2510</td>\n",
       "      <td>20</td>\n",
       "      <td>-2714.161249</td>\n",
       "      <td>59</td>\n",
       "      <td>высшее</td>\n",
       "      <td>0</td>\n",
       "      <td>вдовец / вдова</td>\n",
       "      <td>2</td>\n",
       "      <td>F</td>\n",
       "      <td>сотрудник</td>\n",
       "      <td>0</td>\n",
       "      <td>264474.835577</td>\n",
       "      <td>операции с коммерческой недвижимостью</td>\n",
       "      <td>142594.396847</td>\n",
       "    </tr>\n",
       "    <tr>\n",
       "      <td>2941</td>\n",
       "      <td>20</td>\n",
       "      <td>-2161.591519</td>\n",
       "      <td>0</td>\n",
       "      <td>среднее</td>\n",
       "      <td>1</td>\n",
       "      <td>женат / замужем</td>\n",
       "      <td>0</td>\n",
       "      <td>F</td>\n",
       "      <td>сотрудник</td>\n",
       "      <td>0</td>\n",
       "      <td>199739.941398</td>\n",
       "      <td>на покупку автомобиля</td>\n",
       "      <td>142594.396847</td>\n",
       "    </tr>\n",
       "  </tbody>\n",
       "</table>\n",
       "</div>"
      ],
      "text/plain": [
       "      children  days_employed  dob_years education  education_id  \\\n",
       "606         20    -880.221113         21   среднее             1   \n",
       "720         20    -855.595512         44   среднее             1   \n",
       "1074        20   -3310.411598         56   среднее             1   \n",
       "2510        20   -2714.161249         59    высшее             0   \n",
       "2941        20   -2161.591519          0   среднее             1   \n",
       "\n",
       "        family_status  family_status_id gender income_type  debt  \\\n",
       "606   женат / замужем                 0      M   компаньон     0   \n",
       "720   женат / замужем                 0      F   компаньон     0   \n",
       "1074  женат / замужем                 0      F   сотрудник     1   \n",
       "2510   вдовец / вдова                 2      F   сотрудник     0   \n",
       "2941  женат / замужем                 0      F   сотрудник     0   \n",
       "\n",
       "       total_income                                purpose  median_income  \n",
       "606   145334.865002                          покупка жилья  172357.950966  \n",
       "720   112998.738649                   покупка недвижимости  172357.950966  \n",
       "1074  229518.537004                  получение образования  142594.396847  \n",
       "2510  264474.835577  операции с коммерческой недвижимостью  142594.396847  \n",
       "2941  199739.941398                  на покупку автомобиля  142594.396847  "
      ]
     },
     "execution_count": 15,
     "metadata": {},
     "output_type": "execute_result"
    }
   ],
   "source": [
    "#введу переменную children_20, где сохраную данные о людях, имеющих 20 детей.\n",
    "children_20 = data.loc[data['children'] == 20]\n",
    "children_20.head()"
   ]
  },
  {
   "cell_type": "code",
   "execution_count": 16,
   "metadata": {},
   "outputs": [],
   "source": [
    "#средний доход и тип занятости для людей, имеющих 20 детей\n",
    "type_income_20 = children_20.groupby('income_type', as_index=False)['total_income'].median()"
   ]
  },
  {
   "cell_type": "code",
   "execution_count": 17,
   "metadata": {},
   "outputs": [
    {
     "data": {
      "text/html": [
       "<div>\n",
       "<style scoped>\n",
       "    .dataframe tbody tr th:only-of-type {\n",
       "        vertical-align: middle;\n",
       "    }\n",
       "\n",
       "    .dataframe tbody tr th {\n",
       "        vertical-align: top;\n",
       "    }\n",
       "\n",
       "    .dataframe thead th {\n",
       "        text-align: right;\n",
       "    }\n",
       "</style>\n",
       "<table border=\"1\" class=\"dataframe\">\n",
       "  <thead>\n",
       "    <tr style=\"text-align: right;\">\n",
       "      <th></th>\n",
       "      <th>income_type</th>\n",
       "      <th>total_income</th>\n",
       "    </tr>\n",
       "  </thead>\n",
       "  <tbody>\n",
       "    <tr>\n",
       "      <td>0</td>\n",
       "      <td>госслужащий</td>\n",
       "      <td>204226.869642</td>\n",
       "    </tr>\n",
       "    <tr>\n",
       "      <td>1</td>\n",
       "      <td>компаньон</td>\n",
       "      <td>171069.424797</td>\n",
       "    </tr>\n",
       "    <tr>\n",
       "      <td>2</td>\n",
       "      <td>пенсионер</td>\n",
       "      <td>127947.130141</td>\n",
       "    </tr>\n",
       "    <tr>\n",
       "      <td>3</td>\n",
       "      <td>сотрудник</td>\n",
       "      <td>142594.396847</td>\n",
       "    </tr>\n",
       "  </tbody>\n",
       "</table>\n",
       "</div>"
      ],
      "text/plain": [
       "   income_type   total_income\n",
       "0  госслужащий  204226.869642\n",
       "1    компаньон  171069.424797\n",
       "2    пенсионер  127947.130141\n",
       "3    сотрудник  142594.396847"
      ]
     },
     "execution_count": 17,
     "metadata": {},
     "output_type": "execute_result"
    }
   ],
   "source": [
    "type_income_20"
   ]
  },
  {
   "cell_type": "code",
   "execution_count": 18,
   "metadata": {},
   "outputs": [
    {
     "data": {
      "text/html": [
       "<div>\n",
       "<style scoped>\n",
       "    .dataframe tbody tr th:only-of-type {\n",
       "        vertical-align: middle;\n",
       "    }\n",
       "\n",
       "    .dataframe tbody tr th {\n",
       "        vertical-align: top;\n",
       "    }\n",
       "\n",
       "    .dataframe thead th {\n",
       "        text-align: right;\n",
       "    }\n",
       "</style>\n",
       "<table border=\"1\" class=\"dataframe\">\n",
       "  <thead>\n",
       "    <tr style=\"text-align: right;\">\n",
       "      <th></th>\n",
       "      <th>income_type</th>\n",
       "      <th>median_income</th>\n",
       "    </tr>\n",
       "  </thead>\n",
       "  <tbody>\n",
       "    <tr>\n",
       "      <td>0</td>\n",
       "      <td>безработный</td>\n",
       "      <td>131339.751676</td>\n",
       "    </tr>\n",
       "    <tr>\n",
       "      <td>1</td>\n",
       "      <td>в декрете</td>\n",
       "      <td>53829.130729</td>\n",
       "    </tr>\n",
       "    <tr>\n",
       "      <td>2</td>\n",
       "      <td>госслужащий</td>\n",
       "      <td>150447.935283</td>\n",
       "    </tr>\n",
       "    <tr>\n",
       "      <td>3</td>\n",
       "      <td>компаньон</td>\n",
       "      <td>172357.950966</td>\n",
       "    </tr>\n",
       "    <tr>\n",
       "      <td>4</td>\n",
       "      <td>пенсионер</td>\n",
       "      <td>118514.486412</td>\n",
       "    </tr>\n",
       "    <tr>\n",
       "      <td>5</td>\n",
       "      <td>предприниматель</td>\n",
       "      <td>499163.144947</td>\n",
       "    </tr>\n",
       "    <tr>\n",
       "      <td>6</td>\n",
       "      <td>сотрудник</td>\n",
       "      <td>142594.396847</td>\n",
       "    </tr>\n",
       "    <tr>\n",
       "      <td>7</td>\n",
       "      <td>студент</td>\n",
       "      <td>98201.625314</td>\n",
       "    </tr>\n",
       "  </tbody>\n",
       "</table>\n",
       "</div>"
      ],
      "text/plain": [
       "       income_type  median_income\n",
       "0      безработный  131339.751676\n",
       "1        в декрете   53829.130729\n",
       "2      госслужащий  150447.935283\n",
       "3        компаньон  172357.950966\n",
       "4        пенсионер  118514.486412\n",
       "5  предприниматель  499163.144947\n",
       "6        сотрудник  142594.396847\n",
       "7          студент   98201.625314"
      ]
     },
     "execution_count": 18,
     "metadata": {},
     "output_type": "execute_result"
    }
   ],
   "source": [
    "type_income_median # средний доход по типу занятости для всех категорий граждан"
   ]
  },
  {
   "cell_type": "code",
   "execution_count": 19,
   "metadata": {},
   "outputs": [
    {
     "data": {
      "text/html": [
       "<div>\n",
       "<style scoped>\n",
       "    .dataframe tbody tr th:only-of-type {\n",
       "        vertical-align: middle;\n",
       "    }\n",
       "\n",
       "    .dataframe tbody tr th {\n",
       "        vertical-align: top;\n",
       "    }\n",
       "\n",
       "    .dataframe thead th {\n",
       "        text-align: right;\n",
       "    }\n",
       "</style>\n",
       "<table border=\"1\" class=\"dataframe\">\n",
       "  <thead>\n",
       "    <tr style=\"text-align: right;\">\n",
       "      <th></th>\n",
       "      <th>income_type</th>\n",
       "      <th>total_income</th>\n",
       "      <th>median_income</th>\n",
       "    </tr>\n",
       "  </thead>\n",
       "  <tbody>\n",
       "    <tr>\n",
       "      <td>0</td>\n",
       "      <td>госслужащий</td>\n",
       "      <td>204226.869642</td>\n",
       "      <td>150447.935283</td>\n",
       "    </tr>\n",
       "    <tr>\n",
       "      <td>1</td>\n",
       "      <td>компаньон</td>\n",
       "      <td>171069.424797</td>\n",
       "      <td>172357.950966</td>\n",
       "    </tr>\n",
       "    <tr>\n",
       "      <td>2</td>\n",
       "      <td>пенсионер</td>\n",
       "      <td>127947.130141</td>\n",
       "      <td>118514.486412</td>\n",
       "    </tr>\n",
       "    <tr>\n",
       "      <td>3</td>\n",
       "      <td>сотрудник</td>\n",
       "      <td>142594.396847</td>\n",
       "      <td>142594.396847</td>\n",
       "    </tr>\n",
       "  </tbody>\n",
       "</table>\n",
       "</div>"
      ],
      "text/plain": [
       "   income_type   total_income  median_income\n",
       "0  госслужащий  204226.869642  150447.935283\n",
       "1    компаньон  171069.424797  172357.950966\n",
       "2    пенсионер  127947.130141  118514.486412\n",
       "3    сотрудник  142594.396847  142594.396847"
      ]
     },
     "execution_count": 19,
     "metadata": {},
     "output_type": "execute_result"
    }
   ],
   "source": [
    "#для наглядности сделаю единую таблицу, где объеденю данные\n",
    "type_income_20.merge(type_income_median, on='income_type', how='inner')"
   ]
  },
  {
   "cell_type": "markdown",
   "metadata": {},
   "source": [
    "Видно, что средний доход людей, имеющих 20 детей мало чем отличается от среднего дохода людей, имеющих намного меньше детей. "
   ]
  },
  {
   "cell_type": "markdown",
   "metadata": {},
   "source": [
    "<div class=\"alert alert-info\">\n",
    "\n",
    "<b></b> Гипотеза подтвердилась. Значит нужно изменить данные в столбце 'children'. Где было -1 заменяем на 0. Где было 20 заменяем на 2. \n",
    "</div>"
   ]
  },
  {
   "cell_type": "code",
   "execution_count": 20,
   "metadata": {},
   "outputs": [],
   "source": [
    "data.loc[data['children'] == -1, 'children'] = 0"
   ]
  },
  {
   "cell_type": "code",
   "execution_count": 21,
   "metadata": {},
   "outputs": [],
   "source": [
    "data.loc[data['children'] == 20, 'children'] = 2"
   ]
  },
  {
   "cell_type": "code",
   "execution_count": 22,
   "metadata": {},
   "outputs": [
    {
     "data": {
      "text/plain": [
       "0    14196\n",
       "1     4818\n",
       "2     2131\n",
       "3      330\n",
       "4       41\n",
       "5        9\n",
       "Name: children, dtype: int64"
      ]
     },
     "execution_count": 22,
     "metadata": {},
     "output_type": "execute_result"
    }
   ],
   "source": [
    "data['children'].value_counts()"
   ]
  },
  {
   "cell_type": "code",
   "execution_count": 23,
   "metadata": {},
   "outputs": [
    {
     "data": {
      "text/plain": [
       "children            0\n",
       "days_employed       0\n",
       "dob_years           0\n",
       "education           0\n",
       "education_id        0\n",
       "family_status       0\n",
       "family_status_id    0\n",
       "gender              0\n",
       "income_type         0\n",
       "debt                0\n",
       "total_income        0\n",
       "purpose             0\n",
       "median_income       0\n",
       "dtype: int64"
      ]
     },
     "execution_count": 23,
     "metadata": {},
     "output_type": "execute_result"
    }
   ],
   "source": [
    "data.isna().sum()"
   ]
  },
  {
   "cell_type": "markdown",
   "metadata": {},
   "source": [
    "**Вывод**"
   ]
  },
  {
   "cell_type": "markdown",
   "metadata": {},
   "source": [
    "<div class=\"alert alert-info\">\n",
    "<b>\n",
    "В столбцах `days_employed` и `total_income` одинаковое количество пропущенных значений (2174) в соответсвующих строках. Пропуски могут быть связаны с тем, что это либо неработающий пенсионер, либо, возможно, люди не захотели указывать свой трудовой стаж и ежемесячный доход, либо они работают неофициально. Это вызывает вопрос: как без данных о общем трудовом стаже в днях и ежемесячном доходе банк одобрил кредит?  \n",
    "    \n",
    "Заполнила пропуски столбца `days_employed` (общий трудовой стаж в днях) значением 0 (так как считаю, что в дальнейших расчетах это никак не повлияет), используя fillna(0).\n",
    "    \n",
    "Для того, чтобы заполнить пропуски в столбце `total_income` (ежемесячный доход), т.к. это важный показатель, для начала я сгруппировала датафрейм по столбцу `income_type` (методом  df.groupby('column') ), и по сгруппированным данным рассчитала медианные значения (методом data['column'].median()), сохраняя в переменную type_income_median.     \n",
    "    \n",
    "Используя merge(), соединила два дарафрейма. Затем заменила пропуски в столбце `total_income` медианным значением для конкретной категории. Еще раз убедилась, что в датафрейме больше нет пропусков. \n",
    "\n",
    "В столбце `children` обнаружила граждан, у которых -1 ребенок (47 человек) и у которых 20 детей (76 человек). Выдвинула гипотезу, что  там где поставили -1, имелось в виду значение 0, так как очень часто программа при отсутсвии значения возвращает -1, я думаю, это именно тот случай. Кроме того очень трудно опечататься, где клавиша \"минус\", а где 1, так что это точно не \"тире\", а именно минус. А там, где указано 20 детей, то имелось в виду два ребенка (так как в NumLock клавиша 2 и 0 расположены очень близко, можно легко промахнуться). Чтобы проверить эту гипотезу (для граждан, имеющих 20 детей), посмотрю возраст таких граждан и их ежемесячный доход, сравню его со средним доходом. Логично предположить: чтобы человек, имеющий 20 детей должен иметь доход явно выше среднего, чтобы обеспечитвать тех самых 20 детей. Проведя нужные подсчеты, подтвердила гипотезу: средний возраст и ежемесячный доход граждан с 20 детьми не сильно выбивается из средних значений, что подтверждает гипотезу.\n",
    "\n",
    "Заменила данные в столбце `children`. Где было -1 заменила на 0. Где было 20 заменила на 2. \n",
    "    \n",
    "Убедилась в отсутствии пропусков в столбцах датасета.\n",
    "</b>\n",
    "<br>\n",
    "</div>"
   ]
  },
  {
   "cell_type": "markdown",
   "metadata": {},
   "source": [
    "### Замена типа данных"
   ]
  },
  {
   "cell_type": "code",
   "execution_count": 24,
   "metadata": {},
   "outputs": [
    {
     "name": "stdout",
     "output_type": "stream",
     "text": [
      "<class 'pandas.core.frame.DataFrame'>\n",
      "Int64Index: 21525 entries, 0 to 21524\n",
      "Data columns (total 13 columns):\n",
      "children            21525 non-null int64\n",
      "days_employed       21525 non-null int64\n",
      "dob_years           21525 non-null int64\n",
      "education           21525 non-null object\n",
      "education_id        21525 non-null int64\n",
      "family_status       21525 non-null object\n",
      "family_status_id    21525 non-null int64\n",
      "gender              21525 non-null object\n",
      "income_type         21525 non-null object\n",
      "debt                21525 non-null int64\n",
      "total_income        21525 non-null int64\n",
      "purpose             21525 non-null object\n",
      "median_income       21525 non-null float64\n",
      "dtypes: float64(1), int64(7), object(5)\n",
      "memory usage: 2.9+ MB\n"
     ]
    }
   ],
   "source": [
    "data[['days_employed', 'total_income']] = data[['days_employed', 'total_income']].astype('int')\n",
    "data.info()"
   ]
  },
  {
   "cell_type": "markdown",
   "metadata": {},
   "source": [
    "**Вывод**"
   ]
  },
  {
   "cell_type": "markdown",
   "metadata": {},
   "source": [
    "<div class=\"alert alert-info\">\n",
    "<b>Выполнила замену вещественного типа данных (в столбцах 'days_employed' и 'total_income', где хранятся данные типа float) на целочисленный c помощью astype('int'), потому что он позволяет изменить тип данных. Убедилась, что все применилось - info().</b>\n",
    "<br>\n",
    "</div>"
   ]
  },
  {
   "cell_type": "markdown",
   "metadata": {},
   "source": [
    "### Обработка дубликатов"
   ]
  },
  {
   "cell_type": "code",
   "execution_count": 25,
   "metadata": {},
   "outputs": [
    {
     "data": {
      "text/plain": [
       "54"
      ]
     },
     "execution_count": 25,
     "metadata": {},
     "output_type": "execute_result"
    }
   ],
   "source": [
    "data.duplicated().sum()"
   ]
  },
  {
   "cell_type": "code",
   "execution_count": 26,
   "metadata": {},
   "outputs": [],
   "source": [
    "data = data.drop_duplicates().reset_index(drop=True)"
   ]
  },
  {
   "cell_type": "code",
   "execution_count": 27,
   "metadata": {},
   "outputs": [
    {
     "data": {
      "text/html": [
       "<div>\n",
       "<style scoped>\n",
       "    .dataframe tbody tr th:only-of-type {\n",
       "        vertical-align: middle;\n",
       "    }\n",
       "\n",
       "    .dataframe tbody tr th {\n",
       "        vertical-align: top;\n",
       "    }\n",
       "\n",
       "    .dataframe thead th {\n",
       "        text-align: right;\n",
       "    }\n",
       "</style>\n",
       "<table border=\"1\" class=\"dataframe\">\n",
       "  <thead>\n",
       "    <tr style=\"text-align: right;\">\n",
       "      <th></th>\n",
       "      <th>children</th>\n",
       "      <th>days_employed</th>\n",
       "      <th>dob_years</th>\n",
       "      <th>education</th>\n",
       "      <th>education_id</th>\n",
       "      <th>family_status</th>\n",
       "      <th>family_status_id</th>\n",
       "      <th>gender</th>\n",
       "      <th>income_type</th>\n",
       "      <th>debt</th>\n",
       "      <th>total_income</th>\n",
       "      <th>purpose</th>\n",
       "      <th>median_income</th>\n",
       "    </tr>\n",
       "  </thead>\n",
       "  <tbody>\n",
       "    <tr>\n",
       "      <td>0</td>\n",
       "      <td>1</td>\n",
       "      <td>-8437</td>\n",
       "      <td>42</td>\n",
       "      <td>высшее</td>\n",
       "      <td>0</td>\n",
       "      <td>женат / замужем</td>\n",
       "      <td>0</td>\n",
       "      <td>F</td>\n",
       "      <td>сотрудник</td>\n",
       "      <td>0</td>\n",
       "      <td>253875</td>\n",
       "      <td>покупка жилья</td>\n",
       "      <td>142594.396847</td>\n",
       "    </tr>\n",
       "    <tr>\n",
       "      <td>1</td>\n",
       "      <td>1</td>\n",
       "      <td>-4024</td>\n",
       "      <td>36</td>\n",
       "      <td>среднее</td>\n",
       "      <td>1</td>\n",
       "      <td>женат / замужем</td>\n",
       "      <td>0</td>\n",
       "      <td>F</td>\n",
       "      <td>сотрудник</td>\n",
       "      <td>0</td>\n",
       "      <td>112080</td>\n",
       "      <td>приобретение автомобиля</td>\n",
       "      <td>142594.396847</td>\n",
       "    </tr>\n",
       "    <tr>\n",
       "      <td>2</td>\n",
       "      <td>0</td>\n",
       "      <td>-5623</td>\n",
       "      <td>33</td>\n",
       "      <td>Среднее</td>\n",
       "      <td>1</td>\n",
       "      <td>женат / замужем</td>\n",
       "      <td>0</td>\n",
       "      <td>M</td>\n",
       "      <td>сотрудник</td>\n",
       "      <td>0</td>\n",
       "      <td>145885</td>\n",
       "      <td>покупка жилья</td>\n",
       "      <td>142594.396847</td>\n",
       "    </tr>\n",
       "    <tr>\n",
       "      <td>3</td>\n",
       "      <td>3</td>\n",
       "      <td>-4124</td>\n",
       "      <td>32</td>\n",
       "      <td>среднее</td>\n",
       "      <td>1</td>\n",
       "      <td>женат / замужем</td>\n",
       "      <td>0</td>\n",
       "      <td>M</td>\n",
       "      <td>сотрудник</td>\n",
       "      <td>0</td>\n",
       "      <td>267628</td>\n",
       "      <td>дополнительное образование</td>\n",
       "      <td>142594.396847</td>\n",
       "    </tr>\n",
       "    <tr>\n",
       "      <td>4</td>\n",
       "      <td>0</td>\n",
       "      <td>340266</td>\n",
       "      <td>53</td>\n",
       "      <td>среднее</td>\n",
       "      <td>1</td>\n",
       "      <td>гражданский брак</td>\n",
       "      <td>1</td>\n",
       "      <td>F</td>\n",
       "      <td>пенсионер</td>\n",
       "      <td>0</td>\n",
       "      <td>158616</td>\n",
       "      <td>сыграть свадьбу</td>\n",
       "      <td>118514.486412</td>\n",
       "    </tr>\n",
       "  </tbody>\n",
       "</table>\n",
       "</div>"
      ],
      "text/plain": [
       "   children  days_employed  dob_years education  education_id  \\\n",
       "0         1          -8437         42    высшее             0   \n",
       "1         1          -4024         36   среднее             1   \n",
       "2         0          -5623         33   Среднее             1   \n",
       "3         3          -4124         32   среднее             1   \n",
       "4         0         340266         53   среднее             1   \n",
       "\n",
       "      family_status  family_status_id gender income_type  debt  total_income  \\\n",
       "0   женат / замужем                 0      F   сотрудник     0        253875   \n",
       "1   женат / замужем                 0      F   сотрудник     0        112080   \n",
       "2   женат / замужем                 0      M   сотрудник     0        145885   \n",
       "3   женат / замужем                 0      M   сотрудник     0        267628   \n",
       "4  гражданский брак                 1      F   пенсионер     0        158616   \n",
       "\n",
       "                      purpose  median_income  \n",
       "0               покупка жилья  142594.396847  \n",
       "1     приобретение автомобиля  142594.396847  \n",
       "2               покупка жилья  142594.396847  \n",
       "3  дополнительное образование  142594.396847  \n",
       "4             сыграть свадьбу  118514.486412  "
      ]
     },
     "execution_count": 27,
     "metadata": {},
     "output_type": "execute_result"
    }
   ],
   "source": [
    "data.head()"
   ]
  },
  {
   "cell_type": "code",
   "execution_count": 28,
   "metadata": {},
   "outputs": [
    {
     "data": {
      "text/plain": [
       "среднее                13705\n",
       "высшее                  4710\n",
       "СРЕДНЕЕ                  772\n",
       "Среднее                  711\n",
       "неоконченное высшее      668\n",
       "ВЫСШЕЕ                   273\n",
       "Высшее                   268\n",
       "начальное                250\n",
       "Неоконченное высшее       47\n",
       "НЕОКОНЧЕННОЕ ВЫСШЕЕ       29\n",
       "НАЧАЛЬНОЕ                 17\n",
       "Начальное                 15\n",
       "ученая степень             4\n",
       "Ученая степень             1\n",
       "УЧЕНАЯ СТЕПЕНЬ             1\n",
       "Name: education, dtype: int64"
      ]
     },
     "execution_count": 28,
     "metadata": {},
     "output_type": "execute_result"
    }
   ],
   "source": [
    "data['education'].value_counts()  "
   ]
  },
  {
   "cell_type": "code",
   "execution_count": 29,
   "metadata": {},
   "outputs": [
    {
     "data": {
      "text/plain": [
       "женат / замужем          12344\n",
       "гражданский брак          4163\n",
       "Не женат / не замужем     2810\n",
       "в разводе                 1195\n",
       "вдовец / вдова             959\n",
       "Name: family_status, dtype: int64"
      ]
     },
     "execution_count": 29,
     "metadata": {},
     "output_type": "execute_result"
    }
   ],
   "source": [
    "data['family_status'].value_counts() "
   ]
  },
  {
   "cell_type": "code",
   "execution_count": 30,
   "metadata": {},
   "outputs": [
    {
     "data": {
      "text/plain": [
       "F      14189\n",
       "M       7281\n",
       "XNA        1\n",
       "Name: gender, dtype: int64"
      ]
     },
     "execution_count": 30,
     "metadata": {},
     "output_type": "execute_result"
    }
   ],
   "source": [
    "data['gender'].value_counts() "
   ]
  },
  {
   "cell_type": "code",
   "execution_count": 31,
   "metadata": {},
   "outputs": [
    {
     "data": {
      "text/plain": [
       "сотрудник          11091\n",
       "компаньон           5080\n",
       "пенсионер           3837\n",
       "госслужащий         1457\n",
       "предприниматель        2\n",
       "безработный            2\n",
       "в декрете              1\n",
       "студент                1\n",
       "Name: income_type, dtype: int64"
      ]
     },
     "execution_count": 31,
     "metadata": {},
     "output_type": "execute_result"
    }
   ],
   "source": [
    "data['income_type'].value_counts()  "
   ]
  },
  {
   "cell_type": "code",
   "execution_count": 32,
   "metadata": {},
   "outputs": [
    {
     "data": {
      "text/plain": [
       "свадьба                                   793\n",
       "на проведение свадьбы                     773\n",
       "сыграть свадьбу                           769\n",
       "операции с недвижимостью                  675\n",
       "покупка коммерческой недвижимости         662\n",
       "покупка жилья для сдачи                   652\n",
       "операции с жильем                         652\n",
       "операции с коммерческой недвижимостью     650\n",
       "жилье                                     646\n",
       "покупка жилья                             646\n",
       "покупка жилья для семьи                   638\n",
       "строительство собственной недвижимости    635\n",
       "недвижимость                              633\n",
       "операции со своей недвижимостью           627\n",
       "строительство жилой недвижимости          625\n",
       "покупка недвижимости                      621\n",
       "покупка своего жилья                      620\n",
       "строительство недвижимости                619\n",
       "ремонт жилью                              607\n",
       "покупка жилой недвижимости                606\n",
       "на покупку своего автомобиля              505\n",
       "заняться высшим образованием              496\n",
       "автомобиль                                494\n",
       "сделка с подержанным автомобилем          486\n",
       "свой автомобиль                           479\n",
       "автомобили                                478\n",
       "на покупку подержанного автомобиля        478\n",
       "на покупку автомобиля                     472\n",
       "приобретение автомобиля                   461\n",
       "дополнительное образование                460\n",
       "сделка с автомобилем                      455\n",
       "высшее образование                        452\n",
       "образование                               447\n",
       "получение дополнительного образования     447\n",
       "получение образования                     442\n",
       "профильное образование                    436\n",
       "получение высшего образования             426\n",
       "заняться образованием                     408\n",
       "Name: purpose, dtype: int64"
      ]
     },
     "execution_count": 32,
     "metadata": {},
     "output_type": "execute_result"
    }
   ],
   "source": [
    "data['purpose'].value_counts() "
   ]
  },
  {
   "cell_type": "code",
   "execution_count": 33,
   "metadata": {},
   "outputs": [],
   "source": [
    "data['education'] = data['education'].str.lower()"
   ]
  },
  {
   "cell_type": "code",
   "execution_count": 34,
   "metadata": {},
   "outputs": [
    {
     "data": {
      "text/plain": [
       "среднее                15188\n",
       "высшее                  5251\n",
       "неоконченное высшее      744\n",
       "начальное                282\n",
       "ученая степень             6\n",
       "Name: education, dtype: int64"
      ]
     },
     "execution_count": 34,
     "metadata": {},
     "output_type": "execute_result"
    }
   ],
   "source": [
    "data['education'].value_counts() "
   ]
  },
  {
   "cell_type": "code",
   "execution_count": 35,
   "metadata": {},
   "outputs": [
    {
     "data": {
      "text/plain": [
       "17"
      ]
     },
     "execution_count": 35,
     "metadata": {},
     "output_type": "execute_result"
    }
   ],
   "source": [
    "data.duplicated().sum()"
   ]
  },
  {
   "cell_type": "code",
   "execution_count": 36,
   "metadata": {},
   "outputs": [],
   "source": [
    "data = data.drop_duplicates().reset_index(drop=True)"
   ]
  },
  {
   "cell_type": "code",
   "execution_count": 37,
   "metadata": {},
   "outputs": [
    {
     "data": {
      "text/plain": [
       "0"
      ]
     },
     "execution_count": 37,
     "metadata": {},
     "output_type": "execute_result"
    }
   ],
   "source": [
    "data.duplicated().sum()"
   ]
  },
  {
   "cell_type": "markdown",
   "metadata": {},
   "source": [
    " **Вывод**"
   ]
  },
  {
   "cell_type": "markdown",
   "metadata": {},
   "source": [
    "<div class=\"alert alert-info\">\n",
    "<b>  \n",
    "    \n",
    "1. Выявила явные дубликаты и их количество, используя duplicated().sum()\n",
    "    \n",
    "2. Избавилась от явных дубликатов, используя drop_duplicates().reset_index(drop=True).\n",
    "    \n",
    "3. Поиск неявных дубликатов осуществяю с помощью метода value_counts(). Применяю этот способ ко всем столбцам, имеющим тип object. Вижу, что в столбце `education` строки написаны в разном регистре. Кроме того, в столбце `purpose` видны слова, записанные в разных формах, в следущием задании приведем слова к их словарной форме (лемме). Еще, в столбце 'gender' выявилось непонятное значение XNA 1 раз. Но, на дальнейшие расчеты это мало повляет. Пока не знаю, стоит ли с этим что-то делать? Предполагаю, что это `XNA`, скорее всего в английской традиции ‘seX Not Approved’ - то есть данные о гендерной принадлежности не предоставлены. \n",
    "    \n",
    "4. Приведем строки столбца `education` к одному регистру с помощью функции и использоания метода str.lower().\n",
    "    \n",
    "5. Снова выявила явные дубликаты и их количество, используя duplicated().sum(). Удалила их, используя drop_duplicates().reset_index(drop=True). Убедилась, что избавилась от дубликатов.\n",
    "    \n",
    "    Причиной появления дубликатов считаю человеческий фактор, данные вводились невнимательно, повторяясь, с ошибками и с использованием разного регистра.\n",
    "    \n",
    "    </b>\n",
    "<br>\n",
    "</div>"
   ]
  },
  {
   "cell_type": "markdown",
   "metadata": {},
   "source": [
    "### Лемматизация"
   ]
  },
  {
   "cell_type": "code",
   "execution_count": 38,
   "metadata": {},
   "outputs": [
    {
     "data": {
      "text/plain": [
       "array(['покупка жилья', 'приобретение автомобиля',\n",
       "       'дополнительное образование', 'сыграть свадьбу',\n",
       "       'операции с жильем', 'образование', 'на проведение свадьбы',\n",
       "       'покупка жилья для семьи', 'покупка недвижимости',\n",
       "       'покупка коммерческой недвижимости', 'покупка жилой недвижимости',\n",
       "       'строительство собственной недвижимости', 'недвижимость',\n",
       "       'строительство недвижимости', 'на покупку подержанного автомобиля',\n",
       "       'на покупку своего автомобиля',\n",
       "       'операции с коммерческой недвижимостью',\n",
       "       'строительство жилой недвижимости', 'жилье',\n",
       "       'операции со своей недвижимостью', 'автомобили',\n",
       "       'заняться образованием', 'сделка с подержанным автомобилем',\n",
       "       'получение образования', 'автомобиль', 'свадьба',\n",
       "       'получение дополнительного образования', 'покупка своего жилья',\n",
       "       'операции с недвижимостью', 'получение высшего образования',\n",
       "       'свой автомобиль', 'сделка с автомобилем',\n",
       "       'профильное образование', 'высшее образование',\n",
       "       'покупка жилья для сдачи', 'на покупку автомобиля', 'ремонт жилью',\n",
       "       'заняться высшим образованием'], dtype=object)"
      ]
     },
     "execution_count": 38,
     "metadata": {},
     "output_type": "execute_result"
    }
   ],
   "source": [
    "from pymystem3 import Mystem\n",
    "m = Mystem() \n",
    "purpose_list = data['purpose'].unique()\n",
    "purpose_list"
   ]
  },
  {
   "cell_type": "code",
   "execution_count": 39,
   "metadata": {},
   "outputs": [
    {
     "data": {
      "text/plain": [
       "[['покупка', ' ', 'жилье', '\\n'],\n",
       " ['приобретение', ' ', 'автомобиль', '\\n'],\n",
       " ['дополнительный', ' ', 'образование', '\\n'],\n",
       " ['сыграть', ' ', 'свадьба', '\\n'],\n",
       " ['операция', ' ', 'с', ' ', 'жилье', '\\n'],\n",
       " ['образование', '\\n'],\n",
       " ['на', ' ', 'проведение', ' ', 'свадьба', '\\n'],\n",
       " ['покупка', ' ', 'жилье', ' ', 'для', ' ', 'семья', '\\n'],\n",
       " ['покупка', ' ', 'недвижимость', '\\n'],\n",
       " ['покупка', ' ', 'коммерческий', ' ', 'недвижимость', '\\n'],\n",
       " ['покупка', ' ', 'жилой', ' ', 'недвижимость', '\\n'],\n",
       " ['строительство', ' ', 'собственный', ' ', 'недвижимость', '\\n'],\n",
       " ['недвижимость', '\\n'],\n",
       " ['строительство', ' ', 'недвижимость', '\\n'],\n",
       " ['на', ' ', 'покупка', ' ', 'подержать', ' ', 'автомобиль', '\\n'],\n",
       " ['на', ' ', 'покупка', ' ', 'свой', ' ', 'автомобиль', '\\n'],\n",
       " ['операция', ' ', 'с', ' ', 'коммерческий', ' ', 'недвижимость', '\\n'],\n",
       " ['строительство', ' ', 'жилой', ' ', 'недвижимость', '\\n'],\n",
       " ['жилье', '\\n'],\n",
       " ['операция', ' ', 'со', ' ', 'свой', ' ', 'недвижимость', '\\n'],\n",
       " ['автомобиль', '\\n'],\n",
       " ['заниматься', ' ', 'образование', '\\n'],\n",
       " ['сделка', ' ', 'с', ' ', 'подержанный', ' ', 'автомобиль', '\\n'],\n",
       " ['получение', ' ', 'образование', '\\n'],\n",
       " ['автомобиль', '\\n'],\n",
       " ['свадьба', '\\n'],\n",
       " ['получение', ' ', 'дополнительный', ' ', 'образование', '\\n'],\n",
       " ['покупка', ' ', 'свой', ' ', 'жилье', '\\n'],\n",
       " ['операция', ' ', 'с', ' ', 'недвижимость', '\\n'],\n",
       " ['получение', ' ', 'высокий', ' ', 'образование', '\\n'],\n",
       " ['свой', ' ', 'автомобиль', '\\n'],\n",
       " ['сделка', ' ', 'с', ' ', 'автомобиль', '\\n'],\n",
       " ['профильный', ' ', 'образование', '\\n'],\n",
       " ['высокий', ' ', 'образование', '\\n'],\n",
       " ['покупка', ' ', 'жилье', ' ', 'для', ' ', 'сдача', '\\n'],\n",
       " ['на', ' ', 'покупка', ' ', 'автомобиль', '\\n'],\n",
       " ['ремонт', ' ', 'жилье', '\\n'],\n",
       " ['заниматься', ' ', 'высокий', ' ', 'образование', '\\n']]"
      ]
     },
     "execution_count": 39,
     "metadata": {},
     "output_type": "execute_result"
    }
   ],
   "source": [
    "lemmas = []\n",
    "for row in purpose_list:\n",
    "    lemma = m.lemmatize(row)\n",
    "    lemmas.append(lemma)\n",
    "lemmas"
   ]
  },
  {
   "cell_type": "code",
   "execution_count": 40,
   "metadata": {},
   "outputs": [
    {
     "data": {
      "text/html": [
       "<div>\n",
       "<style scoped>\n",
       "    .dataframe tbody tr th:only-of-type {\n",
       "        vertical-align: middle;\n",
       "    }\n",
       "\n",
       "    .dataframe tbody tr th {\n",
       "        vertical-align: top;\n",
       "    }\n",
       "\n",
       "    .dataframe thead th {\n",
       "        text-align: right;\n",
       "    }\n",
       "</style>\n",
       "<table border=\"1\" class=\"dataframe\">\n",
       "  <thead>\n",
       "    <tr style=\"text-align: right;\">\n",
       "      <th></th>\n",
       "      <th>children</th>\n",
       "      <th>days_employed</th>\n",
       "      <th>dob_years</th>\n",
       "      <th>education</th>\n",
       "      <th>education_id</th>\n",
       "      <th>family_status</th>\n",
       "      <th>family_status_id</th>\n",
       "      <th>gender</th>\n",
       "      <th>income_type</th>\n",
       "      <th>debt</th>\n",
       "      <th>total_income</th>\n",
       "      <th>purpose</th>\n",
       "      <th>median_income</th>\n",
       "    </tr>\n",
       "  </thead>\n",
       "  <tbody>\n",
       "    <tr>\n",
       "      <td>0</td>\n",
       "      <td>1</td>\n",
       "      <td>-8437</td>\n",
       "      <td>42</td>\n",
       "      <td>высшее</td>\n",
       "      <td>0</td>\n",
       "      <td>женат / замужем</td>\n",
       "      <td>0</td>\n",
       "      <td>F</td>\n",
       "      <td>сотрудник</td>\n",
       "      <td>0</td>\n",
       "      <td>253875</td>\n",
       "      <td>недвижимость</td>\n",
       "      <td>142594.396847</td>\n",
       "    </tr>\n",
       "    <tr>\n",
       "      <td>1</td>\n",
       "      <td>1</td>\n",
       "      <td>-4024</td>\n",
       "      <td>36</td>\n",
       "      <td>среднее</td>\n",
       "      <td>1</td>\n",
       "      <td>женат / замужем</td>\n",
       "      <td>0</td>\n",
       "      <td>F</td>\n",
       "      <td>сотрудник</td>\n",
       "      <td>0</td>\n",
       "      <td>112080</td>\n",
       "      <td>автомобиль</td>\n",
       "      <td>142594.396847</td>\n",
       "    </tr>\n",
       "    <tr>\n",
       "      <td>2</td>\n",
       "      <td>0</td>\n",
       "      <td>-5623</td>\n",
       "      <td>33</td>\n",
       "      <td>среднее</td>\n",
       "      <td>1</td>\n",
       "      <td>женат / замужем</td>\n",
       "      <td>0</td>\n",
       "      <td>M</td>\n",
       "      <td>сотрудник</td>\n",
       "      <td>0</td>\n",
       "      <td>145885</td>\n",
       "      <td>недвижимость</td>\n",
       "      <td>142594.396847</td>\n",
       "    </tr>\n",
       "    <tr>\n",
       "      <td>3</td>\n",
       "      <td>3</td>\n",
       "      <td>-4124</td>\n",
       "      <td>32</td>\n",
       "      <td>среднее</td>\n",
       "      <td>1</td>\n",
       "      <td>женат / замужем</td>\n",
       "      <td>0</td>\n",
       "      <td>M</td>\n",
       "      <td>сотрудник</td>\n",
       "      <td>0</td>\n",
       "      <td>267628</td>\n",
       "      <td>образование</td>\n",
       "      <td>142594.396847</td>\n",
       "    </tr>\n",
       "    <tr>\n",
       "      <td>4</td>\n",
       "      <td>0</td>\n",
       "      <td>340266</td>\n",
       "      <td>53</td>\n",
       "      <td>среднее</td>\n",
       "      <td>1</td>\n",
       "      <td>гражданский брак</td>\n",
       "      <td>1</td>\n",
       "      <td>F</td>\n",
       "      <td>пенсионер</td>\n",
       "      <td>0</td>\n",
       "      <td>158616</td>\n",
       "      <td>свадьба</td>\n",
       "      <td>118514.486412</td>\n",
       "    </tr>\n",
       "  </tbody>\n",
       "</table>\n",
       "</div>"
      ],
      "text/plain": [
       "   children  days_employed  dob_years education  education_id  \\\n",
       "0         1          -8437         42    высшее             0   \n",
       "1         1          -4024         36   среднее             1   \n",
       "2         0          -5623         33   среднее             1   \n",
       "3         3          -4124         32   среднее             1   \n",
       "4         0         340266         53   среднее             1   \n",
       "\n",
       "      family_status  family_status_id gender income_type  debt  total_income  \\\n",
       "0   женат / замужем                 0      F   сотрудник     0        253875   \n",
       "1   женат / замужем                 0      F   сотрудник     0        112080   \n",
       "2   женат / замужем                 0      M   сотрудник     0        145885   \n",
       "3   женат / замужем                 0      M   сотрудник     0        267628   \n",
       "4  гражданский брак                 1      F   пенсионер     0        158616   \n",
       "\n",
       "        purpose  median_income  \n",
       "0  недвижимость  142594.396847  \n",
       "1    автомобиль  142594.396847  \n",
       "2  недвижимость  142594.396847  \n",
       "3   образование  142594.396847  \n",
       "4       свадьба  118514.486412  "
      ]
     },
     "execution_count": 40,
     "metadata": {},
     "output_type": "execute_result"
    }
   ],
   "source": [
    "def purpose_change(purpose):\n",
    "    lemmas_row = m.lemmatize(purpose)    \n",
    "    for value in lemmas_row:\n",
    "        if 'авто' in value:\n",
    "            return 'автомобиль'\n",
    "        if 'недвиж' in value or 'жил' in value:\n",
    "            return  'недвижимость'\n",
    "        if 'свад' in value:\n",
    "            return  'свадьба'\n",
    "        if 'образов' in value:\n",
    "            return 'образование'\n",
    "        \n",
    "data['purpose']= data['purpose'].apply(purpose_change)        \n",
    "data.head()"
   ]
  },
  {
   "cell_type": "code",
   "execution_count": 41,
   "metadata": {},
   "outputs": [
    {
     "data": {
      "text/plain": [
       "335"
      ]
     },
     "execution_count": 41,
     "metadata": {},
     "output_type": "execute_result"
    }
   ],
   "source": [
    "data.duplicated().sum()"
   ]
  },
  {
   "cell_type": "code",
   "execution_count": 42,
   "metadata": {},
   "outputs": [],
   "source": [
    "data = data.drop_duplicates().reset_index(drop=True)"
   ]
  },
  {
   "cell_type": "markdown",
   "metadata": {},
   "source": [
    "**Вывод**"
   ]
  },
  {
   "cell_type": "markdown",
   "metadata": {},
   "source": [
    "<div class=\"alert alert-info\">\n",
    "<b> \n",
    "    \n",
    "1. Загружаю библиотеку и сохраняю в список `purpose_list` уникальные значения столбца `purpose` с помощью метода unique().\n",
    "    \n",
    "2. Создаю пустой список lemmas, далее с помощью цикла каждую строчку в purpose_list лемматизирую, получаю список лемм и добавляю значения в пустой список lemmas, проверяю.\n",
    "    \n",
    "3. Создаю функцию purpose_change, которая разбивает на категории по леммам: \"Жилье/недвижимость\", \"автомобиль\", \"образование\", \"свадьба\". И заменила столбец `purpose`, в котором теперь хранится результат разбивки целей получения кредита по 4 категориям.\n",
    "    \n",
    "4. Проверила датафрейм на наличие дубликатов. Появилось 334 дубликата. Удалила их с помощью drop_duplicates().  \n",
    "</b>\n",
    "<br>\n",
    "</div>"
   ]
  },
  {
   "cell_type": "markdown",
   "metadata": {},
   "source": [
    "### Категоризация данных"
   ]
  },
  {
   "cell_type": "markdown",
   "metadata": {},
   "source": [
    "Категоризирую данные по наличию детей (есть дети / нет детей):"
   ]
  },
  {
   "cell_type": "code",
   "execution_count": 43,
   "metadata": {},
   "outputs": [
    {
     "data": {
      "text/plain": [
       "Нет детей    13875\n",
       "Есть дети     7244\n",
       "Name: children_group, dtype: int64"
      ]
     },
     "execution_count": 43,
     "metadata": {},
     "output_type": "execute_result"
    }
   ],
   "source": [
    "def children_group(children):\n",
    "    if children == 0:\n",
    "        return 'Нет детей'\n",
    "    if children >= 1:\n",
    "        return 'Есть дети'\n",
    "data['children_group'] = data['children'].apply(children_group)\n",
    "data['children_group'].value_counts()"
   ]
  },
  {
   "cell_type": "markdown",
   "metadata": {},
   "source": [
    "Ищу уникальные значения столца 'family_status'."
   ]
  },
  {
   "cell_type": "code",
   "execution_count": 44,
   "metadata": {},
   "outputs": [
    {
     "data": {
      "text/plain": [
       "array(['женат / замужем', 'гражданский брак', 'вдовец / вдова',\n",
       "       'в разводе', 'Не женат / не замужем'], dtype=object)"
      ]
     },
     "execution_count": 44,
     "metadata": {},
     "output_type": "execute_result"
    }
   ],
   "source": [
    "data['family_status'].unique()"
   ]
  },
  {
   "cell_type": "markdown",
   "metadata": {},
   "source": [
    "<div class=\"alert alert-info\">\n",
    "<b> \n",
    "Решила не категоризировать данные по семейному положению. Лишь вывела уникальные значения столбца 'family_status', чтобы посмотреть на категории.\n",
    "   \n",
    "</b>\n",
    "<br>\n",
    "</div>"
   ]
  },
  {
   "cell_type": "markdown",
   "metadata": {},
   "source": [
    "Катекоризирую данные по уровню ежемесячного дохода, используя метод qcut(). "
   ]
  },
  {
   "cell_type": "code",
   "execution_count": 45,
   "metadata": {},
   "outputs": [],
   "source": [
    "data['total_income_group'] = pd.qcut(data['total_income'], 4)"
   ]
  },
  {
   "cell_type": "code",
   "execution_count": 46,
   "metadata": {},
   "outputs": [
    {
     "data": {
      "text/plain": [
       "(196975.5, 2265604.0]    5280\n",
       "(106808.0, 142594.0]     5280\n",
       "(20666.999, 106808.0]    5280\n",
       "(142594.0, 196975.5]     5279\n",
       "Name: total_income_group, dtype: int64"
      ]
     },
     "execution_count": 46,
     "metadata": {},
     "output_type": "execute_result"
    }
   ],
   "source": [
    "data['total_income_group'].value_counts()"
   ]
  },
  {
   "cell_type": "markdown",
   "metadata": {},
   "source": [
    "Получились категории c интервалами: \n",
    "(20666.999 - 106808.0), \n",
    "(106808.0 - 142594.0), \n",
    "(142594.0 - 196975.5), \n",
    "(196975.5 - 2265604.0)\n",
    "\n",
    "Итого 4 категории:\n",
    "\n",
    "- меньше 106_808\n",
    "- от 106_808 до 142_594\n",
    "- от 142_594 до 196_975\n",
    "- от 196_975"
   ]
  },
  {
   "cell_type": "markdown",
   "metadata": {},
   "source": [
    "Категоризирую данные по возрасту. Выделяю категории 3 категории: до 18 лет - несовершеннолетние, от 18 до 60 лет и старше 60 лет."
   ]
  },
  {
   "cell_type": "code",
   "execution_count": 47,
   "metadata": {},
   "outputs": [
    {
     "data": {
      "text/plain": [
       "Возраст до 60 лет       18940\n",
       "Возраст более 60 лет     2079\n",
       "Несовершеннолетние        100\n",
       "Name: clients_age_group, dtype: int64"
      ]
     },
     "execution_count": 47,
     "metadata": {},
     "output_type": "execute_result"
    }
   ],
   "source": [
    "def clients_age(age):\n",
    "    if age < 18:\n",
    "        return 'Несовершеннолетние'\n",
    "    if 18 <= age <= 60:\n",
    "        return 'Возраст до 60 лет'\n",
    "    else:\n",
    "        return 'Возраст более 60 лет'\n",
    "    \n",
    "data['clients_age_group'] = data['dob_years'].apply(clients_age)\n",
    "data['clients_age_group'].value_counts()"
   ]
  },
  {
   "cell_type": "markdown",
   "metadata": {},
   "source": [
    "**Вывод**"
   ]
  },
  {
   "cell_type": "markdown",
   "metadata": {},
   "source": [
    "<div class=\"alert alert-info\">\n",
    "<b> \n",
    "    \n",
    "1. Большая часть заемщиков не имеет детей.\n",
    "    \n",
    "2. Категоризировав данные о ежемесячном доходе, чтобы сделать категории примерно равными, прибегла к методу qcut(), получила 4 категории.\n",
    "\n",
    "3. Основная масса заемщиков - люди от 18-60 лет, значительно меньшая доля людей страше 60 лет. Нашла, что есть 100 несовершеннолетних, ниже провожу исследование этой категории, где прихожу к выводу, что это просто отсутствие данных. Решаю заполнить эти значения медианным значением.\n",
    "</b>\n",
    "<br>\n",
    "</div>"
   ]
  },
  {
   "cell_type": "code",
   "execution_count": 48,
   "metadata": {},
   "outputs": [
    {
     "data": {
      "text/plain": [
       "clients_age_group   dob_years\n",
       "Несовершеннолетние  0            100\n",
       "Name: dob_years, dtype: int64"
      ]
     },
     "execution_count": 48,
     "metadata": {},
     "output_type": "execute_result"
    }
   ],
   "source": [
    "data.groupby(data.loc[data['clients_age_group'] == 'Несовершеннолетние', 'clients_age_group'])['dob_years'].value_counts()"
   ]
  },
  {
   "cell_type": "code",
   "execution_count": 49,
   "metadata": {},
   "outputs": [
    {
     "data": {
      "text/plain": [
       "42.0"
      ]
     },
     "execution_count": 49,
     "metadata": {},
     "output_type": "execute_result"
    }
   ],
   "source": [
    "median_age = data['dob_years'].median()\n",
    "median_age"
   ]
  },
  {
   "cell_type": "code",
   "execution_count": 50,
   "metadata": {},
   "outputs": [],
   "source": [
    "data.loc[data['dob_years'] == 0, 'dob_years'] = median_age"
   ]
  },
  {
   "cell_type": "code",
   "execution_count": 51,
   "metadata": {},
   "outputs": [
    {
     "data": {
      "text/plain": [
       "0.0"
      ]
     },
     "execution_count": 51,
     "metadata": {},
     "output_type": "execute_result"
    }
   ],
   "source": [
    "data.loc[data['dob_years'] == 0, 'dob_years'].sum()"
   ]
  },
  {
   "cell_type": "code",
   "execution_count": 52,
   "metadata": {},
   "outputs": [
    {
     "data": {
      "text/plain": [
       "Возраст до 60 лет       19040\n",
       "Возраст более 60 лет     2079\n",
       "Name: clients_age_group, dtype: int64"
      ]
     },
     "execution_count": 52,
     "metadata": {},
     "output_type": "execute_result"
    }
   ],
   "source": [
    "data['clients_age_group'] = data['dob_years'].apply(clients_age)\n",
    "data['clients_age_group'].value_counts()"
   ]
  },
  {
   "cell_type": "markdown",
   "metadata": {},
   "source": [
    "<div class=\"alert alert-info\">\n",
    "<b> \n",
    "Посмотрела возраст несовершеннолетних. \n",
    "</b> У этой категории возраст = 0. Это говорит о том, что данные о возрасте попросту не заполнены.\n",
    "    Решаю заполнить эти данные медианным значением возраста (введя переменную median_age, в которой к столбцу 'dob_years' применила метод median()). Медианное значение возраста = 42 года. Заполню этим значением столбец 'dop_years', где значение = 0. Удедилась, что нуля больще нет. Убедилась, что нет совершеннолетних. Теперь у нас 2 категории по возрасту и видно, что преобладает катерогия совершеннолетних граждан до 60 лет (что логично). Вывод: Банк не выдовал кредит несовершеннолетним.\n",
    "    \n",
    "<br>\n",
    "</div>"
   ]
  },
  {
   "cell_type": "markdown",
   "metadata": {},
   "source": [
    "## Шаг 3. Ответьте на вопросы"
   ]
  },
  {
   "cell_type": "markdown",
   "metadata": {},
   "source": [
    "<div class=\"alert alert-info\">\n",
    "<b> \n",
    "Для ответа на вопросы 3 шага применила сводные таблицы (метод `pivot_table`).\n",
    "</b>    \n",
    "<br>\n",
    "</div>"
   ]
  },
  {
   "cell_type": "markdown",
   "metadata": {},
   "source": [
    "- Есть ли зависимость между наличием детей и возвратом кредита в срок?"
   ]
  },
  {
   "cell_type": "markdown",
   "metadata": {},
   "source": [
    "Расчитываю долю неплатильщиков для 2 категорий (есть дети/нет детей)"
   ]
  },
  {
   "cell_type": "code",
   "execution_count": 53,
   "metadata": {},
   "outputs": [
    {
     "data": {
      "text/html": [
       "<div>\n",
       "<style scoped>\n",
       "    .dataframe tbody tr th:only-of-type {\n",
       "        vertical-align: middle;\n",
       "    }\n",
       "\n",
       "    .dataframe tbody tr th {\n",
       "        vertical-align: top;\n",
       "    }\n",
       "\n",
       "    .dataframe thead th {\n",
       "        text-align: right;\n",
       "    }\n",
       "</style>\n",
       "<table border=\"1\" class=\"dataframe\">\n",
       "  <thead>\n",
       "    <tr style=\"text-align: right;\">\n",
       "      <th></th>\n",
       "      <th>debt</th>\n",
       "    </tr>\n",
       "    <tr>\n",
       "      <th>children</th>\n",
       "      <th></th>\n",
       "    </tr>\n",
       "  </thead>\n",
       "  <tbody>\n",
       "    <tr>\n",
       "      <td>0</td>\n",
       "      <td>0.076541</td>\n",
       "    </tr>\n",
       "    <tr>\n",
       "      <td>1</td>\n",
       "      <td>0.093454</td>\n",
       "    </tr>\n",
       "    <tr>\n",
       "      <td>2</td>\n",
       "      <td>0.095508</td>\n",
       "    </tr>\n",
       "    <tr>\n",
       "      <td>3</td>\n",
       "      <td>0.082067</td>\n",
       "    </tr>\n",
       "    <tr>\n",
       "      <td>4</td>\n",
       "      <td>0.100000</td>\n",
       "    </tr>\n",
       "    <tr>\n",
       "      <td>5</td>\n",
       "      <td>0.000000</td>\n",
       "    </tr>\n",
       "  </tbody>\n",
       "</table>\n",
       "</div>"
      ],
      "text/plain": [
       "              debt\n",
       "children          \n",
       "0         0.076541\n",
       "1         0.093454\n",
       "2         0.095508\n",
       "3         0.082067\n",
       "4         0.100000\n",
       "5         0.000000"
      ]
     },
     "execution_count": 53,
     "metadata": {},
     "output_type": "execute_result"
    }
   ],
   "source": [
    "data_pivot_children = data.pivot_table(index=['children'], values='debt', aggfunc='mean')\n",
    "data_pivot_children"
   ]
  },
  {
   "cell_type": "code",
   "execution_count": 54,
   "metadata": {},
   "outputs": [
    {
     "data": {
      "text/html": [
       "<div>\n",
       "<style scoped>\n",
       "    .dataframe tbody tr th:only-of-type {\n",
       "        vertical-align: middle;\n",
       "    }\n",
       "\n",
       "    .dataframe tbody tr th {\n",
       "        vertical-align: top;\n",
       "    }\n",
       "\n",
       "    .dataframe thead th {\n",
       "        text-align: right;\n",
       "    }\n",
       "</style>\n",
       "<table border=\"1\" class=\"dataframe\">\n",
       "  <thead>\n",
       "    <tr style=\"text-align: right;\">\n",
       "      <th></th>\n",
       "      <th>debt</th>\n",
       "    </tr>\n",
       "    <tr>\n",
       "      <th>children_group</th>\n",
       "      <th></th>\n",
       "    </tr>\n",
       "  </thead>\n",
       "  <tbody>\n",
       "    <tr>\n",
       "      <td>Есть дети</td>\n",
       "      <td>0.093457</td>\n",
       "    </tr>\n",
       "    <tr>\n",
       "      <td>Нет детей</td>\n",
       "      <td>0.076541</td>\n",
       "    </tr>\n",
       "  </tbody>\n",
       "</table>\n",
       "</div>"
      ],
      "text/plain": [
       "                    debt\n",
       "children_group          \n",
       "Есть дети       0.093457\n",
       "Нет детей       0.076541"
      ]
     },
     "execution_count": 54,
     "metadata": {},
     "output_type": "execute_result"
    }
   ],
   "source": [
    "data_pivot_children = data.pivot_table(index=['children_group'], values='debt', aggfunc='mean')\n",
    "data_pivot_children"
   ]
  },
  {
   "cell_type": "markdown",
   "metadata": {},
   "source": [
    "**Вывод**"
   ]
  },
  {
   "cell_type": "markdown",
   "metadata": {},
   "source": [
    "<div class=\"alert alert-info\">\n",
    "<b> Видно, что люди с 5 детьми 100% возвращают вредит в срок. В целом можно сказать, отмечается резкое уменьшение процента невыплачиваемости у людей с 4 и 5 детьми. Думаю, что люди, имеющие столько детей, шли на такой шаг, как кредит максимально осознанно, взвешивая все риски, поэтому среди них столь малый процент. \n",
    "Самый высокий процент виден среди людей с 1 и 2 детьми (9,3% и 9,5%). Что логично, ведь чаще это те самые \"молодые семьи\", которые только становятся, чьи потребности растут быстрее, чем их заработок. Такие люди чаще рассматривают варианты взятия кредита, но вот не всегда могут возвращать кредит в срок.\n",
    "    \n",
    "    \n",
    "9,3 % заемщиков с детьми - имеют задолжность по возврату кредита. В то время как среди заемщиков без детей, этот процент меньше - 7,6 %. Возможно это связано с тем, что люди, имеющие детей имеют и дополнительные траты на детей (часто могут быть непредвиденные траты), и из-за чаще не возвращают кредит в срок.\n",
    "\n",
    "\n",
    "</b>\n",
    "<br>\n",
    "</div>"
   ]
  },
  {
   "cell_type": "markdown",
   "metadata": {},
   "source": [
    "- Есть ли зависимость между семейным положением и возвратом кредита в срок?"
   ]
  },
  {
   "cell_type": "markdown",
   "metadata": {},
   "source": [
    "Расчитываю долю неплатильщиков среди всех категорий семейного положения"
   ]
  },
  {
   "cell_type": "code",
   "execution_count": 55,
   "metadata": {},
   "outputs": [
    {
     "data": {
      "text/html": [
       "<div>\n",
       "<style scoped>\n",
       "    .dataframe tbody tr th:only-of-type {\n",
       "        vertical-align: middle;\n",
       "    }\n",
       "\n",
       "    .dataframe tbody tr th {\n",
       "        vertical-align: top;\n",
       "    }\n",
       "\n",
       "    .dataframe thead th {\n",
       "        text-align: right;\n",
       "    }\n",
       "</style>\n",
       "<table border=\"1\" class=\"dataframe\">\n",
       "  <thead>\n",
       "    <tr style=\"text-align: right;\">\n",
       "      <th></th>\n",
       "      <th>debt</th>\n",
       "    </tr>\n",
       "    <tr>\n",
       "      <th>family_status</th>\n",
       "      <th></th>\n",
       "    </tr>\n",
       "  </thead>\n",
       "  <tbody>\n",
       "    <tr>\n",
       "      <td>Не женат / не замужем</td>\n",
       "      <td>0.098420</td>\n",
       "    </tr>\n",
       "    <tr>\n",
       "      <td>в разводе</td>\n",
       "      <td>0.071249</td>\n",
       "    </tr>\n",
       "    <tr>\n",
       "      <td>вдовец / вдова</td>\n",
       "      <td>0.066808</td>\n",
       "    </tr>\n",
       "    <tr>\n",
       "      <td>гражданский брак</td>\n",
       "      <td>0.094083</td>\n",
       "    </tr>\n",
       "    <tr>\n",
       "      <td>женат / замужем</td>\n",
       "      <td>0.076936</td>\n",
       "    </tr>\n",
       "  </tbody>\n",
       "</table>\n",
       "</div>"
      ],
      "text/plain": [
       "                           debt\n",
       "family_status                  \n",
       "Не женат / не замужем  0.098420\n",
       "в разводе              0.071249\n",
       "вдовец / вдова         0.066808\n",
       "гражданский брак       0.094083\n",
       "женат / замужем        0.076936"
      ]
     },
     "execution_count": 55,
     "metadata": {},
     "output_type": "execute_result"
    }
   ],
   "source": [
    "data_pivot_family = data.pivot_table(index=['family_status'], values='debt', aggfunc='mean')\n",
    "data_pivot_family"
   ]
  },
  {
   "cell_type": "markdown",
   "metadata": {},
   "source": [
    "**Вывод**"
   ]
  },
  {
   "cell_type": "markdown",
   "metadata": {},
   "source": [
    "<div class=\"alert alert-info\">\n",
    "<b> 9,8 % заемщиков, не женатых/не замужних - имеют задолжность по возврату кредита. Примерно такой же процент (9,4%) имеют люди, состоящие в гражданском браке. Возможно это связано с тем, что люди, не состоящие в официальном браке не чувствуют официальных обязательств перед второй половинкой и такие люди более склонны к риску, или они одиночки и их доход объективно меньше, чем у семейного человека (особенно если оба супруга работают). \n",
    "    \n",
    "    \n",
    "Интересно, что люди в разводе имеют примерно одинаковый, но все же меньший процент задолжности по возврату кредита (7,1 %), чем женатые/замужние люди (7,6 %). Считаю, что люди в разводе уже \"почувстовали\" настоящую жизнь 😀 прошли многие трудности и стараются планировать траты. \n",
    "    \n",
    "Самый низкий процент невозвращаемости кредита в срок имеет категория \"вдовец/вдова\". Думаю, потому что такие люди чаще всего уже состоявшиеся личности, имеющие стабильную работу и доход, умеющие планировать свои траты.  \n",
    "</b>\n",
    "<br>\n",
    "</div>"
   ]
  },
  {
   "cell_type": "markdown",
   "metadata": {},
   "source": [
    "- Есть ли зависимость между уровнем дохода и возвратом кредита в срок?"
   ]
  },
  {
   "cell_type": "markdown",
   "metadata": {},
   "source": [
    "Расчитываю долю неплатильщиков среди 4 категорий, разделенных по ежемесячному доходу"
   ]
  },
  {
   "cell_type": "code",
   "execution_count": 56,
   "metadata": {},
   "outputs": [
    {
     "data": {
      "text/html": [
       "<div>\n",
       "<style scoped>\n",
       "    .dataframe tbody tr th:only-of-type {\n",
       "        vertical-align: middle;\n",
       "    }\n",
       "\n",
       "    .dataframe tbody tr th {\n",
       "        vertical-align: top;\n",
       "    }\n",
       "\n",
       "    .dataframe thead th {\n",
       "        text-align: right;\n",
       "    }\n",
       "</style>\n",
       "<table border=\"1\" class=\"dataframe\">\n",
       "  <thead>\n",
       "    <tr style=\"text-align: right;\">\n",
       "      <th></th>\n",
       "      <th>debt</th>\n",
       "    </tr>\n",
       "    <tr>\n",
       "      <th>total_income_group</th>\n",
       "      <th></th>\n",
       "    </tr>\n",
       "  </thead>\n",
       "  <tbody>\n",
       "    <tr>\n",
       "      <td>(20666.999, 106808.0]</td>\n",
       "      <td>0.078788</td>\n",
       "    </tr>\n",
       "    <tr>\n",
       "      <td>(106808.0, 142594.0]</td>\n",
       "      <td>0.093182</td>\n",
       "    </tr>\n",
       "    <tr>\n",
       "      <td>(142594.0, 196975.5]</td>\n",
       "      <td>0.086191</td>\n",
       "    </tr>\n",
       "    <tr>\n",
       "      <td>(196975.5, 2265604.0]</td>\n",
       "      <td>0.071212</td>\n",
       "    </tr>\n",
       "  </tbody>\n",
       "</table>\n",
       "</div>"
      ],
      "text/plain": [
       "                           debt\n",
       "total_income_group             \n",
       "(20666.999, 106808.0]  0.078788\n",
       "(106808.0, 142594.0]   0.093182\n",
       "(142594.0, 196975.5]   0.086191\n",
       "(196975.5, 2265604.0]  0.071212"
      ]
     },
     "execution_count": 56,
     "metadata": {},
     "output_type": "execute_result"
    }
   ],
   "source": [
    "data_pivot_income = data.pivot_table(index=['total_income_group'], values='debt', aggfunc='mean')\n",
    "data_pivot_income"
   ]
  },
  {
   "cell_type": "markdown",
   "metadata": {},
   "source": [
    "**Вывод**"
   ]
  },
  {
   "cell_type": "markdown",
   "metadata": {},
   "source": [
    "<div class=\"alert alert-info\">\n",
    "<b> 9,3 % заемщиков, имеющих ежемесячный доход от 106808 до 142594, не возвращают кредит в срок. \n",
    "    \n",
    "8,6 % заемщиков с ежемесячным доходом от 142594 до 196975, не возвращают кредит в срок. \n",
    "    \n",
    "Видно, что все это люди, имеющие средний доход. Могу предположить, что это связано с тем, что такие люди плохо оценивают свою платежеспособность и склонны рисковать, производить необдуманные траты. Но так как не все из них имеют стабильную \"финансовую подушку\", их ежемесчный доход является их единственным активом, то нетрудно предположить, что среди людей со средним заработком обнаружился больший процент по невозврату кредита в срок.\n",
    "    \n",
    "Самый низкий процент имеет категория граждан с самым высоким ежемесячным доходом (от 196975 до 2265604) - 7,1 %. Может они и склонны рисоквать, но чаще всего у таких людей всегда есть стабильная и крепкая \"финансовая подушка\" (люди с высоким доходом как правило имеют пассивыный доход) и объективно высокий заработок, способный закрывать не только базовые нужды.\n",
    "    \n",
    "Так же низкий процент невозврата кредита в срок оказался у людей с низким уровнем ежемесячного дохода (от 20666 до 106808) - 7,8 %. Считаю, что такие люди более трезво оценивают свою платежеспособность и риски. Склонны заблаговременно обдумывать и планировать свои траты.   \n",
    "\n",
    "</b>\n",
    "<br>\n",
    "</div>"
   ]
  },
  {
   "cell_type": "markdown",
   "metadata": {},
   "source": [
    "- Как разные цели кредита влияют на его возврат в срок?"
   ]
  },
  {
   "cell_type": "markdown",
   "metadata": {},
   "source": [
    "Расчитываю долю неплатильщиков среди 4 категорий целей кредита"
   ]
  },
  {
   "cell_type": "code",
   "execution_count": 57,
   "metadata": {},
   "outputs": [
    {
     "data": {
      "text/html": [
       "<div>\n",
       "<style scoped>\n",
       "    .dataframe tbody tr th:only-of-type {\n",
       "        vertical-align: middle;\n",
       "    }\n",
       "\n",
       "    .dataframe tbody tr th {\n",
       "        vertical-align: top;\n",
       "    }\n",
       "\n",
       "    .dataframe thead th {\n",
       "        text-align: right;\n",
       "    }\n",
       "</style>\n",
       "<table border=\"1\" class=\"dataframe\">\n",
       "  <thead>\n",
       "    <tr style=\"text-align: right;\">\n",
       "      <th></th>\n",
       "      <th>debt</th>\n",
       "    </tr>\n",
       "    <tr>\n",
       "      <th>purpose</th>\n",
       "      <th></th>\n",
       "    </tr>\n",
       "  </thead>\n",
       "  <tbody>\n",
       "    <tr>\n",
       "      <td>автомобиль</td>\n",
       "      <td>0.094123</td>\n",
       "    </tr>\n",
       "    <tr>\n",
       "      <td>недвижимость</td>\n",
       "      <td>0.073832</td>\n",
       "    </tr>\n",
       "    <tr>\n",
       "      <td>образование</td>\n",
       "      <td>0.093340</td>\n",
       "    </tr>\n",
       "    <tr>\n",
       "      <td>свадьба</td>\n",
       "      <td>0.080659</td>\n",
       "    </tr>\n",
       "  </tbody>\n",
       "</table>\n",
       "</div>"
      ],
      "text/plain": [
       "                  debt\n",
       "purpose               \n",
       "автомобиль    0.094123\n",
       "недвижимость  0.073832\n",
       "образование   0.093340\n",
       "свадьба       0.080659"
      ]
     },
     "execution_count": 57,
     "metadata": {},
     "output_type": "execute_result"
    }
   ],
   "source": [
    "data_pivot_purpose = data.pivot_table(index=['purpose'], values='debt', aggfunc='mean')\n",
    "data_pivot_purpose"
   ]
  },
  {
   "cell_type": "markdown",
   "metadata": {},
   "source": [
    "**Вывод**"
   ]
  },
  {
   "cell_type": "markdown",
   "metadata": {},
   "source": [
    "<div class=\"alert alert-info\">\n",
    "<b> Примерно одинаковый процент невозвращаемости кредита в срок имеют люди с целью \"автомобиль\" и \"образование\" - 9,4% и 9,3% соответственно. Думаю, для людей, выбравших целью кредита \"образование\", это связанно с тем, что некоторые не получают что образование, на которое взят кредит (нетдоводят цель до конца), либо такие люди в силу того, что тратят основную часть времени на само обучение, не могут работать на стабильной работе с четким графиком, чаще рассматривают вариант неполного рабочего дня, неофициальной работы, \"колымов\" (разового зароботка) и соответсвенно, не всегда имеют регулярный заработок, что влияет на погошение кредита в срок. \n",
    "Люди, выбравшие целью кредита \"автомобиль\" не всегда могут не выплачивать в срок, потому что расходы на содержание автомобиля оказались больше, чем они могли себе предпологать, поэтому такая категория людей может иметь просрочку по погашению кредита.\n",
    "Люди, выбравшие целью кредита \"свадьба\" могут не выплачивать в срок, потому что поддаются эмоциям, спешно берут кредит, не до конца взвесив риски и финансовую нагрузку. К тому же, если взглянуть на статистику разводов по России, многие пары разводятся на первых годах совместной жизни, что безусловно влияет на выплачивание кредита в срок. Процент таких людей в данной категории - 8%.\n",
    "Самый меньший процент невыплачивания кредита в срок имеет категория людей, выбравших целью \"недвижимость\" - 7,3 %, думаю, это связано с тем, что кредит выдается на большую сумму, большинство людей здраво оценивают свои риски и морально готовы к такому шагу, продумывая свои ежемесячные траты. Тем более, для большинства людей жилье является приоритетным среди других расходов, людям нужно где-то жить.\n",
    "</b>\n",
    "<br>\n",
    "</div>"
   ]
  },
  {
   "cell_type": "markdown",
   "metadata": {},
   "source": [
    "## Шаг 4. Общий вывод"
   ]
  },
  {
   "cell_type": "markdown",
   "metadata": {},
   "source": [
    "<div class=\"alert alert-info\">\n",
    "<b> Получив входные данные от банка — статистика о платёжеспособности клиентов, я занялась их предобработкой: обнаружила и заполнила пропуски, выявила и устранила явные и неявные дубликаты. По ходу исследовани я обнаруживала ошибки в данных, успешно их устраняла. Для удобства я заменила тип данных с вещественного на целоцисленный, лемматизировала данные. В процессе я вновь проверяла на наличие дубликатов, при их выявлении - ликвидировала их. Главной причиной появления дубликатов считаю человеческий фактор, данные вводились невнимательно, повторяясь, с ошибками и с использованием разного регистра. Успено категоризировала количественные и неколичественные данные.\n",
    "    \n",
    "Все это помогло мне дать ответы на 4 главных вопроса заказчика — кредитного отдела банка. Я выяснила, как влияет семейное положение и количество детей клиента на факт погашения кредита в срок.\n",
    "    \n",
    "По данным, люди с 5 детьми 100% возвращают кредит в срок. В целом можно сказать, отмечается резкое уменьшение процента невыплачиваемости у людей с большим количеством детей.\n",
    "Отмечена следущая закономерность: чем большее количество детей имеет человек, тем более осознанно он становится заемщиком, тем серьезней он подходит к тому, чтобы выплачивать кредит в срок. \n",
    "    \n",
    "Самый ненадежной категорией людей, имеющих высокий процент невыплачивания кредита в срок, оказались люди с 1 и 2 детьми (9,3% и 9,5%). Что логично, ведь чаще это молодые семьи, они еще не умеют четко планировать свой бюджет, ежемесячные траты, но могут остро нуждаться в решении многих житейских вопросов (покупка недвижимости для пополнишейся семьи, приобретение автомобиля, а то и все сразу).\n",
    "В целом, если разделять заемщиков на людей с детьми и без, то более надежны люди, не имеющие детей (9,3% против 7,6%).\n",
    "    \n",
    " \n",
    "Мне показалось занимательным, та закономерность, которую я обнаружила, изучая влияние семейного положения на возврат кредита в срок:    \n",
    "Выявила, что 9,8 % заемщиков, не женатых/не замужних - имеют задолжность по возврату кредита. Примерно такой же процент (9,4%) имеют люди, состоящие в гражданском браке. Возможно это связано с тем, что люди, не состоящие в официальном браке не чувствуют официальных обязательств перед второй половинкой и такие люди более склонны к риску, или они одиночки и их доход объективно меньше, чем у семейного человека (особенно если оба супруга работают).\n",
    "Интересно, что люди в разводе имеют примерно одинаковый, но все же меньший процент задолжности по возврату кредита (7,1 %), чем женатые/замужние люди (7,6 %). Считаю, что люди в разводе уже прошли многие трудности и стараются планировать траты.\n",
    "\n",
    "Самой надежной категорией с низким процентом невозвращаемости кредита в срок - категория \"вдовец/вдова\". Думаю, потому что такие люди чаще всего уже состоявшиеся личности, имеющие стабильную работу и доход, умеющие планировать свои траты.\n",
    "\n",
    "Также я выяснила интересную особенность, связанную с уровнем ежемесячного дохода заемщиков:   \n",
    "9,3 % заемщиков, имеющих ежемесячный доход от 106808 до 142594, не возвращают кредит в срок.\n",
    "8,6 % заемщиков с ежемесячным доходом от 142594 до 196975, не возвращают кредит в срок. \n",
    "И эти люди со средним уровнем ежемесячного дохода! Могу предположить, что это связано с тем, что такие люди плохо оценивают свою платежеспособность и склонны рисковать, производить необдуманные траты. Но так как не все из них имеют стабильную \"финансовую подушку\", их ежемесчный доход является их единственным активом, то нетрудно предположить, что среди людей со средним заработком обнаружился больший процент по невозврату кредита в срок.\n",
    "\n",
    "Самый надежная категория с низким процентом непогощаемости кредита в срок - категория граждан с самым высоким ежемесячным доходом (от 196975 до 2265604) - 7,1 %. Может они и склонны рисоквать, но чаще всего у таких людей всегда есть стабильная и крепкая \"финансовая подушка\" (люди с высоким доходом как правило имеют пассивыный доход) и объективно высокий заработок, способный закрывать не только базовые нужды.\n",
    "\n",
    "Так же надежной оказалась категория людей с низким уровнем ежемесячного дохода (от 20666 до 106808) - их процент неуплаты кредита в срок - 7,8 %. Считаю, что такие люди более трезво оценивают свою платежеспособность и не готовы на какие-либо риски. Склонны заблаговременно обдумывать и планировать свои ежемесячные траты.\n",
    "\n",
    "\n",
    "\n",
    "Я пришла к очень логичным выводам, исследуя зависимость цели кредита и влияния на его возврат в срок:    \n",
    "Примерно одинаковый процент невозвращаемости кредита в срок имеют люди с целью \"автомобиль\" и \"образование\" - 9,4% и 9,3% соответственно. Думаю, для людей, выбравших целью кредита \"образование\", это связанно с тем, что некоторые не получают что образование, на которое взят кредит (нетдоводят цель до конца), либо такие люди в силу того, что тратят основную часть времени на само обучение, не могут работать на стабильной работе с четким графиком, чаще рассматривают вариант неполного рабочего дня, неофициальной работы, \"колымов\" (разового зароботка) и соответсвенно, не всегда имеют регулярный заработок, что влияет на погошение кредита в срок. Люди, выбравшие целью кредита \"автомобиль\" не всегда могут не выплачивать в срок, потому что расходы на содержание автомобиля оказались больше, чем они могли себе предпологать, поэтому такая категория людей может иметь просрочку по погашению кредита. Люди, выбравшие целью кредита \"свадьба\" могут не выплачивать в срок, потому что поддаются эмоциям, спешно берут кредит, не до конца взвесив риски и финансовую нагрузку. К тому же, если взглянуть на статистику разводов по России, многие пары разводятся на первых годах совместной жизни, что безусловно влияет на выплачивание кредита в срок. Процент таких людей в данной категории - 8%. Самый меньший процент невыплачивания кредита в срок имеет категория людей, выбравших целью \"недвижимость\" - 7,3 %, думаю, это связано с тем, что кредит выдается на большую сумму, большинство людей здраво оценивают свои риски и морально готовы к такому шагу, продумывая свои ежемесячные траты. Тем более, для большинства людей жилье является приоритетным среди других расходов, людям нужно где-то жить.\n",
    "\n",
    "</b>\n",
    "<br>\n",
    "</div>"
   ]
  }
 ],
 "metadata": {
  "ExecuteTimeLog": [
   {
    "duration": 664,
    "start_time": "2022-01-14T06:16:07.014Z"
   },
   {
    "duration": 57,
    "start_time": "2022-01-14T06:17:18.095Z"
   },
   {
    "duration": 348,
    "start_time": "2022-01-14T06:18:28.252Z"
   },
   {
    "duration": 91,
    "start_time": "2022-01-14T06:43:50.073Z"
   },
   {
    "duration": 380,
    "start_time": "2022-01-14T06:58:34.589Z"
   },
   {
    "duration": 9,
    "start_time": "2022-01-14T06:58:41.933Z"
   },
   {
    "duration": 19,
    "start_time": "2022-01-14T07:01:15.105Z"
   },
   {
    "duration": 9,
    "start_time": "2022-01-14T07:01:26.247Z"
   },
   {
    "duration": 55,
    "start_time": "2022-01-14T07:01:39.759Z"
   },
   {
    "duration": 26,
    "start_time": "2022-01-14T07:42:54.010Z"
   },
   {
    "duration": 26,
    "start_time": "2022-01-14T07:43:11.330Z"
   },
   {
    "duration": 14,
    "start_time": "2022-01-14T07:43:21.894Z"
   },
   {
    "duration": 9,
    "start_time": "2022-01-14T07:46:07.541Z"
   },
   {
    "duration": 10,
    "start_time": "2022-01-14T07:48:32.669Z"
   },
   {
    "duration": 306,
    "start_time": "2022-01-14T07:49:31.885Z"
   },
   {
    "duration": 9,
    "start_time": "2022-01-14T07:49:52.289Z"
   },
   {
    "duration": 6,
    "start_time": "2022-01-14T07:50:07.996Z"
   },
   {
    "duration": 17,
    "start_time": "2022-01-14T08:09:28.816Z"
   },
   {
    "duration": 19,
    "start_time": "2022-01-14T08:09:41.628Z"
   },
   {
    "duration": 25,
    "start_time": "2022-01-14T08:09:49.416Z"
   },
   {
    "duration": 9,
    "start_time": "2022-01-14T08:10:20.208Z"
   },
   {
    "duration": 19,
    "start_time": "2022-01-14T08:12:25.183Z"
   },
   {
    "duration": 10,
    "start_time": "2022-01-14T08:12:52.624Z"
   },
   {
    "duration": 10,
    "start_time": "2022-01-14T08:13:19.151Z"
   },
   {
    "duration": 7395,
    "start_time": "2022-01-14T08:15:27.488Z"
   },
   {
    "duration": 5,
    "start_time": "2022-01-14T08:15:48.010Z"
   },
   {
    "duration": 20,
    "start_time": "2022-01-14T08:15:57.795Z"
   },
   {
    "duration": 5,
    "start_time": "2022-01-14T08:16:32.681Z"
   },
   {
    "duration": 17,
    "start_time": "2022-01-14T08:16:33.659Z"
   },
   {
    "duration": 6,
    "start_time": "2022-01-14T08:16:47.379Z"
   },
   {
    "duration": 19,
    "start_time": "2022-01-14T08:16:47.936Z"
   },
   {
    "duration": 3,
    "start_time": "2022-01-14T08:48:16.239Z"
   },
   {
    "duration": 3600,
    "start_time": "2022-01-14T08:49:34.247Z"
   },
   {
    "duration": 3576,
    "start_time": "2022-01-14T08:49:55.206Z"
   },
   {
    "duration": 3496,
    "start_time": "2022-01-14T08:50:31.945Z"
   },
   {
    "duration": 778,
    "start_time": "2022-01-14T08:50:34.665Z"
   },
   {
    "duration": 5,
    "start_time": "2022-01-14T08:51:06.729Z"
   },
   {
    "duration": 55,
    "start_time": "2022-01-14T08:51:15.557Z"
   },
   {
    "duration": 11,
    "start_time": "2022-01-14T08:51:16.595Z"
   },
   {
    "duration": 10,
    "start_time": "2022-01-14T08:51:20.086Z"
   },
   {
    "duration": 6,
    "start_time": "2022-01-14T08:51:25.905Z"
   },
   {
    "duration": 20,
    "start_time": "2022-01-14T08:51:26.570Z"
   },
   {
    "duration": 3,
    "start_time": "2022-01-14T08:51:33.980Z"
   },
   {
    "duration": 11,
    "start_time": "2022-01-14T08:51:44.807Z"
   },
   {
    "duration": 9,
    "start_time": "2022-01-14T08:52:08.133Z"
   },
   {
    "duration": 4,
    "start_time": "2022-01-14T08:52:19.681Z"
   },
   {
    "duration": 7,
    "start_time": "2022-01-14T08:53:04.394Z"
   },
   {
    "duration": 10,
    "start_time": "2022-01-14T08:54:14.970Z"
   },
   {
    "duration": 6,
    "start_time": "2022-01-14T08:58:05.246Z"
   },
   {
    "duration": 33,
    "start_time": "2022-01-14T09:10:17.704Z"
   },
   {
    "duration": 8,
    "start_time": "2022-01-14T09:11:20.791Z"
   },
   {
    "duration": 6,
    "start_time": "2022-01-14T09:11:31.354Z"
   },
   {
    "duration": 8,
    "start_time": "2022-01-14T09:14:55.283Z"
   },
   {
    "duration": 10,
    "start_time": "2022-01-14T09:15:00.373Z"
   },
   {
    "duration": 6,
    "start_time": "2022-01-14T09:15:02.212Z"
   },
   {
    "duration": 32,
    "start_time": "2022-01-14T09:15:10.703Z"
   },
   {
    "duration": 9,
    "start_time": "2022-01-14T09:16:32.821Z"
   },
   {
    "duration": 5,
    "start_time": "2022-01-14T09:22:22.707Z"
   },
   {
    "duration": 7221,
    "start_time": "2022-01-14T09:26:50.139Z"
   },
   {
    "duration": 19,
    "start_time": "2022-01-14T09:27:14.504Z"
   },
   {
    "duration": 14,
    "start_time": "2022-01-14T09:27:30.666Z"
   },
   {
    "duration": 10,
    "start_time": "2022-01-14T09:27:46.732Z"
   },
   {
    "duration": 11,
    "start_time": "2022-01-14T09:27:50.684Z"
   },
   {
    "duration": 12,
    "start_time": "2022-01-14T09:28:05.182Z"
   },
   {
    "duration": 267,
    "start_time": "2022-01-14T09:31:12.632Z"
   },
   {
    "duration": 275,
    "start_time": "2022-01-14T09:31:26.272Z"
   },
   {
    "duration": 366,
    "start_time": "2022-01-14T09:31:40.351Z"
   },
   {
    "duration": 280,
    "start_time": "2022-01-14T09:31:52.225Z"
   },
   {
    "duration": 20,
    "start_time": "2022-01-14T09:33:42.905Z"
   },
   {
    "duration": 6,
    "start_time": "2022-01-14T09:34:08.472Z"
   },
   {
    "duration": 10,
    "start_time": "2022-01-14T09:34:15.948Z"
   },
   {
    "duration": 894,
    "start_time": "2022-01-14T10:05:26.619Z"
   },
   {
    "duration": 3547,
    "start_time": "2022-01-14T10:05:27.718Z"
   },
   {
    "duration": 3732,
    "start_time": "2022-01-14T10:05:36.870Z"
   },
   {
    "duration": 9,
    "start_time": "2022-01-14T10:06:26.741Z"
   },
   {
    "duration": 5,
    "start_time": "2022-01-14T10:06:46.170Z"
   },
   {
    "duration": 13,
    "start_time": "2022-01-14T10:06:57.579Z"
   },
   {
    "duration": 12,
    "start_time": "2022-01-14T10:07:12.862Z"
   },
   {
    "duration": 12,
    "start_time": "2022-01-14T10:09:34.622Z"
   },
   {
    "duration": 15,
    "start_time": "2022-01-14T10:55:15.612Z"
   },
   {
    "duration": 13,
    "start_time": "2022-01-14T10:55:28.372Z"
   },
   {
    "duration": 16,
    "start_time": "2022-01-14T10:58:49.916Z"
   },
   {
    "duration": 17,
    "start_time": "2022-01-14T10:58:52.664Z"
   },
   {
    "duration": 29,
    "start_time": "2022-01-14T10:59:25.596Z"
   },
   {
    "duration": 15,
    "start_time": "2022-01-14T10:59:34.140Z"
   },
   {
    "duration": 19,
    "start_time": "2022-01-14T11:16:34.130Z"
   },
   {
    "duration": 279,
    "start_time": "2022-01-14T11:17:46.022Z"
   },
   {
    "duration": 5,
    "start_time": "2022-01-14T11:19:05.685Z"
   },
   {
    "duration": 10,
    "start_time": "2022-01-14T11:21:50.964Z"
   },
   {
    "duration": 11,
    "start_time": "2022-01-14T11:21:55.735Z"
   },
   {
    "duration": 6,
    "start_time": "2022-01-14T11:22:14.694Z"
   },
   {
    "duration": 15,
    "start_time": "2022-01-14T11:22:37.118Z"
   },
   {
    "duration": 15,
    "start_time": "2022-01-14T11:23:43.413Z"
   },
   {
    "duration": 15,
    "start_time": "2022-01-14T11:23:56.478Z"
   },
   {
    "duration": 300,
    "start_time": "2022-01-14T11:31:26.641Z"
   },
   {
    "duration": 5,
    "start_time": "2022-01-14T11:32:03.661Z"
   },
   {
    "duration": 15,
    "start_time": "2022-01-14T11:32:05.823Z"
   },
   {
    "duration": 5,
    "start_time": "2022-01-14T11:32:22.294Z"
   },
   {
    "duration": 5,
    "start_time": "2022-01-14T11:33:59.440Z"
   },
   {
    "duration": 4,
    "start_time": "2022-01-14T11:34:08.784Z"
   },
   {
    "duration": 5,
    "start_time": "2022-01-14T11:34:16.125Z"
   },
   {
    "duration": 13,
    "start_time": "2022-01-14T11:34:17.837Z"
   },
   {
    "duration": 54,
    "start_time": "2022-01-14T11:34:36.433Z"
   },
   {
    "duration": 10,
    "start_time": "2022-01-14T11:34:36.488Z"
   },
   {
    "duration": 9,
    "start_time": "2022-01-14T11:34:36.500Z"
   },
   {
    "duration": 16,
    "start_time": "2022-01-14T11:34:36.511Z"
   },
   {
    "duration": 17,
    "start_time": "2022-01-14T11:34:36.528Z"
   },
   {
    "duration": 4,
    "start_time": "2022-01-14T11:34:36.546Z"
   },
   {
    "duration": 8,
    "start_time": "2022-01-14T11:34:36.552Z"
   },
   {
    "duration": 5,
    "start_time": "2022-01-14T11:34:36.562Z"
   },
   {
    "duration": 13,
    "start_time": "2022-01-14T11:34:36.568Z"
   },
   {
    "duration": 8,
    "start_time": "2022-01-14T11:34:36.582Z"
   },
   {
    "duration": 35,
    "start_time": "2022-01-14T11:34:36.592Z"
   },
   {
    "duration": 5,
    "start_time": "2022-01-14T11:34:36.628Z"
   },
   {
    "duration": 12,
    "start_time": "2022-01-14T11:34:36.634Z"
   },
   {
    "duration": 14,
    "start_time": "2022-01-14T11:34:36.647Z"
   },
   {
    "duration": 13,
    "start_time": "2022-01-14T11:34:36.662Z"
   },
   {
    "duration": 15,
    "start_time": "2022-01-14T11:34:36.676Z"
   },
   {
    "duration": 43,
    "start_time": "2022-01-14T11:34:36.692Z"
   },
   {
    "duration": 6,
    "start_time": "2022-01-14T11:34:36.736Z"
   },
   {
    "duration": 10,
    "start_time": "2022-01-14T11:34:36.744Z"
   },
   {
    "duration": 8,
    "start_time": "2022-01-14T11:34:36.755Z"
   },
   {
    "duration": 15,
    "start_time": "2022-01-14T11:34:36.764Z"
   },
   {
    "duration": 5,
    "start_time": "2022-01-14T11:34:47.754Z"
   },
   {
    "duration": 14,
    "start_time": "2022-01-14T11:34:50.483Z"
   },
   {
    "duration": 16,
    "start_time": "2022-01-14T11:35:02.488Z"
   },
   {
    "duration": 53,
    "start_time": "2022-01-14T11:39:24.855Z"
   },
   {
    "duration": 10,
    "start_time": "2022-01-14T11:39:24.909Z"
   },
   {
    "duration": 8,
    "start_time": "2022-01-14T11:39:24.921Z"
   },
   {
    "duration": 9,
    "start_time": "2022-01-14T11:39:24.931Z"
   },
   {
    "duration": 20,
    "start_time": "2022-01-14T11:39:24.942Z"
   },
   {
    "duration": 3,
    "start_time": "2022-01-14T11:39:24.963Z"
   },
   {
    "duration": 10,
    "start_time": "2022-01-14T11:39:24.968Z"
   },
   {
    "duration": 11,
    "start_time": "2022-01-14T11:39:24.980Z"
   },
   {
    "duration": 15,
    "start_time": "2022-01-14T11:39:24.993Z"
   },
   {
    "duration": 21,
    "start_time": "2022-01-14T11:39:25.010Z"
   },
   {
    "duration": 10,
    "start_time": "2022-01-14T11:39:25.033Z"
   },
   {
    "duration": 5,
    "start_time": "2022-01-14T11:39:25.045Z"
   },
   {
    "duration": 13,
    "start_time": "2022-01-14T11:39:25.052Z"
   },
   {
    "duration": 13,
    "start_time": "2022-01-14T11:39:25.067Z"
   },
   {
    "duration": 12,
    "start_time": "2022-01-14T11:39:25.081Z"
   },
   {
    "duration": 43,
    "start_time": "2022-01-14T11:39:25.095Z"
   },
   {
    "duration": 17,
    "start_time": "2022-01-14T11:39:25.139Z"
   },
   {
    "duration": 6,
    "start_time": "2022-01-14T11:39:25.158Z"
   },
   {
    "duration": 7,
    "start_time": "2022-01-14T11:39:25.165Z"
   },
   {
    "duration": 2,
    "start_time": "2022-01-14T11:39:25.173Z"
   },
   {
    "duration": 5,
    "start_time": "2022-01-14T11:39:25.177Z"
   },
   {
    "duration": 4,
    "start_time": "2022-01-14T11:39:25.183Z"
   },
   {
    "duration": 3,
    "start_time": "2022-01-14T11:39:25.189Z"
   },
   {
    "duration": 5,
    "start_time": "2022-01-14T11:41:31.192Z"
   },
   {
    "duration": 5,
    "start_time": "2022-01-14T11:41:33.795Z"
   },
   {
    "duration": 6,
    "start_time": "2022-01-14T11:41:35.828Z"
   },
   {
    "duration": 3,
    "start_time": "2022-01-14T12:08:20.275Z"
   },
   {
    "duration": 7,
    "start_time": "2022-01-14T12:11:05.678Z"
   },
   {
    "duration": 7,
    "start_time": "2022-01-14T12:12:01.940Z"
   },
   {
    "duration": 7,
    "start_time": "2022-01-14T12:12:09.683Z"
   },
   {
    "duration": 7,
    "start_time": "2022-01-14T12:12:18.290Z"
   },
   {
    "duration": 7,
    "start_time": "2022-01-14T12:12:21.345Z"
   },
   {
    "duration": 7,
    "start_time": "2022-01-14T12:12:40.705Z"
   },
   {
    "duration": 10,
    "start_time": "2022-01-14T12:15:44.852Z"
   },
   {
    "duration": 8,
    "start_time": "2022-01-14T12:16:10.034Z"
   },
   {
    "duration": 16,
    "start_time": "2022-01-14T12:16:28.538Z"
   },
   {
    "duration": 17,
    "start_time": "2022-01-14T12:16:47.145Z"
   },
   {
    "duration": 14,
    "start_time": "2022-01-14T12:16:56.098Z"
   },
   {
    "duration": 298,
    "start_time": "2022-01-14T13:54:55.545Z"
   },
   {
    "duration": 6,
    "start_time": "2022-01-14T14:03:38.965Z"
   },
   {
    "duration": 6,
    "start_time": "2022-01-14T14:03:49.069Z"
   },
   {
    "duration": 608,
    "start_time": "2022-01-14T14:05:05.187Z"
   },
   {
    "duration": 13,
    "start_time": "2022-01-14T14:05:17.720Z"
   },
   {
    "duration": 12,
    "start_time": "2022-01-14T14:05:22.340Z"
   },
   {
    "duration": 12,
    "start_time": "2022-01-14T14:05:39.616Z"
   },
   {
    "duration": 3,
    "start_time": "2022-01-14T14:06:24.066Z"
   },
   {
    "duration": 2816,
    "start_time": "2022-01-14T14:06:44.469Z"
   },
   {
    "duration": 2749,
    "start_time": "2022-01-14T14:07:09.447Z"
   },
   {
    "duration": 2669,
    "start_time": "2022-01-14T14:07:26.503Z"
   },
   {
    "duration": 2702,
    "start_time": "2022-01-14T14:08:31.769Z"
   },
   {
    "duration": 55,
    "start_time": "2022-01-14T14:08:39.542Z"
   },
   {
    "duration": 11,
    "start_time": "2022-01-14T14:08:39.598Z"
   },
   {
    "duration": 11,
    "start_time": "2022-01-14T14:08:39.611Z"
   },
   {
    "duration": 4,
    "start_time": "2022-01-14T14:08:39.624Z"
   },
   {
    "duration": 19,
    "start_time": "2022-01-14T14:08:39.630Z"
   },
   {
    "duration": 3,
    "start_time": "2022-01-14T14:08:39.650Z"
   },
   {
    "duration": 10,
    "start_time": "2022-01-14T14:08:39.654Z"
   },
   {
    "duration": 5,
    "start_time": "2022-01-14T14:08:39.666Z"
   },
   {
    "duration": 15,
    "start_time": "2022-01-14T14:08:39.673Z"
   },
   {
    "duration": 8,
    "start_time": "2022-01-14T14:08:39.689Z"
   },
   {
    "duration": 35,
    "start_time": "2022-01-14T14:08:39.698Z"
   },
   {
    "duration": 4,
    "start_time": "2022-01-14T14:08:39.735Z"
   },
   {
    "duration": 13,
    "start_time": "2022-01-14T14:08:39.740Z"
   },
   {
    "duration": 13,
    "start_time": "2022-01-14T14:08:39.754Z"
   },
   {
    "duration": 12,
    "start_time": "2022-01-14T14:08:39.768Z"
   },
   {
    "duration": 14,
    "start_time": "2022-01-14T14:08:39.782Z"
   },
   {
    "duration": 43,
    "start_time": "2022-01-14T14:08:39.797Z"
   },
   {
    "duration": 7,
    "start_time": "2022-01-14T14:08:39.841Z"
   },
   {
    "duration": 8,
    "start_time": "2022-01-14T14:08:39.849Z"
   },
   {
    "duration": 8,
    "start_time": "2022-01-14T14:08:39.858Z"
   },
   {
    "duration": 9,
    "start_time": "2022-01-14T14:08:39.867Z"
   },
   {
    "duration": 11,
    "start_time": "2022-01-14T14:08:39.877Z"
   },
   {
    "duration": 13,
    "start_time": "2022-01-14T14:08:39.891Z"
   },
   {
    "duration": 35,
    "start_time": "2022-01-14T14:08:39.906Z"
   },
   {
    "duration": 17,
    "start_time": "2022-01-14T14:08:39.943Z"
   },
   {
    "duration": 15,
    "start_time": "2022-01-14T14:08:39.961Z"
   },
   {
    "duration": 14,
    "start_time": "2022-01-14T14:08:39.977Z"
   },
   {
    "duration": 39,
    "start_time": "2022-01-14T14:08:39.992Z"
   },
   {
    "duration": 641,
    "start_time": "2022-01-14T14:08:40.033Z"
   },
   {
    "duration": 2830,
    "start_time": "2022-01-14T14:08:42.963Z"
   },
   {
    "duration": 3178,
    "start_time": "2022-01-14T14:21:32.655Z"
   },
   {
    "duration": 516,
    "start_time": "2022-01-14T14:22:27.428Z"
   },
   {
    "duration": 3441,
    "start_time": "2022-01-14T14:22:39.609Z"
   },
   {
    "duration": 2904,
    "start_time": "2022-01-14T14:25:57.667Z"
   },
   {
    "duration": 5,
    "start_time": "2022-01-14T14:27:55.827Z"
   },
   {
    "duration": 5,
    "start_time": "2022-01-14T14:28:20.731Z"
   },
   {
    "duration": 88,
    "start_time": "2022-01-14T14:29:32.616Z"
   },
   {
    "duration": 6,
    "start_time": "2022-01-14T14:29:50.234Z"
   },
   {
    "duration": 6,
    "start_time": "2022-01-14T14:31:37.348Z"
   },
   {
    "duration": 7233,
    "start_time": "2022-01-14T14:31:56.309Z"
   },
   {
    "duration": 2781,
    "start_time": "2022-01-14T14:32:10.046Z"
   },
   {
    "duration": 2840,
    "start_time": "2022-01-14T14:33:02.178Z"
   },
   {
    "duration": 5,
    "start_time": "2022-01-14T14:34:09.051Z"
   },
   {
    "duration": 2859,
    "start_time": "2022-01-14T14:35:06.105Z"
   },
   {
    "duration": 57,
    "start_time": "2022-01-14T14:35:24.003Z"
   },
   {
    "duration": 10,
    "start_time": "2022-01-14T14:35:24.062Z"
   },
   {
    "duration": 13,
    "start_time": "2022-01-14T14:35:24.074Z"
   },
   {
    "duration": 6,
    "start_time": "2022-01-14T14:35:24.089Z"
   },
   {
    "duration": 45,
    "start_time": "2022-01-14T14:35:24.096Z"
   },
   {
    "duration": 3,
    "start_time": "2022-01-14T14:35:24.142Z"
   },
   {
    "duration": 12,
    "start_time": "2022-01-14T14:35:24.147Z"
   },
   {
    "duration": 6,
    "start_time": "2022-01-14T14:35:24.161Z"
   },
   {
    "duration": 21,
    "start_time": "2022-01-14T14:35:24.169Z"
   },
   {
    "duration": 9,
    "start_time": "2022-01-14T14:35:24.192Z"
   },
   {
    "duration": 27,
    "start_time": "2022-01-14T14:35:24.203Z"
   },
   {
    "duration": 6,
    "start_time": "2022-01-14T14:35:24.232Z"
   },
   {
    "duration": 11,
    "start_time": "2022-01-14T14:35:24.240Z"
   },
   {
    "duration": 13,
    "start_time": "2022-01-14T14:35:24.253Z"
   },
   {
    "duration": 12,
    "start_time": "2022-01-14T14:35:24.268Z"
   },
   {
    "duration": 52,
    "start_time": "2022-01-14T14:35:24.281Z"
   },
   {
    "duration": 17,
    "start_time": "2022-01-14T14:35:24.335Z"
   },
   {
    "duration": 7,
    "start_time": "2022-01-14T14:35:24.354Z"
   },
   {
    "duration": 9,
    "start_time": "2022-01-14T14:35:24.362Z"
   },
   {
    "duration": 8,
    "start_time": "2022-01-14T14:35:24.372Z"
   },
   {
    "duration": 6,
    "start_time": "2022-01-14T14:35:24.382Z"
   },
   {
    "duration": 6,
    "start_time": "2022-01-14T14:35:24.390Z"
   },
   {
    "duration": 36,
    "start_time": "2022-01-14T14:35:24.399Z"
   },
   {
    "duration": 9,
    "start_time": "2022-01-14T14:35:24.437Z"
   },
   {
    "duration": 18,
    "start_time": "2022-01-14T14:35:24.447Z"
   },
   {
    "duration": 14,
    "start_time": "2022-01-14T14:35:24.467Z"
   },
   {
    "duration": 14,
    "start_time": "2022-01-14T14:35:24.483Z"
   },
   {
    "duration": 30,
    "start_time": "2022-01-14T14:35:24.498Z"
   },
   {
    "duration": 634,
    "start_time": "2022-01-14T14:35:24.529Z"
   },
   {
    "duration": 2853,
    "start_time": "2022-01-14T14:35:34.599Z"
   },
   {
    "duration": 311,
    "start_time": "2022-01-14T14:35:58.143Z"
   },
   {
    "duration": 10,
    "start_time": "2022-01-14T14:36:03.651Z"
   },
   {
    "duration": 446,
    "start_time": "2022-01-14T14:36:17.572Z"
   },
   {
    "duration": 37,
    "start_time": "2022-01-14T14:36:34.233Z"
   },
   {
    "duration": 15,
    "start_time": "2022-01-14T14:36:49.665Z"
   },
   {
    "duration": 10,
    "start_time": "2022-01-14T14:39:16.812Z"
   },
   {
    "duration": 15,
    "start_time": "2022-01-14T14:39:30.371Z"
   },
   {
    "duration": 15,
    "start_time": "2022-01-14T14:39:42.828Z"
   },
   {
    "duration": 15,
    "start_time": "2022-01-14T14:39:49.107Z"
   },
   {
    "duration": 295,
    "start_time": "2022-01-14T14:39:57.262Z"
   },
   {
    "duration": 14,
    "start_time": "2022-01-14T14:39:59.521Z"
   },
   {
    "duration": 13,
    "start_time": "2022-01-14T14:40:06.266Z"
   },
   {
    "duration": 26,
    "start_time": "2022-01-14T14:42:40.854Z"
   },
   {
    "duration": 827,
    "start_time": "2022-01-17T09:29:50.296Z"
   },
   {
    "duration": 35,
    "start_time": "2022-01-17T09:29:51.126Z"
   },
   {
    "duration": 13,
    "start_time": "2022-01-17T09:29:51.164Z"
   },
   {
    "duration": 8,
    "start_time": "2022-01-17T09:29:51.181Z"
   },
   {
    "duration": 69,
    "start_time": "2022-01-17T09:29:51.192Z"
   },
   {
    "duration": 8,
    "start_time": "2022-01-17T09:29:51.264Z"
   },
   {
    "duration": 14,
    "start_time": "2022-01-17T09:29:51.274Z"
   },
   {
    "duration": 13,
    "start_time": "2022-01-17T09:29:51.290Z"
   },
   {
    "duration": 55,
    "start_time": "2022-01-17T09:29:51.308Z"
   },
   {
    "duration": 14,
    "start_time": "2022-01-17T09:29:51.367Z"
   },
   {
    "duration": 12,
    "start_time": "2022-01-17T09:29:51.384Z"
   },
   {
    "duration": 7,
    "start_time": "2022-01-17T09:29:51.399Z"
   },
   {
    "duration": 52,
    "start_time": "2022-01-17T09:29:51.408Z"
   },
   {
    "duration": 18,
    "start_time": "2022-01-17T09:29:51.463Z"
   },
   {
    "duration": 25,
    "start_time": "2022-01-17T09:29:51.483Z"
   },
   {
    "duration": 57,
    "start_time": "2022-01-17T09:29:51.511Z"
   },
   {
    "duration": 34,
    "start_time": "2022-01-17T09:29:51.571Z"
   },
   {
    "duration": 14,
    "start_time": "2022-01-17T09:29:51.607Z"
   },
   {
    "duration": 36,
    "start_time": "2022-01-17T09:29:51.624Z"
   },
   {
    "duration": 10,
    "start_time": "2022-01-17T09:29:51.662Z"
   },
   {
    "duration": 12,
    "start_time": "2022-01-17T09:29:51.674Z"
   },
   {
    "duration": 12,
    "start_time": "2022-01-17T09:29:51.688Z"
   },
   {
    "duration": 19,
    "start_time": "2022-01-17T09:29:51.703Z"
   },
   {
    "duration": 45,
    "start_time": "2022-01-17T09:29:51.725Z"
   },
   {
    "duration": 26,
    "start_time": "2022-01-17T09:29:51.773Z"
   },
   {
    "duration": 26,
    "start_time": "2022-01-17T09:29:51.802Z"
   },
   {
    "duration": 27,
    "start_time": "2022-01-17T09:29:51.862Z"
   },
   {
    "duration": 25,
    "start_time": "2022-01-17T09:29:51.891Z"
   },
   {
    "duration": 959,
    "start_time": "2022-01-17T09:29:51.918Z"
   },
   {
    "duration": 3903,
    "start_time": "2022-01-17T09:29:52.879Z"
   },
   {
    "duration": 28,
    "start_time": "2022-01-17T09:29:56.785Z"
   },
   {
    "duration": 56,
    "start_time": "2022-01-17T09:29:56.816Z"
   },
   {
    "duration": 112,
    "start_time": "2022-01-17T09:32:46.906Z"
   },
   {
    "duration": 98,
    "start_time": "2022-01-17T09:33:05.533Z"
   },
   {
    "duration": 106,
    "start_time": "2022-01-17T09:33:26.500Z"
   },
   {
    "duration": 106,
    "start_time": "2022-01-17T09:34:15.428Z"
   },
   {
    "duration": 27,
    "start_time": "2022-01-17T09:34:24.006Z"
   },
   {
    "duration": 249,
    "start_time": "2022-01-17T11:54:37.693Z"
   },
   {
    "duration": 221,
    "start_time": "2022-01-17T11:54:55.689Z"
   },
   {
    "duration": 279,
    "start_time": "2022-01-17T11:55:31.076Z"
   },
   {
    "duration": 202,
    "start_time": "2022-01-17T11:56:14.014Z"
   },
   {
    "duration": 717,
    "start_time": "2022-01-17T11:56:42.010Z"
   },
   {
    "duration": 18,
    "start_time": "2022-01-17T11:56:42.730Z"
   },
   {
    "duration": 13,
    "start_time": "2022-01-17T11:56:42.751Z"
   },
   {
    "duration": 7,
    "start_time": "2022-01-17T11:56:42.766Z"
   },
   {
    "duration": 31,
    "start_time": "2022-01-17T11:56:42.775Z"
   },
   {
    "duration": 14,
    "start_time": "2022-01-17T11:56:42.808Z"
   },
   {
    "duration": 21,
    "start_time": "2022-01-17T11:56:42.823Z"
   },
   {
    "duration": 19,
    "start_time": "2022-01-17T11:56:42.846Z"
   },
   {
    "duration": 34,
    "start_time": "2022-01-17T11:56:42.869Z"
   },
   {
    "duration": 10,
    "start_time": "2022-01-17T11:56:42.906Z"
   },
   {
    "duration": 18,
    "start_time": "2022-01-17T11:56:42.919Z"
   },
   {
    "duration": 12,
    "start_time": "2022-01-17T11:56:42.938Z"
   },
   {
    "duration": 28,
    "start_time": "2022-01-17T11:56:42.952Z"
   },
   {
    "duration": 24,
    "start_time": "2022-01-17T11:56:42.982Z"
   },
   {
    "duration": 30,
    "start_time": "2022-01-17T11:56:43.009Z"
   },
   {
    "duration": 38,
    "start_time": "2022-01-17T11:56:43.042Z"
   },
   {
    "duration": 41,
    "start_time": "2022-01-17T11:56:43.083Z"
   },
   {
    "duration": 13,
    "start_time": "2022-01-17T11:56:43.127Z"
   },
   {
    "duration": 28,
    "start_time": "2022-01-17T11:56:43.142Z"
   },
   {
    "duration": 16,
    "start_time": "2022-01-17T11:56:43.172Z"
   },
   {
    "duration": 14,
    "start_time": "2022-01-17T11:56:43.190Z"
   },
   {
    "duration": 11,
    "start_time": "2022-01-17T11:56:43.206Z"
   },
   {
    "duration": 17,
    "start_time": "2022-01-17T11:56:43.218Z"
   },
   {
    "duration": 26,
    "start_time": "2022-01-17T11:56:43.237Z"
   },
   {
    "duration": 17,
    "start_time": "2022-01-17T11:56:43.265Z"
   },
   {
    "duration": 17,
    "start_time": "2022-01-17T11:56:43.284Z"
   },
   {
    "duration": 16,
    "start_time": "2022-01-17T11:56:43.304Z"
   },
   {
    "duration": 26,
    "start_time": "2022-01-17T11:56:43.322Z"
   },
   {
    "duration": 719,
    "start_time": "2022-01-17T11:56:43.361Z"
   },
   {
    "duration": 3516,
    "start_time": "2022-01-17T11:56:44.083Z"
   },
   {
    "duration": 19,
    "start_time": "2022-01-17T11:56:47.600Z"
   },
   {
    "duration": 46,
    "start_time": "2022-01-17T11:56:47.621Z"
   },
   {
    "duration": 32,
    "start_time": "2022-01-17T11:56:47.670Z"
   },
   {
    "duration": 34,
    "start_time": "2022-01-17T11:56:56.946Z"
   },
   {
    "duration": 19,
    "start_time": "2022-01-17T11:57:30.858Z"
   },
   {
    "duration": 23,
    "start_time": "2022-01-17T12:04:08.487Z"
   },
   {
    "duration": 22,
    "start_time": "2022-01-17T12:08:36.500Z"
   },
   {
    "duration": 87,
    "start_time": "2022-01-17T12:09:18.495Z"
   },
   {
    "duration": 22,
    "start_time": "2022-01-17T12:09:31.583Z"
   },
   {
    "duration": 14,
    "start_time": "2022-01-17T12:10:31.933Z"
   },
   {
    "duration": 13,
    "start_time": "2022-01-17T12:12:37.989Z"
   },
   {
    "duration": 14,
    "start_time": "2022-01-17T12:12:50.886Z"
   },
   {
    "duration": 5,
    "start_time": "2022-01-17T12:13:22.433Z"
   },
   {
    "duration": 14,
    "start_time": "2022-01-17T12:14:37.361Z"
   },
   {
    "duration": 13,
    "start_time": "2022-01-17T12:15:11.822Z"
   },
   {
    "duration": 15,
    "start_time": "2022-01-17T12:15:42.976Z"
   },
   {
    "duration": 80,
    "start_time": "2022-01-17T12:27:35.841Z"
   },
   {
    "duration": 23,
    "start_time": "2022-01-17T12:27:52.604Z"
   },
   {
    "duration": 9,
    "start_time": "2022-01-17T12:30:42.118Z"
   },
   {
    "duration": 262,
    "start_time": "2022-01-17T12:35:20.748Z"
   },
   {
    "duration": 8,
    "start_time": "2022-01-17T12:35:34.383Z"
   },
   {
    "duration": 8,
    "start_time": "2022-01-17T12:36:16.806Z"
   },
   {
    "duration": 8,
    "start_time": "2022-01-17T12:36:26.417Z"
   },
   {
    "duration": 7,
    "start_time": "2022-01-17T12:37:06.363Z"
   },
   {
    "duration": 10,
    "start_time": "2022-01-17T12:37:41.546Z"
   },
   {
    "duration": 296,
    "start_time": "2022-01-17T12:38:02.607Z"
   },
   {
    "duration": 9,
    "start_time": "2022-01-17T12:38:27.286Z"
   },
   {
    "duration": 84,
    "start_time": "2022-01-17T12:42:20.643Z"
   },
   {
    "duration": 45,
    "start_time": "2022-01-17T12:42:26.490Z"
   },
   {
    "duration": 22,
    "start_time": "2022-01-17T12:42:34.199Z"
   },
   {
    "duration": 10,
    "start_time": "2022-01-17T12:42:53.138Z"
   },
   {
    "duration": 14,
    "start_time": "2022-01-17T12:43:09.907Z"
   },
   {
    "duration": 334,
    "start_time": "2022-01-17T12:43:56.703Z"
   },
   {
    "duration": 17,
    "start_time": "2022-01-17T12:44:21.212Z"
   },
   {
    "duration": 14,
    "start_time": "2022-01-17T12:56:55.399Z"
   },
   {
    "duration": 14,
    "start_time": "2022-01-17T12:58:32.760Z"
   },
   {
    "duration": 26,
    "start_time": "2022-01-17T12:59:04.729Z"
   },
   {
    "duration": 14,
    "start_time": "2022-01-17T12:59:48.814Z"
   },
   {
    "duration": 10,
    "start_time": "2022-01-17T14:07:59.516Z"
   },
   {
    "duration": 109,
    "start_time": "2022-01-17T14:14:27.757Z"
   },
   {
    "duration": 15,
    "start_time": "2022-01-17T14:14:47.666Z"
   },
   {
    "duration": 11,
    "start_time": "2022-01-17T14:15:18.527Z"
   },
   {
    "duration": 18,
    "start_time": "2022-01-17T14:15:48.280Z"
   },
   {
    "duration": 9,
    "start_time": "2022-01-17T14:25:34.478Z"
   },
   {
    "duration": 12,
    "start_time": "2022-01-17T14:26:39.958Z"
   },
   {
    "duration": 14,
    "start_time": "2022-01-17T14:27:12.422Z"
   },
   {
    "duration": 12,
    "start_time": "2022-01-17T14:27:38.659Z"
   },
   {
    "duration": 12,
    "start_time": "2022-01-17T14:28:02.978Z"
   },
   {
    "duration": 922,
    "start_time": "2022-01-20T15:51:10.714Z"
   },
   {
    "duration": 27,
    "start_time": "2022-01-20T15:51:11.638Z"
   },
   {
    "duration": 14,
    "start_time": "2022-01-20T15:51:11.668Z"
   },
   {
    "duration": 8,
    "start_time": "2022-01-20T15:51:11.685Z"
   },
   {
    "duration": 69,
    "start_time": "2022-01-20T15:51:11.696Z"
   },
   {
    "duration": 10,
    "start_time": "2022-01-20T15:51:11.767Z"
   },
   {
    "duration": 26,
    "start_time": "2022-01-20T15:51:11.779Z"
   },
   {
    "duration": 39,
    "start_time": "2022-01-20T15:51:11.808Z"
   },
   {
    "duration": 31,
    "start_time": "2022-01-20T15:51:11.851Z"
   },
   {
    "duration": 17,
    "start_time": "2022-01-20T15:51:11.884Z"
   },
   {
    "duration": 43,
    "start_time": "2022-01-20T15:51:11.904Z"
   },
   {
    "duration": 10,
    "start_time": "2022-01-20T15:51:11.950Z"
   },
   {
    "duration": 24,
    "start_time": "2022-01-20T15:51:11.962Z"
   },
   {
    "duration": 68,
    "start_time": "2022-01-20T15:51:11.989Z"
   },
   {
    "duration": 26,
    "start_time": "2022-01-20T15:51:12.060Z"
   },
   {
    "duration": 76,
    "start_time": "2022-01-20T15:51:12.090Z"
   },
   {
    "duration": 43,
    "start_time": "2022-01-20T15:51:12.169Z"
   },
   {
    "duration": 14,
    "start_time": "2022-01-20T15:51:12.232Z"
   },
   {
    "duration": 11,
    "start_time": "2022-01-20T15:51:12.249Z"
   },
   {
    "duration": 10,
    "start_time": "2022-01-20T15:51:12.263Z"
   },
   {
    "duration": 53,
    "start_time": "2022-01-20T15:51:12.279Z"
   },
   {
    "duration": 11,
    "start_time": "2022-01-20T15:51:12.336Z"
   },
   {
    "duration": 25,
    "start_time": "2022-01-20T15:51:12.350Z"
   },
   {
    "duration": 11,
    "start_time": "2022-01-20T15:51:12.378Z"
   },
   {
    "duration": 59,
    "start_time": "2022-01-20T15:51:12.391Z"
   },
   {
    "duration": 27,
    "start_time": "2022-01-20T15:51:12.454Z"
   },
   {
    "duration": 51,
    "start_time": "2022-01-20T15:51:12.483Z"
   },
   {
    "duration": 11,
    "start_time": "2022-01-20T15:51:12.537Z"
   },
   {
    "duration": 975,
    "start_time": "2022-01-20T15:51:12.552Z"
   },
   {
    "duration": 4366,
    "start_time": "2022-01-20T15:51:13.530Z"
   },
   {
    "duration": 41,
    "start_time": "2022-01-20T15:51:17.899Z"
   },
   {
    "duration": 24,
    "start_time": "2022-01-20T15:51:17.942Z"
   },
   {
    "duration": 18,
    "start_time": "2022-01-20T15:51:17.969Z"
   },
   {
    "duration": 46,
    "start_time": "2022-01-20T15:51:17.990Z"
   },
   {
    "duration": 26,
    "start_time": "2022-01-20T15:51:18.039Z"
   },
   {
    "duration": 25,
    "start_time": "2022-01-20T15:51:18.068Z"
   },
   {
    "duration": 46,
    "start_time": "2022-01-20T15:51:18.095Z"
   },
   {
    "duration": 17,
    "start_time": "2022-01-20T15:51:18.144Z"
   },
   {
    "duration": 117,
    "start_time": "2022-01-20T15:51:18.163Z"
   },
   {
    "duration": -115,
    "start_time": "2022-01-20T15:51:18.397Z"
   },
   {
    "duration": -117,
    "start_time": "2022-01-20T15:51:18.401Z"
   },
   {
    "duration": -119,
    "start_time": "2022-01-20T15:51:18.406Z"
   },
   {
    "duration": -122,
    "start_time": "2022-01-20T15:51:18.410Z"
   },
   {
    "duration": -125,
    "start_time": "2022-01-20T15:51:18.415Z"
   },
   {
    "duration": -127,
    "start_time": "2022-01-20T15:51:18.418Z"
   },
   {
    "duration": -128,
    "start_time": "2022-01-20T15:51:18.421Z"
   },
   {
    "duration": -131,
    "start_time": "2022-01-20T15:51:18.425Z"
   },
   {
    "duration": -134,
    "start_time": "2022-01-20T15:51:18.430Z"
   },
   {
    "duration": -136,
    "start_time": "2022-01-20T15:51:18.433Z"
   },
   {
    "duration": -138,
    "start_time": "2022-01-20T15:51:18.437Z"
   },
   {
    "duration": -141,
    "start_time": "2022-01-20T15:51:18.441Z"
   },
   {
    "duration": -145,
    "start_time": "2022-01-20T15:51:18.446Z"
   },
   {
    "duration": 9190,
    "start_time": "2022-01-20T15:54:45.890Z"
   },
   {
    "duration": 68,
    "start_time": "2022-01-20T15:55:02.244Z"
   },
   {
    "duration": 18,
    "start_time": "2022-01-20T15:55:03.093Z"
   },
   {
    "duration": 13,
    "start_time": "2022-01-20T15:55:06.564Z"
   },
   {
    "duration": 9,
    "start_time": "2022-01-20T15:55:08.196Z"
   },
   {
    "duration": 32,
    "start_time": "2022-01-20T15:55:11.034Z"
   },
   {
    "duration": 5,
    "start_time": "2022-01-20T15:55:15.766Z"
   },
   {
    "duration": 12,
    "start_time": "2022-01-20T15:55:19.065Z"
   },
   {
    "duration": 9,
    "start_time": "2022-01-20T15:55:21.666Z"
   },
   {
    "duration": 25,
    "start_time": "2022-01-20T15:55:36.290Z"
   },
   {
    "duration": 44,
    "start_time": "2022-01-20T15:55:44.817Z"
   },
   {
    "duration": 860,
    "start_time": "2022-01-20T15:56:44.497Z"
   },
   {
    "duration": 28,
    "start_time": "2022-01-20T15:56:45.361Z"
   },
   {
    "duration": 40,
    "start_time": "2022-01-20T15:56:45.393Z"
   },
   {
    "duration": 10,
    "start_time": "2022-01-20T15:56:45.437Z"
   },
   {
    "duration": 50,
    "start_time": "2022-01-20T15:56:45.451Z"
   },
   {
    "duration": 6,
    "start_time": "2022-01-20T15:56:45.533Z"
   },
   {
    "duration": 18,
    "start_time": "2022-01-20T15:56:45.542Z"
   },
   {
    "duration": 9,
    "start_time": "2022-01-20T15:56:45.564Z"
   },
   {
    "duration": 63,
    "start_time": "2022-01-20T15:56:45.576Z"
   },
   {
    "duration": 14,
    "start_time": "2022-01-20T15:56:45.641Z"
   },
   {
    "duration": 12,
    "start_time": "2022-01-20T15:56:45.658Z"
   },
   {
    "duration": 10,
    "start_time": "2022-01-20T15:56:45.673Z"
   },
   {
    "duration": 65,
    "start_time": "2022-01-20T15:56:45.686Z"
   },
   {
    "duration": 19,
    "start_time": "2022-01-20T15:56:45.754Z"
   },
   {
    "duration": 59,
    "start_time": "2022-01-20T15:56:45.775Z"
   },
   {
    "duration": 38,
    "start_time": "2022-01-20T15:56:45.837Z"
   },
   {
    "duration": 77,
    "start_time": "2022-01-20T15:56:45.879Z"
   },
   {
    "duration": 11,
    "start_time": "2022-01-20T15:56:45.959Z"
   },
   {
    "duration": 12,
    "start_time": "2022-01-20T15:56:45.973Z"
   },
   {
    "duration": 22,
    "start_time": "2022-01-20T15:56:45.987Z"
   },
   {
    "duration": 10,
    "start_time": "2022-01-20T15:56:46.033Z"
   },
   {
    "duration": 11,
    "start_time": "2022-01-20T15:56:46.046Z"
   },
   {
    "duration": 17,
    "start_time": "2022-01-20T15:56:46.063Z"
   },
   {
    "duration": 48,
    "start_time": "2022-01-20T15:56:46.084Z"
   },
   {
    "duration": 26,
    "start_time": "2022-01-20T15:56:46.135Z"
   },
   {
    "duration": 26,
    "start_time": "2022-01-20T15:56:46.164Z"
   },
   {
    "duration": 57,
    "start_time": "2022-01-20T15:56:46.193Z"
   },
   {
    "duration": 14,
    "start_time": "2022-01-20T15:56:46.253Z"
   },
   {
    "duration": 934,
    "start_time": "2022-01-20T15:56:46.269Z"
   },
   {
    "duration": 4106,
    "start_time": "2022-01-20T15:56:47.205Z"
   },
   {
    "duration": 38,
    "start_time": "2022-01-20T15:56:51.313Z"
   },
   {
    "duration": 26,
    "start_time": "2022-01-20T15:56:51.353Z"
   },
   {
    "duration": 18,
    "start_time": "2022-01-20T15:56:51.381Z"
   },
   {
    "duration": 43,
    "start_time": "2022-01-20T15:56:51.401Z"
   },
   {
    "duration": 20,
    "start_time": "2022-01-20T15:56:51.447Z"
   },
   {
    "duration": 20,
    "start_time": "2022-01-20T15:56:51.470Z"
   },
   {
    "duration": 54,
    "start_time": "2022-01-20T15:56:51.493Z"
   },
   {
    "duration": 17,
    "start_time": "2022-01-20T15:56:51.549Z"
   },
   {
    "duration": 1123,
    "start_time": "2022-01-20T15:56:51.568Z"
   },
   {
    "duration": -226,
    "start_time": "2022-01-20T15:56:52.921Z"
   },
   {
    "duration": -229,
    "start_time": "2022-01-20T15:56:52.926Z"
   },
   {
    "duration": -230,
    "start_time": "2022-01-20T15:56:52.930Z"
   },
   {
    "duration": -303,
    "start_time": "2022-01-20T15:56:53.005Z"
   },
   {
    "duration": -305,
    "start_time": "2022-01-20T15:56:53.009Z"
   },
   {
    "duration": -307,
    "start_time": "2022-01-20T15:56:53.014Z"
   },
   {
    "duration": -309,
    "start_time": "2022-01-20T15:56:53.018Z"
   },
   {
    "duration": -311,
    "start_time": "2022-01-20T15:56:53.022Z"
   },
   {
    "duration": -312,
    "start_time": "2022-01-20T15:56:53.025Z"
   },
   {
    "duration": -313,
    "start_time": "2022-01-20T15:56:53.028Z"
   },
   {
    "duration": -315,
    "start_time": "2022-01-20T15:56:53.033Z"
   },
   {
    "duration": -317,
    "start_time": "2022-01-20T15:56:53.037Z"
   },
   {
    "duration": -318,
    "start_time": "2022-01-20T15:56:53.041Z"
   },
   {
    "duration": 927,
    "start_time": "2022-01-20T15:57:16.109Z"
   },
   {
    "duration": 29,
    "start_time": "2022-01-20T15:57:17.038Z"
   },
   {
    "duration": 12,
    "start_time": "2022-01-20T15:57:17.070Z"
   },
   {
    "duration": 9,
    "start_time": "2022-01-20T15:57:17.085Z"
   },
   {
    "duration": 68,
    "start_time": "2022-01-20T15:57:17.096Z"
   },
   {
    "duration": 6,
    "start_time": "2022-01-20T15:57:17.167Z"
   },
   {
    "duration": 25,
    "start_time": "2022-01-20T15:57:17.176Z"
   },
   {
    "duration": 14,
    "start_time": "2022-01-20T15:57:17.236Z"
   },
   {
    "duration": 25,
    "start_time": "2022-01-20T15:57:17.254Z"
   },
   {
    "duration": 13,
    "start_time": "2022-01-20T15:57:17.281Z"
   },
   {
    "duration": 46,
    "start_time": "2022-01-20T15:57:17.297Z"
   },
   {
    "duration": 9,
    "start_time": "2022-01-20T15:57:17.346Z"
   },
   {
    "duration": 22,
    "start_time": "2022-01-20T15:57:17.357Z"
   },
   {
    "duration": 61,
    "start_time": "2022-01-20T15:57:17.381Z"
   },
   {
    "duration": 33,
    "start_time": "2022-01-20T15:57:17.445Z"
   },
   {
    "duration": 60,
    "start_time": "2022-01-20T15:57:17.481Z"
   },
   {
    "duration": 53,
    "start_time": "2022-01-20T15:57:17.544Z"
   },
   {
    "duration": 35,
    "start_time": "2022-01-20T15:57:17.600Z"
   },
   {
    "duration": 11,
    "start_time": "2022-01-20T15:57:17.637Z"
   },
   {
    "duration": 11,
    "start_time": "2022-01-20T15:57:17.651Z"
   },
   {
    "duration": 10,
    "start_time": "2022-01-20T15:57:17.664Z"
   },
   {
    "duration": 55,
    "start_time": "2022-01-20T15:57:17.677Z"
   },
   {
    "duration": 25,
    "start_time": "2022-01-20T15:57:17.741Z"
   },
   {
    "duration": 20,
    "start_time": "2022-01-20T15:57:17.770Z"
   },
   {
    "duration": 61,
    "start_time": "2022-01-20T15:57:17.793Z"
   },
   {
    "duration": 36,
    "start_time": "2022-01-20T15:57:17.857Z"
   },
   {
    "duration": 53,
    "start_time": "2022-01-20T15:57:17.896Z"
   },
   {
    "duration": 13,
    "start_time": "2022-01-20T15:57:17.952Z"
   },
   {
    "duration": 1432,
    "start_time": "2022-01-20T15:57:17.968Z"
   },
   {
    "duration": 4644,
    "start_time": "2022-01-20T15:57:19.403Z"
   },
   {
    "duration": 25,
    "start_time": "2022-01-20T15:57:24.049Z"
   },
   {
    "duration": 24,
    "start_time": "2022-01-20T15:57:24.077Z"
   },
   {
    "duration": 44,
    "start_time": "2022-01-20T15:57:24.104Z"
   },
   {
    "duration": 17,
    "start_time": "2022-01-20T15:57:24.151Z"
   },
   {
    "duration": 27,
    "start_time": "2022-01-20T15:57:24.171Z"
   },
   {
    "duration": 47,
    "start_time": "2022-01-20T15:57:24.200Z"
   },
   {
    "duration": 23,
    "start_time": "2022-01-20T15:57:24.250Z"
   },
   {
    "duration": 15,
    "start_time": "2022-01-20T15:57:24.275Z"
   },
   {
    "duration": 58,
    "start_time": "2022-01-20T15:57:24.292Z"
   },
   {
    "duration": 14,
    "start_time": "2022-01-20T15:57:24.352Z"
   },
   {
    "duration": 18,
    "start_time": "2022-01-20T15:57:24.369Z"
   },
   {
    "duration": 55,
    "start_time": "2022-01-20T15:57:24.390Z"
   },
   {
    "duration": 13,
    "start_time": "2022-01-20T15:57:24.447Z"
   },
   {
    "duration": 20,
    "start_time": "2022-01-20T15:57:24.462Z"
   },
   {
    "duration": 52,
    "start_time": "2022-01-20T15:57:24.485Z"
   },
   {
    "duration": 16,
    "start_time": "2022-01-20T15:57:24.540Z"
   },
   {
    "duration": 12,
    "start_time": "2022-01-20T15:57:24.559Z"
   },
   {
    "duration": 16,
    "start_time": "2022-01-20T15:57:24.573Z"
   },
   {
    "duration": 53,
    "start_time": "2022-01-20T15:57:24.591Z"
   },
   {
    "duration": 15,
    "start_time": "2022-01-20T15:57:24.647Z"
   },
   {
    "duration": 14,
    "start_time": "2022-01-20T15:57:24.664Z"
   },
   {
    "duration": 6,
    "start_time": "2022-01-20T16:18:52.624Z"
   },
   {
    "duration": 143,
    "start_time": "2022-01-20T16:25:19.258Z"
   },
   {
    "duration": 867,
    "start_time": "2022-01-20T16:43:24.292Z"
   },
   {
    "duration": 28,
    "start_time": "2022-01-20T16:43:25.162Z"
   },
   {
    "duration": 13,
    "start_time": "2022-01-20T16:43:25.193Z"
   },
   {
    "duration": 8,
    "start_time": "2022-01-20T16:43:25.233Z"
   },
   {
    "duration": 33,
    "start_time": "2022-01-20T16:43:25.244Z"
   },
   {
    "duration": 10,
    "start_time": "2022-01-20T16:43:25.280Z"
   },
   {
    "duration": 47,
    "start_time": "2022-01-20T16:43:25.292Z"
   },
   {
    "duration": 10,
    "start_time": "2022-01-20T16:43:25.343Z"
   },
   {
    "duration": 25,
    "start_time": "2022-01-20T16:43:25.356Z"
   },
   {
    "duration": 15,
    "start_time": "2022-01-20T16:43:25.383Z"
   },
   {
    "duration": 45,
    "start_time": "2022-01-20T16:43:25.400Z"
   },
   {
    "duration": 8,
    "start_time": "2022-01-20T16:43:25.448Z"
   },
   {
    "duration": 22,
    "start_time": "2022-01-20T16:43:25.459Z"
   },
   {
    "duration": 56,
    "start_time": "2022-01-20T16:43:25.484Z"
   },
   {
    "duration": 20,
    "start_time": "2022-01-20T16:43:25.542Z"
   },
   {
    "duration": 23,
    "start_time": "2022-01-20T16:43:25.565Z"
   },
   {
    "duration": 52,
    "start_time": "2022-01-20T16:43:25.591Z"
   },
   {
    "duration": 11,
    "start_time": "2022-01-20T16:43:25.645Z"
   },
   {
    "duration": 11,
    "start_time": "2022-01-20T16:43:25.658Z"
   },
   {
    "duration": 9,
    "start_time": "2022-01-20T16:43:25.672Z"
   },
   {
    "duration": 52,
    "start_time": "2022-01-20T16:43:25.684Z"
   },
   {
    "duration": 11,
    "start_time": "2022-01-20T16:43:25.739Z"
   },
   {
    "duration": 15,
    "start_time": "2022-01-20T16:43:25.757Z"
   },
   {
    "duration": 28,
    "start_time": "2022-01-20T16:43:25.775Z"
   },
   {
    "duration": 45,
    "start_time": "2022-01-20T16:43:25.806Z"
   },
   {
    "duration": 25,
    "start_time": "2022-01-20T16:43:25.853Z"
   },
   {
    "duration": 22,
    "start_time": "2022-01-20T16:43:25.880Z"
   },
   {
    "duration": 36,
    "start_time": "2022-01-20T16:43:25.905Z"
   },
   {
    "duration": 923,
    "start_time": "2022-01-20T16:43:25.943Z"
   },
   {
    "duration": 4314,
    "start_time": "2022-01-20T16:43:26.869Z"
   },
   {
    "duration": 26,
    "start_time": "2022-01-20T16:43:31.186Z"
   },
   {
    "duration": 42,
    "start_time": "2022-01-20T16:43:31.214Z"
   },
   {
    "duration": 17,
    "start_time": "2022-01-20T16:43:31.258Z"
   },
   {
    "duration": 20,
    "start_time": "2022-01-20T16:43:31.278Z"
   },
   {
    "duration": 48,
    "start_time": "2022-01-20T16:43:31.301Z"
   },
   {
    "duration": 21,
    "start_time": "2022-01-20T16:43:31.352Z"
   },
   {
    "duration": 20,
    "start_time": "2022-01-20T16:43:31.376Z"
   },
   {
    "duration": 45,
    "start_time": "2022-01-20T16:43:31.398Z"
   },
   {
    "duration": 126,
    "start_time": "2022-01-20T16:43:31.445Z"
   },
   {
    "duration": -1471,
    "start_time": "2022-01-20T16:43:33.044Z"
   },
   {
    "duration": -1474,
    "start_time": "2022-01-20T16:43:33.048Z"
   },
   {
    "duration": -1476,
    "start_time": "2022-01-20T16:43:33.052Z"
   },
   {
    "duration": -1476,
    "start_time": "2022-01-20T16:43:33.055Z"
   },
   {
    "duration": -1478,
    "start_time": "2022-01-20T16:43:33.059Z"
   },
   {
    "duration": -1478,
    "start_time": "2022-01-20T16:43:33.062Z"
   },
   {
    "duration": -1480,
    "start_time": "2022-01-20T16:43:33.066Z"
   },
   {
    "duration": -1480,
    "start_time": "2022-01-20T16:43:33.069Z"
   },
   {
    "duration": -1481,
    "start_time": "2022-01-20T16:43:33.072Z"
   },
   {
    "duration": -1482,
    "start_time": "2022-01-20T16:43:33.075Z"
   },
   {
    "duration": -1484,
    "start_time": "2022-01-20T16:43:33.079Z"
   },
   {
    "duration": -1486,
    "start_time": "2022-01-20T16:43:33.082Z"
   },
   {
    "duration": -1488,
    "start_time": "2022-01-20T16:43:33.086Z"
   },
   {
    "duration": 556,
    "start_time": "2022-01-21T06:36:03.365Z"
   },
   {
    "duration": 862,
    "start_time": "2022-01-21T06:36:15.386Z"
   },
   {
    "duration": 15,
    "start_time": "2022-01-21T06:36:16.250Z"
   },
   {
    "duration": 11,
    "start_time": "2022-01-21T06:36:16.267Z"
   },
   {
    "duration": 5,
    "start_time": "2022-01-21T06:36:16.280Z"
   },
   {
    "duration": 20,
    "start_time": "2022-01-21T06:36:16.287Z"
   },
   {
    "duration": 18,
    "start_time": "2022-01-21T06:36:16.309Z"
   },
   {
    "duration": 9,
    "start_time": "2022-01-21T06:36:16.328Z"
   },
   {
    "duration": 8,
    "start_time": "2022-01-21T06:36:16.338Z"
   },
   {
    "duration": 52,
    "start_time": "2022-01-21T06:36:38.685Z"
   },
   {
    "duration": 10,
    "start_time": "2022-01-21T06:36:38.739Z"
   },
   {
    "duration": 9,
    "start_time": "2022-01-21T06:36:38.751Z"
   },
   {
    "duration": 9,
    "start_time": "2022-01-21T06:36:38.762Z"
   },
   {
    "duration": 19,
    "start_time": "2022-01-21T06:36:38.772Z"
   },
   {
    "duration": 18,
    "start_time": "2022-01-21T06:36:42.868Z"
   },
   {
    "duration": 4,
    "start_time": "2022-01-21T06:36:46.044Z"
   },
   {
    "duration": 7,
    "start_time": "2022-01-21T06:36:47.767Z"
   },
   {
    "duration": 7,
    "start_time": "2022-01-21T06:36:50.954Z"
   },
   {
    "duration": 15,
    "start_time": "2022-01-21T06:36:54.768Z"
   },
   {
    "duration": 10,
    "start_time": "2022-01-21T06:36:55.977Z"
   },
   {
    "duration": 7,
    "start_time": "2022-01-21T06:37:51.633Z"
   },
   {
    "duration": 14,
    "start_time": "2022-01-21T06:38:00.791Z"
   },
   {
    "duration": -778,
    "start_time": "2022-01-21T06:38:19.129Z"
   },
   {
    "duration": -785,
    "start_time": "2022-01-21T06:38:19.137Z"
   },
   {
    "duration": 55,
    "start_time": "2022-01-21T06:38:19.105Z"
   },
   {
    "duration": 11,
    "start_time": "2022-01-21T06:38:19.162Z"
   },
   {
    "duration": 14,
    "start_time": "2022-01-21T06:38:19.175Z"
   },
   {
    "duration": 6,
    "start_time": "2022-01-21T06:38:19.191Z"
   },
   {
    "duration": 33,
    "start_time": "2022-01-21T06:38:19.199Z"
   },
   {
    "duration": 3,
    "start_time": "2022-01-21T06:38:19.233Z"
   },
   {
    "duration": 12,
    "start_time": "2022-01-21T06:38:19.238Z"
   },
   {
    "duration": 10,
    "start_time": "2022-01-21T06:38:19.252Z"
   },
   {
    "duration": 15,
    "start_time": "2022-01-21T06:38:19.263Z"
   },
   {
    "duration": 8,
    "start_time": "2022-01-21T06:38:19.280Z"
   },
   {
    "duration": 9,
    "start_time": "2022-01-21T06:38:22.723Z"
   },
   {
    "duration": 5,
    "start_time": "2022-01-21T06:38:25.873Z"
   },
   {
    "duration": 11,
    "start_time": "2022-01-21T06:38:26.975Z"
   },
   {
    "duration": 13,
    "start_time": "2022-01-21T06:38:44.318Z"
   },
   {
    "duration": 9,
    "start_time": "2022-01-21T06:39:05.615Z"
   },
   {
    "duration": 6,
    "start_time": "2022-01-21T06:39:57.186Z"
   },
   {
    "duration": 6,
    "start_time": "2022-01-21T06:39:59.578Z"
   },
   {
    "duration": 6,
    "start_time": "2022-01-21T06:40:01.782Z"
   },
   {
    "duration": 6,
    "start_time": "2022-01-21T06:40:03.447Z"
   },
   {
    "duration": 8,
    "start_time": "2022-01-21T06:40:04.495Z"
   },
   {
    "duration": 11,
    "start_time": "2022-01-21T06:40:07.273Z"
   },
   {
    "duration": 9,
    "start_time": "2022-01-21T06:40:08.373Z"
   },
   {
    "duration": 15,
    "start_time": "2022-01-21T06:40:10.203Z"
   },
   {
    "duration": 17,
    "start_time": "2022-01-21T06:40:10.869Z"
   },
   {
    "duration": 14,
    "start_time": "2022-01-21T06:40:18.249Z"
   },
   {
    "duration": 10,
    "start_time": "2022-01-21T06:43:50.550Z"
   },
   {
    "duration": 597,
    "start_time": "2022-01-21T06:43:51.353Z"
   },
   {
    "duration": 3050,
    "start_time": "2022-01-21T06:43:53.341Z"
   },
   {
    "duration": 16,
    "start_time": "2022-01-21T06:43:56.393Z"
   },
   {
    "duration": 1169,
    "start_time": "2022-01-21T06:44:07.829Z"
   },
   {
    "duration": 14,
    "start_time": "2022-01-21T06:44:12.147Z"
   },
   {
    "duration": 19,
    "start_time": "2022-01-21T06:44:13.049Z"
   },
   {
    "duration": 11,
    "start_time": "2022-01-21T06:45:46.547Z"
   },
   {
    "duration": 103,
    "start_time": "2022-01-21T07:20:36.448Z"
   },
   {
    "duration": 2,
    "start_time": "2022-01-21T07:21:00.756Z"
   },
   {
    "duration": 14,
    "start_time": "2022-01-21T07:22:42.779Z"
   },
   {
    "duration": 4,
    "start_time": "2022-01-21T07:23:12.996Z"
   },
   {
    "duration": 58,
    "start_time": "2022-01-21T07:26:43.823Z"
   },
   {
    "duration": 11,
    "start_time": "2022-01-21T07:26:43.883Z"
   },
   {
    "duration": 9,
    "start_time": "2022-01-21T07:26:43.896Z"
   },
   {
    "duration": 24,
    "start_time": "2022-01-21T07:26:43.907Z"
   },
   {
    "duration": 19,
    "start_time": "2022-01-21T07:26:43.932Z"
   },
   {
    "duration": 2,
    "start_time": "2022-01-21T07:26:43.953Z"
   },
   {
    "duration": 8,
    "start_time": "2022-01-21T07:26:43.957Z"
   },
   {
    "duration": 6,
    "start_time": "2022-01-21T07:26:43.967Z"
   },
   {
    "duration": 15,
    "start_time": "2022-01-21T07:26:43.974Z"
   },
   {
    "duration": 37,
    "start_time": "2022-01-21T07:26:43.990Z"
   },
   {
    "duration": 9,
    "start_time": "2022-01-21T07:26:44.029Z"
   },
   {
    "duration": 6,
    "start_time": "2022-01-21T07:26:44.039Z"
   },
   {
    "duration": 15,
    "start_time": "2022-01-21T07:26:44.047Z"
   },
   {
    "duration": 17,
    "start_time": "2022-01-21T07:26:44.064Z"
   },
   {
    "duration": 45,
    "start_time": "2022-01-21T07:26:44.083Z"
   },
   {
    "duration": 22,
    "start_time": "2022-01-21T07:26:44.130Z"
   },
   {
    "duration": 12,
    "start_time": "2022-01-21T07:26:44.154Z"
   },
   {
    "duration": 12,
    "start_time": "2022-01-21T07:26:44.168Z"
   },
   {
    "duration": 9,
    "start_time": "2022-01-21T07:26:44.182Z"
   },
   {
    "duration": 9,
    "start_time": "2022-01-21T07:26:44.192Z"
   },
   {
    "duration": 33,
    "start_time": "2022-01-21T07:26:44.202Z"
   },
   {
    "duration": 7,
    "start_time": "2022-01-21T07:26:44.238Z"
   },
   {
    "duration": 11,
    "start_time": "2022-01-21T07:26:44.249Z"
   },
   {
    "duration": 9,
    "start_time": "2022-01-21T07:26:44.262Z"
   },
   {
    "duration": 17,
    "start_time": "2022-01-21T07:26:44.273Z"
   },
   {
    "duration": 48,
    "start_time": "2022-01-21T07:26:44.292Z"
   },
   {
    "duration": 13,
    "start_time": "2022-01-21T07:26:44.342Z"
   },
   {
    "duration": 21,
    "start_time": "2022-01-21T07:26:44.356Z"
   },
   {
    "duration": 654,
    "start_time": "2022-01-21T07:26:44.379Z"
   },
   {
    "duration": 2776,
    "start_time": "2022-01-21T07:26:45.035Z"
   },
   {
    "duration": 25,
    "start_time": "2022-01-21T07:26:47.812Z"
   },
   {
    "duration": 17,
    "start_time": "2022-01-21T07:26:47.838Z"
   },
   {
    "duration": 12,
    "start_time": "2022-01-21T07:26:47.856Z"
   },
   {
    "duration": 6,
    "start_time": "2022-01-21T07:26:47.869Z"
   },
   {
    "duration": 14,
    "start_time": "2022-01-21T07:29:31.994Z"
   },
   {
    "duration": 77,
    "start_time": "2022-01-21T07:36:52.672Z"
   },
   {
    "duration": 14,
    "start_time": "2022-01-21T07:36:52.751Z"
   },
   {
    "duration": 15,
    "start_time": "2022-01-21T07:36:52.767Z"
   },
   {
    "duration": 5,
    "start_time": "2022-01-21T07:36:52.785Z"
   },
   {
    "duration": 49,
    "start_time": "2022-01-21T07:36:52.792Z"
   },
   {
    "duration": 3,
    "start_time": "2022-01-21T07:36:52.843Z"
   },
   {
    "duration": 9,
    "start_time": "2022-01-21T07:36:52.848Z"
   },
   {
    "duration": 5,
    "start_time": "2022-01-21T07:36:52.859Z"
   },
   {
    "duration": 14,
    "start_time": "2022-01-21T07:36:52.866Z"
   },
   {
    "duration": 9,
    "start_time": "2022-01-21T07:36:52.881Z"
   },
   {
    "duration": 8,
    "start_time": "2022-01-21T07:36:52.891Z"
   },
   {
    "duration": 4,
    "start_time": "2022-01-21T07:36:52.927Z"
   },
   {
    "duration": 11,
    "start_time": "2022-01-21T07:36:52.933Z"
   },
   {
    "duration": 12,
    "start_time": "2022-01-21T07:36:52.946Z"
   },
   {
    "duration": 13,
    "start_time": "2022-01-21T07:36:52.959Z"
   },
   {
    "duration": 14,
    "start_time": "2022-01-21T07:36:52.974Z"
   },
   {
    "duration": 38,
    "start_time": "2022-01-21T07:36:52.990Z"
   },
   {
    "duration": 7,
    "start_time": "2022-01-21T07:36:53.030Z"
   },
   {
    "duration": 9,
    "start_time": "2022-01-21T07:36:53.038Z"
   },
   {
    "duration": 8,
    "start_time": "2022-01-21T07:36:53.049Z"
   },
   {
    "duration": 7,
    "start_time": "2022-01-21T07:36:53.059Z"
   },
   {
    "duration": 9,
    "start_time": "2022-01-21T07:36:53.067Z"
   },
   {
    "duration": 11,
    "start_time": "2022-01-21T07:36:53.079Z"
   },
   {
    "duration": 41,
    "start_time": "2022-01-21T07:36:53.092Z"
   },
   {
    "duration": 16,
    "start_time": "2022-01-21T07:36:53.135Z"
   },
   {
    "duration": 16,
    "start_time": "2022-01-21T07:36:53.152Z"
   },
   {
    "duration": 14,
    "start_time": "2022-01-21T07:36:53.169Z"
   },
   {
    "duration": 61,
    "start_time": "2022-01-21T07:36:53.185Z"
   },
   {
    "duration": 642,
    "start_time": "2022-01-21T07:36:53.247Z"
   },
   {
    "duration": 3119,
    "start_time": "2022-01-21T07:36:53.891Z"
   },
   {
    "duration": 28,
    "start_time": "2022-01-21T07:36:57.011Z"
   },
   {
    "duration": 17,
    "start_time": "2022-01-21T07:36:57.040Z"
   },
   {
    "duration": 11,
    "start_time": "2022-01-21T07:36:57.058Z"
   },
   {
    "duration": 10,
    "start_time": "2022-01-21T07:36:57.071Z"
   },
   {
    "duration": 13,
    "start_time": "2022-01-21T07:36:57.332Z"
   },
   {
    "duration": 13,
    "start_time": "2022-01-21T07:37:11.422Z"
   },
   {
    "duration": 320,
    "start_time": "2022-01-21T07:49:45.519Z"
   },
   {
    "duration": -591,
    "start_time": "2022-01-21T07:50:25.141Z"
   },
   {
    "duration": -594,
    "start_time": "2022-01-21T07:50:36.701Z"
   },
   {
    "duration": 6915,
    "start_time": "2022-01-21T07:50:38.897Z"
   },
   {
    "duration": 16,
    "start_time": "2022-01-21T07:51:37.318Z"
   },
   {
    "duration": 99,
    "start_time": "2022-01-21T07:52:43.051Z"
   },
   {
    "duration": 10,
    "start_time": "2022-01-21T07:52:59.944Z"
   },
   {
    "duration": 11,
    "start_time": "2022-01-21T07:54:41.485Z"
   },
   {
    "duration": 5,
    "start_time": "2022-01-21T08:01:02.001Z"
   },
   {
    "duration": 5,
    "start_time": "2022-01-21T08:02:48.799Z"
   },
   {
    "duration": 10,
    "start_time": "2022-01-21T08:05:19.539Z"
   },
   {
    "duration": 3,
    "start_time": "2022-01-21T08:05:20.921Z"
   },
   {
    "duration": 4,
    "start_time": "2022-01-21T08:05:23.813Z"
   },
   {
    "duration": 5,
    "start_time": "2022-01-21T08:05:32.653Z"
   },
   {
    "duration": 24,
    "start_time": "2022-01-21T08:09:32.220Z"
   },
   {
    "duration": 21,
    "start_time": "2022-01-21T08:10:04.045Z"
   },
   {
    "duration": 14,
    "start_time": "2022-01-21T08:10:07.053Z"
   },
   {
    "duration": 6,
    "start_time": "2022-01-21T08:10:26.437Z"
   },
   {
    "duration": 6,
    "start_time": "2022-01-21T08:10:52.318Z"
   },
   {
    "duration": 5,
    "start_time": "2022-01-21T08:11:21.655Z"
   },
   {
    "duration": 7,
    "start_time": "2022-01-21T08:13:13.456Z"
   },
   {
    "duration": 54,
    "start_time": "2022-01-21T08:14:47.276Z"
   },
   {
    "duration": 11,
    "start_time": "2022-01-21T08:14:47.332Z"
   },
   {
    "duration": 10,
    "start_time": "2022-01-21T08:14:47.345Z"
   },
   {
    "duration": 19,
    "start_time": "2022-01-21T08:14:47.357Z"
   },
   {
    "duration": 26,
    "start_time": "2022-01-21T08:14:47.377Z"
   },
   {
    "duration": 15,
    "start_time": "2022-01-21T08:14:47.405Z"
   },
   {
    "duration": 28,
    "start_time": "2022-01-21T08:14:47.421Z"
   },
   {
    "duration": 19,
    "start_time": "2022-01-21T08:14:47.451Z"
   },
   {
    "duration": 40,
    "start_time": "2022-01-21T08:14:47.473Z"
   },
   {
    "duration": 10,
    "start_time": "2022-01-21T08:14:47.515Z"
   },
   {
    "duration": 16,
    "start_time": "2022-01-21T08:14:47.527Z"
   },
   {
    "duration": 8,
    "start_time": "2022-01-21T08:14:47.545Z"
   },
   {
    "duration": 20,
    "start_time": "2022-01-21T08:14:47.555Z"
   },
   {
    "duration": 36,
    "start_time": "2022-01-21T08:14:47.577Z"
   },
   {
    "duration": 13,
    "start_time": "2022-01-21T08:14:47.615Z"
   },
   {
    "duration": 20,
    "start_time": "2022-01-21T08:14:47.629Z"
   },
   {
    "duration": 10,
    "start_time": "2022-01-21T08:14:47.650Z"
   },
   {
    "duration": 17,
    "start_time": "2022-01-21T08:14:47.661Z"
   },
   {
    "duration": 20,
    "start_time": "2022-01-21T08:14:47.679Z"
   },
   {
    "duration": 24,
    "start_time": "2022-01-21T08:14:47.701Z"
   },
   {
    "duration": 8,
    "start_time": "2022-01-21T08:14:47.727Z"
   },
   {
    "duration": 8,
    "start_time": "2022-01-21T08:14:47.736Z"
   },
   {
    "duration": 13,
    "start_time": "2022-01-21T08:14:47.745Z"
   },
   {
    "duration": 8,
    "start_time": "2022-01-21T08:14:47.759Z"
   },
   {
    "duration": 17,
    "start_time": "2022-01-21T08:14:47.769Z"
   },
   {
    "duration": 41,
    "start_time": "2022-01-21T08:14:47.787Z"
   },
   {
    "duration": 13,
    "start_time": "2022-01-21T08:14:47.831Z"
   },
   {
    "duration": 28,
    "start_time": "2022-01-21T08:14:47.846Z"
   },
   {
    "duration": 678,
    "start_time": "2022-01-21T08:14:47.875Z"
   },
   {
    "duration": 3062,
    "start_time": "2022-01-21T08:14:48.555Z"
   },
   {
    "duration": 15,
    "start_time": "2022-01-21T08:14:51.627Z"
   },
   {
    "duration": 23,
    "start_time": "2022-01-21T08:14:51.644Z"
   },
   {
    "duration": 20,
    "start_time": "2022-01-21T08:14:51.668Z"
   },
   {
    "duration": 24,
    "start_time": "2022-01-21T08:14:51.689Z"
   },
   {
    "duration": 28,
    "start_time": "2022-01-21T08:14:51.714Z"
   },
   {
    "duration": 25,
    "start_time": "2022-01-21T08:14:51.743Z"
   },
   {
    "duration": 28,
    "start_time": "2022-01-21T08:14:51.770Z"
   },
   {
    "duration": 13,
    "start_time": "2022-01-21T08:14:51.800Z"
   },
   {
    "duration": 28,
    "start_time": "2022-01-21T08:14:51.815Z"
   },
   {
    "duration": 23,
    "start_time": "2022-01-21T08:14:51.844Z"
   },
   {
    "duration": 7,
    "start_time": "2022-01-21T08:15:00.471Z"
   },
   {
    "duration": 12,
    "start_time": "2022-01-21T08:15:40.855Z"
   },
   {
    "duration": 379,
    "start_time": "2022-01-21T08:57:21.562Z"
   },
   {
    "duration": 308,
    "start_time": "2022-01-21T08:58:32.613Z"
   },
   {
    "duration": 316,
    "start_time": "2022-01-21T08:59:12.143Z"
   },
   {
    "duration": 14,
    "start_time": "2022-01-21T09:02:41.245Z"
   },
   {
    "duration": 15,
    "start_time": "2022-01-21T09:02:45.586Z"
   },
   {
    "duration": 13,
    "start_time": "2022-01-21T09:04:54.681Z"
   },
   {
    "duration": 13,
    "start_time": "2022-01-21T09:06:27.024Z"
   },
   {
    "duration": 11,
    "start_time": "2022-01-21T09:06:52.901Z"
   },
   {
    "duration": 13,
    "start_time": "2022-01-21T09:09:14.567Z"
   },
   {
    "duration": 15,
    "start_time": "2022-01-21T09:09:24.171Z"
   },
   {
    "duration": 8,
    "start_time": "2022-01-21T09:09:45.110Z"
   },
   {
    "duration": 12,
    "start_time": "2022-01-21T09:09:50.053Z"
   },
   {
    "duration": 6,
    "start_time": "2022-01-21T09:16:27.452Z"
   },
   {
    "duration": 5,
    "start_time": "2022-01-21T09:18:21.112Z"
   },
   {
    "duration": 9,
    "start_time": "2022-01-21T09:21:16.889Z"
   },
   {
    "duration": 289,
    "start_time": "2022-01-21T09:21:24.771Z"
   },
   {
    "duration": 7,
    "start_time": "2022-01-21T09:21:47.840Z"
   },
   {
    "duration": 6,
    "start_time": "2022-01-21T09:22:22.881Z"
   },
   {
    "duration": 8,
    "start_time": "2022-01-21T09:23:26.116Z"
   },
   {
    "duration": 11,
    "start_time": "2022-01-21T09:23:28.641Z"
   },
   {
    "duration": 11,
    "start_time": "2022-01-21T09:59:38.677Z"
   },
   {
    "duration": 10,
    "start_time": "2022-01-21T10:01:08.799Z"
   },
   {
    "duration": 10,
    "start_time": "2022-01-21T10:02:06.995Z"
   },
   {
    "duration": 9,
    "start_time": "2022-01-21T10:02:49.181Z"
   },
   {
    "duration": 7,
    "start_time": "2022-01-21T10:07:09.496Z"
   },
   {
    "duration": 12,
    "start_time": "2022-01-21T10:08:01.339Z"
   },
   {
    "duration": 53,
    "start_time": "2022-01-21T10:08:20.288Z"
   },
   {
    "duration": 10,
    "start_time": "2022-01-21T10:08:20.343Z"
   },
   {
    "duration": 9,
    "start_time": "2022-01-21T10:08:20.356Z"
   },
   {
    "duration": 8,
    "start_time": "2022-01-21T10:08:20.367Z"
   },
   {
    "duration": 21,
    "start_time": "2022-01-21T10:08:20.377Z"
   },
   {
    "duration": 6,
    "start_time": "2022-01-21T10:08:20.399Z"
   },
   {
    "duration": 21,
    "start_time": "2022-01-21T10:08:20.407Z"
   },
   {
    "duration": 6,
    "start_time": "2022-01-21T10:08:20.430Z"
   },
   {
    "duration": 17,
    "start_time": "2022-01-21T10:08:20.437Z"
   },
   {
    "duration": 10,
    "start_time": "2022-01-21T10:08:20.455Z"
   },
   {
    "duration": 6,
    "start_time": "2022-01-21T10:08:20.467Z"
   },
   {
    "duration": 10,
    "start_time": "2022-01-21T10:08:20.474Z"
   },
   {
    "duration": 106,
    "start_time": "2022-01-21T10:08:20.485Z"
   },
   {
    "duration": 6,
    "start_time": "2022-01-21T10:08:27.643Z"
   },
   {
    "duration": 10,
    "start_time": "2022-01-21T10:08:33.399Z"
   },
   {
    "duration": 12,
    "start_time": "2022-01-21T10:09:31.825Z"
   },
   {
    "duration": 11,
    "start_time": "2022-01-21T10:09:55.109Z"
   },
   {
    "duration": 318,
    "start_time": "2022-01-21T10:11:28.566Z"
   },
   {
    "duration": 10,
    "start_time": "2022-01-21T10:12:09.093Z"
   },
   {
    "duration": 305,
    "start_time": "2022-01-21T10:12:42.214Z"
   },
   {
    "duration": 9,
    "start_time": "2022-01-21T10:13:40.116Z"
   },
   {
    "duration": 9,
    "start_time": "2022-01-21T10:13:53.629Z"
   },
   {
    "duration": 8025,
    "start_time": "2022-01-21T10:14:53.437Z"
   },
   {
    "duration": 7475,
    "start_time": "2022-01-21T10:15:27.696Z"
   },
   {
    "duration": 11,
    "start_time": "2022-01-21T10:15:37.797Z"
   },
   {
    "duration": 394,
    "start_time": "2022-01-21T10:15:54.156Z"
   },
   {
    "duration": 271,
    "start_time": "2022-01-21T10:16:33.483Z"
   },
   {
    "duration": 285,
    "start_time": "2022-01-21T10:16:46.700Z"
   },
   {
    "duration": 69,
    "start_time": "2022-01-21T10:16:54.448Z"
   },
   {
    "duration": 11,
    "start_time": "2022-01-21T10:16:54.519Z"
   },
   {
    "duration": 11,
    "start_time": "2022-01-21T10:16:54.532Z"
   },
   {
    "duration": 5,
    "start_time": "2022-01-21T10:16:54.545Z"
   },
   {
    "duration": 21,
    "start_time": "2022-01-21T10:16:54.551Z"
   },
   {
    "duration": 4,
    "start_time": "2022-01-21T10:16:54.574Z"
   },
   {
    "duration": 8,
    "start_time": "2022-01-21T10:16:54.580Z"
   },
   {
    "duration": 6,
    "start_time": "2022-01-21T10:16:54.590Z"
   },
   {
    "duration": 37,
    "start_time": "2022-01-21T10:16:54.597Z"
   },
   {
    "duration": 9,
    "start_time": "2022-01-21T10:16:54.636Z"
   },
   {
    "duration": 5,
    "start_time": "2022-01-21T10:16:54.647Z"
   },
   {
    "duration": 10,
    "start_time": "2022-01-21T10:16:54.653Z"
   },
   {
    "duration": 334,
    "start_time": "2022-01-21T10:17:01.822Z"
   },
   {
    "duration": 8,
    "start_time": "2022-01-21T10:17:34.927Z"
   },
   {
    "duration": 10,
    "start_time": "2022-01-21T10:17:54.060Z"
   },
   {
    "duration": 9,
    "start_time": "2022-01-21T10:18:37.536Z"
   },
   {
    "duration": 6,
    "start_time": "2022-01-21T10:22:27.648Z"
   },
   {
    "duration": 9,
    "start_time": "2022-01-21T10:38:45.093Z"
   },
   {
    "duration": 8,
    "start_time": "2022-01-21T10:39:01.331Z"
   },
   {
    "duration": 7,
    "start_time": "2022-01-21T10:39:25.407Z"
   },
   {
    "duration": 301,
    "start_time": "2022-01-21T10:40:11.327Z"
   },
   {
    "duration": 279,
    "start_time": "2022-01-21T10:40:22.194Z"
   },
   {
    "duration": 293,
    "start_time": "2022-01-21T10:40:27.788Z"
   },
   {
    "duration": 8,
    "start_time": "2022-01-21T10:40:47.198Z"
   },
   {
    "duration": 313,
    "start_time": "2022-01-21T10:41:01.723Z"
   },
   {
    "duration": 7,
    "start_time": "2022-01-21T10:41:13.275Z"
   },
   {
    "duration": 281,
    "start_time": "2022-01-21T11:28:37.891Z"
   },
   {
    "duration": 11,
    "start_time": "2022-01-21T11:32:10.771Z"
   },
   {
    "duration": 119,
    "start_time": "2022-01-21T11:33:36.856Z"
   },
   {
    "duration": 91,
    "start_time": "2022-01-21T11:33:42.378Z"
   },
   {
    "duration": 93,
    "start_time": "2022-01-21T11:34:02.229Z"
   },
   {
    "duration": 105,
    "start_time": "2022-01-21T11:34:31.215Z"
   },
   {
    "duration": 98,
    "start_time": "2022-01-21T11:34:51.283Z"
   },
   {
    "duration": 35,
    "start_time": "2022-01-21T11:35:06.987Z"
   },
   {
    "duration": 264,
    "start_time": "2022-01-21T11:36:57.827Z"
   },
   {
    "duration": 278,
    "start_time": "2022-01-21T11:37:17.210Z"
   },
   {
    "duration": 6,
    "start_time": "2022-01-21T11:37:27.440Z"
   },
   {
    "duration": 5,
    "start_time": "2022-01-21T11:37:36.252Z"
   },
   {
    "duration": 18,
    "start_time": "2022-01-21T11:37:44.524Z"
   },
   {
    "duration": 97,
    "start_time": "2022-01-21T11:46:58.565Z"
   },
   {
    "duration": 129,
    "start_time": "2022-01-21T11:47:07.042Z"
   },
   {
    "duration": 161,
    "start_time": "2022-01-21T11:47:18.509Z"
   },
   {
    "duration": 186,
    "start_time": "2022-01-21T11:47:24.163Z"
   },
   {
    "duration": 282,
    "start_time": "2022-01-21T11:59:56.873Z"
   },
   {
    "duration": 296,
    "start_time": "2022-01-21T12:01:51.953Z"
   },
   {
    "duration": 453,
    "start_time": "2022-01-21T12:09:50.034Z"
   },
   {
    "duration": 53,
    "start_time": "2022-01-21T12:09:58.596Z"
   },
   {
    "duration": 10,
    "start_time": "2022-01-21T12:09:58.651Z"
   },
   {
    "duration": 11,
    "start_time": "2022-01-21T12:09:58.663Z"
   },
   {
    "duration": 6,
    "start_time": "2022-01-21T12:09:58.675Z"
   },
   {
    "duration": 48,
    "start_time": "2022-01-21T12:09:58.683Z"
   },
   {
    "duration": 3,
    "start_time": "2022-01-21T12:09:58.733Z"
   },
   {
    "duration": 11,
    "start_time": "2022-01-21T12:09:58.738Z"
   },
   {
    "duration": 6,
    "start_time": "2022-01-21T12:09:58.751Z"
   },
   {
    "duration": 19,
    "start_time": "2022-01-21T12:09:58.759Z"
   },
   {
    "duration": 9,
    "start_time": "2022-01-21T12:09:58.780Z"
   },
   {
    "duration": 36,
    "start_time": "2022-01-21T12:09:58.791Z"
   },
   {
    "duration": 9,
    "start_time": "2022-01-21T12:09:58.829Z"
   },
   {
    "duration": 7,
    "start_time": "2022-01-21T12:09:58.840Z"
   },
   {
    "duration": 6,
    "start_time": "2022-01-21T12:09:58.848Z"
   },
   {
    "duration": 302,
    "start_time": "2022-01-21T12:10:03.416Z"
   },
   {
    "duration": 8,
    "start_time": "2022-01-21T12:10:26.627Z"
   },
   {
    "duration": 8,
    "start_time": "2022-01-21T12:10:27.307Z"
   },
   {
    "duration": 854,
    "start_time": "2022-01-21T12:10:32.201Z"
   },
   {
    "duration": 5,
    "start_time": "2022-01-21T12:10:50.541Z"
   },
   {
    "duration": 6,
    "start_time": "2022-01-21T12:11:11.728Z"
   },
   {
    "duration": 4,
    "start_time": "2022-01-21T12:11:12.134Z"
   },
   {
    "duration": 7,
    "start_time": "2022-01-21T12:11:21.617Z"
   },
   {
    "duration": 6,
    "start_time": "2022-01-21T12:11:22.069Z"
   },
   {
    "duration": 13,
    "start_time": "2022-01-21T12:12:08.125Z"
   },
   {
    "duration": 6,
    "start_time": "2022-01-21T12:12:29.793Z"
   },
   {
    "duration": 6,
    "start_time": "2022-01-21T12:12:30.231Z"
   },
   {
    "duration": 10,
    "start_time": "2022-01-21T12:12:42.140Z"
   },
   {
    "duration": 7,
    "start_time": "2022-01-21T12:14:30.302Z"
   },
   {
    "duration": 13,
    "start_time": "2022-01-21T12:14:31.604Z"
   },
   {
    "duration": 6,
    "start_time": "2022-01-21T12:14:32.295Z"
   },
   {
    "duration": 7,
    "start_time": "2022-01-21T12:14:34.074Z"
   },
   {
    "duration": 8,
    "start_time": "2022-01-21T12:14:34.676Z"
   },
   {
    "duration": 11,
    "start_time": "2022-01-21T12:14:35.509Z"
   },
   {
    "duration": 14,
    "start_time": "2022-01-21T12:51:51.488Z"
   },
   {
    "duration": 325,
    "start_time": "2022-01-21T12:52:07.926Z"
   },
   {
    "duration": 842,
    "start_time": "2022-01-21T12:52:22.354Z"
   },
   {
    "duration": 705,
    "start_time": "2022-01-21T12:52:31.933Z"
   },
   {
    "duration": 2086,
    "start_time": "2022-01-21T12:53:23.316Z"
   },
   {
    "duration": 851,
    "start_time": "2022-01-21T12:53:31.666Z"
   },
   {
    "duration": 531,
    "start_time": "2022-01-21T12:54:04.406Z"
   },
   {
    "duration": 55,
    "start_time": "2022-01-21T12:54:16.282Z"
   },
   {
    "duration": 10,
    "start_time": "2022-01-21T12:54:16.339Z"
   },
   {
    "duration": 10,
    "start_time": "2022-01-21T12:54:16.351Z"
   },
   {
    "duration": 4,
    "start_time": "2022-01-21T12:54:16.363Z"
   },
   {
    "duration": 19,
    "start_time": "2022-01-21T12:54:16.369Z"
   },
   {
    "duration": 2,
    "start_time": "2022-01-21T12:54:16.389Z"
   },
   {
    "duration": 34,
    "start_time": "2022-01-21T12:54:16.393Z"
   },
   {
    "duration": 6,
    "start_time": "2022-01-21T12:54:16.429Z"
   },
   {
    "duration": 14,
    "start_time": "2022-01-21T12:54:16.437Z"
   },
   {
    "duration": 8,
    "start_time": "2022-01-21T12:54:16.452Z"
   },
   {
    "duration": 6,
    "start_time": "2022-01-21T12:54:16.461Z"
   },
   {
    "duration": 7,
    "start_time": "2022-01-21T12:54:16.468Z"
   },
   {
    "duration": 14,
    "start_time": "2022-01-21T12:54:16.477Z"
   },
   {
    "duration": 7,
    "start_time": "2022-01-21T12:54:16.492Z"
   },
   {
    "duration": 28,
    "start_time": "2022-01-21T12:54:16.500Z"
   },
   {
    "duration": 5,
    "start_time": "2022-01-21T12:54:16.530Z"
   },
   {
    "duration": 9,
    "start_time": "2022-01-21T12:54:16.537Z"
   },
   {
    "duration": 6,
    "start_time": "2022-01-21T12:54:21.115Z"
   },
   {
    "duration": 5,
    "start_time": "2022-01-21T12:54:48.649Z"
   },
   {
    "duration": 5,
    "start_time": "2022-01-21T12:55:35.852Z"
   },
   {
    "duration": 5,
    "start_time": "2022-01-21T12:55:36.604Z"
   },
   {
    "duration": 55,
    "start_time": "2022-01-21T14:43:02.720Z"
   },
   {
    "duration": 10,
    "start_time": "2022-01-21T14:43:02.777Z"
   },
   {
    "duration": 16,
    "start_time": "2022-01-21T14:43:02.788Z"
   },
   {
    "duration": 5,
    "start_time": "2022-01-21T14:43:02.805Z"
   },
   {
    "duration": 30,
    "start_time": "2022-01-21T14:43:02.811Z"
   },
   {
    "duration": 3,
    "start_time": "2022-01-21T14:43:02.842Z"
   },
   {
    "duration": 11,
    "start_time": "2022-01-21T14:43:02.847Z"
   },
   {
    "duration": 6,
    "start_time": "2022-01-21T14:43:02.860Z"
   },
   {
    "duration": 22,
    "start_time": "2022-01-21T14:43:02.868Z"
   },
   {
    "duration": 8,
    "start_time": "2022-01-21T14:43:02.892Z"
   },
   {
    "duration": 26,
    "start_time": "2022-01-21T14:43:02.902Z"
   },
   {
    "duration": 6,
    "start_time": "2022-01-21T14:43:02.930Z"
   },
   {
    "duration": 13,
    "start_time": "2022-01-21T14:43:02.938Z"
   },
   {
    "duration": 6,
    "start_time": "2022-01-21T14:43:02.953Z"
   },
   {
    "duration": 9,
    "start_time": "2022-01-21T14:43:02.960Z"
   },
   {
    "duration": 12,
    "start_time": "2022-01-21T14:43:02.971Z"
   },
   {
    "duration": 47,
    "start_time": "2022-01-21T14:43:02.985Z"
   },
   {
    "duration": 7,
    "start_time": "2022-01-21T14:43:03.034Z"
   },
   {
    "duration": 7,
    "start_time": "2022-01-21T14:43:03.042Z"
   },
   {
    "duration": 6,
    "start_time": "2022-01-21T14:43:03.050Z"
   },
   {
    "duration": 9,
    "start_time": "2022-01-21T14:43:03.058Z"
   },
   {
    "duration": 2,
    "start_time": "2022-01-21T14:43:03.071Z"
   },
   {
    "duration": 52,
    "start_time": "2022-01-21T14:43:03.076Z"
   },
   {
    "duration": 16,
    "start_time": "2022-01-21T14:43:03.130Z"
   },
   {
    "duration": 14,
    "start_time": "2022-01-21T14:43:03.148Z"
   },
   {
    "duration": 16,
    "start_time": "2022-01-21T14:43:03.164Z"
   },
   {
    "duration": 9,
    "start_time": "2022-01-21T14:43:03.182Z"
   },
   {
    "duration": 37,
    "start_time": "2022-01-21T14:43:03.192Z"
   },
   {
    "duration": 6,
    "start_time": "2022-01-21T14:43:03.230Z"
   },
   {
    "duration": 8,
    "start_time": "2022-01-21T14:43:03.237Z"
   },
   {
    "duration": 7,
    "start_time": "2022-01-21T14:43:03.246Z"
   },
   {
    "duration": 8,
    "start_time": "2022-01-21T14:43:03.254Z"
   },
   {
    "duration": 10,
    "start_time": "2022-01-21T14:43:03.264Z"
   },
   {
    "duration": 11,
    "start_time": "2022-01-21T14:43:03.276Z"
   },
   {
    "duration": 42,
    "start_time": "2022-01-21T14:43:03.288Z"
   },
   {
    "duration": 16,
    "start_time": "2022-01-21T14:43:03.331Z"
   },
   {
    "duration": 14,
    "start_time": "2022-01-21T14:43:03.348Z"
   },
   {
    "duration": 27,
    "start_time": "2022-01-21T14:43:03.363Z"
   },
   {
    "duration": 667,
    "start_time": "2022-01-21T14:43:03.392Z"
   },
   {
    "duration": 2774,
    "start_time": "2022-01-21T14:43:04.061Z"
   },
   {
    "duration": 17,
    "start_time": "2022-01-21T14:43:06.837Z"
   },
   {
    "duration": 18,
    "start_time": "2022-01-21T14:43:06.856Z"
   },
   {
    "duration": 12,
    "start_time": "2022-01-21T14:43:06.875Z"
   },
   {
    "duration": 22,
    "start_time": "2022-01-21T14:43:06.889Z"
   },
   {
    "duration": 24,
    "start_time": "2022-01-21T14:43:06.913Z"
   },
   {
    "duration": 13,
    "start_time": "2022-01-21T14:43:06.938Z"
   },
   {
    "duration": 27,
    "start_time": "2022-01-21T14:43:06.952Z"
   },
   {
    "duration": 6,
    "start_time": "2022-01-21T14:43:06.981Z"
   },
   {
    "duration": 6,
    "start_time": "2022-01-21T14:43:06.991Z"
   },
   {
    "duration": 13,
    "start_time": "2022-01-21T14:43:06.999Z"
   },
   {
    "duration": 26,
    "start_time": "2022-01-21T14:43:07.014Z"
   },
   {
    "duration": 14,
    "start_time": "2022-01-21T14:43:07.042Z"
   },
   {
    "duration": 13,
    "start_time": "2022-01-21T14:43:07.058Z"
   },
   {
    "duration": 9,
    "start_time": "2022-01-21T14:43:07.073Z"
   },
   {
    "duration": 45,
    "start_time": "2022-01-21T14:43:07.083Z"
   },
   {
    "duration": 12,
    "start_time": "2022-01-21T14:43:07.130Z"
   },
   {
    "duration": 278,
    "start_time": "2022-01-21T14:43:07.143Z"
   },
   {
    "duration": -100,
    "start_time": "2022-01-21T14:43:07.522Z"
   },
   {
    "duration": -107,
    "start_time": "2022-01-21T14:43:07.530Z"
   },
   {
    "duration": -113,
    "start_time": "2022-01-21T14:43:07.537Z"
   },
   {
    "duration": -120,
    "start_time": "2022-01-21T14:43:07.545Z"
   },
   {
    "duration": -126,
    "start_time": "2022-01-21T14:43:07.552Z"
   },
   {
    "duration": -132,
    "start_time": "2022-01-21T14:43:07.559Z"
   },
   {
    "duration": -138,
    "start_time": "2022-01-21T14:43:07.566Z"
   },
   {
    "duration": -144,
    "start_time": "2022-01-21T14:43:07.573Z"
   },
   {
    "duration": -157,
    "start_time": "2022-01-21T14:43:07.587Z"
   },
   {
    "duration": -164,
    "start_time": "2022-01-21T14:43:07.595Z"
   },
   {
    "duration": -169,
    "start_time": "2022-01-21T14:43:07.601Z"
   },
   {
    "duration": 11,
    "start_time": "2022-01-21T14:44:16.476Z"
   },
   {
    "duration": 12,
    "start_time": "2022-01-21T14:44:59.970Z"
   },
   {
    "duration": 55,
    "start_time": "2022-01-21T14:45:03.440Z"
   },
   {
    "duration": 10,
    "start_time": "2022-01-21T14:45:03.497Z"
   },
   {
    "duration": 10,
    "start_time": "2022-01-21T14:45:03.508Z"
   },
   {
    "duration": 5,
    "start_time": "2022-01-21T14:45:03.519Z"
   },
   {
    "duration": 19,
    "start_time": "2022-01-21T14:45:03.526Z"
   },
   {
    "duration": 3,
    "start_time": "2022-01-21T14:45:03.547Z"
   },
   {
    "duration": 8,
    "start_time": "2022-01-21T14:45:03.551Z"
   },
   {
    "duration": 6,
    "start_time": "2022-01-21T14:45:03.560Z"
   },
   {
    "duration": 13,
    "start_time": "2022-01-21T14:45:03.568Z"
   },
   {
    "duration": 9,
    "start_time": "2022-01-21T14:45:03.582Z"
   },
   {
    "duration": 5,
    "start_time": "2022-01-21T14:45:03.592Z"
   },
   {
    "duration": 34,
    "start_time": "2022-01-21T14:45:03.598Z"
   },
   {
    "duration": 14,
    "start_time": "2022-01-21T14:45:03.633Z"
   },
   {
    "duration": 6,
    "start_time": "2022-01-21T14:45:03.649Z"
   },
   {
    "duration": 8,
    "start_time": "2022-01-21T14:45:03.656Z"
   },
   {
    "duration": 21,
    "start_time": "2022-01-21T14:45:03.665Z"
   },
   {
    "duration": 10,
    "start_time": "2022-01-21T14:45:03.687Z"
   },
   {
    "duration": 6,
    "start_time": "2022-01-21T14:45:03.698Z"
   },
   {
    "duration": 25,
    "start_time": "2022-01-21T14:45:03.705Z"
   },
   {
    "duration": 6,
    "start_time": "2022-01-21T14:45:03.731Z"
   },
   {
    "duration": 9,
    "start_time": "2022-01-21T14:45:03.738Z"
   },
   {
    "duration": 2,
    "start_time": "2022-01-21T14:45:03.749Z"
   },
   {
    "duration": 11,
    "start_time": "2022-01-21T14:45:03.753Z"
   },
   {
    "duration": 12,
    "start_time": "2022-01-21T14:45:05.794Z"
   },
   {
    "duration": 14,
    "start_time": "2022-01-21T14:45:22.055Z"
   },
   {
    "duration": 15,
    "start_time": "2022-01-21T14:45:29.295Z"
   },
   {
    "duration": 18,
    "start_time": "2022-01-21T14:45:31.275Z"
   },
   {
    "duration": 11,
    "start_time": "2022-01-21T14:45:32.443Z"
   },
   {
    "duration": 7,
    "start_time": "2022-01-21T14:45:43.441Z"
   },
   {
    "duration": 9,
    "start_time": "2022-01-21T14:45:44.156Z"
   },
   {
    "duration": 6,
    "start_time": "2022-01-21T14:45:44.707Z"
   },
   {
    "duration": 6,
    "start_time": "2022-01-21T14:45:45.354Z"
   },
   {
    "duration": 6,
    "start_time": "2022-01-21T14:45:47.230Z"
   },
   {
    "duration": 10,
    "start_time": "2022-01-21T14:45:50.158Z"
   },
   {
    "duration": 9,
    "start_time": "2022-01-21T14:45:50.979Z"
   },
   {
    "duration": 17,
    "start_time": "2022-01-21T14:45:51.796Z"
   },
   {
    "duration": 17,
    "start_time": "2022-01-21T14:45:52.577Z"
   },
   {
    "duration": 14,
    "start_time": "2022-01-21T14:45:54.493Z"
   },
   {
    "duration": 28,
    "start_time": "2022-01-21T14:46:04.233Z"
   },
   {
    "duration": 631,
    "start_time": "2022-01-21T14:46:05.302Z"
   },
   {
    "duration": 2903,
    "start_time": "2022-01-21T14:46:05.961Z"
   },
   {
    "duration": 17,
    "start_time": "2022-01-21T14:46:08.866Z"
   },
   {
    "duration": 16,
    "start_time": "2022-01-21T14:46:08.885Z"
   },
   {
    "duration": 14,
    "start_time": "2022-01-21T14:46:19.475Z"
   },
   {
    "duration": 18,
    "start_time": "2022-01-21T14:46:20.354Z"
   },
   {
    "duration": 12,
    "start_time": "2022-01-21T14:46:42.357Z"
   },
   {
    "duration": 5,
    "start_time": "2022-01-21T14:46:44.976Z"
   },
   {
    "duration": 12,
    "start_time": "2022-01-21T14:47:00.124Z"
   },
   {
    "duration": 12,
    "start_time": "2022-01-21T14:49:18.966Z"
   },
   {
    "duration": 11,
    "start_time": "2022-01-21T14:53:39.590Z"
   },
   {
    "duration": 13,
    "start_time": "2022-01-21T14:53:42.423Z"
   },
   {
    "duration": 4,
    "start_time": "2022-01-21T14:53:43.605Z"
   },
   {
    "duration": 5,
    "start_time": "2022-01-21T14:53:45.139Z"
   },
   {
    "duration": 5,
    "start_time": "2022-01-21T14:53:45.776Z"
   },
   {
    "duration": 13,
    "start_time": "2022-01-21T14:53:46.779Z"
   },
   {
    "duration": 12,
    "start_time": "2022-01-21T14:53:56.337Z"
   },
   {
    "duration": 13,
    "start_time": "2022-01-21T14:53:59.348Z"
   },
   {
    "duration": 9,
    "start_time": "2022-01-21T14:59:38.765Z"
   },
   {
    "duration": 13,
    "start_time": "2022-01-21T14:59:52.018Z"
   },
   {
    "duration": 300,
    "start_time": "2022-01-21T15:00:50.514Z"
   },
   {
    "duration": 18,
    "start_time": "2022-01-21T15:11:06.933Z"
   },
   {
    "duration": 281,
    "start_time": "2022-01-21T15:11:31.003Z"
   },
   {
    "duration": 53,
    "start_time": "2022-01-21T15:12:29.928Z"
   },
   {
    "duration": 10,
    "start_time": "2022-01-21T15:12:29.983Z"
   },
   {
    "duration": 12,
    "start_time": "2022-01-21T15:12:29.994Z"
   },
   {
    "duration": 23,
    "start_time": "2022-01-21T15:12:30.007Z"
   },
   {
    "duration": 19,
    "start_time": "2022-01-21T15:12:30.031Z"
   },
   {
    "duration": 3,
    "start_time": "2022-01-21T15:12:30.052Z"
   },
   {
    "duration": 8,
    "start_time": "2022-01-21T15:12:30.056Z"
   },
   {
    "duration": 9,
    "start_time": "2022-01-21T15:12:30.066Z"
   },
   {
    "duration": 38,
    "start_time": "2022-01-21T15:12:30.077Z"
   },
   {
    "duration": 17,
    "start_time": "2022-01-21T15:12:30.117Z"
   },
   {
    "duration": 10,
    "start_time": "2022-01-21T15:12:30.136Z"
   },
   {
    "duration": 6,
    "start_time": "2022-01-21T15:12:30.147Z"
   },
   {
    "duration": 17,
    "start_time": "2022-01-21T15:12:30.154Z"
   },
   {
    "duration": 5,
    "start_time": "2022-01-21T15:12:30.172Z"
   },
   {
    "duration": 8,
    "start_time": "2022-01-21T15:12:30.179Z"
   },
   {
    "duration": 18,
    "start_time": "2022-01-21T15:12:30.188Z"
   },
   {
    "duration": 26,
    "start_time": "2022-01-21T15:12:30.207Z"
   },
   {
    "duration": 18,
    "start_time": "2022-01-21T15:12:30.234Z"
   },
   {
    "duration": 7,
    "start_time": "2022-01-21T15:12:30.254Z"
   },
   {
    "duration": 9,
    "start_time": "2022-01-21T15:12:30.263Z"
   },
   {
    "duration": 10,
    "start_time": "2022-01-21T15:12:30.273Z"
   },
   {
    "duration": 11,
    "start_time": "2022-01-21T15:12:30.284Z"
   },
   {
    "duration": 21,
    "start_time": "2022-01-21T15:12:30.298Z"
   },
   {
    "duration": 18,
    "start_time": "2022-01-21T15:12:30.321Z"
   },
   {
    "duration": 13,
    "start_time": "2022-01-21T15:12:30.341Z"
   },
   {
    "duration": 14,
    "start_time": "2022-01-21T15:12:30.356Z"
   },
   {
    "duration": 10,
    "start_time": "2022-01-21T15:12:30.372Z"
   },
   {
    "duration": 8,
    "start_time": "2022-01-21T15:12:30.384Z"
   },
   {
    "duration": 9,
    "start_time": "2022-01-21T15:12:30.394Z"
   },
   {
    "duration": 28,
    "start_time": "2022-01-21T15:12:30.405Z"
   },
   {
    "duration": 10,
    "start_time": "2022-01-21T15:12:30.435Z"
   },
   {
    "duration": 18,
    "start_time": "2022-01-21T15:12:30.446Z"
   },
   {
    "duration": 12,
    "start_time": "2022-01-21T15:12:30.466Z"
   },
   {
    "duration": 9,
    "start_time": "2022-01-21T15:12:30.479Z"
   },
   {
    "duration": 19,
    "start_time": "2022-01-21T15:12:30.490Z"
   },
   {
    "duration": 31,
    "start_time": "2022-01-21T15:12:30.510Z"
   },
   {
    "duration": 15,
    "start_time": "2022-01-21T15:12:30.542Z"
   },
   {
    "duration": 36,
    "start_time": "2022-01-21T15:12:30.558Z"
   },
   {
    "duration": 695,
    "start_time": "2022-01-21T15:12:30.595Z"
   },
   {
    "duration": 3059,
    "start_time": "2022-01-21T15:12:31.292Z"
   },
   {
    "duration": 16,
    "start_time": "2022-01-21T15:12:34.352Z"
   },
   {
    "duration": 20,
    "start_time": "2022-01-21T15:12:34.370Z"
   },
   {
    "duration": 14,
    "start_time": "2022-01-21T15:12:34.392Z"
   },
   {
    "duration": 5,
    "start_time": "2022-01-21T15:12:34.427Z"
   },
   {
    "duration": 12,
    "start_time": "2022-01-21T15:12:34.433Z"
   },
   {
    "duration": 12,
    "start_time": "2022-01-21T15:12:34.708Z"
   },
   {
    "duration": 7,
    "start_time": "2022-01-21T15:13:12.137Z"
   },
   {
    "duration": 9,
    "start_time": "2022-01-21T15:15:46.435Z"
   },
   {
    "duration": 12,
    "start_time": "2022-01-21T15:15:55.910Z"
   },
   {
    "duration": 13,
    "start_time": "2022-01-21T15:15:58.028Z"
   },
   {
    "duration": 5,
    "start_time": "2022-01-21T15:15:58.522Z"
   },
   {
    "duration": 6,
    "start_time": "2022-01-21T15:15:59.125Z"
   },
   {
    "duration": 6,
    "start_time": "2022-01-21T15:15:59.870Z"
   },
   {
    "duration": 13,
    "start_time": "2022-01-21T15:16:00.395Z"
   },
   {
    "duration": 13,
    "start_time": "2022-01-21T15:16:04.303Z"
   },
   {
    "duration": 12,
    "start_time": "2022-01-21T15:16:04.947Z"
   },
   {
    "duration": 15,
    "start_time": "2022-01-21T15:16:08.171Z"
   },
   {
    "duration": 16,
    "start_time": "2022-01-21T15:16:15.755Z"
   },
   {
    "duration": 389,
    "start_time": "2022-01-21T15:16:16.781Z"
   },
   {
    "duration": 12,
    "start_time": "2022-01-21T15:31:20.030Z"
   },
   {
    "duration": 57,
    "start_time": "2022-01-21T16:31:14.003Z"
   },
   {
    "duration": 10,
    "start_time": "2022-01-21T16:31:14.062Z"
   },
   {
    "duration": 10,
    "start_time": "2022-01-21T16:31:14.075Z"
   },
   {
    "duration": 42,
    "start_time": "2022-01-21T16:31:14.087Z"
   },
   {
    "duration": 19,
    "start_time": "2022-01-21T16:31:14.131Z"
   },
   {
    "duration": 4,
    "start_time": "2022-01-21T16:31:14.152Z"
   },
   {
    "duration": 10,
    "start_time": "2022-01-21T16:31:14.157Z"
   },
   {
    "duration": 7,
    "start_time": "2022-01-21T16:31:14.170Z"
   },
   {
    "duration": 51,
    "start_time": "2022-01-21T16:31:14.179Z"
   },
   {
    "duration": 12,
    "start_time": "2022-01-21T16:31:14.232Z"
   },
   {
    "duration": 5,
    "start_time": "2022-01-21T16:31:14.246Z"
   },
   {
    "duration": 10,
    "start_time": "2022-01-21T16:31:14.253Z"
   },
   {
    "duration": 17,
    "start_time": "2022-01-21T16:31:14.264Z"
   },
   {
    "duration": 11,
    "start_time": "2022-01-21T16:31:14.283Z"
   },
   {
    "duration": 33,
    "start_time": "2022-01-21T16:31:14.295Z"
   },
   {
    "duration": 6,
    "start_time": "2022-01-21T16:31:14.329Z"
   },
   {
    "duration": 11,
    "start_time": "2022-01-21T16:31:14.337Z"
   },
   {
    "duration": 5,
    "start_time": "2022-01-21T16:31:14.349Z"
   },
   {
    "duration": 9,
    "start_time": "2022-01-21T16:31:14.355Z"
   },
   {
    "duration": 6,
    "start_time": "2022-01-21T16:31:14.365Z"
   },
   {
    "duration": 8,
    "start_time": "2022-01-21T16:31:14.372Z"
   },
   {
    "duration": 2,
    "start_time": "2022-01-21T16:31:14.381Z"
   },
   {
    "duration": 10,
    "start_time": "2022-01-21T16:31:14.386Z"
   },
   {
    "duration": 12,
    "start_time": "2022-01-21T16:31:14.427Z"
   },
   {
    "duration": 13,
    "start_time": "2022-01-21T16:31:14.440Z"
   },
   {
    "duration": 14,
    "start_time": "2022-01-21T16:31:14.454Z"
   },
   {
    "duration": 9,
    "start_time": "2022-01-21T16:31:14.470Z"
   },
   {
    "duration": 7,
    "start_time": "2022-01-21T16:31:14.481Z"
   },
   {
    "duration": 38,
    "start_time": "2022-01-21T16:31:14.490Z"
   },
   {
    "duration": 6,
    "start_time": "2022-01-21T16:31:14.529Z"
   },
   {
    "duration": 7,
    "start_time": "2022-01-21T16:31:14.537Z"
   },
   {
    "duration": 7,
    "start_time": "2022-01-21T16:31:14.545Z"
   },
   {
    "duration": 10,
    "start_time": "2022-01-21T16:31:14.554Z"
   },
   {
    "duration": 8,
    "start_time": "2022-01-21T16:31:14.566Z"
   },
   {
    "duration": 16,
    "start_time": "2022-01-21T16:31:14.576Z"
   },
   {
    "duration": 50,
    "start_time": "2022-01-21T16:31:14.593Z"
   },
   {
    "duration": 19,
    "start_time": "2022-01-21T16:31:14.645Z"
   },
   {
    "duration": 28,
    "start_time": "2022-01-21T16:31:14.665Z"
   },
   {
    "duration": 652,
    "start_time": "2022-01-21T16:31:14.694Z"
   },
   {
    "duration": 2845,
    "start_time": "2022-01-21T16:31:15.348Z"
   },
   {
    "duration": 15,
    "start_time": "2022-01-21T16:31:18.194Z"
   },
   {
    "duration": 29,
    "start_time": "2022-01-21T16:31:18.211Z"
   },
   {
    "duration": 10,
    "start_time": "2022-01-21T16:31:18.242Z"
   },
   {
    "duration": 6,
    "start_time": "2022-01-21T16:31:18.254Z"
   },
   {
    "duration": 8,
    "start_time": "2022-01-21T16:31:18.261Z"
   },
   {
    "duration": 11,
    "start_time": "2022-01-21T16:31:18.271Z"
   },
   {
    "duration": 12,
    "start_time": "2022-01-21T16:31:18.283Z"
   },
   {
    "duration": 33,
    "start_time": "2022-01-21T16:31:18.296Z"
   },
   {
    "duration": 7,
    "start_time": "2022-01-21T16:31:18.330Z"
   },
   {
    "duration": 9,
    "start_time": "2022-01-21T16:31:18.338Z"
   },
   {
    "duration": 13,
    "start_time": "2022-01-21T16:31:18.348Z"
   },
   {
    "duration": 13,
    "start_time": "2022-01-21T16:31:18.362Z"
   },
   {
    "duration": 12,
    "start_time": "2022-01-21T16:31:18.376Z"
   },
   {
    "duration": 41,
    "start_time": "2022-01-21T16:31:18.390Z"
   },
   {
    "duration": 14,
    "start_time": "2022-01-21T16:31:18.432Z"
   },
   {
    "duration": 12,
    "start_time": "2022-01-21T16:31:18.448Z"
   },
   {
    "duration": 58,
    "start_time": "2022-01-21T16:31:26.113Z"
   },
   {
    "duration": 13,
    "start_time": "2022-01-21T16:31:26.173Z"
   },
   {
    "duration": 8,
    "start_time": "2022-01-21T16:31:26.189Z"
   },
   {
    "duration": 32,
    "start_time": "2022-01-21T16:31:26.199Z"
   },
   {
    "duration": 18,
    "start_time": "2022-01-21T16:31:26.232Z"
   },
   {
    "duration": 4,
    "start_time": "2022-01-21T16:31:26.252Z"
   },
   {
    "duration": 7,
    "start_time": "2022-01-21T16:31:26.257Z"
   },
   {
    "duration": 6,
    "start_time": "2022-01-21T16:31:26.266Z"
   },
   {
    "duration": 14,
    "start_time": "2022-01-21T16:31:26.273Z"
   },
   {
    "duration": 44,
    "start_time": "2022-01-21T16:31:26.289Z"
   },
   {
    "duration": 4,
    "start_time": "2022-01-21T16:31:26.335Z"
   },
   {
    "duration": 6,
    "start_time": "2022-01-21T16:31:26.341Z"
   },
   {
    "duration": 11,
    "start_time": "2022-01-21T16:31:26.348Z"
   },
   {
    "duration": 6,
    "start_time": "2022-01-21T16:31:26.360Z"
   },
   {
    "duration": 7,
    "start_time": "2022-01-21T16:31:26.367Z"
   },
   {
    "duration": 6,
    "start_time": "2022-01-21T16:31:26.376Z"
   },
   {
    "duration": 12,
    "start_time": "2022-01-21T16:31:26.383Z"
   },
   {
    "duration": 5,
    "start_time": "2022-01-21T16:31:26.427Z"
   },
   {
    "duration": 9,
    "start_time": "2022-01-21T16:31:26.434Z"
   },
   {
    "duration": 13,
    "start_time": "2022-01-21T16:31:26.444Z"
   },
   {
    "duration": 10,
    "start_time": "2022-01-21T16:31:26.459Z"
   },
   {
    "duration": 4,
    "start_time": "2022-01-21T16:31:26.470Z"
   },
   {
    "duration": 12,
    "start_time": "2022-01-21T16:31:26.477Z"
   },
   {
    "duration": 12,
    "start_time": "2022-01-21T16:31:26.491Z"
   },
   {
    "duration": 33,
    "start_time": "2022-01-21T16:31:26.504Z"
   },
   {
    "duration": 15,
    "start_time": "2022-01-21T16:31:26.539Z"
   },
   {
    "duration": 10,
    "start_time": "2022-01-21T16:31:26.556Z"
   },
   {
    "duration": 11,
    "start_time": "2022-01-21T16:31:26.567Z"
   },
   {
    "duration": 11,
    "start_time": "2022-01-21T16:31:26.580Z"
   },
   {
    "duration": 9,
    "start_time": "2022-01-21T16:31:26.593Z"
   },
   {
    "duration": 26,
    "start_time": "2022-01-21T16:31:26.603Z"
   },
   {
    "duration": 6,
    "start_time": "2022-01-21T16:31:26.630Z"
   },
   {
    "duration": 16,
    "start_time": "2022-01-21T16:31:26.638Z"
   },
   {
    "duration": 14,
    "start_time": "2022-01-21T16:31:26.655Z"
   },
   {
    "duration": 27,
    "start_time": "2022-01-21T16:31:26.670Z"
   },
   {
    "duration": 15,
    "start_time": "2022-01-21T16:31:26.698Z"
   },
   {
    "duration": 17,
    "start_time": "2022-01-21T16:31:26.715Z"
   },
   {
    "duration": 28,
    "start_time": "2022-01-21T16:31:26.733Z"
   },
   {
    "duration": 651,
    "start_time": "2022-01-21T16:31:26.763Z"
   },
   {
    "duration": 2694,
    "start_time": "2022-01-21T16:31:27.417Z"
   },
   {
    "duration": 27,
    "start_time": "2022-01-21T16:31:30.113Z"
   },
   {
    "duration": 15,
    "start_time": "2022-01-21T16:31:30.141Z"
   },
   {
    "duration": 12,
    "start_time": "2022-01-21T16:31:30.158Z"
   },
   {
    "duration": 9,
    "start_time": "2022-01-21T16:31:30.171Z"
   },
   {
    "duration": 9,
    "start_time": "2022-01-21T16:31:30.182Z"
   },
   {
    "duration": 41,
    "start_time": "2022-01-21T16:31:30.193Z"
   },
   {
    "duration": 19,
    "start_time": "2022-01-21T16:31:30.235Z"
   },
   {
    "duration": 4,
    "start_time": "2022-01-21T16:31:30.255Z"
   },
   {
    "duration": 8,
    "start_time": "2022-01-21T16:31:30.260Z"
   },
   {
    "duration": 6,
    "start_time": "2022-01-21T16:31:30.269Z"
   },
   {
    "duration": 18,
    "start_time": "2022-01-21T16:31:30.276Z"
   },
   {
    "duration": 17,
    "start_time": "2022-01-21T16:31:30.295Z"
   },
   {
    "duration": 24,
    "start_time": "2022-01-21T16:31:30.313Z"
   },
   {
    "duration": 25,
    "start_time": "2022-01-21T16:31:30.338Z"
   },
   {
    "duration": 27,
    "start_time": "2022-01-21T16:31:30.364Z"
   },
   {
    "duration": 20,
    "start_time": "2022-01-21T16:31:30.393Z"
   },
   {
    "duration": 11,
    "start_time": "2022-01-21T16:31:58.358Z"
   },
   {
    "duration": 55,
    "start_time": "2022-01-21T16:32:05.931Z"
   },
   {
    "duration": 10,
    "start_time": "2022-01-21T16:32:05.987Z"
   },
   {
    "duration": 19,
    "start_time": "2022-01-21T16:32:05.999Z"
   },
   {
    "duration": 8,
    "start_time": "2022-01-21T16:32:06.020Z"
   },
   {
    "duration": 5,
    "start_time": "2022-01-21T16:32:08.104Z"
   },
   {
    "duration": 10,
    "start_time": "2022-01-21T16:32:09.332Z"
   },
   {
    "duration": 4,
    "start_time": "2022-01-21T16:32:11.149Z"
   },
   {
    "duration": 8,
    "start_time": "2022-01-21T16:32:11.966Z"
   },
   {
    "duration": 6,
    "start_time": "2022-01-21T16:32:14.826Z"
   },
   {
    "duration": 14,
    "start_time": "2022-01-21T16:32:18.315Z"
   },
   {
    "duration": 9,
    "start_time": "2022-01-21T16:32:19.277Z"
   },
   {
    "duration": 5,
    "start_time": "2022-01-21T16:32:27.914Z"
   },
   {
    "duration": 6,
    "start_time": "2022-01-21T16:32:59.630Z"
   },
   {
    "duration": 12,
    "start_time": "2022-01-21T16:33:27.126Z"
   },
   {
    "duration": 6,
    "start_time": "2022-01-21T16:33:29.518Z"
   },
   {
    "duration": 6,
    "start_time": "2022-01-21T16:35:08.736Z"
   },
   {
    "duration": 7,
    "start_time": "2022-01-21T16:35:13.484Z"
   },
   {
    "duration": 9,
    "start_time": "2022-01-21T16:35:20.473Z"
   },
   {
    "duration": 9,
    "start_time": "2022-01-21T16:36:34.922Z"
   },
   {
    "duration": 6,
    "start_time": "2022-01-21T16:36:55.784Z"
   },
   {
    "duration": 5,
    "start_time": "2022-01-21T16:36:56.293Z"
   },
   {
    "duration": 6,
    "start_time": "2022-01-21T16:36:57.116Z"
   },
   {
    "duration": 9,
    "start_time": "2022-01-21T16:36:59.918Z"
   },
   {
    "duration": 2,
    "start_time": "2022-01-21T16:37:01.525Z"
   },
   {
    "duration": 13,
    "start_time": "2022-01-21T16:38:57.355Z"
   },
   {
    "duration": 13,
    "start_time": "2022-01-21T16:39:04.620Z"
   },
   {
    "duration": 16,
    "start_time": "2022-01-21T16:39:04.965Z"
   },
   {
    "duration": 11,
    "start_time": "2022-01-21T16:39:05.447Z"
   },
   {
    "duration": 8,
    "start_time": "2022-01-21T16:39:09.767Z"
   },
   {
    "duration": 7,
    "start_time": "2022-01-21T16:39:10.571Z"
   },
   {
    "duration": 7,
    "start_time": "2022-01-21T16:39:12.208Z"
   },
   {
    "duration": 7,
    "start_time": "2022-01-21T16:39:12.706Z"
   },
   {
    "duration": 7,
    "start_time": "2022-01-21T16:39:13.399Z"
   },
   {
    "duration": 11,
    "start_time": "2022-01-21T16:39:15.139Z"
   },
   {
    "duration": 8,
    "start_time": "2022-01-21T16:39:15.698Z"
   },
   {
    "duration": 16,
    "start_time": "2022-01-21T16:39:16.491Z"
   },
   {
    "duration": 16,
    "start_time": "2022-01-21T16:39:17.111Z"
   },
   {
    "duration": 14,
    "start_time": "2022-01-21T16:39:17.550Z"
   },
   {
    "duration": 29,
    "start_time": "2022-01-21T16:39:38.154Z"
   },
   {
    "duration": 631,
    "start_time": "2022-01-21T16:39:38.737Z"
   },
   {
    "duration": 2835,
    "start_time": "2022-01-21T16:39:39.469Z"
   },
   {
    "duration": 33,
    "start_time": "2022-01-21T16:39:42.306Z"
   },
   {
    "duration": 16,
    "start_time": "2022-01-21T16:39:42.341Z"
   },
   {
    "duration": 11,
    "start_time": "2022-01-21T16:40:10.423Z"
   },
   {
    "duration": 5,
    "start_time": "2022-01-21T16:41:04.327Z"
   },
   {
    "duration": 10,
    "start_time": "2022-01-21T16:41:36.005Z"
   },
   {
    "duration": 12,
    "start_time": "2022-01-21T16:42:19.951Z"
   },
   {
    "duration": 13,
    "start_time": "2022-01-21T16:45:21.107Z"
   },
   {
    "duration": 5,
    "start_time": "2022-01-21T16:45:23.442Z"
   },
   {
    "duration": 6,
    "start_time": "2022-01-21T16:45:23.941Z"
   },
   {
    "duration": 5,
    "start_time": "2022-01-21T16:45:24.427Z"
   },
   {
    "duration": 12,
    "start_time": "2022-01-21T16:45:25.200Z"
   },
   {
    "duration": 13,
    "start_time": "2022-01-21T16:46:30.375Z"
   },
   {
    "duration": 16,
    "start_time": "2022-01-21T16:46:31.304Z"
   },
   {
    "duration": 13,
    "start_time": "2022-01-21T16:48:18.859Z"
   },
   {
    "duration": 14,
    "start_time": "2022-01-21T16:49:45.453Z"
   },
   {
    "duration": 93,
    "start_time": "2022-01-21T16:52:36.759Z"
   },
   {
    "duration": 13,
    "start_time": "2022-01-21T16:52:43.465Z"
   },
   {
    "duration": 53,
    "start_time": "2022-01-21T16:52:58.646Z"
   },
   {
    "duration": 12,
    "start_time": "2022-01-21T16:52:58.700Z"
   },
   {
    "duration": 9,
    "start_time": "2022-01-21T16:52:58.714Z"
   },
   {
    "duration": 7,
    "start_time": "2022-01-21T16:52:58.725Z"
   },
   {
    "duration": 11,
    "start_time": "2022-01-21T16:52:58.734Z"
   },
   {
    "duration": 3,
    "start_time": "2022-01-21T16:52:58.747Z"
   },
   {
    "duration": 8,
    "start_time": "2022-01-21T16:52:58.752Z"
   },
   {
    "duration": 5,
    "start_time": "2022-01-21T16:52:58.763Z"
   },
   {
    "duration": 14,
    "start_time": "2022-01-21T16:52:58.770Z"
   },
   {
    "duration": 8,
    "start_time": "2022-01-21T16:52:58.786Z"
   },
   {
    "duration": 35,
    "start_time": "2022-01-21T16:52:58.795Z"
   },
   {
    "duration": 6,
    "start_time": "2022-01-21T16:52:58.831Z"
   },
   {
    "duration": 12,
    "start_time": "2022-01-21T16:52:58.839Z"
   },
   {
    "duration": 7,
    "start_time": "2022-01-21T16:52:58.852Z"
   },
   {
    "duration": 8,
    "start_time": "2022-01-21T16:52:58.861Z"
   },
   {
    "duration": 6,
    "start_time": "2022-01-21T16:52:58.871Z"
   },
   {
    "duration": 11,
    "start_time": "2022-01-21T16:52:58.879Z"
   },
   {
    "duration": 36,
    "start_time": "2022-01-21T16:52:58.891Z"
   },
   {
    "duration": 8,
    "start_time": "2022-01-21T16:52:58.929Z"
   },
   {
    "duration": 7,
    "start_time": "2022-01-21T16:52:58.938Z"
   },
   {
    "duration": 9,
    "start_time": "2022-01-21T16:52:58.946Z"
   },
   {
    "duration": 13,
    "start_time": "2022-01-21T16:52:58.956Z"
   },
   {
    "duration": 13,
    "start_time": "2022-01-21T16:52:58.972Z"
   },
   {
    "duration": 44,
    "start_time": "2022-01-21T16:52:58.987Z"
   },
   {
    "duration": 10,
    "start_time": "2022-01-21T16:52:59.033Z"
   },
   {
    "duration": 7,
    "start_time": "2022-01-21T16:52:59.045Z"
   },
   {
    "duration": 10,
    "start_time": "2022-01-21T16:52:59.053Z"
   },
   {
    "duration": 10,
    "start_time": "2022-01-21T16:52:59.065Z"
   },
   {
    "duration": 8,
    "start_time": "2022-01-21T16:52:59.077Z"
   },
   {
    "duration": 10,
    "start_time": "2022-01-21T16:52:59.087Z"
   },
   {
    "duration": 32,
    "start_time": "2022-01-21T16:52:59.099Z"
   },
   {
    "duration": 9,
    "start_time": "2022-01-21T16:52:59.133Z"
   },
   {
    "duration": 17,
    "start_time": "2022-01-21T16:52:59.144Z"
   },
   {
    "duration": 17,
    "start_time": "2022-01-21T16:52:59.162Z"
   },
   {
    "duration": 16,
    "start_time": "2022-01-21T16:52:59.180Z"
   },
   {
    "duration": 60,
    "start_time": "2022-01-21T16:52:59.197Z"
   },
   {
    "duration": 633,
    "start_time": "2022-01-21T16:52:59.258Z"
   },
   {
    "duration": 2780,
    "start_time": "2022-01-21T16:52:59.893Z"
   },
   {
    "duration": 16,
    "start_time": "2022-01-21T16:53:02.675Z"
   },
   {
    "duration": 15,
    "start_time": "2022-01-21T16:53:02.693Z"
   },
   {
    "duration": 11,
    "start_time": "2022-01-21T16:53:02.727Z"
   },
   {
    "duration": 5,
    "start_time": "2022-01-21T16:53:02.740Z"
   },
   {
    "duration": 9,
    "start_time": "2022-01-21T16:53:02.747Z"
   },
   {
    "duration": 12,
    "start_time": "2022-01-21T16:53:02.757Z"
   },
   {
    "duration": 14,
    "start_time": "2022-01-21T16:53:02.771Z"
   },
   {
    "duration": 40,
    "start_time": "2022-01-21T16:53:02.787Z"
   },
   {
    "duration": 6,
    "start_time": "2022-01-21T16:53:02.829Z"
   },
   {
    "duration": 6,
    "start_time": "2022-01-21T16:53:02.837Z"
   },
   {
    "duration": 12,
    "start_time": "2022-01-21T16:53:02.844Z"
   },
   {
    "duration": 13,
    "start_time": "2022-01-21T16:53:02.858Z"
   },
   {
    "duration": 12,
    "start_time": "2022-01-21T16:53:02.872Z"
   },
   {
    "duration": 51,
    "start_time": "2022-01-21T16:53:02.886Z"
   },
   {
    "duration": 14,
    "start_time": "2022-01-21T16:53:02.941Z"
   },
   {
    "duration": 12,
    "start_time": "2022-01-21T16:53:02.957Z"
   },
   {
    "duration": 6,
    "start_time": "2022-01-21T16:57:41.472Z"
   },
   {
    "duration": 56,
    "start_time": "2022-01-21T16:57:58.710Z"
   },
   {
    "duration": 10,
    "start_time": "2022-01-21T16:57:58.767Z"
   },
   {
    "duration": 12,
    "start_time": "2022-01-21T16:57:58.779Z"
   },
   {
    "duration": 5,
    "start_time": "2022-01-21T16:57:58.792Z"
   },
   {
    "duration": 38,
    "start_time": "2022-01-21T16:57:58.798Z"
   },
   {
    "duration": 10,
    "start_time": "2022-01-21T16:57:58.838Z"
   },
   {
    "duration": 15,
    "start_time": "2022-01-21T16:57:58.849Z"
   },
   {
    "duration": 6,
    "start_time": "2022-01-21T16:57:58.867Z"
   },
   {
    "duration": 23,
    "start_time": "2022-01-21T16:57:58.874Z"
   },
   {
    "duration": 10,
    "start_time": "2022-01-21T16:57:58.898Z"
   },
   {
    "duration": 20,
    "start_time": "2022-01-21T16:57:58.910Z"
   },
   {
    "duration": 7,
    "start_time": "2022-01-21T16:57:58.932Z"
   },
   {
    "duration": 12,
    "start_time": "2022-01-21T16:57:58.940Z"
   },
   {
    "duration": 6,
    "start_time": "2022-01-21T16:57:58.954Z"
   },
   {
    "duration": 7,
    "start_time": "2022-01-21T16:57:58.961Z"
   },
   {
    "duration": 9,
    "start_time": "2022-01-21T16:57:58.969Z"
   },
   {
    "duration": 10,
    "start_time": "2022-01-21T16:57:58.979Z"
   },
   {
    "duration": 43,
    "start_time": "2022-01-21T16:57:58.990Z"
   },
   {
    "duration": 6,
    "start_time": "2022-01-21T16:57:59.034Z"
   },
   {
    "duration": 6,
    "start_time": "2022-01-21T16:57:59.042Z"
   },
   {
    "duration": 9,
    "start_time": "2022-01-21T16:57:59.050Z"
   },
   {
    "duration": 13,
    "start_time": "2022-01-21T16:57:59.061Z"
   },
   {
    "duration": 13,
    "start_time": "2022-01-21T16:57:59.077Z"
   },
   {
    "duration": 44,
    "start_time": "2022-01-21T16:57:59.092Z"
   },
   {
    "duration": 10,
    "start_time": "2022-01-21T16:57:59.138Z"
   },
   {
    "duration": 9,
    "start_time": "2022-01-21T16:57:59.149Z"
   },
   {
    "duration": 11,
    "start_time": "2022-01-21T16:57:59.160Z"
   },
   {
    "duration": 9,
    "start_time": "2022-01-21T16:57:59.172Z"
   },
   {
    "duration": 8,
    "start_time": "2022-01-21T16:57:59.183Z"
   },
   {
    "duration": 10,
    "start_time": "2022-01-21T16:57:59.192Z"
   },
   {
    "duration": 31,
    "start_time": "2022-01-21T16:57:59.203Z"
   },
   {
    "duration": 11,
    "start_time": "2022-01-21T16:57:59.236Z"
   },
   {
    "duration": 22,
    "start_time": "2022-01-21T16:57:59.248Z"
   },
   {
    "duration": 15,
    "start_time": "2022-01-21T16:57:59.272Z"
   },
   {
    "duration": 14,
    "start_time": "2022-01-21T16:57:59.288Z"
   },
   {
    "duration": 49,
    "start_time": "2022-01-21T16:57:59.303Z"
   },
   {
    "duration": 648,
    "start_time": "2022-01-21T16:57:59.353Z"
   },
   {
    "duration": 2668,
    "start_time": "2022-01-21T16:58:00.004Z"
   },
   {
    "duration": 15,
    "start_time": "2022-01-21T16:58:02.673Z"
   },
   {
    "duration": 17,
    "start_time": "2022-01-21T16:58:02.689Z"
   },
   {
    "duration": 27,
    "start_time": "2022-01-21T16:58:02.707Z"
   },
   {
    "duration": 12,
    "start_time": "2022-01-21T16:58:02.736Z"
   },
   {
    "duration": 9,
    "start_time": "2022-01-21T16:58:09.130Z"
   },
   {
    "duration": 13,
    "start_time": "2022-01-21T16:58:18.450Z"
   },
   {
    "duration": 13,
    "start_time": "2022-01-21T16:58:55.997Z"
   },
   {
    "duration": 7,
    "start_time": "2022-01-21T16:59:20.925Z"
   },
   {
    "duration": 15,
    "start_time": "2022-01-21T17:03:28.149Z"
   },
   {
    "duration": 12,
    "start_time": "2022-01-21T17:04:51.063Z"
   },
   {
    "duration": 55,
    "start_time": "2022-01-21T19:00:40.120Z"
   },
   {
    "duration": 10,
    "start_time": "2022-01-21T19:00:40.177Z"
   },
   {
    "duration": 10,
    "start_time": "2022-01-21T19:00:40.189Z"
   },
   {
    "duration": 30,
    "start_time": "2022-01-21T19:00:40.202Z"
   },
   {
    "duration": 12,
    "start_time": "2022-01-21T19:00:40.233Z"
   },
   {
    "duration": 5,
    "start_time": "2022-01-21T19:00:40.247Z"
   },
   {
    "duration": 17,
    "start_time": "2022-01-21T19:00:40.253Z"
   },
   {
    "duration": 16,
    "start_time": "2022-01-21T19:00:40.273Z"
   },
   {
    "duration": 39,
    "start_time": "2022-01-21T19:00:40.292Z"
   },
   {
    "duration": 11,
    "start_time": "2022-01-21T19:00:40.332Z"
   },
   {
    "duration": 8,
    "start_time": "2022-01-21T19:00:40.344Z"
   },
   {
    "duration": 11,
    "start_time": "2022-01-21T19:00:40.353Z"
   },
   {
    "duration": 14,
    "start_time": "2022-01-21T19:00:40.365Z"
   },
   {
    "duration": 17,
    "start_time": "2022-01-21T19:00:40.381Z"
   },
   {
    "duration": 22,
    "start_time": "2022-01-21T19:00:40.400Z"
   },
   {
    "duration": 10,
    "start_time": "2022-01-21T19:00:40.423Z"
   },
   {
    "duration": 24,
    "start_time": "2022-01-21T19:00:40.434Z"
   },
   {
    "duration": 9,
    "start_time": "2022-01-21T19:00:40.459Z"
   },
   {
    "duration": 11,
    "start_time": "2022-01-21T19:00:40.469Z"
   },
   {
    "duration": 5,
    "start_time": "2022-01-21T19:00:40.482Z"
   },
   {
    "duration": 25,
    "start_time": "2022-01-21T19:00:40.489Z"
   },
   {
    "duration": 25,
    "start_time": "2022-01-21T19:00:40.515Z"
   },
   {
    "duration": 14,
    "start_time": "2022-01-21T19:00:40.544Z"
   },
   {
    "duration": 24,
    "start_time": "2022-01-21T19:00:40.560Z"
   },
   {
    "duration": 10,
    "start_time": "2022-01-21T19:00:40.585Z"
   },
   {
    "duration": 8,
    "start_time": "2022-01-21T19:00:40.596Z"
   },
   {
    "duration": 22,
    "start_time": "2022-01-21T19:00:40.605Z"
   },
   {
    "duration": 6,
    "start_time": "2022-01-21T19:00:40.628Z"
   },
   {
    "duration": 8,
    "start_time": "2022-01-21T19:00:40.636Z"
   },
   {
    "duration": 9,
    "start_time": "2022-01-21T19:00:40.645Z"
   },
   {
    "duration": 12,
    "start_time": "2022-01-21T19:00:40.655Z"
   },
   {
    "duration": 11,
    "start_time": "2022-01-21T19:00:40.668Z"
   },
   {
    "duration": 16,
    "start_time": "2022-01-21T19:00:40.681Z"
   },
   {
    "duration": 35,
    "start_time": "2022-01-21T19:00:40.699Z"
   },
   {
    "duration": 13,
    "start_time": "2022-01-21T19:00:40.736Z"
   },
   {
    "duration": 28,
    "start_time": "2022-01-21T19:00:40.751Z"
   },
   {
    "duration": 669,
    "start_time": "2022-01-21T19:00:40.781Z"
   },
   {
    "duration": 2813,
    "start_time": "2022-01-21T19:00:41.452Z"
   },
   {
    "duration": 17,
    "start_time": "2022-01-21T19:00:44.267Z"
   },
   {
    "duration": 18,
    "start_time": "2022-01-21T19:00:44.285Z"
   },
   {
    "duration": 31,
    "start_time": "2022-01-21T19:00:44.305Z"
   },
   {
    "duration": 6,
    "start_time": "2022-01-21T19:00:44.338Z"
   },
   {
    "duration": 26,
    "start_time": "2022-01-21T19:00:44.345Z"
   },
   {
    "duration": 19,
    "start_time": "2022-01-21T19:00:44.372Z"
   },
   {
    "duration": 21,
    "start_time": "2022-01-21T19:00:44.392Z"
   },
   {
    "duration": 20,
    "start_time": "2022-01-21T19:00:44.415Z"
   },
   {
    "duration": 12,
    "start_time": "2022-01-21T19:00:44.436Z"
   },
   {
    "duration": 21,
    "start_time": "2022-01-21T19:00:44.449Z"
   },
   {
    "duration": 23,
    "start_time": "2022-01-21T19:00:44.471Z"
   },
   {
    "duration": 24,
    "start_time": "2022-01-21T19:00:44.495Z"
   },
   {
    "duration": 39,
    "start_time": "2022-01-21T19:00:44.521Z"
   },
   {
    "duration": 20,
    "start_time": "2022-01-21T19:00:44.561Z"
   },
   {
    "duration": 23,
    "start_time": "2022-01-21T19:00:44.583Z"
   },
   {
    "duration": 43,
    "start_time": "2022-01-21T19:00:44.607Z"
   },
   {
    "duration": 11,
    "start_time": "2022-01-21T19:00:44.652Z"
   },
   {
    "duration": 54,
    "start_time": "2022-01-21T19:04:23.544Z"
   },
   {
    "duration": 10,
    "start_time": "2022-01-21T19:04:23.599Z"
   },
   {
    "duration": 11,
    "start_time": "2022-01-21T19:04:23.610Z"
   },
   {
    "duration": 5,
    "start_time": "2022-01-21T19:04:23.623Z"
   },
   {
    "duration": 14,
    "start_time": "2022-01-21T19:04:23.629Z"
   },
   {
    "duration": 6,
    "start_time": "2022-01-21T19:04:23.644Z"
   },
   {
    "duration": 7,
    "start_time": "2022-01-21T19:04:23.651Z"
   },
   {
    "duration": 5,
    "start_time": "2022-01-21T19:04:23.661Z"
   },
   {
    "duration": 13,
    "start_time": "2022-01-21T19:04:23.668Z"
   },
   {
    "duration": 6,
    "start_time": "2022-01-21T19:04:23.683Z"
   },
   {
    "duration": 37,
    "start_time": "2022-01-21T19:04:23.691Z"
   },
   {
    "duration": 10,
    "start_time": "2022-01-21T19:04:23.729Z"
   },
   {
    "duration": 13,
    "start_time": "2022-01-21T19:04:23.741Z"
   },
   {
    "duration": 6,
    "start_time": "2022-01-21T19:04:23.756Z"
   },
   {
    "duration": 16,
    "start_time": "2022-01-21T19:04:23.763Z"
   },
   {
    "duration": 10,
    "start_time": "2022-01-21T19:04:23.780Z"
   },
   {
    "duration": 14,
    "start_time": "2022-01-21T19:04:23.792Z"
   },
   {
    "duration": 23,
    "start_time": "2022-01-21T19:04:23.807Z"
   },
   {
    "duration": 12,
    "start_time": "2022-01-21T19:04:23.832Z"
   },
   {
    "duration": 15,
    "start_time": "2022-01-21T19:04:23.845Z"
   },
   {
    "duration": 12,
    "start_time": "2022-01-21T19:04:23.861Z"
   },
   {
    "duration": 17,
    "start_time": "2022-01-21T19:04:23.874Z"
   },
   {
    "duration": 13,
    "start_time": "2022-01-21T19:04:23.894Z"
   },
   {
    "duration": 24,
    "start_time": "2022-01-21T19:04:23.909Z"
   },
   {
    "duration": 10,
    "start_time": "2022-01-21T19:04:23.934Z"
   },
   {
    "duration": 10,
    "start_time": "2022-01-21T19:04:23.945Z"
   },
   {
    "duration": 15,
    "start_time": "2022-01-21T19:04:23.956Z"
   },
   {
    "duration": 9,
    "start_time": "2022-01-21T19:04:23.972Z"
   },
   {
    "duration": 14,
    "start_time": "2022-01-21T19:04:23.982Z"
   },
   {
    "duration": 14,
    "start_time": "2022-01-21T19:04:23.998Z"
   },
   {
    "duration": 17,
    "start_time": "2022-01-21T19:04:24.013Z"
   },
   {
    "duration": 7,
    "start_time": "2022-01-21T19:04:24.032Z"
   },
   {
    "duration": 19,
    "start_time": "2022-01-21T19:04:24.041Z"
   },
   {
    "duration": 16,
    "start_time": "2022-01-21T19:04:24.061Z"
   },
   {
    "duration": 14,
    "start_time": "2022-01-21T19:04:24.078Z"
   },
   {
    "duration": 57,
    "start_time": "2022-01-21T19:04:24.094Z"
   },
   {
    "duration": 650,
    "start_time": "2022-01-21T19:04:24.152Z"
   },
   {
    "duration": 2670,
    "start_time": "2022-01-21T19:04:24.804Z"
   },
   {
    "duration": 16,
    "start_time": "2022-01-21T19:04:27.475Z"
   },
   {
    "duration": 16,
    "start_time": "2022-01-21T19:04:27.492Z"
   },
   {
    "duration": 11,
    "start_time": "2022-01-21T19:04:27.526Z"
   },
   {
    "duration": 18,
    "start_time": "2022-01-21T19:04:27.538Z"
   },
   {
    "duration": 18,
    "start_time": "2022-01-21T19:04:27.557Z"
   },
   {
    "duration": 10,
    "start_time": "2022-01-21T19:04:27.577Z"
   },
   {
    "duration": 20,
    "start_time": "2022-01-21T19:04:27.588Z"
   },
   {
    "duration": 28,
    "start_time": "2022-01-21T19:04:27.609Z"
   },
   {
    "duration": 15,
    "start_time": "2022-01-21T19:04:27.638Z"
   },
   {
    "duration": 6,
    "start_time": "2022-01-21T19:04:27.655Z"
   },
   {
    "duration": 18,
    "start_time": "2022-01-21T19:04:27.662Z"
   },
   {
    "duration": 18,
    "start_time": "2022-01-21T19:04:27.681Z"
   },
   {
    "duration": 21,
    "start_time": "2022-01-21T19:04:27.700Z"
   },
   {
    "duration": 14,
    "start_time": "2022-01-21T19:04:27.722Z"
   },
   {
    "duration": 19,
    "start_time": "2022-01-21T19:04:27.737Z"
   },
   {
    "duration": 30,
    "start_time": "2022-01-21T19:04:27.757Z"
   },
   {
    "duration": 14,
    "start_time": "2022-01-21T19:04:31.548Z"
   },
   {
    "duration": 604,
    "start_time": "2022-01-21T19:18:46.628Z"
   },
   {
    "duration": 17,
    "start_time": "2022-01-21T19:18:47.234Z"
   },
   {
    "duration": 13,
    "start_time": "2022-01-21T19:18:47.253Z"
   },
   {
    "duration": 7,
    "start_time": "2022-01-21T19:18:47.268Z"
   },
   {
    "duration": 28,
    "start_time": "2022-01-21T19:18:47.277Z"
   },
   {
    "duration": 7,
    "start_time": "2022-01-21T19:18:47.307Z"
   },
   {
    "duration": 10,
    "start_time": "2022-01-21T19:18:47.316Z"
   },
   {
    "duration": 6,
    "start_time": "2022-01-21T19:18:47.329Z"
   },
   {
    "duration": 19,
    "start_time": "2022-01-21T19:18:47.337Z"
   },
   {
    "duration": 10,
    "start_time": "2022-01-21T19:18:47.358Z"
   },
   {
    "duration": 28,
    "start_time": "2022-01-21T19:18:47.370Z"
   },
   {
    "duration": 11,
    "start_time": "2022-01-21T19:18:47.400Z"
   },
   {
    "duration": 14,
    "start_time": "2022-01-21T19:18:47.413Z"
   },
   {
    "duration": 9,
    "start_time": "2022-01-21T19:18:47.428Z"
   },
   {
    "duration": 10,
    "start_time": "2022-01-21T19:18:47.438Z"
   },
   {
    "duration": 11,
    "start_time": "2022-01-21T19:18:47.449Z"
   },
   {
    "duration": 16,
    "start_time": "2022-01-21T19:18:47.461Z"
   },
   {
    "duration": 6,
    "start_time": "2022-01-21T19:18:47.497Z"
   },
   {
    "duration": 12,
    "start_time": "2022-01-21T19:18:47.505Z"
   },
   {
    "duration": 7,
    "start_time": "2022-01-21T19:18:47.518Z"
   },
   {
    "duration": 10,
    "start_time": "2022-01-21T19:18:47.526Z"
   },
   {
    "duration": 14,
    "start_time": "2022-01-21T19:18:47.538Z"
   },
   {
    "duration": 44,
    "start_time": "2022-01-21T19:18:47.555Z"
   },
   {
    "duration": 19,
    "start_time": "2022-01-21T19:18:47.601Z"
   },
   {
    "duration": 11,
    "start_time": "2022-01-21T19:18:47.621Z"
   },
   {
    "duration": 10,
    "start_time": "2022-01-21T19:18:47.634Z"
   },
   {
    "duration": 8,
    "start_time": "2022-01-21T19:18:47.646Z"
   },
   {
    "duration": 8,
    "start_time": "2022-01-21T19:18:47.655Z"
   },
   {
    "duration": 38,
    "start_time": "2022-01-21T19:18:47.665Z"
   },
   {
    "duration": 10,
    "start_time": "2022-01-21T19:18:47.705Z"
   },
   {
    "duration": 16,
    "start_time": "2022-01-21T19:18:47.716Z"
   },
   {
    "duration": 12,
    "start_time": "2022-01-21T19:18:47.734Z"
   },
   {
    "duration": 20,
    "start_time": "2022-01-21T19:18:47.748Z"
   },
   {
    "duration": 41,
    "start_time": "2022-01-21T19:18:47.769Z"
   },
   {
    "duration": 15,
    "start_time": "2022-01-21T19:18:47.812Z"
   },
   {
    "duration": 8,
    "start_time": "2022-01-21T19:18:47.828Z"
   },
   {
    "duration": 675,
    "start_time": "2022-01-21T19:18:47.838Z"
   },
   {
    "duration": 2783,
    "start_time": "2022-01-21T19:18:48.515Z"
   },
   {
    "duration": 16,
    "start_time": "2022-01-21T19:18:51.300Z"
   },
   {
    "duration": 18,
    "start_time": "2022-01-21T19:18:51.318Z"
   },
   {
    "duration": 13,
    "start_time": "2022-01-21T19:18:51.337Z"
   },
   {
    "duration": 10,
    "start_time": "2022-01-21T19:18:51.351Z"
   },
   {
    "duration": 41,
    "start_time": "2022-01-21T19:18:51.363Z"
   },
   {
    "duration": 10,
    "start_time": "2022-01-21T19:18:51.406Z"
   },
   {
    "duration": 15,
    "start_time": "2022-01-21T19:18:51.417Z"
   },
   {
    "duration": 26,
    "start_time": "2022-01-21T19:18:51.433Z"
   },
   {
    "duration": 5,
    "start_time": "2022-01-21T19:18:51.460Z"
   },
   {
    "duration": 8,
    "start_time": "2022-01-21T19:18:51.466Z"
   },
   {
    "duration": 26,
    "start_time": "2022-01-21T19:18:51.476Z"
   },
   {
    "duration": 28,
    "start_time": "2022-01-21T19:18:51.504Z"
   },
   {
    "duration": 16,
    "start_time": "2022-01-21T19:18:51.534Z"
   },
   {
    "duration": 13,
    "start_time": "2022-01-21T19:18:51.552Z"
   },
   {
    "duration": 34,
    "start_time": "2022-01-21T19:18:51.566Z"
   },
   {
    "duration": 19,
    "start_time": "2022-01-21T19:18:51.602Z"
   },
   {
    "duration": 13,
    "start_time": "2022-01-21T19:18:51.623Z"
   },
   {
    "duration": 21,
    "start_time": "2022-01-21T19:27:02.083Z"
   },
   {
    "duration": 19,
    "start_time": "2022-01-21T19:27:18.067Z"
   },
   {
    "duration": 613,
    "start_time": "2022-01-21T19:38:42.619Z"
   },
   {
    "duration": 19,
    "start_time": "2022-01-21T19:38:43.234Z"
   },
   {
    "duration": 33,
    "start_time": "2022-01-21T19:38:43.255Z"
   },
   {
    "duration": 29,
    "start_time": "2022-01-21T19:38:43.290Z"
   },
   {
    "duration": 27,
    "start_time": "2022-01-21T19:38:43.320Z"
   },
   {
    "duration": 33,
    "start_time": "2022-01-21T19:38:43.348Z"
   },
   {
    "duration": 30,
    "start_time": "2022-01-21T19:38:43.382Z"
   },
   {
    "duration": 20,
    "start_time": "2022-01-21T19:38:43.415Z"
   },
   {
    "duration": 52,
    "start_time": "2022-01-21T19:38:43.437Z"
   },
   {
    "duration": 15,
    "start_time": "2022-01-21T19:38:43.490Z"
   },
   {
    "duration": 5,
    "start_time": "2022-01-21T19:38:43.507Z"
   },
   {
    "duration": 10,
    "start_time": "2022-01-21T19:38:43.514Z"
   },
   {
    "duration": 17,
    "start_time": "2022-01-21T19:38:43.525Z"
   },
   {
    "duration": 9,
    "start_time": "2022-01-21T19:38:43.544Z"
   },
   {
    "duration": 10,
    "start_time": "2022-01-21T19:38:43.555Z"
   },
   {
    "duration": 9,
    "start_time": "2022-01-21T19:38:43.567Z"
   },
   {
    "duration": 29,
    "start_time": "2022-01-21T19:38:43.578Z"
   },
   {
    "duration": 16,
    "start_time": "2022-01-21T19:38:43.609Z"
   },
   {
    "duration": 9,
    "start_time": "2022-01-21T19:38:43.627Z"
   },
   {
    "duration": 12,
    "start_time": "2022-01-21T19:38:43.637Z"
   },
   {
    "duration": 10,
    "start_time": "2022-01-21T19:38:43.650Z"
   },
   {
    "duration": 15,
    "start_time": "2022-01-21T19:38:43.662Z"
   },
   {
    "duration": 15,
    "start_time": "2022-01-21T19:38:43.697Z"
   },
   {
    "duration": 18,
    "start_time": "2022-01-21T19:38:43.714Z"
   },
   {
    "duration": 11,
    "start_time": "2022-01-21T19:38:43.734Z"
   },
   {
    "duration": 14,
    "start_time": "2022-01-21T19:38:43.746Z"
   },
   {
    "duration": 37,
    "start_time": "2022-01-21T19:38:43.761Z"
   },
   {
    "duration": 9,
    "start_time": "2022-01-21T19:38:43.799Z"
   },
   {
    "duration": 12,
    "start_time": "2022-01-21T19:38:43.810Z"
   },
   {
    "duration": 12,
    "start_time": "2022-01-21T19:38:43.824Z"
   },
   {
    "duration": 14,
    "start_time": "2022-01-21T19:38:43.837Z"
   },
   {
    "duration": 14,
    "start_time": "2022-01-21T19:38:43.853Z"
   },
   {
    "duration": 28,
    "start_time": "2022-01-21T19:38:43.869Z"
   },
   {
    "duration": 19,
    "start_time": "2022-01-21T19:38:43.898Z"
   },
   {
    "duration": 16,
    "start_time": "2022-01-21T19:38:43.919Z"
   },
   {
    "duration": 8,
    "start_time": "2022-01-21T19:38:43.936Z"
   },
   {
    "duration": 683,
    "start_time": "2022-01-21T19:38:43.946Z"
   },
   {
    "duration": 2870,
    "start_time": "2022-01-21T19:38:44.631Z"
   },
   {
    "duration": 18,
    "start_time": "2022-01-21T19:38:47.503Z"
   },
   {
    "duration": 19,
    "start_time": "2022-01-21T19:38:47.523Z"
   },
   {
    "duration": 12,
    "start_time": "2022-01-21T19:38:47.544Z"
   },
   {
    "duration": 14,
    "start_time": "2022-01-21T19:38:47.558Z"
   },
   {
    "duration": 31,
    "start_time": "2022-01-21T19:38:47.574Z"
   },
   {
    "duration": 16,
    "start_time": "2022-01-21T19:38:47.607Z"
   },
   {
    "duration": 24,
    "start_time": "2022-01-21T19:38:47.625Z"
   },
   {
    "duration": 25,
    "start_time": "2022-01-21T19:38:47.651Z"
   },
   {
    "duration": 7,
    "start_time": "2022-01-21T19:38:47.677Z"
   },
   {
    "duration": 21,
    "start_time": "2022-01-21T19:38:47.685Z"
   },
   {
    "duration": 14,
    "start_time": "2022-01-21T19:38:47.708Z"
   },
   {
    "duration": 39,
    "start_time": "2022-01-21T19:38:47.724Z"
   },
   {
    "duration": 17,
    "start_time": "2022-01-21T19:38:47.765Z"
   },
   {
    "duration": 16,
    "start_time": "2022-01-21T19:38:47.783Z"
   },
   {
    "duration": 28,
    "start_time": "2022-01-21T19:38:47.800Z"
   },
   {
    "duration": 24,
    "start_time": "2022-01-21T19:38:47.830Z"
   },
   {
    "duration": 20,
    "start_time": "2022-01-21T19:38:47.856Z"
   },
   {
    "duration": 943,
    "start_time": "2022-01-22T06:43:39.819Z"
   },
   {
    "duration": 28,
    "start_time": "2022-01-22T06:43:40.765Z"
   },
   {
    "duration": 12,
    "start_time": "2022-01-22T06:43:40.796Z"
   },
   {
    "duration": 7,
    "start_time": "2022-01-22T06:43:40.810Z"
   },
   {
    "duration": 49,
    "start_time": "2022-01-22T06:43:40.820Z"
   },
   {
    "duration": 18,
    "start_time": "2022-01-22T06:43:43.358Z"
   },
   {
    "duration": 5,
    "start_time": "2022-01-22T06:43:45.214Z"
   },
   {
    "duration": 12,
    "start_time": "2022-01-22T06:44:40.123Z"
   },
   {
    "duration": 9,
    "start_time": "2022-01-22T06:44:41.731Z"
   },
   {
    "duration": 58,
    "start_time": "2022-01-22T06:45:01.018Z"
   },
   {
    "duration": 36,
    "start_time": "2022-01-22T06:45:30.595Z"
   },
   {
    "duration": 73,
    "start_time": "2022-01-22T06:45:37.192Z"
   },
   {
    "duration": 17,
    "start_time": "2022-01-22T06:45:37.268Z"
   },
   {
    "duration": 18,
    "start_time": "2022-01-22T06:45:37.287Z"
   },
   {
    "duration": 7,
    "start_time": "2022-01-22T06:45:37.308Z"
   },
   {
    "duration": 47,
    "start_time": "2022-01-22T06:45:37.317Z"
   },
   {
    "duration": 40,
    "start_time": "2022-01-22T06:45:37.366Z"
   },
   {
    "duration": 11,
    "start_time": "2022-01-22T06:45:37.408Z"
   },
   {
    "duration": 39,
    "start_time": "2022-01-22T06:45:37.422Z"
   },
   {
    "duration": 57,
    "start_time": "2022-01-22T06:45:37.464Z"
   },
   {
    "duration": 47,
    "start_time": "2022-01-22T06:45:37.523Z"
   },
   {
    "duration": 8,
    "start_time": "2022-01-22T06:45:37.573Z"
   },
   {
    "duration": 9,
    "start_time": "2022-01-22T06:45:37.583Z"
   },
   {
    "duration": 20,
    "start_time": "2022-01-22T06:45:37.594Z"
   },
   {
    "duration": 50,
    "start_time": "2022-01-22T06:45:37.616Z"
   },
   {
    "duration": 13,
    "start_time": "2022-01-22T06:45:37.668Z"
   },
   {
    "duration": 11,
    "start_time": "2022-01-22T06:45:37.683Z"
   },
   {
    "duration": 15,
    "start_time": "2022-01-22T06:45:37.696Z"
   },
   {
    "duration": 49,
    "start_time": "2022-01-22T06:45:37.713Z"
   },
   {
    "duration": 8,
    "start_time": "2022-01-22T06:45:37.764Z"
   },
   {
    "duration": 9,
    "start_time": "2022-01-22T06:45:37.774Z"
   },
   {
    "duration": 12,
    "start_time": "2022-01-22T06:45:37.785Z"
   },
   {
    "duration": 62,
    "start_time": "2022-01-22T06:45:37.799Z"
   },
   {
    "duration": 22,
    "start_time": "2022-01-22T06:45:37.866Z"
   },
   {
    "duration": 25,
    "start_time": "2022-01-22T06:45:37.891Z"
   },
   {
    "duration": 43,
    "start_time": "2022-01-22T06:45:37.918Z"
   },
   {
    "duration": 13,
    "start_time": "2022-01-22T06:45:37.964Z"
   },
   {
    "duration": 12,
    "start_time": "2022-01-22T06:45:37.979Z"
   },
   {
    "duration": 10,
    "start_time": "2022-01-22T06:45:37.994Z"
   },
   {
    "duration": 9,
    "start_time": "2022-01-22T06:45:38.006Z"
   },
   {
    "duration": 47,
    "start_time": "2022-01-22T06:45:38.017Z"
   },
   {
    "duration": 15,
    "start_time": "2022-01-22T06:45:38.067Z"
   },
   {
    "duration": 11,
    "start_time": "2022-01-22T06:45:38.084Z"
   },
   {
    "duration": 26,
    "start_time": "2022-01-22T06:45:38.097Z"
   },
   {
    "duration": 59,
    "start_time": "2022-01-22T06:45:38.125Z"
   },
   {
    "duration": 22,
    "start_time": "2022-01-22T06:45:38.186Z"
   },
   {
    "duration": 14,
    "start_time": "2022-01-22T06:45:38.210Z"
   },
   {
    "duration": 951,
    "start_time": "2022-01-22T06:45:38.226Z"
   },
   {
    "duration": 3899,
    "start_time": "2022-01-22T06:45:39.179Z"
   },
   {
    "duration": 26,
    "start_time": "2022-01-22T06:45:43.081Z"
   },
   {
    "duration": 51,
    "start_time": "2022-01-22T06:45:43.109Z"
   },
   {
    "duration": 18,
    "start_time": "2022-01-22T06:45:43.162Z"
   },
   {
    "duration": 8,
    "start_time": "2022-01-22T06:45:43.182Z"
   },
   {
    "duration": 14,
    "start_time": "2022-01-22T06:45:43.192Z"
   },
   {
    "duration": 12,
    "start_time": "2022-01-22T06:45:43.208Z"
   },
   {
    "duration": 19,
    "start_time": "2022-01-22T06:45:43.260Z"
   },
   {
    "duration": 18,
    "start_time": "2022-01-22T06:45:43.281Z"
   },
   {
    "duration": 6,
    "start_time": "2022-01-22T06:45:43.301Z"
   },
   {
    "duration": 7,
    "start_time": "2022-01-22T06:45:43.310Z"
   },
   {
    "duration": 43,
    "start_time": "2022-01-22T06:45:43.319Z"
   },
   {
    "duration": 21,
    "start_time": "2022-01-22T06:45:43.364Z"
   },
   {
    "duration": 19,
    "start_time": "2022-01-22T06:45:43.388Z"
   },
   {
    "duration": 55,
    "start_time": "2022-01-22T06:45:43.410Z"
   },
   {
    "duration": 20,
    "start_time": "2022-01-22T06:45:43.467Z"
   },
   {
    "duration": 27,
    "start_time": "2022-01-22T06:45:43.489Z"
   },
   {
    "duration": 52,
    "start_time": "2022-01-22T06:45:43.518Z"
   },
   {
    "duration": 73,
    "start_time": "2022-01-22T06:45:53.444Z"
   },
   {
    "duration": 18,
    "start_time": "2022-01-22T06:45:53.520Z"
   },
   {
    "duration": 12,
    "start_time": "2022-01-22T06:45:53.561Z"
   },
   {
    "duration": 8,
    "start_time": "2022-01-22T06:45:53.575Z"
   },
   {
    "duration": 9,
    "start_time": "2022-01-22T06:45:56.210Z"
   },
   {
    "duration": 17,
    "start_time": "2022-01-22T06:45:57.264Z"
   },
   {
    "duration": 35,
    "start_time": "2022-01-22T06:46:00.657Z"
   },
   {
    "duration": 12,
    "start_time": "2022-01-22T06:46:03.464Z"
   },
   {
    "duration": 10,
    "start_time": "2022-01-22T06:46:04.590Z"
   },
   {
    "duration": 53,
    "start_time": "2022-01-22T06:46:06.341Z"
   },
   {
    "duration": 32,
    "start_time": "2022-01-22T07:30:19.825Z"
   },
   {
    "duration": 421,
    "start_time": "2022-01-22T07:31:12.153Z"
   },
   {
    "duration": 27,
    "start_time": "2022-01-22T07:31:21.174Z"
   },
   {
    "duration": 387,
    "start_time": "2022-01-22T07:31:25.018Z"
   },
   {
    "duration": 73,
    "start_time": "2022-01-22T07:32:03.446Z"
   },
   {
    "duration": 44,
    "start_time": "2022-01-22T07:32:03.522Z"
   },
   {
    "duration": 13,
    "start_time": "2022-01-22T07:32:03.569Z"
   },
   {
    "duration": 8,
    "start_time": "2022-01-22T07:32:03.585Z"
   },
   {
    "duration": 65,
    "start_time": "2022-01-22T07:32:03.595Z"
   },
   {
    "duration": 36,
    "start_time": "2022-01-22T07:32:03.662Z"
   },
   {
    "duration": 11,
    "start_time": "2022-01-22T07:32:03.700Z"
   },
   {
    "duration": 44,
    "start_time": "2022-01-22T07:32:03.715Z"
   },
   {
    "duration": 57,
    "start_time": "2022-01-22T07:32:03.762Z"
   },
   {
    "duration": 14,
    "start_time": "2022-01-22T07:32:03.821Z"
   },
   {
    "duration": 8,
    "start_time": "2022-01-22T07:32:03.860Z"
   },
   {
    "duration": 17,
    "start_time": "2022-01-22T07:32:03.870Z"
   },
   {
    "duration": 31,
    "start_time": "2022-01-22T07:32:03.890Z"
   },
   {
    "duration": 15,
    "start_time": "2022-01-22T07:32:03.924Z"
   },
   {
    "duration": 22,
    "start_time": "2022-01-22T07:32:03.942Z"
   },
   {
    "duration": 12,
    "start_time": "2022-01-22T07:32:03.967Z"
   },
   {
    "duration": 14,
    "start_time": "2022-01-22T07:32:03.981Z"
   },
   {
    "duration": 8,
    "start_time": "2022-01-22T07:32:03.997Z"
   },
   {
    "duration": 9,
    "start_time": "2022-01-22T07:32:04.007Z"
   },
   {
    "duration": 46,
    "start_time": "2022-01-22T07:32:04.018Z"
   },
   {
    "duration": 17,
    "start_time": "2022-01-22T07:32:04.066Z"
   },
   {
    "duration": 18,
    "start_time": "2022-01-22T07:32:04.085Z"
   },
   {
    "duration": 51,
    "start_time": "2022-01-22T07:32:04.109Z"
   },
   {
    "duration": 24,
    "start_time": "2022-01-22T07:32:04.164Z"
   },
   {
    "duration": 18,
    "start_time": "2022-01-22T07:32:04.190Z"
   },
   {
    "duration": 13,
    "start_time": "2022-01-22T07:32:04.210Z"
   },
   {
    "duration": 50,
    "start_time": "2022-01-22T07:32:04.225Z"
   },
   {
    "duration": 10,
    "start_time": "2022-01-22T07:32:04.278Z"
   },
   {
    "duration": 10,
    "start_time": "2022-01-22T07:32:04.290Z"
   },
   {
    "duration": 9,
    "start_time": "2022-01-22T07:32:04.303Z"
   },
   {
    "duration": 52,
    "start_time": "2022-01-22T07:32:04.315Z"
   },
   {
    "duration": 13,
    "start_time": "2022-01-22T07:32:04.369Z"
   },
   {
    "duration": 25,
    "start_time": "2022-01-22T07:32:04.384Z"
   },
   {
    "duration": 59,
    "start_time": "2022-01-22T07:32:04.412Z"
   },
   {
    "duration": 22,
    "start_time": "2022-01-22T07:32:04.473Z"
   },
   {
    "duration": 34,
    "start_time": "2022-01-22T07:32:04.497Z"
   },
   {
    "duration": 953,
    "start_time": "2022-01-22T07:32:04.533Z"
   },
   {
    "duration": 4056,
    "start_time": "2022-01-22T07:32:05.488Z"
   },
   {
    "duration": 33,
    "start_time": "2022-01-22T07:32:09.546Z"
   },
   {
    "duration": 24,
    "start_time": "2022-01-22T07:32:09.581Z"
   },
   {
    "duration": 18,
    "start_time": "2022-01-22T07:32:09.607Z"
   },
   {
    "duration": 7,
    "start_time": "2022-01-22T07:32:09.660Z"
   },
   {
    "duration": 13,
    "start_time": "2022-01-22T07:32:09.669Z"
   },
   {
    "duration": 11,
    "start_time": "2022-01-22T07:32:09.684Z"
   },
   {
    "duration": 19,
    "start_time": "2022-01-22T07:32:09.697Z"
   },
   {
    "duration": 57,
    "start_time": "2022-01-22T07:32:09.719Z"
   },
   {
    "duration": 6,
    "start_time": "2022-01-22T07:32:09.779Z"
   },
   {
    "duration": 7,
    "start_time": "2022-01-22T07:32:09.787Z"
   },
   {
    "duration": 9,
    "start_time": "2022-01-22T07:32:09.796Z"
   },
   {
    "duration": 59,
    "start_time": "2022-01-22T07:32:09.808Z"
   },
   {
    "duration": 19,
    "start_time": "2022-01-22T07:32:09.869Z"
   },
   {
    "duration": 19,
    "start_time": "2022-01-22T07:32:09.890Z"
   },
   {
    "duration": 49,
    "start_time": "2022-01-22T07:32:09.911Z"
   },
   {
    "duration": 29,
    "start_time": "2022-01-22T07:32:09.965Z"
   },
   {
    "duration": 47,
    "start_time": "2022-01-22T10:56:07.401Z"
   },
   {
    "duration": 365,
    "start_time": "2022-01-22T10:57:59.869Z"
   },
   {
    "duration": 106,
    "start_time": "2022-01-22T10:59:00.804Z"
   },
   {
    "duration": 18,
    "start_time": "2022-01-22T10:59:15.784Z"
   },
   {
    "duration": 16,
    "start_time": "2022-01-22T10:59:33.599Z"
   },
   {
    "duration": 97,
    "start_time": "2022-01-22T11:01:25.085Z"
   },
   {
    "duration": 135,
    "start_time": "2022-01-22T11:01:36.171Z"
   },
   {
    "duration": 150,
    "start_time": "2022-01-22T11:02:00.243Z"
   },
   {
    "duration": 120,
    "start_time": "2022-01-22T11:02:08.268Z"
   },
   {
    "duration": 314,
    "start_time": "2022-01-22T11:02:58.104Z"
   },
   {
    "duration": 491,
    "start_time": "2022-01-22T11:03:20.163Z"
   },
   {
    "duration": 60,
    "start_time": "2022-01-23T07:19:48.302Z"
   },
   {
    "duration": 218,
    "start_time": "2022-01-23T07:19:55.138Z"
   },
   {
    "duration": 610,
    "start_time": "2022-01-23T07:20:10.847Z"
   },
   {
    "duration": 16,
    "start_time": "2022-01-23T07:20:11.459Z"
   },
   {
    "duration": 10,
    "start_time": "2022-01-23T07:20:11.477Z"
   },
   {
    "duration": 6,
    "start_time": "2022-01-23T07:20:11.489Z"
   },
   {
    "duration": 10,
    "start_time": "2022-01-23T07:20:11.496Z"
   },
   {
    "duration": 51,
    "start_time": "2022-01-23T07:20:11.508Z"
   },
   {
    "duration": 9,
    "start_time": "2022-01-23T07:20:11.561Z"
   },
   {
    "duration": 7,
    "start_time": "2022-01-23T07:20:11.573Z"
   },
   {
    "duration": 63,
    "start_time": "2022-01-23T07:20:11.582Z"
   },
   {
    "duration": 11,
    "start_time": "2022-01-23T07:20:11.647Z"
   },
   {
    "duration": 6,
    "start_time": "2022-01-23T07:20:11.660Z"
   },
   {
    "duration": 6,
    "start_time": "2022-01-23T07:20:11.668Z"
   },
   {
    "duration": 13,
    "start_time": "2022-01-23T07:20:11.676Z"
   },
   {
    "duration": 6,
    "start_time": "2022-01-23T07:20:11.690Z"
   },
   {
    "duration": 47,
    "start_time": "2022-01-23T07:20:11.698Z"
   },
   {
    "duration": 6,
    "start_time": "2022-01-23T07:20:11.747Z"
   },
   {
    "duration": 10,
    "start_time": "2022-01-23T07:20:11.755Z"
   },
   {
    "duration": 7,
    "start_time": "2022-01-23T07:20:11.767Z"
   },
   {
    "duration": 7,
    "start_time": "2022-01-23T07:20:11.775Z"
   },
   {
    "duration": 7,
    "start_time": "2022-01-23T07:20:11.783Z"
   },
   {
    "duration": 10,
    "start_time": "2022-01-23T07:20:11.792Z"
   },
   {
    "duration": 43,
    "start_time": "2022-01-23T07:20:11.804Z"
   },
   {
    "duration": 15,
    "start_time": "2022-01-23T07:20:11.852Z"
   },
   {
    "duration": 17,
    "start_time": "2022-01-23T07:20:11.870Z"
   },
   {
    "duration": 12,
    "start_time": "2022-01-23T07:20:11.888Z"
   },
   {
    "duration": 9,
    "start_time": "2022-01-23T07:20:11.902Z"
   },
   {
    "duration": 8,
    "start_time": "2022-01-23T07:20:11.941Z"
   },
   {
    "duration": 11,
    "start_time": "2022-01-23T07:20:11.951Z"
   },
   {
    "duration": 8,
    "start_time": "2022-01-23T07:20:11.964Z"
   },
   {
    "duration": 14,
    "start_time": "2022-01-23T07:20:11.974Z"
   },
   {
    "duration": 16,
    "start_time": "2022-01-23T07:20:11.990Z"
   },
   {
    "duration": 12,
    "start_time": "2022-01-23T07:20:12.008Z"
   },
   {
    "duration": 35,
    "start_time": "2022-01-23T07:20:12.022Z"
   },
   {
    "duration": 19,
    "start_time": "2022-01-23T07:20:12.059Z"
   },
   {
    "duration": 15,
    "start_time": "2022-01-23T07:20:12.080Z"
   },
   {
    "duration": 10,
    "start_time": "2022-01-23T07:20:12.097Z"
   },
   {
    "duration": 661,
    "start_time": "2022-01-23T07:20:12.109Z"
   },
   {
    "duration": 2593,
    "start_time": "2022-01-23T07:20:12.772Z"
   },
   {
    "duration": 15,
    "start_time": "2022-01-23T07:20:15.367Z"
   },
   {
    "duration": 40,
    "start_time": "2022-01-23T07:20:15.384Z"
   },
   {
    "duration": 13,
    "start_time": "2022-01-23T07:20:15.426Z"
   },
   {
    "duration": 22,
    "start_time": "2022-01-23T07:20:15.441Z"
   },
   {
    "duration": 18,
    "start_time": "2022-01-23T07:20:15.465Z"
   },
   {
    "duration": 24,
    "start_time": "2022-01-23T07:20:15.484Z"
   },
   {
    "duration": 34,
    "start_time": "2022-01-23T07:20:15.509Z"
   },
   {
    "duration": 42,
    "start_time": "2022-01-23T07:20:15.545Z"
   },
   {
    "duration": 19,
    "start_time": "2022-01-23T07:20:15.588Z"
   },
   {
    "duration": 23,
    "start_time": "2022-01-23T07:20:15.609Z"
   },
   {
    "duration": 10,
    "start_time": "2022-01-23T07:20:15.634Z"
   },
   {
    "duration": 44,
    "start_time": "2022-01-23T07:20:15.645Z"
   },
   {
    "duration": 32,
    "start_time": "2022-01-23T07:20:15.690Z"
   },
   {
    "duration": 27,
    "start_time": "2022-01-23T07:20:15.724Z"
   },
   {
    "duration": 20,
    "start_time": "2022-01-23T07:20:15.753Z"
   },
   {
    "duration": 19,
    "start_time": "2022-01-23T07:20:15.775Z"
   },
   {
    "duration": 28,
    "start_time": "2022-01-23T07:20:15.795Z"
   },
   {
    "duration": 35,
    "start_time": "2022-01-23T07:20:15.824Z"
   },
   {
    "duration": 232,
    "start_time": "2022-01-23T07:20:15.861Z"
   },
   {
    "duration": 349,
    "start_time": "2022-01-23T07:20:30.648Z"
   },
   {
    "duration": 7,
    "start_time": "2022-01-23T07:22:03.686Z"
   },
   {
    "duration": 6,
    "start_time": "2022-01-23T07:22:54.016Z"
   },
   {
    "duration": 6,
    "start_time": "2022-01-23T07:23:07.545Z"
   },
   {
    "duration": 193,
    "start_time": "2022-01-23T07:24:11.615Z"
   },
   {
    "duration": 12,
    "start_time": "2022-01-23T07:24:42.083Z"
   },
   {
    "duration": 188,
    "start_time": "2022-01-23T07:25:02.868Z"
   },
   {
    "duration": 12,
    "start_time": "2022-01-23T07:25:09.603Z"
   },
   {
    "duration": 423,
    "start_time": "2022-01-23T07:25:38.366Z"
   },
   {
    "duration": 13,
    "start_time": "2022-01-23T07:25:47.544Z"
   },
   {
    "duration": 3,
    "start_time": "2022-01-23T07:27:04.806Z"
   },
   {
    "duration": 219,
    "start_time": "2022-01-23T07:27:10.237Z"
   },
   {
    "duration": 11,
    "start_time": "2022-01-23T07:27:25.882Z"
   },
   {
    "duration": 17,
    "start_time": "2022-01-23T07:27:34.242Z"
   },
   {
    "duration": 13,
    "start_time": "2022-01-23T07:27:48.988Z"
   },
   {
    "duration": 20,
    "start_time": "2022-01-23T07:28:55.039Z"
   },
   {
    "duration": 8,
    "start_time": "2022-01-23T07:29:06.361Z"
   },
   {
    "duration": 12,
    "start_time": "2022-01-23T07:29:49.712Z"
   },
   {
    "duration": 7,
    "start_time": "2022-01-23T07:29:52.688Z"
   },
   {
    "duration": 230,
    "start_time": "2022-01-23T07:30:03.078Z"
   },
   {
    "duration": 7,
    "start_time": "2022-01-23T07:30:10.511Z"
   },
   {
    "duration": 7,
    "start_time": "2022-01-23T07:30:36.430Z"
   }
  ],
  "kernelspec": {
   "display_name": "Python 3",
   "language": "python",
   "name": "python3"
  },
  "language_info": {
   "codemirror_mode": {
    "name": "ipython",
    "version": 3
   },
   "file_extension": ".py",
   "mimetype": "text/x-python",
   "name": "python",
   "nbconvert_exporter": "python",
   "pygments_lexer": "ipython3",
   "version": "3.7.4"
  },
  "toc": {
   "base_numbering": 1,
   "nav_menu": {},
   "number_sections": true,
   "sideBar": true,
   "skip_h1_title": true,
   "title_cell": "Table of Contents",
   "title_sidebar": "Contents",
   "toc_cell": false,
   "toc_position": {},
   "toc_section_display": true,
   "toc_window_display": false
  }
 },
 "nbformat": 4,
 "nbformat_minor": 2
}

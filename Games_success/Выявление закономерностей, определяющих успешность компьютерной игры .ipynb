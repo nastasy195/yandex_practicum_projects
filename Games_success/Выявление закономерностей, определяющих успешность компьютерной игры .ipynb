{
 "cells": [
  {
   "cell_type": "markdown",
   "metadata": {},
   "source": [
    "# Выявление закономерностей, определяющих успешность компьютерных игр \n",
    "\n",
    "## Задача проекта:\n",
    "\n",
    "Из открытых источников доступны исторические данные о продажах игр, оценки их пользователями и экспертами, жанры и платформы. Цель: выявить закономерности, определяющие успешность компьютерных игр. Это позволит сделать ставку на потенциально популярный продукт и спланировать рекламные кампании. Данные до 2016 года. Представим, что сейчас декабрь 2016 г., и мы планируем кампанию на 2017-й."
   ]
  },
  {
   "cell_type": "markdown",
   "metadata": {},
   "source": [
    "# Шаг 1. Изучаю общую информацию"
   ]
  },
  {
   "cell_type": "code",
   "execution_count": 141,
   "metadata": {},
   "outputs": [],
   "source": [
    "# Импортирую необходимые библиотеки\n",
    "import pandas as pd\n",
    "import copy\n",
    "import matplotlib.pyplot as plt \n",
    "import seaborn as sns\n",
    "from scipy import stats as st\n",
    "import numpy as np\n",
    "#import missingno as msno\n",
    "%matplotlib inline\n",
    "# отключим предупреждения Anaconda\n",
    "import warnings\n",
    "warnings.simplefilter('ignore')\n",
    "sns.set_style(\"whitegrid\") # свойство sns устанавливать сетку для всех графиков\n",
    "from IPython.display import display_html\n",
    "from IPython.core.display import display, HTML\n",
    "# импорт модуля display_html из библиотеки IPython\n",
    "# импорт display, HTML из библиотеки IPython"
   ]
  },
  {
   "cell_type": "code",
   "execution_count": 142,
   "metadata": {},
   "outputs": [],
   "source": [
    "# чтение файла с данными и сохранение в переменной df\n",
    "# убрираю ограничение по выводу столбцов\n",
    "#df = pd.read_csv('games.csv')\n",
    "df = pd.read_csv('games.csv')\n",
    "\n",
    "pd.set_option('display.max_columns', None)"
   ]
  },
  {
   "cell_type": "code",
   "execution_count": 143,
   "metadata": {},
   "outputs": [
    {
     "data": {
      "text/html": [
       "<div>\n",
       "<style scoped>\n",
       "    .dataframe tbody tr th:only-of-type {\n",
       "        vertical-align: middle;\n",
       "    }\n",
       "\n",
       "    .dataframe tbody tr th {\n",
       "        vertical-align: top;\n",
       "    }\n",
       "\n",
       "    .dataframe thead th {\n",
       "        text-align: right;\n",
       "    }\n",
       "</style>\n",
       "<table border=\"1\" class=\"dataframe\">\n",
       "  <thead>\n",
       "    <tr style=\"text-align: right;\">\n",
       "      <th></th>\n",
       "      <th>Name</th>\n",
       "      <th>Platform</th>\n",
       "      <th>Year_of_Release</th>\n",
       "      <th>Genre</th>\n",
       "      <th>NA_sales</th>\n",
       "      <th>EU_sales</th>\n",
       "      <th>JP_sales</th>\n",
       "      <th>Other_sales</th>\n",
       "      <th>Critic_Score</th>\n",
       "      <th>User_Score</th>\n",
       "      <th>Rating</th>\n",
       "    </tr>\n",
       "  </thead>\n",
       "  <tbody>\n",
       "    <tr>\n",
       "      <td>0</td>\n",
       "      <td>Wii Sports</td>\n",
       "      <td>Wii</td>\n",
       "      <td>2006.0</td>\n",
       "      <td>Sports</td>\n",
       "      <td>41.36</td>\n",
       "      <td>28.96</td>\n",
       "      <td>3.77</td>\n",
       "      <td>8.45</td>\n",
       "      <td>76.0</td>\n",
       "      <td>8</td>\n",
       "      <td>E</td>\n",
       "    </tr>\n",
       "    <tr>\n",
       "      <td>1</td>\n",
       "      <td>Super Mario Bros.</td>\n",
       "      <td>NES</td>\n",
       "      <td>1985.0</td>\n",
       "      <td>Platform</td>\n",
       "      <td>29.08</td>\n",
       "      <td>3.58</td>\n",
       "      <td>6.81</td>\n",
       "      <td>0.77</td>\n",
       "      <td>NaN</td>\n",
       "      <td>NaN</td>\n",
       "      <td>NaN</td>\n",
       "    </tr>\n",
       "    <tr>\n",
       "      <td>2</td>\n",
       "      <td>Mario Kart Wii</td>\n",
       "      <td>Wii</td>\n",
       "      <td>2008.0</td>\n",
       "      <td>Racing</td>\n",
       "      <td>15.68</td>\n",
       "      <td>12.76</td>\n",
       "      <td>3.79</td>\n",
       "      <td>3.29</td>\n",
       "      <td>82.0</td>\n",
       "      <td>8.3</td>\n",
       "      <td>E</td>\n",
       "    </tr>\n",
       "    <tr>\n",
       "      <td>3</td>\n",
       "      <td>Wii Sports Resort</td>\n",
       "      <td>Wii</td>\n",
       "      <td>2009.0</td>\n",
       "      <td>Sports</td>\n",
       "      <td>15.61</td>\n",
       "      <td>10.93</td>\n",
       "      <td>3.28</td>\n",
       "      <td>2.95</td>\n",
       "      <td>80.0</td>\n",
       "      <td>8</td>\n",
       "      <td>E</td>\n",
       "    </tr>\n",
       "    <tr>\n",
       "      <td>4</td>\n",
       "      <td>Pokemon Red/Pokemon Blue</td>\n",
       "      <td>GB</td>\n",
       "      <td>1996.0</td>\n",
       "      <td>Role-Playing</td>\n",
       "      <td>11.27</td>\n",
       "      <td>8.89</td>\n",
       "      <td>10.22</td>\n",
       "      <td>1.00</td>\n",
       "      <td>NaN</td>\n",
       "      <td>NaN</td>\n",
       "      <td>NaN</td>\n",
       "    </tr>\n",
       "  </tbody>\n",
       "</table>\n",
       "</div>"
      ],
      "text/plain": [
       "                       Name Platform  Year_of_Release         Genre  NA_sales  \\\n",
       "0                Wii Sports      Wii           2006.0        Sports     41.36   \n",
       "1         Super Mario Bros.      NES           1985.0      Platform     29.08   \n",
       "2            Mario Kart Wii      Wii           2008.0        Racing     15.68   \n",
       "3         Wii Sports Resort      Wii           2009.0        Sports     15.61   \n",
       "4  Pokemon Red/Pokemon Blue       GB           1996.0  Role-Playing     11.27   \n",
       "\n",
       "   EU_sales  JP_sales  Other_sales  Critic_Score User_Score Rating  \n",
       "0     28.96      3.77         8.45          76.0          8      E  \n",
       "1      3.58      6.81         0.77           NaN        NaN    NaN  \n",
       "2     12.76      3.79         3.29          82.0        8.3      E  \n",
       "3     10.93      3.28         2.95          80.0          8      E  \n",
       "4      8.89     10.22         1.00           NaN        NaN    NaN  "
      ]
     },
     "execution_count": 143,
     "metadata": {},
     "output_type": "execute_result"
    }
   ],
   "source": [
    "df.head()"
   ]
  },
  {
   "cell_type": "code",
   "execution_count": 144,
   "metadata": {},
   "outputs": [
    {
     "data": {
      "text/html": [
       "<div>\n",
       "<style scoped>\n",
       "    .dataframe tbody tr th:only-of-type {\n",
       "        vertical-align: middle;\n",
       "    }\n",
       "\n",
       "    .dataframe tbody tr th {\n",
       "        vertical-align: top;\n",
       "    }\n",
       "\n",
       "    .dataframe thead th {\n",
       "        text-align: right;\n",
       "    }\n",
       "</style>\n",
       "<table border=\"1\" class=\"dataframe\">\n",
       "  <thead>\n",
       "    <tr style=\"text-align: right;\">\n",
       "      <th></th>\n",
       "      <th>Name</th>\n",
       "      <th>Platform</th>\n",
       "      <th>Year_of_Release</th>\n",
       "      <th>Genre</th>\n",
       "      <th>NA_sales</th>\n",
       "      <th>EU_sales</th>\n",
       "      <th>JP_sales</th>\n",
       "      <th>Other_sales</th>\n",
       "      <th>Critic_Score</th>\n",
       "      <th>User_Score</th>\n",
       "      <th>Rating</th>\n",
       "    </tr>\n",
       "  </thead>\n",
       "  <tbody>\n",
       "    <tr>\n",
       "      <td>14251</td>\n",
       "      <td>Diabolik Lovers: More Blood</td>\n",
       "      <td>PSP</td>\n",
       "      <td>2013.0</td>\n",
       "      <td>Adventure</td>\n",
       "      <td>0.00</td>\n",
       "      <td>0.00</td>\n",
       "      <td>0.03</td>\n",
       "      <td>0.00</td>\n",
       "      <td>NaN</td>\n",
       "      <td>NaN</td>\n",
       "      <td>NaN</td>\n",
       "    </tr>\n",
       "    <tr>\n",
       "      <td>125</td>\n",
       "      <td>Red Dead Redemption</td>\n",
       "      <td>PS3</td>\n",
       "      <td>2010.0</td>\n",
       "      <td>Action</td>\n",
       "      <td>2.79</td>\n",
       "      <td>2.53</td>\n",
       "      <td>0.17</td>\n",
       "      <td>0.99</td>\n",
       "      <td>95.0</td>\n",
       "      <td>8.8</td>\n",
       "      <td>M</td>\n",
       "    </tr>\n",
       "    <tr>\n",
       "      <td>9662</td>\n",
       "      <td>Criticom</td>\n",
       "      <td>PS</td>\n",
       "      <td>1996.0</td>\n",
       "      <td>Fighting</td>\n",
       "      <td>0.07</td>\n",
       "      <td>0.05</td>\n",
       "      <td>0.00</td>\n",
       "      <td>0.01</td>\n",
       "      <td>NaN</td>\n",
       "      <td>NaN</td>\n",
       "      <td>NaN</td>\n",
       "    </tr>\n",
       "    <tr>\n",
       "      <td>3870</td>\n",
       "      <td>NFL 2K3</td>\n",
       "      <td>XB</td>\n",
       "      <td>2002.0</td>\n",
       "      <td>Sports</td>\n",
       "      <td>0.38</td>\n",
       "      <td>0.11</td>\n",
       "      <td>0.00</td>\n",
       "      <td>0.02</td>\n",
       "      <td>NaN</td>\n",
       "      <td>NaN</td>\n",
       "      <td>NaN</td>\n",
       "    </tr>\n",
       "    <tr>\n",
       "      <td>12737</td>\n",
       "      <td>Senritsu no Stratus</td>\n",
       "      <td>PSP</td>\n",
       "      <td>2011.0</td>\n",
       "      <td>Role-Playing</td>\n",
       "      <td>0.00</td>\n",
       "      <td>0.00</td>\n",
       "      <td>0.06</td>\n",
       "      <td>0.00</td>\n",
       "      <td>NaN</td>\n",
       "      <td>NaN</td>\n",
       "      <td>NaN</td>\n",
       "    </tr>\n",
       "    <tr>\n",
       "      <td>9706</td>\n",
       "      <td>Rocksmith</td>\n",
       "      <td>PC</td>\n",
       "      <td>NaN</td>\n",
       "      <td>Misc</td>\n",
       "      <td>0.06</td>\n",
       "      <td>0.04</td>\n",
       "      <td>0.00</td>\n",
       "      <td>0.01</td>\n",
       "      <td>78.0</td>\n",
       "      <td>8.1</td>\n",
       "      <td>T</td>\n",
       "    </tr>\n",
       "    <tr>\n",
       "      <td>1143</td>\n",
       "      <td>Dragon Quest IV: Chapters of the Chosen</td>\n",
       "      <td>DS</td>\n",
       "      <td>2007.0</td>\n",
       "      <td>Role-Playing</td>\n",
       "      <td>0.30</td>\n",
       "      <td>0.02</td>\n",
       "      <td>1.27</td>\n",
       "      <td>0.03</td>\n",
       "      <td>80.0</td>\n",
       "      <td>7.9</td>\n",
       "      <td>E10+</td>\n",
       "    </tr>\n",
       "    <tr>\n",
       "      <td>14054</td>\n",
       "      <td>Fighting Vipers 2</td>\n",
       "      <td>DC</td>\n",
       "      <td>2000.0</td>\n",
       "      <td>Fighting</td>\n",
       "      <td>0.00</td>\n",
       "      <td>0.00</td>\n",
       "      <td>0.04</td>\n",
       "      <td>0.00</td>\n",
       "      <td>NaN</td>\n",
       "      <td>NaN</td>\n",
       "      <td>NaN</td>\n",
       "    </tr>\n",
       "    <tr>\n",
       "      <td>2080</td>\n",
       "      <td>UFC Undisputed 3</td>\n",
       "      <td>X360</td>\n",
       "      <td>2012.0</td>\n",
       "      <td>Action</td>\n",
       "      <td>0.72</td>\n",
       "      <td>0.20</td>\n",
       "      <td>0.00</td>\n",
       "      <td>0.08</td>\n",
       "      <td>85.0</td>\n",
       "      <td>7.6</td>\n",
       "      <td>T</td>\n",
       "    </tr>\n",
       "    <tr>\n",
       "      <td>4325</td>\n",
       "      <td>Sphinx and the Cursed Mummy</td>\n",
       "      <td>PS2</td>\n",
       "      <td>2003.0</td>\n",
       "      <td>Action</td>\n",
       "      <td>0.22</td>\n",
       "      <td>0.17</td>\n",
       "      <td>0.00</td>\n",
       "      <td>0.06</td>\n",
       "      <td>NaN</td>\n",
       "      <td>NaN</td>\n",
       "      <td>NaN</td>\n",
       "    </tr>\n",
       "  </tbody>\n",
       "</table>\n",
       "</div>"
      ],
      "text/plain": [
       "                                          Name Platform  Year_of_Release  \\\n",
       "14251              Diabolik Lovers: More Blood      PSP           2013.0   \n",
       "125                        Red Dead Redemption      PS3           2010.0   \n",
       "9662                                  Criticom       PS           1996.0   \n",
       "3870                                   NFL 2K3       XB           2002.0   \n",
       "12737                      Senritsu no Stratus      PSP           2011.0   \n",
       "9706                                 Rocksmith       PC              NaN   \n",
       "1143   Dragon Quest IV: Chapters of the Chosen       DS           2007.0   \n",
       "14054                        Fighting Vipers 2       DC           2000.0   \n",
       "2080                          UFC Undisputed 3     X360           2012.0   \n",
       "4325               Sphinx and the Cursed Mummy      PS2           2003.0   \n",
       "\n",
       "              Genre  NA_sales  EU_sales  JP_sales  Other_sales  Critic_Score  \\\n",
       "14251     Adventure      0.00      0.00      0.03         0.00           NaN   \n",
       "125          Action      2.79      2.53      0.17         0.99          95.0   \n",
       "9662       Fighting      0.07      0.05      0.00         0.01           NaN   \n",
       "3870         Sports      0.38      0.11      0.00         0.02           NaN   \n",
       "12737  Role-Playing      0.00      0.00      0.06         0.00           NaN   \n",
       "9706           Misc      0.06      0.04      0.00         0.01          78.0   \n",
       "1143   Role-Playing      0.30      0.02      1.27         0.03          80.0   \n",
       "14054      Fighting      0.00      0.00      0.04         0.00           NaN   \n",
       "2080         Action      0.72      0.20      0.00         0.08          85.0   \n",
       "4325         Action      0.22      0.17      0.00         0.06           NaN   \n",
       "\n",
       "      User_Score Rating  \n",
       "14251        NaN    NaN  \n",
       "125          8.8      M  \n",
       "9662         NaN    NaN  \n",
       "3870         NaN    NaN  \n",
       "12737        NaN    NaN  \n",
       "9706         8.1      T  \n",
       "1143         7.9   E10+  \n",
       "14054        NaN    NaN  \n",
       "2080         7.6      T  \n",
       "4325         NaN    NaN  "
      ]
     },
     "execution_count": 144,
     "metadata": {},
     "output_type": "execute_result"
    }
   ],
   "source": [
    "#вывожу случайные 10 сток датафрейма\n",
    "df.sample(10)"
   ]
  },
  {
   "cell_type": "code",
   "execution_count": 145,
   "metadata": {},
   "outputs": [
    {
     "name": "stdout",
     "output_type": "stream",
     "text": [
      "<class 'pandas.core.frame.DataFrame'>\n",
      "RangeIndex: 16715 entries, 0 to 16714\n",
      "Data columns (total 11 columns):\n",
      "Name               16713 non-null object\n",
      "Platform           16715 non-null object\n",
      "Year_of_Release    16446 non-null float64\n",
      "Genre              16713 non-null object\n",
      "NA_sales           16715 non-null float64\n",
      "EU_sales           16715 non-null float64\n",
      "JP_sales           16715 non-null float64\n",
      "Other_sales        16715 non-null float64\n",
      "Critic_Score       8137 non-null float64\n",
      "User_Score         10014 non-null object\n",
      "Rating             9949 non-null object\n",
      "dtypes: float64(6), object(5)\n",
      "memory usage: 1.4+ MB\n"
     ]
    }
   ],
   "source": [
    "# получение общей информации о данных в таблице\n",
    "df.info(10)"
   ]
  },
  {
   "cell_type": "markdown",
   "metadata": {},
   "source": [
    "На этапе предобработи нужно будет заменить тип данных. \n",
    "- Столбец 'Year_of_Release' (годы выпуска) даны в float, нужно в integer.\n",
    "- Стобец 'User_Score' (оценки пользователей) необходимо перевести из типа object в тип float."
   ]
  },
  {
   "cell_type": "code",
   "execution_count": 146,
   "metadata": {},
   "outputs": [
    {
     "data": {
      "text/plain": [
       "Index(['Name', 'Platform', 'Year_of_Release', 'Genre', 'NA_sales', 'EU_sales',\n",
       "       'JP_sales', 'Other_sales', 'Critic_Score', 'User_Score', 'Rating'],\n",
       "      dtype='object')"
      ]
     },
     "execution_count": 146,
     "metadata": {},
     "output_type": "execute_result"
    }
   ],
   "source": [
    "#Посмотрим какие столбцы у нас имеются и все ли с ними в порядке\n",
    "df.columns"
   ]
  },
  {
   "cell_type": "markdown",
   "metadata": {},
   "source": [
    "На этапе предобработки потребуется привести название столбцов в нижний регистр."
   ]
  },
  {
   "cell_type": "code",
   "execution_count": 147,
   "metadata": {},
   "outputs": [
    {
     "data": {
      "text/plain": [
       "Name                  2\n",
       "Platform              0\n",
       "Year_of_Release     269\n",
       "Genre                 2\n",
       "NA_sales              0\n",
       "EU_sales              0\n",
       "JP_sales              0\n",
       "Other_sales           0\n",
       "Critic_Score       8578\n",
       "User_Score         6701\n",
       "Rating             6766\n",
       "dtype: int64"
      ]
     },
     "execution_count": 147,
     "metadata": {},
     "output_type": "execute_result"
    }
   ],
   "source": [
    "#Посчитаем количество пустых значений\n",
    "df.isna().sum()"
   ]
  },
  {
   "cell_type": "code",
   "execution_count": 148,
   "metadata": {},
   "outputs": [],
   "source": [
    "# посмотрим на общее количество пропусков с помощью матрицы из библиотеки missingno\n",
    "#msno.matrix(df)"
   ]
  },
  {
   "cell_type": "code",
   "execution_count": 149,
   "metadata": {},
   "outputs": [
    {
     "data": {
      "text/plain": [
       "0"
      ]
     },
     "execution_count": 149,
     "metadata": {},
     "output_type": "execute_result"
    }
   ],
   "source": [
    "# проверяем на наличие явных дубликатов\n",
    "df.duplicated().sum()"
   ]
  },
  {
   "cell_type": "markdown",
   "metadata": {},
   "source": [
    "### Вывод:\n",
    "    \n",
    "- Больше всего пропусков в столбцах `Critic_Score`, `User_Score`, `Rating` - можно будет подумать, чем их заполнить.\n",
    "- Столбец `Year_of_Release` (годы выпуска) даны в float, нужно в integer. \n",
    "- Стобцы `User_Score` (оценки пользователей) в тип float. Данные столбца `Critic_score` (оценка критиков) необходимо перевести из типа object в integer.\n",
    "- В значениях столбца `User_Score` встречается tbd - \"to be defined\" - это отсутсвие оценки на момент выгрузки дата фрейма. Это нормальное явление для компьютерных игр. Компьютерная игра должна пройте через определенное количество игроков или экспертов-геймеров, чтобы они дали оценку игре, а также может вообще не пройти оценку, так что по всему миру крупные агенства по рейтингу игр могут не оставить оценку. Из-за этого в большинстве случаев отсутсвуют оценки игроков или ESRB оценка. \n",
    "- Немного пропусков в `Year_of_Release` - 269 пропусков. 2 пропуска в столбцах `Name` и `Genre`."
   ]
  },
  {
   "cell_type": "markdown",
   "metadata": {},
   "source": [
    "# Шаг 2. Предобработка данных."
   ]
  },
  {
   "cell_type": "code",
   "execution_count": 150,
   "metadata": {},
   "outputs": [
    {
     "data": {
      "text/plain": [
       "Index(['name', 'platform', 'year_of_release', 'genre', 'na_sales', 'eu_sales',\n",
       "       'jp_sales', 'other_sales', 'critic_score', 'user_score', 'rating'],\n",
       "      dtype='object')"
      ]
     },
     "execution_count": 150,
     "metadata": {},
     "output_type": "execute_result"
    }
   ],
   "source": [
    "# Заменим названия столбцов (приведем к нижнему регистру) \n",
    "df.columns = df.columns.str.lower()\n",
    "df.columns"
   ]
  },
  {
   "cell_type": "code",
   "execution_count": 151,
   "metadata": {},
   "outputs": [],
   "source": [
    "# заменим пропущенные значения в столбцах 'name' и 'genre' на unknown\n",
    "df.fillna(\n",
    "    {\"name\" : \"unknown\", \n",
    "     \"genre\" : \"unknown\"} \n",
    "    , inplace=True\n",
    ")"
   ]
  },
  {
   "cell_type": "code",
   "execution_count": 152,
   "metadata": {},
   "outputs": [],
   "source": [
    "# заменим значение \"tbd\" в столбце 'user_score' на NaN\n",
    "df['user_score'] = df['user_score'].replace(\"tbd\", np.NaN)"
   ]
  },
  {
   "cell_type": "code",
   "execution_count": 153,
   "metadata": {},
   "outputs": [],
   "source": [
    "# Заменю данные в столбцах year_of_release и critic_score в тип integer. Года и оценки критиков - целые числа.\n",
    "df['year_of_release'] = df['year_of_release'].astype('Int64')\n",
    "df['critic_score'] = df['critic_score'].astype('Int64')"
   ]
  },
  {
   "cell_type": "code",
   "execution_count": 154,
   "metadata": {},
   "outputs": [],
   "source": [
    "# Оценки пользователей приведем к типу float, т.к. на int не меняется из-за Nan\n",
    "df['user_score'] = df['user_score'].astype('float64')"
   ]
  },
  {
   "cell_type": "code",
   "execution_count": 155,
   "metadata": {},
   "outputs": [
    {
     "name": "stdout",
     "output_type": "stream",
     "text": [
      "<class 'pandas.core.frame.DataFrame'>\n",
      "RangeIndex: 16715 entries, 0 to 16714\n",
      "Data columns (total 11 columns):\n",
      "name               16715 non-null object\n",
      "platform           16715 non-null object\n",
      "year_of_release    16446 non-null Int64\n",
      "genre              16715 non-null object\n",
      "na_sales           16715 non-null float64\n",
      "eu_sales           16715 non-null float64\n",
      "jp_sales           16715 non-null float64\n",
      "other_sales        16715 non-null float64\n",
      "critic_score       8137 non-null Int64\n",
      "user_score         7590 non-null float64\n",
      "rating             9949 non-null object\n",
      "dtypes: Int64(2), float64(5), object(4)\n",
      "memory usage: 1.4+ MB\n"
     ]
    }
   ],
   "source": [
    "# Проверяю измененные типы данных\n",
    "df.info()"
   ]
  },
  {
   "cell_type": "markdown",
   "metadata": {},
   "source": [
    "Пропущенные данные в столбцах 'critic_score' и 'user_score' нельзя заполнить средним или медианным закономерностям по году или жанру. Каждая игра получает индивидуальную и оценку критиков и пользователей."
   ]
  },
  {
   "cell_type": "code",
   "execution_count": 156,
   "metadata": {},
   "outputs": [
    {
     "data": {
      "text/plain": [
       "array(['E', nan, 'M', 'T', 'E10+', 'K-A', 'AO', 'EC', 'RP'], dtype=object)"
      ]
     },
     "execution_count": 156,
     "metadata": {},
     "output_type": "execute_result"
    }
   ],
   "source": [
    "# выведем уникальные значения колонки rating\n",
    "df['rating'].unique()"
   ]
  },
  {
   "cell_type": "markdown",
   "metadata": {},
   "source": [
    "По данным `Playground` рейтинг K-A:\n",
    "Для детей – для тех, кто уже научился говорить и держать джойстик, эти игры уже могут вызывать интерес (позже в 1998 году был переименован в Е – для всех возрастов, а также чуть позже был добавлен рейтинг Е10+, как промежуточный между Е и Т)\n",
    "\n",
    "\n",
    "По данным `Wikipedia` рейтинг K-A:\n",
    "Игры с таким рейтингом, как видно из названия, нравятся и детям, и взрослым. Этот рейтинг использовался с 1994 по 1998 год, прежде чем он был заменен рейтингом для всех (E)\n",
    "\n",
    "\n",
    "**Вывод:** *Считаем, что значение категорий E и K-A идентичны.*. "
   ]
  },
  {
   "cell_type": "code",
   "execution_count": 157,
   "metadata": {},
   "outputs": [],
   "source": [
    "# заменим рейтинг K-A на E:\n",
    "df['rating'] = df['rating'].replace('K-A', 'E')"
   ]
  },
  {
   "cell_type": "markdown",
   "metadata": {},
   "source": [
    "Колонка rating имеем тип object, поэтому пропуски в ней заменим на `no_rating`."
   ]
  },
  {
   "cell_type": "code",
   "execution_count": 158,
   "metadata": {},
   "outputs": [],
   "source": [
    "df['rating'] = df['rating'].fillna('no_rating')"
   ]
  },
  {
   "cell_type": "markdown",
   "metadata": {},
   "source": [
    "- Попробую восстановить данные в столбце 'year_of_release'. В названиях игр иногда присутствует год. Попробую заполнить с помощью регулярных выражений."
   ]
  },
  {
   "cell_type": "code",
   "execution_count": 159,
   "metadata": {},
   "outputs": [],
   "source": [
    "# Создам столбец 'year' и с помощью регулярных выражений вычленю из столбца 'name' возможные годы выхода игр\n",
    "df['year'] = df['name'].str.extract(r'(\\d{2,4})')"
   ]
  },
  {
   "cell_type": "code",
   "execution_count": 160,
   "metadata": {},
   "outputs": [],
   "source": [
    "# Заменим Nan на 0\n",
    "df['year_of_release'] = df['year_of_release'].fillna(0)\n",
    "df['year'] = df['year'].fillna('0')"
   ]
  },
  {
   "cell_type": "code",
   "execution_count": 161,
   "metadata": {},
   "outputs": [],
   "source": [
    "# заменю тип данных на int\n",
    "df['year_of_release'] = df['year_of_release'].astype(int) \n",
    "df['year'] = df['year'].astype('int64')\n",
    "df.loc[df['year_of_release'] == 0, 'year_of_release'] = df['year']"
   ]
  },
  {
   "cell_type": "code",
   "execution_count": 162,
   "metadata": {},
   "outputs": [],
   "source": [
    "def change_year(row):\n",
    "    \"\"\"\n",
    "    Функция ищет в значениях столбца 'year_of_release' годы, которые записались \n",
    "    2-х значным числом, по последним цифрам года и перезаписывает их в 4-х значные,\n",
    "    а те, что не соответвуют выбранному диапозну годов - обнуляет, не трогая верные значения.\n",
    "    \"\"\"\n",
    "    if 0 < row <= 11:\n",
    "        row += 2000\n",
    "        return int(row)\n",
    "    elif 98 < row <= 99:\n",
    "        row += 1900\n",
    "        return int(row)\n",
    "    elif 19 < row <= 64:\n",
    "        row = 0\n",
    "        return int(row)\n",
    "    else:\n",
    "        pass\n",
    "        return int(row)\n",
    "    \n",
    "df['year_of_release'] = df['year_of_release'].apply(change_year) # применим функцию к столбцу 'year_of_release'"
   ]
  },
  {
   "cell_type": "code",
   "execution_count": 163,
   "metadata": {},
   "outputs": [
    {
     "data": {
      "text/plain": [
       "2008    1429\n",
       "2009    1427\n",
       "2010    1255\n",
       "2007    1200\n",
       "2011    1138\n",
       "2006    1009\n",
       "2005     941\n",
       "2002     830\n",
       "2003     779\n",
       "2004     764\n",
       "2012     653\n",
       "2015     606\n",
       "2014     581\n",
       "2013     545\n",
       "2016     502\n",
       "2001     482\n",
       "1998     379\n",
       "2000     350\n",
       "1999     340\n",
       "1997     289\n",
       "1996     263\n",
       "0        245\n",
       "1995     219\n",
       "1994     121\n",
       "1993      62\n",
       "1981      46\n",
       "1992      43\n",
       "1991      41\n",
       "1982      36\n",
       "1986      21\n",
       "1989      17\n",
       "1983      17\n",
       "1990      16\n",
       "1987      16\n",
       "1988      15\n",
       "1985      14\n",
       "1984      14\n",
       "1980       9\n",
       "500        1\n",
       "Name: year_of_release, dtype: int64"
      ]
     },
     "execution_count": 163,
     "metadata": {},
     "output_type": "execute_result"
    }
   ],
   "source": [
    "df['year_of_release'].value_counts()"
   ]
  },
  {
   "cell_type": "markdown",
   "metadata": {},
   "source": [
    "Удалось заполнить (269-245) = 24 значения в столбце 'year_of_release'."
   ]
  },
  {
   "cell_type": "code",
   "execution_count": 164,
   "metadata": {},
   "outputs": [],
   "source": [
    "df = df[df['year_of_release']>500]"
   ]
  },
  {
   "cell_type": "code",
   "execution_count": 165,
   "metadata": {},
   "outputs": [
    {
     "data": {
      "text/plain": [
       "2008    1429\n",
       "2009    1427\n",
       "2010    1255\n",
       "2007    1200\n",
       "2011    1138\n",
       "2006    1009\n",
       "2005     941\n",
       "2002     830\n",
       "2003     779\n",
       "2004     764\n",
       "2012     653\n",
       "2015     606\n",
       "2014     581\n",
       "2013     545\n",
       "2016     502\n",
       "2001     482\n",
       "1998     379\n",
       "2000     350\n",
       "1999     340\n",
       "1997     289\n",
       "1996     263\n",
       "1995     219\n",
       "1994     121\n",
       "1993      62\n",
       "1981      46\n",
       "1992      43\n",
       "1991      41\n",
       "1982      36\n",
       "1986      21\n",
       "1983      17\n",
       "1989      17\n",
       "1987      16\n",
       "1990      16\n",
       "1988      15\n",
       "1984      14\n",
       "1985      14\n",
       "1980       9\n",
       "Name: year_of_release, dtype: int64"
      ]
     },
     "execution_count": 165,
     "metadata": {},
     "output_type": "execute_result"
    }
   ],
   "source": [
    "df['year_of_release'].value_counts()"
   ]
  },
  {
   "cell_type": "code",
   "execution_count": 166,
   "metadata": {},
   "outputs": [],
   "source": [
    "# Добавление столбца 'all_sales', где буду хронить данные о суммарных продажах во всех регионах\n",
    "df['all_sales'] = df['na_sales'] + df['eu_sales'] + df['jp_sales'] + df['other_sales']"
   ]
  },
  {
   "cell_type": "code",
   "execution_count": 167,
   "metadata": {},
   "outputs": [
    {
     "data": {
      "text/html": [
       "<div>\n",
       "<style scoped>\n",
       "    .dataframe tbody tr th:only-of-type {\n",
       "        vertical-align: middle;\n",
       "    }\n",
       "\n",
       "    .dataframe tbody tr th {\n",
       "        vertical-align: top;\n",
       "    }\n",
       "\n",
       "    .dataframe thead th {\n",
       "        text-align: right;\n",
       "    }\n",
       "</style>\n",
       "<table border=\"1\" class=\"dataframe\">\n",
       "  <thead>\n",
       "    <tr style=\"text-align: right;\">\n",
       "      <th></th>\n",
       "      <th>name</th>\n",
       "      <th>platform</th>\n",
       "      <th>year_of_release</th>\n",
       "      <th>genre</th>\n",
       "      <th>na_sales</th>\n",
       "      <th>eu_sales</th>\n",
       "      <th>jp_sales</th>\n",
       "      <th>other_sales</th>\n",
       "      <th>critic_score</th>\n",
       "      <th>user_score</th>\n",
       "      <th>rating</th>\n",
       "      <th>year</th>\n",
       "      <th>all_sales</th>\n",
       "    </tr>\n",
       "  </thead>\n",
       "  <tbody>\n",
       "    <tr>\n",
       "      <td>0</td>\n",
       "      <td>Wii Sports</td>\n",
       "      <td>Wii</td>\n",
       "      <td>2006</td>\n",
       "      <td>Sports</td>\n",
       "      <td>41.36</td>\n",
       "      <td>28.96</td>\n",
       "      <td>3.77</td>\n",
       "      <td>8.45</td>\n",
       "      <td>76</td>\n",
       "      <td>8.0</td>\n",
       "      <td>E</td>\n",
       "      <td>0</td>\n",
       "      <td>82.54</td>\n",
       "    </tr>\n",
       "    <tr>\n",
       "      <td>1</td>\n",
       "      <td>Super Mario Bros.</td>\n",
       "      <td>NES</td>\n",
       "      <td>1985</td>\n",
       "      <td>Platform</td>\n",
       "      <td>29.08</td>\n",
       "      <td>3.58</td>\n",
       "      <td>6.81</td>\n",
       "      <td>0.77</td>\n",
       "      <td>NaN</td>\n",
       "      <td>NaN</td>\n",
       "      <td>no_rating</td>\n",
       "      <td>0</td>\n",
       "      <td>40.24</td>\n",
       "    </tr>\n",
       "    <tr>\n",
       "      <td>2</td>\n",
       "      <td>Mario Kart Wii</td>\n",
       "      <td>Wii</td>\n",
       "      <td>2008</td>\n",
       "      <td>Racing</td>\n",
       "      <td>15.68</td>\n",
       "      <td>12.76</td>\n",
       "      <td>3.79</td>\n",
       "      <td>3.29</td>\n",
       "      <td>82</td>\n",
       "      <td>8.3</td>\n",
       "      <td>E</td>\n",
       "      <td>0</td>\n",
       "      <td>35.52</td>\n",
       "    </tr>\n",
       "    <tr>\n",
       "      <td>3</td>\n",
       "      <td>Wii Sports Resort</td>\n",
       "      <td>Wii</td>\n",
       "      <td>2009</td>\n",
       "      <td>Sports</td>\n",
       "      <td>15.61</td>\n",
       "      <td>10.93</td>\n",
       "      <td>3.28</td>\n",
       "      <td>2.95</td>\n",
       "      <td>80</td>\n",
       "      <td>8.0</td>\n",
       "      <td>E</td>\n",
       "      <td>0</td>\n",
       "      <td>32.77</td>\n",
       "    </tr>\n",
       "    <tr>\n",
       "      <td>4</td>\n",
       "      <td>Pokemon Red/Pokemon Blue</td>\n",
       "      <td>GB</td>\n",
       "      <td>1996</td>\n",
       "      <td>Role-Playing</td>\n",
       "      <td>11.27</td>\n",
       "      <td>8.89</td>\n",
       "      <td>10.22</td>\n",
       "      <td>1.00</td>\n",
       "      <td>NaN</td>\n",
       "      <td>NaN</td>\n",
       "      <td>no_rating</td>\n",
       "      <td>0</td>\n",
       "      <td>31.38</td>\n",
       "    </tr>\n",
       "  </tbody>\n",
       "</table>\n",
       "</div>"
      ],
      "text/plain": [
       "                       name platform  year_of_release         genre  na_sales  \\\n",
       "0                Wii Sports      Wii             2006        Sports     41.36   \n",
       "1         Super Mario Bros.      NES             1985      Platform     29.08   \n",
       "2            Mario Kart Wii      Wii             2008        Racing     15.68   \n",
       "3         Wii Sports Resort      Wii             2009        Sports     15.61   \n",
       "4  Pokemon Red/Pokemon Blue       GB             1996  Role-Playing     11.27   \n",
       "\n",
       "   eu_sales  jp_sales  other_sales  critic_score  user_score     rating  year  \\\n",
       "0     28.96      3.77         8.45            76         8.0          E     0   \n",
       "1      3.58      6.81         0.77           NaN         NaN  no_rating     0   \n",
       "2     12.76      3.79         3.29            82         8.3          E     0   \n",
       "3     10.93      3.28         2.95            80         8.0          E     0   \n",
       "4      8.89     10.22         1.00           NaN         NaN  no_rating     0   \n",
       "\n",
       "   all_sales  \n",
       "0      82.54  \n",
       "1      40.24  \n",
       "2      35.52  \n",
       "3      32.77  \n",
       "4      31.38  "
      ]
     },
     "execution_count": 167,
     "metadata": {},
     "output_type": "execute_result"
    }
   ],
   "source": [
    "df.head()"
   ]
  },
  {
   "cell_type": "markdown",
   "metadata": {},
   "source": [
    "### Вывод: \n",
    "- Привела название столбцов к нижнему регистру.\n",
    "- Заменила тип данных в столбцах: формат столбца user_score на float, 'year_of_release' и 'year' на integer.\n",
    "- Заменала пропущенные значения там, где это можно было сделать.\n",
    "- Пропущенные данные в столбцах 'critic_score' и 'user_score' нельзя заполнить средним или медианным закономерностям по году или жанру. Т.е. каждая игра получает индивидуальную и оценку критиков и пользователей.\n",
    "- В колонке rating осуществлена замена устаревшего понятия К-А («Для детей и взрослых») на значение E («Для всех») соответсвии с текущей градацией и пропуски в колонке заменила на 'no_rating'.\n",
    "- Удалось заполнить 24 значения в столбце 'year_of_release' с помощью регулярных выражений.\n",
    "- В столбец 'all_sales', добавила данные о суммарных продажах во всех регионах."
   ]
  },
  {
   "cell_type": "markdown",
   "metadata": {},
   "source": [
    "# Шаг 3. Исследовательский анализ данных."
   ]
  },
  {
   "cell_type": "markdown",
   "metadata": {},
   "source": [
    "**1. Посмотрите, сколько игр выпускалось в разные годы. Важны ли данные за все периоды?**"
   ]
  },
  {
   "cell_type": "code",
   "execution_count": 168,
   "metadata": {},
   "outputs": [
    {
     "data": {
      "text/html": [
       "<div>\n",
       "<style scoped>\n",
       "    .dataframe tbody tr th:only-of-type {\n",
       "        vertical-align: middle;\n",
       "    }\n",
       "\n",
       "    .dataframe tbody tr th {\n",
       "        vertical-align: top;\n",
       "    }\n",
       "\n",
       "    .dataframe thead th {\n",
       "        text-align: right;\n",
       "    }\n",
       "</style>\n",
       "<table border=\"1\" class=\"dataframe\">\n",
       "  <thead>\n",
       "    <tr style=\"text-align: right;\">\n",
       "      <th></th>\n",
       "      <th>name</th>\n",
       "    </tr>\n",
       "    <tr>\n",
       "      <th>year_of_release</th>\n",
       "      <th></th>\n",
       "    </tr>\n",
       "  </thead>\n",
       "  <tbody>\n",
       "    <tr>\n",
       "      <td>1980</td>\n",
       "      <td>9</td>\n",
       "    </tr>\n",
       "    <tr>\n",
       "      <td>1981</td>\n",
       "      <td>46</td>\n",
       "    </tr>\n",
       "    <tr>\n",
       "      <td>1982</td>\n",
       "      <td>36</td>\n",
       "    </tr>\n",
       "    <tr>\n",
       "      <td>1983</td>\n",
       "      <td>17</td>\n",
       "    </tr>\n",
       "    <tr>\n",
       "      <td>1984</td>\n",
       "      <td>14</td>\n",
       "    </tr>\n",
       "    <tr>\n",
       "      <td>1985</td>\n",
       "      <td>14</td>\n",
       "    </tr>\n",
       "    <tr>\n",
       "      <td>1986</td>\n",
       "      <td>21</td>\n",
       "    </tr>\n",
       "    <tr>\n",
       "      <td>1987</td>\n",
       "      <td>16</td>\n",
       "    </tr>\n",
       "    <tr>\n",
       "      <td>1988</td>\n",
       "      <td>15</td>\n",
       "    </tr>\n",
       "    <tr>\n",
       "      <td>1989</td>\n",
       "      <td>17</td>\n",
       "    </tr>\n",
       "    <tr>\n",
       "      <td>1990</td>\n",
       "      <td>16</td>\n",
       "    </tr>\n",
       "    <tr>\n",
       "      <td>1991</td>\n",
       "      <td>41</td>\n",
       "    </tr>\n",
       "    <tr>\n",
       "      <td>1992</td>\n",
       "      <td>43</td>\n",
       "    </tr>\n",
       "    <tr>\n",
       "      <td>1993</td>\n",
       "      <td>62</td>\n",
       "    </tr>\n",
       "    <tr>\n",
       "      <td>1994</td>\n",
       "      <td>121</td>\n",
       "    </tr>\n",
       "    <tr>\n",
       "      <td>1995</td>\n",
       "      <td>219</td>\n",
       "    </tr>\n",
       "    <tr>\n",
       "      <td>1996</td>\n",
       "      <td>263</td>\n",
       "    </tr>\n",
       "    <tr>\n",
       "      <td>1997</td>\n",
       "      <td>289</td>\n",
       "    </tr>\n",
       "    <tr>\n",
       "      <td>1998</td>\n",
       "      <td>379</td>\n",
       "    </tr>\n",
       "    <tr>\n",
       "      <td>1999</td>\n",
       "      <td>340</td>\n",
       "    </tr>\n",
       "    <tr>\n",
       "      <td>2000</td>\n",
       "      <td>350</td>\n",
       "    </tr>\n",
       "    <tr>\n",
       "      <td>2001</td>\n",
       "      <td>482</td>\n",
       "    </tr>\n",
       "    <tr>\n",
       "      <td>2002</td>\n",
       "      <td>830</td>\n",
       "    </tr>\n",
       "    <tr>\n",
       "      <td>2003</td>\n",
       "      <td>779</td>\n",
       "    </tr>\n",
       "    <tr>\n",
       "      <td>2004</td>\n",
       "      <td>764</td>\n",
       "    </tr>\n",
       "    <tr>\n",
       "      <td>2005</td>\n",
       "      <td>941</td>\n",
       "    </tr>\n",
       "    <tr>\n",
       "      <td>2006</td>\n",
       "      <td>1009</td>\n",
       "    </tr>\n",
       "    <tr>\n",
       "      <td>2007</td>\n",
       "      <td>1200</td>\n",
       "    </tr>\n",
       "    <tr>\n",
       "      <td>2008</td>\n",
       "      <td>1429</td>\n",
       "    </tr>\n",
       "    <tr>\n",
       "      <td>2009</td>\n",
       "      <td>1427</td>\n",
       "    </tr>\n",
       "    <tr>\n",
       "      <td>2010</td>\n",
       "      <td>1255</td>\n",
       "    </tr>\n",
       "    <tr>\n",
       "      <td>2011</td>\n",
       "      <td>1138</td>\n",
       "    </tr>\n",
       "    <tr>\n",
       "      <td>2012</td>\n",
       "      <td>653</td>\n",
       "    </tr>\n",
       "    <tr>\n",
       "      <td>2013</td>\n",
       "      <td>545</td>\n",
       "    </tr>\n",
       "    <tr>\n",
       "      <td>2014</td>\n",
       "      <td>581</td>\n",
       "    </tr>\n",
       "    <tr>\n",
       "      <td>2015</td>\n",
       "      <td>606</td>\n",
       "    </tr>\n",
       "    <tr>\n",
       "      <td>2016</td>\n",
       "      <td>502</td>\n",
       "    </tr>\n",
       "  </tbody>\n",
       "</table>\n",
       "</div>"
      ],
      "text/plain": [
       "                 name\n",
       "year_of_release      \n",
       "1980                9\n",
       "1981               46\n",
       "1982               36\n",
       "1983               17\n",
       "1984               14\n",
       "1985               14\n",
       "1986               21\n",
       "1987               16\n",
       "1988               15\n",
       "1989               17\n",
       "1990               16\n",
       "1991               41\n",
       "1992               43\n",
       "1993               62\n",
       "1994              121\n",
       "1995              219\n",
       "1996              263\n",
       "1997              289\n",
       "1998              379\n",
       "1999              340\n",
       "2000              350\n",
       "2001              482\n",
       "2002              830\n",
       "2003              779\n",
       "2004              764\n",
       "2005              941\n",
       "2006             1009\n",
       "2007             1200\n",
       "2008             1429\n",
       "2009             1427\n",
       "2010             1255\n",
       "2011             1138\n",
       "2012              653\n",
       "2013              545\n",
       "2014              581\n",
       "2015              606\n",
       "2016              502"
      ]
     },
     "execution_count": 168,
     "metadata": {},
     "output_type": "execute_result"
    }
   ],
   "source": [
    "# группирую данные по играм и по году релиза\n",
    "years_groups = df.pivot_table(index='year_of_release', values='name', aggfunc='count') # исключаем все 0 и одно значение 500 (года выпуска), в те года игры были другие хе-хе\n",
    "years_groups"
   ]
  },
  {
   "cell_type": "code",
   "execution_count": 169,
   "metadata": {},
   "outputs": [
    {
     "data": {
      "image/png": "[encoded data removed]",
      "text/plain": [
       "<Figure size 864x432 with 1 Axes>"
      ]
     },
     "metadata": {},
     "output_type": "display_data"
    }
   ],
   "source": [
    "# Строю график\n",
    "plt.figure(figsize=(12,6))\n",
    "plt.plot(years_groups)\n",
    "plt.title('Количество игр выпускаемые в разные года')\n",
    "plt.xlabel(\"Год выпуска\")\n",
    "plt.ylabel(\"Количество выпущенных игр\")\n",
    "plt.grid()\n",
    "plt.show()"
   ]
  },
  {
   "cell_type": "markdown",
   "metadata": {},
   "source": [
    "- По графику видно, что данные за все периоды не важны.\n",
    "\n",
    "- С 1980 годов по 1993 мало выпущенных игр и спроса. Рост выпуска игр начался с 1994-1995г. Когда появились первые компьютеры для домашнего пользования.\n",
    "\n",
    "- К 2002 году видно, что выпустилось много игр. Так как компьютеры начали появляться почти в каждой семье и активно использовался интернет.\n",
    "\n",
    "- Максимум в 2009 это не только огромный спрос на компьютерне игры, но и распространенность компьютерных движков (разработка игр удешевилась, они быстрее начали выходить в релиз, поэтому их стало больше), кроме того широкополосной интернет достиг максимума своего распространения. Игры стали более реалистичны, с хорошей графикой и интереснее для пользователей. \n",
    "\n",
    "- Резкий упадок продаж 2012 по 2016 обусловлен требованиями к лицензированию игр, игры стали дороже, не все могли их себе позволить."
   ]
  },
  {
   "cell_type": "markdown",
   "metadata": {},
   "source": [
    "**2. Посмотрим, как менялись продажи по платформам. Выберите платформы с наибольшими суммарными продажами и постройте распределение по годам. За какой характерный срок появляются новые и исчезают старые платформы?**"
   ]
  },
  {
   "cell_type": "code",
   "execution_count": 170,
   "metadata": {},
   "outputs": [
    {
     "data": {
      "text/html": [
       "<div>\n",
       "<style scoped>\n",
       "    .dataframe tbody tr th:only-of-type {\n",
       "        vertical-align: middle;\n",
       "    }\n",
       "\n",
       "    .dataframe tbody tr th {\n",
       "        vertical-align: top;\n",
       "    }\n",
       "\n",
       "    .dataframe thead th {\n",
       "        text-align: right;\n",
       "    }\n",
       "</style>\n",
       "<table border=\"1\" class=\"dataframe\">\n",
       "  <thead>\n",
       "    <tr style=\"text-align: right;\">\n",
       "      <th></th>\n",
       "      <th>platform</th>\n",
       "      <th>all_sales</th>\n",
       "    </tr>\n",
       "  </thead>\n",
       "  <tbody>\n",
       "    <tr>\n",
       "      <td>16</td>\n",
       "      <td>PS2</td>\n",
       "      <td>1247.28</td>\n",
       "    </tr>\n",
       "    <tr>\n",
       "      <td>28</td>\n",
       "      <td>X360</td>\n",
       "      <td>961.88</td>\n",
       "    </tr>\n",
       "    <tr>\n",
       "      <td>17</td>\n",
       "      <td>PS3</td>\n",
       "      <td>931.34</td>\n",
       "    </tr>\n",
       "    <tr>\n",
       "      <td>26</td>\n",
       "      <td>Wii</td>\n",
       "      <td>892.37</td>\n",
       "    </tr>\n",
       "    <tr>\n",
       "      <td>4</td>\n",
       "      <td>DS</td>\n",
       "      <td>802.79</td>\n",
       "    </tr>\n",
       "    <tr>\n",
       "      <td>15</td>\n",
       "      <td>PS</td>\n",
       "      <td>729.04</td>\n",
       "    </tr>\n",
       "    <tr>\n",
       "      <td>18</td>\n",
       "      <td>PS4</td>\n",
       "      <td>314.14</td>\n",
       "    </tr>\n",
       "    <tr>\n",
       "      <td>6</td>\n",
       "      <td>GBA</td>\n",
       "      <td>312.88</td>\n",
       "    </tr>\n",
       "    <tr>\n",
       "      <td>19</td>\n",
       "      <td>PSP</td>\n",
       "      <td>291.18</td>\n",
       "    </tr>\n",
       "    <tr>\n",
       "      <td>2</td>\n",
       "      <td>3DS</td>\n",
       "      <td>257.81</td>\n",
       "    </tr>\n",
       "    <tr>\n",
       "      <td>13</td>\n",
       "      <td>PC</td>\n",
       "      <td>256.11</td>\n",
       "    </tr>\n",
       "    <tr>\n",
       "      <td>5</td>\n",
       "      <td>GB</td>\n",
       "      <td>254.43</td>\n",
       "    </tr>\n",
       "    <tr>\n",
       "      <td>29</td>\n",
       "      <td>XB</td>\n",
       "      <td>252.72</td>\n",
       "    </tr>\n",
       "    <tr>\n",
       "      <td>11</td>\n",
       "      <td>NES</td>\n",
       "      <td>251.05</td>\n",
       "    </tr>\n",
       "    <tr>\n",
       "      <td>10</td>\n",
       "      <td>N64</td>\n",
       "      <td>218.01</td>\n",
       "    </tr>\n",
       "    <tr>\n",
       "      <td>23</td>\n",
       "      <td>SNES</td>\n",
       "      <td>200.04</td>\n",
       "    </tr>\n",
       "    <tr>\n",
       "      <td>7</td>\n",
       "      <td>GC</td>\n",
       "      <td>197.03</td>\n",
       "    </tr>\n",
       "    <tr>\n",
       "      <td>30</td>\n",
       "      <td>XOne</td>\n",
       "      <td>159.32</td>\n",
       "    </tr>\n",
       "    <tr>\n",
       "      <td>0</td>\n",
       "      <td>2600</td>\n",
       "      <td>86.48</td>\n",
       "    </tr>\n",
       "    <tr>\n",
       "      <td>27</td>\n",
       "      <td>WiiU</td>\n",
       "      <td>82.19</td>\n",
       "    </tr>\n",
       "    <tr>\n",
       "      <td>20</td>\n",
       "      <td>PSV</td>\n",
       "      <td>53.81</td>\n",
       "    </tr>\n",
       "    <tr>\n",
       "      <td>21</td>\n",
       "      <td>SAT</td>\n",
       "      <td>33.59</td>\n",
       "    </tr>\n",
       "    <tr>\n",
       "      <td>8</td>\n",
       "      <td>GEN</td>\n",
       "      <td>30.77</td>\n",
       "    </tr>\n",
       "    <tr>\n",
       "      <td>3</td>\n",
       "      <td>DC</td>\n",
       "      <td>15.95</td>\n",
       "    </tr>\n",
       "    <tr>\n",
       "      <td>22</td>\n",
       "      <td>SCD</td>\n",
       "      <td>1.86</td>\n",
       "    </tr>\n",
       "    <tr>\n",
       "      <td>12</td>\n",
       "      <td>NG</td>\n",
       "      <td>1.44</td>\n",
       "    </tr>\n",
       "    <tr>\n",
       "      <td>25</td>\n",
       "      <td>WS</td>\n",
       "      <td>1.42</td>\n",
       "    </tr>\n",
       "    <tr>\n",
       "      <td>24</td>\n",
       "      <td>TG16</td>\n",
       "      <td>0.16</td>\n",
       "    </tr>\n",
       "    <tr>\n",
       "      <td>1</td>\n",
       "      <td>3DO</td>\n",
       "      <td>0.10</td>\n",
       "    </tr>\n",
       "    <tr>\n",
       "      <td>9</td>\n",
       "      <td>GG</td>\n",
       "      <td>0.04</td>\n",
       "    </tr>\n",
       "    <tr>\n",
       "      <td>14</td>\n",
       "      <td>PCFX</td>\n",
       "      <td>0.03</td>\n",
       "    </tr>\n",
       "  </tbody>\n",
       "</table>\n",
       "</div>"
      ],
      "text/plain": [
       "   platform  all_sales\n",
       "16      PS2    1247.28\n",
       "28     X360     961.88\n",
       "17      PS3     931.34\n",
       "26      Wii     892.37\n",
       "4        DS     802.79\n",
       "15       PS     729.04\n",
       "18      PS4     314.14\n",
       "6       GBA     312.88\n",
       "19      PSP     291.18\n",
       "2       3DS     257.81\n",
       "13       PC     256.11\n",
       "5        GB     254.43\n",
       "29       XB     252.72\n",
       "11      NES     251.05\n",
       "10      N64     218.01\n",
       "23     SNES     200.04\n",
       "7        GC     197.03\n",
       "30     XOne     159.32\n",
       "0      2600      86.48\n",
       "27     WiiU      82.19\n",
       "20      PSV      53.81\n",
       "21      SAT      33.59\n",
       "8       GEN      30.77\n",
       "3        DC      15.95\n",
       "22      SCD       1.86\n",
       "12       NG       1.44\n",
       "25       WS       1.42\n",
       "24     TG16       0.16\n",
       "1       3DO       0.10\n",
       "9        GG       0.04\n",
       "14     PCFX       0.03"
      ]
     },
     "execution_count": 170,
     "metadata": {},
     "output_type": "execute_result"
    }
   ],
   "source": [
    "platform_group = df.pivot_table(index='platform', values='all_sales', aggfunc='sum').reset_index().sort_values(by='all_sales', ascending=False)\n",
    "platform_group"
   ]
  },
  {
   "cell_type": "code",
   "execution_count": 171,
   "metadata": {},
   "outputs": [
    {
     "data": {
      "image/png": "[encoded data removed]",
      "text/plain": [
       "<Figure size 864x432 with 1 Axes>"
      ]
     },
     "metadata": {},
     "output_type": "display_data"
    },
    {
     "name": "stdout",
     "output_type": "stream",
     "text": [
      "Платформы с наибольшими суммарными продажами за весь период:\n",
      "   platform  all_sales\n",
      "16      PS2    1247.28\n",
      "28     X360     961.88\n",
      "17      PS3     931.34\n",
      "26      Wii     892.37\n",
      "4        DS     802.79\n"
     ]
    }
   ],
   "source": [
    "# Строю гистограмму распределения по годам\n",
    "plt.figure(figsize=(12,6))\n",
    "sns.barplot(platform_group['platform'], platform_group['all_sales'])\n",
    "plt.title('Платформы продаж')\n",
    "plt.xlabel(\"Платформы\")\n",
    "plt.ylabel(\"Количество продаж\")\n",
    "plt.xticks(rotation=70)\n",
    "plt.grid()\n",
    "plt.show()\n",
    "print('Платформы с наибольшими суммарными продажами за весь период:')\n",
    "print(platform_group.sort_values(by='all_sales', ascending=False).head(5))"
   ]
  },
  {
   "cell_type": "code",
   "execution_count": 172,
   "metadata": {},
   "outputs": [],
   "source": [
    "top_5 = ['PS2', 'X360', 'PS3', 'Wii', 'DS']"
   ]
  },
  {
   "cell_type": "code",
   "execution_count": 173,
   "metadata": {},
   "outputs": [
    {
     "data": {
      "text/html": [
       "<div>\n",
       "<style scoped>\n",
       "    .dataframe tbody tr th:only-of-type {\n",
       "        vertical-align: middle;\n",
       "    }\n",
       "\n",
       "    .dataframe tbody tr th {\n",
       "        vertical-align: top;\n",
       "    }\n",
       "\n",
       "    .dataframe thead th {\n",
       "        text-align: right;\n",
       "    }\n",
       "</style>\n",
       "<table border=\"1\" class=\"dataframe\">\n",
       "  <thead>\n",
       "    <tr style=\"text-align: right;\">\n",
       "      <th></th>\n",
       "      <th>platform</th>\n",
       "      <th>year_of_release</th>\n",
       "      <th>all_sales</th>\n",
       "    </tr>\n",
       "  </thead>\n",
       "  <tbody>\n",
       "    <tr>\n",
       "      <td>0</td>\n",
       "      <td>PS2</td>\n",
       "      <td>2004</td>\n",
       "      <td>220.55</td>\n",
       "    </tr>\n",
       "    <tr>\n",
       "      <td>1</td>\n",
       "      <td>Wii</td>\n",
       "      <td>2009</td>\n",
       "      <td>206.97</td>\n",
       "    </tr>\n",
       "    <tr>\n",
       "      <td>2</td>\n",
       "      <td>PS2</td>\n",
       "      <td>2002</td>\n",
       "      <td>205.38</td>\n",
       "    </tr>\n",
       "    <tr>\n",
       "      <td>3</td>\n",
       "      <td>PS2</td>\n",
       "      <td>2003</td>\n",
       "      <td>185.93</td>\n",
       "    </tr>\n",
       "    <tr>\n",
       "      <td>4</td>\n",
       "      <td>Wii</td>\n",
       "      <td>2008</td>\n",
       "      <td>171.32</td>\n",
       "    </tr>\n",
       "    <tr>\n",
       "      <td>5</td>\n",
       "      <td>X360</td>\n",
       "      <td>2010</td>\n",
       "      <td>170.03</td>\n",
       "    </tr>\n",
       "    <tr>\n",
       "      <td>6</td>\n",
       "      <td>PS2</td>\n",
       "      <td>2001</td>\n",
       "      <td>166.43</td>\n",
       "    </tr>\n",
       "    <tr>\n",
       "      <td>7</td>\n",
       "      <td>PS2</td>\n",
       "      <td>2005</td>\n",
       "      <td>160.98</td>\n",
       "    </tr>\n",
       "    <tr>\n",
       "      <td>8</td>\n",
       "      <td>PS3</td>\n",
       "      <td>2011</td>\n",
       "      <td>156.78</td>\n",
       "    </tr>\n",
       "    <tr>\n",
       "      <td>9</td>\n",
       "      <td>Wii</td>\n",
       "      <td>2007</td>\n",
       "      <td>153.24</td>\n",
       "    </tr>\n",
       "  </tbody>\n",
       "</table>\n",
       "</div>"
      ],
      "text/plain": [
       "  platform  year_of_release  all_sales\n",
       "0      PS2             2004     220.55\n",
       "1      Wii             2009     206.97\n",
       "2      PS2             2002     205.38\n",
       "3      PS2             2003     185.93\n",
       "4      Wii             2008     171.32\n",
       "5     X360             2010     170.03\n",
       "6      PS2             2001     166.43\n",
       "7      PS2             2005     160.98\n",
       "8      PS3             2011     156.78\n",
       "9      Wii             2007     153.24"
      ]
     },
     "execution_count": 173,
     "metadata": {},
     "output_type": "execute_result"
    }
   ],
   "source": [
    "# Создадим сводную таблицу по платформам и их суммарным продажам\n",
    "# отсортируем по убыванию и оставим только топ 5\n",
    "top_5_platform = df.loc[df['platform'].isin(top_5)].pivot_table(index=['platform', 'year_of_release'], values='all_sales', aggfunc='sum').sort_values(by='all_sales', ascending=False)\n",
    "top_5_platform = top_5_platform.reset_index()\n",
    "top_5_platform.head(10)"
   ]
  },
  {
   "cell_type": "code",
   "execution_count": 174,
   "metadata": {},
   "outputs": [
    {
     "data": {
      "image/png": "[encoded data removed]",
      "text/plain": [
       "<Figure size 1080x576 with 1 Axes>"
      ]
     },
     "metadata": {},
     "output_type": "display_data"
    }
   ],
   "source": [
    "#Возьмем топ 5 платформ и посмотрим их распределение по годам\n",
    "plt.figure(figsize=(15,8))\n",
    "plt.title('Количество продаж у 5 самых популярных игровых платформ')\n",
    "plt.xlabel('Годы выхода игр')\n",
    "plt.ylabel('Продажи')\n",
    "\n",
    "\n",
    "for platform in top_5:\n",
    "    rez = top_5_platform.loc[top_5_platform['platform'] == platform]\n",
    "    rez = rez.set_index('platform')\n",
    "    sns.lineplot(x=rez['year_of_release'], y=rez['all_sales'], label=platform)    \n",
    "    plt.legend()"
   ]
  },
  {
   "cell_type": "code",
   "execution_count": 175,
   "metadata": {},
   "outputs": [
    {
     "data": {
      "image/png": "[encoded data removed]",
      "text/plain": [
       "<Figure size 1440x720 with 1 Axes>"
      ]
     },
     "metadata": {},
     "output_type": "display_data"
    }
   ],
   "source": [
    "# Смотрю, сколько \"живет\" каждая платформа из топ-5 платформ\n",
    "plt.figure(figsize=(20, 10))\n",
    "\n",
    "sns.barplot(x='year_of_release', y='all_sales', hue='platform', estimator = np.sum,\n",
    "           data=df.query('platform == @top_5 and year_of_release != 0'), ci=0) # не беру в расчет 0\n",
    "plt.xlabel('характерный срок жизни каждой из топовых платформ', fontsize=20)\n",
    "plt.xlabel('Годы выпуска', fontsize=15)\n",
    "plt.ylabel('Суммарные продажи', fontsize=15)\n",
    "plt.xticks(rotation=90)\n",
    "plt.show()"
   ]
  },
  {
   "cell_type": "markdown",
   "metadata": {},
   "source": [
    "**Вывод:**\n",
    "\n",
    "- Практически все игровые платформы в среднем \"живут\" около 8-10 лет. О том, за какой срок появляются новые платформы - по гистограмме можно сказать, что в среднем за 1-2 года.\n",
    "- Все наши лидеры изживают себя к 2016 году. Видимо, взамен им приходят новые более прикольные платформы.\n",
    "- Cамые продаваемые это платформы Wii и X360. DS очень старая платформа, аж с 1985 года.\n",
    "- Самый пик популярности наступает примерно через 3-5 лет после выхода платформы."
   ]
  },
  {
   "cell_type": "markdown",
   "metadata": {},
   "source": [
    "**3. Возьмите данные за соответствующий актуальный период. Актуальный период определите самостоятельно в результате исследования предыдущих вопросов. Основной фактор — эти данные помогут построить прогноз на 2017 год. Не учитывайте в работе данные за предыдущие годы. Какие платформы лидируют по продажам, растут или падают? Выберите несколько потенциально прибыльных платформ.**"
   ]
  },
  {
   "cell_type": "code",
   "execution_count": 176,
   "metadata": {},
   "outputs": [
    {
     "data": {
      "text/html": [
       "<div>\n",
       "<style scoped>\n",
       "    .dataframe tbody tr th:only-of-type {\n",
       "        vertical-align: middle;\n",
       "    }\n",
       "\n",
       "    .dataframe tbody tr th {\n",
       "        vertical-align: top;\n",
       "    }\n",
       "\n",
       "    .dataframe thead th {\n",
       "        text-align: right;\n",
       "    }\n",
       "</style>\n",
       "<table border=\"1\" class=\"dataframe\">\n",
       "  <thead>\n",
       "    <tr style=\"text-align: right;\">\n",
       "      <th></th>\n",
       "      <th>name</th>\n",
       "      <th>platform</th>\n",
       "      <th>year_of_release</th>\n",
       "      <th>genre</th>\n",
       "      <th>na_sales</th>\n",
       "      <th>eu_sales</th>\n",
       "      <th>jp_sales</th>\n",
       "      <th>other_sales</th>\n",
       "      <th>critic_score</th>\n",
       "      <th>user_score</th>\n",
       "      <th>rating</th>\n",
       "      <th>year</th>\n",
       "      <th>all_sales</th>\n",
       "    </tr>\n",
       "  </thead>\n",
       "  <tbody>\n",
       "    <tr>\n",
       "      <td>31</td>\n",
       "      <td>Call of Duty: Black Ops 3</td>\n",
       "      <td>PS4</td>\n",
       "      <td>2015</td>\n",
       "      <td>Shooter</td>\n",
       "      <td>6.03</td>\n",
       "      <td>5.86</td>\n",
       "      <td>0.36</td>\n",
       "      <td>2.38</td>\n",
       "      <td>NaN</td>\n",
       "      <td>NaN</td>\n",
       "      <td>no_rating</td>\n",
       "      <td>0</td>\n",
       "      <td>14.63</td>\n",
       "    </tr>\n",
       "    <tr>\n",
       "      <td>42</td>\n",
       "      <td>Grand Theft Auto V</td>\n",
       "      <td>PS4</td>\n",
       "      <td>2014</td>\n",
       "      <td>Action</td>\n",
       "      <td>3.96</td>\n",
       "      <td>6.31</td>\n",
       "      <td>0.38</td>\n",
       "      <td>1.97</td>\n",
       "      <td>97</td>\n",
       "      <td>8.3</td>\n",
       "      <td>M</td>\n",
       "      <td>0</td>\n",
       "      <td>12.62</td>\n",
       "    </tr>\n",
       "    <tr>\n",
       "      <td>47</td>\n",
       "      <td>Pokemon Omega Ruby/Pokemon Alpha Sapphire</td>\n",
       "      <td>3DS</td>\n",
       "      <td>2014</td>\n",
       "      <td>Role-Playing</td>\n",
       "      <td>4.35</td>\n",
       "      <td>3.49</td>\n",
       "      <td>3.10</td>\n",
       "      <td>0.74</td>\n",
       "      <td>NaN</td>\n",
       "      <td>NaN</td>\n",
       "      <td>no_rating</td>\n",
       "      <td>0</td>\n",
       "      <td>11.68</td>\n",
       "    </tr>\n",
       "    <tr>\n",
       "      <td>77</td>\n",
       "      <td>FIFA 16</td>\n",
       "      <td>PS4</td>\n",
       "      <td>2015</td>\n",
       "      <td>Sports</td>\n",
       "      <td>1.12</td>\n",
       "      <td>6.12</td>\n",
       "      <td>0.06</td>\n",
       "      <td>1.28</td>\n",
       "      <td>82</td>\n",
       "      <td>4.3</td>\n",
       "      <td>E</td>\n",
       "      <td>16</td>\n",
       "      <td>8.58</td>\n",
       "    </tr>\n",
       "    <tr>\n",
       "      <td>87</td>\n",
       "      <td>Star Wars Battlefront (2015)</td>\n",
       "      <td>PS4</td>\n",
       "      <td>2015</td>\n",
       "      <td>Shooter</td>\n",
       "      <td>2.99</td>\n",
       "      <td>3.49</td>\n",
       "      <td>0.22</td>\n",
       "      <td>1.28</td>\n",
       "      <td>NaN</td>\n",
       "      <td>NaN</td>\n",
       "      <td>no_rating</td>\n",
       "      <td>2015</td>\n",
       "      <td>7.98</td>\n",
       "    </tr>\n",
       "    <tr>\n",
       "      <td>...</td>\n",
       "      <td>...</td>\n",
       "      <td>...</td>\n",
       "      <td>...</td>\n",
       "      <td>...</td>\n",
       "      <td>...</td>\n",
       "      <td>...</td>\n",
       "      <td>...</td>\n",
       "      <td>...</td>\n",
       "      <td>...</td>\n",
       "      <td>...</td>\n",
       "      <td>...</td>\n",
       "      <td>...</td>\n",
       "      <td>...</td>\n",
       "    </tr>\n",
       "    <tr>\n",
       "      <td>16703</td>\n",
       "      <td>Strawberry Nauts</td>\n",
       "      <td>PSV</td>\n",
       "      <td>2016</td>\n",
       "      <td>Adventure</td>\n",
       "      <td>0.00</td>\n",
       "      <td>0.00</td>\n",
       "      <td>0.01</td>\n",
       "      <td>0.00</td>\n",
       "      <td>NaN</td>\n",
       "      <td>NaN</td>\n",
       "      <td>no_rating</td>\n",
       "      <td>0</td>\n",
       "      <td>0.01</td>\n",
       "    </tr>\n",
       "    <tr>\n",
       "      <td>16707</td>\n",
       "      <td>Aiyoku no Eustia</td>\n",
       "      <td>PSV</td>\n",
       "      <td>2014</td>\n",
       "      <td>Misc</td>\n",
       "      <td>0.00</td>\n",
       "      <td>0.00</td>\n",
       "      <td>0.01</td>\n",
       "      <td>0.00</td>\n",
       "      <td>NaN</td>\n",
       "      <td>NaN</td>\n",
       "      <td>no_rating</td>\n",
       "      <td>0</td>\n",
       "      <td>0.01</td>\n",
       "    </tr>\n",
       "    <tr>\n",
       "      <td>16710</td>\n",
       "      <td>Samurai Warriors: Sanada Maru</td>\n",
       "      <td>PS3</td>\n",
       "      <td>2016</td>\n",
       "      <td>Action</td>\n",
       "      <td>0.00</td>\n",
       "      <td>0.00</td>\n",
       "      <td>0.01</td>\n",
       "      <td>0.00</td>\n",
       "      <td>NaN</td>\n",
       "      <td>NaN</td>\n",
       "      <td>no_rating</td>\n",
       "      <td>0</td>\n",
       "      <td>0.01</td>\n",
       "    </tr>\n",
       "    <tr>\n",
       "      <td>16712</td>\n",
       "      <td>Haitaka no Psychedelica</td>\n",
       "      <td>PSV</td>\n",
       "      <td>2016</td>\n",
       "      <td>Adventure</td>\n",
       "      <td>0.00</td>\n",
       "      <td>0.00</td>\n",
       "      <td>0.01</td>\n",
       "      <td>0.00</td>\n",
       "      <td>NaN</td>\n",
       "      <td>NaN</td>\n",
       "      <td>no_rating</td>\n",
       "      <td>0</td>\n",
       "      <td>0.01</td>\n",
       "    </tr>\n",
       "    <tr>\n",
       "      <td>16714</td>\n",
       "      <td>Winning Post 8 2016</td>\n",
       "      <td>PSV</td>\n",
       "      <td>2016</td>\n",
       "      <td>Simulation</td>\n",
       "      <td>0.00</td>\n",
       "      <td>0.00</td>\n",
       "      <td>0.01</td>\n",
       "      <td>0.00</td>\n",
       "      <td>NaN</td>\n",
       "      <td>NaN</td>\n",
       "      <td>no_rating</td>\n",
       "      <td>2016</td>\n",
       "      <td>0.01</td>\n",
       "    </tr>\n",
       "  </tbody>\n",
       "</table>\n",
       "<p>1689 rows × 13 columns</p>\n",
       "</div>"
      ],
      "text/plain": [
       "                                            name platform  year_of_release  \\\n",
       "31                     Call of Duty: Black Ops 3      PS4             2015   \n",
       "42                            Grand Theft Auto V      PS4             2014   \n",
       "47     Pokemon Omega Ruby/Pokemon Alpha Sapphire      3DS             2014   \n",
       "77                                       FIFA 16      PS4             2015   \n",
       "87                  Star Wars Battlefront (2015)      PS4             2015   \n",
       "...                                          ...      ...              ...   \n",
       "16703                           Strawberry Nauts      PSV             2016   \n",
       "16707                           Aiyoku no Eustia      PSV             2014   \n",
       "16710              Samurai Warriors: Sanada Maru      PS3             2016   \n",
       "16712                    Haitaka no Psychedelica      PSV             2016   \n",
       "16714                        Winning Post 8 2016      PSV             2016   \n",
       "\n",
       "              genre  na_sales  eu_sales  jp_sales  other_sales  critic_score  \\\n",
       "31          Shooter      6.03      5.86      0.36         2.38           NaN   \n",
       "42           Action      3.96      6.31      0.38         1.97            97   \n",
       "47     Role-Playing      4.35      3.49      3.10         0.74           NaN   \n",
       "77           Sports      1.12      6.12      0.06         1.28            82   \n",
       "87          Shooter      2.99      3.49      0.22         1.28           NaN   \n",
       "...             ...       ...       ...       ...          ...           ...   \n",
       "16703     Adventure      0.00      0.00      0.01         0.00           NaN   \n",
       "16707          Misc      0.00      0.00      0.01         0.00           NaN   \n",
       "16710        Action      0.00      0.00      0.01         0.00           NaN   \n",
       "16712     Adventure      0.00      0.00      0.01         0.00           NaN   \n",
       "16714    Simulation      0.00      0.00      0.01         0.00           NaN   \n",
       "\n",
       "       user_score     rating  year  all_sales  \n",
       "31            NaN  no_rating     0      14.63  \n",
       "42            8.3          M     0      12.62  \n",
       "47            NaN  no_rating     0      11.68  \n",
       "77            4.3          E    16       8.58  \n",
       "87            NaN  no_rating  2015       7.98  \n",
       "...           ...        ...   ...        ...  \n",
       "16703         NaN  no_rating     0       0.01  \n",
       "16707         NaN  no_rating     0       0.01  \n",
       "16710         NaN  no_rating     0       0.01  \n",
       "16712         NaN  no_rating     0       0.01  \n",
       "16714         NaN  no_rating  2016       0.01  \n",
       "\n",
       "[1689 rows x 13 columns]"
      ]
     },
     "execution_count": 176,
     "metadata": {},
     "output_type": "execute_result"
    }
   ],
   "source": [
    "#берем актуальный период от 2014 года:\n",
    "df = df.loc[df['year_of_release'] >= 2014]\n",
    "df"
   ]
  },
  {
   "cell_type": "markdown",
   "metadata": {},
   "source": [
    " Выясним, какие платформы лидируют по продажам, растут или падают? Выберем несколько потенциально прибыльных платформ."
   ]
  },
  {
   "cell_type": "code",
   "execution_count": 177,
   "metadata": {},
   "outputs": [
    {
     "data": {
      "image/png": "[encoded data removed]",
      "text/plain": [
       "<Figure size 1080x576 with 1 Axes>"
      ]
     },
     "metadata": {},
     "output_type": "display_data"
    }
   ],
   "source": [
    "#Возьмем актуальный период и посмотрим распределение по годам\n",
    "plt.figure(figsize=(15,8))\n",
    "plt.title('Количество продаж по игровым платформам')\n",
    "\n",
    "\n",
    "for platform in df['platform'].unique():\n",
    "    rez = df.loc[df['platform'] == platform]\n",
    "    rez = rez.set_index('platform')\n",
    "    sns.lineplot(x=rez.groupby(\"year_of_release\")['all_sales'].sum().index, \n",
    "                 y=rez.groupby(\"year_of_release\")['all_sales'].sum(), label=platform)  \n",
    "    plt.xlabel('Годы выхода игр')\n",
    "    plt.ylabel('Продажи')\n",
    "    plt.legend(bbox_to_anchor=(1.02, 1), loc='upper left', borderaxespad=0)"
   ]
  },
  {
   "cell_type": "markdown",
   "metadata": {},
   "source": [
    "*Вывод:*\n",
    "\n",
    "В целом видно, что продажи по всем платформам падают. Потенциально прибыльными платформами судя по графику, можно считать: PS4, XOne, 3DS. PC и Wii хоть и не столь популярны, как вышеописанные платформы, но по графику видно, как равнамерны линии, хоть и результаты не высоки, можно сказать, что PC и Wii стабильные платформа и их нельзя сбрасывать со счетов.\n",
    "По всем остальным платформам продажи приблизительно одинаковые."
   ]
  },
  {
   "cell_type": "markdown",
   "metadata": {},
   "source": [
    "**4. Постройте график «ящик с усами» по глобальным продажам игр в разбивке по платформам. Опишите результат.** "
   ]
  },
  {
   "cell_type": "code",
   "execution_count": 178,
   "metadata": {},
   "outputs": [],
   "source": [
    "#Сохраню в переменной top_5_platform топ 5 платформ и избавлюсь от выбросов (< 1.4)\n",
    "top_5_platform = df[df['platform'].isin(['PS4', 'XOne', '3DS', 'PC', 'Wii'])]\n",
    "top_5_platform = top_5_platform[top_5_platform['all_sales'] < 1.4]"
   ]
  },
  {
   "cell_type": "code",
   "execution_count": 179,
   "metadata": {},
   "outputs": [
    {
     "data": {
      "image/png": "[encoded data removed]",
      "text/plain": [
       "<Figure size 720x576 with 1 Axes>"
      ]
     },
     "metadata": {},
     "output_type": "display_data"
    }
   ],
   "source": [
    "#Отрисуем \"ящик с усами\" для каждой платформы \n",
    "plt.figure(figsize=(10,8))\n",
    "sns.boxplot(data=top_5_platform, x='platform', y='all_sales')\n",
    "plt.title('\"boxplot\"', fontsize=15)\n",
    "plt.xlabel('Платформы', fontsize=12)\n",
    "plt.ylabel('Глобальные продажи',fontsize=12)\n",
    "plt.show()"
   ]
  },
  {
   "cell_type": "markdown",
   "metadata": {},
   "source": [
    "**Вывод:**\n",
    "- Видно, что медиана по глобальным продажам протекает у всех топ-платформ по разному.\n",
    "- Больше всех глобальных продаж у Wii, затем XOne, PS4, последние - 3DS и PC. "
   ]
  },
  {
   "cell_type": "markdown",
   "metadata": {},
   "source": [
    "**5. Посмотрите, как влияют на продажи внутри одной популярной платформы отзывы пользователей и критиков.  Постройте диаграмму рассеяния и посчитайте корреляцию между отзывами и продажами. Сформулируйте выводы.**"
   ]
  },
  {
   "cell_type": "code",
   "execution_count": 180,
   "metadata": {},
   "outputs": [],
   "source": [
    "# Беру популярную платформу из топ-5 - XOne:\n",
    "xone = df[df['platform']=='XOne']"
   ]
  },
  {
   "cell_type": "code",
   "execution_count": 181,
   "metadata": {},
   "outputs": [
    {
     "data": {
      "image/png": "[encoded data removed]",
      "text/plain": [
       "<Figure size 540x540 with 12 Axes>"
      ]
     },
     "metadata": {},
     "output_type": "display_data"
    }
   ],
   "source": [
    "# Диаграмма рассеяния для XOne:\n",
    "sns.pairplot(xone[['all_sales', 'critic_score', 'user_score']])\n",
    "plt.show()"
   ]
  },
  {
   "cell_type": "markdown",
   "metadata": {},
   "source": [
    "Вывод: \n",
    "- Игры с высокой оценкой критиков продаются лучше.\n",
    "- Видно, что есть игры с высокой оценкой пользователей, но они плохо продаются. Т.е. оценка пользователей слабо влияет на продажи. Покупатели больше прислушиваются к критикам."
   ]
  },
  {
   "cell_type": "code",
   "execution_count": 182,
   "metadata": {
    "scrolled": true
   },
   "outputs": [
    {
     "data": {
      "text/html": [
       "<style  type=\"text/css\" >\n",
       "    #T_bc72b97e_a13b_11ec_b77d_02420a398b59row0_col0 {\n",
       "            background-color:  #b40426;\n",
       "            color:  #f1f1f1;\n",
       "        }    #T_bc72b97e_a13b_11ec_b77d_02420a398b59row0_col1 {\n",
       "            background-color:  #3b4cc0;\n",
       "            color:  #f1f1f1;\n",
       "        }    #T_bc72b97e_a13b_11ec_b77d_02420a398b59row0_col2 {\n",
       "            background-color:  #3b4cc0;\n",
       "            color:  #f1f1f1;\n",
       "        }    #T_bc72b97e_a13b_11ec_b77d_02420a398b59row1_col0 {\n",
       "            background-color:  #d4dbe6;\n",
       "            color:  #000000;\n",
       "        }    #T_bc72b97e_a13b_11ec_b77d_02420a398b59row1_col1 {\n",
       "            background-color:  #b40426;\n",
       "            color:  #f1f1f1;\n",
       "        }    #T_bc72b97e_a13b_11ec_b77d_02420a398b59row1_col2 {\n",
       "            background-color:  #d7dce3;\n",
       "            color:  #000000;\n",
       "        }    #T_bc72b97e_a13b_11ec_b77d_02420a398b59row2_col0 {\n",
       "            background-color:  #3b4cc0;\n",
       "            color:  #f1f1f1;\n",
       "        }    #T_bc72b97e_a13b_11ec_b77d_02420a398b59row2_col1 {\n",
       "            background-color:  #4055c8;\n",
       "            color:  #f1f1f1;\n",
       "        }    #T_bc72b97e_a13b_11ec_b77d_02420a398b59row2_col2 {\n",
       "            background-color:  #b40426;\n",
       "            color:  #f1f1f1;\n",
       "        }</style><table id=\"T_bc72b97e_a13b_11ec_b77d_02420a398b59\" ><thead>    <tr>        <th class=\"blank level0\" ></th>        <th class=\"col_heading level0 col0\" >all_sales</th>        <th class=\"col_heading level0 col1\" >critic_score</th>        <th class=\"col_heading level0 col2\" >user_score</th>    </tr></thead><tbody>\n",
       "                <tr>\n",
       "                        <th id=\"T_bc72b97e_a13b_11ec_b77d_02420a398b59level0_row0\" class=\"row_heading level0 row0\" >all_sales</th>\n",
       "                        <td id=\"T_bc72b97e_a13b_11ec_b77d_02420a398b59row0_col0\" class=\"data row0 col0\" >1</td>\n",
       "                        <td id=\"T_bc72b97e_a13b_11ec_b77d_02420a398b59row0_col1\" class=\"data row0 col1\" >0.428677</td>\n",
       "                        <td id=\"T_bc72b97e_a13b_11ec_b77d_02420a398b59row0_col2\" class=\"data row0 col2\" >-0.0703839</td>\n",
       "            </tr>\n",
       "            <tr>\n",
       "                        <th id=\"T_bc72b97e_a13b_11ec_b77d_02420a398b59level0_row1\" class=\"row_heading level0 row1\" >critic_score</th>\n",
       "                        <td id=\"T_bc72b97e_a13b_11ec_b77d_02420a398b59row1_col0\" class=\"data row1 col0\" >0.428677</td>\n",
       "                        <td id=\"T_bc72b97e_a13b_11ec_b77d_02420a398b59row1_col1\" class=\"data row1 col1\" >1</td>\n",
       "                        <td id=\"T_bc72b97e_a13b_11ec_b77d_02420a398b59row1_col2\" class=\"data row1 col2\" >0.440977</td>\n",
       "            </tr>\n",
       "            <tr>\n",
       "                        <th id=\"T_bc72b97e_a13b_11ec_b77d_02420a398b59level0_row2\" class=\"row_heading level0 row2\" >user_score</th>\n",
       "                        <td id=\"T_bc72b97e_a13b_11ec_b77d_02420a398b59row2_col0\" class=\"data row2 col0\" >-0.0703839</td>\n",
       "                        <td id=\"T_bc72b97e_a13b_11ec_b77d_02420a398b59row2_col1\" class=\"data row2 col1\" >0.440977</td>\n",
       "                        <td id=\"T_bc72b97e_a13b_11ec_b77d_02420a398b59row2_col2\" class=\"data row2 col2\" >1</td>\n",
       "            </tr>\n",
       "    </tbody></table>"
      ],
      "text/plain": [
       "<pandas.io.formats.style.Styler at 0x7fb6188b1d10>"
      ]
     },
     "execution_count": 182,
     "metadata": {},
     "output_type": "execute_result"
    }
   ],
   "source": [
    "# Построю еще матрицу корреляции:\n",
    "corr  = xone[['all_sales', 'critic_score', 'user_score']].corr()\n",
    "corr.style.background_gradient('coolwarm')"
   ]
  },
  {
   "cell_type": "markdown",
   "metadata": {},
   "source": [
    "Вывод:\n",
    "- Корреляция между all_sales и critic_score равна 0.43, что подтверждает то, мы увидели эту зависимость на графике.\n",
    "- Корреляции между all_sales и user_score вообще нет линейной зависимости (-0.07)."
   ]
  },
  {
   "cell_type": "markdown",
   "metadata": {},
   "source": [
    "Соотнесу выводы с продажами игр на других платформах:"
   ]
  },
  {
   "cell_type": "code",
   "execution_count": 183,
   "metadata": {},
   "outputs": [
    {
     "data": {
      "text/html": [
       "<style  type=\"text/css\" >\n",
       "    #T_bc75d262_a13b_11ec_b77d_02420a398b59row0_col0 {\n",
       "            background-color:  #b40426;\n",
       "            color:  #f1f1f1;\n",
       "        }    #T_bc75d262_a13b_11ec_b77d_02420a398b59row0_col1 {\n",
       "            background-color:  #3b4cc0;\n",
       "            color:  #f1f1f1;\n",
       "        }    #T_bc75d262_a13b_11ec_b77d_02420a398b59row0_col2 {\n",
       "            background-color:  #3b4cc0;\n",
       "            color:  #f1f1f1;\n",
       "        }    #T_bc75d262_a13b_11ec_b77d_02420a398b59row1_col0 {\n",
       "            background-color:  #c7d7f0;\n",
       "            color:  #000000;\n",
       "        }    #T_bc75d262_a13b_11ec_b77d_02420a398b59row1_col1 {\n",
       "            background-color:  #b40426;\n",
       "            color:  #f1f1f1;\n",
       "        }    #T_bc75d262_a13b_11ec_b77d_02420a398b59row1_col2 {\n",
       "            background-color:  #ecd3c5;\n",
       "            color:  #000000;\n",
       "        }    #T_bc75d262_a13b_11ec_b77d_02420a398b59row2_col0 {\n",
       "            background-color:  #3b4cc0;\n",
       "            color:  #f1f1f1;\n",
       "        }    #T_bc75d262_a13b_11ec_b77d_02420a398b59row2_col1 {\n",
       "            background-color:  #89acfd;\n",
       "            color:  #000000;\n",
       "        }    #T_bc75d262_a13b_11ec_b77d_02420a398b59row2_col2 {\n",
       "            background-color:  #b40426;\n",
       "            color:  #f1f1f1;\n",
       "        }</style><table id=\"T_bc75d262_a13b_11ec_b77d_02420a398b59\" ><thead>    <tr>        <th class=\"blank level0\" ></th>        <th class=\"col_heading level0 col0\" >all_sales</th>        <th class=\"col_heading level0 col1\" >critic_score</th>        <th class=\"col_heading level0 col2\" >user_score</th>    </tr></thead><tbody>\n",
       "                <tr>\n",
       "                        <th id=\"T_bc75d262_a13b_11ec_b77d_02420a398b59level0_row0\" class=\"row_heading level0 row0\" >all_sales</th>\n",
       "                        <td id=\"T_bc75d262_a13b_11ec_b77d_02420a398b59row0_col0\" class=\"data row0 col0\" >1</td>\n",
       "                        <td id=\"T_bc75d262_a13b_11ec_b77d_02420a398b59row0_col1\" class=\"data row0 col1\" >0.402661</td>\n",
       "                        <td id=\"T_bc75d262_a13b_11ec_b77d_02420a398b59row0_col2\" class=\"data row0 col2\" >-0.0401316</td>\n",
       "            </tr>\n",
       "            <tr>\n",
       "                        <th id=\"T_bc75d262_a13b_11ec_b77d_02420a398b59level0_row1\" class=\"row_heading level0 row1\" >critic_score</th>\n",
       "                        <td id=\"T_bc75d262_a13b_11ec_b77d_02420a398b59row1_col0\" class=\"data row1 col0\" >0.402661</td>\n",
       "                        <td id=\"T_bc75d262_a13b_11ec_b77d_02420a398b59row1_col1\" class=\"data row1 col1\" >1</td>\n",
       "                        <td id=\"T_bc75d262_a13b_11ec_b77d_02420a398b59row1_col2\" class=\"data row1 col2\" >0.546434</td>\n",
       "            </tr>\n",
       "            <tr>\n",
       "                        <th id=\"T_bc75d262_a13b_11ec_b77d_02420a398b59level0_row2\" class=\"row_heading level0 row2\" >user_score</th>\n",
       "                        <td id=\"T_bc75d262_a13b_11ec_b77d_02420a398b59row2_col0\" class=\"data row2 col0\" >-0.0401316</td>\n",
       "                        <td id=\"T_bc75d262_a13b_11ec_b77d_02420a398b59row2_col1\" class=\"data row2 col1\" >0.546434</td>\n",
       "                        <td id=\"T_bc75d262_a13b_11ec_b77d_02420a398b59row2_col2\" class=\"data row2 col2\" >1</td>\n",
       "            </tr>\n",
       "    </tbody></table>"
      ],
      "text/plain": [
       "<pandas.io.formats.style.Styler at 0x7fb618a09410>"
      ]
     },
     "execution_count": 183,
     "metadata": {},
     "output_type": "execute_result"
    }
   ],
   "source": [
    "# Использую матрицу корреляции для 2 других менее популярных платформ:\n",
    "corr  =  df[df['platform']=='PS4'][['all_sales', 'critic_score', 'user_score']].corr()\n",
    "corr.style.background_gradient('coolwarm')"
   ]
  },
  {
   "cell_type": "code",
   "execution_count": 184,
   "metadata": {},
   "outputs": [
    {
     "data": {
      "text/html": [
       "<style  type=\"text/css\" >\n",
       "    #T_bc7b9512_a13b_11ec_b77d_02420a398b59row0_col0 {\n",
       "            background-color:  #b40426;\n",
       "            color:  #f1f1f1;\n",
       "        }    #T_bc7b9512_a13b_11ec_b77d_02420a398b59row0_col1 {\n",
       "            background-color:  #3b4cc0;\n",
       "            color:  #f1f1f1;\n",
       "        }    #T_bc7b9512_a13b_11ec_b77d_02420a398b59row0_col2 {\n",
       "            background-color:  #3b4cc0;\n",
       "            color:  #f1f1f1;\n",
       "        }    #T_bc7b9512_a13b_11ec_b77d_02420a398b59row1_col0 {\n",
       "            background-color:  #85a8fc;\n",
       "            color:  #000000;\n",
       "        }    #T_bc7b9512_a13b_11ec_b77d_02420a398b59row1_col1 {\n",
       "            background-color:  #b40426;\n",
       "            color:  #f1f1f1;\n",
       "        }    #T_bc7b9512_a13b_11ec_b77d_02420a398b59row1_col2 {\n",
       "            background-color:  #dddcdc;\n",
       "            color:  #000000;\n",
       "        }    #T_bc7b9512_a13b_11ec_b77d_02420a398b59row2_col0 {\n",
       "            background-color:  #3b4cc0;\n",
       "            color:  #f1f1f1;\n",
       "        }    #T_bc7b9512_a13b_11ec_b77d_02420a398b59row2_col1 {\n",
       "            background-color:  #b1cbfc;\n",
       "            color:  #000000;\n",
       "        }    #T_bc7b9512_a13b_11ec_b77d_02420a398b59row2_col2 {\n",
       "            background-color:  #b40426;\n",
       "            color:  #f1f1f1;\n",
       "        }</style><table id=\"T_bc7b9512_a13b_11ec_b77d_02420a398b59\" ><thead>    <tr>        <th class=\"blank level0\" ></th>        <th class=\"col_heading level0 col0\" >all_sales</th>        <th class=\"col_heading level0 col1\" >critic_score</th>        <th class=\"col_heading level0 col2\" >user_score</th>    </tr></thead><tbody>\n",
       "                <tr>\n",
       "                        <th id=\"T_bc7b9512_a13b_11ec_b77d_02420a398b59level0_row0\" class=\"row_heading level0 row0\" >all_sales</th>\n",
       "                        <td id=\"T_bc7b9512_a13b_11ec_b77d_02420a398b59row0_col0\" class=\"data row0 col0\" >1</td>\n",
       "                        <td id=\"T_bc7b9512_a13b_11ec_b77d_02420a398b59row0_col1\" class=\"data row0 col1\" >0.174634</td>\n",
       "                        <td id=\"T_bc7b9512_a13b_11ec_b77d_02420a398b59row0_col2\" class=\"data row0 col2\" >-0.0715967</td>\n",
       "            </tr>\n",
       "            <tr>\n",
       "                        <th id=\"T_bc7b9512_a13b_11ec_b77d_02420a398b59level0_row1\" class=\"row_heading level0 row1\" >critic_score</th>\n",
       "                        <td id=\"T_bc7b9512_a13b_11ec_b77d_02420a398b59row1_col0\" class=\"data row1 col0\" >0.174634</td>\n",
       "                        <td id=\"T_bc7b9512_a13b_11ec_b77d_02420a398b59row1_col1\" class=\"data row1 col1\" >1</td>\n",
       "                        <td id=\"T_bc7b9512_a13b_11ec_b77d_02420a398b59row1_col2\" class=\"data row1 col2\" >0.466099</td>\n",
       "            </tr>\n",
       "            <tr>\n",
       "                        <th id=\"T_bc7b9512_a13b_11ec_b77d_02420a398b59level0_row2\" class=\"row_heading level0 row2\" >user_score</th>\n",
       "                        <td id=\"T_bc7b9512_a13b_11ec_b77d_02420a398b59row2_col0\" class=\"data row2 col0\" >-0.0715967</td>\n",
       "                        <td id=\"T_bc7b9512_a13b_11ec_b77d_02420a398b59row2_col1\" class=\"data row2 col1\" >0.466099</td>\n",
       "                        <td id=\"T_bc7b9512_a13b_11ec_b77d_02420a398b59row2_col2\" class=\"data row2 col2\" >1</td>\n",
       "            </tr>\n",
       "    </tbody></table>"
      ],
      "text/plain": [
       "<pandas.io.formats.style.Styler at 0x7fb6189ede90>"
      ]
     },
     "execution_count": 184,
     "metadata": {},
     "output_type": "execute_result"
    }
   ],
   "source": [
    "corr  =  df[df['platform']=='PC'][['all_sales', 'critic_score', 'user_score']].corr()\n",
    "corr.style.background_gradient('coolwarm')"
   ]
  },
  {
   "cell_type": "markdown",
   "metadata": {},
   "source": [
    "**Вывод:**\n",
    "\n",
    "У PS4, PC тоже наблюдается не сильная связь между оценками критиков и продажами, но она сильнее, чем связь между оценками пользователей и продажами - можно сказать, что ее вообще нет, т.к. значения отрицательные."
   ]
  },
  {
   "cell_type": "markdown",
   "metadata": {},
   "source": [
    "**7. Посмотрите на общее распределение игр по жанрам. Что можно сказать о самых прибыльных жанрах? Выделяются ли жанры с высокими и низкими продажами?**"
   ]
  },
  {
   "cell_type": "code",
   "execution_count": 185,
   "metadata": {},
   "outputs": [
    {
     "data": {
      "text/html": [
       "<div>\n",
       "<style scoped>\n",
       "    .dataframe tbody tr th:only-of-type {\n",
       "        vertical-align: middle;\n",
       "    }\n",
       "\n",
       "    .dataframe tbody tr th {\n",
       "        vertical-align: top;\n",
       "    }\n",
       "\n",
       "    .dataframe thead th {\n",
       "        text-align: right;\n",
       "    }\n",
       "</style>\n",
       "<table border=\"1\" class=\"dataframe\">\n",
       "  <thead>\n",
       "    <tr style=\"text-align: right;\">\n",
       "      <th></th>\n",
       "      <th>all_sales</th>\n",
       "    </tr>\n",
       "    <tr>\n",
       "      <th>genre</th>\n",
       "      <th></th>\n",
       "    </tr>\n",
       "  </thead>\n",
       "  <tbody>\n",
       "    <tr>\n",
       "      <td>Shooter</td>\n",
       "      <td>0.515</td>\n",
       "    </tr>\n",
       "    <tr>\n",
       "      <td>Sports</td>\n",
       "      <td>0.180</td>\n",
       "    </tr>\n",
       "    <tr>\n",
       "      <td>Platform</td>\n",
       "      <td>0.140</td>\n",
       "    </tr>\n",
       "    <tr>\n",
       "      <td>Fighting</td>\n",
       "      <td>0.125</td>\n",
       "    </tr>\n",
       "    <tr>\n",
       "      <td>Role-Playing</td>\n",
       "      <td>0.110</td>\n",
       "    </tr>\n",
       "    <tr>\n",
       "      <td>Simulation</td>\n",
       "      <td>0.100</td>\n",
       "    </tr>\n",
       "    <tr>\n",
       "      <td>Action</td>\n",
       "      <td>0.090</td>\n",
       "    </tr>\n",
       "    <tr>\n",
       "      <td>Misc</td>\n",
       "      <td>0.090</td>\n",
       "    </tr>\n",
       "    <tr>\n",
       "      <td>Racing</td>\n",
       "      <td>0.090</td>\n",
       "    </tr>\n",
       "    <tr>\n",
       "      <td>Strategy</td>\n",
       "      <td>0.060</td>\n",
       "    </tr>\n",
       "    <tr>\n",
       "      <td>Puzzle</td>\n",
       "      <td>0.045</td>\n",
       "    </tr>\n",
       "    <tr>\n",
       "      <td>Adventure</td>\n",
       "      <td>0.030</td>\n",
       "    </tr>\n",
       "  </tbody>\n",
       "</table>\n",
       "</div>"
      ],
      "text/plain": [
       "              all_sales\n",
       "genre                  \n",
       "Shooter           0.515\n",
       "Sports            0.180\n",
       "Platform          0.140\n",
       "Fighting          0.125\n",
       "Role-Playing      0.110\n",
       "Simulation        0.100\n",
       "Action            0.090\n",
       "Misc              0.090\n",
       "Racing            0.090\n",
       "Strategy          0.060\n",
       "Puzzle            0.045\n",
       "Adventure         0.030"
      ]
     },
     "execution_count": 185,
     "metadata": {},
     "output_type": "execute_result"
    }
   ],
   "source": [
    "# Сделаю сводную таблицу по genre_group, где выведу жанры и их продажи, отсортирую по убыванию\n",
    "genre_group = df.pivot_table(index='genre', values='all_sales', aggfunc='median').sort_values(by='all_sales', ascending=False)\n",
    "genre_group\n",
    "#genre_group = genre_group.reset_index().rename_axis(None, axis=1)\n",
    "#genre_group.style.bar(color='lightgreen')"
   ]
  },
  {
   "cell_type": "code",
   "execution_count": 186,
   "metadata": {},
   "outputs": [
    {
     "data": {
      "image/png": "[encoded data removed]",
      "text/plain": [
       "<Figure size 648x648 with 1 Axes>"
      ]
     },
     "metadata": {},
     "output_type": "display_data"
    }
   ],
   "source": [
    "#посмотрим на среднюю выручку по каждому из жанров за выбранный период:\n",
    "genre_group['all_sales'].plot(kind='pie', figsize=(9, 9), autopct='%.0f%%', \n",
    "                                                title='Доля от продаж по жанрам за 2014-2016 гг.')\n",
    "ax = plt.gca()\n",
    "ax.set_ylabel('')\n",
    "plt.show()"
   ]
  },
  {
   "cell_type": "markdown",
   "metadata": {},
   "source": [
    "**Вывод:**\n",
    "\n",
    "Проанализировав данные, по медиане глобальных продаж по каждому жанру, можно выделить топ-3 жанра игр, пользующихся наибольшей популярностью: Shooter(топ-1), Sports и Platform. Продажи жанра Shooter разительно превуалируют на фоне остальных.\n",
    "И наоборот, среди жанров есть явные аутсайдеры - Strategy, Puzzle и Adventure, их средние продажи в 10 раз ниже, чем у Shooter. Мало кто будет джойстиком пытаться направлять армии в стратегии(этот жанр был популярен лишь на заре создания игр и его популярность стала угасать в начале 2000-х), а в пазл и вовсе играют, в основном, офисные сотрудники, во время перерыва на обед.\n",
    "Вывод: У большинства игроков в приоритете динамические игры, тем более, грамотно разработанное управление и особенно красивая картинка, всегда привлекали большее число геймеров. При планировании рекламной кампании на 2017 год, необходимо акцентировать внимание на жанре Shooter."
   ]
  },
  {
   "cell_type": "markdown",
   "metadata": {},
   "source": [
    "### Вывод по 3 шагу (исследовательскому анализу данных):\n",
    "\n",
    "- С 1980 годов по 1993 мало выпущенных игр и спроса. Рост выпуска игр начался с 1994-1995г. Когда появились первые компьютеры для домашнего пользования.К 2002 году выпустилось много игр. Максимума продажи достигли в 2009 это не только огромный спрос на компьютерне игры, но и распространенность компьютерных движков (разработка игр удешевилась, они быстрее начали выходить в релиз, поэтому их стало больше), кроме того широкополосной интернет достиг максимума своего распространения. Резкий упадок продаж 2012 по 2016 обусловлен требованиями к лицензированию игр, игры стали дороже, не все могли их себе позволить.\n",
    "\n",
    "- Средняя жизнь игровой платформы составляет 8-10 лет. Пик продаж наступает примерно через 4-5 лет после выхода платформы.\n",
    "\n",
    "-  А значит актуальный период для отбора перспективных платформ с 2014г по 2016г. Учитывая актуальный для анализа период, можно заключить, что набирают популярность такие платформы как: PS4 и XOne, а так же, но в меньшей степени, такие свежие платформы, как 3DS, PSV и WiiU. К сожалению, популярность X360 стремительно падает.\n",
    "\n",
    "- У анализируемых нами платформ наблюдается взаимосвязь между продажами и оценками критиков. Пользовательские же оценки почти не играют значимой роли. Это значит, что для людей мнение критиков более важное и решающее, чем мнения других пользователей.\n",
    "\n",
    "- При планировании рекламной кампании на 2017 год, необходимо акцентировать внимание на игры жанра Shooter и полностью проигнорировать такие игровые жанры как - Puzzle, Strategy и Adventure."
   ]
  },
  {
   "cell_type": "markdown",
   "metadata": {},
   "source": [
    "## Шаг 4. Составьте портрет пользователя каждого региона (NA, EU, JP):\n",
    "\n",
    "\n",
    "1. Самые популярные платформы (топ-5). Опишите различия в долях продаж.\n",
    "\n",
    "2. Самые популярные жанры (топ-5). Поясните разницу.\n",
    "\n",
    "3. Влияет ли рейтинг ESRB на продажи в отдельном регионе?"
   ]
  },
  {
   "cell_type": "markdown",
   "metadata": {},
   "source": [
    "### 4.1. Найду самые популярные платформы по регионам и их доли продаж."
   ]
  },
  {
   "cell_type": "markdown",
   "metadata": {},
   "source": [
    "Учитывая характерный срок жизни платформы (в среднем 10 лет), необходимо вывести не только топ-5 платформ за актуальный период(ведь за этот срок топ платформа могла бы уже и подойти к завершению своей популярности), но и сравнить эти данные за последний год продаж (так как за 2016 год информация не полная, включим в выборку данные за 2015-2016 годы):"
   ]
  },
  {
   "cell_type": "code",
   "execution_count": 187,
   "metadata": {},
   "outputs": [],
   "source": [
    "def top_platforms_reg(row_top, row_sales):\n",
    "        \n",
    "    \"\"\"Функция принимает в аргумент колонки платформ и продаж по региону,\n",
    "    строит сводную таблицу и выводит топ-5 по продажам по регионам за период с 2014 по 2016г.\n",
    "    \"\"\"\n",
    "    sales_reg_top = (df.pivot_table(index=row_top, values=row_sales, aggfunc='sum')\n",
    "               .sort_values(by=row_sales, ascending=False))   \n",
    "\n",
    "    return sales_reg_top.head()"
   ]
  },
  {
   "cell_type": "markdown",
   "metadata": {},
   "source": [
    "Для удобства сравнения выведем сводные таблицы, ранжируя по регионам. Будем выводить топ-5 по продажам по региону за период с 2014 по 2016гг."
   ]
  },
  {
   "cell_type": "code",
   "execution_count": 188,
   "metadata": {},
   "outputs": [],
   "source": [
    "def display_side_by_side(*args):\n",
    "    \"\"\"Функция позволяет выводить несколько таблиц в ряд\n",
    "    \"\"\"\n",
    "    html_str=' '\n",
    "    for df in args:\n",
    "        html_str+=df.to_html()\n",
    "    display_html(html_str.replace('table','table style=\"display:inline\"'),raw=True)"
   ]
  },
  {
   "cell_type": "code",
   "execution_count": 189,
   "metadata": {},
   "outputs": [
    {
     "data": {
      "text/html": [
       " <table style=\"display:inline\" border=\"1\" class=\"dataframe\">\n",
       "  <thead>\n",
       "    <tr style=\"text-align: right;\">\n",
       "      <th></th>\n",
       "      <th>na_sales</th>\n",
       "    </tr>\n",
       "    <tr>\n",
       "      <th>platform</th>\n",
       "      <th></th>\n",
       "    </tr>\n",
       "  </thead>\n",
       "  <tbody>\n",
       "    <tr>\n",
       "      <th>PS4</th>\n",
       "      <td>98.61</td>\n",
       "    </tr>\n",
       "    <tr>\n",
       "      <th>XOne</th>\n",
       "      <td>81.27</td>\n",
       "    </tr>\n",
       "    <tr>\n",
       "      <th>X360</th>\n",
       "      <td>28.30</td>\n",
       "    </tr>\n",
       "    <tr>\n",
       "      <th>3DS</th>\n",
       "      <td>22.64</td>\n",
       "    </tr>\n",
       "    <tr>\n",
       "      <th>PS3</th>\n",
       "      <td>22.05</td>\n",
       "    </tr>\n",
       "  </tbody>\n",
       "</table style=\"display:inline\"><table style=\"display:inline\" border=\"1\" class=\"dataframe\">\n",
       "  <thead>\n",
       "    <tr style=\"text-align: right;\">\n",
       "      <th></th>\n",
       "      <th>eu_sales</th>\n",
       "    </tr>\n",
       "    <tr>\n",
       "      <th>platform</th>\n",
       "      <th></th>\n",
       "    </tr>\n",
       "  </thead>\n",
       "  <tbody>\n",
       "    <tr>\n",
       "      <th>PS4</th>\n",
       "      <td>130.04</td>\n",
       "    </tr>\n",
       "    <tr>\n",
       "      <th>XOne</th>\n",
       "      <td>46.25</td>\n",
       "    </tr>\n",
       "    <tr>\n",
       "      <th>PS3</th>\n",
       "      <td>25.54</td>\n",
       "    </tr>\n",
       "    <tr>\n",
       "      <th>PC</th>\n",
       "      <td>17.97</td>\n",
       "    </tr>\n",
       "    <tr>\n",
       "      <th>3DS</th>\n",
       "      <td>16.12</td>\n",
       "    </tr>\n",
       "  </tbody>\n",
       "</table style=\"display:inline\"><table style=\"display:inline\" border=\"1\" class=\"dataframe\">\n",
       "  <thead>\n",
       "    <tr style=\"text-align: right;\">\n",
       "      <th></th>\n",
       "      <th>jp_sales</th>\n",
       "    </tr>\n",
       "    <tr>\n",
       "      <th>platform</th>\n",
       "      <th></th>\n",
       "    </tr>\n",
       "  </thead>\n",
       "  <tbody>\n",
       "    <tr>\n",
       "      <th>3DS</th>\n",
       "      <td>44.24</td>\n",
       "    </tr>\n",
       "    <tr>\n",
       "      <th>PS4</th>\n",
       "      <td>15.02</td>\n",
       "    </tr>\n",
       "    <tr>\n",
       "      <th>PSV</th>\n",
       "      <td>14.54</td>\n",
       "    </tr>\n",
       "    <tr>\n",
       "      <th>PS3</th>\n",
       "      <td>11.22</td>\n",
       "    </tr>\n",
       "    <tr>\n",
       "      <th>WiiU</th>\n",
       "      <td>7.31</td>\n",
       "    </tr>\n",
       "  </tbody>\n",
       "</table style=\"display:inline\"><table style=\"display:inline\" border=\"1\" class=\"dataframe\">\n",
       "  <thead>\n",
       "    <tr style=\"text-align: right;\">\n",
       "      <th></th>\n",
       "      <th>other_sales</th>\n",
       "    </tr>\n",
       "    <tr>\n",
       "      <th>platform</th>\n",
       "      <th></th>\n",
       "    </tr>\n",
       "  </thead>\n",
       "  <tbody>\n",
       "    <tr>\n",
       "      <th>PS4</th>\n",
       "      <td>44.48</td>\n",
       "    </tr>\n",
       "    <tr>\n",
       "      <th>XOne</th>\n",
       "      <td>12.52</td>\n",
       "    </tr>\n",
       "    <tr>\n",
       "      <th>PS3</th>\n",
       "      <td>9.37</td>\n",
       "    </tr>\n",
       "    <tr>\n",
       "      <th>X360</th>\n",
       "      <td>4.35</td>\n",
       "    </tr>\n",
       "    <tr>\n",
       "      <th>3DS</th>\n",
       "      <td>3.68</td>\n",
       "    </tr>\n",
       "  </tbody>\n",
       "</table style=\"display:inline\">"
      ]
     },
     "metadata": {},
     "output_type": "display_data"
    }
   ],
   "source": [
    "# выведем результат по Северной Америке, Европе и Японии с помощью функции display_side_by_side\n",
    "display_side_by_side(top_platforms_reg('platform','na_sales'),top_platforms_reg('platform','eu_sales'),\n",
    "                     top_platforms_reg('platform','jp_sales'),top_platforms_reg('platform','other_sales'))"
   ]
  },
  {
   "cell_type": "code",
   "execution_count": 190,
   "metadata": {},
   "outputs": [],
   "source": [
    "def top_pie(df, row_top, row_sales, ax):\n",
    "    \"\"\"Функция принимает в аргументы датафрейм, колонку по которой хотим вывести топ-5,\n",
    "    колонку продаж по региону, а так же позиционный аргумент\n",
    "    и строит круговую диаграмму продаж по региону за 2014-2016г\n",
    "    \"\"\"\n",
    "    title_dict = {'na_sales': 'Продажи в Северной Америке', 'eu_sales': 'Продажи в Европе', 'jp_sales': 'Продажи в Японии'}\n",
    "    pie_top = (df.pivot_table(index=row_top, values=row_sales, aggfunc='sum')\n",
    "                       .sort_values(by=row_sales, ascending=False))[:5]\n",
    "    \n",
    "\n",
    "    pie_top[row_sales].plot(kind='pie',ax=axes[ax], autopct='%.0f%%', \n",
    "                                                title=title_dict[row_sales], rot=30)\n",
    "    \n",
    "    ax = plt.gca()\n",
    "    ax.set_ylabel('')  "
   ]
  },
  {
   "cell_type": "code",
   "execution_count": 191,
   "metadata": {},
   "outputs": [
    {
     "data": {
      "image/png": "[encoded data removed]",
      "text/plain": [
       "<Figure size 1440x1440 with 3 Axes>"
      ]
     },
     "metadata": {},
     "output_type": "display_data"
    }
   ],
   "source": [
    "# выводим круговые диаграммы продаж по регионам за 2014-2016г:\n",
    "fig, axes = plt.subplots(1, 3, figsize=(20,20))\n",
    "\n",
    "top_pie(df,'platform','na_sales',0)\n",
    "top_pie(df,'platform','eu_sales',1)\n",
    "top_pie(df,'platform','jp_sales',2)"
   ]
  },
  {
   "cell_type": "markdown",
   "metadata": {},
   "source": [
    "**Вывод**\n",
    "В Североамериканском регионе, Европпе и в остальных регионах, при планировании рекламной кампании, необходимо обратить внимание на платформы PS4 и XOne. А вот в Японии, геймерам больше по вкусу 3DS и лишь за тем PS4. Все же самой перспективной платформой на 2017г следует считать PS4."
   ]
  },
  {
   "cell_type": "markdown",
   "metadata": {},
   "source": [
    "### 4.2. Найду самые популярные жанры по регионам "
   ]
  },
  {
   "cell_type": "markdown",
   "metadata": {},
   "source": [
    "Для удобства сравнения выведем сводные таблицы, ранжируя по регионам. Будем выводить топ-5 по продажам по региону за период с 2014 по 2016г."
   ]
  },
  {
   "cell_type": "code",
   "execution_count": 192,
   "metadata": {},
   "outputs": [
    {
     "data": {
      "text/html": [
       " <table style=\"display:inline\" border=\"1\" class=\"dataframe\">\n",
       "  <thead>\n",
       "    <tr style=\"text-align: right;\">\n",
       "      <th></th>\n",
       "      <th>na_sales</th>\n",
       "    </tr>\n",
       "    <tr>\n",
       "      <th>genre</th>\n",
       "      <th></th>\n",
       "    </tr>\n",
       "  </thead>\n",
       "  <tbody>\n",
       "    <tr>\n",
       "      <th>Shooter</th>\n",
       "      <td>79.02</td>\n",
       "    </tr>\n",
       "    <tr>\n",
       "      <th>Action</th>\n",
       "      <td>72.53</td>\n",
       "    </tr>\n",
       "    <tr>\n",
       "      <th>Sports</th>\n",
       "      <td>46.13</td>\n",
       "    </tr>\n",
       "    <tr>\n",
       "      <th>Role-Playing</th>\n",
       "      <td>33.47</td>\n",
       "    </tr>\n",
       "    <tr>\n",
       "      <th>Misc</th>\n",
       "      <td>15.05</td>\n",
       "    </tr>\n",
       "  </tbody>\n",
       "</table style=\"display:inline\"><table style=\"display:inline\" border=\"1\" class=\"dataframe\">\n",
       "  <thead>\n",
       "    <tr style=\"text-align: right;\">\n",
       "      <th></th>\n",
       "      <th>eu_sales</th>\n",
       "    </tr>\n",
       "    <tr>\n",
       "      <th>genre</th>\n",
       "      <th></th>\n",
       "    </tr>\n",
       "  </thead>\n",
       "  <tbody>\n",
       "    <tr>\n",
       "      <th>Action</th>\n",
       "      <td>74.68</td>\n",
       "    </tr>\n",
       "    <tr>\n",
       "      <th>Shooter</th>\n",
       "      <td>65.52</td>\n",
       "    </tr>\n",
       "    <tr>\n",
       "      <th>Sports</th>\n",
       "      <td>45.73</td>\n",
       "    </tr>\n",
       "    <tr>\n",
       "      <th>Role-Playing</th>\n",
       "      <td>28.17</td>\n",
       "    </tr>\n",
       "    <tr>\n",
       "      <th>Racing</th>\n",
       "      <td>14.13</td>\n",
       "    </tr>\n",
       "  </tbody>\n",
       "</table style=\"display:inline\"><table style=\"display:inline\" border=\"1\" class=\"dataframe\">\n",
       "  <thead>\n",
       "    <tr style=\"text-align: right;\">\n",
       "      <th></th>\n",
       "      <th>jp_sales</th>\n",
       "    </tr>\n",
       "    <tr>\n",
       "      <th>genre</th>\n",
       "      <th></th>\n",
       "    </tr>\n",
       "  </thead>\n",
       "  <tbody>\n",
       "    <tr>\n",
       "      <th>Role-Playing</th>\n",
       "      <td>31.16</td>\n",
       "    </tr>\n",
       "    <tr>\n",
       "      <th>Action</th>\n",
       "      <td>29.58</td>\n",
       "    </tr>\n",
       "    <tr>\n",
       "      <th>Fighting</th>\n",
       "      <td>6.37</td>\n",
       "    </tr>\n",
       "    <tr>\n",
       "      <th>Misc</th>\n",
       "      <td>5.61</td>\n",
       "    </tr>\n",
       "    <tr>\n",
       "      <th>Shooter</th>\n",
       "      <td>4.87</td>\n",
       "    </tr>\n",
       "  </tbody>\n",
       "</table style=\"display:inline\"><table style=\"display:inline\" border=\"1\" class=\"dataframe\">\n",
       "  <thead>\n",
       "    <tr style=\"text-align: right;\">\n",
       "      <th></th>\n",
       "      <th>other_sales</th>\n",
       "    </tr>\n",
       "    <tr>\n",
       "      <th>genre</th>\n",
       "      <th></th>\n",
       "    </tr>\n",
       "  </thead>\n",
       "  <tbody>\n",
       "    <tr>\n",
       "      <th>Action</th>\n",
       "      <td>22.57</td>\n",
       "    </tr>\n",
       "    <tr>\n",
       "      <th>Shooter</th>\n",
       "      <td>21.53</td>\n",
       "    </tr>\n",
       "    <tr>\n",
       "      <th>Sports</th>\n",
       "      <td>14.36</td>\n",
       "    </tr>\n",
       "    <tr>\n",
       "      <th>Role-Playing</th>\n",
       "      <td>8.64</td>\n",
       "    </tr>\n",
       "    <tr>\n",
       "      <th>Misc</th>\n",
       "      <td>4.03</td>\n",
       "    </tr>\n",
       "  </tbody>\n",
       "</table style=\"display:inline\">"
      ]
     },
     "metadata": {},
     "output_type": "display_data"
    }
   ],
   "source": [
    "display_side_by_side(top_platforms_reg('genre','na_sales'),top_platforms_reg('genre','eu_sales'),\n",
    "                     top_platforms_reg('genre','jp_sales'),top_platforms_reg('genre','other_sales'))\n",
    "# выводим результат по Северной Америке, Европе и Японии с помощью функции display_side_by_side"
   ]
  },
  {
   "cell_type": "markdown",
   "metadata": {},
   "source": [
    "    Судя по таблицам, топ-5 жанров по продажам за период с 2014 по 2016г в Североамериканском, Европейском и остальных регионах практически не меняется(в Европе и других странах более популярен жанр Action нежели Shooter). В Японии же дела обстоят иначе. За последние три года на первых двух местах по продажам держатся Role-Playing(Топ-1) и Action, причем лидерство это надежное, с большим отрывом от остальных жанров. А так же в топ-5 по продажам ворвался жанр Shooter, что так же говорит о его растущей популярности в данном регионе."
   ]
  },
  {
   "cell_type": "code",
   "execution_count": 193,
   "metadata": {},
   "outputs": [
    {
     "data": {
      "image/png": "[encoded data removed]",
      "text/plain": [
       "<Figure size 1440x1440 with 3 Axes>"
      ]
     },
     "metadata": {},
     "output_type": "display_data"
    }
   ],
   "source": [
    "# выводим круговые диаграммы продаж по регионам за 2006-2016г\n",
    "fig, axes = plt.subplots(1, 3, figsize=(20,20))\n",
    "\n",
    "top_pie(df,'genre','na_sales',0)\n",
    "top_pie(df,'genre','eu_sales',1)\n",
    "top_pie(df,'genre','jp_sales',2)"
   ]
  },
  {
   "cell_type": "markdown",
   "metadata": {},
   "source": [
    "**Вывод:**\n",
    "\n",
    "По данным диаграммам очевидно, что жанры `Action` и `Shooter` превалируют над остальными в Североамериканском Европейском регионах. Жанр `Shooter` становится наиболее популярным в последние годы.\n",
    "В Японии наиболее популярным является `Role-Playing`, но и `Action` от него практически не отстает (38% продаж), а `Shooter` ворвался в первую пятерку, возможно в ближайшее время его популярность в Японии будет так же расти, как и в остальных регионах."
   ]
  },
  {
   "cell_type": "markdown",
   "metadata": {},
   "source": [
    "### 4.3. Определю, влияет ли рейтинг ESRB на продажи в отдельном регионе? "
   ]
  },
  {
   "cell_type": "markdown",
   "metadata": {},
   "source": [
    "*Описание рейтингов ESRB:*\n",
    "\n",
    "- «EC» («Early childhood») — «Для детей младшего возраста».\n",
    "\n",
    "- «E» («Everyone») — «Для всех».  \n",
    "\n",
    "- «E10+» («Everyone 10 and older») — «Для всех от 10 лет и старше».\n",
    "\n",
    "- «T» («Teen») — «Подросткам».  \n",
    "\n",
    "- «M» («Mature») — «Для взрослых».  \n",
    "\n",
    "- «RP» («Rating Pending») — «Рейтинг ожидается»."
   ]
  },
  {
   "cell_type": "code",
   "execution_count": 194,
   "metadata": {},
   "outputs": [],
   "source": [
    "def top_esrb_reg(row_top,row_sales):\n",
    "        \n",
    "    \"\"\"Функция принимает в аргумент колонки платформ и продаж по региону,\n",
    "    строит сводную таблицу и выводит топ-5 по продпжпм по регионы за период с 2014 по 2016г.\n",
    "    \"\"\"\n",
    "    esrb_reg_top = (df.pivot_table(index=row_top, values=row_sales, aggfunc='sum')\n",
    "               .sort_values(by=row_sales, ascending=False))   \n",
    "\n",
    "    return esrb_reg_top.head()"
   ]
  },
  {
   "cell_type": "code",
   "execution_count": 195,
   "metadata": {},
   "outputs": [
    {
     "data": {
      "text/html": [
       " <table style=\"display:inline\" border=\"1\" class=\"dataframe\">\n",
       "  <thead>\n",
       "    <tr style=\"text-align: right;\">\n",
       "      <th></th>\n",
       "      <th>na_sales</th>\n",
       "    </tr>\n",
       "    <tr>\n",
       "      <th>rating</th>\n",
       "      <th></th>\n",
       "    </tr>\n",
       "  </thead>\n",
       "  <tbody>\n",
       "    <tr>\n",
       "      <th>M</th>\n",
       "      <td>96.42</td>\n",
       "    </tr>\n",
       "    <tr>\n",
       "      <th>no_rating</th>\n",
       "      <td>64.72</td>\n",
       "    </tr>\n",
       "    <tr>\n",
       "      <th>E</th>\n",
       "      <td>50.74</td>\n",
       "    </tr>\n",
       "    <tr>\n",
       "      <th>T</th>\n",
       "      <td>38.95</td>\n",
       "    </tr>\n",
       "    <tr>\n",
       "      <th>E10+</th>\n",
       "      <td>33.23</td>\n",
       "    </tr>\n",
       "  </tbody>\n",
       "</table style=\"display:inline\"><table style=\"display:inline\" border=\"1\" class=\"dataframe\">\n",
       "  <thead>\n",
       "    <tr style=\"text-align: right;\">\n",
       "      <th></th>\n",
       "      <th>eu_sales</th>\n",
       "    </tr>\n",
       "    <tr>\n",
       "      <th>rating</th>\n",
       "      <th></th>\n",
       "    </tr>\n",
       "  </thead>\n",
       "  <tbody>\n",
       "    <tr>\n",
       "      <th>M</th>\n",
       "      <td>93.44</td>\n",
       "    </tr>\n",
       "    <tr>\n",
       "      <th>no_rating</th>\n",
       "      <td>58.95</td>\n",
       "    </tr>\n",
       "    <tr>\n",
       "      <th>E</th>\n",
       "      <td>58.06</td>\n",
       "    </tr>\n",
       "    <tr>\n",
       "      <th>T</th>\n",
       "      <td>34.07</td>\n",
       "    </tr>\n",
       "    <tr>\n",
       "      <th>E10+</th>\n",
       "      <td>26.16</td>\n",
       "    </tr>\n",
       "  </tbody>\n",
       "</table style=\"display:inline\"><table style=\"display:inline\" border=\"1\" class=\"dataframe\">\n",
       "  <thead>\n",
       "    <tr style=\"text-align: right;\">\n",
       "      <th></th>\n",
       "      <th>jp_sales</th>\n",
       "    </tr>\n",
       "    <tr>\n",
       "      <th>rating</th>\n",
       "      <th></th>\n",
       "    </tr>\n",
       "  </thead>\n",
       "  <tbody>\n",
       "    <tr>\n",
       "      <th>no_rating</th>\n",
       "      <td>56.90</td>\n",
       "    </tr>\n",
       "    <tr>\n",
       "      <th>T</th>\n",
       "      <td>14.78</td>\n",
       "    </tr>\n",
       "    <tr>\n",
       "      <th>E</th>\n",
       "      <td>8.94</td>\n",
       "    </tr>\n",
       "    <tr>\n",
       "      <th>M</th>\n",
       "      <td>8.01</td>\n",
       "    </tr>\n",
       "    <tr>\n",
       "      <th>E10+</th>\n",
       "      <td>4.46</td>\n",
       "    </tr>\n",
       "  </tbody>\n",
       "</table style=\"display:inline\"><table style=\"display:inline\" border=\"1\" class=\"dataframe\">\n",
       "  <thead>\n",
       "    <tr style=\"text-align: right;\">\n",
       "      <th></th>\n",
       "      <th>other_sales</th>\n",
       "    </tr>\n",
       "    <tr>\n",
       "      <th>rating</th>\n",
       "      <th></th>\n",
       "    </tr>\n",
       "  </thead>\n",
       "  <tbody>\n",
       "    <tr>\n",
       "      <th>M</th>\n",
       "      <td>28.67</td>\n",
       "    </tr>\n",
       "    <tr>\n",
       "      <th>no_rating</th>\n",
       "      <td>18.40</td>\n",
       "    </tr>\n",
       "    <tr>\n",
       "      <th>E</th>\n",
       "      <td>15.39</td>\n",
       "    </tr>\n",
       "    <tr>\n",
       "      <th>T</th>\n",
       "      <td>11.33</td>\n",
       "    </tr>\n",
       "    <tr>\n",
       "      <th>E10+</th>\n",
       "      <td>7.83</td>\n",
       "    </tr>\n",
       "  </tbody>\n",
       "</table style=\"display:inline\">"
      ]
     },
     "metadata": {},
     "output_type": "display_data"
    }
   ],
   "source": [
    "# выводим топ рейтингов esrb по продажам по Северной Америке, Европе и Японии с помощью функции display_side_by_side:\n",
    "display_side_by_side(top_esrb_reg('rating','na_sales'),top_esrb_reg('rating','eu_sales'),\n",
    "                     top_esrb_reg('rating','jp_sales'),top_esrb_reg('rating','other_sales'))"
   ]
  },
  {
   "cell_type": "code",
   "execution_count": 196,
   "metadata": {},
   "outputs": [],
   "source": [
    "def esrb_top_pie(df, row_top, row_sales, ax):\n",
    "    \"\"\"Функция принимает в аргументы датафрейм, колонку по которой хотим вывести топ продаж,\n",
    "    колонку продаж по региону, а так же позиционный аргумент\n",
    "    и строит круговую диаграмму продаж по региону за 2014-2016г\n",
    "    \"\"\"\n",
    "    title_dict = {'na_sales': 'Продажи в Северной Америке', 'eu_sales': 'Продажи в Европе', 'jp_sales': 'Продажи в Японии'}\n",
    "    pie_top = (df.pivot_table(index=row_top, values=row_sales, aggfunc='sum')\n",
    "                       .sort_values(by=row_sales, ascending=False))[:5]\n",
    "    \n",
    "\n",
    "    pie_top[row_sales].plot(kind='pie',ax=axes[ax], autopct='%.0f%%', \n",
    "                                                title=title_dict[row_sales], rot=30)\n",
    "    \n",
    "    ax = plt.gca()\n",
    "    ax.set_ylabel('')  "
   ]
  },
  {
   "cell_type": "code",
   "execution_count": 197,
   "metadata": {},
   "outputs": [
    {
     "data": {
      "image/png": "[encoded data removed]",
      "text/plain": [
       "<Figure size 1440x1440 with 3 Axes>"
      ]
     },
     "metadata": {},
     "output_type": "display_data"
    }
   ],
   "source": [
    "# выводим круговые диаграммы продаж по регионам за 2014-2016г\n",
    "fig, axes = plt.subplots(1, 3, figsize=(20,20))\n",
    "\n",
    "esrb_top_pie(df,'rating','na_sales',0)\n",
    "esrb_top_pie(df,'rating','eu_sales',1)\n",
    "esrb_top_pie(df,'rating','jp_sales',2)"
   ]
  },
  {
   "cell_type": "markdown",
   "metadata": {},
   "source": [
    "**Вывод:** \n",
    " \n",
    " Рейтинг ESRB **влияет** ли на продажи в Северной Америке и Европе:\n",
    "\n",
    "- За последние три года топ-1, по количеству продаж в Северной Америке и Европе, занимали игры с рейтингом `ESRB` - `M`(«Для взрослых 17+»), это скорее всего связано, с тем, что основными представителями геймеров по всему миру являются в основном молодые люди 25+ (по данным Entertainment Software Association, средний возраст геймеров составляет 31 год), а игры с рейтингом `Е` не соответствуют их потребностям в полной мере.\n",
    "\n",
    "\n",
    "  В Японии же, рейтинг ESRB похоже **не имеет влияния**, так как самые продаваемые игры там не имеют рейтинга(`no_rating` - имеют львиную долю от рынка 61%).\n"
   ]
  },
  {
   "cell_type": "markdown",
   "metadata": {},
   "source": [
    "<div class=\"alert alert-block alert-info\">\n",
    "<b> Примечание:\n",
    "</b> В Японии если издатель желает выпустить игру в Японии, то там он будет иметь дело с системой оценок от Computer Entertainment Rating Organization (CERO), которая занимается данным вопросом с 2002 года. `CERO` делает упор на *подростковом возрасте* – после рейтинга «для всех» тут не используется обыденный в остальных системах «для детей». Кстати, они же чуть ли не единственные, кто требует размещения полноценной возрастной «метки» даже на «корешках» коробок."
   ]
  },
  {
   "cell_type": "markdown",
   "metadata": {},
   "source": [
    "### Вывод по 4 шагу:\n",
    "\n",
    "\n",
    "**Портрет геймера из Северной Америки:** \n",
    "\n",
    "\n",
    "- В Североамериканском регионе при планировании рекламной кампании, необходимо обратить внимание на платформы `PS4` и `XOne`(доли продаж 39% и 32% соответственно).\n",
    "\n",
    "- Самые популярные игровые жанры в данном регионе, за актуальный период: `Action` и `Shooter`(доля от продаж по региону: 29%, 32% соответственно).\n",
    "\n",
    "- Топ-1 по продажам в данном регионе игры с рейтингом `ESRB` - `M`(доля продаж 34%).\n",
    "\n",
    "\n",
    "**Портрет геймера из Европы:**  \n",
    "\n",
    "- В Европейском регионе при планировании рекламной кампании, необходимо обратить внимание на платформу `PS4`(лидер рынка 55% продаж), `XOne` заметно отстает (20%).\n",
    "\n",
    "- Самые популярные игровые жанры в данном регионе, за актуальный период так же: `Action` и `Shooter`( только `Action` в данном регионе обошел конкурента с долями продаж 33% и 29% соответственно).\n",
    "\n",
    "- Топ-1 по продажам в данном регионе  так же игры с рейтингом `ESRB` - `М`(доля продаж 35%). \n",
    "\n",
    "\n",
    "**Портрет геймера из Японии:**  \n",
    "\n",
    "- За прошедшие три года у геймеров Японии в топе по продажам оказались игры на платформе `3DS` ( топ-1 с долей продаж 48%), а за тем лишь платформы `PS4` и `PSV`(16% продаж у каждой).\n",
    "\n",
    "- Самые популярные игровые жанры в данном регионе, за актуальный период: `Role-Playing`(Топ-1 40% продаж) и `Action`(38% продаж). \n",
    "\n",
    "- Топ-1 по продажам в данном регионе игры не имеющие рейтинга `ESRB`(61% продаж), отсюда можно предположить, что данный рейтинг не оказывает влияния на продажи в регионе, возможно это связано с тем, что в данном регионе на рынке представлен оппонент - японская организация `CERO`, которая так же занимается присуждением возрастных рейтингов в регионе с 2002года."
   ]
  },
  {
   "cell_type": "markdown",
   "metadata": {},
   "source": [
    "## Шаг 5. Проверьте гипотезы\n",
    "\n",
    "1. Средние пользовательские рейтинги платформ Xbox One и PC одинаковые;\n",
    "\n",
    "2. Средние пользовательские рейтинги жанров Action (англ. «действие», экшен-игры) и Sports (англ. «спортивные соревнования») разные.\n",
    "\n",
    "Задайте самостоятельно пороговое значение alpha."
   ]
  },
  {
   "cell_type": "markdown",
   "metadata": {},
   "source": [
    "#### Гипотерза 1\n",
    "\n",
    "- Нулевая гипотеза H₀: *Средние пользовательские рейтинги платформ Xbox One и PC одинаковые.*\n",
    "\n",
    "- \n",
    "Альтернативная гипотеза H₁: *Средние пользовательские рейтинги платформ Xbox One и PC отличаются.*\n",
    "\n",
    "Пороговое значение α = 5% ( .05)"
   ]
  },
  {
   "cell_type": "code",
   "execution_count": 198,
   "metadata": {},
   "outputs": [],
   "source": [
    "# Сохраним в переменных xbox и pc соответствующие данные\n",
    "xone = df[(df['platform']=='XOne')]['user_score']\n",
    "pc = df[(df['platform']=='PC')]['user_score']"
   ]
  },
  {
   "cell_type": "code",
   "execution_count": 199,
   "metadata": {},
   "outputs": [
    {
     "name": "stdout",
     "output_type": "stream",
     "text": [
      "228\n",
      "228\n"
     ]
    }
   ],
   "source": [
    "# код ревьера\n",
    "test_xone = df[df['platform']=='XOne']['user_score']\n",
    "\n",
    "print(len(test_xone))\n",
    "print(len(xone))"
   ]
  },
  {
   "cell_type": "code",
   "execution_count": 200,
   "metadata": {},
   "outputs": [
    {
     "data": {
      "text/plain": [
       "6.594545454545454"
      ]
     },
     "execution_count": 200,
     "metadata": {},
     "output_type": "execute_result"
    }
   ],
   "source": [
    "# Посчитаем средний рейтинг пользователя для xbox платформ\n",
    "xone.mean()"
   ]
  },
  {
   "cell_type": "code",
   "execution_count": 201,
   "metadata": {},
   "outputs": [
    {
     "data": {
      "text/plain": [
       "6.298360655737704"
      ]
     },
     "execution_count": 201,
     "metadata": {},
     "output_type": "execute_result"
    }
   ],
   "source": [
    "# Посчитаем средний рейтинг пользователя для PC платформ\n",
    "pc.mean()"
   ]
  },
  {
   "cell_type": "code",
   "execution_count": 202,
   "metadata": {},
   "outputs": [
    {
     "name": "stdout",
     "output_type": "stream",
     "text": [
      "p-значение: 0.11601398086668827\n",
      "Не получилось отвергнуть нулевую гипотезу\n"
     ]
    }
   ],
   "source": [
    "# Выполним проверку гипотезы. Будем использовать метод ttest_ind\n",
    "\n",
    "alpha = .05\n",
    "\n",
    "results = st.ttest_ind(xone.dropna(), pc.dropna(), equal_var=False)\n",
    "\n",
    "print('p-значение:', results.pvalue)\n",
    "\n",
    "\n",
    "if (results.pvalue < alpha):\n",
    "    print(\"Отвергаем нулевую гипотезу\")\n",
    "else:\n",
    "    print(\"Не получилось отвергнуть нулевую гипотезу\")"
   ]
  },
  {
   "cell_type": "markdown",
   "metadata": {},
   "source": [
    "**Вывод:**\n",
    "\n",
    "Cтатистический тест дал возможность опровергнуть нулевую гипотезу, и предполагать, что cредние пользовательские рейтинги платформ Xbox One и PC отличаются."
   ]
  },
  {
   "cell_type": "markdown",
   "metadata": {},
   "source": [
    "#### Гипотеза 2\n",
    "\n",
    "- Нулевая гипотеза H₀: *Средние пользовательские рейтинги жанров Action (англ. «действие», экшен-игры) и Sports (англ. «спортивные соревнования») одинаковые.*\n",
    "\n",
    "- Альтернативная гипотеза H₁: *Средние пользовательские рейтинги жанров Action (англ. «действие», экшен-игры) и Sports (англ. «спортивные соревнования») разные.*\n",
    "\n",
    "Пороговое значение α = 5% ( .05)"
   ]
  },
  {
   "cell_type": "code",
   "execution_count": 203,
   "metadata": {},
   "outputs": [],
   "source": [
    "# Сохраню в переменных genre_action и genre_sports соответствующие данные с пользовательскими оценками\n",
    "genre_action = df[(df['genre']=='Action') & (df['year_of_release'])]['user_score']\n",
    "genre_sports = df[(df['genre']=='Sports') & (df['year_of_release'])]['user_score']"
   ]
  },
  {
   "cell_type": "code",
   "execution_count": 204,
   "metadata": {},
   "outputs": [
    {
     "data": {
      "text/plain": [
       "6.941666666666666"
      ]
     },
     "execution_count": 204,
     "metadata": {},
     "output_type": "execute_result"
    }
   ],
   "source": [
    "# выведем среднюю оценку по жанру экшн\n",
    "genre_action.mean()"
   ]
  },
  {
   "cell_type": "code",
   "execution_count": 205,
   "metadata": {},
   "outputs": [
    {
     "data": {
      "text/plain": [
       "5.006666666666667"
      ]
     },
     "execution_count": 205,
     "metadata": {},
     "output_type": "execute_result"
    }
   ],
   "source": [
    "# выведем среднюю оценку по жанру спорт\n",
    "genre_sports.mean()"
   ]
  },
  {
   "cell_type": "code",
   "execution_count": 206,
   "metadata": {},
   "outputs": [
    {
     "name": "stdout",
     "output_type": "stream",
     "text": [
      "p-значение: 4.1605525409314364e-08\n",
      "Отвергаем нулевую гипотезу\n"
     ]
    }
   ],
   "source": [
    "#Выполним проверку гипотезы. Будем использовать метод ttest_ind\n",
    "\n",
    "alpha = .05\n",
    "\n",
    "results = st.ttest_ind(genre_action.dropna(), genre_sports.dropna(), equal_var=False)\n",
    "\n",
    "print('p-значение:', results.pvalue)\n",
    "\n",
    "\n",
    "if (results.pvalue < alpha):\n",
    "    print(\"Отвергаем нулевую гипотезу\")\n",
    "else:\n",
    "    print(\"Не получилось отвергнуть нулевую гипотезу\")"
   ]
  },
  {
   "cell_type": "markdown",
   "metadata": {},
   "source": [
    "**Вывод:**\n",
    "\n",
    "Cтатистический тест дал возможность опровергнуть нулевую гипотезу, и предполагать, что cредние пользовательские рейтинги жанров Action (англ. «действие», экшен-игры) и Sports (англ. «спортивные соревнования») разные."
   ]
  },
  {
   "cell_type": "markdown",
   "metadata": {},
   "source": [
    "### Вывод по проверке гипотез:\n",
    "\n",
    "Проверила гипотезы по функции ttest_ind, вычисляющей t-тест двух независимых выборок:\n",
    "\n",
    "- Гипотеза 1: Cтатистический тест дал возможность опровергнуть нулевую гипотезу, и предполагать, что cредние пользовательские рейтинги платформ Xbox One и PC отличаются.\n",
    "\n",
    "- Гипотеза 2 : Cтатистический тест дал возможность опровергнуть нулевую гипотезу, и предполагать, что cредние пользовательские рейтинги жанров Action (англ. «действие», экшен-игры) и Sports (англ. «спортивные соревнования») разные."
   ]
  },
  {
   "cell_type": "markdown",
   "metadata": {},
   "source": [
    "## Шаг 6. Общий вывод."
   ]
  },
  {
   "cell_type": "markdown",
   "metadata": {},
   "source": [
    "- Перед анализом данных я подготовили наши данные, привела к правильным данным столбцы, привела к нижнему регистру названия колонок. Привела к правильным типам данных необходимые столбцы. Определила, что аббревиатура \"tbd\" значит to be determined, to be done. То есть, данные были не заполнены. Поэтому заменили tbd на nan для проведения дальнейшего анализа. \n",
    "\n",
    "- Были проанализированы данные о продажах игр, оценки пользователей и экспертов, жанры и платформы  в период от появления первых игр в 1980г по 2016г. Был выбран актуальный период для анализа: 2014-2016гг.\n",
    "\n",
    "***Закономерности определяющие успешность игры***  \n",
    "*На успешность игр оказывают влияние:*  \n",
    "\n",
    "\n",
    "• ***Популярность платформы***, на которой выпущена игра (характерный срок жизни платформы - 10 лет, за этот срок она полностью теряет свою популярность, а значит и игры на ней). Платформа, на которой выпущена игра не должна быть старше половины среднего срока жизни, а это 5-6 лет (далее следует спад интереса пользователей к данной платформе).  \n",
    "В Североамериканском регионе, Европпе и в остальных регионах, при планировании рекламной кампании, необходимо обратить внимание на платформы `PS4` и `XOne`. А вот в Японии, геймерам больше по вкусу `3DS` и лишь за тем `PS4`. Все же самой перспективной платформой на 2017г следует считать `PS4`.\n",
    "\n",
    "• ***Жанр***, так же немаловажный критерий успешности игры. У большинства игроков в приоритете динамические игры, тем более, грамотно разработанное управление и особенно красивая картинка, всегда привлекали большее число геймеров. При планировании рекламной кампании на 2017год, необходимо акцентировать внимание на трех жанрах игр: `Action` и `Shooter`.\n",
    "\n",
    "• ***Рейтинг ESRB***, оказывает свое влияние на продажи из-за ограничений по возрасту. Если нашей целью является охват как можно большей аудитории пользователей, советую присмотреться к рейтингу `М`(«Для взрослых 17+»). Для рекламной компании в Японии не стоит опираться на рейтинг `ESRB`, следует проанализировать рейтинги японской компании `CERO`, ввиду ее большей популярности на данном рынке.\n",
    "\n",
    "• ***Отзывы критиков***, оказывают небольшое влияние на продажи. Хоть влияние от отзывов критиков не столь высоко, не стоит его не учитывать, так как в отличии от рекламы - сарафанное радио,является полезным бесплатным ресурсом в продвижении игр. Стоит обратить внимание на свежие игры, которым критики выставили самые высокие оценки. И, наоборот, игнорировать оценки пользователей.\n",
    "\n",
    "\n",
    "\n",
    "**Проверила гипотезы по функции ttest_ind, вычисляющей t-тест двух независимых выборок:**\n",
    "\n",
    "- Гипотеза 1: Cтатистический тест дал возможность опровергнуть нулевую гипотезу, и предполагать, что cредние пользовательские рейтинги платформ Xbox One и PC отличаются.\n",
    "\n",
    "- Гипотеза 2 : Cтатистический тест дал возможность опровергнуть нулевую гипотезу, и предполагать, что cредние пользовательские рейтинги жанров Action (англ. «действие», экшен-игры) и Sports (англ. «спортивные соревнования») разные.\n",
    "\n",
    "\n"
   ]
  }
 ],
 "metadata": {
  "ExecuteTimeLog": [
   {
    "duration": 1853,
    "start_time": "2022-03-09T16:58:47.067Z"
   },
   {
    "duration": -96,
    "start_time": "2022-03-09T16:58:49.023Z"
   },
   {
    "duration": -103,
    "start_time": "2022-03-09T16:58:49.031Z"
   },
   {
    "duration": -104,
    "start_time": "2022-03-09T16:58:49.035Z"
   },
   {
    "duration": -110,
    "start_time": "2022-03-09T16:58:49.043Z"
   },
   {
    "duration": -110,
    "start_time": "2022-03-09T16:58:49.045Z"
   },
   {
    "duration": -110,
    "start_time": "2022-03-09T16:58:49.048Z"
   },
   {
    "duration": -110,
    "start_time": "2022-03-09T16:58:49.050Z"
   },
   {
    "duration": -111,
    "start_time": "2022-03-09T16:58:49.053Z"
   },
   {
    "duration": -112,
    "start_time": "2022-03-09T16:58:49.056Z"
   },
   {
    "duration": -113,
    "start_time": "2022-03-09T16:58:49.059Z"
   },
   {
    "duration": -114,
    "start_time": "2022-03-09T16:58:49.062Z"
   },
   {
    "duration": -115,
    "start_time": "2022-03-09T16:58:49.065Z"
   },
   {
    "duration": -115,
    "start_time": "2022-03-09T16:58:49.067Z"
   },
   {
    "duration": -121,
    "start_time": "2022-03-09T16:58:49.075Z"
   },
   {
    "duration": -121,
    "start_time": "2022-03-09T16:58:49.077Z"
   },
   {
    "duration": -122,
    "start_time": "2022-03-09T16:58:49.080Z"
   },
   {
    "duration": -122,
    "start_time": "2022-03-09T16:58:49.082Z"
   },
   {
    "duration": -99,
    "start_time": "2022-03-09T16:58:49.085Z"
   },
   {
    "duration": -100,
    "start_time": "2022-03-09T16:58:49.088Z"
   },
   {
    "duration": -100,
    "start_time": "2022-03-09T16:58:49.091Z"
   },
   {
    "duration": -100,
    "start_time": "2022-03-09T16:58:49.093Z"
   },
   {
    "duration": -99,
    "start_time": "2022-03-09T16:58:49.095Z"
   },
   {
    "duration": -101,
    "start_time": "2022-03-09T16:58:49.098Z"
   },
   {
    "duration": -101,
    "start_time": "2022-03-09T16:58:49.100Z"
   },
   {
    "duration": -121,
    "start_time": "2022-03-09T16:58:49.123Z"
   },
   {
    "duration": -173,
    "start_time": "2022-03-09T16:58:49.177Z"
   },
   {
    "duration": -286,
    "start_time": "2022-03-09T16:58:49.292Z"
   },
   {
    "duration": -285,
    "start_time": "2022-03-09T16:58:49.294Z"
   },
   {
    "duration": -286,
    "start_time": "2022-03-09T16:58:49.297Z"
   },
   {
    "duration": -286,
    "start_time": "2022-03-09T16:58:49.299Z"
   },
   {
    "duration": -287,
    "start_time": "2022-03-09T16:58:49.302Z"
   },
   {
    "duration": -287,
    "start_time": "2022-03-09T16:58:49.304Z"
   },
   {
    "duration": -287,
    "start_time": "2022-03-09T16:58:49.306Z"
   },
   {
    "duration": -288,
    "start_time": "2022-03-09T16:58:49.309Z"
   },
   {
    "duration": -288,
    "start_time": "2022-03-09T16:58:49.311Z"
   },
   {
    "duration": -289,
    "start_time": "2022-03-09T16:58:49.314Z"
   },
   {
    "duration": -229,
    "start_time": "2022-03-09T16:58:49.316Z"
   },
   {
    "duration": -307,
    "start_time": "2022-03-09T16:58:49.397Z"
   },
   {
    "duration": -308,
    "start_time": "2022-03-09T16:58:49.400Z"
   },
   {
    "duration": -308,
    "start_time": "2022-03-09T16:58:49.402Z"
   },
   {
    "duration": -309,
    "start_time": "2022-03-09T16:58:49.405Z"
   },
   {
    "duration": -309,
    "start_time": "2022-03-09T16:58:49.407Z"
   },
   {
    "duration": -309,
    "start_time": "2022-03-09T16:58:49.409Z"
   },
   {
    "duration": -310,
    "start_time": "2022-03-09T16:58:49.412Z"
   },
   {
    "duration": -310,
    "start_time": "2022-03-09T16:58:49.414Z"
   },
   {
    "duration": -310,
    "start_time": "2022-03-09T16:58:49.417Z"
   },
   {
    "duration": -310,
    "start_time": "2022-03-09T16:58:49.419Z"
   },
   {
    "duration": -310,
    "start_time": "2022-03-09T16:58:49.421Z"
   },
   {
    "duration": -310,
    "start_time": "2022-03-09T16:58:49.423Z"
   },
   {
    "duration": -312,
    "start_time": "2022-03-09T16:58:49.426Z"
   },
   {
    "duration": -312,
    "start_time": "2022-03-09T16:58:49.428Z"
   },
   {
    "duration": -313,
    "start_time": "2022-03-09T16:58:49.430Z"
   },
   {
    "duration": -314,
    "start_time": "2022-03-09T16:58:49.433Z"
   },
   {
    "duration": -315,
    "start_time": "2022-03-09T16:58:49.435Z"
   },
   {
    "duration": -328,
    "start_time": "2022-03-09T16:58:49.449Z"
   },
   {
    "duration": -329,
    "start_time": "2022-03-09T16:58:49.452Z"
   },
   {
    "duration": 1502,
    "start_time": "2022-03-09T16:59:11.035Z"
   },
   {
    "duration": 49,
    "start_time": "2022-03-09T16:59:12.540Z"
   },
   {
    "duration": 24,
    "start_time": "2022-03-09T16:59:12.592Z"
   },
   {
    "duration": 22,
    "start_time": "2022-03-09T16:59:12.618Z"
   },
   {
    "duration": 45,
    "start_time": "2022-03-09T16:59:12.642Z"
   },
   {
    "duration": 6,
    "start_time": "2022-03-09T16:59:12.690Z"
   },
   {
    "duration": 17,
    "start_time": "2022-03-09T16:59:12.698Z"
   },
   {
    "duration": 555,
    "start_time": "2022-03-09T16:59:12.718Z"
   },
   {
    "duration": -86,
    "start_time": "2022-03-09T16:59:13.365Z"
   },
   {
    "duration": -87,
    "start_time": "2022-03-09T16:59:13.368Z"
   },
   {
    "duration": -89,
    "start_time": "2022-03-09T16:59:13.371Z"
   },
   {
    "duration": -96,
    "start_time": "2022-03-09T16:59:13.380Z"
   },
   {
    "duration": -101,
    "start_time": "2022-03-09T16:59:13.386Z"
   },
   {
    "duration": -104,
    "start_time": "2022-03-09T16:59:13.391Z"
   },
   {
    "duration": -109,
    "start_time": "2022-03-09T16:59:13.397Z"
   },
   {
    "duration": -112,
    "start_time": "2022-03-09T16:59:13.402Z"
   },
   {
    "duration": -116,
    "start_time": "2022-03-09T16:59:13.407Z"
   },
   {
    "duration": -119,
    "start_time": "2022-03-09T16:59:13.412Z"
   },
   {
    "duration": -120,
    "start_time": "2022-03-09T16:59:13.414Z"
   },
   {
    "duration": -120,
    "start_time": "2022-03-09T16:59:13.416Z"
   },
   {
    "duration": -122,
    "start_time": "2022-03-09T16:59:13.419Z"
   },
   {
    "duration": -129,
    "start_time": "2022-03-09T16:59:13.428Z"
   },
   {
    "duration": -134,
    "start_time": "2022-03-09T16:59:13.434Z"
   },
   {
    "duration": -138,
    "start_time": "2022-03-09T16:59:13.439Z"
   },
   {
    "duration": -143,
    "start_time": "2022-03-09T16:59:13.445Z"
   },
   {
    "duration": -146,
    "start_time": "2022-03-09T16:59:13.450Z"
   },
   {
    "duration": -150,
    "start_time": "2022-03-09T16:59:13.456Z"
   },
   {
    "duration": -154,
    "start_time": "2022-03-09T16:59:13.461Z"
   },
   {
    "duration": -158,
    "start_time": "2022-03-09T16:59:13.466Z"
   },
   {
    "duration": -161,
    "start_time": "2022-03-09T16:59:13.471Z"
   },
   {
    "duration": -173,
    "start_time": "2022-03-09T16:59:13.484Z"
   },
   {
    "duration": -175,
    "start_time": "2022-03-09T16:59:13.487Z"
   },
   {
    "duration": -177,
    "start_time": "2022-03-09T16:59:13.490Z"
   },
   {
    "duration": -185,
    "start_time": "2022-03-09T16:59:13.500Z"
   },
   {
    "duration": -187,
    "start_time": "2022-03-09T16:59:13.503Z"
   },
   {
    "duration": -187,
    "start_time": "2022-03-09T16:59:13.505Z"
   },
   {
    "duration": -189,
    "start_time": "2022-03-09T16:59:13.508Z"
   },
   {
    "duration": -189,
    "start_time": "2022-03-09T16:59:13.510Z"
   },
   {
    "duration": -190,
    "start_time": "2022-03-09T16:59:13.512Z"
   },
   {
    "duration": -203,
    "start_time": "2022-03-09T16:59:13.527Z"
   },
   {
    "duration": -205,
    "start_time": "2022-03-09T16:59:13.530Z"
   },
   {
    "duration": -205,
    "start_time": "2022-03-09T16:59:13.532Z"
   },
   {
    "duration": -167,
    "start_time": "2022-03-09T16:59:13.558Z"
   },
   {
    "duration": -169,
    "start_time": "2022-03-09T16:59:13.561Z"
   },
   {
    "duration": -170,
    "start_time": "2022-03-09T16:59:13.563Z"
   },
   {
    "duration": -170,
    "start_time": "2022-03-09T16:59:13.565Z"
   },
   {
    "duration": -171,
    "start_time": "2022-03-09T16:59:13.568Z"
   },
   {
    "duration": -173,
    "start_time": "2022-03-09T16:59:13.571Z"
   },
   {
    "duration": -173,
    "start_time": "2022-03-09T16:59:13.573Z"
   },
   {
    "duration": -184,
    "start_time": "2022-03-09T16:59:13.586Z"
   },
   {
    "duration": -186,
    "start_time": "2022-03-09T16:59:13.589Z"
   },
   {
    "duration": -186,
    "start_time": "2022-03-09T16:59:13.591Z"
   },
   {
    "duration": -210,
    "start_time": "2022-03-09T16:59:13.616Z"
   },
   {
    "duration": -210,
    "start_time": "2022-03-09T16:59:13.618Z"
   },
   {
    "duration": -212,
    "start_time": "2022-03-09T16:59:13.621Z"
   },
   {
    "duration": -212,
    "start_time": "2022-03-09T16:59:13.623Z"
   },
   {
    "duration": -213,
    "start_time": "2022-03-09T16:59:13.625Z"
   },
   {
    "duration": 17,
    "start_time": "2022-03-09T16:59:45.105Z"
   },
   {
    "duration": 6,
    "start_time": "2022-03-09T16:59:45.125Z"
   },
   {
    "duration": 31,
    "start_time": "2022-03-09T16:59:45.134Z"
   },
   {
    "duration": 6,
    "start_time": "2022-03-09T16:59:45.186Z"
   },
   {
    "duration": 11,
    "start_time": "2022-03-09T16:59:45.195Z"
   },
   {
    "duration": 12,
    "start_time": "2022-03-09T16:59:45.209Z"
   },
   {
    "duration": 10,
    "start_time": "2022-03-09T16:59:45.223Z"
   },
   {
    "duration": 6,
    "start_time": "2022-03-09T16:59:45.235Z"
   },
   {
    "duration": 52,
    "start_time": "2022-03-09T16:59:45.245Z"
   },
   {
    "duration": 36,
    "start_time": "2022-03-09T16:59:45.300Z"
   },
   {
    "duration": 6,
    "start_time": "2022-03-09T16:59:45.339Z"
   },
   {
    "duration": 42,
    "start_time": "2022-03-09T16:59:45.348Z"
   },
   {
    "duration": 20,
    "start_time": "2022-03-09T16:59:45.393Z"
   },
   {
    "duration": 11,
    "start_time": "2022-03-09T16:59:45.415Z"
   },
   {
    "duration": 9,
    "start_time": "2022-03-09T16:59:45.428Z"
   },
   {
    "duration": 9,
    "start_time": "2022-03-09T16:59:45.440Z"
   },
   {
    "duration": 85,
    "start_time": "2022-03-09T16:59:45.451Z"
   },
   {
    "duration": 24,
    "start_time": "2022-03-09T16:59:45.539Z"
   },
   {
    "duration": 22,
    "start_time": "2022-03-09T16:59:45.565Z"
   },
   {
    "duration": 553,
    "start_time": "2022-03-09T16:59:45.589Z"
   },
   {
    "duration": 43,
    "start_time": "2022-03-09T16:59:46.145Z"
   },
   {
    "duration": 869,
    "start_time": "2022-03-09T16:59:46.191Z"
   },
   {
    "duration": 4,
    "start_time": "2022-03-09T16:59:47.062Z"
   },
   {
    "duration": 53,
    "start_time": "2022-03-09T16:59:47.069Z"
   },
   {
    "duration": 997,
    "start_time": "2022-03-09T16:59:47.125Z"
   },
   {
    "duration": 3362,
    "start_time": "2022-03-09T16:59:48.125Z"
   },
   {
    "duration": 38,
    "start_time": "2022-03-09T16:59:51.492Z"
   },
   {
    "duration": 1639,
    "start_time": "2022-03-09T16:59:51.533Z"
   },
   {
    "duration": 17,
    "start_time": "2022-03-09T16:59:53.175Z"
   },
   {
    "duration": 505,
    "start_time": "2022-03-09T16:59:53.194Z"
   },
   {
    "duration": 6,
    "start_time": "2022-03-09T16:59:53.702Z"
   },
   {
    "duration": 5301,
    "start_time": "2022-03-09T16:59:53.711Z"
   },
   {
    "duration": 544,
    "start_time": "2022-03-09T16:59:59.014Z"
   },
   {
    "duration": 41,
    "start_time": "2022-03-09T16:59:59.561Z"
   },
   {
    "duration": 25,
    "start_time": "2022-03-09T16:59:59.604Z"
   },
   {
    "duration": 63,
    "start_time": "2022-03-09T16:59:59.631Z"
   },
   {
    "duration": 26,
    "start_time": "2022-03-09T16:59:59.697Z"
   },
   {
    "duration": 8,
    "start_time": "2022-03-09T16:59:59.726Z"
   },
   {
    "duration": 64,
    "start_time": "2022-03-09T16:59:59.736Z"
   },
   {
    "duration": 25,
    "start_time": "2022-03-09T16:59:59.803Z"
   },
   {
    "duration": 8,
    "start_time": "2022-03-09T16:59:59.830Z"
   },
   {
    "duration": 50,
    "start_time": "2022-03-09T16:59:59.841Z"
   },
   {
    "duration": 28,
    "start_time": "2022-03-09T16:59:59.894Z"
   },
   {
    "duration": 13,
    "start_time": "2022-03-09T16:59:59.924Z"
   },
   {
    "duration": 9,
    "start_time": "2022-03-09T16:59:59.940Z"
   },
   {
    "duration": 9,
    "start_time": "2022-03-09T16:59:59.951Z"
   },
   {
    "duration": 9,
    "start_time": "2022-03-09T16:59:59.987Z"
   },
   {
    "duration": 13,
    "start_time": "2022-03-09T16:59:59.999Z"
   },
   {
    "duration": 10,
    "start_time": "2022-03-09T17:00:00.015Z"
   },
   {
    "duration": 11,
    "start_time": "2022-03-09T17:00:00.027Z"
   },
   {
    "duration": 46,
    "start_time": "2022-03-09T17:00:00.040Z"
   },
   {
    "duration": 7,
    "start_time": "2022-03-09T17:12:58.394Z"
   },
   {
    "duration": 6,
    "start_time": "2022-03-09T17:13:32.718Z"
   },
   {
    "duration": 38,
    "start_time": "2022-03-09T17:13:38.684Z"
   },
   {
    "duration": 11,
    "start_time": "2022-03-09T17:14:27.334Z"
   },
   {
    "duration": 11,
    "start_time": "2022-03-09T17:14:54.144Z"
   },
   {
    "duration": 6,
    "start_time": "2022-03-09T17:15:19.953Z"
   },
   {
    "duration": 1513,
    "start_time": "2022-03-09T17:16:03.275Z"
   },
   {
    "duration": 59,
    "start_time": "2022-03-09T17:16:04.792Z"
   },
   {
    "duration": 43,
    "start_time": "2022-03-09T17:16:04.855Z"
   },
   {
    "duration": 21,
    "start_time": "2022-03-09T17:16:04.901Z"
   },
   {
    "duration": 16,
    "start_time": "2022-03-09T17:16:04.924Z"
   },
   {
    "duration": 5,
    "start_time": "2022-03-09T17:16:04.942Z"
   },
   {
    "duration": 49,
    "start_time": "2022-03-09T17:16:04.949Z"
   },
   {
    "duration": 4,
    "start_time": "2022-03-09T17:16:05.003Z"
   },
   {
    "duration": 31,
    "start_time": "2022-03-09T17:16:05.010Z"
   },
   {
    "duration": 45,
    "start_time": "2022-03-09T17:16:05.044Z"
   },
   {
    "duration": 11,
    "start_time": "2022-03-09T17:16:05.092Z"
   },
   {
    "duration": 13,
    "start_time": "2022-03-09T17:16:05.106Z"
   },
   {
    "duration": 12,
    "start_time": "2022-03-09T17:16:05.121Z"
   },
   {
    "duration": 6,
    "start_time": "2022-03-09T17:16:05.136Z"
   },
   {
    "duration": 43,
    "start_time": "2022-03-09T17:16:05.145Z"
   },
   {
    "duration": 39,
    "start_time": "2022-03-09T17:16:05.190Z"
   },
   {
    "duration": 9,
    "start_time": "2022-03-09T17:16:05.232Z"
   },
   {
    "duration": 15,
    "start_time": "2022-03-09T17:16:05.244Z"
   },
   {
    "duration": 35,
    "start_time": "2022-03-09T17:16:05.287Z"
   },
   {
    "duration": 12,
    "start_time": "2022-03-09T17:16:05.325Z"
   },
   {
    "duration": 13,
    "start_time": "2022-03-09T17:16:05.340Z"
   },
   {
    "duration": 38,
    "start_time": "2022-03-09T17:16:05.356Z"
   },
   {
    "duration": 11,
    "start_time": "2022-03-09T17:16:05.400Z"
   },
   {
    "duration": 21,
    "start_time": "2022-03-09T17:16:05.415Z"
   },
   {
    "duration": 57,
    "start_time": "2022-03-09T17:16:05.439Z"
   },
   {
    "duration": 604,
    "start_time": "2022-03-09T17:16:05.498Z"
   },
   {
    "duration": 24,
    "start_time": "2022-03-09T17:16:06.105Z"
   },
   {
    "duration": 1143,
    "start_time": "2022-03-09T17:16:06.188Z"
   },
   {
    "duration": 4,
    "start_time": "2022-03-09T17:16:07.333Z"
   },
   {
    "duration": 53,
    "start_time": "2022-03-09T17:16:07.340Z"
   },
   {
    "duration": 1006,
    "start_time": "2022-03-09T17:16:07.396Z"
   },
   {
    "duration": 3288,
    "start_time": "2022-03-09T17:16:08.404Z"
   },
   {
    "duration": 58,
    "start_time": "2022-03-09T17:16:11.695Z"
   },
   {
    "duration": 1798,
    "start_time": "2022-03-09T17:16:11.755Z"
   },
   {
    "duration": 9,
    "start_time": "2022-03-09T17:16:13.556Z"
   },
   {
    "duration": 593,
    "start_time": "2022-03-09T17:16:13.567Z"
   },
   {
    "duration": 6,
    "start_time": "2022-03-09T17:16:14.163Z"
   },
   {
    "duration": 5184,
    "start_time": "2022-03-09T17:16:14.187Z"
   },
   {
    "duration": 514,
    "start_time": "2022-03-09T17:16:19.373Z"
   },
   {
    "duration": 39,
    "start_time": "2022-03-09T17:16:19.889Z"
   },
   {
    "duration": 26,
    "start_time": "2022-03-09T17:16:19.930Z"
   },
   {
    "duration": 58,
    "start_time": "2022-03-09T17:16:19.958Z"
   },
   {
    "duration": 38,
    "start_time": "2022-03-09T17:16:20.019Z"
   },
   {
    "duration": 9,
    "start_time": "2022-03-09T17:16:20.089Z"
   },
   {
    "duration": 43,
    "start_time": "2022-03-09T17:16:20.101Z"
   },
   {
    "duration": 60,
    "start_time": "2022-03-09T17:16:20.147Z"
   },
   {
    "duration": 7,
    "start_time": "2022-03-09T17:16:20.209Z"
   },
   {
    "duration": 18,
    "start_time": "2022-03-09T17:16:20.219Z"
   },
   {
    "duration": 65,
    "start_time": "2022-03-09T17:16:20.241Z"
   },
   {
    "duration": 16,
    "start_time": "2022-03-09T17:16:20.309Z"
   },
   {
    "duration": 9,
    "start_time": "2022-03-09T17:16:20.329Z"
   },
   {
    "duration": 14,
    "start_time": "2022-03-09T17:16:20.340Z"
   },
   {
    "duration": 39,
    "start_time": "2022-03-09T17:16:20.357Z"
   },
   {
    "duration": 12,
    "start_time": "2022-03-09T17:16:20.398Z"
   },
   {
    "duration": 11,
    "start_time": "2022-03-09T17:16:20.413Z"
   },
   {
    "duration": 15,
    "start_time": "2022-03-09T17:16:20.428Z"
   },
   {
    "duration": 46,
    "start_time": "2022-03-09T17:16:20.446Z"
   },
   {
    "duration": 6,
    "start_time": "2022-03-09T17:16:20.495Z"
   },
   {
    "duration": 28,
    "start_time": "2022-03-09T17:16:20.504Z"
   },
   {
    "duration": 16,
    "start_time": "2022-03-09T17:16:20.535Z"
   },
   {
    "duration": 16,
    "start_time": "2022-03-09T17:16:41.695Z"
   },
   {
    "duration": 62,
    "start_time": "2022-03-09T17:17:10.425Z"
   },
   {
    "duration": 58,
    "start_time": "2022-03-09T17:17:41.315Z"
   },
   {
    "duration": 40,
    "start_time": "2022-03-09T17:18:17.664Z"
   },
   {
    "duration": 8,
    "start_time": "2022-03-09T17:18:47.025Z"
   },
   {
    "duration": 6,
    "start_time": "2022-03-09T17:19:08.214Z"
   },
   {
    "duration": 7,
    "start_time": "2022-03-09T17:20:33.584Z"
   },
   {
    "duration": 36,
    "start_time": "2022-03-09T17:21:07.524Z"
   },
   {
    "duration": 1446,
    "start_time": "2022-03-10T07:40:32.257Z"
   },
   {
    "duration": 46,
    "start_time": "2022-03-10T07:40:33.705Z"
   },
   {
    "duration": 21,
    "start_time": "2022-03-10T07:40:33.754Z"
   },
   {
    "duration": 34,
    "start_time": "2022-03-10T07:40:33.778Z"
   },
   {
    "duration": 22,
    "start_time": "2022-03-10T07:40:33.815Z"
   },
   {
    "duration": 16,
    "start_time": "2022-03-10T07:40:33.839Z"
   },
   {
    "duration": 22,
    "start_time": "2022-03-10T07:40:33.857Z"
   },
   {
    "duration": 2,
    "start_time": "2022-03-10T07:40:33.883Z"
   },
   {
    "duration": 27,
    "start_time": "2022-03-10T07:40:33.888Z"
   },
   {
    "duration": 7,
    "start_time": "2022-03-10T07:40:33.917Z"
   },
   {
    "duration": 7,
    "start_time": "2022-03-10T07:40:38.739Z"
   },
   {
    "duration": 6,
    "start_time": "2022-03-10T07:40:42.827Z"
   },
   {
    "duration": 9,
    "start_time": "2022-03-10T07:40:50.092Z"
   },
   {
    "duration": 7,
    "start_time": "2022-03-10T07:40:50.596Z"
   },
   {
    "duration": 13,
    "start_time": "2022-03-10T07:40:51.254Z"
   },
   {
    "duration": 35,
    "start_time": "2022-03-10T07:40:54.542Z"
   },
   {
    "duration": 7,
    "start_time": "2022-03-10T07:40:55.067Z"
   },
   {
    "duration": 14,
    "start_time": "2022-03-10T07:40:55.583Z"
   },
   {
    "duration": 20,
    "start_time": "2022-03-10T07:40:57.443Z"
   },
   {
    "duration": 8,
    "start_time": "2022-03-10T07:40:57.984Z"
   },
   {
    "duration": 19,
    "start_time": "2022-03-10T07:41:44.306Z"
   },
   {
    "duration": 8,
    "start_time": "2022-03-10T07:41:45.165Z"
   },
   {
    "duration": 7,
    "start_time": "2022-03-10T07:41:47.776Z"
   },
   {
    "duration": 10,
    "start_time": "2022-03-10T07:41:48.929Z"
   },
   {
    "duration": 12,
    "start_time": "2022-03-10T07:41:51.921Z"
   },
   {
    "duration": 21,
    "start_time": "2022-03-10T07:41:52.568Z"
   },
   {
    "duration": 22,
    "start_time": "2022-03-10T07:42:00.825Z"
   },
   {
    "duration": 575,
    "start_time": "2022-03-10T07:42:04.411Z"
   },
   {
    "duration": 28,
    "start_time": "2022-03-10T07:42:22.395Z"
   },
   {
    "duration": 942,
    "start_time": "2022-03-10T07:42:23.323Z"
   },
   {
    "duration": 809,
    "start_time": "2022-03-10T07:43:51.853Z"
   },
   {
    "duration": 4,
    "start_time": "2022-03-10T07:43:59.805Z"
   },
   {
    "duration": 839,
    "start_time": "2022-03-10T07:44:09.723Z"
   },
   {
    "duration": 5,
    "start_time": "2022-03-10T07:44:20.774Z"
   },
   {
    "duration": 31,
    "start_time": "2022-03-10T07:44:25.153Z"
   },
   {
    "duration": 897,
    "start_time": "2022-03-10T07:44:54.438Z"
   },
   {
    "duration": 2817,
    "start_time": "2022-03-10T07:44:57.581Z"
   },
   {
    "duration": 35,
    "start_time": "2022-03-10T07:46:39.342Z"
   },
   {
    "duration": 38,
    "start_time": "2022-03-10T07:47:05.544Z"
   },
   {
    "duration": 7,
    "start_time": "2022-03-10T07:52:41.384Z"
   },
   {
    "duration": 8,
    "start_time": "2022-03-10T07:52:41.976Z"
   },
   {
    "duration": 6,
    "start_time": "2022-03-10T07:52:42.749Z"
   },
   {
    "duration": 21,
    "start_time": "2022-03-10T07:52:44.495Z"
   },
   {
    "duration": 17,
    "start_time": "2022-03-10T07:52:48.519Z"
   },
   {
    "duration": 514,
    "start_time": "2022-03-10T07:52:49.087Z"
   },
   {
    "duration": 8,
    "start_time": "2022-03-10T07:53:10.025Z"
   },
   {
    "duration": 43,
    "start_time": "2022-03-10T07:53:10.035Z"
   },
   {
    "duration": 19,
    "start_time": "2022-03-10T07:53:10.081Z"
   },
   {
    "duration": 54,
    "start_time": "2022-03-10T07:53:10.103Z"
   },
   {
    "duration": 13,
    "start_time": "2022-03-10T07:53:10.160Z"
   },
   {
    "duration": 5,
    "start_time": "2022-03-10T07:53:10.175Z"
   },
   {
    "duration": 12,
    "start_time": "2022-03-10T07:53:10.182Z"
   },
   {
    "duration": 3,
    "start_time": "2022-03-10T07:53:10.198Z"
   },
   {
    "duration": 64,
    "start_time": "2022-03-10T07:53:10.204Z"
   },
   {
    "duration": 5,
    "start_time": "2022-03-10T07:53:10.271Z"
   },
   {
    "duration": 8,
    "start_time": "2022-03-10T07:53:10.278Z"
   },
   {
    "duration": 7,
    "start_time": "2022-03-10T07:53:10.288Z"
   },
   {
    "duration": 11,
    "start_time": "2022-03-10T07:53:10.297Z"
   },
   {
    "duration": 43,
    "start_time": "2022-03-10T07:53:10.310Z"
   },
   {
    "duration": 15,
    "start_time": "2022-03-10T07:53:10.355Z"
   },
   {
    "duration": 33,
    "start_time": "2022-03-10T07:53:10.372Z"
   },
   {
    "duration": 6,
    "start_time": "2022-03-10T07:53:10.408Z"
   },
   {
    "duration": 42,
    "start_time": "2022-03-10T07:53:10.417Z"
   },
   {
    "duration": 19,
    "start_time": "2022-03-10T07:53:10.462Z"
   },
   {
    "duration": 12,
    "start_time": "2022-03-10T07:53:10.483Z"
   },
   {
    "duration": 9,
    "start_time": "2022-03-10T07:53:10.497Z"
   },
   {
    "duration": 44,
    "start_time": "2022-03-10T07:53:10.508Z"
   },
   {
    "duration": 6,
    "start_time": "2022-03-10T07:53:10.557Z"
   },
   {
    "duration": 24,
    "start_time": "2022-03-10T07:53:10.565Z"
   },
   {
    "duration": 24,
    "start_time": "2022-03-10T07:53:10.591Z"
   },
   {
    "duration": 541,
    "start_time": "2022-03-10T07:53:10.617Z"
   },
   {
    "duration": 24,
    "start_time": "2022-03-10T07:53:11.160Z"
   },
   {
    "duration": 832,
    "start_time": "2022-03-10T07:53:11.187Z"
   },
   {
    "duration": 3,
    "start_time": "2022-03-10T07:53:12.021Z"
   },
   {
    "duration": 50,
    "start_time": "2022-03-10T07:53:12.026Z"
   },
   {
    "duration": 28,
    "start_time": "2022-03-10T07:53:15.182Z"
   },
   {
    "duration": 944,
    "start_time": "2022-03-10T07:53:16.000Z"
   },
   {
    "duration": 2847,
    "start_time": "2022-03-10T07:53:21.993Z"
   },
   {
    "duration": 36,
    "start_time": "2022-03-10T07:53:28.620Z"
   },
   {
    "duration": 1409,
    "start_time": "2022-03-10T07:53:33.454Z"
   },
   {
    "duration": 40,
    "start_time": "2022-03-10T07:53:52.621Z"
   },
   {
    "duration": 1133,
    "start_time": "2022-03-10T07:53:57.354Z"
   },
   {
    "duration": 8,
    "start_time": "2022-03-10T07:58:10.105Z"
   },
   {
    "duration": 471,
    "start_time": "2022-03-10T07:58:10.911Z"
   },
   {
    "duration": 411,
    "start_time": "2022-03-10T08:00:12.990Z"
   },
   {
    "duration": 307,
    "start_time": "2022-03-10T08:00:13.784Z"
   },
   {
    "duration": 6,
    "start_time": "2022-03-10T08:00:44.277Z"
   },
   {
    "duration": 54,
    "start_time": "2022-03-10T08:00:44.286Z"
   },
   {
    "duration": 19,
    "start_time": "2022-03-10T08:00:44.343Z"
   },
   {
    "duration": 30,
    "start_time": "2022-03-10T08:00:44.365Z"
   },
   {
    "duration": 16,
    "start_time": "2022-03-10T08:00:44.397Z"
   },
   {
    "duration": 35,
    "start_time": "2022-03-10T08:00:44.416Z"
   },
   {
    "duration": 12,
    "start_time": "2022-03-10T08:00:44.453Z"
   },
   {
    "duration": 3,
    "start_time": "2022-03-10T08:00:44.467Z"
   },
   {
    "duration": 24,
    "start_time": "2022-03-10T08:00:44.474Z"
   },
   {
    "duration": 6,
    "start_time": "2022-03-10T08:00:44.500Z"
   },
   {
    "duration": 46,
    "start_time": "2022-03-10T08:00:44.508Z"
   },
   {
    "duration": 28,
    "start_time": "2022-03-10T08:00:44.556Z"
   },
   {
    "duration": 9,
    "start_time": "2022-03-10T08:00:44.586Z"
   },
   {
    "duration": 9,
    "start_time": "2022-03-10T08:00:44.597Z"
   },
   {
    "duration": 17,
    "start_time": "2022-03-10T08:00:44.608Z"
   },
   {
    "duration": 46,
    "start_time": "2022-03-10T08:00:44.627Z"
   },
   {
    "duration": 8,
    "start_time": "2022-03-10T08:00:44.676Z"
   },
   {
    "duration": 16,
    "start_time": "2022-03-10T08:00:44.687Z"
   },
   {
    "duration": 54,
    "start_time": "2022-03-10T08:00:44.706Z"
   },
   {
    "duration": 9,
    "start_time": "2022-03-10T08:00:44.764Z"
   },
   {
    "duration": 9,
    "start_time": "2022-03-10T08:00:44.776Z"
   },
   {
    "duration": 9,
    "start_time": "2022-03-10T08:00:44.788Z"
   },
   {
    "duration": 53,
    "start_time": "2022-03-10T08:00:44.800Z"
   },
   {
    "duration": 31,
    "start_time": "2022-03-10T08:00:44.856Z"
   },
   {
    "duration": 23,
    "start_time": "2022-03-10T08:00:44.890Z"
   },
   {
    "duration": 594,
    "start_time": "2022-03-10T08:00:44.915Z"
   },
   {
    "duration": 40,
    "start_time": "2022-03-10T08:00:45.513Z"
   },
   {
    "duration": 1234,
    "start_time": "2022-03-10T08:00:45.556Z"
   },
   {
    "duration": 4,
    "start_time": "2022-03-10T08:00:46.792Z"
   },
   {
    "duration": 53,
    "start_time": "2022-03-10T08:00:46.798Z"
   },
   {
    "duration": 967,
    "start_time": "2022-03-10T08:00:46.853Z"
   },
   {
    "duration": 2993,
    "start_time": "2022-03-10T08:00:47.823Z"
   },
   {
    "duration": 53,
    "start_time": "2022-03-10T08:00:50.819Z"
   },
   {
    "duration": 1179,
    "start_time": "2022-03-10T08:00:50.875Z"
   },
   {
    "duration": 7,
    "start_time": "2022-03-10T08:00:57.158Z"
   },
   {
    "duration": 380,
    "start_time": "2022-03-10T08:01:00.735Z"
   },
   {
    "duration": 314,
    "start_time": "2022-03-10T08:01:37.486Z"
   },
   {
    "duration": 374,
    "start_time": "2022-03-10T08:01:38.124Z"
   },
   {
    "duration": 9,
    "start_time": "2022-03-10T08:02:23.279Z"
   },
   {
    "duration": 6,
    "start_time": "2022-03-10T08:03:11.985Z"
   },
   {
    "duration": 384,
    "start_time": "2022-03-10T08:03:13.558Z"
   },
   {
    "duration": 53,
    "start_time": "2022-03-10T08:03:33.337Z"
   },
   {
    "duration": 6,
    "start_time": "2022-03-10T08:04:15.225Z"
   },
   {
    "duration": 439,
    "start_time": "2022-03-10T08:04:16.030Z"
   },
   {
    "duration": 10,
    "start_time": "2022-03-10T08:04:31.460Z"
   },
   {
    "duration": 449,
    "start_time": "2022-03-10T08:04:32.083Z"
   },
   {
    "duration": 6,
    "start_time": "2022-03-10T08:08:23.987Z"
   },
   {
    "duration": 5958,
    "start_time": "2022-03-10T08:08:24.965Z"
   },
   {
    "duration": 7,
    "start_time": "2022-03-10T08:08:46.782Z"
   },
   {
    "duration": 43,
    "start_time": "2022-03-10T08:08:46.792Z"
   },
   {
    "duration": 21,
    "start_time": "2022-03-10T08:08:46.838Z"
   },
   {
    "duration": 29,
    "start_time": "2022-03-10T08:08:46.863Z"
   },
   {
    "duration": 14,
    "start_time": "2022-03-10T08:08:46.894Z"
   },
   {
    "duration": 41,
    "start_time": "2022-03-10T08:08:46.910Z"
   },
   {
    "duration": 23,
    "start_time": "2022-03-10T08:08:46.957Z"
   },
   {
    "duration": 3,
    "start_time": "2022-03-10T08:08:46.983Z"
   },
   {
    "duration": 23,
    "start_time": "2022-03-10T08:08:46.989Z"
   },
   {
    "duration": 6,
    "start_time": "2022-03-10T08:08:47.014Z"
   },
   {
    "duration": 12,
    "start_time": "2022-03-10T08:08:47.053Z"
   },
   {
    "duration": 7,
    "start_time": "2022-03-10T08:08:47.069Z"
   },
   {
    "duration": 13,
    "start_time": "2022-03-10T08:08:47.079Z"
   },
   {
    "duration": 8,
    "start_time": "2022-03-10T08:08:47.094Z"
   },
   {
    "duration": 75,
    "start_time": "2022-03-10T08:08:47.105Z"
   },
   {
    "duration": 37,
    "start_time": "2022-03-10T08:08:47.182Z"
   },
   {
    "duration": 10,
    "start_time": "2022-03-10T08:08:47.222Z"
   },
   {
    "duration": 19,
    "start_time": "2022-03-10T08:08:47.234Z"
   },
   {
    "duration": 29,
    "start_time": "2022-03-10T08:08:47.260Z"
   },
   {
    "duration": 8,
    "start_time": "2022-03-10T08:08:47.292Z"
   },
   {
    "duration": 9,
    "start_time": "2022-03-10T08:08:47.302Z"
   },
   {
    "duration": 40,
    "start_time": "2022-03-10T08:08:47.314Z"
   },
   {
    "duration": 8,
    "start_time": "2022-03-10T08:08:47.358Z"
   },
   {
    "duration": 27,
    "start_time": "2022-03-10T08:08:47.369Z"
   },
   {
    "duration": 54,
    "start_time": "2022-03-10T08:08:47.399Z"
   },
   {
    "duration": 648,
    "start_time": "2022-03-10T08:08:47.456Z"
   },
   {
    "duration": 27,
    "start_time": "2022-03-10T08:08:48.106Z"
   },
   {
    "duration": 904,
    "start_time": "2022-03-10T08:08:48.135Z"
   },
   {
    "duration": 13,
    "start_time": "2022-03-10T08:08:49.041Z"
   },
   {
    "duration": 46,
    "start_time": "2022-03-10T08:08:49.057Z"
   },
   {
    "duration": 1005,
    "start_time": "2022-03-10T08:08:49.105Z"
   },
   {
    "duration": 3173,
    "start_time": "2022-03-10T08:08:50.112Z"
   },
   {
    "duration": 39,
    "start_time": "2022-03-10T08:08:53.287Z"
   },
   {
    "duration": 1314,
    "start_time": "2022-03-10T08:08:53.329Z"
   },
   {
    "duration": 14,
    "start_time": "2022-03-10T08:08:54.651Z"
   },
   {
    "duration": 522,
    "start_time": "2022-03-10T08:08:54.667Z"
   },
   {
    "duration": 6,
    "start_time": "2022-03-10T08:08:55.191Z"
   },
   {
    "duration": 8,
    "start_time": "2022-03-10T08:08:57.059Z"
   },
   {
    "duration": 6205,
    "start_time": "2022-03-10T08:08:57.779Z"
   },
   {
    "duration": 6,
    "start_time": "2022-03-10T08:09:41.057Z"
   },
   {
    "duration": 5014,
    "start_time": "2022-03-10T08:09:41.515Z"
   },
   {
    "duration": 10,
    "start_time": "2022-03-10T08:11:30.511Z"
   },
   {
    "duration": 81,
    "start_time": "2022-03-10T08:11:30.524Z"
   },
   {
    "duration": 50,
    "start_time": "2022-03-10T08:11:30.609Z"
   },
   {
    "duration": 26,
    "start_time": "2022-03-10T08:11:30.662Z"
   },
   {
    "duration": 23,
    "start_time": "2022-03-10T08:11:30.692Z"
   },
   {
    "duration": 5,
    "start_time": "2022-03-10T08:11:30.752Z"
   },
   {
    "duration": 21,
    "start_time": "2022-03-10T08:11:30.760Z"
   },
   {
    "duration": 5,
    "start_time": "2022-03-10T08:11:30.786Z"
   },
   {
    "duration": 59,
    "start_time": "2022-03-10T08:11:30.794Z"
   },
   {
    "duration": 7,
    "start_time": "2022-03-10T08:11:30.855Z"
   },
   {
    "duration": 32,
    "start_time": "2022-03-10T08:11:30.865Z"
   },
   {
    "duration": 31,
    "start_time": "2022-03-10T08:11:30.900Z"
   },
   {
    "duration": 19,
    "start_time": "2022-03-10T08:11:30.933Z"
   },
   {
    "duration": 12,
    "start_time": "2022-03-10T08:11:30.955Z"
   },
   {
    "duration": 38,
    "start_time": "2022-03-10T08:11:30.969Z"
   },
   {
    "duration": 46,
    "start_time": "2022-03-10T08:11:31.009Z"
   },
   {
    "duration": 21,
    "start_time": "2022-03-10T08:11:31.058Z"
   },
   {
    "duration": 31,
    "start_time": "2022-03-10T08:11:31.082Z"
   },
   {
    "duration": 23,
    "start_time": "2022-03-10T08:11:31.116Z"
   },
   {
    "duration": 50,
    "start_time": "2022-03-10T08:11:31.142Z"
   },
   {
    "duration": 21,
    "start_time": "2022-03-10T08:11:31.195Z"
   },
   {
    "duration": 23,
    "start_time": "2022-03-10T08:11:31.218Z"
   },
   {
    "duration": 10,
    "start_time": "2022-03-10T08:11:31.247Z"
   },
   {
    "duration": 47,
    "start_time": "2022-03-10T08:11:31.261Z"
   },
   {
    "duration": 20,
    "start_time": "2022-03-10T08:11:31.310Z"
   },
   {
    "duration": 531,
    "start_time": "2022-03-10T08:11:31.332Z"
   },
   {
    "duration": 24,
    "start_time": "2022-03-10T08:11:31.865Z"
   },
   {
    "duration": 992,
    "start_time": "2022-03-10T08:11:31.891Z"
   },
   {
    "duration": 3,
    "start_time": "2022-03-10T08:11:32.886Z"
   },
   {
    "duration": 32,
    "start_time": "2022-03-10T08:11:32.891Z"
   },
   {
    "duration": 932,
    "start_time": "2022-03-10T08:11:32.926Z"
   },
   {
    "duration": 2844,
    "start_time": "2022-03-10T08:11:33.860Z"
   },
   {
    "duration": 46,
    "start_time": "2022-03-10T08:11:36.707Z"
   },
   {
    "duration": 1247,
    "start_time": "2022-03-10T08:11:36.756Z"
   },
   {
    "duration": 8,
    "start_time": "2022-03-10T08:11:38.006Z"
   },
   {
    "duration": 454,
    "start_time": "2022-03-10T08:11:38.016Z"
   },
   {
    "duration": 6,
    "start_time": "2022-03-10T08:11:38.472Z"
   },
   {
    "duration": 4993,
    "start_time": "2022-03-10T08:11:38.481Z"
   },
   {
    "duration": 576,
    "start_time": "2022-03-10T08:11:43.477Z"
   },
   {
    "duration": 27,
    "start_time": "2022-03-10T08:11:44.056Z"
   },
   {
    "duration": 42,
    "start_time": "2022-03-10T08:11:44.086Z"
   },
   {
    "duration": 38,
    "start_time": "2022-03-10T08:11:44.130Z"
   },
   {
    "duration": 23,
    "start_time": "2022-03-10T08:11:44.170Z"
   },
   {
    "duration": 23,
    "start_time": "2022-03-10T08:11:44.195Z"
   },
   {
    "duration": 54,
    "start_time": "2022-03-10T08:11:44.220Z"
   },
   {
    "duration": 22,
    "start_time": "2022-03-10T08:11:44.276Z"
   },
   {
    "duration": 23,
    "start_time": "2022-03-10T08:11:44.301Z"
   },
   {
    "duration": 25,
    "start_time": "2022-03-10T08:11:44.326Z"
   },
   {
    "duration": 42,
    "start_time": "2022-03-10T08:11:44.354Z"
   },
   {
    "duration": 34,
    "start_time": "2022-03-10T08:11:44.399Z"
   },
   {
    "duration": 21,
    "start_time": "2022-03-10T08:11:44.436Z"
   },
   {
    "duration": 28,
    "start_time": "2022-03-10T08:11:44.459Z"
   },
   {
    "duration": 26,
    "start_time": "2022-03-10T08:11:44.489Z"
   },
   {
    "duration": 31,
    "start_time": "2022-03-10T08:11:44.518Z"
   },
   {
    "duration": 42,
    "start_time": "2022-03-10T08:11:44.551Z"
   },
   {
    "duration": 25,
    "start_time": "2022-03-10T08:11:44.595Z"
   },
   {
    "duration": 28,
    "start_time": "2022-03-10T08:11:44.623Z"
   },
   {
    "duration": 26,
    "start_time": "2022-03-10T08:13:30.436Z"
   },
   {
    "duration": 25,
    "start_time": "2022-03-10T08:13:41.105Z"
   },
   {
    "duration": 25,
    "start_time": "2022-03-10T08:13:46.878Z"
   },
   {
    "duration": 26,
    "start_time": "2022-03-10T08:14:07.309Z"
   },
   {
    "duration": 24,
    "start_time": "2022-03-10T08:14:08.070Z"
   },
   {
    "duration": 33,
    "start_time": "2022-03-10T08:16:07.166Z"
   },
   {
    "duration": 32,
    "start_time": "2022-03-10T08:21:19.710Z"
   },
   {
    "duration": 326,
    "start_time": "2022-03-10T08:24:38.249Z"
   },
   {
    "duration": 314,
    "start_time": "2022-03-10T08:24:52.346Z"
   },
   {
    "duration": 14,
    "start_time": "2022-03-10T08:25:21.488Z"
   },
   {
    "duration": 20,
    "start_time": "2022-03-10T08:25:32.227Z"
   },
   {
    "duration": 296,
    "start_time": "2022-03-10T08:25:35.159Z"
   },
   {
    "duration": 10,
    "start_time": "2022-03-10T08:43:36.685Z"
   },
   {
    "duration": 48,
    "start_time": "2022-03-10T08:43:36.698Z"
   },
   {
    "duration": 26,
    "start_time": "2022-03-10T08:43:36.749Z"
   },
   {
    "duration": 41,
    "start_time": "2022-03-10T08:43:36.778Z"
   },
   {
    "duration": 45,
    "start_time": "2022-03-10T08:43:36.823Z"
   },
   {
    "duration": 6,
    "start_time": "2022-03-10T08:43:36.871Z"
   },
   {
    "duration": 19,
    "start_time": "2022-03-10T08:43:36.881Z"
   },
   {
    "duration": 4,
    "start_time": "2022-03-10T08:43:36.904Z"
   },
   {
    "duration": 60,
    "start_time": "2022-03-10T08:43:36.911Z"
   },
   {
    "duration": 6,
    "start_time": "2022-03-10T08:43:36.973Z"
   },
   {
    "duration": 8,
    "start_time": "2022-03-10T08:43:36.982Z"
   },
   {
    "duration": 143,
    "start_time": "2022-03-10T08:43:36.992Z"
   },
   {
    "duration": 18,
    "start_time": "2022-03-10T08:43:37.137Z"
   },
   {
    "duration": 5,
    "start_time": "2022-03-10T08:43:37.158Z"
   },
   {
    "duration": 16,
    "start_time": "2022-03-10T08:43:37.165Z"
   },
   {
    "duration": 36,
    "start_time": "2022-03-10T08:43:37.183Z"
   },
   {
    "duration": 8,
    "start_time": "2022-03-10T08:43:37.252Z"
   },
   {
    "duration": 13,
    "start_time": "2022-03-10T08:43:37.262Z"
   },
   {
    "duration": 18,
    "start_time": "2022-03-10T08:43:37.278Z"
   },
   {
    "duration": 13,
    "start_time": "2022-03-10T08:43:37.298Z"
   },
   {
    "duration": 39,
    "start_time": "2022-03-10T08:43:37.313Z"
   },
   {
    "duration": 8,
    "start_time": "2022-03-10T08:43:37.355Z"
   },
   {
    "duration": 9,
    "start_time": "2022-03-10T08:43:37.367Z"
   },
   {
    "duration": 27,
    "start_time": "2022-03-10T08:43:37.380Z"
   },
   {
    "duration": 61,
    "start_time": "2022-03-10T08:43:37.411Z"
   },
   {
    "duration": 540,
    "start_time": "2022-03-10T08:43:37.475Z"
   },
   {
    "duration": 42,
    "start_time": "2022-03-10T08:43:38.018Z"
   },
   {
    "duration": 835,
    "start_time": "2022-03-10T08:43:38.062Z"
   },
   {
    "duration": 4,
    "start_time": "2022-03-10T08:43:38.900Z"
   },
   {
    "duration": 50,
    "start_time": "2022-03-10T08:43:38.906Z"
   },
   {
    "duration": 867,
    "start_time": "2022-03-10T08:43:38.958Z"
   },
   {
    "duration": 2800,
    "start_time": "2022-03-10T08:43:39.828Z"
   },
   {
    "duration": 48,
    "start_time": "2022-03-10T08:43:42.631Z"
   },
   {
    "duration": 1194,
    "start_time": "2022-03-10T08:43:42.682Z"
   },
   {
    "duration": 8,
    "start_time": "2022-03-10T08:43:43.879Z"
   },
   {
    "duration": 568,
    "start_time": "2022-03-10T08:43:43.890Z"
   },
   {
    "duration": 5,
    "start_time": "2022-03-10T08:43:44.461Z"
   },
   {
    "duration": 4901,
    "start_time": "2022-03-10T08:43:44.469Z"
   },
   {
    "duration": 24,
    "start_time": "2022-03-10T08:43:49.372Z"
   },
   {
    "duration": 58,
    "start_time": "2022-03-10T08:43:49.399Z"
   },
   {
    "duration": 27,
    "start_time": "2022-03-10T08:43:49.460Z"
   },
   {
    "duration": 18,
    "start_time": "2022-03-10T08:43:49.489Z"
   },
   {
    "duration": 331,
    "start_time": "2022-03-10T08:43:49.511Z"
   },
   {
    "duration": 23,
    "start_time": "2022-03-10T08:49:54.584Z"
   },
   {
    "duration": 9,
    "start_time": "2022-03-10T08:50:00.408Z"
   },
   {
    "duration": 41,
    "start_time": "2022-03-10T08:50:08.157Z"
   },
   {
    "duration": 8,
    "start_time": "2022-03-10T08:59:45.201Z"
   },
   {
    "duration": 57,
    "start_time": "2022-03-10T08:59:45.212Z"
   },
   {
    "duration": 19,
    "start_time": "2022-03-10T08:59:45.273Z"
   },
   {
    "duration": 67,
    "start_time": "2022-03-10T08:59:45.296Z"
   },
   {
    "duration": 16,
    "start_time": "2022-03-10T08:59:45.366Z"
   },
   {
    "duration": 7,
    "start_time": "2022-03-10T08:59:45.385Z"
   },
   {
    "duration": 58,
    "start_time": "2022-03-10T08:59:45.395Z"
   },
   {
    "duration": 3,
    "start_time": "2022-03-10T08:59:45.458Z"
   },
   {
    "duration": 26,
    "start_time": "2022-03-10T08:59:45.464Z"
   },
   {
    "duration": 8,
    "start_time": "2022-03-10T08:59:45.492Z"
   },
   {
    "duration": 11,
    "start_time": "2022-03-10T08:59:45.503Z"
   },
   {
    "duration": 91,
    "start_time": "2022-03-10T08:59:45.552Z"
   },
   {
    "duration": 7,
    "start_time": "2022-03-10T08:59:45.652Z"
   },
   {
    "duration": 6,
    "start_time": "2022-03-10T08:59:45.661Z"
   },
   {
    "duration": 16,
    "start_time": "2022-03-10T08:59:45.669Z"
   },
   {
    "duration": 68,
    "start_time": "2022-03-10T08:59:45.687Z"
   },
   {
    "duration": 9,
    "start_time": "2022-03-10T08:59:45.758Z"
   },
   {
    "duration": 13,
    "start_time": "2022-03-10T08:59:45.769Z"
   },
   {
    "duration": 19,
    "start_time": "2022-03-10T08:59:45.784Z"
   },
   {
    "duration": 8,
    "start_time": "2022-03-10T08:59:45.806Z"
   },
   {
    "duration": 40,
    "start_time": "2022-03-10T08:59:45.816Z"
   },
   {
    "duration": 8,
    "start_time": "2022-03-10T08:59:45.859Z"
   },
   {
    "duration": 6,
    "start_time": "2022-03-10T08:59:45.872Z"
   },
   {
    "duration": 21,
    "start_time": "2022-03-10T08:59:45.880Z"
   },
   {
    "duration": 63,
    "start_time": "2022-03-10T08:59:45.904Z"
   },
   {
    "duration": 515,
    "start_time": "2022-03-10T08:59:45.970Z"
   },
   {
    "duration": 27,
    "start_time": "2022-03-10T08:59:46.487Z"
   },
   {
    "duration": 835,
    "start_time": "2022-03-10T08:59:46.516Z"
   },
   {
    "duration": 5,
    "start_time": "2022-03-10T08:59:47.354Z"
   },
   {
    "duration": 31,
    "start_time": "2022-03-10T08:59:47.362Z"
   },
   {
    "duration": 959,
    "start_time": "2022-03-10T08:59:47.396Z"
   },
   {
    "duration": 3188,
    "start_time": "2022-03-10T08:59:48.358Z"
   },
   {
    "duration": 41,
    "start_time": "2022-03-10T08:59:51.552Z"
   },
   {
    "duration": 1353,
    "start_time": "2022-03-10T08:59:51.595Z"
   },
   {
    "duration": 13,
    "start_time": "2022-03-10T08:59:52.952Z"
   },
   {
    "duration": 640,
    "start_time": "2022-03-10T08:59:52.969Z"
   },
   {
    "duration": 6,
    "start_time": "2022-03-10T08:59:53.612Z"
   },
   {
    "duration": 5471,
    "start_time": "2022-03-10T08:59:53.620Z"
   },
   {
    "duration": 31,
    "start_time": "2022-03-10T08:59:59.094Z"
   },
   {
    "duration": 55,
    "start_time": "2022-03-10T08:59:59.128Z"
   },
   {
    "duration": 36,
    "start_time": "2022-03-10T08:59:59.186Z"
   },
   {
    "duration": 52,
    "start_time": "2022-03-10T08:59:59.225Z"
   },
   {
    "duration": 315,
    "start_time": "2022-03-10T08:59:59.280Z"
   },
   {
    "duration": 4,
    "start_time": "2022-03-10T09:00:03.323Z"
   },
   {
    "duration": 284,
    "start_time": "2022-03-10T09:01:26.321Z"
   },
   {
    "duration": 320,
    "start_time": "2022-03-10T09:02:20.374Z"
   },
   {
    "duration": 4,
    "start_time": "2022-03-10T09:03:19.468Z"
   },
   {
    "duration": 670,
    "start_time": "2022-03-10T09:03:20.162Z"
   },
   {
    "duration": 646,
    "start_time": "2022-03-10T09:04:21.119Z"
   },
   {
    "duration": 8,
    "start_time": "2022-03-10T09:05:57.095Z"
   },
   {
    "duration": 43,
    "start_time": "2022-03-10T09:05:57.106Z"
   },
   {
    "duration": 20,
    "start_time": "2022-03-10T09:05:57.152Z"
   },
   {
    "duration": 22,
    "start_time": "2022-03-10T09:05:57.175Z"
   },
   {
    "duration": 58,
    "start_time": "2022-03-10T09:05:57.200Z"
   },
   {
    "duration": 5,
    "start_time": "2022-03-10T09:05:57.261Z"
   },
   {
    "duration": 12,
    "start_time": "2022-03-10T09:05:57.269Z"
   },
   {
    "duration": 3,
    "start_time": "2022-03-10T09:05:57.285Z"
   },
   {
    "duration": 66,
    "start_time": "2022-03-10T09:05:57.291Z"
   },
   {
    "duration": 6,
    "start_time": "2022-03-10T09:05:57.360Z"
   },
   {
    "duration": 9,
    "start_time": "2022-03-10T09:05:57.368Z"
   },
   {
    "duration": 11,
    "start_time": "2022-03-10T09:05:57.379Z"
   },
   {
    "duration": 109,
    "start_time": "2022-03-10T09:05:57.392Z"
   },
   {
    "duration": 6,
    "start_time": "2022-03-10T09:05:57.503Z"
   },
   {
    "duration": 15,
    "start_time": "2022-03-10T09:05:57.511Z"
   },
   {
    "duration": 32,
    "start_time": "2022-03-10T09:05:57.552Z"
   },
   {
    "duration": 10,
    "start_time": "2022-03-10T09:05:57.587Z"
   },
   {
    "duration": 13,
    "start_time": "2022-03-10T09:05:57.599Z"
   },
   {
    "duration": 46,
    "start_time": "2022-03-10T09:05:57.614Z"
   },
   {
    "duration": 9,
    "start_time": "2022-03-10T09:05:57.663Z"
   },
   {
    "duration": 7,
    "start_time": "2022-03-10T09:05:57.674Z"
   },
   {
    "duration": 8,
    "start_time": "2022-03-10T09:05:57.683Z"
   },
   {
    "duration": 6,
    "start_time": "2022-03-10T09:05:57.696Z"
   },
   {
    "duration": 55,
    "start_time": "2022-03-10T09:05:57.704Z"
   },
   {
    "duration": 23,
    "start_time": "2022-03-10T09:05:57.761Z"
   },
   {
    "duration": 539,
    "start_time": "2022-03-10T09:05:57.786Z"
   },
   {
    "duration": 38,
    "start_time": "2022-03-10T09:05:58.328Z"
   },
   {
    "duration": 803,
    "start_time": "2022-03-10T09:05:58.368Z"
   },
   {
    "duration": 3,
    "start_time": "2022-03-10T09:05:59.173Z"
   },
   {
    "duration": 34,
    "start_time": "2022-03-10T09:05:59.179Z"
   },
   {
    "duration": 894,
    "start_time": "2022-03-10T09:05:59.215Z"
   },
   {
    "duration": 2916,
    "start_time": "2022-03-10T09:06:00.111Z"
   },
   {
    "duration": 48,
    "start_time": "2022-03-10T09:06:03.029Z"
   },
   {
    "duration": 1194,
    "start_time": "2022-03-10T09:06:03.079Z"
   },
   {
    "duration": 8,
    "start_time": "2022-03-10T09:06:04.275Z"
   },
   {
    "duration": 576,
    "start_time": "2022-03-10T09:06:04.286Z"
   },
   {
    "duration": 6,
    "start_time": "2022-03-10T09:06:04.864Z"
   },
   {
    "duration": 4838,
    "start_time": "2022-03-10T09:06:04.872Z"
   },
   {
    "duration": 40,
    "start_time": "2022-03-10T09:06:09.712Z"
   },
   {
    "duration": 26,
    "start_time": "2022-03-10T09:06:09.754Z"
   },
   {
    "duration": 23,
    "start_time": "2022-03-10T09:06:09.782Z"
   },
   {
    "duration": 51,
    "start_time": "2022-03-10T09:06:09.807Z"
   },
   {
    "duration": 311,
    "start_time": "2022-03-10T09:06:09.860Z"
   },
   {
    "duration": 5,
    "start_time": "2022-03-10T09:06:10.173Z"
   },
   {
    "duration": 9,
    "start_time": "2022-03-10T09:06:10.180Z"
   },
   {
    "duration": 73,
    "start_time": "2022-03-10T09:06:10.191Z"
   },
   {
    "duration": 6,
    "start_time": "2022-03-10T09:06:10.267Z"
   },
   {
    "duration": 8,
    "start_time": "2022-03-10T09:08:02.900Z"
   },
   {
    "duration": 2216,
    "start_time": "2022-03-10T09:08:32.296Z"
   },
   {
    "duration": 834,
    "start_time": "2022-03-10T09:08:41.430Z"
   },
   {
    "duration": 48,
    "start_time": "2022-03-10T09:13:08.617Z"
   },
   {
    "duration": 2040,
    "start_time": "2022-03-10T09:14:38.806Z"
   },
   {
    "duration": 883,
    "start_time": "2022-03-10T09:14:45.268Z"
   },
   {
    "duration": 5,
    "start_time": "2022-03-10T09:17:31.595Z"
   },
   {
    "duration": 50,
    "start_time": "2022-03-10T09:18:12.363Z"
   },
   {
    "duration": 6,
    "start_time": "2022-03-10T09:19:01.111Z"
   },
   {
    "duration": 2023,
    "start_time": "2022-03-10T09:19:33.636Z"
   },
   {
    "duration": 852,
    "start_time": "2022-03-10T09:19:42.755Z"
   },
   {
    "duration": 6,
    "start_time": "2022-03-10T09:23:27.859Z"
   },
   {
    "duration": 802,
    "start_time": "2022-03-10T09:23:28.343Z"
   },
   {
    "duration": 5,
    "start_time": "2022-03-10T09:24:39.329Z"
   },
   {
    "duration": 4,
    "start_time": "2022-03-10T09:24:45.832Z"
   },
   {
    "duration": 8,
    "start_time": "2022-03-10T09:29:30.192Z"
   },
   {
    "duration": 57,
    "start_time": "2022-03-10T09:29:30.202Z"
   },
   {
    "duration": 19,
    "start_time": "2022-03-10T09:29:30.261Z"
   },
   {
    "duration": 35,
    "start_time": "2022-03-10T09:29:30.283Z"
   },
   {
    "duration": 22,
    "start_time": "2022-03-10T09:29:30.321Z"
   },
   {
    "duration": 5,
    "start_time": "2022-03-10T09:29:30.352Z"
   },
   {
    "duration": 14,
    "start_time": "2022-03-10T09:29:30.360Z"
   },
   {
    "duration": 3,
    "start_time": "2022-03-10T09:29:30.378Z"
   },
   {
    "duration": 37,
    "start_time": "2022-03-10T09:29:30.384Z"
   },
   {
    "duration": 6,
    "start_time": "2022-03-10T09:29:30.452Z"
   },
   {
    "duration": 12,
    "start_time": "2022-03-10T09:29:30.460Z"
   },
   {
    "duration": 12,
    "start_time": "2022-03-10T09:29:30.474Z"
   },
   {
    "duration": 15,
    "start_time": "2022-03-10T09:29:30.489Z"
   },
   {
    "duration": 11,
    "start_time": "2022-03-10T09:29:30.506Z"
   },
   {
    "duration": 33,
    "start_time": "2022-03-10T09:29:30.519Z"
   },
   {
    "duration": 284,
    "start_time": "2022-03-10T09:29:33.551Z"
   },
   {
    "duration": 7,
    "start_time": "2022-03-10T09:29:42.165Z"
   },
   {
    "duration": 6,
    "start_time": "2022-03-10T09:31:08.869Z"
   },
   {
    "duration": 9,
    "start_time": "2022-03-10T09:31:32.492Z"
   },
   {
    "duration": 47,
    "start_time": "2022-03-10T09:31:32.505Z"
   },
   {
    "duration": 23,
    "start_time": "2022-03-10T09:31:32.556Z"
   },
   {
    "duration": 69,
    "start_time": "2022-03-10T09:31:32.582Z"
   },
   {
    "duration": 19,
    "start_time": "2022-03-10T09:31:32.654Z"
   },
   {
    "duration": 7,
    "start_time": "2022-03-10T09:31:32.676Z"
   },
   {
    "duration": 14,
    "start_time": "2022-03-10T09:31:32.686Z"
   },
   {
    "duration": 3,
    "start_time": "2022-03-10T09:31:32.753Z"
   },
   {
    "duration": 29,
    "start_time": "2022-03-10T09:31:32.759Z"
   },
   {
    "duration": 6,
    "start_time": "2022-03-10T09:31:32.791Z"
   },
   {
    "duration": 7,
    "start_time": "2022-03-10T09:31:32.800Z"
   },
   {
    "duration": 52,
    "start_time": "2022-03-10T09:31:32.809Z"
   },
   {
    "duration": 112,
    "start_time": "2022-03-10T09:31:32.863Z"
   },
   {
    "duration": 6,
    "start_time": "2022-03-10T09:31:32.977Z"
   },
   {
    "duration": 16,
    "start_time": "2022-03-10T09:31:32.985Z"
   },
   {
    "duration": 6,
    "start_time": "2022-03-10T09:31:33.004Z"
   },
   {
    "duration": 7,
    "start_time": "2022-03-10T09:31:33.013Z"
   },
   {
    "duration": 36,
    "start_time": "2022-03-10T09:31:33.052Z"
   },
   {
    "duration": 12,
    "start_time": "2022-03-10T09:31:33.090Z"
   },
   {
    "duration": 37,
    "start_time": "2022-03-10T09:31:33.105Z"
   },
   {
    "duration": 22,
    "start_time": "2022-03-10T09:31:33.145Z"
   },
   {
    "duration": 9,
    "start_time": "2022-03-10T09:31:33.170Z"
   },
   {
    "duration": 8,
    "start_time": "2022-03-10T09:31:33.184Z"
   },
   {
    "duration": 9,
    "start_time": "2022-03-10T09:31:33.195Z"
   },
   {
    "duration": 48,
    "start_time": "2022-03-10T09:31:33.206Z"
   },
   {
    "duration": 23,
    "start_time": "2022-03-10T09:31:33.256Z"
   },
   {
    "duration": 26,
    "start_time": "2022-03-10T09:31:33.282Z"
   },
   {
    "duration": 563,
    "start_time": "2022-03-10T09:31:33.310Z"
   },
   {
    "duration": 24,
    "start_time": "2022-03-10T09:31:33.875Z"
   },
   {
    "duration": 859,
    "start_time": "2022-03-10T09:31:33.901Z"
   },
   {
    "duration": 5,
    "start_time": "2022-03-10T09:31:34.763Z"
   },
   {
    "duration": 35,
    "start_time": "2022-03-10T09:31:34.772Z"
   },
   {
    "duration": 1012,
    "start_time": "2022-03-10T09:31:34.810Z"
   },
   {
    "duration": 2818,
    "start_time": "2022-03-10T09:31:35.825Z"
   },
   {
    "duration": 36,
    "start_time": "2022-03-10T09:31:38.646Z"
   },
   {
    "duration": 1165,
    "start_time": "2022-03-10T09:31:38.684Z"
   },
   {
    "duration": 8,
    "start_time": "2022-03-10T09:31:39.852Z"
   },
   {
    "duration": 556,
    "start_time": "2022-03-10T09:31:39.862Z"
   },
   {
    "duration": 6,
    "start_time": "2022-03-10T09:31:40.420Z"
   },
   {
    "duration": 5089,
    "start_time": "2022-03-10T09:31:40.428Z"
   },
   {
    "duration": 37,
    "start_time": "2022-03-10T09:31:45.520Z"
   },
   {
    "duration": 41,
    "start_time": "2022-03-10T09:31:45.559Z"
   },
   {
    "duration": 55,
    "start_time": "2022-03-10T09:31:45.603Z"
   },
   {
    "duration": 46,
    "start_time": "2022-03-10T09:31:45.661Z"
   },
   {
    "duration": 357,
    "start_time": "2022-03-10T09:31:45.710Z"
   },
   {
    "duration": 4,
    "start_time": "2022-03-10T09:31:46.070Z"
   },
   {
    "duration": 17,
    "start_time": "2022-03-10T09:31:46.077Z"
   },
   {
    "duration": 60,
    "start_time": "2022-03-10T09:31:46.096Z"
   },
   {
    "duration": 5,
    "start_time": "2022-03-10T09:31:46.159Z"
   },
   {
    "duration": 913,
    "start_time": "2022-03-10T09:31:46.167Z"
   },
   {
    "duration": 48,
    "start_time": "2022-03-10T09:31:47.083Z"
   },
   {
    "duration": 967,
    "start_time": "2022-03-10T09:31:47.152Z"
   },
   {
    "duration": 5,
    "start_time": "2022-03-10T09:31:48.121Z"
   },
   {
    "duration": 377,
    "start_time": "2022-03-10T09:31:48.128Z"
   },
   {
    "duration": 6,
    "start_time": "2022-03-10T09:31:48.507Z"
   },
   {
    "duration": 824,
    "start_time": "2022-03-10T09:31:48.515Z"
   },
   {
    "duration": 36,
    "start_time": "2022-03-10T09:34:23.331Z"
   },
   {
    "duration": 5,
    "start_time": "2022-03-10T09:34:28.376Z"
   },
   {
    "duration": 49,
    "start_time": "2022-03-10T09:34:29.060Z"
   },
   {
    "duration": 6,
    "start_time": "2022-03-10T09:34:29.532Z"
   },
   {
    "duration": 4,
    "start_time": "2022-03-10T09:37:30.411Z"
   },
   {
    "duration": 51,
    "start_time": "2022-03-10T09:37:30.877Z"
   },
   {
    "duration": 6,
    "start_time": "2022-03-10T09:37:32.356Z"
   },
   {
    "duration": 843,
    "start_time": "2022-03-10T09:37:33.843Z"
   },
   {
    "duration": 5,
    "start_time": "2022-03-10T09:40:39.285Z"
   },
   {
    "duration": 8,
    "start_time": "2022-03-10T09:41:11.539Z"
   },
   {
    "duration": 681,
    "start_time": "2022-03-10T09:41:11.550Z"
   },
   {
    "duration": 18,
    "start_time": "2022-03-10T09:41:12.234Z"
   },
   {
    "duration": 24,
    "start_time": "2022-03-10T09:41:12.255Z"
   },
   {
    "duration": 14,
    "start_time": "2022-03-10T09:41:12.282Z"
   },
   {
    "duration": 6,
    "start_time": "2022-03-10T09:41:12.298Z"
   },
   {
    "duration": 53,
    "start_time": "2022-03-10T09:41:12.306Z"
   },
   {
    "duration": 3,
    "start_time": "2022-03-10T09:41:12.363Z"
   },
   {
    "duration": 31,
    "start_time": "2022-03-10T09:41:12.369Z"
   },
   {
    "duration": 7,
    "start_time": "2022-03-10T09:41:12.402Z"
   },
   {
    "duration": 39,
    "start_time": "2022-03-10T09:41:12.412Z"
   },
   {
    "duration": 6,
    "start_time": "2022-03-10T09:41:12.454Z"
   },
   {
    "duration": 9,
    "start_time": "2022-03-10T09:41:12.463Z"
   },
   {
    "duration": 12,
    "start_time": "2022-03-10T09:41:12.474Z"
   },
   {
    "duration": 26,
    "start_time": "2022-03-10T09:41:12.489Z"
   },
   {
    "duration": 33,
    "start_time": "2022-03-10T09:41:12.518Z"
   },
   {
    "duration": 7,
    "start_time": "2022-03-10T09:41:12.554Z"
   },
   {
    "duration": 12,
    "start_time": "2022-03-10T09:41:12.564Z"
   },
   {
    "duration": 85,
    "start_time": "2022-03-10T09:41:12.579Z"
   },
   {
    "duration": 6,
    "start_time": "2022-03-10T09:41:12.667Z"
   },
   {
    "duration": 16,
    "start_time": "2022-03-10T09:41:12.676Z"
   },
   {
    "duration": 20,
    "start_time": "2022-03-10T09:41:12.694Z"
   },
   {
    "duration": 10,
    "start_time": "2022-03-10T09:41:12.753Z"
   },
   {
    "duration": 9,
    "start_time": "2022-03-10T09:41:12.767Z"
   },
   {
    "duration": 11,
    "start_time": "2022-03-10T09:41:12.779Z"
   },
   {
    "duration": 6,
    "start_time": "2022-03-10T09:41:12.793Z"
   },
   {
    "duration": 71,
    "start_time": "2022-03-10T09:41:12.802Z"
   },
   {
    "duration": 25,
    "start_time": "2022-03-10T09:41:12.876Z"
   },
   {
    "duration": 558,
    "start_time": "2022-03-10T09:41:12.904Z"
   },
   {
    "duration": 28,
    "start_time": "2022-03-10T09:41:13.465Z"
   },
   {
    "duration": 809,
    "start_time": "2022-03-10T09:41:13.495Z"
   },
   {
    "duration": 3,
    "start_time": "2022-03-10T09:41:14.306Z"
   },
   {
    "duration": 47,
    "start_time": "2022-03-10T09:41:14.312Z"
   },
   {
    "duration": 1009,
    "start_time": "2022-03-10T09:41:14.361Z"
   },
   {
    "duration": 3083,
    "start_time": "2022-03-10T09:41:15.372Z"
   },
   {
    "duration": 37,
    "start_time": "2022-03-10T09:41:18.458Z"
   },
   {
    "duration": 1258,
    "start_time": "2022-03-10T09:41:18.497Z"
   },
   {
    "duration": 11,
    "start_time": "2022-03-10T09:41:19.758Z"
   },
   {
    "duration": 492,
    "start_time": "2022-03-10T09:41:19.772Z"
   },
   {
    "duration": 6,
    "start_time": "2022-03-10T09:41:20.268Z"
   },
   {
    "duration": 5587,
    "start_time": "2022-03-10T09:41:20.277Z"
   },
   {
    "duration": 24,
    "start_time": "2022-03-10T09:41:25.867Z"
   },
   {
    "duration": 58,
    "start_time": "2022-03-10T09:41:25.893Z"
   },
   {
    "duration": 24,
    "start_time": "2022-03-10T09:41:25.954Z"
   },
   {
    "duration": 21,
    "start_time": "2022-03-10T09:41:25.981Z"
   },
   {
    "duration": 346,
    "start_time": "2022-03-10T09:41:26.005Z"
   },
   {
    "duration": 6,
    "start_time": "2022-03-10T09:41:26.354Z"
   },
   {
    "duration": 15,
    "start_time": "2022-03-10T09:41:26.363Z"
   },
   {
    "duration": 52,
    "start_time": "2022-03-10T09:41:26.380Z"
   },
   {
    "duration": 7,
    "start_time": "2022-03-10T09:41:26.453Z"
   },
   {
    "duration": 855,
    "start_time": "2022-03-10T09:41:26.463Z"
   },
   {
    "duration": 59,
    "start_time": "2022-03-10T09:41:27.320Z"
   },
   {
    "duration": 882,
    "start_time": "2022-03-10T09:41:27.381Z"
   },
   {
    "duration": 5,
    "start_time": "2022-03-10T09:41:28.266Z"
   },
   {
    "duration": 63,
    "start_time": "2022-03-10T09:41:28.274Z"
   },
   {
    "duration": 14,
    "start_time": "2022-03-10T09:41:28.340Z"
   },
   {
    "duration": 830,
    "start_time": "2022-03-10T09:41:28.356Z"
   },
   {
    "duration": 8,
    "start_time": "2022-03-10T09:42:54.451Z"
   },
   {
    "duration": 65,
    "start_time": "2022-03-10T09:42:54.463Z"
   },
   {
    "duration": 21,
    "start_time": "2022-03-10T09:42:54.531Z"
   },
   {
    "duration": 26,
    "start_time": "2022-03-10T09:42:54.555Z"
   },
   {
    "duration": 12,
    "start_time": "2022-03-10T09:42:54.584Z"
   },
   {
    "duration": 25,
    "start_time": "2022-03-10T09:42:54.599Z"
   },
   {
    "duration": 29,
    "start_time": "2022-03-10T09:42:54.626Z"
   },
   {
    "duration": 15,
    "start_time": "2022-03-10T09:42:54.659Z"
   },
   {
    "duration": 33,
    "start_time": "2022-03-10T09:42:54.677Z"
   },
   {
    "duration": 6,
    "start_time": "2022-03-10T09:42:54.712Z"
   },
   {
    "duration": 36,
    "start_time": "2022-03-10T09:42:54.720Z"
   },
   {
    "duration": 11,
    "start_time": "2022-03-10T09:42:54.758Z"
   },
   {
    "duration": 26,
    "start_time": "2022-03-10T09:42:54.771Z"
   },
   {
    "duration": 31,
    "start_time": "2022-03-10T09:42:54.799Z"
   },
   {
    "duration": 25,
    "start_time": "2022-03-10T09:42:54.832Z"
   },
   {
    "duration": 42,
    "start_time": "2022-03-10T09:42:54.860Z"
   },
   {
    "duration": 25,
    "start_time": "2022-03-10T09:42:54.904Z"
   },
   {
    "duration": 19,
    "start_time": "2022-03-10T09:42:54.932Z"
   },
   {
    "duration": 45,
    "start_time": "2022-03-10T09:42:54.953Z"
   },
   {
    "duration": 15,
    "start_time": "2022-03-10T09:42:55.001Z"
   },
   {
    "duration": 15,
    "start_time": "2022-03-10T09:42:55.019Z"
   },
   {
    "duration": 27,
    "start_time": "2022-03-10T09:42:55.037Z"
   },
   {
    "duration": 12,
    "start_time": "2022-03-10T09:42:55.070Z"
   },
   {
    "duration": 8,
    "start_time": "2022-03-10T09:42:55.086Z"
   },
   {
    "duration": 8,
    "start_time": "2022-03-10T09:42:55.097Z"
   },
   {
    "duration": 7,
    "start_time": "2022-03-10T09:42:55.108Z"
   },
   {
    "duration": 21,
    "start_time": "2022-03-10T09:42:55.152Z"
   },
   {
    "duration": 22,
    "start_time": "2022-03-10T09:42:55.176Z"
   },
   {
    "duration": 542,
    "start_time": "2022-03-10T09:42:55.201Z"
   },
   {
    "duration": 27,
    "start_time": "2022-03-10T09:42:55.750Z"
   },
   {
    "duration": 819,
    "start_time": "2022-03-10T09:42:55.780Z"
   },
   {
    "duration": 5,
    "start_time": "2022-03-10T09:42:56.602Z"
   },
   {
    "duration": 59,
    "start_time": "2022-03-10T09:42:56.610Z"
   },
   {
    "duration": 969,
    "start_time": "2022-03-10T09:42:56.672Z"
   },
   {
    "duration": 2880,
    "start_time": "2022-03-10T09:42:57.644Z"
   },
   {
    "duration": 50,
    "start_time": "2022-03-10T09:43:00.526Z"
   },
   {
    "duration": 1239,
    "start_time": "2022-03-10T09:43:00.578Z"
   },
   {
    "duration": 11,
    "start_time": "2022-03-10T09:43:01.820Z"
   },
   {
    "duration": 479,
    "start_time": "2022-03-10T09:43:01.833Z"
   },
   {
    "duration": 7,
    "start_time": "2022-03-10T09:43:02.315Z"
   },
   {
    "duration": 4948,
    "start_time": "2022-03-10T09:43:02.324Z"
   },
   {
    "duration": 22,
    "start_time": "2022-03-10T09:43:07.275Z"
   },
   {
    "duration": 52,
    "start_time": "2022-03-10T09:43:07.300Z"
   },
   {
    "duration": 23,
    "start_time": "2022-03-10T09:43:07.355Z"
   },
   {
    "duration": 21,
    "start_time": "2022-03-10T09:43:07.381Z"
   },
   {
    "duration": 330,
    "start_time": "2022-03-10T09:43:07.404Z"
   },
   {
    "duration": 15,
    "start_time": "2022-03-10T09:43:07.737Z"
   },
   {
    "duration": 5,
    "start_time": "2022-03-10T09:43:07.755Z"
   },
   {
    "duration": 47,
    "start_time": "2022-03-10T09:43:07.763Z"
   },
   {
    "duration": 39,
    "start_time": "2022-03-10T09:43:07.813Z"
   },
   {
    "duration": 829,
    "start_time": "2022-03-10T09:43:07.855Z"
   },
   {
    "duration": 46,
    "start_time": "2022-03-10T09:43:08.686Z"
   },
   {
    "duration": 841,
    "start_time": "2022-03-10T09:43:08.734Z"
   },
   {
    "duration": 5,
    "start_time": "2022-03-10T09:43:09.577Z"
   },
   {
    "duration": 67,
    "start_time": "2022-03-10T09:43:09.584Z"
   },
   {
    "duration": 6,
    "start_time": "2022-03-10T09:43:09.653Z"
   },
   {
    "duration": 6,
    "start_time": "2022-03-10T09:43:13.463Z"
   },
   {
    "duration": 796,
    "start_time": "2022-03-10T09:43:13.977Z"
   },
   {
    "duration": 8,
    "start_time": "2022-03-10T10:14:27.979Z"
   },
   {
    "duration": 49,
    "start_time": "2022-03-10T10:14:27.990Z"
   },
   {
    "duration": 20,
    "start_time": "2022-03-10T10:14:28.042Z"
   },
   {
    "duration": 27,
    "start_time": "2022-03-10T10:14:28.065Z"
   },
   {
    "duration": 15,
    "start_time": "2022-03-10T10:14:28.095Z"
   },
   {
    "duration": 40,
    "start_time": "2022-03-10T10:14:28.113Z"
   },
   {
    "duration": 14,
    "start_time": "2022-03-10T10:14:28.155Z"
   },
   {
    "duration": 6,
    "start_time": "2022-03-10T10:14:28.172Z"
   },
   {
    "duration": 26,
    "start_time": "2022-03-10T10:14:28.182Z"
   },
   {
    "duration": 44,
    "start_time": "2022-03-10T10:14:28.210Z"
   },
   {
    "duration": 17,
    "start_time": "2022-03-10T10:14:28.257Z"
   },
   {
    "duration": 9,
    "start_time": "2022-03-10T10:14:28.276Z"
   },
   {
    "duration": 14,
    "start_time": "2022-03-10T10:14:28.287Z"
   },
   {
    "duration": 7,
    "start_time": "2022-03-10T10:14:28.304Z"
   },
   {
    "duration": 46,
    "start_time": "2022-03-10T10:14:28.314Z"
   },
   {
    "duration": 8,
    "start_time": "2022-03-10T10:14:28.363Z"
   },
   {
    "duration": 8,
    "start_time": "2022-03-10T10:14:28.373Z"
   },
   {
    "duration": 9,
    "start_time": "2022-03-10T10:14:28.384Z"
   },
   {
    "duration": 83,
    "start_time": "2022-03-10T10:14:28.396Z"
   },
   {
    "duration": 9,
    "start_time": "2022-03-10T10:14:28.481Z"
   },
   {
    "duration": 15,
    "start_time": "2022-03-10T10:14:28.493Z"
   },
   {
    "duration": 45,
    "start_time": "2022-03-10T10:14:28.511Z"
   },
   {
    "duration": 10,
    "start_time": "2022-03-10T10:14:28.565Z"
   },
   {
    "duration": 9,
    "start_time": "2022-03-10T10:14:28.580Z"
   },
   {
    "duration": 12,
    "start_time": "2022-03-10T10:14:28.592Z"
   },
   {
    "duration": 49,
    "start_time": "2022-03-10T10:14:28.607Z"
   },
   {
    "duration": 24,
    "start_time": "2022-03-10T10:14:28.659Z"
   },
   {
    "duration": 27,
    "start_time": "2022-03-10T10:14:28.686Z"
   },
   {
    "duration": 536,
    "start_time": "2022-03-10T10:14:28.715Z"
   },
   {
    "duration": 25,
    "start_time": "2022-03-10T10:14:29.253Z"
   },
   {
    "duration": 903,
    "start_time": "2022-03-10T10:14:29.280Z"
   },
   {
    "duration": 3,
    "start_time": "2022-03-10T10:14:30.186Z"
   },
   {
    "duration": 35,
    "start_time": "2022-03-10T10:14:30.191Z"
   },
   {
    "duration": 916,
    "start_time": "2022-03-10T10:14:30.251Z"
   },
   {
    "duration": 2894,
    "start_time": "2022-03-10T10:14:31.169Z"
   },
   {
    "duration": 39,
    "start_time": "2022-03-10T10:14:34.065Z"
   },
   {
    "duration": 1181,
    "start_time": "2022-03-10T10:14:34.107Z"
   },
   {
    "duration": 9,
    "start_time": "2022-03-10T10:14:35.290Z"
   },
   {
    "duration": 471,
    "start_time": "2022-03-10T10:14:35.301Z"
   },
   {
    "duration": 5,
    "start_time": "2022-03-10T10:14:35.774Z"
   },
   {
    "duration": 5202,
    "start_time": "2022-03-10T10:14:35.782Z"
   },
   {
    "duration": 22,
    "start_time": "2022-03-10T10:14:40.986Z"
   },
   {
    "duration": 44,
    "start_time": "2022-03-10T10:14:41.010Z"
   },
   {
    "duration": 21,
    "start_time": "2022-03-10T10:14:41.057Z"
   },
   {
    "duration": 19,
    "start_time": "2022-03-10T10:14:41.081Z"
   },
   {
    "duration": 353,
    "start_time": "2022-03-10T10:14:41.102Z"
   },
   {
    "duration": 5,
    "start_time": "2022-03-10T10:14:41.457Z"
   },
   {
    "duration": 12,
    "start_time": "2022-03-10T10:14:41.466Z"
   },
   {
    "duration": 72,
    "start_time": "2022-03-10T10:14:41.481Z"
   },
   {
    "duration": 6,
    "start_time": "2022-03-10T10:14:41.555Z"
   },
   {
    "duration": 819,
    "start_time": "2022-03-10T10:14:41.564Z"
   },
   {
    "duration": 67,
    "start_time": "2022-03-10T10:14:42.386Z"
   },
   {
    "duration": 834,
    "start_time": "2022-03-10T10:14:42.456Z"
   },
   {
    "duration": 6,
    "start_time": "2022-03-10T10:14:43.293Z"
   },
   {
    "duration": 67,
    "start_time": "2022-03-10T10:14:43.302Z"
   },
   {
    "duration": 5,
    "start_time": "2022-03-10T10:14:43.371Z"
   },
   {
    "duration": 995,
    "start_time": "2022-03-10T10:14:43.379Z"
   },
   {
    "duration": 11,
    "start_time": "2022-03-10T10:14:44.376Z"
   },
   {
    "duration": 19,
    "start_time": "2022-03-10T10:14:44.389Z"
   },
   {
    "duration": 22,
    "start_time": "2022-03-10T10:14:44.411Z"
   },
   {
    "duration": 25,
    "start_time": "2022-03-10T10:14:44.435Z"
   },
   {
    "duration": 33,
    "start_time": "2022-03-10T10:14:44.463Z"
   },
   {
    "duration": 27,
    "start_time": "2022-03-10T10:14:44.498Z"
   },
   {
    "duration": 14,
    "start_time": "2022-03-10T10:14:44.527Z"
   },
   {
    "duration": 51,
    "start_time": "2022-03-10T10:14:44.543Z"
   },
   {
    "duration": 11,
    "start_time": "2022-03-10T10:16:04.813Z"
   },
   {
    "duration": 5,
    "start_time": "2022-03-10T10:16:06.625Z"
   },
   {
    "duration": 6,
    "start_time": "2022-03-10T10:16:07.125Z"
   },
   {
    "duration": 1505,
    "start_time": "2022-03-11T08:56:25.359Z"
   },
   {
    "duration": 52,
    "start_time": "2022-03-11T08:56:26.867Z"
   },
   {
    "duration": 23,
    "start_time": "2022-03-11T08:56:26.925Z"
   },
   {
    "duration": 56,
    "start_time": "2022-03-11T08:56:26.950Z"
   },
   {
    "duration": 13,
    "start_time": "2022-03-11T08:56:27.009Z"
   },
   {
    "duration": 7,
    "start_time": "2022-03-11T08:56:27.025Z"
   },
   {
    "duration": 15,
    "start_time": "2022-03-11T08:56:27.035Z"
   },
   {
    "duration": 7,
    "start_time": "2022-03-11T08:56:27.083Z"
   },
   {
    "duration": 37,
    "start_time": "2022-03-11T08:56:27.094Z"
   },
   {
    "duration": 7,
    "start_time": "2022-03-11T08:56:27.134Z"
   },
   {
    "duration": 10,
    "start_time": "2022-03-11T08:56:27.144Z"
   },
   {
    "duration": 49,
    "start_time": "2022-03-11T08:56:27.156Z"
   },
   {
    "duration": 11,
    "start_time": "2022-03-11T08:56:27.208Z"
   },
   {
    "duration": 8,
    "start_time": "2022-03-11T08:56:27.222Z"
   },
   {
    "duration": 15,
    "start_time": "2022-03-11T08:56:27.232Z"
   },
   {
    "duration": 7,
    "start_time": "2022-03-11T08:56:27.249Z"
   },
   {
    "duration": 28,
    "start_time": "2022-03-11T08:56:27.258Z"
   },
   {
    "duration": 8,
    "start_time": "2022-03-11T08:56:27.289Z"
   },
   {
    "duration": 39,
    "start_time": "2022-03-11T08:56:27.300Z"
   },
   {
    "duration": 8,
    "start_time": "2022-03-11T08:56:27.342Z"
   },
   {
    "duration": 45,
    "start_time": "2022-03-11T08:56:27.353Z"
   },
   {
    "duration": 22,
    "start_time": "2022-03-11T08:56:27.404Z"
   },
   {
    "duration": 18,
    "start_time": "2022-03-11T08:56:27.430Z"
   },
   {
    "duration": 7,
    "start_time": "2022-03-11T08:56:27.451Z"
   },
   {
    "duration": 38,
    "start_time": "2022-03-11T08:56:27.460Z"
   },
   {
    "duration": 12,
    "start_time": "2022-03-11T08:56:27.501Z"
   },
   {
    "duration": 20,
    "start_time": "2022-03-11T08:56:27.515Z"
   },
   {
    "duration": 44,
    "start_time": "2022-03-11T08:56:27.537Z"
   },
   {
    "duration": 572,
    "start_time": "2022-03-11T08:56:27.588Z"
   },
   {
    "duration": 38,
    "start_time": "2022-03-11T08:56:28.162Z"
   },
   {
    "duration": 901,
    "start_time": "2022-03-11T08:56:28.203Z"
   },
   {
    "duration": 3,
    "start_time": "2022-03-11T08:56:29.107Z"
   },
   {
    "duration": 31,
    "start_time": "2022-03-11T08:56:29.112Z"
   },
   {
    "duration": 959,
    "start_time": "2022-03-11T08:56:29.145Z"
   },
   {
    "duration": 3698,
    "start_time": "2022-03-11T08:56:30.107Z"
   },
   {
    "duration": 37,
    "start_time": "2022-03-11T08:56:33.807Z"
   },
   {
    "duration": 1272,
    "start_time": "2022-03-11T08:56:33.846Z"
   },
   {
    "duration": 8,
    "start_time": "2022-03-11T08:56:35.120Z"
   },
   {
    "duration": 508,
    "start_time": "2022-03-11T08:56:35.131Z"
   },
   {
    "duration": 6,
    "start_time": "2022-03-11T08:56:35.641Z"
   },
   {
    "duration": 5551,
    "start_time": "2022-03-11T08:56:35.650Z"
   },
   {
    "duration": 1015,
    "start_time": "2022-03-11T08:56:41.203Z"
   },
   {
    "duration": 27,
    "start_time": "2022-03-11T08:56:42.220Z"
   },
   {
    "duration": 55,
    "start_time": "2022-03-11T08:56:42.249Z"
   },
   {
    "duration": 21,
    "start_time": "2022-03-11T08:56:42.306Z"
   },
   {
    "duration": 341,
    "start_time": "2022-03-11T08:56:42.329Z"
   },
   {
    "duration": 4,
    "start_time": "2022-03-11T08:56:42.673Z"
   },
   {
    "duration": 8,
    "start_time": "2022-03-11T08:56:42.682Z"
   },
   {
    "duration": 51,
    "start_time": "2022-03-11T08:56:42.693Z"
   },
   {
    "duration": 40,
    "start_time": "2022-03-11T08:56:42.747Z"
   },
   {
    "duration": 870,
    "start_time": "2022-03-11T08:56:42.791Z"
   },
   {
    "duration": 64,
    "start_time": "2022-03-11T08:56:43.664Z"
   },
   {
    "duration": 889,
    "start_time": "2022-03-11T08:56:43.731Z"
   },
   {
    "duration": 5,
    "start_time": "2022-03-11T08:56:44.622Z"
   },
   {
    "duration": 72,
    "start_time": "2022-03-11T08:56:44.629Z"
   },
   {
    "duration": 5,
    "start_time": "2022-03-11T08:56:44.704Z"
   },
   {
    "duration": 854,
    "start_time": "2022-03-11T08:56:44.712Z"
   },
   {
    "duration": 20,
    "start_time": "2022-03-11T08:56:45.568Z"
   },
   {
    "duration": 20,
    "start_time": "2022-03-11T08:56:45.591Z"
   },
   {
    "duration": 7,
    "start_time": "2022-03-11T08:56:45.614Z"
   },
   {
    "duration": 9,
    "start_time": "2022-03-11T08:56:45.623Z"
   },
   {
    "duration": 18,
    "start_time": "2022-03-11T08:56:45.635Z"
   },
   {
    "duration": 28,
    "start_time": "2022-03-11T08:56:45.656Z"
   },
   {
    "duration": 19,
    "start_time": "2022-03-11T08:56:45.686Z"
   },
   {
    "duration": 10,
    "start_time": "2022-03-11T08:56:45.709Z"
   },
   {
    "duration": 7,
    "start_time": "2022-03-11T08:58:10.840Z"
   },
   {
    "duration": 8,
    "start_time": "2022-03-11T08:58:48.501Z"
   },
   {
    "duration": 7,
    "start_time": "2022-03-11T08:58:55.040Z"
   },
   {
    "duration": 1239,
    "start_time": "2022-03-11T13:02:00.998Z"
   },
   {
    "duration": 38,
    "start_time": "2022-03-11T13:02:02.240Z"
   },
   {
    "duration": 19,
    "start_time": "2022-03-11T13:02:02.280Z"
   },
   {
    "duration": 37,
    "start_time": "2022-03-11T13:02:02.302Z"
   },
   {
    "duration": 13,
    "start_time": "2022-03-11T13:02:02.341Z"
   },
   {
    "duration": 6,
    "start_time": "2022-03-11T13:02:02.356Z"
   },
   {
    "duration": 15,
    "start_time": "2022-03-11T13:02:02.364Z"
   },
   {
    "duration": 5,
    "start_time": "2022-03-11T13:02:02.383Z"
   },
   {
    "duration": 51,
    "start_time": "2022-03-11T13:02:02.390Z"
   },
   {
    "duration": 4,
    "start_time": "2022-03-11T13:02:02.444Z"
   },
   {
    "duration": 10,
    "start_time": "2022-03-11T13:02:02.450Z"
   },
   {
    "duration": 10,
    "start_time": "2022-03-11T13:02:02.462Z"
   },
   {
    "duration": 8,
    "start_time": "2022-03-11T13:02:02.473Z"
   },
   {
    "duration": 6,
    "start_time": "2022-03-11T13:02:02.483Z"
   },
   {
    "duration": 18,
    "start_time": "2022-03-11T13:02:02.491Z"
   },
   {
    "duration": 29,
    "start_time": "2022-03-11T13:02:02.511Z"
   },
   {
    "duration": 4,
    "start_time": "2022-03-11T13:02:02.542Z"
   },
   {
    "duration": 14,
    "start_time": "2022-03-11T13:02:02.548Z"
   },
   {
    "duration": 40,
    "start_time": "2022-03-11T13:02:02.563Z"
   },
   {
    "duration": 23,
    "start_time": "2022-03-11T13:02:02.605Z"
   },
   {
    "duration": 16,
    "start_time": "2022-03-11T13:02:02.630Z"
   },
   {
    "duration": 14,
    "start_time": "2022-03-11T13:02:02.648Z"
   },
   {
    "duration": 6,
    "start_time": "2022-03-11T13:02:02.665Z"
   },
   {
    "duration": 9,
    "start_time": "2022-03-11T13:02:02.673Z"
   },
   {
    "duration": 9,
    "start_time": "2022-03-11T13:02:02.684Z"
   },
   {
    "duration": 10,
    "start_time": "2022-03-11T13:02:02.694Z"
   },
   {
    "duration": 36,
    "start_time": "2022-03-11T13:02:02.705Z"
   },
   {
    "duration": 31,
    "start_time": "2022-03-11T13:02:02.743Z"
   },
   {
    "duration": 363,
    "start_time": "2022-03-11T13:02:02.776Z"
   },
   {
    "duration": 19,
    "start_time": "2022-03-11T13:02:03.140Z"
   },
   {
    "duration": 589,
    "start_time": "2022-03-11T13:02:03.160Z"
   },
   {
    "duration": 2,
    "start_time": "2022-03-11T13:02:03.751Z"
   },
   {
    "duration": 29,
    "start_time": "2022-03-11T13:02:03.755Z"
   },
   {
    "duration": 628,
    "start_time": "2022-03-11T13:02:03.786Z"
   },
   {
    "duration": 2002,
    "start_time": "2022-03-11T13:02:04.415Z"
   },
   {
    "duration": 36,
    "start_time": "2022-03-11T13:02:06.419Z"
   },
   {
    "duration": 837,
    "start_time": "2022-03-11T13:02:06.457Z"
   },
   {
    "duration": 7,
    "start_time": "2022-03-11T13:02:07.296Z"
   },
   {
    "duration": 324,
    "start_time": "2022-03-11T13:02:07.305Z"
   },
   {
    "duration": 7,
    "start_time": "2022-03-11T13:02:07.630Z"
   },
   {
    "duration": 3747,
    "start_time": "2022-03-11T13:02:07.639Z"
   },
   {
    "duration": 272,
    "start_time": "2022-03-11T13:02:11.388Z"
   },
   {
    "duration": 26,
    "start_time": "2022-03-11T13:02:11.663Z"
   },
   {
    "duration": 17,
    "start_time": "2022-03-11T13:02:11.691Z"
   },
   {
    "duration": 41,
    "start_time": "2022-03-11T13:02:11.710Z"
   },
   {
    "duration": 220,
    "start_time": "2022-03-11T13:02:11.753Z"
   },
   {
    "duration": 3,
    "start_time": "2022-03-11T13:02:11.975Z"
   },
   {
    "duration": 9,
    "start_time": "2022-03-11T13:02:11.980Z"
   },
   {
    "duration": 36,
    "start_time": "2022-03-11T13:02:11.990Z"
   },
   {
    "duration": 6,
    "start_time": "2022-03-11T13:02:12.038Z"
   },
   {
    "duration": 557,
    "start_time": "2022-03-11T13:02:12.046Z"
   },
   {
    "duration": 46,
    "start_time": "2022-03-11T13:02:12.605Z"
   },
   {
    "duration": 584,
    "start_time": "2022-03-11T13:02:12.653Z"
   },
   {
    "duration": 4,
    "start_time": "2022-03-11T13:02:13.239Z"
   },
   {
    "duration": 39,
    "start_time": "2022-03-11T13:02:13.246Z"
   },
   {
    "duration": 5,
    "start_time": "2022-03-11T13:02:13.288Z"
   },
   {
    "duration": 579,
    "start_time": "2022-03-11T13:02:13.294Z"
   },
   {
    "duration": 11,
    "start_time": "2022-03-11T13:02:17.988Z"
   },
   {
    "duration": 9,
    "start_time": "2022-03-11T13:02:33.339Z"
   },
   {
    "duration": 6,
    "start_time": "2022-03-11T13:02:37.420Z"
   },
   {
    "duration": 6,
    "start_time": "2022-03-11T13:03:01.933Z"
   },
   {
    "duration": 6,
    "start_time": "2022-03-11T13:03:03.242Z"
   },
   {
    "duration": 4,
    "start_time": "2022-03-11T13:03:03.780Z"
   },
   {
    "duration": 5,
    "start_time": "2022-03-11T13:03:04.336Z"
   },
   {
    "duration": 7,
    "start_time": "2022-03-11T13:03:06.571Z"
   },
   {
    "duration": 8,
    "start_time": "2022-03-11T13:03:11.401Z"
   },
   {
    "duration": 6,
    "start_time": "2022-03-11T13:03:30.668Z"
   },
   {
    "duration": 4,
    "start_time": "2022-03-11T13:03:30.993Z"
   },
   {
    "duration": 4,
    "start_time": "2022-03-11T13:03:31.297Z"
   },
   {
    "duration": 6,
    "start_time": "2022-03-11T13:03:31.816Z"
   },
   {
    "duration": 9,
    "start_time": "2022-03-11T13:03:35.572Z"
   },
   {
    "duration": 5,
    "start_time": "2022-03-11T13:03:37.339Z"
   },
   {
    "duration": 4,
    "start_time": "2022-03-11T13:03:37.685Z"
   },
   {
    "duration": 7,
    "start_time": "2022-03-11T13:03:38.044Z"
   },
   {
    "duration": 6,
    "start_time": "2022-03-11T13:03:47.198Z"
   },
   {
    "duration": 44,
    "start_time": "2022-03-11T13:03:47.206Z"
   },
   {
    "duration": 13,
    "start_time": "2022-03-11T13:03:47.253Z"
   },
   {
    "duration": 17,
    "start_time": "2022-03-11T13:03:47.268Z"
   },
   {
    "duration": 13,
    "start_time": "2022-03-11T13:03:47.287Z"
   },
   {
    "duration": 4,
    "start_time": "2022-03-11T13:03:47.302Z"
   },
   {
    "duration": 12,
    "start_time": "2022-03-11T13:03:47.338Z"
   },
   {
    "duration": 5,
    "start_time": "2022-03-11T13:03:47.353Z"
   },
   {
    "duration": 28,
    "start_time": "2022-03-11T13:03:47.360Z"
   },
   {
    "duration": 6,
    "start_time": "2022-03-11T13:03:47.390Z"
   },
   {
    "duration": 42,
    "start_time": "2022-03-11T13:03:47.398Z"
   },
   {
    "duration": 13,
    "start_time": "2022-03-11T13:03:47.442Z"
   },
   {
    "duration": 136,
    "start_time": "2022-03-11T13:03:47.457Z"
   },
   {
    "duration": 8,
    "start_time": "2022-03-11T13:03:47.595Z"
   },
   {
    "duration": 12,
    "start_time": "2022-03-11T13:03:47.604Z"
   },
   {
    "duration": 19,
    "start_time": "2022-03-11T13:03:47.618Z"
   },
   {
    "duration": 6,
    "start_time": "2022-03-11T13:03:47.639Z"
   },
   {
    "duration": 8,
    "start_time": "2022-03-11T13:03:47.647Z"
   },
   {
    "duration": 31,
    "start_time": "2022-03-11T13:03:47.657Z"
   },
   {
    "duration": 5,
    "start_time": "2022-03-11T13:03:47.690Z"
   },
   {
    "duration": 41,
    "start_time": "2022-03-11T13:03:47.697Z"
   },
   {
    "duration": 14,
    "start_time": "2022-03-11T13:03:47.740Z"
   },
   {
    "duration": 8,
    "start_time": "2022-03-11T13:03:47.758Z"
   },
   {
    "duration": 5,
    "start_time": "2022-03-11T13:03:47.768Z"
   },
   {
    "duration": 6,
    "start_time": "2022-03-11T13:03:47.775Z"
   },
   {
    "duration": 12,
    "start_time": "2022-03-11T13:03:47.783Z"
   },
   {
    "duration": 42,
    "start_time": "2022-03-11T13:03:47.797Z"
   },
   {
    "duration": 16,
    "start_time": "2022-03-11T13:03:47.840Z"
   },
   {
    "duration": 387,
    "start_time": "2022-03-11T13:03:47.858Z"
   },
   {
    "duration": 17,
    "start_time": "2022-03-11T13:03:48.248Z"
   },
   {
    "duration": 558,
    "start_time": "2022-03-11T13:03:48.267Z"
   },
   {
    "duration": 3,
    "start_time": "2022-03-11T13:03:48.827Z"
   },
   {
    "duration": 28,
    "start_time": "2022-03-11T13:03:48.832Z"
   },
   {
    "duration": 596,
    "start_time": "2022-03-11T13:03:48.862Z"
   },
   {
    "duration": 1872,
    "start_time": "2022-03-11T13:03:49.460Z"
   },
   {
    "duration": 24,
    "start_time": "2022-03-11T13:03:51.337Z"
   },
   {
    "duration": 825,
    "start_time": "2022-03-11T13:03:51.363Z"
   },
   {
    "duration": 7,
    "start_time": "2022-03-11T13:03:52.191Z"
   },
   {
    "duration": 418,
    "start_time": "2022-03-11T13:03:52.199Z"
   },
   {
    "duration": 4,
    "start_time": "2022-03-11T13:03:52.619Z"
   },
   {
    "duration": 7,
    "start_time": "2022-03-11T13:03:58.747Z"
   },
   {
    "duration": 32,
    "start_time": "2022-03-11T13:03:58.758Z"
   },
   {
    "duration": 15,
    "start_time": "2022-03-11T13:03:58.791Z"
   },
   {
    "duration": 39,
    "start_time": "2022-03-11T13:03:58.808Z"
   },
   {
    "duration": 12,
    "start_time": "2022-03-11T13:03:58.849Z"
   },
   {
    "duration": 4,
    "start_time": "2022-03-11T13:03:58.863Z"
   },
   {
    "duration": 11,
    "start_time": "2022-03-11T13:03:58.869Z"
   },
   {
    "duration": 2,
    "start_time": "2022-03-11T13:03:58.882Z"
   },
   {
    "duration": 21,
    "start_time": "2022-03-11T13:03:58.886Z"
   },
   {
    "duration": 33,
    "start_time": "2022-03-11T13:03:58.909Z"
   },
   {
    "duration": 7,
    "start_time": "2022-03-11T13:03:58.944Z"
   },
   {
    "duration": 8,
    "start_time": "2022-03-11T13:03:58.953Z"
   },
   {
    "duration": 7,
    "start_time": "2022-03-11T13:03:58.962Z"
   },
   {
    "duration": 6,
    "start_time": "2022-03-11T13:03:58.971Z"
   },
   {
    "duration": 13,
    "start_time": "2022-03-11T13:03:58.979Z"
   },
   {
    "duration": 6,
    "start_time": "2022-03-11T13:03:58.994Z"
   },
   {
    "duration": 42,
    "start_time": "2022-03-11T13:03:59.002Z"
   },
   {
    "duration": 8,
    "start_time": "2022-03-11T13:03:59.046Z"
   },
   {
    "duration": 33,
    "start_time": "2022-03-11T13:03:59.057Z"
   },
   {
    "duration": 8,
    "start_time": "2022-03-11T13:03:59.093Z"
   },
   {
    "duration": 39,
    "start_time": "2022-03-11T13:03:59.102Z"
   },
   {
    "duration": 24,
    "start_time": "2022-03-11T13:03:59.143Z"
   },
   {
    "duration": 8,
    "start_time": "2022-03-11T13:03:59.169Z"
   },
   {
    "duration": 6,
    "start_time": "2022-03-11T13:03:59.179Z"
   },
   {
    "duration": 6,
    "start_time": "2022-03-11T13:03:59.187Z"
   },
   {
    "duration": 6,
    "start_time": "2022-03-11T13:03:59.195Z"
   },
   {
    "duration": 44,
    "start_time": "2022-03-11T13:03:59.203Z"
   },
   {
    "duration": 20,
    "start_time": "2022-03-11T13:03:59.249Z"
   },
   {
    "duration": 370,
    "start_time": "2022-03-11T13:03:59.271Z"
   },
   {
    "duration": 25,
    "start_time": "2022-03-11T13:03:59.643Z"
   },
   {
    "duration": 597,
    "start_time": "2022-03-11T13:03:59.670Z"
   },
   {
    "duration": 2,
    "start_time": "2022-03-11T13:04:00.269Z"
   },
   {
    "duration": 27,
    "start_time": "2022-03-11T13:04:00.273Z"
   },
   {
    "duration": 630,
    "start_time": "2022-03-11T13:04:00.302Z"
   },
   {
    "duration": 1902,
    "start_time": "2022-03-11T13:04:00.934Z"
   },
   {
    "duration": 24,
    "start_time": "2022-03-11T13:04:02.838Z"
   },
   {
    "duration": 930,
    "start_time": "2022-03-11T13:04:02.863Z"
   },
   {
    "duration": 7,
    "start_time": "2022-03-11T13:04:03.796Z"
   },
   {
    "duration": 344,
    "start_time": "2022-03-11T13:04:03.805Z"
   },
   {
    "duration": 4,
    "start_time": "2022-03-11T13:04:04.151Z"
   },
   {
    "duration": 3671,
    "start_time": "2022-03-11T13:04:04.156Z"
   },
   {
    "duration": 16,
    "start_time": "2022-03-11T13:04:07.829Z"
   },
   {
    "duration": 19,
    "start_time": "2022-03-11T13:04:07.846Z"
   },
   {
    "duration": 36,
    "start_time": "2022-03-11T13:04:07.867Z"
   },
   {
    "duration": 14,
    "start_time": "2022-03-11T13:04:07.905Z"
   },
   {
    "duration": 214,
    "start_time": "2022-03-11T13:04:07.921Z"
   },
   {
    "duration": 3,
    "start_time": "2022-03-11T13:04:08.137Z"
   },
   {
    "duration": 17,
    "start_time": "2022-03-11T13:04:08.142Z"
   },
   {
    "duration": 48,
    "start_time": "2022-03-11T13:04:08.160Z"
   },
   {
    "duration": 4,
    "start_time": "2022-03-11T13:04:08.210Z"
   },
   {
    "duration": 541,
    "start_time": "2022-03-11T13:04:08.216Z"
   },
   {
    "duration": 32,
    "start_time": "2022-03-11T13:04:08.759Z"
   },
   {
    "duration": 563,
    "start_time": "2022-03-11T13:04:08.793Z"
   },
   {
    "duration": 3,
    "start_time": "2022-03-11T13:04:09.358Z"
   },
   {
    "duration": 37,
    "start_time": "2022-03-11T13:04:09.363Z"
   },
   {
    "duration": 5,
    "start_time": "2022-03-11T13:04:09.401Z"
   },
   {
    "duration": 556,
    "start_time": "2022-03-11T13:04:09.407Z"
   },
   {
    "duration": 8,
    "start_time": "2022-03-11T13:04:09.965Z"
   },
   {
    "duration": 9,
    "start_time": "2022-03-11T13:04:09.974Z"
   },
   {
    "duration": 6,
    "start_time": "2022-03-11T13:04:09.985Z"
   },
   {
    "duration": 7,
    "start_time": "2022-03-11T13:04:09.993Z"
   },
   {
    "duration": 38,
    "start_time": "2022-03-11T13:04:10.002Z"
   },
   {
    "duration": 14,
    "start_time": "2022-03-11T13:04:10.042Z"
   },
   {
    "duration": 8,
    "start_time": "2022-03-11T13:04:10.057Z"
   },
   {
    "duration": 8,
    "start_time": "2022-03-11T13:04:10.067Z"
   },
   {
    "duration": 14,
    "start_time": "2022-03-11T13:04:10.077Z"
   }
  ],
  "kernelspec": {
   "display_name": "Python 3",
   "language": "python",
   "name": "python3"
  },
  "language_info": {
   "codemirror_mode": {
    "name": "ipython",
    "version": 3
   },
   "file_extension": ".py",
   "mimetype": "text/x-python",
   "name": "python",
   "nbconvert_exporter": "python",
   "pygments_lexer": "ipython3",
   "version": "3.7.4"
  },
  "toc": {
   "base_numbering": 1,
   "nav_menu": {},
   "number_sections": false,
   "sideBar": true,
   "skip_h1_title": false,
   "title_cell": "Table of Contents",
   "title_sidebar": "Contents",
   "toc_cell": false,
   "toc_position": {},
   "toc_section_display": true,
   "toc_window_display": true
  }
 },
 "nbformat": 4,
 "nbformat_minor": 2
}

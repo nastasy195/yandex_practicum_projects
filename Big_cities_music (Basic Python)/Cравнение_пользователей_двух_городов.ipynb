{
 "cells": [
  {
   "cell_type": "markdown",
   "metadata": {
    "id": "E0vqbgi9ay0H"
   },
   "source": [
    "# Сравнение пользователей музыкального сервиса среди двух крупных городов."
   ]
  },
  {
   "cell_type": "markdown",
   "metadata": {
    "id": "VUC88oWjTJw2"
   },
   "source": [
    "**Цель исследования** — проверю *три гипотезы*:\n",
    "1. Активность пользователей зависит от дня недели. \n",
    "2. В первый будний день утром в столице России преобладают определенные виды жанов музыки, а в СПб — другие. Так же и с вечером пятницы - в зависимости от города преобладают разные жанры . \n",
    "3. Пользователи из двух разных крупных городов предпочитают разные музыкальные жанры. В столице -  чаще слушают поп-музыку, в СПб — русский рэп.\n",
    "\n",
    "**Ход исследования**\n",
    "\n",
    "Проведем первичный анализ данных.\n",
    "Проверим данные на аномалии и оценим их влияние на исследование. \n",
    "На этапе обрабтки - исправление критичных аномалий данных.\n",
    " \n",
    "**Таким образом, исследование пройдёт в три этапа:**\n",
    "\n",
    " 1. Знакомство с данными.\n",
    " 2. Предобработка данных.\n",
    " 3. Проверка гипотез."
   ]
  },
  {
   "cell_type": "markdown",
   "metadata": {
    "id": "Ml1hmfXC_Zcs"
   },
   "source": [
    "## Знакомство с данными."
   ]
  },
  {
   "cell_type": "code",
   "execution_count": 58,
   "metadata": {
    "id": "AXN7PHPN_Zcs"
   },
   "outputs": [],
   "source": [
    "# импорт библиотеки pandas\n",
    "\n",
    "import pandas as pd "
   ]
  },
  {
   "cell_type": "code",
   "execution_count": 59,
   "metadata": {
    "id": "fFVu7vqh_Zct"
   },
   "outputs": [],
   "source": [
    "# чтение файла с данными и сохранение в df\n",
    "\n",
    "df = pd.read_csv('yandex_music_project.csv')  "
   ]
  },
  {
   "cell_type": "code",
   "execution_count": 60,
   "metadata": {
    "id": "oWTVX3gW_Zct"
   },
   "outputs": [
    {
     "data": {
      "text/html": [
       "<div>\n",
       "<style scoped>\n",
       "    .dataframe tbody tr th:only-of-type {\n",
       "        vertical-align: middle;\n",
       "    }\n",
       "\n",
       "    .dataframe tbody tr th {\n",
       "        vertical-align: top;\n",
       "    }\n",
       "\n",
       "    .dataframe thead th {\n",
       "        text-align: right;\n",
       "    }\n",
       "</style>\n",
       "<table border=\"1\" class=\"dataframe\">\n",
       "  <thead>\n",
       "    <tr style=\"text-align: right;\">\n",
       "      <th></th>\n",
       "      <th>userID</th>\n",
       "      <th>Track</th>\n",
       "      <th>artist</th>\n",
       "      <th>genre</th>\n",
       "      <th>City</th>\n",
       "      <th>time</th>\n",
       "      <th>Day</th>\n",
       "    </tr>\n",
       "  </thead>\n",
       "  <tbody>\n",
       "    <tr>\n",
       "      <th>0</th>\n",
       "      <td>FFB692EC</td>\n",
       "      <td>Kamigata To Boots</td>\n",
       "      <td>The Mass Missile</td>\n",
       "      <td>rock</td>\n",
       "      <td>Saint-Petersburg</td>\n",
       "      <td>20:28:33</td>\n",
       "      <td>Wednesday</td>\n",
       "    </tr>\n",
       "    <tr>\n",
       "      <th>1</th>\n",
       "      <td>55204538</td>\n",
       "      <td>Delayed Because of Accident</td>\n",
       "      <td>Andreas Rönnberg</td>\n",
       "      <td>rock</td>\n",
       "      <td>Moscow</td>\n",
       "      <td>14:07:09</td>\n",
       "      <td>Friday</td>\n",
       "    </tr>\n",
       "    <tr>\n",
       "      <th>2</th>\n",
       "      <td>20EC38</td>\n",
       "      <td>Funiculì funiculà</td>\n",
       "      <td>Mario Lanza</td>\n",
       "      <td>pop</td>\n",
       "      <td>Saint-Petersburg</td>\n",
       "      <td>20:58:07</td>\n",
       "      <td>Wednesday</td>\n",
       "    </tr>\n",
       "    <tr>\n",
       "      <th>3</th>\n",
       "      <td>A3DD03C9</td>\n",
       "      <td>Dragons in the Sunset</td>\n",
       "      <td>Fire + Ice</td>\n",
       "      <td>folk</td>\n",
       "      <td>Saint-Petersburg</td>\n",
       "      <td>08:37:09</td>\n",
       "      <td>Monday</td>\n",
       "    </tr>\n",
       "    <tr>\n",
       "      <th>4</th>\n",
       "      <td>E2DC1FAE</td>\n",
       "      <td>Soul People</td>\n",
       "      <td>Space Echo</td>\n",
       "      <td>dance</td>\n",
       "      <td>Moscow</td>\n",
       "      <td>08:34:34</td>\n",
       "      <td>Monday</td>\n",
       "    </tr>\n",
       "    <tr>\n",
       "      <th>5</th>\n",
       "      <td>842029A1</td>\n",
       "      <td>Преданная</td>\n",
       "      <td>IMPERVTOR</td>\n",
       "      <td>rusrap</td>\n",
       "      <td>Saint-Petersburg</td>\n",
       "      <td>13:09:41</td>\n",
       "      <td>Friday</td>\n",
       "    </tr>\n",
       "    <tr>\n",
       "      <th>6</th>\n",
       "      <td>4CB90AA5</td>\n",
       "      <td>True</td>\n",
       "      <td>Roman Messer</td>\n",
       "      <td>dance</td>\n",
       "      <td>Moscow</td>\n",
       "      <td>13:00:07</td>\n",
       "      <td>Wednesday</td>\n",
       "    </tr>\n",
       "    <tr>\n",
       "      <th>7</th>\n",
       "      <td>F03E1C1F</td>\n",
       "      <td>Feeling This Way</td>\n",
       "      <td>Polina Griffith</td>\n",
       "      <td>dance</td>\n",
       "      <td>Moscow</td>\n",
       "      <td>20:47:49</td>\n",
       "      <td>Wednesday</td>\n",
       "    </tr>\n",
       "    <tr>\n",
       "      <th>8</th>\n",
       "      <td>8FA1D3BE</td>\n",
       "      <td>И вновь продолжается бой</td>\n",
       "      <td>NaN</td>\n",
       "      <td>ruspop</td>\n",
       "      <td>Moscow</td>\n",
       "      <td>09:17:40</td>\n",
       "      <td>Friday</td>\n",
       "    </tr>\n",
       "    <tr>\n",
       "      <th>9</th>\n",
       "      <td>E772D5C0</td>\n",
       "      <td>Pessimist</td>\n",
       "      <td>NaN</td>\n",
       "      <td>dance</td>\n",
       "      <td>Saint-Petersburg</td>\n",
       "      <td>21:20:49</td>\n",
       "      <td>Wednesday</td>\n",
       "    </tr>\n",
       "  </tbody>\n",
       "</table>\n",
       "</div>"
      ],
      "text/plain": [
       "     userID                        Track            artist   genre  \\\n",
       "0  FFB692EC            Kamigata To Boots  The Mass Missile    rock   \n",
       "1  55204538  Delayed Because of Accident  Andreas Rönnberg    rock   \n",
       "2    20EC38            Funiculì funiculà       Mario Lanza     pop   \n",
       "3  A3DD03C9        Dragons in the Sunset        Fire + Ice    folk   \n",
       "4  E2DC1FAE                  Soul People        Space Echo   dance   \n",
       "5  842029A1                    Преданная         IMPERVTOR  rusrap   \n",
       "6  4CB90AA5                         True      Roman Messer   dance   \n",
       "7  F03E1C1F             Feeling This Way   Polina Griffith   dance   \n",
       "8  8FA1D3BE     И вновь продолжается бой               NaN  ruspop   \n",
       "9  E772D5C0                    Pessimist               NaN   dance   \n",
       "\n",
       "             City        time        Day  \n",
       "0  Saint-Petersburg  20:28:33  Wednesday  \n",
       "1            Moscow  14:07:09     Friday  \n",
       "2  Saint-Petersburg  20:58:07  Wednesday  \n",
       "3  Saint-Petersburg  08:37:09     Monday  \n",
       "4            Moscow  08:34:34     Monday  \n",
       "5  Saint-Petersburg  13:09:41     Friday  \n",
       "6            Moscow  13:00:07  Wednesday  \n",
       "7            Moscow  20:47:49  Wednesday  \n",
       "8            Moscow  09:17:40     Friday  \n",
       "9  Saint-Petersburg  21:20:49  Wednesday  "
      ]
     },
     "execution_count": 60,
     "metadata": {},
     "output_type": "execute_result"
    }
   ],
   "source": [
    "df.head(10)  "
   ]
  },
  {
   "cell_type": "code",
   "execution_count": 61,
   "metadata": {
    "id": "DSf2kIb-_Zct"
   },
   "outputs": [
    {
     "name": "stdout",
     "output_type": "stream",
     "text": [
      "<class 'pandas.core.frame.DataFrame'>\n",
      "RangeIndex: 65079 entries, 0 to 65078\n",
      "Data columns (total 7 columns):\n",
      " #   Column    Non-Null Count  Dtype \n",
      "---  ------    --------------  ----- \n",
      " 0     userID  65079 non-null  object\n",
      " 1   Track     63848 non-null  object\n",
      " 2   artist    57876 non-null  object\n",
      " 3   genre     63881 non-null  object\n",
      " 4     City    65079 non-null  object\n",
      " 5   time      65079 non-null  object\n",
      " 6   Day       65079 non-null  object\n",
      "dtypes: object(7)\n",
      "memory usage: 3.5+ MB\n"
     ]
    }
   ],
   "source": [
    "df.info() # получение общей информации о данных в таблице df"
   ]
  },
  {
   "cell_type": "markdown",
   "metadata": {
    "id": "TaQ2Iwbr_Zct"
   },
   "source": [
    "Итак, в таблице семь столбцов. Тип данных во всех столбцах — `object`.\n",
    "\n",
    "Согласно документации к данным:\n",
    "* `userID` — идентификатор пользователя;\n",
    "* `Track` — название трека;  \n",
    "* `artist` — имя исполнителя;\n",
    "* `genre` — название жанра;\n",
    "* `City` — город пользователя;\n",
    "* `time` — время начала прослушивания;\n",
    "* `Day` — день недели.\n",
    "\n",
    "В названиях колонок видны три нарушения стиля:\n",
    "1. Строчные буквы сочетаются с прописными.\n",
    "2. Встречаются пробелы.\n",
    "3. Столбцы лучше переписать \"змеиным\" регистре.\n",
    "4. Количество значений в столбцах различается. Значит, в данных есть пропущенные значения.\n"
   ]
  },
  {
   "cell_type": "markdown",
   "metadata": {
    "id": "MCB6-dXG_Zct"
   },
   "source": [
    "**Выводы**\n",
    "\n",
    "В каждой строке таблицы — данные о прослушанном треке. Часть колонок описывает саму композицию: название, исполнителя и жанр. Остальные данные рассказывают о пользователе: из какого он города, когда он слушал музыку. \n",
    "\n",
    "Предварительно можно утверждать, что, данных достаточно для проверки гипотез. Но встречаются пропуски в данных, а в названиях колонок — расхождения с хорошим стилем.\n",
    "\n",
    "Чтобы двигаться дальше, нужно устранить проблемы в данных."
   ]
  },
  {
   "cell_type": "markdown",
   "metadata": {
    "id": "SjYF6Ub9_Zct"
   },
   "source": [
    "## Предобработка данных"
   ]
  },
  {
   "cell_type": "markdown",
   "metadata": {},
   "source": [
    "Исправлю стиль в заголовках столбцов, исключю пропуски. Затем проверю данные на дубликаты."
   ]
  },
  {
   "cell_type": "markdown",
   "metadata": {
    "id": "dIaKXr29_Zct"
   },
   "source": [
    "### Стиль заголовков"
   ]
  },
  {
   "cell_type": "markdown",
   "metadata": {},
   "source": [
    "Выведу на экран названия столбцов:"
   ]
  },
  {
   "cell_type": "code",
   "execution_count": 62,
   "metadata": {
    "id": "oKOTdF_Q_Zct"
   },
   "outputs": [
    {
     "data": {
      "text/plain": [
       "Index(['  userID', 'Track', 'artist', 'genre', '  City  ', 'time', 'Day'], dtype='object')"
      ]
     },
     "execution_count": 62,
     "metadata": {},
     "output_type": "execute_result"
    }
   ],
   "source": [
    "df.columns  # перечень названий столбцов таблицы df"
   ]
  },
  {
   "cell_type": "markdown",
   "metadata": {
    "id": "zj5534cv_Zct"
   },
   "source": [
    "Приведу названия в соответствие с хорошим стилем:\n",
    "* несколько слов в названии запишу в «змеином_регистре»,\n",
    "* все символы сделаю строчными,\n",
    "* устраню пробелы.\n",
    "\n",
    "Для этого переименую колонки так:\n",
    "* `'  userID'` → `'user_id'`;\n",
    "* `'Track'` → `'track'`;\n",
    "* `'  City  '` → `'city'`;\n",
    "* `'Day'` → `'day'`."
   ]
  },
  {
   "cell_type": "code",
   "execution_count": 63,
   "metadata": {
    "id": "ISlFqs5y_Zct"
   },
   "outputs": [],
   "source": [
    "# переименование столбцов:\n",
    "\n",
    "df = df.rename(columns={'  userID': 'user_id', 'Track': 'track', 'artist': 'artist', 'genre': 'genre', \n",
    "                        '  City  ': 'city', 'time': 'time', 'Day': 'day'})"
   ]
  },
  {
   "cell_type": "markdown",
   "metadata": {
    "id": "1dqbh00J_Zct"
   },
   "source": [
    "Проверю результат. Для этого ещё раз выведу на экран названия столбцов:"
   ]
  },
  {
   "cell_type": "code",
   "execution_count": 64,
   "metadata": {
    "id": "d4NOAmTW_Zct"
   },
   "outputs": [
    {
     "name": "stdout",
     "output_type": "stream",
     "text": [
      "Index(['user_id', 'track', 'artist', 'genre', 'city', 'time', 'day'], dtype='object')\n"
     ]
    }
   ],
   "source": [
    "print(df.columns) # проверка результатов - перечень названий столбцов"
   ]
  },
  {
   "cell_type": "markdown",
   "metadata": {
    "id": "5ISfbcfY_Zct"
   },
   "source": [
    "### Пропуски значений"
   ]
  },
  {
   "cell_type": "markdown",
   "metadata": {},
   "source": [
    "Сначала посчитаю, сколько в таблице пропущенных значений:"
   ]
  },
  {
   "cell_type": "code",
   "execution_count": 65,
   "metadata": {
    "id": "RskX29qr_Zct"
   },
   "outputs": [
    {
     "name": "stdout",
     "output_type": "stream",
     "text": [
      "user_id       0\n",
      "track      1231\n",
      "artist     7203\n",
      "genre      1198\n",
      "city          0\n",
      "time          0\n",
      "day           0\n",
      "dtype: int64\n"
     ]
    }
   ],
   "source": [
    "print(df.isna().sum()) # подсчёт пропусков"
   ]
  },
  {
   "cell_type": "markdown",
   "metadata": {
    "id": "qubhgnlO_Zct"
   },
   "source": [
    "Не все пропущенные значения влияют на исследование. Так в `track` и `artist` пропуски не важны для вашей работы. Достаточно заменить их явными обозначениями.\n",
    "\n",
    "Но пропуски в `genre` могут помешать сравнению музыкальных вкусов в Moscow и SPb. На практике было бы правильно установить причину пропусков и восстановить данные. Такой возможности нет в учебном проекте. Придётся:\n",
    "* заполнить и эти пропуски явными обозначениями,\n",
    "* оценить, насколько они повредят расчётам. "
   ]
  },
  {
   "cell_type": "markdown",
   "metadata": {
    "id": "fSv2laPA_Zct"
   },
   "source": [
    "Заменю пропущенные значения в столбцах `track`, `artist` и `genre` на строку `'unknown'`. Для этого создайте список `columns_to_replace`, переберите его элементы циклом `for` и для каждого столбца выполните замену пропущенных значений:"
   ]
  },
  {
   "cell_type": "code",
   "execution_count": 66,
   "metadata": {
    "id": "KplB5qWs_Zct"
   },
   "outputs": [],
   "source": [
    "columns_to_replace =  ['track', 'artist', 'genre']\n",
    "for col in columns_to_replace:\n",
    "    df[col] = df[col].fillna('unknown')\n",
    "    # перебор названий столбцов в цикле и замена пропущенных значений на 'unknown'"
   ]
  },
  {
   "cell_type": "markdown",
   "metadata": {
    "id": "Ilsm-MZo_Zct"
   },
   "source": [
    "Убеждаюсь, что в таблице не осталось пропусков. Для этого ещё раз посчитаю пропущенные значения."
   ]
  },
  {
   "cell_type": "code",
   "execution_count": 67,
   "metadata": {
    "id": "Tq4nYRX4_Zct"
   },
   "outputs": [
    {
     "name": "stdout",
     "output_type": "stream",
     "text": [
      "user_id    0\n",
      "track      0\n",
      "artist     0\n",
      "genre      0\n",
      "city       0\n",
      "time       0\n",
      "day        0\n",
      "dtype: int64\n"
     ]
    }
   ],
   "source": [
    "print(df.isna().sum()) # подсчёт пропусков\n"
   ]
  },
  {
   "cell_type": "markdown",
   "metadata": {
    "id": "BWKRtBJ3_Zct"
   },
   "source": [
    "### Дубликаты"
   ]
  },
  {
   "cell_type": "markdown",
   "metadata": {},
   "source": [
    "Посчитайте явные дубликаты в таблице одной командой:"
   ]
  },
  {
   "cell_type": "code",
   "execution_count": 68,
   "metadata": {
    "id": "36eES_S0_Zct"
   },
   "outputs": [
    {
     "data": {
      "text/plain": [
       "3826"
      ]
     },
     "execution_count": 68,
     "metadata": {},
     "output_type": "execute_result"
    }
   ],
   "source": [
    "df.duplicated().sum()  # подсчёт явных дубликатов"
   ]
  },
  {
   "cell_type": "markdown",
   "metadata": {
    "id": "Ot25h6XR_Zct"
   },
   "source": [
    "Вызову специальный метод `pandas`, чтобы удалить явные дубликаты:"
   ]
  },
  {
   "cell_type": "code",
   "execution_count": 69,
   "metadata": {
    "id": "exFHq6tt_Zct"
   },
   "outputs": [],
   "source": [
    "df = df.drop_duplicates().reset_index(drop=True) # удаление явных дубликатов (с удалением старых индексов и формированием новых)"
   ]
  },
  {
   "cell_type": "markdown",
   "metadata": {
    "id": "Im2YwBEG_Zct"
   },
   "source": [
    "Ещё раз посчитаю явные дубликаты в таблице — убеждаюсь, что полностью от них избавилась:"
   ]
  },
  {
   "cell_type": "code",
   "execution_count": 70,
   "metadata": {
    "id": "-8PuNWQ0_Zct"
   },
   "outputs": [
    {
     "data": {
      "text/plain": [
       "0"
      ]
     },
     "execution_count": 70,
     "metadata": {},
     "output_type": "execute_result"
    }
   ],
   "source": [
    "df.duplicated().sum() # проверка на отсутствие дубликатов"
   ]
  },
  {
   "cell_type": "markdown",
   "metadata": {
    "id": "QlFBsxAr_Zct"
   },
   "source": [
    "Теперь избавлюсь от неявных дубликатов в колонке `genre`. Например, название одного и того же жанра может быть записано немного по-разному. Такие ошибки тоже повлияют на результат исследования."
   ]
  },
  {
   "cell_type": "markdown",
   "metadata": {
    "id": "eSjWwsOh_Zct"
   },
   "source": [
    "Выведу на экран список уникальных названий жанров, отсортированный в алфавитном порядке. Для этого:\n",
    "* извлеку нужный столбец датафрейма, \n",
    "* применю к нему метод сортировки,\n",
    "* для отсортированного столбца вызову метод, который вернёт уникальные значения из столбца."
   ]
  },
  {
   "cell_type": "code",
   "execution_count": 71,
   "metadata": {
    "id": "JIUcqzZN_Zct"
   },
   "outputs": [
    {
     "data": {
      "text/plain": [
       "array(['acid', 'acoustic', 'action', 'adult', 'africa', 'afrikaans',\n",
       "       'alternative', 'alternativepunk', 'ambient', 'americana',\n",
       "       'animated', 'anime', 'arabesk', 'arabic', 'arena',\n",
       "       'argentinetango', 'art', 'audiobook', 'author', 'avantgarde',\n",
       "       'axé', 'baile', 'balkan', 'beats', 'bigroom', 'black', 'bluegrass',\n",
       "       'blues', 'bollywood', 'bossa', 'brazilian', 'breakbeat', 'breaks',\n",
       "       'broadway', 'cantautori', 'cantopop', 'canzone', 'caribbean',\n",
       "       'caucasian', 'celtic', 'chamber', 'chanson', 'children', 'chill',\n",
       "       'chinese', 'choral', 'christian', 'christmas', 'classical',\n",
       "       'classicmetal', 'club', 'colombian', 'comedy', 'conjazz',\n",
       "       'contemporary', 'country', 'cuban', 'dance', 'dancehall',\n",
       "       'dancepop', 'dark', 'death', 'deep', 'deutschrock', 'deutschspr',\n",
       "       'dirty', 'disco', 'dnb', 'documentary', 'downbeat', 'downtempo',\n",
       "       'drum', 'dub', 'dubstep', 'eastern', 'easy', 'electronic',\n",
       "       'electropop', 'emo', 'entehno', 'epicmetal', 'estrada', 'ethnic',\n",
       "       'eurofolk', 'european', 'experimental', 'extrememetal', 'fado',\n",
       "       'fairytail', 'film', 'fitness', 'flamenco', 'folk', 'folklore',\n",
       "       'folkmetal', 'folkrock', 'folktronica', 'forró', 'frankreich',\n",
       "       'französisch', 'french', 'funk', 'future', 'gangsta', 'garage',\n",
       "       'german', 'ghazal', 'gitarre', 'glitch', 'gospel', 'gothic',\n",
       "       'grime', 'grunge', 'gypsy', 'handsup', \"hard'n'heavy\", 'hardcore',\n",
       "       'hardstyle', 'hardtechno', 'hip', 'hip-hop', 'hiphop',\n",
       "       'historisch', 'holiday', 'hop', 'horror', 'house', 'hymn', 'idm',\n",
       "       'independent', 'indian', 'indie', 'indipop', 'industrial',\n",
       "       'inspirational', 'instrumental', 'international', 'irish', 'jam',\n",
       "       'japanese', 'jazz', 'jewish', 'jpop', 'jungle', 'k-pop',\n",
       "       'karadeniz', 'karaoke', 'kayokyoku', 'korean', 'laiko', 'latin',\n",
       "       'latino', 'leftfield', 'local', 'lounge', 'loungeelectronic',\n",
       "       'lovers', 'malaysian', 'mandopop', 'marschmusik', 'meditative',\n",
       "       'mediterranean', 'melodic', 'metal', 'metalcore', 'mexican',\n",
       "       'middle', 'minimal', 'miscellaneous', 'modern', 'mood', 'mpb',\n",
       "       'muslim', 'native', 'neoklassik', 'neue', 'new', 'newage',\n",
       "       'newwave', 'nu', 'nujazz', 'numetal', 'oceania', 'old', 'opera',\n",
       "       'orchestral', 'other', 'piano', 'podcasts', 'pop', 'popdance',\n",
       "       'popelectronic', 'popeurodance', 'poprussian', 'post',\n",
       "       'posthardcore', 'postrock', 'power', 'progmetal', 'progressive',\n",
       "       'psychedelic', 'punjabi', 'punk', 'quebecois', 'ragga', 'ram',\n",
       "       'rancheras', 'rap', 'rave', 'reggae', 'reggaeton', 'regional',\n",
       "       'relax', 'religious', 'retro', 'rhythm', 'rnb', 'rnr', 'rock',\n",
       "       'rockabilly', 'rockalternative', 'rockindie', 'rockother',\n",
       "       'romance', 'roots', 'ruspop', 'rusrap', 'rusrock', 'russian',\n",
       "       'salsa', 'samba', 'scenic', 'schlager', 'self', 'sertanejo',\n",
       "       'shanson', 'shoegazing', 'showtunes', 'singer', 'ska', 'skarock',\n",
       "       'slow', 'smooth', 'soft', 'soul', 'soulful', 'sound', 'soundtrack',\n",
       "       'southern', 'specialty', 'speech', 'spiritual', 'sport',\n",
       "       'stonerrock', 'surf', 'swing', 'synthpop', 'synthrock',\n",
       "       'sängerportrait', 'tango', 'tanzorchester', 'taraftar', 'tatar',\n",
       "       'tech', 'techno', 'teen', 'thrash', 'top', 'traditional',\n",
       "       'tradjazz', 'trance', 'tribal', 'trip', 'triphop', 'tropical',\n",
       "       'türk', 'türkçe', 'ukrrock', 'unknown', 'urban', 'uzbek',\n",
       "       'variété', 'vi', 'videogame', 'vocal', 'western', 'world',\n",
       "       'worldbeat', 'ïîï', 'электроника'], dtype=object)"
      ]
     },
     "execution_count": 71,
     "metadata": {},
     "output_type": "execute_result"
    }
   ],
   "source": [
    "df['genre'].sort_values().unique() # Просмотр уникальных названий жанров"
   ]
  },
  {
   "cell_type": "markdown",
   "metadata": {
    "id": "qej-Qmuo_Zct"
   },
   "source": [
    "Просмотрю список и найду неявные дубликаты:"
   ]
  },
  {
   "cell_type": "code",
   "execution_count": 72,
   "metadata": {
    "id": "ErNDkmns_Zct"
   },
   "outputs": [],
   "source": [
    "# Функция для замены неявных дубликатов:\n",
    "\n",
    "def replace_wrong_genres(wrong_genres, correct_genre): \n",
    "    for genre in wrong_genres:\n",
    "        df['genre'] = df['genre'].replace(genre, correct_genre)\n",
    "    return df"
   ]
  },
  {
   "cell_type": "markdown",
   "metadata": {
    "id": "aDoBJxbA_Zct"
   },
   "source": [
    "Вызову `replace_wrong_genres()` и передам ей такие аргументы, чтобы она устранила неявные дубликаты: вместо `hip`, `hop` и `hip-hop` в таблице должно быть значение `hiphop`:"
   ]
  },
  {
   "cell_type": "code",
   "execution_count": 73,
   "metadata": {
    "id": "YN5i2hpmSo09"
   },
   "outputs": [],
   "source": [
    "df = replace_wrong_genres(['hip', 'hop', 'hip-hop'], 'hiphop')  # Устранение неявных дубликатов"
   ]
  },
  {
   "cell_type": "markdown",
   "metadata": {
    "id": "zQKF16_RG15m"
   },
   "source": [
    "Проверяю, что заменили неправильные названия:\n",
    "\n",
    "*   hip\n",
    "*   hop\n",
    "*   hip-hop\n",
    "\n",
    "Выведу отсортированный список уникальных значений столбца `genre`:"
   ]
  },
  {
   "cell_type": "code",
   "execution_count": 74,
   "metadata": {
    "id": "wvixALnFG15m"
   },
   "outputs": [
    {
     "data": {
      "text/plain": [
       "array(['rock', 'pop', 'folk', 'dance', 'rusrap', 'ruspop', 'world',\n",
       "       'electronic', 'unknown', 'alternative', 'children', 'rnb',\n",
       "       'hiphop', 'jazz', 'postrock', 'latin', 'classical', 'metal',\n",
       "       'reggae', 'tatar', 'blues', 'instrumental', 'rusrock', 'dnb',\n",
       "       'türk', 'post', 'country', 'psychedelic', 'conjazz', 'indie',\n",
       "       'posthardcore', 'local', 'avantgarde', 'punk', 'videogame',\n",
       "       'techno', 'house', 'christmas', 'melodic', 'caucasian',\n",
       "       'reggaeton', 'soundtrack', 'singer', 'ska', 'shanson', 'ambient',\n",
       "       'film', 'western', 'rap', 'beats', \"hard'n'heavy\", 'progmetal',\n",
       "       'minimal', 'contemporary', 'new', 'soul', 'holiday', 'german',\n",
       "       'tropical', 'fairytail', 'spiritual', 'urban', 'gospel', 'nujazz',\n",
       "       'folkmetal', 'trance', 'miscellaneous', 'anime', 'hardcore',\n",
       "       'progressive', 'chanson', 'numetal', 'vocal', 'estrada', 'russian',\n",
       "       'classicmetal', 'dubstep', 'club', 'deep', 'southern', 'black',\n",
       "       'folkrock', 'fitness', 'french', 'disco', 'religious', 'drum',\n",
       "       'extrememetal', 'türkçe', 'experimental', 'easy', 'metalcore',\n",
       "       'modern', 'argentinetango', 'old', 'breaks', 'eurofolk',\n",
       "       'stonerrock', 'industrial', 'funk', 'jpop', 'middle', 'variété',\n",
       "       'other', 'adult', 'christian', 'gothic', 'international', 'muslim',\n",
       "       'relax', 'schlager', 'caribbean', 'ukrrock', 'nu', 'breakbeat',\n",
       "       'comedy', 'chill', 'newage', 'specialty', 'uzbek', 'k-pop',\n",
       "       'balkan', 'chinese', 'meditative', 'dub', 'power', 'death',\n",
       "       'grime', 'arabesk', 'romance', 'flamenco', 'leftfield', 'european',\n",
       "       'tech', 'newwave', 'dancehall', 'mpb', 'piano', 'top', 'bigroom',\n",
       "       'opera', 'celtic', 'tradjazz', 'acoustic', 'epicmetal',\n",
       "       'historisch', 'downbeat', 'downtempo', 'africa', 'audiobook',\n",
       "       'jewish', 'sängerportrait', 'deutschrock', 'eastern', 'action',\n",
       "       'future', 'electropop', 'folklore', 'bollywood', 'marschmusik',\n",
       "       'rnr', 'karaoke', 'indian', 'rancheras', 'электроника',\n",
       "       'afrikaans', 'tango', 'rhythm', 'sound', 'deutschspr', 'trip',\n",
       "       'lovers', 'choral', 'dancepop', 'podcasts', 'retro', 'smooth',\n",
       "       'mexican', 'brazilian', 'ïîï', 'mood', 'surf', 'author', 'gangsta',\n",
       "       'triphop', 'inspirational', 'idm', 'ethnic', 'bluegrass',\n",
       "       'broadway', 'animated', 'americana', 'karadeniz', 'rockabilly',\n",
       "       'colombian', 'self', 'synthrock', 'sertanejo', 'japanese',\n",
       "       'canzone', 'swing', 'lounge', 'sport', 'korean', 'ragga',\n",
       "       'traditional', 'gitarre', 'frankreich', 'alternativepunk', 'emo',\n",
       "       'laiko', 'cantopop', 'glitch', 'documentary', 'rockalternative',\n",
       "       'thrash', 'hymn', 'oceania', 'rockother', 'popeurodance', 'dark',\n",
       "       'vi', 'grunge', 'hardstyle', 'samba', 'garage', 'soft', 'art',\n",
       "       'folktronica', 'entehno', 'mediterranean', 'chamber', 'cuban',\n",
       "       'taraftar', 'rockindie', 'gypsy', 'hardtechno', 'shoegazing',\n",
       "       'skarock', 'bossa', 'salsa', 'latino', 'worldbeat', 'malaysian',\n",
       "       'baile', 'ghazal', 'loungeelectronic', 'arabic', 'popelectronic',\n",
       "       'acid', 'kayokyoku', 'neoklassik', 'tribal', 'tanzorchester',\n",
       "       'native', 'independent', 'cantautori', 'handsup', 'poprussian',\n",
       "       'punjabi', 'synthpop', 'rave', 'französisch', 'quebecois',\n",
       "       'speech', 'soulful', 'teen', 'jam', 'ram', 'horror', 'scenic',\n",
       "       'orchestral', 'neue', 'roots', 'slow', 'jungle', 'indipop', 'axé',\n",
       "       'fado', 'showtunes', 'arena', 'irish', 'mandopop', 'forró',\n",
       "       'popdance', 'dirty', 'regional'], dtype=object)"
      ]
     },
     "execution_count": 74,
     "metadata": {},
     "output_type": "execute_result"
    }
   ],
   "source": [
    "df['genre'].unique() # Проверка на неявные дубликаты"
   ]
  },
  {
   "cell_type": "markdown",
   "metadata": {
    "id": "jz6a9-7HQUDd"
   },
   "source": [
    "**Выводы**\n",
    "\n",
    "В ходе предобработки обнаружила три проблемы в данных:\n",
    "\n",
    "- нарушения в стиле заголовков,\n",
    "- пропущенные значения,\n",
    "- дубликаты — явные и неявные.\n",
    "\n",
    "Исправила заголовки, чтобы упростить работу с таблицей. Без дубликатов исследование станет более точным.\n",
    "\n",
    "Пропущенные значения заменила на `'unknown'`. Ещё предстоит увидеть, не повредят ли исследованию пропуски в колонке `genre`.\n",
    "\n",
    "Теперь можно перейти к проверке гипотез. "
   ]
  },
  {
   "cell_type": "markdown",
   "metadata": {
    "id": "WttZHXH0SqKk"
   },
   "source": [
    "## Проверка гипотез"
   ]
  },
  {
   "cell_type": "markdown",
   "metadata": {
    "id": "Im936VVi_Zcu"
   },
   "source": [
    "### Сравнение поведения пользователей двух столиц"
   ]
  },
  {
   "cell_type": "markdown",
   "metadata": {
    "id": "nwt_MuaL_Zcu"
   },
   "source": [
    "Первая гипотеза утверждает, что пользователи по-разному слушают музыку в двух крупных городах. Проверю это предположение по данным о трёх днях недели — понедельнике, среде и пятнице. Для этого:\n",
    "\n",
    "* Разделю пользователей двух разных крупных городов.\n",
    "* Сравню, сколько треков послушала каждая группа пользователей в понедельник, среду и пятницу."
   ]
  },
  {
   "cell_type": "markdown",
   "metadata": {
    "id": "8Dw_YMmT_Zcu"
   },
   "source": [
    "Для тренировки сначала выполню каждый из расчётов по отдельности. \n",
    "\n",
    "Оценю активность пользователей в каждом городе. Сгруппирую данные по городу и посчитаю прослушивания в каждой группе."
   ]
  },
  {
   "cell_type": "code",
   "execution_count": 75,
   "metadata": {
    "id": "0_Qs96oh_Zcu"
   },
   "outputs": [
    {
     "data": {
      "text/html": [
       "<div>\n",
       "<style scoped>\n",
       "    .dataframe tbody tr th:only-of-type {\n",
       "        vertical-align: middle;\n",
       "    }\n",
       "\n",
       "    .dataframe tbody tr th {\n",
       "        vertical-align: top;\n",
       "    }\n",
       "\n",
       "    .dataframe thead th {\n",
       "        text-align: right;\n",
       "    }\n",
       "</style>\n",
       "<table border=\"1\" class=\"dataframe\">\n",
       "  <thead>\n",
       "    <tr style=\"text-align: right;\">\n",
       "      <th></th>\n",
       "      <th>user_id</th>\n",
       "      <th>track</th>\n",
       "      <th>artist</th>\n",
       "      <th>genre</th>\n",
       "      <th>city</th>\n",
       "      <th>time</th>\n",
       "      <th>day</th>\n",
       "    </tr>\n",
       "  </thead>\n",
       "  <tbody>\n",
       "    <tr>\n",
       "      <th>1</th>\n",
       "      <td>55204538</td>\n",
       "      <td>Delayed Because of Accident</td>\n",
       "      <td>Andreas Rönnberg</td>\n",
       "      <td>rock</td>\n",
       "      <td>Moscow</td>\n",
       "      <td>14:07:09</td>\n",
       "      <td>Friday</td>\n",
       "    </tr>\n",
       "    <tr>\n",
       "      <th>4</th>\n",
       "      <td>E2DC1FAE</td>\n",
       "      <td>Soul People</td>\n",
       "      <td>Space Echo</td>\n",
       "      <td>dance</td>\n",
       "      <td>Moscow</td>\n",
       "      <td>08:34:34</td>\n",
       "      <td>Monday</td>\n",
       "    </tr>\n",
       "    <tr>\n",
       "      <th>6</th>\n",
       "      <td>4CB90AA5</td>\n",
       "      <td>True</td>\n",
       "      <td>Roman Messer</td>\n",
       "      <td>dance</td>\n",
       "      <td>Moscow</td>\n",
       "      <td>13:00:07</td>\n",
       "      <td>Wednesday</td>\n",
       "    </tr>\n",
       "    <tr>\n",
       "      <th>7</th>\n",
       "      <td>F03E1C1F</td>\n",
       "      <td>Feeling This Way</td>\n",
       "      <td>Polina Griffith</td>\n",
       "      <td>dance</td>\n",
       "      <td>Moscow</td>\n",
       "      <td>20:47:49</td>\n",
       "      <td>Wednesday</td>\n",
       "    </tr>\n",
       "    <tr>\n",
       "      <th>8</th>\n",
       "      <td>8FA1D3BE</td>\n",
       "      <td>И вновь продолжается бой</td>\n",
       "      <td>unknown</td>\n",
       "      <td>ruspop</td>\n",
       "      <td>Moscow</td>\n",
       "      <td>09:17:40</td>\n",
       "      <td>Friday</td>\n",
       "    </tr>\n",
       "    <tr>\n",
       "      <th>...</th>\n",
       "      <td>...</td>\n",
       "      <td>...</td>\n",
       "      <td>...</td>\n",
       "      <td>...</td>\n",
       "      <td>...</td>\n",
       "      <td>...</td>\n",
       "      <td>...</td>\n",
       "    </tr>\n",
       "    <tr>\n",
       "      <th>61247</th>\n",
       "      <td>83A474E7</td>\n",
       "      <td>I Worship Only What You Bleed</td>\n",
       "      <td>The Black Dahlia Murder</td>\n",
       "      <td>extrememetal</td>\n",
       "      <td>Moscow</td>\n",
       "      <td>21:07:12</td>\n",
       "      <td>Monday</td>\n",
       "    </tr>\n",
       "    <tr>\n",
       "      <th>61248</th>\n",
       "      <td>729CBB09</td>\n",
       "      <td>My Name</td>\n",
       "      <td>McLean</td>\n",
       "      <td>rnb</td>\n",
       "      <td>Moscow</td>\n",
       "      <td>13:32:28</td>\n",
       "      <td>Wednesday</td>\n",
       "    </tr>\n",
       "    <tr>\n",
       "      <th>61250</th>\n",
       "      <td>C5E3A0D5</td>\n",
       "      <td>Jalopiina</td>\n",
       "      <td>unknown</td>\n",
       "      <td>industrial</td>\n",
       "      <td>Moscow</td>\n",
       "      <td>20:09:26</td>\n",
       "      <td>Friday</td>\n",
       "    </tr>\n",
       "    <tr>\n",
       "      <th>61251</th>\n",
       "      <td>321D0506</td>\n",
       "      <td>Freight Train</td>\n",
       "      <td>Chas McDevitt</td>\n",
       "      <td>rock</td>\n",
       "      <td>Moscow</td>\n",
       "      <td>21:43:59</td>\n",
       "      <td>Friday</td>\n",
       "    </tr>\n",
       "    <tr>\n",
       "      <th>61252</th>\n",
       "      <td>3A64EF84</td>\n",
       "      <td>Tell Me Sweet Little Lies</td>\n",
       "      <td>Monica Lopez</td>\n",
       "      <td>country</td>\n",
       "      <td>Moscow</td>\n",
       "      <td>21:59:46</td>\n",
       "      <td>Friday</td>\n",
       "    </tr>\n",
       "  </tbody>\n",
       "</table>\n",
       "<p>42741 rows × 7 columns</p>\n",
       "</div>"
      ],
      "text/plain": [
       "        user_id                          track                   artist  \\\n",
       "1      55204538    Delayed Because of Accident         Andreas Rönnberg   \n",
       "4      E2DC1FAE                    Soul People               Space Echo   \n",
       "6      4CB90AA5                           True             Roman Messer   \n",
       "7      F03E1C1F               Feeling This Way          Polina Griffith   \n",
       "8      8FA1D3BE       И вновь продолжается бой                  unknown   \n",
       "...         ...                            ...                      ...   \n",
       "61247  83A474E7  I Worship Only What You Bleed  The Black Dahlia Murder   \n",
       "61248  729CBB09                        My Name                   McLean   \n",
       "61250  C5E3A0D5                      Jalopiina                  unknown   \n",
       "61251  321D0506                  Freight Train            Chas McDevitt   \n",
       "61252  3A64EF84      Tell Me Sweet Little Lies             Monica Lopez   \n",
       "\n",
       "              genre    city      time        day  \n",
       "1              rock  Moscow  14:07:09     Friday  \n",
       "4             dance  Moscow  08:34:34     Monday  \n",
       "6             dance  Moscow  13:00:07  Wednesday  \n",
       "7             dance  Moscow  20:47:49  Wednesday  \n",
       "8            ruspop  Moscow  09:17:40     Friday  \n",
       "...             ...     ...       ...        ...  \n",
       "61247  extrememetal  Moscow  21:07:12     Monday  \n",
       "61248           rnb  Moscow  13:32:28  Wednesday  \n",
       "61250    industrial  Moscow  20:09:26     Friday  \n",
       "61251          rock  Moscow  21:43:59     Friday  \n",
       "61252       country  Moscow  21:59:46     Friday  \n",
       "\n",
       "[42741 rows x 7 columns]"
      ]
     },
     "execution_count": 75,
     "metadata": {},
     "output_type": "execute_result"
    }
   ],
   "source": [
    "listening_music_moscow = df.loc[df['city'] == 'Moscow'] # Подсчёт прослушиваний в каждом городе\n",
    "listening_music_moscow"
   ]
  },
  {
   "cell_type": "code",
   "execution_count": 76,
   "metadata": {},
   "outputs": [
    {
     "data": {
      "text/html": [
       "<div>\n",
       "<style scoped>\n",
       "    .dataframe tbody tr th:only-of-type {\n",
       "        vertical-align: middle;\n",
       "    }\n",
       "\n",
       "    .dataframe tbody tr th {\n",
       "        vertical-align: top;\n",
       "    }\n",
       "\n",
       "    .dataframe thead th {\n",
       "        text-align: right;\n",
       "    }\n",
       "</style>\n",
       "<table border=\"1\" class=\"dataframe\">\n",
       "  <thead>\n",
       "    <tr style=\"text-align: right;\">\n",
       "      <th></th>\n",
       "      <th>user_id</th>\n",
       "      <th>track</th>\n",
       "      <th>artist</th>\n",
       "      <th>genre</th>\n",
       "      <th>city</th>\n",
       "      <th>time</th>\n",
       "      <th>day</th>\n",
       "    </tr>\n",
       "  </thead>\n",
       "  <tbody>\n",
       "    <tr>\n",
       "      <th>0</th>\n",
       "      <td>FFB692EC</td>\n",
       "      <td>Kamigata To Boots</td>\n",
       "      <td>The Mass Missile</td>\n",
       "      <td>rock</td>\n",
       "      <td>Saint-Petersburg</td>\n",
       "      <td>20:28:33</td>\n",
       "      <td>Wednesday</td>\n",
       "    </tr>\n",
       "    <tr>\n",
       "      <th>2</th>\n",
       "      <td>20EC38</td>\n",
       "      <td>Funiculì funiculà</td>\n",
       "      <td>Mario Lanza</td>\n",
       "      <td>pop</td>\n",
       "      <td>Saint-Petersburg</td>\n",
       "      <td>20:58:07</td>\n",
       "      <td>Wednesday</td>\n",
       "    </tr>\n",
       "    <tr>\n",
       "      <th>3</th>\n",
       "      <td>A3DD03C9</td>\n",
       "      <td>Dragons in the Sunset</td>\n",
       "      <td>Fire + Ice</td>\n",
       "      <td>folk</td>\n",
       "      <td>Saint-Petersburg</td>\n",
       "      <td>08:37:09</td>\n",
       "      <td>Monday</td>\n",
       "    </tr>\n",
       "    <tr>\n",
       "      <th>5</th>\n",
       "      <td>842029A1</td>\n",
       "      <td>Преданная</td>\n",
       "      <td>IMPERVTOR</td>\n",
       "      <td>rusrap</td>\n",
       "      <td>Saint-Petersburg</td>\n",
       "      <td>13:09:41</td>\n",
       "      <td>Friday</td>\n",
       "    </tr>\n",
       "    <tr>\n",
       "      <th>9</th>\n",
       "      <td>E772D5C0</td>\n",
       "      <td>Pessimist</td>\n",
       "      <td>unknown</td>\n",
       "      <td>dance</td>\n",
       "      <td>Saint-Petersburg</td>\n",
       "      <td>21:20:49</td>\n",
       "      <td>Wednesday</td>\n",
       "    </tr>\n",
       "    <tr>\n",
       "      <th>...</th>\n",
       "      <td>...</td>\n",
       "      <td>...</td>\n",
       "      <td>...</td>\n",
       "      <td>...</td>\n",
       "      <td>...</td>\n",
       "      <td>...</td>\n",
       "      <td>...</td>\n",
       "    </tr>\n",
       "    <tr>\n",
       "      <th>61239</th>\n",
       "      <td>D94F810B</td>\n",
       "      <td>Theme from the Walking Dead</td>\n",
       "      <td>Proyecto Halloween</td>\n",
       "      <td>film</td>\n",
       "      <td>Saint-Petersburg</td>\n",
       "      <td>21:14:40</td>\n",
       "      <td>Monday</td>\n",
       "    </tr>\n",
       "    <tr>\n",
       "      <th>61240</th>\n",
       "      <td>BC8EC5CF</td>\n",
       "      <td>Red Lips: Gta (Rover Rework)</td>\n",
       "      <td>Rover</td>\n",
       "      <td>electronic</td>\n",
       "      <td>Saint-Petersburg</td>\n",
       "      <td>21:06:50</td>\n",
       "      <td>Monday</td>\n",
       "    </tr>\n",
       "    <tr>\n",
       "      <th>61241</th>\n",
       "      <td>29E04611</td>\n",
       "      <td>Bre Petrunko</td>\n",
       "      <td>Perunika Trio</td>\n",
       "      <td>world</td>\n",
       "      <td>Saint-Petersburg</td>\n",
       "      <td>13:56:00</td>\n",
       "      <td>Monday</td>\n",
       "    </tr>\n",
       "    <tr>\n",
       "      <th>61242</th>\n",
       "      <td>1B91C621</td>\n",
       "      <td>(Hello) Cloud Mountain</td>\n",
       "      <td>sleepmakeswaves</td>\n",
       "      <td>postrock</td>\n",
       "      <td>Saint-Petersburg</td>\n",
       "      <td>09:22:13</td>\n",
       "      <td>Monday</td>\n",
       "    </tr>\n",
       "    <tr>\n",
       "      <th>61249</th>\n",
       "      <td>D08D4A55</td>\n",
       "      <td>Maybe One Day (feat. Black Spade)</td>\n",
       "      <td>Blu &amp; Exile</td>\n",
       "      <td>hiphop</td>\n",
       "      <td>Saint-Petersburg</td>\n",
       "      <td>10:00:00</td>\n",
       "      <td>Monday</td>\n",
       "    </tr>\n",
       "  </tbody>\n",
       "</table>\n",
       "<p>18512 rows × 7 columns</p>\n",
       "</div>"
      ],
      "text/plain": [
       "        user_id                              track              artist  \\\n",
       "0      FFB692EC                  Kamigata To Boots    The Mass Missile   \n",
       "2        20EC38                  Funiculì funiculà         Mario Lanza   \n",
       "3      A3DD03C9              Dragons in the Sunset          Fire + Ice   \n",
       "5      842029A1                          Преданная           IMPERVTOR   \n",
       "9      E772D5C0                          Pessimist             unknown   \n",
       "...         ...                                ...                 ...   \n",
       "61239  D94F810B        Theme from the Walking Dead  Proyecto Halloween   \n",
       "61240  BC8EC5CF       Red Lips: Gta (Rover Rework)               Rover   \n",
       "61241  29E04611                       Bre Petrunko       Perunika Trio   \n",
       "61242  1B91C621             (Hello) Cloud Mountain     sleepmakeswaves   \n",
       "61249  D08D4A55  Maybe One Day (feat. Black Spade)         Blu & Exile   \n",
       "\n",
       "            genre              city      time        day  \n",
       "0            rock  Saint-Petersburg  20:28:33  Wednesday  \n",
       "2             pop  Saint-Petersburg  20:58:07  Wednesday  \n",
       "3            folk  Saint-Petersburg  08:37:09     Monday  \n",
       "5          rusrap  Saint-Petersburg  13:09:41     Friday  \n",
       "9           dance  Saint-Petersburg  21:20:49  Wednesday  \n",
       "...           ...               ...       ...        ...  \n",
       "61239        film  Saint-Petersburg  21:14:40     Monday  \n",
       "61240  electronic  Saint-Petersburg  21:06:50     Monday  \n",
       "61241       world  Saint-Petersburg  13:56:00     Monday  \n",
       "61242    postrock  Saint-Petersburg  09:22:13     Monday  \n",
       "61249      hiphop  Saint-Petersburg  10:00:00     Monday  \n",
       "\n",
       "[18512 rows x 7 columns]"
      ]
     },
     "execution_count": 76,
     "metadata": {},
     "output_type": "execute_result"
    }
   ],
   "source": [
    "listening_music_spb = df.loc[df['city'] == 'Saint-Petersburg'] # Подсчёт прослушиваний в каждом городе\n",
    "listening_music_spb"
   ]
  },
  {
   "cell_type": "markdown",
   "metadata": {
    "id": "dzli3w8o_Zcu"
   },
   "source": [
    "В первом городе прослушиваний больше, чем в во втором. Из этого не следует, что пользователи первого города чаще слушают музыку. Просто самих пользователей в первом городе больше.\n",
    "\n",
    "Теперь сгруппирую данные по дню недели и подсчитаю прослушивания в понедельник, среду и пятницу. Учту, что в данных есть информация только о прослушиваниях только за эти дни."
   ]
  },
  {
   "cell_type": "code",
   "execution_count": 77,
   "metadata": {
    "id": "uZMKjiJz_Zcu"
   },
   "outputs": [],
   "source": [
    "days_moscow = df.loc[df['city'] == 'Moscow']\n",
    "days_sbp = df.loc[df['city'] == 'Saint-Petersburg'] # Подсчёт прослушиваний в каждый из трёх дней"
   ]
  },
  {
   "cell_type": "code",
   "execution_count": 78,
   "metadata": {},
   "outputs": [
    {
     "data": {
      "text/html": [
       "<div>\n",
       "<style scoped>\n",
       "    .dataframe tbody tr th:only-of-type {\n",
       "        vertical-align: middle;\n",
       "    }\n",
       "\n",
       "    .dataframe tbody tr th {\n",
       "        vertical-align: top;\n",
       "    }\n",
       "\n",
       "    .dataframe thead th {\n",
       "        text-align: right;\n",
       "    }\n",
       "</style>\n",
       "<table border=\"1\" class=\"dataframe\">\n",
       "  <thead>\n",
       "    <tr style=\"text-align: right;\">\n",
       "      <th></th>\n",
       "      <th>day</th>\n",
       "      <th>user_id</th>\n",
       "    </tr>\n",
       "  </thead>\n",
       "  <tbody>\n",
       "    <tr>\n",
       "      <th>0</th>\n",
       "      <td>Friday</td>\n",
       "      <td>15945</td>\n",
       "    </tr>\n",
       "    <tr>\n",
       "      <th>1</th>\n",
       "      <td>Monday</td>\n",
       "      <td>15740</td>\n",
       "    </tr>\n",
       "    <tr>\n",
       "      <th>2</th>\n",
       "      <td>Wednesday</td>\n",
       "      <td>11056</td>\n",
       "    </tr>\n",
       "  </tbody>\n",
       "</table>\n",
       "</div>"
      ],
      "text/plain": [
       "         day  user_id\n",
       "0     Friday    15945\n",
       "1     Monday    15740\n",
       "2  Wednesday    11056"
      ]
     },
     "execution_count": 78,
     "metadata": {},
     "output_type": "execute_result"
    }
   ],
   "source": [
    "week_days_moscow = days_moscow.groupby('day', as_index=False)['user_id'].count()\n",
    "week_days_moscow"
   ]
  },
  {
   "cell_type": "code",
   "execution_count": 79,
   "metadata": {},
   "outputs": [
    {
     "data": {
      "text/html": [
       "<div>\n",
       "<style scoped>\n",
       "    .dataframe tbody tr th:only-of-type {\n",
       "        vertical-align: middle;\n",
       "    }\n",
       "\n",
       "    .dataframe tbody tr th {\n",
       "        vertical-align: top;\n",
       "    }\n",
       "\n",
       "    .dataframe thead th {\n",
       "        text-align: right;\n",
       "    }\n",
       "</style>\n",
       "<table border=\"1\" class=\"dataframe\">\n",
       "  <thead>\n",
       "    <tr style=\"text-align: right;\">\n",
       "      <th></th>\n",
       "      <th>day</th>\n",
       "      <th>user_id</th>\n",
       "    </tr>\n",
       "  </thead>\n",
       "  <tbody>\n",
       "    <tr>\n",
       "      <th>0</th>\n",
       "      <td>Friday</td>\n",
       "      <td>5895</td>\n",
       "    </tr>\n",
       "    <tr>\n",
       "      <th>1</th>\n",
       "      <td>Monday</td>\n",
       "      <td>5614</td>\n",
       "    </tr>\n",
       "    <tr>\n",
       "      <th>2</th>\n",
       "      <td>Wednesday</td>\n",
       "      <td>7003</td>\n",
       "    </tr>\n",
       "  </tbody>\n",
       "</table>\n",
       "</div>"
      ],
      "text/plain": [
       "         day  user_id\n",
       "0     Friday     5895\n",
       "1     Monday     5614\n",
       "2  Wednesday     7003"
      ]
     },
     "execution_count": 79,
     "metadata": {},
     "output_type": "execute_result"
    }
   ],
   "source": [
    "week_days_spb = days_sbp.groupby('day', as_index=False)['user_id'].count()\n",
    "week_days_spb"
   ]
  },
  {
   "cell_type": "markdown",
   "metadata": {
    "id": "cC2tNrlL_Zcu"
   },
   "source": [
    "В среднем пользователи из двух городов менее активны по средам. Но картина может измениться, если рассмотреть каждый город в отдельности."
   ]
  },
  {
   "cell_type": "markdown",
   "metadata": {
    "id": "POzs8bGa_Zcu"
   },
   "source": [
    "Мы видели, как работает группировка по городу и по дням недели. Теперь напишу функцию, которая объединит два эти расчёта.\n",
    "\n",
    "Создам функцию `number_tracks()`, которая посчитает прослушивания для заданного дня и города. Ей понадобятся два параметра:\n",
    "* день недели,\n",
    "* название города.\n",
    "\n",
    "В функции сохраню в переменную строки исходной таблицы, у которых значение:\n",
    "  * в колонке `day` равно параметру `day`,\n",
    "  * в колонке `city` равно параметру `city`.\n",
    "\n",
    "Для этого применю последовательную фильтрацию с логической индексацией.\n",
    "\n",
    "Затем посчитаю значения в столбце `user_id` получившейся таблицы. Результат сохраню в новую переменную. Верну эту переменную из функции."
   ]
  },
  {
   "cell_type": "code",
   "execution_count": 80,
   "metadata": {
    "id": "Nz3GdQB1_Zcu"
   },
   "outputs": [],
   "source": [
    " # создание функции number_tracks():\n",
    "def number_track(day, city):    \n",
    "    \"\"\"\n",
    " Функция для подсчёта прослушиваний для конкретного города и дня.\n",
    " С помощью последовательной фильтрации с логической индексацией она \n",
    " сначала получит из исходной таблицы строки с нужным днём,\n",
    " затем из результата отфильтрует строки с нужным городом,\n",
    " методом count() посчитает количество значений в колонке user_id. \n",
    " Это количество функция вернёт в качестве результата.    \n",
    "    \"\"\"\n",
    "    track_list = df.loc[df['day'] == day] \n",
    "    track_list = track_list.loc[track_list['city'] == city]\n",
    "    track_list_count = track_list['user_id'].count()\n",
    "    return track_list_count"
   ]
  },
  {
   "cell_type": "markdown",
   "metadata": {
    "id": "ytf7xFrFJQ2r"
   },
   "source": [
    "Вызову функцию `number_tracks()` шесть раз, меняя значение параметров — так, чтобы получить данные для каждого города в каждый из трёх дней."
   ]
  },
  {
   "cell_type": "code",
   "execution_count": 81,
   "metadata": {
    "id": "rJcRATNQ_Zcu"
   },
   "outputs": [
    {
     "data": {
      "text/plain": [
       "15740"
      ]
     },
     "execution_count": 81,
     "metadata": {},
     "output_type": "execute_result"
    }
   ],
   "source": [
    "number_track('Monday', 'Moscow')  # количество прослушиваний в Москве по понедельникам"
   ]
  },
  {
   "cell_type": "code",
   "execution_count": 82,
   "metadata": {
    "id": "hq_ncZ5T_Zcu"
   },
   "outputs": [
    {
     "data": {
      "text/plain": [
       "5614"
      ]
     },
     "execution_count": 82,
     "metadata": {},
     "output_type": "execute_result"
    }
   ],
   "source": [
    "number_track('Monday', 'Saint-Petersburg') # количество прослушиваний в Санкт-Петербурге по понедельникам"
   ]
  },
  {
   "cell_type": "code",
   "execution_count": 83,
   "metadata": {
    "id": "_NTy2VPU_Zcu",
    "scrolled": true
   },
   "outputs": [
    {
     "data": {
      "text/plain": [
       "11056"
      ]
     },
     "execution_count": 83,
     "metadata": {},
     "output_type": "execute_result"
    }
   ],
   "source": [
    "number_track('Wednesday', 'Moscow')  # количество прослушиваний в Москве по средам"
   ]
  },
  {
   "cell_type": "code",
   "execution_count": 84,
   "metadata": {
    "id": "j2y3TAwo_Zcu"
   },
   "outputs": [
    {
     "data": {
      "text/plain": [
       "7003"
      ]
     },
     "execution_count": 84,
     "metadata": {},
     "output_type": "execute_result"
    }
   ],
   "source": [
    "number_track('Wednesday', 'Saint-Petersburg') # количество прослушиваний в Санкт-Петербурге по средам"
   ]
  },
  {
   "cell_type": "code",
   "execution_count": 85,
   "metadata": {
    "id": "vYDw5u_K_Zcu"
   },
   "outputs": [
    {
     "data": {
      "text/plain": [
       "15945"
      ]
     },
     "execution_count": 85,
     "metadata": {},
     "output_type": "execute_result"
    }
   ],
   "source": [
    "number_track('Friday', 'Moscow') # количество прослушиваний в Москве по пятницам"
   ]
  },
  {
   "cell_type": "code",
   "execution_count": 86,
   "metadata": {
    "id": "8_yzFtW3_Zcu"
   },
   "outputs": [
    {
     "data": {
      "text/plain": [
       "5895"
      ]
     },
     "execution_count": 86,
     "metadata": {},
     "output_type": "execute_result"
    }
   ],
   "source": [
    "number_track('Friday', 'Saint-Petersburg')  # количество прослушиваний в Санкт-Петербурге по пятницам"
   ]
  },
  {
   "cell_type": "markdown",
   "metadata": {
    "id": "7QXffbO-_Zcu"
   },
   "source": [
    "Создам c помощью конструктора `pd.DataFrame` таблицу, где:\n",
    "* названия колонок — `['city', 'monday', 'wednesday', 'friday']`;\n",
    "* данные — результаты, которые вы получили с помощью `number_tracks`."
   ]
  },
  {
   "cell_type": "code",
   "execution_count": 87,
   "metadata": {
    "id": "APAcLpOr_Zcu"
   },
   "outputs": [],
   "source": [
    "table_result = pd.DataFrame(data={'city': ['Moscow', 'Saint-Petersburg'], 'monday': [15740, 5614], 'wednesday': [11056, 7003], 'friday': [15945, 5895]})   # Таблица с результатами"
   ]
  },
  {
   "cell_type": "code",
   "execution_count": 88,
   "metadata": {},
   "outputs": [
    {
     "data": {
      "text/html": [
       "<div>\n",
       "<style scoped>\n",
       "    .dataframe tbody tr th:only-of-type {\n",
       "        vertical-align: middle;\n",
       "    }\n",
       "\n",
       "    .dataframe tbody tr th {\n",
       "        vertical-align: top;\n",
       "    }\n",
       "\n",
       "    .dataframe thead th {\n",
       "        text-align: right;\n",
       "    }\n",
       "</style>\n",
       "<table border=\"1\" class=\"dataframe\">\n",
       "  <thead>\n",
       "    <tr style=\"text-align: right;\">\n",
       "      <th></th>\n",
       "      <th>city</th>\n",
       "      <th>monday</th>\n",
       "      <th>wednesday</th>\n",
       "      <th>friday</th>\n",
       "    </tr>\n",
       "  </thead>\n",
       "  <tbody>\n",
       "    <tr>\n",
       "      <th>0</th>\n",
       "      <td>Moscow</td>\n",
       "      <td>15740</td>\n",
       "      <td>11056</td>\n",
       "      <td>15945</td>\n",
       "    </tr>\n",
       "    <tr>\n",
       "      <th>1</th>\n",
       "      <td>Saint-Petersburg</td>\n",
       "      <td>5614</td>\n",
       "      <td>7003</td>\n",
       "      <td>5895</td>\n",
       "    </tr>\n",
       "  </tbody>\n",
       "</table>\n",
       "</div>"
      ],
      "text/plain": [
       "               city  monday  wednesday  friday\n",
       "0            Moscow   15740      11056   15945\n",
       "1  Saint-Petersburg    5614       7003    5895"
      ]
     },
     "execution_count": 88,
     "metadata": {},
     "output_type": "execute_result"
    }
   ],
   "source": [
    "table_result"
   ]
  },
  {
   "cell_type": "markdown",
   "metadata": {
    "id": "-EgPIHYu_Zcu"
   },
   "source": [
    "**Выводы**\n",
    "\n",
    "Данные показывают разницу поведения пользователей:\n",
    "\n",
    "- В Москве *пик* прослушиваний приходится на *понедельник и пятницу*, а в *среду* заметен *спад*.\n",
    "- В Питере, наоборот, больше слушают музыку по *средам*. Активность в понедельник и пятницу здесь почти в равной мере уступает среде.\n",
    "\n",
    "Значит, данные говорят в пользу первой гипотезы."
   ]
  },
  {
   "cell_type": "markdown",
   "metadata": {
    "id": "atZAxtq4_Zcu"
   },
   "source": [
    "### Музыка в начале и в конце недели"
   ]
  },
  {
   "cell_type": "markdown",
   "metadata": {
    "id": "eXrQqXFH_Zcu"
   },
   "source": [
    "Согласно второй гипотезе, утром в понедельник в столице преобладают одни жанры, а в Питере — другие. Так же и вечером пятницы преобладают разные жанры — в зависимости от города."
   ]
  },
  {
   "cell_type": "markdown",
   "metadata": {
    "id": "S8UcW6Hw_Zcu"
   },
   "source": [
    "Сохраню таблицы с данными в две переменные:\n",
    "* по Москве — в `moscow_general`;\n",
    "* по Санкт-Петербургу — в `spb_general`."
   ]
  },
  {
   "cell_type": "code",
   "execution_count": 89,
   "metadata": {
    "id": "qeaFfM_P_Zcu"
   },
   "outputs": [],
   "source": [
    "moscow_general = df.loc[df['city'] == 'Moscow']  # получение таблицы moscow_general из тех строк таблицы df, \n",
    "# для которых значение в столбце 'city' равно 'Moscow'"
   ]
  },
  {
   "cell_type": "code",
   "execution_count": 90,
   "metadata": {
    "id": "ORaVRKto_Zcu"
   },
   "outputs": [],
   "source": [
    "spb_general = df.loc[df['city'] == 'Saint-Petersburg']    # получение таблицы spb_general из тех строк таблицы df,\n",
    "# для которых значение в столбце 'city' равно 'Saint-Petersburg'"
   ]
  },
  {
   "cell_type": "markdown",
   "metadata": {
    "id": "MEJV-CX2_Zcu"
   },
   "source": [
    "Создам функцию `genre_weekday()` с четырьмя параметрами:\n",
    "* таблица (датафрейм) с данными,\n",
    "* день недели,\n",
    "* начальная временная метка в формате 'hh:mm', \n",
    "* последняя временная метка в формате 'hh:mm'.\n",
    "\n",
    "Функция вернет информацию о топ-10 жанров тех треков, которые прослушивали в указанный день, в промежутке между двумя отметками времени."
   ]
  },
  {
   "cell_type": "code",
   "execution_count": 91,
   "metadata": {
    "id": "laJT9BYl_Zcu"
   },
   "outputs": [],
   "source": [
    "def genre_weekday(table, day, time1, time2): \n",
    "    '''\n",
    " Функция возвращает информацию о самых популярных жанрах в указанный день в\n",
    " заданное время:\n",
    " 1) в переменную genre_df сохраняются те строки переданного датафрейма table, для\n",
    "    которых одновременно:\n",
    "    - значение в столбце day равно значению аргумента day\n",
    "    - значение в столбце time больше значения аргумента time1\n",
    "    - значение в столбце time меньше значения аргумента time2\n",
    "    Используйте последовательную фильтрацию с помощью логической индексации.\n",
    " 2) сгруппировать датафрейм genre_df по столбцу genre, взять один из его\n",
    "    столбцов и посчитать методом count() количество записей для каждого из\n",
    "    присутствующих жанров, получившийся Series записать в переменную\n",
    "    genre_df_count\n",
    " 3) отсортировать genre_df_count по убыванию встречаемости и сохранить\n",
    "    в переменную genre_df_sorted\n",
    "4) вернуть Series из 10 первых значений genre_df_sorted, это будут топ-10\n",
    "    популярных жанров (в указанный день, в заданное время)\n",
    "    '''\n",
    "    genre_df = table.loc[table['day'] == day]\n",
    "    genre_df = genre_df.loc[genre_df['time'] > time1]\n",
    "    genre_df = genre_df.loc[genre_df['time'] < time2]\n",
    "    genre_df_count = genre_df.groupby('genre')['genre'].count()\n",
    "    genre_df_sorted =  genre_df_count.sort_values(ascending=False)\n",
    "    return genre_df_sorted.head(10)\n"
   ]
  },
  {
   "cell_type": "markdown",
   "metadata": {
    "id": "la2s2_PF_Zcu"
   },
   "source": [
    "Cравню результаты функции `genre_weekday()` для Москвы и СПб в понедельник утром (с 7:00 до 11:00) и в пятницу вечером (с 17:00 до 23:00):"
   ]
  },
  {
   "cell_type": "code",
   "execution_count": 92,
   "metadata": {
    "id": "yz7itPUQ_Zcu"
   },
   "outputs": [
    {
     "data": {
      "text/plain": [
       "genre\n",
       "pop            781\n",
       "dance          549\n",
       "electronic     480\n",
       "rock           474\n",
       "hiphop         286\n",
       "ruspop         186\n",
       "world          181\n",
       "rusrap         175\n",
       "alternative    164\n",
       "unknown        161\n",
       "Name: genre, dtype: int64"
      ]
     },
     "execution_count": 92,
     "metadata": {},
     "output_type": "execute_result"
    }
   ],
   "source": [
    "genre_weekday(moscow_general, 'Monday', '07:00', '11:00')  \n",
    "# вызов функции для утра понедельника в Москве (вместо df — таблица moscow_general)\n",
    "# объекты, хранящие время, являются строками и сравниваются как строки\n",
    "# пример вызова: genre_weekday(moscow_general, 'Monday', '07:00', '11:00')"
   ]
  },
  {
   "cell_type": "code",
   "execution_count": 93,
   "metadata": {
    "id": "kwUcHPdy_Zcu"
   },
   "outputs": [
    {
     "data": {
      "text/plain": [
       "genre\n",
       "pop            218\n",
       "dance          182\n",
       "rock           162\n",
       "electronic     147\n",
       "hiphop          80\n",
       "ruspop          64\n",
       "alternative     58\n",
       "rusrap          55\n",
       "jazz            44\n",
       "classical       40\n",
       "Name: genre, dtype: int64"
      ]
     },
     "execution_count": 93,
     "metadata": {},
     "output_type": "execute_result"
    }
   ],
   "source": [
    "genre_weekday(spb_general, 'Monday', '07:00', '11:00')  # вызов функции для утра понедельника в Петербурге (вместо df — таблица spb_general)"
   ]
  },
  {
   "cell_type": "code",
   "execution_count": 94,
   "metadata": {
    "id": "EzXVRE1o_Zcu"
   },
   "outputs": [
    {
     "data": {
      "text/plain": [
       "genre\n",
       "pop            713\n",
       "rock           517\n",
       "dance          495\n",
       "electronic     482\n",
       "hiphop         273\n",
       "world          208\n",
       "ruspop         170\n",
       "alternative    163\n",
       "classical      163\n",
       "rusrap         142\n",
       "Name: genre, dtype: int64"
      ]
     },
     "execution_count": 94,
     "metadata": {},
     "output_type": "execute_result"
    }
   ],
   "source": [
    "genre_weekday(moscow_general, 'Friday', '17:00', '23:00') # вызов функции для вечера пятницы в Москве"
   ]
  },
  {
   "cell_type": "code",
   "execution_count": 95,
   "metadata": {
    "id": "JZaEKu5v_Zcu"
   },
   "outputs": [
    {
     "data": {
      "text/plain": [
       "genre\n",
       "pop            256\n",
       "electronic     216\n",
       "rock           216\n",
       "dance          210\n",
       "hiphop          97\n",
       "alternative     63\n",
       "jazz            61\n",
       "classical       60\n",
       "rusrap          59\n",
       "world           54\n",
       "Name: genre, dtype: int64"
      ]
     },
     "execution_count": 95,
     "metadata": {},
     "output_type": "execute_result"
    }
   ],
   "source": [
    "genre_weekday(spb_general, 'Friday', '17:00', '23:00') # вызов функции для вечера пятницы в Петербурге"
   ]
  },
  {
   "cell_type": "markdown",
   "metadata": {
    "id": "wrCe4MNX_Zcu"
   },
   "source": [
    "**Выводы**\n",
    "\n",
    "Если сравнить топ-10 жанров в понедельник утром, можно сделать такие выводы:\n",
    "\n",
    "1. В Москве и Петербурге слушают похожую музыку. Единственное отличие — в московский рейтинг вошёл жанр *“world”*, а в петербургский — *джаз* и *классика*.\n",
    "\n",
    "2. В Москве пропущенных значений оказалось так много, что значение `'unknown'` заняло десятое место среди самых популярных жанров. Значит, пропущенные значения занимают существенную долю в данных и угрожают достоверности исследования.\n",
    "\n",
    "Вечер пятницы не меняет эту картину. Некоторые жанры поднимаются немного выше, другие спускаются, но в целом топ-10 остаётся тем же самым.\n",
    "\n",
    "Таким образом, *вторая гипотеза* подтвердилась лишь *частично*:\n",
    "* Пользователи слушают похожую музыку в начале недели и в конце.\n",
    "* Разница между Москвой и Петербургом не слишком выражена. В Москве чаще слушают русскую популярную музыку, в Петербурге — джаз.\n",
    "\n",
    "Однако пропуски в данных ставят под сомнение этот результат. В Москве их так много, что рейтинг топ-10 мог бы выглядеть иначе, если бы не утерянные  данные о жанрах."
   ]
  },
  {
   "cell_type": "markdown",
   "metadata": {
    "id": "JolODAqr_Zcu"
   },
   "source": [
    "### Жанровые предпочтения в Москве и Петербурге\n",
    "\n",
    "Гипотеза: СПб — столица рэпа, музыку этого жанра там слушают чаще, чем в столице России. А Moscow — большой город контрастов, в котором, преобладает поп-музыка."
   ]
  },
  {
   "cell_type": "markdown",
   "metadata": {
    "id": "DlegSvaT_Zcu"
   },
   "source": [
    "Сгруппирую таблицу `moscow_general` по жанру и посчитаю прослушивания треков каждого жанра методом `count()`. Затем отсортирую результат в порядке убывания и сохраню его в таблице `moscow_genres`."
   ]
  },
  {
   "cell_type": "code",
   "execution_count": 96,
   "metadata": {
    "id": "r19lIPke_Zcu"
   },
   "outputs": [],
   "source": [
    "moscow_genres = moscow_general.groupby('genre')['track'].count()  # одной строкой: группировка таблицы moscow_general по столбцу 'genre', # подсчёт числа значений 'genre' в этой группировке методом count(),\n",
    "moscow_genres = moscow_genres.sort_values(ascending=False)  # сортировка получившегося Series в порядке убывания и сохранение в moscow_genres"
   ]
  },
  {
   "cell_type": "markdown",
   "metadata": {
    "id": "6kMuomxTiIr8"
   },
   "source": [
    "Выведу на экран первые десять строк `moscow_genres`:"
   ]
  },
  {
   "cell_type": "code",
   "execution_count": 97,
   "metadata": {
    "id": "WhCSooF8_Zcv"
   },
   "outputs": [
    {
     "data": {
      "text/plain": [
       "genre\n",
       "pop            5892\n",
       "dance          4435\n",
       "rock           3965\n",
       "electronic     3786\n",
       "hiphop         2096\n",
       "classical      1616\n",
       "world          1432\n",
       "alternative    1379\n",
       "ruspop         1372\n",
       "rusrap         1161\n",
       "Name: track, dtype: int64"
      ]
     },
     "execution_count": 97,
     "metadata": {},
     "output_type": "execute_result"
    }
   ],
   "source": [
    "moscow_genres.head(10)   # просмотр первых 10 строк moscow_genres"
   ]
  },
  {
   "cell_type": "markdown",
   "metadata": {
    "id": "cnPG2vnN_Zcv"
   },
   "source": [
    "Теперь повторю то же и для Петербурга.\n",
    "\n",
    "Сгруппирую таблицу `spb_general` по жанру. Посчитаю прослушивания треков каждого жанра. Результат отсортирую в порядке убывания и сохраню в таблице `spb_genres`:"
   ]
  },
  {
   "cell_type": "code",
   "execution_count": 98,
   "metadata": {
    "id": "gluLIpE7_Zcv"
   },
   "outputs": [],
   "source": [
    "# одной строкой: группировка таблицы spb_general по столбцу 'genre',\n",
    "# подсчёт числа значений 'genre' в этой группировке методом count():\n",
    "spb_genres = spb_general.groupby('genre')['track'].count() \n",
    "\n",
    "\n",
    "# сортировка получившегося Series в порядке убывания и сохранение в spb_genres:\n",
    "spb_genres = spb_genres.sort_values(ascending=False)"
   ]
  },
  {
   "cell_type": "markdown",
   "metadata": {
    "id": "5Doha_ODgyQ8"
   },
   "source": [
    "Выведите на экран первые десять строк `spb_genres`:"
   ]
  },
  {
   "cell_type": "code",
   "execution_count": 99,
   "metadata": {
    "id": "uaGJHjVU_Zcv"
   },
   "outputs": [
    {
     "data": {
      "text/plain": [
       "genre\n",
       "pop            2431\n",
       "dance          1932\n",
       "rock           1879\n",
       "electronic     1736\n",
       "hiphop          960\n",
       "alternative     649\n",
       "classical       646\n",
       "rusrap          564\n",
       "ruspop          538\n",
       "world           515\n",
       "Name: track, dtype: int64"
      ]
     },
     "execution_count": 99,
     "metadata": {},
     "output_type": "execute_result"
    }
   ],
   "source": [
    "spb_genres.head(10)  # просмотр первых 10 строк spb_genres"
   ]
  },
  {
   "cell_type": "markdown",
   "metadata": {
    "id": "RY51YJYu_Zcv"
   },
   "source": [
    "**Выводы**"
   ]
  },
  {
   "cell_type": "markdown",
   "metadata": {
    "id": "nVhnJEm__Zcv"
   },
   "source": [
    "Гипотеза *частично* подтвердилась:\n",
    "* Поп-музыка — самый популярный жанр в столице, как и предполагала гипотеза. Более того, в топ-10 жанров встречается близкий жанр — русская популярная музыка.\n",
    "* Вопреки ожиданиям, рэп одинаково популярен в Москве и Питере. \n"
   ]
  },
  {
   "cell_type": "markdown",
   "metadata": {
    "id": "ykKQ0N65_Zcv"
   },
   "source": [
    "## Итоги исследования"
   ]
  },
  {
   "cell_type": "markdown",
   "metadata": {
    "id": "tjUwbHb3_Zcv"
   },
   "source": [
    "Я проверила три гипотезы и установила:\n",
    "\n",
    "1. День недели по-разному влияет на активность пользователей в Москве и Петербурге. \n",
    "\n",
    "*Первая гипотеза полностью подтвердилась.*\n",
    "\n",
    "2. Музыкальные предпочтения *не сильно меняются в течение недели* — будь то Москва или СПб. Небольшие различия заметны в начале недели, по понедельникам:\n",
    "* в столице слушают музыку жанра “world”,\n",
    "* в Питере — джаз и классику.\n",
    "\n",
    "Таким образом, *вторая гипотеза подтвердилась лишь отчасти*. Этот результат мог оказаться иным, если бы не пропуски в данных.\n",
    "\n",
    "3. Во вкусах пользователей Москвы и Петербурга больше общего чем различий. Вопреки ожиданиям, предпочтения жанров в Петербурге напоминают московские.\n",
    "\n",
    "*Третья гипотеза не подтвердилась*. Если различия в предпочтениях и существуют, на основной массе пользователей они незаметны.\n",
    "\n"
   ]
  }
 ],
 "metadata": {
  "ExecuteTimeLog": [
   {
    "duration": 556,
    "start_time": "2021-12-27T08:03:31.908Z"
   },
   {
    "duration": 133,
    "start_time": "2021-12-27T08:05:04.850Z"
   },
   {
    "duration": 109,
    "start_time": "2021-12-27T08:05:25.405Z"
   },
   {
    "duration": 2207,
    "start_time": "2021-12-27T08:05:51.498Z"
   },
   {
    "duration": 141,
    "start_time": "2021-12-27T08:06:47.796Z"
   },
   {
    "duration": 149,
    "start_time": "2021-12-27T08:06:53.522Z"
   },
   {
    "duration": 18,
    "start_time": "2021-12-27T08:08:59.367Z"
   },
   {
    "duration": 26,
    "start_time": "2021-12-27T08:16:14.036Z"
   },
   {
    "duration": 4,
    "start_time": "2021-12-27T08:24:16.072Z"
   },
   {
    "duration": 21,
    "start_time": "2021-12-27T08:26:37.307Z"
   },
   {
    "duration": 4,
    "start_time": "2021-12-27T08:26:49.298Z"
   },
   {
    "duration": 23,
    "start_time": "2021-12-27T08:28:01.610Z"
   },
   {
    "duration": 210,
    "start_time": "2021-12-27T08:50:37.621Z"
   },
   {
    "duration": 3,
    "start_time": "2021-12-27T08:51:46.053Z"
   },
   {
    "duration": 3,
    "start_time": "2021-12-27T08:51:50.777Z"
   },
   {
    "duration": 3,
    "start_time": "2021-12-27T08:52:07.861Z"
   },
   {
    "duration": 15,
    "start_time": "2021-12-27T08:54:26.702Z"
   },
   {
    "duration": 22,
    "start_time": "2021-12-27T08:54:44.937Z"
   },
   {
    "duration": 18,
    "start_time": "2021-12-27T08:55:01.914Z"
   },
   {
    "duration": 22,
    "start_time": "2021-12-27T08:55:03.040Z"
   },
   {
    "duration": 57,
    "start_time": "2021-12-27T08:58:08.234Z"
   },
   {
    "duration": 65,
    "start_time": "2021-12-27T08:58:40.545Z"
   },
   {
    "duration": 58,
    "start_time": "2021-12-27T08:59:04.780Z"
   },
   {
    "duration": 6,
    "start_time": "2021-12-27T09:17:22.355Z"
   },
   {
    "duration": 3,
    "start_time": "2021-12-27T09:38:59.910Z"
   },
   {
    "duration": 3,
    "start_time": "2021-12-27T09:39:02.561Z"
   },
   {
    "duration": 3,
    "start_time": "2021-12-27T09:43:55.269Z"
   },
   {
    "duration": 450,
    "start_time": "2021-12-27T09:45:14.238Z"
   },
   {
    "duration": 3,
    "start_time": "2021-12-27T09:46:35.977Z"
   },
   {
    "duration": 4,
    "start_time": "2021-12-27T09:46:45.417Z"
   },
   {
    "duration": 17,
    "start_time": "2021-12-27T09:46:52.211Z"
   },
   {
    "duration": 7,
    "start_time": "2021-12-27T09:47:17.541Z"
   },
   {
    "duration": 7,
    "start_time": "2021-12-27T09:47:20.366Z"
   },
   {
    "duration": 309,
    "start_time": "2021-12-27T09:54:04.595Z"
   },
   {
    "duration": 8,
    "start_time": "2021-12-27T09:54:23.698Z"
   },
   {
    "duration": 8,
    "start_time": "2021-12-27T09:54:25.798Z"
   },
   {
    "duration": 611,
    "start_time": "2021-12-27T09:55:09.670Z"
   },
   {
    "duration": 140,
    "start_time": "2021-12-27T09:55:11.746Z"
   },
   {
    "duration": 16,
    "start_time": "2021-12-27T09:55:12.684Z"
   },
   {
    "duration": 25,
    "start_time": "2021-12-27T09:55:14.311Z"
   },
   {
    "duration": 4,
    "start_time": "2021-12-27T09:55:17.454Z"
   },
   {
    "duration": 20,
    "start_time": "2021-12-27T09:55:19.159Z"
   },
   {
    "duration": 4,
    "start_time": "2021-12-27T09:55:21.006Z"
   },
   {
    "duration": 22,
    "start_time": "2021-12-27T09:55:22.145Z"
   },
   {
    "duration": 17,
    "start_time": "2021-12-27T09:55:23.949Z"
   },
   {
    "duration": 23,
    "start_time": "2021-12-27T09:55:26.530Z"
   },
   {
    "duration": 57,
    "start_time": "2021-12-27T09:55:28.677Z"
   },
   {
    "duration": 73,
    "start_time": "2021-12-27T09:55:31.066Z"
   },
   {
    "duration": 56,
    "start_time": "2021-12-27T09:55:32.478Z"
   },
   {
    "duration": 6,
    "start_time": "2021-12-27T09:55:37.972Z"
   },
   {
    "duration": 8,
    "start_time": "2021-12-27T09:55:54.198Z"
   },
   {
    "duration": 24,
    "start_time": "2021-12-27T09:56:21.606Z"
   },
   {
    "duration": 18,
    "start_time": "2021-12-27T09:56:27.656Z"
   },
   {
    "duration": 2981,
    "start_time": "2021-12-27T09:56:56.794Z"
   },
   {
    "duration": 5,
    "start_time": "2021-12-27T09:57:18.703Z"
   },
   {
    "duration": 19,
    "start_time": "2021-12-27T09:57:39.859Z"
   },
   {
    "duration": 20,
    "start_time": "2021-12-27T09:58:57.843Z"
   },
   {
    "duration": 4,
    "start_time": "2021-12-27T10:01:46.980Z"
   },
   {
    "duration": 10,
    "start_time": "2021-12-27T10:01:51.331Z"
   },
   {
    "duration": 2,
    "start_time": "2021-12-27T10:04:10.452Z"
   },
   {
    "duration": 3,
    "start_time": "2021-12-27T10:04:51.397Z"
   },
   {
    "duration": 3,
    "start_time": "2021-12-27T10:04:57.420Z"
   },
   {
    "duration": 3,
    "start_time": "2021-12-27T10:14:34.107Z"
   },
   {
    "duration": 26,
    "start_time": "2021-12-27T10:15:05.623Z"
   },
   {
    "duration": 16,
    "start_time": "2021-12-27T10:17:26.883Z"
   },
   {
    "duration": 21,
    "start_time": "2021-12-27T10:17:40.095Z"
   },
   {
    "duration": 3,
    "start_time": "2021-12-27T10:20:14.662Z"
   },
   {
    "duration": 4,
    "start_time": "2021-12-27T10:20:52.477Z"
   },
   {
    "duration": 3,
    "start_time": "2021-12-27T10:21:11.828Z"
   },
   {
    "duration": 4,
    "start_time": "2021-12-27T10:23:15.573Z"
   },
   {
    "duration": 105,
    "start_time": "2021-12-27T10:26:45.635Z"
   },
   {
    "duration": 3,
    "start_time": "2021-12-27T10:27:17.160Z"
   },
   {
    "duration": 3,
    "start_time": "2021-12-27T10:27:30.087Z"
   },
   {
    "duration": 4,
    "start_time": "2021-12-27T10:27:50.584Z"
   },
   {
    "duration": 4,
    "start_time": "2021-12-27T10:28:42.105Z"
   },
   {
    "duration": 3,
    "start_time": "2021-12-27T10:28:49.199Z"
   },
   {
    "duration": 4,
    "start_time": "2021-12-27T10:28:50.148Z"
   },
   {
    "duration": 4,
    "start_time": "2021-12-27T10:29:17.671Z"
   },
   {
    "duration": 3,
    "start_time": "2021-12-27T10:29:31.365Z"
   },
   {
    "duration": 3,
    "start_time": "2021-12-27T10:29:42.581Z"
   },
   {
    "duration": 3,
    "start_time": "2021-12-27T10:29:49.710Z"
   },
   {
    "duration": 4,
    "start_time": "2021-12-27T10:29:50.240Z"
   },
   {
    "duration": 4,
    "start_time": "2021-12-27T10:30:02.596Z"
   },
   {
    "duration": 4,
    "start_time": "2021-12-27T10:30:03.354Z"
   },
   {
    "duration": 2,
    "start_time": "2021-12-27T10:30:04.024Z"
   },
   {
    "duration": 3,
    "start_time": "2021-12-27T10:30:22.815Z"
   },
   {
    "duration": 3,
    "start_time": "2021-12-27T10:30:23.378Z"
   },
   {
    "duration": 3,
    "start_time": "2021-12-27T10:30:24.098Z"
   },
   {
    "duration": 2,
    "start_time": "2021-12-27T10:49:02.043Z"
   },
   {
    "duration": 145,
    "start_time": "2021-12-27T10:49:04.426Z"
   },
   {
    "duration": 10,
    "start_time": "2021-12-27T10:49:07.048Z"
   },
   {
    "duration": 25,
    "start_time": "2021-12-27T10:49:18.296Z"
   },
   {
    "duration": 5,
    "start_time": "2021-12-27T10:49:23.956Z"
   },
   {
    "duration": 20,
    "start_time": "2021-12-27T10:49:25.963Z"
   },
   {
    "duration": 4,
    "start_time": "2021-12-27T10:49:28.338Z"
   },
   {
    "duration": 39,
    "start_time": "2021-12-27T10:49:30.377Z"
   },
   {
    "duration": 28,
    "start_time": "2021-12-27T10:49:34.610Z"
   },
   {
    "duration": 40,
    "start_time": "2021-12-27T10:49:36.581Z"
   },
   {
    "duration": 67,
    "start_time": "2021-12-27T10:49:39.243Z"
   },
   {
    "duration": 66,
    "start_time": "2021-12-27T10:49:42.473Z"
   },
   {
    "duration": 52,
    "start_time": "2021-12-27T10:49:44.816Z"
   },
   {
    "duration": 8,
    "start_time": "2021-12-27T10:49:47.949Z"
   },
   {
    "duration": 3,
    "start_time": "2021-12-27T10:49:53.758Z"
   },
   {
    "duration": 11,
    "start_time": "2021-12-27T10:50:02.484Z"
   },
   {
    "duration": 52,
    "start_time": "2021-12-27T11:02:27.656Z"
   },
   {
    "duration": 7,
    "start_time": "2021-12-27T11:06:31.349Z"
   },
   {
    "duration": 259,
    "start_time": "2021-12-27T11:31:34.554Z"
   },
   {
    "duration": 3,
    "start_time": "2021-12-27T11:31:45.816Z"
   },
   {
    "duration": 3,
    "start_time": "2021-12-27T11:31:49.150Z"
   },
   {
    "duration": 18,
    "start_time": "2021-12-27T11:39:19.354Z"
   },
   {
    "duration": 21,
    "start_time": "2021-12-27T11:39:24.989Z"
   },
   {
    "duration": 20,
    "start_time": "2021-12-27T11:39:28.827Z"
   },
   {
    "duration": 22,
    "start_time": "2021-12-27T11:39:32.023Z"
   },
   {
    "duration": 21,
    "start_time": "2021-12-27T11:39:37.934Z"
   },
   {
    "duration": 22,
    "start_time": "2021-12-27T11:39:56.045Z"
   },
   {
    "duration": 33,
    "start_time": "2021-12-27T11:40:58.524Z"
   },
   {
    "duration": 21,
    "start_time": "2021-12-27T11:42:20.120Z"
   },
   {
    "duration": 20,
    "start_time": "2021-12-27T11:42:48.213Z"
   },
   {
    "duration": 11,
    "start_time": "2021-12-27T12:20:10.621Z"
   },
   {
    "duration": 3,
    "start_time": "2021-12-27T12:36:06.802Z"
   },
   {
    "duration": 209,
    "start_time": "2021-12-27T12:37:28.285Z"
   },
   {
    "duration": 219,
    "start_time": "2021-12-27T12:38:23.712Z"
   },
   {
    "duration": 452,
    "start_time": "2021-12-27T12:39:30.391Z"
   },
   {
    "duration": 3,
    "start_time": "2021-12-27T12:43:22.526Z"
   },
   {
    "duration": 5,
    "start_time": "2021-12-27T12:44:21.706Z"
   },
   {
    "duration": 5,
    "start_time": "2021-12-27T12:44:32.162Z"
   },
   {
    "duration": 4,
    "start_time": "2021-12-27T12:45:04.194Z"
   },
   {
    "duration": 10,
    "start_time": "2021-12-27T12:45:36.604Z"
   },
   {
    "duration": 15,
    "start_time": "2021-12-27T12:46:05.617Z"
   },
   {
    "duration": 20,
    "start_time": "2021-12-27T12:47:19.827Z"
   },
   {
    "duration": 26,
    "start_time": "2021-12-27T12:47:32.529Z"
   },
   {
    "duration": 27,
    "start_time": "2021-12-27T12:47:51.100Z"
   },
   {
    "duration": 28,
    "start_time": "2021-12-27T13:04:33.969Z"
   },
   {
    "duration": 20,
    "start_time": "2021-12-27T13:04:36.275Z"
   },
   {
    "duration": 3,
    "start_time": "2021-12-27T13:05:31.845Z"
   },
   {
    "duration": 380,
    "start_time": "2021-12-28T07:49:16.635Z"
   },
   {
    "duration": 760,
    "start_time": "2021-12-28T07:49:47.185Z"
   },
   {
    "duration": 194,
    "start_time": "2021-12-28T07:49:47.948Z"
   },
   {
    "duration": 31,
    "start_time": "2021-12-28T07:49:48.146Z"
   },
   {
    "duration": 34,
    "start_time": "2021-12-28T07:49:48.180Z"
   },
   {
    "duration": 5,
    "start_time": "2021-12-28T07:49:48.216Z"
   },
   {
    "duration": 61,
    "start_time": "2021-12-28T07:49:48.224Z"
   },
   {
    "duration": 7,
    "start_time": "2021-12-28T07:49:48.288Z"
   },
   {
    "duration": 33,
    "start_time": "2021-12-28T07:49:48.297Z"
   },
   {
    "duration": 45,
    "start_time": "2021-12-28T07:49:48.333Z"
   },
   {
    "duration": 30,
    "start_time": "2021-12-28T07:49:48.381Z"
   },
   {
    "duration": 115,
    "start_time": "2021-12-28T07:49:48.413Z"
   },
   {
    "duration": 123,
    "start_time": "2021-12-28T07:49:48.530Z"
   },
   {
    "duration": 89,
    "start_time": "2021-12-28T07:49:48.655Z"
   },
   {
    "duration": 22,
    "start_time": "2021-12-28T07:49:48.747Z"
   },
   {
    "duration": 4,
    "start_time": "2021-12-28T07:49:48.772Z"
   },
   {
    "duration": 23,
    "start_time": "2021-12-28T07:49:48.778Z"
   },
   {
    "duration": 12,
    "start_time": "2021-12-28T07:49:48.803Z"
   },
   {
    "duration": 59,
    "start_time": "2021-12-28T07:49:48.817Z"
   },
   {
    "duration": 27,
    "start_time": "2021-12-28T07:49:48.878Z"
   },
   {
    "duration": 24,
    "start_time": "2021-12-28T07:50:00.436Z"
   },
   {
    "duration": 97,
    "start_time": "2021-12-28T08:10:24.115Z"
   },
   {
    "duration": 145,
    "start_time": "2021-12-28T08:10:38.542Z"
   },
   {
    "duration": 94,
    "start_time": "2021-12-28T08:10:42.580Z"
   },
   {
    "duration": 93,
    "start_time": "2021-12-28T08:11:17.675Z"
   },
   {
    "duration": 5,
    "start_time": "2021-12-28T08:13:48.165Z"
   },
   {
    "duration": 26,
    "start_time": "2021-12-28T08:14:45.156Z"
   },
   {
    "duration": 5,
    "start_time": "2021-12-28T08:15:33.256Z"
   },
   {
    "duration": 56,
    "start_time": "2021-12-28T08:15:36.272Z"
   },
   {
    "duration": 6,
    "start_time": "2021-12-28T08:16:50.510Z"
   },
   {
    "duration": 725,
    "start_time": "2021-12-28T08:16:51.192Z"
   },
   {
    "duration": 7,
    "start_time": "2021-12-28T08:17:06.190Z"
   },
   {
    "duration": 54,
    "start_time": "2021-12-28T08:17:06.604Z"
   },
   {
    "duration": 6,
    "start_time": "2021-12-28T08:17:26.075Z"
   },
   {
    "duration": 44,
    "start_time": "2021-12-28T08:17:26.705Z"
   },
   {
    "duration": 5,
    "start_time": "2021-12-28T08:20:31.921Z"
   },
   {
    "duration": 23,
    "start_time": "2021-12-28T08:20:32.905Z"
   },
   {
    "duration": 24,
    "start_time": "2021-12-28T08:20:42.055Z"
   },
   {
    "duration": 305,
    "start_time": "2021-12-28T08:28:43.927Z"
   },
   {
    "duration": 106,
    "start_time": "2021-12-28T08:29:17.687Z"
   },
   {
    "duration": 310,
    "start_time": "2021-12-28T08:29:28.818Z"
   },
   {
    "duration": 22,
    "start_time": "2021-12-28T08:29:44.807Z"
   },
   {
    "duration": 22,
    "start_time": "2021-12-28T08:30:35.297Z"
   },
   {
    "duration": 22,
    "start_time": "2021-12-28T08:30:58.726Z"
   },
   {
    "duration": 21,
    "start_time": "2021-12-28T08:31:33.994Z"
   },
   {
    "duration": 23,
    "start_time": "2021-12-28T08:31:49.526Z"
   },
   {
    "duration": 20,
    "start_time": "2021-12-28T08:32:13.887Z"
   },
   {
    "duration": 304,
    "start_time": "2021-12-28T08:33:47.285Z"
   },
   {
    "duration": 322,
    "start_time": "2021-12-28T08:34:20.438Z"
   },
   {
    "duration": 321,
    "start_time": "2021-12-28T08:34:29.585Z"
   },
   {
    "duration": 348,
    "start_time": "2021-12-28T08:35:54.308Z"
   },
   {
    "duration": 122,
    "start_time": "2021-12-28T08:43:58.622Z"
   },
   {
    "duration": 95,
    "start_time": "2021-12-28T08:44:41.237Z"
   },
   {
    "duration": 95,
    "start_time": "2021-12-28T08:45:32.204Z"
   },
   {
    "duration": 149,
    "start_time": "2021-12-28T08:45:46.248Z"
   },
   {
    "duration": 6,
    "start_time": "2021-12-28T08:46:33.301Z"
   },
   {
    "duration": 9,
    "start_time": "2021-12-28T08:46:48.828Z"
   },
   {
    "duration": 16,
    "start_time": "2021-12-28T08:54:48.404Z"
   },
   {
    "duration": 12,
    "start_time": "2021-12-28T08:54:50.385Z"
   },
   {
    "duration": 111,
    "start_time": "2021-12-28T09:06:21.497Z"
   },
   {
    "duration": 6,
    "start_time": "2021-12-28T09:06:30.813Z"
   },
   {
    "duration": 647,
    "start_time": "2021-12-28T09:09:50.275Z"
   },
   {
    "duration": 6,
    "start_time": "2021-12-28T09:10:13.417Z"
   },
   {
    "duration": 25,
    "start_time": "2021-12-28T09:10:16.948Z"
   },
   {
    "duration": 18,
    "start_time": "2021-12-28T09:10:59.884Z"
   },
   {
    "duration": 25,
    "start_time": "2021-12-28T09:11:35.559Z"
   },
   {
    "duration": 24,
    "start_time": "2021-12-28T09:11:52.016Z"
   },
   {
    "duration": 17,
    "start_time": "2021-12-28T09:12:09.812Z"
   },
   {
    "duration": 23,
    "start_time": "2021-12-28T09:12:13.834Z"
   },
   {
    "duration": 17,
    "start_time": "2021-12-28T09:12:17.971Z"
   },
   {
    "duration": 6,
    "start_time": "2021-12-28T09:16:24.560Z"
   },
   {
    "duration": 26,
    "start_time": "2021-12-28T09:16:27.098Z"
   },
   {
    "duration": 21,
    "start_time": "2021-12-28T09:16:29.630Z"
   },
   {
    "duration": 22,
    "start_time": "2021-12-28T09:16:32.581Z"
   },
   {
    "duration": 17,
    "start_time": "2021-12-28T09:16:34.658Z"
   },
   {
    "duration": 325,
    "start_time": "2021-12-28T09:27:33.640Z"
   },
   {
    "duration": 280,
    "start_time": "2021-12-28T09:27:43.891Z"
   },
   {
    "duration": 281,
    "start_time": "2021-12-28T09:29:11.151Z"
   },
   {
    "duration": 321,
    "start_time": "2021-12-28T09:30:17.050Z"
   },
   {
    "duration": 341,
    "start_time": "2021-12-28T09:30:19.033Z"
   },
   {
    "duration": -136,
    "start_time": "2021-12-28T09:31:33.220Z"
   },
   {
    "duration": 13,
    "start_time": "2021-12-28T09:31:43.127Z"
   },
   {
    "duration": 7281,
    "start_time": "2021-12-28T09:33:43.649Z"
   },
   {
    "duration": 7599,
    "start_time": "2021-12-28T09:34:04.529Z"
   },
   {
    "duration": 19,
    "start_time": "2021-12-28T09:34:23.420Z"
   },
   {
    "duration": 17672,
    "start_time": "2021-12-28T09:34:32.629Z"
   },
   {
    "duration": 32,
    "start_time": "2021-12-28T09:37:53.751Z"
   },
   {
    "duration": 14,
    "start_time": "2021-12-28T09:37:55.943Z"
   },
   {
    "duration": 7700,
    "start_time": "2021-12-28T09:39:25.219Z"
   },
   {
    "duration": -179,
    "start_time": "2021-12-28T09:39:33.102Z"
   },
   {
    "duration": 36,
    "start_time": "2021-12-28T09:40:25.658Z"
   },
   {
    "duration": 8694,
    "start_time": "2021-12-28T09:42:03.603Z"
   },
   {
    "duration": 11523,
    "start_time": "2021-12-28T09:42:23.510Z"
   },
   {
    "duration": 16,
    "start_time": "2021-12-28T09:43:57.567Z"
   },
   {
    "duration": 16,
    "start_time": "2021-12-28T09:44:16.536Z"
   },
   {
    "duration": 41,
    "start_time": "2021-12-28T09:44:40.894Z"
   },
   {
    "duration": 15,
    "start_time": "2021-12-28T09:45:00.648Z"
   },
   {
    "duration": 13,
    "start_time": "2021-12-28T09:45:13.402Z"
   },
   {
    "duration": 6,
    "start_time": "2021-12-28T09:45:17.583Z"
   },
   {
    "duration": 10,
    "start_time": "2021-12-28T09:45:41.199Z"
   },
   {
    "duration": 7,
    "start_time": "2021-12-28T09:45:53.025Z"
   },
   {
    "duration": 579,
    "start_time": "2021-12-29T05:35:53.832Z"
   },
   {
    "duration": 124,
    "start_time": "2021-12-29T05:35:54.413Z"
   },
   {
    "duration": 16,
    "start_time": "2021-12-29T05:35:54.539Z"
   },
   {
    "duration": 23,
    "start_time": "2021-12-29T05:35:54.557Z"
   },
   {
    "duration": 3,
    "start_time": "2021-12-29T05:35:54.582Z"
   },
   {
    "duration": 20,
    "start_time": "2021-12-29T05:35:54.586Z"
   },
   {
    "duration": 3,
    "start_time": "2021-12-29T05:35:54.608Z"
   },
   {
    "duration": 47,
    "start_time": "2021-12-29T05:35:54.613Z"
   },
   {
    "duration": 18,
    "start_time": "2021-12-29T05:35:54.662Z"
   },
   {
    "duration": 19,
    "start_time": "2021-12-29T05:35:54.681Z"
   },
   {
    "duration": 71,
    "start_time": "2021-12-29T05:35:54.701Z"
   },
   {
    "duration": 67,
    "start_time": "2021-12-29T05:35:54.774Z"
   },
   {
    "duration": 45,
    "start_time": "2021-12-29T05:35:54.843Z"
   },
   {
    "duration": 5,
    "start_time": "2021-12-29T05:35:54.890Z"
   },
   {
    "duration": 3,
    "start_time": "2021-12-29T05:35:54.897Z"
   },
   {
    "duration": 10,
    "start_time": "2021-12-29T05:35:54.901Z"
   },
   {
    "duration": 28,
    "start_time": "2021-12-29T05:35:54.913Z"
   },
   {
    "duration": 18,
    "start_time": "2021-12-29T05:35:54.943Z"
   },
   {
    "duration": 17,
    "start_time": "2021-12-29T05:35:54.962Z"
   },
   {
    "duration": 15,
    "start_time": "2021-12-29T05:35:54.981Z"
   },
   {
    "duration": 50,
    "start_time": "2021-12-29T05:35:54.997Z"
   },
   {
    "duration": 16,
    "start_time": "2021-12-29T05:35:55.049Z"
   },
   {
    "duration": 2,
    "start_time": "2021-12-29T05:35:55.068Z"
   },
   {
    "duration": 20,
    "start_time": "2021-12-29T05:35:55.072Z"
   },
   {
    "duration": 14,
    "start_time": "2021-12-29T05:35:55.093Z"
   },
   {
    "duration": 33,
    "start_time": "2021-12-29T05:35:55.109Z"
   },
   {
    "duration": 12,
    "start_time": "2021-12-29T05:35:55.143Z"
   },
   {
    "duration": 22,
    "start_time": "2021-12-29T05:35:55.156Z"
   },
   {
    "duration": 11,
    "start_time": "2021-12-29T05:35:55.180Z"
   },
   {
    "duration": 3,
    "start_time": "2021-12-29T05:35:55.193Z"
   },
   {
    "duration": 12,
    "start_time": "2021-12-29T05:35:55.198Z"
   },
   {
    "duration": 14,
    "start_time": "2021-12-29T05:35:55.211Z"
   },
   {
    "duration": 21,
    "start_time": "2021-12-29T05:35:55.227Z"
   },
   {
    "duration": 10,
    "start_time": "2021-12-29T05:35:55.249Z"
   },
   {
    "duration": 28,
    "start_time": "2021-12-29T05:35:55.260Z"
   },
   {
    "duration": 11,
    "start_time": "2021-12-29T05:35:55.289Z"
   },
   {
    "duration": 17,
    "start_time": "2021-12-29T05:35:55.301Z"
   },
   {
    "duration": 22,
    "start_time": "2021-12-29T05:35:55.319Z"
   },
   {
    "duration": 8,
    "start_time": "2021-12-29T05:35:55.343Z"
   },
   {
    "duration": 4,
    "start_time": "2021-12-29T05:35:55.352Z"
   },
   {
    "duration": 10,
    "start_time": "2021-12-29T05:35:55.358Z"
   },
   {
    "duration": 7,
    "start_time": "2021-12-29T05:35:55.369Z"
   },
   {
    "duration": 408,
    "start_time": "2021-12-29T07:09:50.803Z"
   },
   {
    "duration": 866,
    "start_time": "2021-12-29T07:10:12.835Z"
   },
   {
    "duration": 190,
    "start_time": "2021-12-29T07:10:13.704Z"
   },
   {
    "duration": 31,
    "start_time": "2021-12-29T07:10:13.898Z"
   },
   {
    "duration": 48,
    "start_time": "2021-12-29T07:10:13.933Z"
   },
   {
    "duration": 7,
    "start_time": "2021-12-29T07:10:13.984Z"
   },
   {
    "duration": 54,
    "start_time": "2021-12-29T07:10:13.993Z"
   },
   {
    "duration": 5,
    "start_time": "2021-12-29T07:10:14.050Z"
   },
   {
    "duration": 30,
    "start_time": "2021-12-29T07:10:14.058Z"
   },
   {
    "duration": 59,
    "start_time": "2021-12-29T07:10:14.092Z"
   },
   {
    "duration": 26,
    "start_time": "2021-12-29T07:10:14.154Z"
   },
   {
    "duration": 120,
    "start_time": "2021-12-29T07:10:14.183Z"
   },
   {
    "duration": 109,
    "start_time": "2021-12-29T07:10:14.306Z"
   },
   {
    "duration": 80,
    "start_time": "2021-12-29T07:10:14.418Z"
   },
   {
    "duration": 448,
    "start_time": "2021-12-29T07:10:34.420Z"
   },
   {
    "duration": 57,
    "start_time": "2021-12-29T07:10:49.677Z"
   },
   {
    "duration": 434,
    "start_time": "2021-12-29T07:14:58.047Z"
   },
   {
    "duration": 4,
    "start_time": "2021-12-29T07:15:12.045Z"
   },
   {
    "duration": 182,
    "start_time": "2021-12-29T07:15:12.053Z"
   },
   {
    "duration": 16,
    "start_time": "2021-12-29T07:15:12.238Z"
   },
   {
    "duration": 38,
    "start_time": "2021-12-29T07:15:12.257Z"
   },
   {
    "duration": 26,
    "start_time": "2021-12-29T07:15:12.298Z"
   },
   {
    "duration": 22,
    "start_time": "2021-12-29T07:15:12.326Z"
   },
   {
    "duration": 5,
    "start_time": "2021-12-29T07:15:12.352Z"
   },
   {
    "duration": 67,
    "start_time": "2021-12-29T07:15:12.360Z"
   },
   {
    "duration": 23,
    "start_time": "2021-12-29T07:15:12.431Z"
   },
   {
    "duration": 26,
    "start_time": "2021-12-29T07:15:12.457Z"
   },
   {
    "duration": 110,
    "start_time": "2021-12-29T07:15:12.486Z"
   },
   {
    "duration": 96,
    "start_time": "2021-12-29T07:15:12.599Z"
   },
   {
    "duration": 82,
    "start_time": "2021-12-29T07:15:12.697Z"
   },
   {
    "duration": 67,
    "start_time": "2021-12-29T07:15:12.782Z"
   },
   {
    "duration": 3,
    "start_time": "2021-12-29T07:15:12.852Z"
   },
   {
    "duration": 16,
    "start_time": "2021-12-29T07:15:12.857Z"
   },
   {
    "duration": 48,
    "start_time": "2021-12-29T07:15:12.875Z"
   },
   {
    "duration": 28,
    "start_time": "2021-12-29T07:15:12.925Z"
   },
   {
    "duration": 24,
    "start_time": "2021-12-29T07:15:12.956Z"
   },
   {
    "duration": 54,
    "start_time": "2021-12-29T07:15:12.983Z"
   },
   {
    "duration": 33,
    "start_time": "2021-12-29T07:15:13.040Z"
   },
   {
    "duration": 13,
    "start_time": "2021-12-29T07:15:33.218Z"
   },
   {
    "duration": 10,
    "start_time": "2021-12-29T07:15:34.452Z"
   },
   {
    "duration": 5,
    "start_time": "2021-12-29T07:20:07.652Z"
   },
   {
    "duration": 271,
    "start_time": "2021-12-29T07:20:07.660Z"
   },
   {
    "duration": 24,
    "start_time": "2021-12-29T07:20:07.935Z"
   },
   {
    "duration": 72,
    "start_time": "2021-12-29T07:20:07.963Z"
   },
   {
    "duration": 6,
    "start_time": "2021-12-29T07:20:08.039Z"
   },
   {
    "duration": 30,
    "start_time": "2021-12-29T07:20:08.047Z"
   },
   {
    "duration": 6,
    "start_time": "2021-12-29T07:20:08.082Z"
   },
   {
    "duration": 78,
    "start_time": "2021-12-29T07:20:08.092Z"
   },
   {
    "duration": 26,
    "start_time": "2021-12-29T07:20:08.173Z"
   },
   {
    "duration": 51,
    "start_time": "2021-12-29T07:20:08.201Z"
   },
   {
    "duration": 103,
    "start_time": "2021-12-29T07:20:08.254Z"
   },
   {
    "duration": 97,
    "start_time": "2021-12-29T07:20:08.359Z"
   },
   {
    "duration": 83,
    "start_time": "2021-12-29T07:20:08.458Z"
   },
   {
    "duration": 79,
    "start_time": "2021-12-29T07:20:08.544Z"
   },
   {
    "duration": 5,
    "start_time": "2021-12-29T07:20:08.626Z"
   },
   {
    "duration": 19,
    "start_time": "2021-12-29T07:20:08.634Z"
   },
   {
    "duration": 9,
    "start_time": "2021-12-29T07:20:08.656Z"
   },
   {
    "duration": 57,
    "start_time": "2021-12-29T07:20:08.668Z"
   },
   {
    "duration": 25,
    "start_time": "2021-12-29T07:20:08.730Z"
   },
   {
    "duration": 26,
    "start_time": "2021-12-29T07:20:08.758Z"
   },
   {
    "duration": 19,
    "start_time": "2021-12-29T07:20:14.933Z"
   },
   {
    "duration": 17,
    "start_time": "2021-12-29T07:20:52.158Z"
   },
   {
    "duration": 4,
    "start_time": "2021-12-29T07:21:03.838Z"
   },
   {
    "duration": 216,
    "start_time": "2021-12-29T07:21:03.846Z"
   },
   {
    "duration": 16,
    "start_time": "2021-12-29T07:21:04.065Z"
   },
   {
    "duration": 62,
    "start_time": "2021-12-29T07:21:04.084Z"
   },
   {
    "duration": 6,
    "start_time": "2021-12-29T07:21:04.149Z"
   },
   {
    "duration": 26,
    "start_time": "2021-12-29T07:21:04.157Z"
   },
   {
    "duration": 5,
    "start_time": "2021-12-29T07:21:04.185Z"
   },
   {
    "duration": 28,
    "start_time": "2021-12-29T07:21:04.224Z"
   },
   {
    "duration": 22,
    "start_time": "2021-12-29T07:21:04.256Z"
   },
   {
    "duration": 56,
    "start_time": "2021-12-29T07:21:04.281Z"
   },
   {
    "duration": 96,
    "start_time": "2021-12-29T07:21:04.340Z"
   },
   {
    "duration": 106,
    "start_time": "2021-12-29T07:21:04.438Z"
   },
   {
    "duration": 82,
    "start_time": "2021-12-29T07:21:04.547Z"
   },
   {
    "duration": 64,
    "start_time": "2021-12-29T07:21:04.631Z"
   },
   {
    "duration": 28,
    "start_time": "2021-12-29T07:21:04.697Z"
   },
   {
    "duration": 19,
    "start_time": "2021-12-29T07:21:04.727Z"
   },
   {
    "duration": 10,
    "start_time": "2021-12-29T07:21:04.748Z"
   },
   {
    "duration": 27,
    "start_time": "2021-12-29T07:21:04.761Z"
   },
   {
    "duration": 25,
    "start_time": "2021-12-29T07:21:04.823Z"
   },
   {
    "duration": 24,
    "start_time": "2021-12-29T07:21:04.850Z"
   },
   {
    "duration": 18,
    "start_time": "2021-12-29T07:21:04.876Z"
   },
   {
    "duration": 14,
    "start_time": "2021-12-29T07:21:04.924Z"
   },
   {
    "duration": 4,
    "start_time": "2021-12-29T07:21:04.941Z"
   },
   {
    "duration": 22,
    "start_time": "2021-12-29T07:21:04.951Z"
   },
   {
    "duration": 56,
    "start_time": "2021-12-29T07:21:04.976Z"
   },
   {
    "duration": 19,
    "start_time": "2021-12-29T07:21:05.034Z"
   },
   {
    "duration": 18,
    "start_time": "2021-12-29T07:21:05.055Z"
   },
   {
    "duration": 57,
    "start_time": "2021-12-29T07:21:05.076Z"
   },
   {
    "duration": 18,
    "start_time": "2021-12-29T07:21:05.135Z"
   },
   {
    "duration": 8,
    "start_time": "2021-12-29T07:21:05.155Z"
   },
   {
    "duration": 14,
    "start_time": "2021-12-29T07:21:05.165Z"
   },
   {
    "duration": 48,
    "start_time": "2021-12-29T07:21:05.181Z"
   },
   {
    "duration": 11,
    "start_time": "2021-12-29T07:21:05.232Z"
   },
   {
    "duration": 6,
    "start_time": "2021-12-29T07:21:05.245Z"
   },
   {
    "duration": 29,
    "start_time": "2021-12-29T07:21:05.253Z"
   },
   {
    "duration": 41,
    "start_time": "2021-12-29T07:21:05.284Z"
   },
   {
    "duration": 22,
    "start_time": "2021-12-29T07:21:05.327Z"
   },
   {
    "duration": 18,
    "start_time": "2021-12-29T07:21:05.351Z"
   },
   {
    "duration": 26,
    "start_time": "2021-12-29T07:21:05.372Z"
   },
   {
    "duration": 23,
    "start_time": "2021-12-29T07:21:05.400Z"
   },
   {
    "duration": 31,
    "start_time": "2021-12-29T07:21:05.425Z"
   },
   {
    "duration": 11,
    "start_time": "2021-12-29T07:21:05.458Z"
   },
   {
    "duration": 856,
    "start_time": "2021-12-29T17:13:38.925Z"
   },
   {
    "duration": 201,
    "start_time": "2021-12-29T17:13:39.784Z"
   },
   {
    "duration": 39,
    "start_time": "2021-12-29T17:13:39.989Z"
   },
   {
    "duration": 35,
    "start_time": "2021-12-29T17:13:40.032Z"
   },
   {
    "duration": 6,
    "start_time": "2021-12-29T17:13:40.070Z"
   },
   {
    "duration": 63,
    "start_time": "2021-12-29T17:13:40.078Z"
   },
   {
    "duration": 7,
    "start_time": "2021-12-29T17:13:40.144Z"
   },
   {
    "duration": 30,
    "start_time": "2021-12-29T17:13:40.155Z"
   },
   {
    "duration": 34,
    "start_time": "2021-12-29T17:13:40.218Z"
   },
   {
    "duration": 62,
    "start_time": "2021-12-29T17:13:40.255Z"
   },
   {
    "duration": 113,
    "start_time": "2021-12-29T17:13:40.321Z"
   },
   {
    "duration": 129,
    "start_time": "2021-12-29T17:13:40.437Z"
   },
   {
    "duration": 102,
    "start_time": "2021-12-29T17:13:40.568Z"
   },
   {
    "duration": 112,
    "start_time": "2021-12-29T17:13:40.673Z"
   },
   {
    "duration": 5,
    "start_time": "2021-12-29T17:13:40.788Z"
   },
   {
    "duration": 35,
    "start_time": "2021-12-29T17:13:40.796Z"
   },
   {
    "duration": 11,
    "start_time": "2021-12-29T17:13:40.835Z"
   },
   {
    "duration": 31,
    "start_time": "2021-12-29T17:13:40.849Z"
   },
   {
    "duration": 35,
    "start_time": "2021-12-29T17:13:40.919Z"
   },
   {
    "duration": 24,
    "start_time": "2021-12-29T17:13:40.956Z"
   },
   {
    "duration": 47,
    "start_time": "2021-12-29T17:13:40.982Z"
   },
   {
    "duration": 19,
    "start_time": "2021-12-29T17:13:41.032Z"
   },
   {
    "duration": 5,
    "start_time": "2021-12-29T17:13:41.056Z"
   },
   {
    "duration": 63,
    "start_time": "2021-12-29T17:13:41.064Z"
   },
   {
    "duration": 24,
    "start_time": "2021-12-29T17:13:41.129Z"
   },
   {
    "duration": 20,
    "start_time": "2021-12-29T17:13:41.156Z"
   },
   {
    "duration": 56,
    "start_time": "2021-12-29T17:13:41.178Z"
   },
   {
    "duration": 27,
    "start_time": "2021-12-29T17:13:41.237Z"
   },
   {
    "duration": 58,
    "start_time": "2021-12-29T17:13:41.267Z"
   },
   {
    "duration": 7,
    "start_time": "2021-12-29T17:13:41.328Z"
   },
   {
    "duration": 13,
    "start_time": "2021-12-29T17:13:41.338Z"
   },
   {
    "duration": 18,
    "start_time": "2021-12-29T17:13:41.353Z"
   },
   {
    "duration": 55,
    "start_time": "2021-12-29T17:13:41.374Z"
   },
   {
    "duration": 6,
    "start_time": "2021-12-29T17:13:41.432Z"
   },
   {
    "duration": 45,
    "start_time": "2021-12-29T17:13:41.442Z"
   },
   {
    "duration": 45,
    "start_time": "2021-12-29T17:13:41.489Z"
   },
   {
    "duration": 27,
    "start_time": "2021-12-29T17:13:41.537Z"
   },
   {
    "duration": 18,
    "start_time": "2021-12-29T17:13:41.566Z"
   },
   {
    "duration": 17,
    "start_time": "2021-12-29T17:13:41.619Z"
   },
   {
    "duration": 6,
    "start_time": "2021-12-29T17:13:41.639Z"
   },
   {
    "duration": 14,
    "start_time": "2021-12-29T17:13:41.647Z"
   },
   {
    "duration": 7,
    "start_time": "2021-12-29T17:13:41.663Z"
   }
  ],
  "colab": {
   "collapsed_sections": [
    "E0vqbgi9ay0H",
    "VUC88oWjTJw2"
   ],
   "name": "yandex_music_project_2021.2.ipynb",
   "provenance": []
  },
  "kernelspec": {
   "display_name": "Python 3",
   "language": "python",
   "name": "python3"
  },
  "language_info": {
   "codemirror_mode": {
    "name": "ipython",
    "version": 3
   },
   "file_extension": ".py",
   "mimetype": "text/x-python",
   "name": "python",
   "nbconvert_exporter": "python",
   "pygments_lexer": "ipython3",
   "version": "3.7.4"
  },
  "toc": {
   "base_numbering": 1,
   "nav_menu": {},
   "number_sections": true,
   "sideBar": true,
   "skip_h1_title": true,
   "title_cell": "Table of Contents",
   "title_sidebar": "Contents",
   "toc_cell": false,
   "toc_position": {
    "height": "calc(100% - 180px)",
    "left": "10px",
    "top": "150px",
    "width": "165px"
   },
   "toc_section_display": true,
   "toc_window_display": true
  }
 },
 "nbformat": 4,
 "nbformat_minor": 1
}
